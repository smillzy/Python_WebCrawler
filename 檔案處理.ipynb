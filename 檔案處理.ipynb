{
 "cells": [
  {
   "cell_type": "markdown",
   "metadata": {},
   "source": [
    "# 1. 讀檔"
   ]
  },
  {
   "cell_type": "markdown",
   "metadata": {},
   "source": [
    "### 開檔\n",
    "- ** f = open(檔名, mode) **\n",
    "\n",
    "|mode|敘述|\n",
    "|:----:|:----:|\n",
    "|r|開啟檔案處理只讀取，沒檔案會報錯|\n",
    "|rb|開啟檔案處理只讀取格式為binary|\n",
    "|r+|開啟檔案處理可讀取寫入|\n",
    "|rb+|開啟檔案處理可讀取寫入binary|\n",
    "|w|開啟檔案處理只寫入 寫入檔案。游標的位置會在檔案的最前面 如果沒有檔案會自動建立檔案，如果已經有檔案，會把檔案內的資料全部清空(會被覆蓋)|\n",
    "|w+|可讀取可寫入模式|\n",
    "|wb|開啟檔案處理只寫入二進位格式|\n",
    "|a|只允許新增 寫入檔案。游標的位置會在檔案的最後面 如果沒有檔案會自動建立檔案，如果已經有檔案，游標的位置會在檔案的最後面|\n",
    "|a+|允許新增與讀取|\n",
    "|x|可讀取可寫入模式 寫入檔案。檔案必須不存在 如果檔案已經存在，會出現錯誤訊息FileExistsError|\n",
    "|b|以二進位方式打開，聲音、影像(因為很容易遇到/0，終止)|\n",
    "    \n",
    "### 關檔\n",
    "- ** f.close()**"
   ]
  },
  {
   "cell_type": "code",
   "execution_count": 1,
   "metadata": {},
   "outputs": [],
   "source": [
    "# 開啟檔案處理處理\n",
    "f = open(\"檔案處理\\\\text.txt\", \"r\")\n",
    "\n",
    "# 關閉檔案處理處理\n",
    "f.close()"
   ]
  },
  {
   "cell_type": "markdown",
   "metadata": {},
   "source": [
    "### file.read([count]) : 讀取指定字元數"
   ]
  },
  {
   "cell_type": "code",
   "execution_count": 3,
   "metadata": {},
   "outputs": [
    {
     "name": "stdout",
     "output_type": "stream",
     "text": [
      "交易週次,市\n"
     ]
    }
   ],
   "source": [
    "# 開啟檔案處理\n",
    "f = open(\"檔案處理\\\\text.txt\", \"r\") #f是一個物件\n",
    "\n",
    "context = f.read(6) #6是只要讀取多少字元\n",
    "print(context)\n",
    "\n",
    "# 關閉檔案處理\n",
    "f.close()"
   ]
  },
  {
   "cell_type": "code",
   "execution_count": 3,
   "metadata": {},
   "outputs": [
    {
     "name": "stdout",
     "output_type": "stream",
     "text": [
      "123\t456\t789\n",
      "123\\t456\\t789\n",
      "123\t456\t\r",
      "789\n",
      "123\t456\t789\n",
      "123\\t456\\t789\n"
     ]
    }
   ],
   "source": [
    "print('123\\t456\\t789')#tab鍵\n",
    "print('123\\\\t456\\\\t789')#\\\\防止變成tab鍵\n",
    "print('123\\t456\\t\\r789')\n",
    "print(str('123\\t456\\t789'))\n",
    "print(r'123\\t456\\t789')#等同於(repr('123\\t456\\t789')) r是前綴字元"
   ]
  },
  {
   "cell_type": "markdown",
   "metadata": {},
   "source": [
    "### file.readline()：一次讀取一行，包含\\n"
   ]
  },
  {
   "cell_type": "code",
   "execution_count": 4,
   "metadata": {},
   "outputs": [
    {
     "name": "stdout",
     "output_type": "stream",
     "text": [
      "交易週次,市場價格,預估本益比\n",
      "\n"
     ]
    }
   ],
   "source": [
    "# 開啟檔案處理\n",
    "f = open(\"檔案處理\\\\text.txt\", \"r\")\n",
    "\n",
    "context = f.readline()\n",
    "print(context)\n",
    "\n",
    "# 關閉檔案處理\n",
    "f.close()"
   ]
  },
  {
   "cell_type": "markdown",
   "metadata": {},
   "source": [
    "### file.readlines()：逐行讀取全部資料"
   ]
  },
  {
   "cell_type": "code",
   "execution_count": 4,
   "metadata": {},
   "outputs": [],
   "source": [
    "print?"
   ]
  },
  {
   "cell_type": "code",
   "execution_count": 14,
   "metadata": {},
   "outputs": [
    {
     "name": "stdout",
     "output_type": "stream",
     "text": [
      "交易週次,市場價格,預估本益比\n",
      "20Y09W,320,25.2\n",
      "20Y05W,320,25.2\n",
      "20Y01W,339.5,26.73\n",
      "19Y49W,313,24.55\n",
      "19Y45W,305.5,23.84\n",
      "19Y41W,282,21.89\n",
      "19Y37W,262.5,20.27\n",
      "19Y33W,250,19.21\n",
      "19Y29W,259,19.8\n",
      "19Y25W,248.5,18.9\n",
      "19Y21W,233,17.64\n",
      "19Y17W,260,19.58\n",
      "19Y13W,245.5,18.4\n",
      "19Y09W,239,17.82\n",
      "19Y04W,226,16.77\n",
      "18Y52W,225.5,16.65\n",
      "18Y48W,225.5,16.68\n",
      "18Y44W,236.5,17.53\n"
     ]
    }
   ],
   "source": [
    "# 開啟檔案處理  #readline以行為單位，readlines以整份文件為單位\n",
    "f = open(\"檔案處理\\\\text.txt\", \"r\")\n",
    "\n",
    "for line in f.readlines(): #readlines也有\\n，但他不會針對\\n處理\n",
    "    print(line)\n",
    "\n",
    "# 關閉檔案處理\n",
    "f.close()"
   ]
  },
  {
   "cell_type": "markdown",
   "metadata": {},
   "source": [
    "### 使用本身iterate方式，逐行讀取全部資料"
   ]
  },
  {
   "cell_type": "code",
   "execution_count": 9,
   "metadata": {},
   "outputs": [
    {
     "name": "stdout",
     "output_type": "stream",
     "text": [
      "交易週次,市場價格,預估本益比\n",
      "\n",
      "20Y09W,320,25.2\n",
      "\n",
      "20Y05W,320,25.2\n",
      "\n",
      "20Y01W,339.5,26.73\n",
      "\n",
      "19Y49W,313,24.55\n",
      "\n",
      "19Y45W,305.5,23.84\n",
      "\n",
      "19Y41W,282,21.89\n",
      "\n",
      "19Y37W,262.5,20.27\n",
      "\n",
      "19Y33W,250,19.21\n",
      "\n",
      "19Y29W,259,19.8\n",
      "\n",
      "19Y25W,248.5,18.9\n",
      "\n",
      "19Y21W,233,17.64\n",
      "\n",
      "19Y17W,260,19.58\n",
      "\n",
      "19Y13W,245.5,18.4\n",
      "\n",
      "19Y09W,239,17.82\n",
      "\n",
      "19Y04W,226,16.77\n",
      "\n",
      "18Y52W,225.5,16.65\n",
      "\n",
      "18Y48W,225.5,16.68\n",
      "\n",
      "18Y44W,236.5,17.53\n",
      "\n"
     ]
    }
   ],
   "source": [
    "f = open('檔案處理\\\\text.txt')\n",
    "for line in f:\n",
    "    print(line) #print會有\\n結尾\n",
    "f.close()"
   ]
  },
  {
   "cell_type": "code",
   "execution_count": 5,
   "metadata": {},
   "outputs": [
    {
     "name": "stdout",
     "output_type": "stream",
     "text": [
      "交易週次,市場價格,預估本益比\n",
      "20Y09W,320,25.2\n",
      "20Y05W,320,25.2\n",
      "20Y01W,339.5,26.73\n",
      "19Y49W,313,24.55\n",
      "19Y45W,305.5,23.84\n",
      "19Y41W,282,21.89\n",
      "19Y37W,262.5,20.27\n",
      "19Y33W,250,19.21\n",
      "19Y29W,259,19.8\n",
      "19Y25W,248.5,18.9\n",
      "19Y21W,233,17.64\n",
      "19Y17W,260,19.58\n",
      "19Y13W,245.5,18.4\n",
      "19Y09W,239,17.82\n",
      "19Y04W,226,16.77\n",
      "18Y52W,225.5,16.65\n",
      "18Y48W,225.5,16.68\n",
      "18Y44W,236.5,17.53\n"
     ]
    }
   ],
   "source": [
    "f = open('檔案處理\\\\text.txt')\n",
    "for line in f:\n",
    "    print(line.strip()) #去除每行\\n，第二種方法print(line.replace('\\n',''))\n",
    "f.close()"
   ]
  },
  {
   "cell_type": "markdown",
   "metadata": {},
   "source": [
    "### 防止開檔錯誤\n",
    "##### 路徑防止遇到跳多字元 \"\\\\\"，所以建議在路徑上加上 \"r\"\n",
    "|字元格式|字元功能|字元格式|字元功能|\n",
    "--|--|--|--\n",
    "|\\r|游標移到列首。|\\\\\"|插入雙引號。|\n",
    "|\\b|後退鍵(BackSpace)。|\\\\'|插入單引號。|\n",
    "|\\t|移到下一定位，即【Tab】鍵。|\\\\|插入反斜線。|\n",
    "|\\n|換行。|\\a| 發出警告聲。 |\n",
    "|\\f|煥頁。|\\x、\\o|以十六進位表示字元、以八進位表示字元。|\n"
   ]
  },
  {
   "cell_type": "code",
   "execution_count": 21,
   "metadata": {},
   "outputs": [
    {
     "name": "stdout",
     "output_type": "stream",
     "text": [
      "交易週次,市場價格,預估本益比\n",
      "20Y09W,320,25.2\n",
      "20Y05W,320,25.2\n",
      "20Y01W,339.5,26.73\n",
      "19Y49W,313,24.55\n",
      "19Y45W,305.5,23.84\n",
      "19Y41W,282,21.89\n",
      "19Y37W,262.5,20.27\n",
      "19Y33W,250,19.21\n",
      "19Y29W,259,19.8\n",
      "19Y25W,248.5,18.9\n",
      "19Y21W,233,17.64\n",
      "19Y17W,260,19.58\n",
      "19Y13W,245.5,18.4\n",
      "19Y09W,239,17.82\n",
      "19Y04W,226,16.77\n",
      "18Y52W,225.5,16.65\n",
      "18Y48W,225.5,16.68\n",
      "18Y44W,236.5,17.53\n",
      "\n",
      "關閉檔案\n"
     ]
    }
   ],
   "source": [
    "try:\n",
    "    f = open(r'.\\檔案處理\\text.txt', 'r') #開啟檔案處理\n",
    "    print(f.read())\n",
    "except IOError as err:\n",
    "    print(\"無法讀取檔案\", err)\n",
    "finally:\n",
    "    if f:\n",
    "        f.close()\n",
    "        print(\"關閉檔案\")"
   ]
  },
  {
   "cell_type": "markdown",
   "metadata": {},
   "source": [
    "### 避免開檔錯誤與忘記關檔\n",
    "### with ... as "
   ]
  },
  {
   "cell_type": "code",
   "execution_count": 6,
   "metadata": {},
   "outputs": [
    {
     "name": "stdout",
     "output_type": "stream",
     "text": [
      "交易週次,市場價格,預估本益比\n",
      "20Y09W,320,25.2\n",
      "20Y05W,320,25.2\n",
      "20Y01W,339.5,26.73\n",
      "19Y49W,313,24.55\n",
      "19Y45W,305.5,23.84\n",
      "19Y41W,282,21.89\n",
      "19Y37W,262.5,20.27\n",
      "19Y33W,250,19.21\n",
      "19Y29W,259,19.8\n",
      "19Y25W,248.5,18.9\n",
      "19Y21W,233,17.64\n",
      "19Y17W,260,19.58\n",
      "19Y13W,245.5,18.4\n",
      "19Y09W,239,17.82\n",
      "19Y04W,226,16.77\n",
      "18Y52W,225.5,16.65\n",
      "18Y48W,225.5,16.68\n",
      "18Y44W,236.5,17.53\n"
     ]
    }
   ],
   "source": [
    "with open('檔案處理\\\\text.txt', 'r') as file:\n",
    "    for line in file:\n",
    "        print(line.replace('\\n',''))    #這邊可以不用關檔，離開該區塊會自動關檔"
   ]
  },
  {
   "cell_type": "code",
   "execution_count": 13,
   "metadata": {},
   "outputs": [
    {
     "name": "stdout",
     "output_type": "stream",
     "text": [
      "交易週次,市場價格,預估本益比\n",
      "\n",
      "20Y09W,320,25.2\n",
      "\n",
      "20Y05W,320,25.2\n",
      "\n",
      "20Y01W,339.5,26.73\n",
      "\n",
      "19Y49W,313,24.55\n",
      "\n",
      "19Y45W,305.5,23.84\n",
      "\n",
      "19Y41W,282,21.89\n",
      "\n",
      "19Y37W,262.5,20.27\n",
      "\n",
      "19Y33W,250,19.21\n",
      "\n",
      "19Y29W,259,19.8\n",
      "\n",
      "19Y25W,248.5,18.9\n",
      "\n",
      "19Y21W,233,17.64\n",
      "\n",
      "19Y17W,260,19.58\n",
      "\n",
      "19Y13W,245.5,18.4\n",
      "\n",
      "19Y09W,239,17.82\n",
      "\n",
      "19Y04W,226,16.77\n",
      "\n",
      "18Y52W,225.5,16.65\n",
      "\n",
      "18Y48W,225.5,16.68\n",
      "\n",
      "18Y44W,236.5,17.53\n",
      "\n"
     ]
    }
   ],
   "source": [
    "with open(r'.\\檔案處理\\text.txt', 'r') as file:\n",
    "    for line in file:\n",
    "        print(line)"
   ]
  },
  {
   "cell_type": "markdown",
   "metadata": {},
   "source": [
    "### r前置字元\n",
    "- 處理字串中有跳脫字元：\\n、\\t、\\v、\\f、\\b、\\r"
   ]
  },
  {
   "cell_type": "markdown",
   "metadata": {},
   "source": [
    "##### 處理讀取後多一空白行"
   ]
  },
  {
   "cell_type": "code",
   "execution_count": 14,
   "metadata": {
    "scrolled": true
   },
   "outputs": [
    {
     "name": "stdout",
     "output_type": "stream",
     "text": [
      "交易週次,市場價格,預估本益比\n",
      "20Y09W,320,25.2\n",
      "20Y05W,320,25.2\n",
      "20Y01W,339.5,26.73\n",
      "19Y49W,313,24.55\n",
      "19Y45W,305.5,23.84\n",
      "19Y41W,282,21.89\n",
      "19Y37W,262.5,20.27\n",
      "19Y33W,250,19.21\n",
      "19Y29W,259,19.8\n",
      "19Y25W,248.5,18.9\n",
      "19Y21W,233,17.64\n",
      "19Y17W,260,19.58\n",
      "19Y13W,245.5,18.4\n",
      "19Y09W,239,17.82\n",
      "19Y04W,226,16.77\n",
      "18Y52W,225.5,16.65\n",
      "18Y48W,225.5,16.68\n",
      "18Y44W,236.5,17.53\n"
     ]
    }
   ],
   "source": [
    "with open('檔案處理\\\\text.txt', 'r') as file:\n",
    "    for line in file:\n",
    "        print(line.strip('\\n')) #預設是\\n有沒有帶入都不影響"
   ]
  },
  {
   "cell_type": "markdown",
   "metadata": {},
   "source": [
    "# 2. 寫檔\n",
    "#### 對於Win7以上的版本，UAC未關閉，資料寫到 C:\\ 需採用以下4種方法任一\n",
    "* 需使用管理者權限開啟Jupyter\n",
    "* C槽根目錄下新增一資料夾寫入\n",
    "* 寫入其他磁碟\n",
    "* 使用微軟工具 [Microsoft Application Compatibility Toolkit 5.6](https://www.microsoft.com/en-us/download/details.aspx?id=7352) 設定白名單，教學設定如 [DDE 在Win7、Win8、Win10上操作](http://white5168.blogspot.com/2018/09/dde-win7win8win10.html#.W8L4dtcza70)"
   ]
  },
  {
   "cell_type": "markdown",
   "metadata": {},
   "source": [
    "### f.write()：寫入字串"
   ]
  },
  {
   "cell_type": "code",
   "execution_count": 22,
   "metadata": {},
   "outputs": [
    {
     "name": "stdout",
     "output_type": "stream",
     "text": [
      "this is a test! 這是測試\n"
     ]
    }
   ],
   "source": [
    "f = open('檔案處理\\\\test.txt', 'w')\n",
    "f.write('this is a test! 這是測試')\n",
    "f.close()\n",
    "\n",
    "with open('檔案處理\\\\test.txt', 'r') as file:\n",
    "    for line in file:\n",
    "        print(line)"
   ]
  },
  {
   "cell_type": "markdown",
   "metadata": {},
   "source": [
    "### f.writelines()：寫入多行字串"
   ]
  },
  {
   "cell_type": "code",
   "execution_count": 19,
   "metadata": {},
   "outputs": [
    {
     "name": "stdout",
     "output_type": "stream",
     "text": [
      "this is a test!\n",
      "\n",
      "這是測試\n",
      "\n"
     ]
    }
   ],
   "source": [
    "f = open('檔案處理\\\\test.txt', 'w')\n",
    "f.writelines(['this is a test!\\n', '這是測試\\n'])\n",
    "f.close()\n",
    "\n",
    "with open('檔案處理\\\\test.txt', 'r') as file:\n",
    "    for line in file:\n",
    "        print(line)"
   ]
  },
  {
   "cell_type": "markdown",
   "metadata": {},
   "source": [
    "### print()"
   ]
  },
  {
   "cell_type": "code",
   "execution_count": 18,
   "metadata": {},
   "outputs": [
    {
     "name": "stdout",
     "output_type": "stream",
     "text": [
      "this is a test!\n",
      "\n",
      " 這是測試\n",
      "\n",
      "\n",
      "\n"
     ]
    }
   ],
   "source": [
    "f = open('檔案處理\\\\test.txt', 'w')\n",
    "print('this is a test!\\n', '這是測試\\n', file = f)\n",
    "f.close()\n",
    "\n",
    "with open('檔案處理\\\\test.txt', 'r') as file:\n",
    "    for line in file:\n",
    "        print(line)"
   ]
  },
  {
   "cell_type": "markdown",
   "metadata": {},
   "source": [
    "# 3. CSV"
   ]
  },
  {
   "cell_type": "markdown",
   "metadata": {},
   "source": [
    "### CSV 讀檔  [CSV](https://docs.python.org/3/library/csv.html)"
   ]
  },
  {
   "cell_type": "code",
   "execution_count": 25,
   "metadata": {},
   "outputs": [],
   "source": [
    "csv.reader?"
   ]
  },
  {
   "cell_type": "code",
   "execution_count": 24,
   "metadata": {},
   "outputs": [
    {
     "name": "stdout",
     "output_type": "stream",
     "text": [
      "['0', '297', '台幣', 'AX000010', '20200318', '60', '17', '5', '12', '1.61', '-1.18', '-0.2']\n",
      "['1', '167', '日圓', 'AX000030', '20200318', '40', '22', '9', '13', '1.86', '-2.02', '-6.44']\n",
      "['2', '298', '韓圓', 'AX000300', '20200318', '80', '23', '7', '16', '3.19', '-2.08', '-7.44']\n",
      "['3', '299', '港幣', 'AX000110', '20200318', '20', '21', '7', '14', '0.28', '-0.26', '0.16']\n",
      "['4', '300', '泰銖', 'AX000200', '20200318', '80', '16', '3', '13', '3.8', '-1.14', '2.19']\n",
      "['5', '174', '歐元', 'AX000090', '20200318', '80', '19', '6', '13', '3.61', '-1.37', '0.64']\n",
      "['6', '175', '英鎊', 'AX000040', '20200318', '20', '23', '12', '11', '2.79', '-1.76', '1.95']\n",
      "['7', '176', '加幣', 'AX000240', '20200318', '100', '23', '9', '14', '2.3', '-1.5', '-0.48']\n",
      "['8', '170', '人民幣', 'AX000250', '20200318', '60', '19', '6', '13', '5.85', '-1.18', '5.59']\n",
      "['9', '172', '澳幣', 'AX000070', '20200318', '20', '18', '3', '15', '5.81', '-2.41', '-10.38']\n",
      "['10', '173', '紐幣', 'AX000080', '20200318', '20', '17', '5', '12', '3.61', '-3.38', '-5.95']\n",
      "['11', '177', '瑞郎', 'AX000100', '20200318', '40', '18', '6', '12', '5.89', '-1.68', '-0.39']\n",
      "['12', '178', '南非幣', 'AX000180', '20200318', '100', '17', '6', '11', '12.13', '-4.28', '-5.56']\n",
      "['13', '301', '瑞典幣', 'AX000190', '20200318', '60', '21', '10', '11', '6.35', '-2.47', '5.37']\n",
      "['14', '302', '新加坡幣', 'AX000140', '20200318', '80', '20', '7', '13', '1.73', '-1.48', '-0.49']\n"
     ]
    }
   ],
   "source": [
    "import csv\n",
    "with open(\"檔案處理\\\\123.csv\", \"r\") as file:\n",
    "    csvreader = csv.reader(file)# delimiter = \",\"\n",
    "    headers = next(csvreader) # 取出檔案處理內一列元素\n",
    "    for line in csvreader:\n",
    "        print(line)"
   ]
  },
  {
   "cell_type": "markdown",
   "metadata": {},
   "source": [
    "### CSV 寫檔 串列"
   ]
  },
  {
   "cell_type": "markdown",
   "metadata": {},
   "source": [
    "##### 無添加 newline 屬性，寫檔後會多出一行"
   ]
  },
  {
   "cell_type": "code",
   "execution_count": 7,
   "metadata": {},
   "outputs": [
    {
     "name": "stdout",
     "output_type": "stream",
     "text": [
      "['Symbol', 'Price', 'Date', 'Time', 'Change', 'Volume']\n",
      "['AA', '39.48', '6/11/2007', '9:36am', '-0.18', '181800']\n",
      "['AIG', '71.38', '6/11/2007', '9:36am', '-0.15', '195500']\n",
      "['AXP', '62.58', '6/11/2007', '9:36am', '-0.46', '935000']\n"
     ]
    }
   ],
   "source": [
    "import csv\n",
    "headers = ['Symbol','Price','Date','Time','Change','Volume']\n",
    "rows = [('AA', 39.48, '6/11/2007', '9:36am', -0.18, 181800),\n",
    "         ('AIG', 71.38, '6/11/2007', '9:36am', -0.15, 195500),\n",
    "         ('AXP', 62.58, '6/11/2007', '9:36am', -0.46, 935000),\n",
    "       ]不\n",
    "with open('檔案處理\\\\stocks.csv', 'w',newline = '') as f: #newline = ''不要再多一行\n",
    "    f_csv = csv.writer(f)\n",
    "    f_csv.writerow(headers) #指定格式(分隔字元)轉成字串\n",
    "    f_csv.writerows(rows)   #指定格式(分隔字元)轉成字串\n",
    "    \n",
    "with open(\"檔案處理\\\\stocks.csv\", \"r\") as file:\n",
    "    csvreader = csv.reader(file)\n",
    "    for line in csvreader:\n",
    "        print(line)"
   ]
  },
  {
   "cell_type": "markdown",
   "metadata": {},
   "source": [
    "##### 有添加 newline 屬性，寫檔後不會多出一行"
   ]
  },
  {
   "cell_type": "code",
   "execution_count": 23,
   "metadata": {},
   "outputs": [
    {
     "name": "stdout",
     "output_type": "stream",
     "text": [
      "['Symbol', 'Price', 'Date', 'Time', 'Change', 'Volume']\n",
      "['AA', '39.48', '6/11/2007', '9:36am', '-0.18', '181800']\n",
      "['AIG', '71.38', '6/11/2007', '9:36am', '-0.15', '195500']\n",
      "['AXP', '62.58', '6/11/2007', '9:36am', '-0.46', '935000']\n"
     ]
    }
   ],
   "source": [
    "import csv\n",
    "headers = ['Symbol','Price','Date','Time','Change','Volume']\n",
    "rows = [('AA', 39.48, '6/11/2007', '9:36am', -0.18, 181800),\n",
    "         ('AIG', 71.38, '6/11/2007', '9:36am', -0.15, 195500),\n",
    "         ('AXP', 62.58, '6/11/2007', '9:36am', -0.46, 935000),\n",
    "       ]\n",
    "\n",
    "with open('檔案處理\\\\stocks.csv', 'w', newline='') as f:\n",
    "    f_csv = csv.writer(f)\n",
    "    f_csv.writerow(headers) #指定格式(分隔字元)轉成字串\n",
    "    f_csv.writerows(rows)   #指定格式(分隔字元)轉成字串\n",
    "    \n",
    "with open(\"檔案處理\\\\stocks.csv\", \"r\") as file:\n",
    "    csvreader = csv.reader(file)\n",
    "    for line in csvreader:\n",
    "        print(line)"
   ]
  },
  {
   "cell_type": "markdown",
   "metadata": {},
   "source": [
    "### CSV 寫檔 字典"
   ]
  },
  {
   "cell_type": "code",
   "execution_count": 25,
   "metadata": {},
   "outputs": [],
   "source": [
    "import csv\n",
    "headers = ['Symbol', 'Price', 'Date', 'Time', 'Change', 'Volume']\n",
    "rows = [{'Symbol':'AA', 'Price':39.48, 'Date':'6/11/2007',\n",
    "        'Time':'9:36am', 'Change':-0.18, 'Volume':181800},\n",
    "        {'Symbol':'AIG', 'Price': 71.38, 'Date':'6/11/2007',\n",
    "        'Time':'9:36am', 'Change':-0.15, 'Volume': 195500},\n",
    "        {'Symbol':'AXP', 'Price': 62.58, 'Date':'6/11/2007',\n",
    "        'Time':'9:36am', 'Change':-0.46, 'Volume': 935000},\n",
    "        ]\n",
    "\n",
    "with open('檔案處理\\\\stocks.csv','w', newline='') as f:\n",
    "    f_csv = csv.DictWriter(f, headers)\n",
    "    f_csv.writeheader() #寫入欄位名稱\n",
    "    f_csv.writerows(rows)"
   ]
  },
  {
   "cell_type": "markdown",
   "metadata": {},
   "source": [
    "# 4.JSON  網路上抓下來的都是字串str"
   ]
  },
  {
   "cell_type": "markdown",
   "metadata": {},
   "source": [
    "### json.dumps：將JSON物件轉成str (序列化)"
   ]
  },
  {
   "cell_type": "code",
   "execution_count": 24,
   "metadata": {},
   "outputs": [
    {
     "name": "stdout",
     "output_type": "stream",
     "text": [
      "<class 'str'>\n"
     ]
    }
   ],
   "source": [
    "import json \n",
    "d = {'age': 20, 'married': True, 'city': 'New York', 'languages': ['English', 'French'], 'name': 'Amy' }\n",
    "# Serializing json，物件true不能寫檔\n",
    "json_str= json.dumps(d, indent=4) #indent設4，代表空四格\n",
    "print(type(json_str))\n",
    "# Writing to sample.json\n",
    "with open(\"data.json\", \"w\") as f:\n",
    "    f.write(json_object)"
   ]
  },
  {
   "cell_type": "markdown",
   "metadata": {},
   "source": [
    "### json.dump：將Python dict轉成JSON，寫入JSON檔案"
   ]
  },
  {
   "cell_type": "code",
   "execution_count": 17,
   "metadata": {},
   "outputs": [],
   "source": [
    "import json \n",
    "d = {'age': 20, 'married': True, 'city': 'New York', 'languages': ['English', 'French'], 'name': 'Amy' }\n",
    "\n",
    "with open(\"data.json\", \"w\") as f:\n",
    "    json.dump(d, f)"
   ]
  },
  {
   "cell_type": "markdown",
   "metadata": {},
   "source": [
    "### json.loads：將str轉成JSON物件( 反序列化)"
   ]
  },
  {
   "cell_type": "code",
   "execution_count": 21,
   "metadata": {},
   "outputs": [
    {
     "name": "stdout",
     "output_type": "stream",
     "text": [
      "<class 'str'>\n",
      "{\"age\": 20, \"married\": true, \"city\": \"New York\", \"languages\": [\"English\", \"French\"], \"name\": \"Amy\"}\n",
      "Amy\n",
      "20\n"
     ]
    }
   ],
   "source": [
    "import json\n",
    "\n",
    "## 讀取JSON檔\n",
    "with open('data.json', 'r') as f:\n",
    "  ## 將內容裝進text\n",
    "  data = f.read()\n",
    "\n",
    "print(type(data))\n",
    "print(data)\n",
    "print(json.loads(data)['name'])\n",
    "print(json.loads(data)['age'])"
   ]
  },
  {
   "cell_type": "markdown",
   "metadata": {},
   "source": [
    "### json.load：讀取JSON檔案，並轉成Python dict"
   ]
  },
  {
   "cell_type": "code",
   "execution_count": 22,
   "metadata": {},
   "outputs": [
    {
     "name": "stdout",
     "output_type": "stream",
     "text": [
      "<class 'dict'>\n",
      "{'age': 20, 'married': True, 'city': 'New York', 'languages': ['English', 'French'], 'name': 'Amy'}\n",
      "Amy\n",
      "20\n"
     ]
    }
   ],
   "source": [
    "import json \n",
    "\n",
    "with open('data.json') as f:\n",
    "    data = json.load(f)\n",
    "\n",
    "print(type(data))\n",
    "print(data)\n",
    "print(data['name'])\n",
    "print(data['age'])"
   ]
  },
  {
   "cell_type": "markdown",
   "metadata": {},
   "source": [
    "# 5. 讀取圖片cv2"
   ]
  },
  {
   "cell_type": "code",
   "execution_count": 12,
   "metadata": {},
   "outputs": [],
   "source": [
    "import cv2\n",
    "\n",
    "img = cv2.imread('flower.png') # 開啟圖片，預設使用 cv2.IMREAD_COLOR 模式，無法讀取中文 檔案\n",
    "try:\n",
    "    cv2.imshow('image', img)  # 使用名為 image 的視窗開啟圖片\n",
    "    cv2.waitKey(0)            # 按下任意鍵停止\n",
    "    cv2.destroyAllWindows()   # 結束所有圖片視窗\n",
    "except Exception as e:\n",
    "    print('')"
   ]
  },
  {
   "cell_type": "code",
   "execution_count": 9,
   "metadata": {},
   "outputs": [
    {
     "name": "stdout",
     "output_type": "stream",
     "text": [
      "img : (225, 225, 4)\n",
      "img : <class 'numpy.ndarray'>\n"
     ]
    }
   ],
   "source": [
    "import matplotlib.image as mpig\n",
    "img = mpig.imread('flower.png')\n",
    "print(\"img :\",img .shape)\n",
    "print(\"img :\",type(img ))"
   ]
  },
  {
   "cell_type": "code",
   "execution_count": 10,
   "metadata": {},
   "outputs": [
    {
     "name": "stdout",
     "output_type": "stream",
     "text": [
      "img : (225, 225, 4)\n",
      "img : <class 'numpy.ndarray'>\n"
     ]
    }
   ],
   "source": [
    "import matplotlib.pyplot as plt\n",
    "img = plt.imread('flower.png')\n",
    "print(\"img :\", img.shape)\n",
    "print(\"img :\",type(img))"
   ]
  },
  {
   "cell_type": "code",
   "execution_count": 11,
   "metadata": {},
   "outputs": [
    {
     "data": {
      "image/png": "[encoded data removed]",
      "text/plain": [
       "<Figure size 640x480 with 1 Axes>"
      ]
     },
     "metadata": {},
     "output_type": "display_data"
    }
   ],
   "source": [
    "plt.imshow(img , cmap=plt.cm.binary)\n",
    "plt.show()"
   ]
  },
  {
   "cell_type": "code",
   "execution_count": null,
   "metadata": {},
   "outputs": [],
   "source": []
  }
 ],
 "metadata": {
  "kernelspec": {
   "display_name": "Python 3 (ipykernel)",
   "language": "python",
   "name": "python3"
  },
  "language_info": {
   "codemirror_mode": {
    "name": "ipython",
    "version": 3
   },
   "file_extension": ".py",
   "mimetype": "text/x-python",
   "name": "python",
   "nbconvert_exporter": "python",
   "pygments_lexer": "ipython3",
   "version": "3.10.9"
  }
 },
 "nbformat": 4,
 "nbformat_minor": 2
}
