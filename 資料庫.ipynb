{
 "cells": [
  {
   "cell_type": "markdown",
   "metadata": {},
   "source": [
    "# 1.Python資料庫操作\n",
    "## 1-1 Python讀取MySQL流程\n",
    "![](image\\Python讀取MySQL流程.png)\n",
    "\n",
    "## 1-2 資料庫驅動程式\n",
    "![](image\\資料庫驅動程式.png)\n",
    "\n",
    "\n",
    "### 資料模組\n",
    "- pymysql\n",
    "```\n",
    "pip install pymysql\n",
    "```\n",
    "\n",
    "- pyodbc (需搭配安裝驅動程式與找尋對應的ODBC字串)\n",
    "```\n",
    "pip install pyodbc\n",
    "```\n",
    "\n",
    "- mysql.connector\n",
    "```\n",
    "pip install mysql-connector-python\n",
    "```\n",
    "\n",
    "- mysqlclient\n",
    "```\n",
    "pip install mysqlclient\n",
    "```\n",
    "\n",
    "- Connector/Python Versions\n",
    "https://dev.mysql.com/doc/connector-python/en/connector-python-versions.html"
   ]
  },
  {
   "cell_type": "markdown",
   "metadata": {},
   "source": [
    "## 1-3 ODBC驅動程式\n",
    "- Microsoft Access Database Engine 2010 可轉散發套件\n",
    "    - [Microsoft Access Database Engine 2010 可轉散發套件](https://www.microsoft.com/zh-TW/download/details.aspx?id=13255)\n",
    "\n",
    "- Microsoft Access Database Engine 2013可轉散發套件\n",
    "    - [Microsoft Access 2013 Runtime](https://www.microsoft.com/en-us/download/details.aspx?id=39358)\n",
    "\n",
    "- Microsoft Access Database Engine 2016 可轉散發套件\n",
    "    - [Microsoft Access Database Engine 2016 可轉散發套件](https://www.microsoft.com/en-us/download/details.aspx?id=54920)\n",
    "\n",
    "- Visual Studio 2015 的 Visual C++ 可轉散發套件\n",
    "    - [Visual Studio 2015 的 Visual C++ 可轉散發套件](https://www.microsoft.com/zh-tw/download/details.aspx?id=48145)\n",
    "    \n",
    "- 2019 可轉散發套件\n",
    "    - [Microsoft Access Database Engine 2019 可轉散發套件](https://support.microsoft.com/zh-tw/help/2977003/the-latest-supported-visual-c-downloads)\n",
    "\n",
    "- MySQL ODBC驅動程式下載\n",
    "    - [Connector/ODBC download](https://dev.mysql.com/downloads/connector/odbc/)"
   ]
  },
  {
   "cell_type": "markdown",
   "metadata": {},
   "source": [
    "## 1-4 ODBC字串尋找\n",
    "### Windows \n",
    "1. [The Connection Strings Reference](https://www.connectionstrings.com/) \n",
    "2. windows ODBC資料來源管理員的驅動程式查詢字串，控制台->系統及安全性->系統管理工具->資料來源 (ODBC)\n",
    "![](image\\資料來源管理員.png)\n",
    "\n",
    "### MAC OSX\n",
    "![](image\\MAC_ODBC_Manager.png)"
   ]
  },
  {
   "cell_type": "markdown",
   "metadata": {},
   "source": [
    "## 1-5 Python操作資料庫流程\n",
    "### 1-5-1 Python操作資料庫流程\n",
    "![](image\\資料庫流程.png)"
   ]
  },
  {
   "cell_type": "markdown",
   "metadata": {},
   "source": [
    "### 1-5-2 Python操作資料化圖像化概念\n",
    "![](image\\SQL.png)"
   ]
  },
  {
   "cell_type": "markdown",
   "metadata": {},
   "source": [
    "# 2 Python使用ODBC操作 微軟Access\n",
    "\n",
    "- [Access 的保留字與保留符號](https://support.microsoft.com/zh-tw/office/access-%E7%9A%84%E4%BF%9D%E7%95%99%E5%AD%97%E8%88%87%E4%BF%9D%E7%95%99%E7%AC%A6%E8%99%9F-ae9d9ada-3255-4b12-91a9-f855bdd9c5a2)\n",
    "- 無法使用語句 CREATE TABLE IF NOT EXISTS\n",
    "- 欄位名稱有使用到 Access 保留字時，就需要用中括弧 []，或改變欄位名稱的字"
   ]
  },
  {
   "cell_type": "markdown",
   "metadata": {},
   "source": [
    "## 2-1 建立資料表"
   ]
  },
  {
   "cell_type": "code",
   "execution_count": 10,
   "metadata": {},
   "outputs": [],
   "source": [
    "import pyodbc\n",
    "\n",
    "DRIVER_NAME = \"Microsoft Access Driver (*.mdb, *.accdb)\"\n",
    "DBfile = r'.\\Database1.accdb'\n",
    "\n",
    "con = pyodbc.connect(\"Driver={%s};DBQ=%s;\" % (DRIVER_NAME, DBfile))\n",
    "cur = con.cursor()\n",
    "\n",
    "cur.execute(\"CREATE TABLE book (id COUNTER PRIMARY KEY, dates varchar(8), books VARCHAR(128), isbn VARCHAR(16), price integer);\")\n",
    "con.commit()\n",
    "\n",
    "cur.close()\n",
    "con.close()"
   ]
  },
  {
   "cell_type": "markdown",
   "metadata": {},
   "source": [
    "## 2-2 刪除資料表"
   ]
  },
  {
   "cell_type": "code",
   "execution_count": 9,
   "metadata": {},
   "outputs": [],
   "source": [
    "import pyodbc\n",
    "\n",
    "DRIVER_NAME = \"Microsoft Access Driver (*.mdb, *.accdb)\"\n",
    "DBfile = r'.\\Database1.accdb'\n",
    "\n",
    "con = pyodbc.connect(\"Driver={%s};DBQ=%s;\" % (DRIVER_NAME, DBfile))\n",
    "cur = con.cursor()\n",
    "try:\n",
    "    if cur.tables(table = 'book').fetchone():\n",
    "        cur.execute('DROP TABLE book')\n",
    "        con.commit()\n",
    "except Exception as e:\n",
    "    print(\"異常發生:{}\".format(e))\n",
    "    con.rollback()\n",
    "    \n",
    "cur.close()\n",
    "con.close()"
   ]
  },
  {
   "cell_type": "markdown",
   "metadata": {},
   "source": [
    "## 2-3 新增紀錄"
   ]
  },
  {
   "cell_type": "code",
   "execution_count": 45,
   "metadata": {
    "collapsed": true
   },
   "outputs": [],
   "source": [
    "import pyodbc\n",
    "\n",
    "DRIVER_NAME = \"Microsoft Access Driver (*.mdb, *.accdb)\"\n",
    "DBfile = r'.\\Database1.accdb'\n",
    "\n",
    "con = pyodbc.connect(\"Driver={%s};DBQ=%s;\" % (DRIVER_NAME, DBfile))\n",
    "cur = con.cursor()\n",
    "\n",
    "date = \"20181130\"\n",
    "books = '從零開始學 Python 程式設計 (適用Python 3.5以上)(暢銷回饋版)'\n",
    "isbn = '9789864343492'\n",
    "price = 580\n",
    "\n",
    "try:\n",
    "    cur.execute(\"INSERT INTO book ( dates, books, isbn, price) VALUES ( ?, ?, ?, ?);\",  date, books, isbn, price)\n",
    "    con.commit()\n",
    "except Exception as e:\n",
    "    print(\"異常發生:{}\".format(e))\n",
    "    con.rollback()\n",
    "    \n",
    "cur.close()\n",
    "con.close()"
   ]
  },
  {
   "cell_type": "markdown",
   "metadata": {},
   "source": [
    "## 2-4 同時新增多筆資料"
   ]
  },
  {
   "cell_type": "code",
   "execution_count": 10,
   "metadata": {
    "collapsed": true
   },
   "outputs": [],
   "source": [
    "import pyodbc\n",
    "import booklist\n",
    "\n",
    "DRIVER_NAME = \"Microsoft Access Driver (*.mdb, *.accdb)\"\n",
    "DBfile = r'C:\\Users\\Amin\\Database1.accdb'\n",
    "\n",
    "con = pyodbc.connect(\"Driver={%s};DBQ=%s;\" % (DRIVER_NAME, DBfile))\n",
    "cur = con.cursor()\n",
    "books = booklist.getbooklist()\n",
    "try:\n",
    "    cur.executemany(\"insert into book (dates, books, isbn, price) values (?,?,?,?);\", books)\n",
    "    con.commit()\n",
    "except Exception as e:\n",
    "    print(\"異常發生:{}\".format(e))\n",
    "    con.rollback()\n",
    "    \n",
    "cur.close()\n",
    "con.close()"
   ]
  },
  {
   "cell_type": "markdown",
   "metadata": {},
   "source": [
    "## 2-5 更新資料"
   ]
  },
  {
   "cell_type": "code",
   "execution_count": 26,
   "metadata": {
    "collapsed": true
   },
   "outputs": [],
   "source": [
    "import pyodbc\n",
    "\n",
    "DRIVER_NAME = \"Microsoft Access Driver (*.mdb, *.accdb)\"\n",
    "DBfile = r'C:\\Users\\Amin\\Database1.accdb'\n",
    "\n",
    "con = pyodbc.connect(\"Driver={%s};DBQ=%s;\" % (DRIVER_NAME, DBfile))\n",
    "cur = con.cursor()\n",
    "\n",
    "price = 560\n",
    "try:\n",
    "    cur.execute(\"UPDATE book SET [price] = ? WHERE id = ?;\", price, 4)\n",
    "    con.commit()\n",
    "except Exception as e:\n",
    "    print(\"異常發生:{}\".format(e))\n",
    "    con.rollback()\n",
    "    \n",
    "cur.close()\n",
    "con.close()"
   ]
  },
  {
   "cell_type": "markdown",
   "metadata": {},
   "source": [
    "## 2-6 查詢紀錄"
   ]
  },
  {
   "cell_type": "code",
   "execution_count": 55,
   "metadata": {},
   "outputs": [
    {
     "name": "stdout",
     "output_type": "stream",
     "text": [
      "20160630 VB 420\n",
      "20171217 Python 450\n",
      "20170101 R 500\n",
      "20161010 C++ 530\n",
      "20160630 Excel 420\n"
     ]
    }
   ],
   "source": [
    "import pyodbc\n",
    "\n",
    "DRIVER_NAME = \"Microsoft Access Driver (*.mdb, *.accdb)\"\n",
    "DBfile = r'C:\\Users\\Amin\\Database1.accdb'\n",
    "\n",
    "con = pyodbc.connect(\"Driver={%s};DBQ=%s;\" % (DRIVER_NAME, DBfile))\n",
    "cur = con.cursor()\n",
    "\n",
    "SQL = 'SELECT * FROM book;'\n",
    "for row in cur.execute(SQL):\n",
    "    print(row.dates, row.books, row.price)\n",
    "\n",
    "cur.close()\n",
    "con.close()"
   ]
  },
  {
   "cell_type": "markdown",
   "metadata": {},
   "source": [
    "# 3. Python使用MySQL操作資料庫\n",
    "- Python 2.7 使用 MySQLdb\n",
    "- Python 3.X 使用 pymysql\n",
    "- [MySQL保留Keywords and Reserved Words](https://dev.mysql.com/doc/refman/8.0/en/keywords.html)"
   ]
  },
  {
   "cell_type": "markdown",
   "metadata": {},
   "source": [
    "## 3-1 Python MySQL套件安裝"
   ]
  },
  {
   "cell_type": "code",
   "execution_count": 1,
   "metadata": {},
   "outputs": [
    {
     "name": "stdout",
     "output_type": "stream",
     "text": [
      "Requirement already satisfied: pip in c:\\users\\amin\\appdata\\roaming\\python\\python37\\site-packages (21.2.3)\n",
      "Collecting pip\n",
      "  Using cached pip-21.2.4-py3-none-any.whl (1.6 MB)\n",
      "Installing collected packages: pip\n",
      "  Attempting uninstall: pip\n",
      "    Found existing installation: pip 21.2.3\n",
      "    Uninstalling pip-21.2.3:\n",
      "      Successfully uninstalled pip-21.2.3\n",
      "  Rolling back uninstall of pip\n",
      "  Moving to c:\\users\\amin\\appdata\\roaming\\python\\python37\\scripts\\pip.exe\n",
      "   from C:\\Users\\Amin\\AppData\\Local\\Temp\\pip-uninstall-y5ksctvr\\pip.exe\n",
      "  Moving to c:\\users\\amin\\appdata\\roaming\\python\\python37\\scripts\\pip3.7.exe\n",
      "   from C:\\Users\\Amin\\AppData\\Local\\Temp\\pip-uninstall-y5ksctvr\\pip3.7.exe\n",
      "  Moving to c:\\users\\amin\\appdata\\roaming\\python\\python37\\scripts\\pip3.exe\n",
      "   from C:\\Users\\Amin\\AppData\\Local\\Temp\\pip-uninstall-y5ksctvr\\pip3.exe\n",
      "  Moving to c:\\users\\amin\\appdata\\roaming\\python\\python37\\site-packages\\pip-21.2.3.dist-info\\\n",
      "   from c:\\users\\amin\\appdata\\roaming\\python\\python37\\site-packages\\~ip-21.2.3.dist-info\n",
      "  Moving to c:\\users\\amin\\appdata\\roaming\\python\\python37\\site-packages\\pip\\\n",
      "   from c:\\users\\amin\\appdata\\roaming\\python\\python37\\site-packages\\~ip\n"
     ]
    },
    {
     "name": "stderr",
     "output_type": "stream",
     "text": [
      "WARNING: Ignoring invalid distribution -atplotlib (c:\\users\\amin\\appdata\\roaming\\python\\python37\\site-packages)\n",
      "WARNING: Ignoring invalid distribution -andas (c:\\programdata\\anaconda3\\lib\\site-packages)\n",
      "WARNING: Ignoring invalid distribution -atplotlib (c:\\users\\amin\\appdata\\roaming\\python\\python37\\site-packages)\n",
      "WARNING: Ignoring invalid distribution -andas (c:\\programdata\\anaconda3\\lib\\site-packages)\n",
      "WARNING: Ignoring invalid distribution -atplotlib (c:\\users\\amin\\appdata\\roaming\\python\\python37\\site-packages)\n",
      "WARNING: Ignoring invalid distribution -andas (c:\\programdata\\anaconda3\\lib\\site-packages)\n",
      "    WARNING: Ignoring invalid distribution -atplotlib (c:\\users\\amin\\appdata\\roaming\\python\\python37\\site-packages)\n",
      "ERROR: Exception:\n",
      "Traceback (most recent call last):\n",
      "  File \"C:\\Users\\Amin\\AppData\\Roaming\\Python\\Python37\\site-packages\\pip\\_internal\\cli\\base_command.py\", line 173, in _main\n",
      "    status = self.run(options, args)\n",
      "  File \"C:\\Users\\Amin\\AppData\\Roaming\\Python\\Python37\\site-packages\\pip\\_internal\\cli\\req_command.py\", line 203, in wrapper\n",
      "    return func(self, options, args)\n",
      "  File \"C:\\Users\\Amin\\AppData\\Roaming\\Python\\Python37\\site-packages\\pip\\_internal\\commands\\install.py\", line 399, in run\n",
      "    pycompile=options.compile,\n",
      "  File \"C:\\Users\\Amin\\AppData\\Roaming\\Python\\Python37\\site-packages\\pip\\_internal\\req\\__init__.py\", line 81, in install_given_reqs\n",
      "    pycompile=pycompile,\n",
      "  File \"C:\\Users\\Amin\\AppData\\Roaming\\Python\\Python37\\site-packages\\pip\\_internal\\req\\req_install.py\", line 766, in install\n",
      "    requested=self.user_supplied,\n",
      "  File \"C:\\Users\\Amin\\AppData\\Roaming\\Python\\Python37\\site-packages\\pip\\_internal\\operations\\install\\wheel.py\", line 802, in install_wheel\n",
      "    requested=requested,\n",
      "  File \"C:\\Users\\Amin\\AppData\\Roaming\\Python\\Python37\\site-packages\\pip\\_internal\\operations\\install\\wheel.py\", line 704, in _install_wheel\n",
      "    generated_console_scripts = maker.make_multiple(scripts_to_generate)\n",
      "  File \"C:\\Users\\Amin\\AppData\\Roaming\\Python\\Python37\\site-packages\\pip\\_vendor\\distlib\\scripts.py\", line 422, in make_multiple\n",
      "    filenames.extend(self.make(specification, options))\n",
      "  File \"C:\\Users\\Amin\\AppData\\Roaming\\Python\\Python37\\site-packages\\pip\\_internal\\operations\\install\\wheel.py\", line 448, in make\n",
      "    return super().make(specification, options)\n",
      "  File \"C:\\Users\\Amin\\AppData\\Roaming\\Python\\Python37\\site-packages\\pip\\_vendor\\distlib\\scripts.py\", line 411, in make\n",
      "    self._make_script(entry, filenames, options=options)\n",
      "  File \"C:\\Users\\Amin\\AppData\\Roaming\\Python\\Python37\\site-packages\\pip\\_vendor\\distlib\\scripts.py\", line 312, in _make_script\n",
      "    self._write_script(scriptnames, shebang, script, filenames, ext)\n",
      "  File \"C:\\Users\\Amin\\AppData\\Roaming\\Python\\Python37\\site-packages\\pip\\_vendor\\distlib\\scripts.py\", line 242, in _write_script\n",
      "    launcher = self._get_launcher('t')\n",
      "  File \"C:\\Users\\Amin\\AppData\\Roaming\\Python\\Python37\\site-packages\\pip\\_vendor\\distlib\\scripts.py\", line 390, in _get_launcher\n",
      "    raise ValueError(msg)\n",
      "ValueError: Unable to find resource t32.exe in package pip._vendor.distlib\n",
      "WARNING: Ignoring invalid distribution -atplotlib (c:\\users\\amin\\appdata\\roaming\\python\\python37\\site-packages)\n",
      "WARNING: Ignoring invalid distribution -andas (c:\\programdata\\anaconda3\\lib\\site-packages)\n",
      "WARNING: Ignoring invalid distribution -atplotlib (c:\\users\\amin\\appdata\\roaming\\python\\python37\\site-packages)\n"
     ]
    },
    {
     "name": "stdout",
     "output_type": "stream",
     "text": [
      "Requirement already satisfied: pymysql in c:\\programdata\\anaconda3\\lib\\site-packages (1.0.2)\n"
     ]
    },
    {
     "name": "stderr",
     "output_type": "stream",
     "text": [
      "WARNING: pip is being invoked by an old script wrapper. This will fail in a future version of pip.\n",
      "Please see https://github.com/pypa/pip/issues/5599 for advice on fixing the underlying issue.\n",
      "To avoid this problem you can invoke Python with '-m pip' instead of running pip directly.\n",
      "WARNING: Ignoring invalid distribution -atplotlib (c:\\users\\amin\\appdata\\roaming\\python\\python37\\site-packages)\n",
      "WARNING: Ignoring invalid distribution -andas (c:\\programdata\\anaconda3\\lib\\site-packages)\n",
      "WARNING: Ignoring invalid distribution -atplotlib (c:\\users\\amin\\appdata\\roaming\\python\\python37\\site-packages)\n",
      "WARNING: Ignoring invalid distribution -andas (c:\\programdata\\anaconda3\\lib\\site-packages)\n",
      "WARNING: Ignoring invalid distribution -atplotlib (c:\\users\\amin\\appdata\\roaming\\python\\python37\\site-packages)\n",
      "WARNING: Ignoring invalid distribution -andas (c:\\programdata\\anaconda3\\lib\\site-packages)\n",
      "WARNING: Ignoring invalid distribution -atplotlib (c:\\users\\amin\\appdata\\roaming\\python\\python37\\site-packages)\n",
      "WARNING: Ignoring invalid distribution -andas (c:\\programdata\\anaconda3\\lib\\site-packages)\n",
      "WARNING: Ignoring invalid distribution -atplotlib (c:\\users\\amin\\appdata\\roaming\\python\\python37\\site-packages)\n"
     ]
    }
   ],
   "source": [
    "import sys\n",
    "!python -m pip install --upgrade pip --user\n",
    "ver = sys.version_info\n",
    "if ver >= (3,):\n",
    "    !pip install pymysql\n",
    "elif ver == (2,):\n",
    "    !pip install MySQLdb"
   ]
  },
  {
   "cell_type": "markdown",
   "metadata": {},
   "source": [
    "## 3-2 建立資料庫"
   ]
  },
  {
   "cell_type": "code",
   "execution_count": 7,
   "metadata": {},
   "outputs": [],
   "source": [
    "import sys\n",
    "ver = sys.version_info\n",
    "if ver >= (3,):\n",
    "    try:\n",
    "        import pymysql as mysql\n",
    "    except ModuleNotFoundError as e:\n",
    "        !pip install pymysql\n",
    "        import pymysql as mysql\n",
    "elif ver == (2,):\n",
    "    import MySQLdb as mysql\n",
    "import warnings\n",
    "\n",
    "warnings.filterwarnings('ignore')\n",
    "\n",
    "Hostname = \"localhost\" #127.0.0.1\n",
    "dbusername = \"root\"\n",
    "password = \"\"\n",
    "dbname = \"qqq\"\n",
    "charSet = \"utf8mb4\"     # Character set\n",
    "cusrorType = mysql.cursors.DictCursor\n",
    "\n",
    "con = mysql.connect(host = Hostname, \n",
    "                    user = dbusername, \n",
    "                    password = password, \n",
    "                    port = 3306,\n",
    "                    charset = charSet,\n",
    "                    cursorclass = cusrorType)\n",
    "cur = con.cursor()\n",
    "try:\n",
    "    sql = f\"\"\"CREATE DATABASE {dbname}\"\"\"\n",
    "    cur.execute(sql)\n",
    "    con.commit()\n",
    "except Exception as e:\n",
    "    print(\"異常發生:{}\".format(e))\n",
    "    con.rollback()\n",
    "    \n",
    "cur.close()\n",
    "con.close()"
   ]
  },
  {
   "cell_type": "markdown",
   "metadata": {},
   "source": [
    "## 3-3 建立資料表"
   ]
  },
  {
   "cell_type": "code",
   "execution_count": 1,
   "metadata": {},
   "outputs": [],
   "source": [
    "import sys\n",
    "ver = sys.version_info\n",
    "if ver >= (3,):\n",
    "    try:\n",
    "        import pymysql as mysql\n",
    "    except ModuleNotFoundError as e:\n",
    "        !pip install pymysql\n",
    "        import pymysql as mysql\n",
    "elif ver == (2,):\n",
    "    import MySQLdb as mysql\n",
    "import warnings\n",
    "\n",
    "warnings.filterwarnings('ignore')\n",
    "\n",
    "Hostname = \"localhost\" #127.0.0.1\n",
    "dbusername = \"root\"\n",
    "password = \"\"\n",
    "dbname = \"test\"\n",
    "\n",
    "con = mysql.connect(host = Hostname, user = dbusername, password = password, database = dbname, port=3306)\n",
    "cur = con.cursor()\n",
    "try:\n",
    "    sql = \"\"\"CREATE TABLE IF NOT EXISTS book (  \n",
    "            id INT UNSIGNED NOT NULL PRIMARY KEY AUTO_INCREMENT, \n",
    "            dates varchar(8) COLLATE utf8_unicode_ci default '', \n",
    "            books varchar(128) COLLATE utf8_unicode_ci default '', \n",
    "            isbn varchar(16) COLLATE utf8_unicode_ci default '',\n",
    "            price INT UNSIGNED NOT NULL) \n",
    "            ENGINE=InnoDB DEFAULT CHARSET=utf8 COLLATE=utf8_unicode_ci;\"\"\"\n",
    "    cur.execute(sql)\n",
    "    con.commit()\n",
    "except Exception as e:\n",
    "    print(\"異常發生:{}\".format(e))\n",
    "    con.rollback()\n",
    "    \n",
    "cur.close()\n",
    "con.close()"
   ]
  },
  {
   "cell_type": "markdown",
   "metadata": {},
   "source": [
    "## 3-4 刪除資料表"
   ]
  },
  {
   "cell_type": "code",
   "execution_count": null,
   "metadata": {},
   "outputs": [],
   "source": [
    "import sys\n",
    "ver = sys.version_info\n",
    "if ver >= (3,):\n",
    "    try:\n",
    "        import pymysql as mysql\n",
    "    except ModuleNotFoundError as e:\n",
    "        !pip install pymysql\n",
    "        import pymysql as mysql\n",
    "elif ver == (2,):\n",
    "    import MySQLdb as mysql\n",
    "\n",
    "Hostname = \"localhost\"\n",
    "dbusername = \"root\"\n",
    "password = \"\"\n",
    "dbname = \"test\"\n",
    "\n",
    "# Open database connection\n",
    "con = mysql.connect(host = Hostname, user = dbusername, password = password, database = dbname, port=3306)\n",
    "cur = con.cursor()\n",
    " \n",
    "# Drop table if it already exist using execute()\n",
    "cur.execute(\"DROP TABLE IF EXISTS book;\")\n",
    "con.commit()\n",
    "# disconnect from server\n",
    "cur.close()\n",
    "con.close()"
   ]
  },
  {
   "cell_type": "markdown",
   "metadata": {},
   "source": [
    "## 3-5 新增紀錄"
   ]
  },
  {
   "cell_type": "markdown",
   "metadata": {},
   "source": [
    "### 法1"
   ]
  },
  {
   "cell_type": "code",
   "execution_count": 3,
   "metadata": {},
   "outputs": [],
   "source": [
    "import sys\n",
    "ver = sys.version_info\n",
    "if ver >= (3,):\n",
    "    try:\n",
    "        import pymysql as mysql\n",
    "    except ModuleNotFoundError as e:\n",
    "        !pip install pymysql\n",
    "        import pymysql as mysql\n",
    "elif ver == (2,):\n",
    "    import MySQLdb as mysql\n",
    "\n",
    "Hostname = \"localhost\"\n",
    "dbusername = \"root\"\n",
    "password = \"\"\n",
    "dbname = \"test\"\n",
    "\n",
    "# Open database connection\n",
    "con = mysql.connect(host = Hostname, user = dbusername, password = password, database = dbname, port=3306)\n",
    "cur = con.cursor()\n",
    "\n",
    "date = \"20181130\"\n",
    "books = '從零開始學 Python 程式設計 (適用Python 3.5以上)(暢銷回饋版)'\n",
    "isbn = '9789864343492'\n",
    "price = 580\n",
    "\n",
    "try:\n",
    "    cur.execute(\"INSERT INTO book (dates, books, isbn, price) values ('%s', '%s', '%s', %d)\" % (date, books, isbn, price))\n",
    "    con.commit()\n",
    "except Exception as e: #異常處理\n",
    "    print (e)\n",
    "    con.rollback\n",
    "    \n",
    "cur.close()\n",
    "con.close()"
   ]
  },
  {
   "cell_type": "markdown",
   "metadata": {},
   "source": [
    "### 法2"
   ]
  },
  {
   "cell_type": "code",
   "execution_count": null,
   "metadata": {},
   "outputs": [],
   "source": [
    "import sys\n",
    "ver = sys.version_info\n",
    "if ver >= (3,):\n",
    "    try:\n",
    "        import pymysql as mysql\n",
    "    except ModuleNotFoundError as e:\n",
    "        !pip install pymysql\n",
    "        import pymysql as mysql\n",
    "elif ver == (2,):\n",
    "    import MySQLdb as mysql\n",
    "\n",
    "Hostname = \"localhost\"\n",
    "dbusername = \"root\"\n",
    "password = \"usbw\"\n",
    "dbname = \"test\"\n",
    "\n",
    "# Open database connection\n",
    "con = mysql.connect(host = Hostname, user = dbusername, password = password, database = dbname, port=3307)\n",
    "cur = con.cursor()\n",
    "\n",
    "date = \"20181130\"\n",
    "books = '從零開始學 Python 程式設計 (適用Python 3.5以上)(暢銷回饋版)'\n",
    "isbn = '9789864343492'\n",
    "price = 580\n",
    "\n",
    "sql = \"INSERT INTO book (dates, books, isbn, price) VALUES (%s, %s, %s, %s);\"\n",
    "try:\n",
    "    cur.execute(sql, (date, books, isbn, price))\n",
    "    con.commit()\n",
    "except Exception as e: #異常處理\n",
    "    print(\"異常發生:{}\".format(e))\n",
    "    con.rollback()\n",
    "    \n",
    "cur.close()\n",
    "con.close()"
   ]
  },
  {
   "cell_type": "markdown",
   "metadata": {},
   "source": [
    "## 3-6 同時新增多筆資料"
   ]
  },
  {
   "cell_type": "code",
   "execution_count": 8,
   "metadata": {},
   "outputs": [
    {
     "name": "stdout",
     "output_type": "stream",
     "text": [
      "異常發生:(1146, \"Table 'test.book' doesn't exist\")\n"
     ]
    }
   ],
   "source": [
    "import sys\n",
    "import booklist\n",
    "\n",
    "ver = sys.version_info\n",
    "if ver >= (3,):\n",
    "    try:\n",
    "        import pymysql as mysql\n",
    "    except ModuleNotFoundError as e:\n",
    "        !pip install pymysql\n",
    "        import pymysql as mysql\n",
    "elif ver == (2,):\n",
    "    import MySQLdb as mysql\n",
    "\n",
    "Hostname = \"localhost\"\n",
    "dbusername = \"root\"\n",
    "password = \"\"\n",
    "dbname = \"test\"\n",
    "\n",
    "# Open database connection\n",
    "con = mysql.connect(host = Hostname, user = dbusername, password = password, database = dbname, port=3306)\n",
    "cur = con.cursor()\n",
    "\n",
    "books = booklist.getbooklist()\n",
    "sql = \"INSERT INTO book (dates, books, isbn, price) VALUES (%s, %s, %s, %s);\"\n",
    "try:\n",
    "    cur.executemany(sql, books)\n",
    "    con.commit()\n",
    "except Exception as e: #異常處理\n",
    "    print(\"異常發生:{}\".format(e))\n",
    "    con.rollback()\n",
    "    \n",
    "cur.close()\n",
    "con.close()"
   ]
  },
  {
   "cell_type": "markdown",
   "metadata": {},
   "source": [
    "## 3-7 更新資料表紀錄"
   ]
  },
  {
   "cell_type": "code",
   "execution_count": 5,
   "metadata": {},
   "outputs": [
    {
     "name": "stdout",
     "output_type": "stream",
     "text": [
      "fetchone : (1, '20181130', '從零開始學 Python 程式設計 (適用Python 3.5以上)(暢銷回饋版)', '9789864343492', 320)\n",
      "fetchall : ((2, '20171221', 'Python 入門邁向高手之路王者歸來', '9789865000592', 699), (3, '20180904', 'Python 程式設計入門：金融商管實務案例, 3/e', '9789864343300', 550), (4, '20190815', 'Python 最強入門邁向頂尖高手之路：王者歸來 (全彩版)', '9789869807241', 1000), (5, '20190705', '超圖解 Python 程式設計入門', '9789863125952', 650), (6, '20161229', 'Python 自動化的樂趣｜搞定重複瑣碎 & 單調無聊的工作 (中文版)', '9789864762729', 500), (7, '20190325', 'Python零基礎入門班(第二版)：一次打好程式設計、運算思維與邏輯訓練基本功！', '9789865020798', 390), (8, '20190806', '秋聲教你玩Python：給挑戰者的修行之路', '9789864344147', 450), (9, '20161102', 'Python 程式設計「超入門」', '9789863123798', 420), (10, '20160630', 'Python 程式設計入門指南', '9789864760527', 520), (11, '20170421', '學會 Python：從不懂，到玩上手！', '9789863124245', 550))\n"
     ]
    }
   ],
   "source": [
    "import sys\n",
    "ver = sys.version_info\n",
    "if ver >= (3,):\n",
    "    try:\n",
    "        import pymysql as mysql\n",
    "    except ModuleNotFoundError as e:\n",
    "        !pip install pymysql\n",
    "        import pymysql as mysql\n",
    "elif ver == (2,):\n",
    "    import MySQLdb as mysql\n",
    "\n",
    "Hostname = \"localhost\"\n",
    "dbusername = \"root\"\n",
    "password = \"\"\n",
    "dbname = \"test\"\n",
    "\n",
    "# Open database connection\n",
    "con = mysql.connect(host = Hostname, user = dbusername, password = password, database = dbname, port=3306)\n",
    "cur = con.cursor()\n",
    "\n",
    "try:\n",
    "    cur.execute(\"UPDATE book SET price = %s WHERE id = %s;\", (320, 1))\n",
    "    con.commit() \n",
    "except Exception as e: #異常處理\n",
    "    print (e)\n",
    "    con.rollback\n",
    "    \n",
    "cur.execute( \"SELECT * FROM book\")\n",
    "print(\"fetchone : \" + str( cur.fetchone()))\n",
    "print(\"fetchall : \" + str( cur.fetchall()))\n",
    "\n",
    "cur.close()\n",
    "con.close()"
   ]
  },
  {
   "cell_type": "markdown",
   "metadata": {},
   "source": [
    "## 3-8 刪除資料表紀錄"
   ]
  },
  {
   "cell_type": "code",
   "execution_count": 6,
   "metadata": {},
   "outputs": [],
   "source": [
    "import sys\n",
    "ver = sys.version_info\n",
    "if ver >= (3,):\n",
    "    import pymysql as mysql\n",
    "elif ver == (2,):\n",
    "    import MySQLdb as mysql\n",
    "\n",
    "Hostname = \"localhost\"\n",
    "dbusername = \"root\"\n",
    "password = \"\"\n",
    "dbname = \"test\"\n",
    "\n",
    "# Open database connection\n",
    "con = mysql.connect(host = Hostname, user = dbusername, password = password, database = dbname, port=3306)\n",
    "cur = con.cursor()\n",
    "try:\n",
    "    #cur.execute( \"delete from test where id = %d\" % (1))\n",
    "    cur.execute( \"DELETE FROM book WHERE id = %s;\", (1, ))\n",
    "    con.commit()\n",
    "    \n",
    "except Exception as e: #異常處理\n",
    "    print(\"異常發生:{}\".format(e))\n",
    "    con.rollback()\n",
    "    \n",
    "cur.close()\n",
    "con.close()"
   ]
  },
  {
   "cell_type": "markdown",
   "metadata": {},
   "source": [
    "## 3-9 查詢紀錄"
   ]
  },
  {
   "cell_type": "markdown",
   "metadata": {},
   "source": [
    "### 法1：ODBC\n",
    "### ODBC 8.00.17之前版本可使用 https://downloads.mysql.com/archives/c-odbc/"
   ]
  },
  {
   "cell_type": "code",
   "execution_count": 2,
   "metadata": {},
   "outputs": [
    {
     "name": "stdout",
     "output_type": "stream",
     "text": [
      "Requirement already satisfied: pyodbc in c:\\users\\lo yuan\\anaconda3\\lib\\site-packages (4.0.34)\n"
     ]
    }
   ],
   "source": [
    "!pip install pyodbc"
   ]
  },
  {
   "cell_type": "code",
   "execution_count": 3,
   "metadata": {},
   "outputs": [
    {
     "name": "stdout",
     "output_type": "stream",
     "text": [
      "1 Excel 20231001 1.1.1.0 Excel_v2 \n",
      "2 Python金融 20220103 1.0.0.2 Python金融V2 \n",
      "3 Python爬蟲 20210301 1.0.0.6 Python金融V5 \n",
      "4 Python大數據 20221001 1.0.1.2 Python大數據V5 \n",
      "5 Excel爬蟲 20211009 1.1.1.2 Excel爬蟲V2 \n"
     ]
    }
   ],
   "source": [
    "import sys\n",
    "import numpy as np\n",
    "import pyodbc\n",
    "\n",
    "ODBC = 'MySQL ODBC 8.2 ANSI Driver'\n",
    "Hostname = \"localhost\"\n",
    "port = 3306\n",
    "dbname = \"test\"\n",
    "dbusername = \"root\"\n",
    "password = \"\"\n",
    "\n",
    "#寫法2：ODBC方法\n",
    "connectstr = 'Driver={};Server={};PORT={};Database={};User={};Password={};'.format(ODBC, Hostname, port, dbname, dbusername, password)\n",
    "con = pyodbc.connect(connectstr)\n",
    "\n",
    "cur = con.cursor()\n",
    "\n",
    "sql = \"SELECT * FROM app;\"\n",
    "cur.execute(sql)\n",
    "rows = cur.fetchall()\n",
    "\n",
    "for i in range(0, len(rows)):\n",
    "    for j in range(0, len(rows[0])):\n",
    "        print(rows[i][j], end = \" \")\n",
    "    print()\n",
    "    \n",
    "cur.close()\n",
    "con.close()"
   ]
  },
  {
   "cell_type": "markdown",
   "metadata": {},
   "source": [
    "### 法2：pymysql"
   ]
  },
  {
   "cell_type": "code",
   "execution_count": 8,
   "metadata": {},
   "outputs": [
    {
     "name": "stdout",
     "output_type": "stream",
     "text": [
      "2 20171221 Python 入門邁向高手之路王者歸來 9789865000592\n",
      "3 20180904 Python 程式設計入門：金融商管實務案例, 3/e 9789864343300\n",
      "4 20190815 Python 最強入門邁向頂尖高手之路：王者歸來 (全彩版) 9789869807241\n",
      "5 20190705 超圖解 Python 程式設計入門 9789863125952\n",
      "6 20161229 Python 自動化的樂趣｜搞定重複瑣碎 & 單調無聊的工作 (中文版) 9789864762729\n",
      "7 20190325 Python零基礎入門班(第二版)：一次打好程式設計、運算思維與邏輯訓練基本功！ 9789865020798\n",
      "8 20190806 秋聲教你玩Python：給挑戰者的修行之路 9789864344147\n",
      "9 20161102 Python 程式設計「超入門」 9789863123798\n",
      "10 20160630 Python 程式設計入門指南 9789864760527\n",
      "11 20170421 學會 Python：從不懂，到玩上手！ 9789863124245\n"
     ]
    }
   ],
   "source": [
    "import sys\n",
    "import numpy as np\n",
    "\n",
    "ver = sys.version_info\n",
    "if ver >= (3,):\n",
    "    try:\n",
    "        import pymysql as mysql\n",
    "    except ModuleNotFoundError as e:\n",
    "        !pip install pymysql\n",
    "        import pymysql as mysql\n",
    "elif ver == (2,):\n",
    "    import MySQLdb as mysql\n",
    "    \n",
    "\n",
    "Hostname = \"localhost\"\n",
    "port = 3306\n",
    "dbname = \"test\"\n",
    "dbusername = \"root\"\n",
    "password = \"\"\n",
    "\n",
    "#寫法1：mysql方法\n",
    "con = mysql.connect(host = Hostname, user = dbusername, password = password, database = dbname, port=port)\n",
    "cur = con.cursor()\n",
    "\n",
    "sql = \"SELECT * FROM BOOK;\"\n",
    "cur.execute(sql)\n",
    "rows = cur.fetchall()\n",
    "\n",
    "#寫法1\n",
    "for row in rows:\n",
    "    print(row[0], row[1], row[2], row[3])\n",
    "    \n",
    "cur.close()\n",
    "con.close()"
   ]
  },
  {
   "cell_type": "markdown",
   "metadata": {},
   "source": [
    "### 法3"
   ]
  },
  {
   "cell_type": "code",
   "execution_count": 5,
   "metadata": {},
   "outputs": [
    {
     "name": "stderr",
     "output_type": "stream",
     "text": [
      "C:\\Users\\Lo yuan\\AppData\\Local\\Temp\\ipykernel_17124\\3852249112.py:23: UserWarning: pandas only supports SQLAlchemy connectable (engine/connection) or database string URI or sqlite3 DBAPI2 connection. Other DBAPI2 objects are not tested. Please consider using SQLAlchemy.\n",
      "  df = pd.read_sql(sql, con=conn)\n"
     ]
    },
    {
     "data": {
      "text/html": [
       "<div>\n",
       "<style scoped>\n",
       "    .dataframe tbody tr th:only-of-type {\n",
       "        vertical-align: middle;\n",
       "    }\n",
       "\n",
       "    .dataframe tbody tr th {\n",
       "        vertical-align: top;\n",
       "    }\n",
       "\n",
       "    .dataframe thead th {\n",
       "        text-align: right;\n",
       "    }\n",
       "</style>\n",
       "<table border=\"1\" class=\"dataframe\">\n",
       "  <thead>\n",
       "    <tr style=\"text-align: right;\">\n",
       "      <th></th>\n",
       "      <th>id</th>\n",
       "      <th>name</th>\n",
       "      <th>date</th>\n",
       "      <th>version</th>\n",
       "      <th>remark</th>\n",
       "    </tr>\n",
       "  </thead>\n",
       "  <tbody>\n",
       "    <tr>\n",
       "      <th>0</th>\n",
       "      <td>1</td>\n",
       "      <td>Excel</td>\n",
       "      <td>20231001</td>\n",
       "      <td>1.1.1.0</td>\n",
       "      <td>Excel_v2</td>\n",
       "    </tr>\n",
       "    <tr>\n",
       "      <th>1</th>\n",
       "      <td>2</td>\n",
       "      <td>Python金融</td>\n",
       "      <td>20220103</td>\n",
       "      <td>1.0.0.2</td>\n",
       "      <td>Python金融V2</td>\n",
       "    </tr>\n",
       "    <tr>\n",
       "      <th>2</th>\n",
       "      <td>3</td>\n",
       "      <td>Python爬蟲</td>\n",
       "      <td>20210301</td>\n",
       "      <td>1.0.0.6</td>\n",
       "      <td>Python金融V5</td>\n",
       "    </tr>\n",
       "    <tr>\n",
       "      <th>3</th>\n",
       "      <td>4</td>\n",
       "      <td>Python大數據</td>\n",
       "      <td>20221001</td>\n",
       "      <td>1.0.1.2</td>\n",
       "      <td>Python大數據V5</td>\n",
       "    </tr>\n",
       "    <tr>\n",
       "      <th>4</th>\n",
       "      <td>5</td>\n",
       "      <td>Excel爬蟲</td>\n",
       "      <td>20211009</td>\n",
       "      <td>1.1.1.2</td>\n",
       "      <td>Excel爬蟲V2</td>\n",
       "    </tr>\n",
       "  </tbody>\n",
       "</table>\n",
       "</div>"
      ],
      "text/plain": [
       "   id       name      date  version       remark\n",
       "0   1      Excel  20231001  1.1.1.0     Excel_v2\n",
       "1   2   Python金融  20220103  1.0.0.2   Python金融V2\n",
       "2   3   Python爬蟲  20210301  1.0.0.6   Python金融V5\n",
       "3   4  Python大數據  20221001  1.0.1.2  Python大數據V5\n",
       "4   5    Excel爬蟲  20211009  1.1.1.2    Excel爬蟲V2"
      ]
     },
     "execution_count": 5,
     "metadata": {},
     "output_type": "execute_result"
    }
   ],
   "source": [
    "import sys\n",
    "import pandas as pd\n",
    "\n",
    "ver = sys.version_info\n",
    "if ver >= (3,):\n",
    "    import pymysql as mysql\n",
    "elif ver == (2,):\n",
    "    import MySQLdb as mysql\n",
    "\n",
    "Hostname = \"localhost\"\n",
    "port = 3306\n",
    "dbname = \"test\"\n",
    "dbusername = \"root\"\n",
    "password = \"\"\n",
    "\n",
    "sql = \"SELECT * FROM app\"\n",
    "\n",
    "conn = mysql.connect(host = Hostname, \n",
    "                     user = dbusername, \n",
    "                     password = password, \n",
    "                     database = dbname, \n",
    "                     port=port)\n",
    "df = pd.read_sql(sql, con=conn)\n",
    "df"
   ]
  },
  {
   "cell_type": "markdown",
   "metadata": {},
   "source": [
    "# 4. Python操作SQLite "
   ]
  },
  {
   "cell_type": "markdown",
   "metadata": {},
   "source": [
    "## 4-1 建立資料表"
   ]
  },
  {
   "cell_type": "code",
   "execution_count": 1,
   "metadata": {},
   "outputs": [],
   "source": [
    "import sqlite3 as lite \n",
    "con = lite.connect(\"test.sqlite\")\n",
    "cur = con.cursor()\n",
    "cur.execute(\"CREATE TABLE IF NOT EXISTS book(id int primary key, dates text, books text, isbn text, price int)\")\n",
    "cur.close()\n",
    "con.close()"
   ]
  },
  {
   "cell_type": "markdown",
   "metadata": {},
   "source": [
    "## 4-2 刪除資料表"
   ]
  },
  {
   "cell_type": "code",
   "execution_count": 14,
   "metadata": {
    "collapsed": true
   },
   "outputs": [],
   "source": [
    "import sqlite3 as lite \n",
    "con = lite.connect(\"test.sqlite\")\n",
    "cur = con.cursor()\n",
    "cur.execute(\"DROP TABLE book;\")\n",
    "cur.close()\n",
    "con.close()"
   ]
  },
  {
   "cell_type": "markdown",
   "metadata": {},
   "source": [
    "## 4-3 新增紀錄"
   ]
  },
  {
   "cell_type": "code",
   "execution_count": 34,
   "metadata": {
    "collapsed": true
   },
   "outputs": [],
   "source": [
    "import sqlite3 as lite \n",
    "\n",
    "con = lite.connect(\"test.sqlite\")\n",
    "cur = con.cursor()\n",
    "\n",
    "date = \"20181130\"\n",
    "books = '從零開始學 Python 程式設計 (適用Python 3.5以上)(暢銷回饋版)'\n",
    "isbn = '9789864343492'\n",
    "price = 580\n",
    "\n",
    "#寫法1\n",
    "sql = \"INSERT INTO book (dates, books, isbn, price) VALUES ('{}','{}', '{}', '{}');\".format(date, books, isbn, price)\n",
    "try:\n",
    "    cur.execute(sql)\n",
    "    con.commit()\n",
    "except Exception as e: #異常處理\n",
    "    print(\"異常發生:{}\".format(e))\n",
    "    con.rollback()\n",
    "    \n",
    "#寫法2\n",
    "#try:\n",
    "#    cur.execute(\"INSERT INTO book (dates, books, isbn, price) VALUES (?,?,?,?);\", (date, books, isbn, price))\n",
    "#    con.commit()\n",
    "#except Exception as e:\n",
    "#    print(\"異常發生:{}\".format(e))\n",
    "#    con.rollback()\n",
    "\n",
    "cur.close()\n",
    "con.close()"
   ]
  },
  {
   "cell_type": "markdown",
   "metadata": {},
   "source": [
    "## 4-4 同時新增多筆資料"
   ]
  },
  {
   "cell_type": "code",
   "execution_count": 16,
   "metadata": {
    "collapsed": true
   },
   "outputs": [],
   "source": [
    "import sqlite3 as lite \n",
    "import booklist\n",
    "\n",
    "con = lite.connect(\"test.sqlite\")\n",
    "cur = con.cursor()\n",
    "books = booklist.getbooklist()\n",
    "\n",
    "try:\n",
    "    cur.executemany(\"INSERT INTO book (dates, books, isbn, price) values (?,?,?,?)\", books)\n",
    "    con.commit()\n",
    "except Exception as e: #異常處理\n",
    "    print(\"異常發生:{}\".format(e))\n",
    "    con.rollback()\n",
    "    \n",
    "cur.close()\n",
    "con.close()"
   ]
  },
  {
   "cell_type": "markdown",
   "metadata": {},
   "source": [
    "## 4-5 更新資料表紀錄"
   ]
  },
  {
   "cell_type": "code",
   "execution_count": 16,
   "metadata": {},
   "outputs": [
    {
     "name": "stdout",
     "output_type": "stream",
     "text": [
      "fetchone : (None, '20181130', '從零開始學 Python 程式設計 (適用Python 3.5以上)(暢銷回饋版)', '9789864343492', 580)\n",
      "fetchall : [(None, '20171221', 'Python 入門邁向高手之路王者歸來', '9789865000592', 699), (None, '20180904', 'Python 程式設計入門：金融商管實務案例, 3/e', '9789864343300', 550), (None, '20190815', 'CPython 最強入門邁向頂尖高手之路：王者歸來 (全彩版)', '9789869807241', 1000)]\n"
     ]
    }
   ],
   "source": [
    "import sqlite3 as lite \n",
    "con = lite.connect(\"test.sqlite\")\n",
    "cur = con.cursor()\n",
    "sql = \"update book set price = ? where id = ?;\"\n",
    "cur.execute(sql, (600, 1))\n",
    "\n",
    "try:\n",
    "    cur.execute( \"select * from book;\")\n",
    "    con.commit() \n",
    "except Exception as e: #異常處理\n",
    "    print(\"異常發生:{}\".format(e))\n",
    "    con.rollback()\n",
    "    \n",
    "print (\"fetchone : \" + str( cur.fetchone()))\n",
    "print (\"fetchall : \" + str( cur.fetchall()))\n",
    "cur.close()\n",
    "con.close()"
   ]
  },
  {
   "cell_type": "markdown",
   "metadata": {},
   "source": [
    "## 4-6 刪除資料表紀錄"
   ]
  },
  {
   "cell_type": "code",
   "execution_count": 22,
   "metadata": {
    "collapsed": true
   },
   "outputs": [],
   "source": [
    "import sqlite3 as lite \n",
    "con = lite.connect(\"test.sqlite\")\n",
    "cur = con.cursor()\n",
    "sql = \"DELETE FROM book WHERE id = ?;\"\n",
    "\n",
    "try:\n",
    "    cur.execute(sql, (2, ))\n",
    "    con.commit() \n",
    "except Exception as e: #異常處理\n",
    "    print(\"異常發生:{}\".format(e))\n",
    "    con.rollback()\n",
    "    \n",
    "cur.close()\n",
    "con.close()"
   ]
  },
  {
   "cell_type": "markdown",
   "metadata": {},
   "source": [
    "## 4-7 查詢紀錄"
   ]
  },
  {
   "cell_type": "code",
   "execution_count": 19,
   "metadata": {},
   "outputs": [
    {
     "name": "stdout",
     "output_type": "stream",
     "text": [
      "20181130 從零開始學 Python 程式設計 (適用Python 3.5以上)(暢銷回饋版) 9789864343492 580\n",
      "20171221 Python 入門邁向高手之路王者歸來 9789865000592 699\n",
      "20180904 Python 程式設計入門：金融商管實務案例, 3/e 9789864343300 550\n",
      "20190815 CPython 最強入門邁向頂尖高手之路：王者歸來 (全彩版) 9789869807241 1000\n"
     ]
    }
   ],
   "source": [
    "import sqlite3 as lite \n",
    "\n",
    "con = lite.connect(\"test.sqlite\")\n",
    "cur = con.cursor()\n",
    "red = cur.execute(\"SELECT * FROM BOOK;\")\n",
    "for row in red:\n",
    "    print ( row[1], row[2], row[3], row[4])\n",
    "cur.close()\n",
    "con.close()"
   ]
  },
  {
   "cell_type": "markdown",
   "metadata": {},
   "source": [
    "# 5. SQLite 與 Pandas"
   ]
  },
  {
   "cell_type": "markdown",
   "metadata": {},
   "source": [
    "## 5-1 使用Pandas 建立Table並整批寫入SQLite"
   ]
  },
  {
   "cell_type": "code",
   "execution_count": 17,
   "metadata": {
    "collapsed": true
   },
   "outputs": [],
   "source": [
    "import pandas as pd\n",
    "import sqlite3 as lite\n",
    "import booklist\n",
    "\n",
    "books = booklist.getbooklist()\n",
    "df = pd.DataFrame(books)\n",
    "\n",
    "with lite.connect(\"test.sqlite\") as db:\n",
    "    df.to_sql(name ='book', con = db, if_exists='replace')"
   ]
  },
  {
   "cell_type": "markdown",
   "metadata": {},
   "source": [
    "## 5-2 使用Pandas讀取SQLite"
   ]
  },
  {
   "cell_type": "code",
   "execution_count": 18,
   "metadata": {},
   "outputs": [
    {
     "data": {
      "text/html": [
       "<div>\n",
       "<style>\n",
       "    .dataframe thead tr:only-child th {\n",
       "        text-align: right;\n",
       "    }\n",
       "\n",
       "    .dataframe thead th {\n",
       "        text-align: left;\n",
       "    }\n",
       "\n",
       "    .dataframe tbody tr th {\n",
       "        vertical-align: top;\n",
       "    }\n",
       "</style>\n",
       "<table border=\"1\" class=\"dataframe\">\n",
       "  <thead>\n",
       "    <tr style=\"text-align: right;\">\n",
       "      <th></th>\n",
       "      <th>0</th>\n",
       "      <th>1</th>\n",
       "      <th>2</th>\n",
       "      <th>3</th>\n",
       "    </tr>\n",
       "    <tr>\n",
       "      <th>index</th>\n",
       "      <th></th>\n",
       "      <th></th>\n",
       "      <th></th>\n",
       "      <th></th>\n",
       "    </tr>\n",
       "  </thead>\n",
       "  <tbody>\n",
       "    <tr>\n",
       "      <th>0</th>\n",
       "      <td>20171221</td>\n",
       "      <td>Python 入門邁向高手之路王者歸來</td>\n",
       "      <td>9789865000592</td>\n",
       "      <td>699</td>\n",
       "    </tr>\n",
       "    <tr>\n",
       "      <th>1</th>\n",
       "      <td>20180904</td>\n",
       "      <td>Python 程式設計入門：金融商管實務案例, 3/e</td>\n",
       "      <td>9789864343300</td>\n",
       "      <td>550</td>\n",
       "    </tr>\n",
       "    <tr>\n",
       "      <th>2</th>\n",
       "      <td>20190815</td>\n",
       "      <td>Python 最強入門邁向頂尖高手之路：王者歸來 (全彩版)</td>\n",
       "      <td>9789869807241</td>\n",
       "      <td>1000</td>\n",
       "    </tr>\n",
       "    <tr>\n",
       "      <th>3</th>\n",
       "      <td>20190705</td>\n",
       "      <td>超圖解 Python 程式設計入門</td>\n",
       "      <td>9789863125952</td>\n",
       "      <td>650</td>\n",
       "    </tr>\n",
       "    <tr>\n",
       "      <th>4</th>\n",
       "      <td>20161229</td>\n",
       "      <td>Python 自動化的樂趣｜搞定重複瑣碎 &amp; 單調無聊的工作 (中文版)</td>\n",
       "      <td>9789864762729</td>\n",
       "      <td>500</td>\n",
       "    </tr>\n",
       "  </tbody>\n",
       "</table>\n",
       "</div>"
      ],
      "text/plain": [
       "              0                                     1              2     3\n",
       "index                                                                     \n",
       "0      20171221                   Python 入門邁向高手之路王者歸來  9789865000592   699\n",
       "1      20180904           Python 程式設計入門：金融商管實務案例, 3/e  9789864343300   550\n",
       "2      20190815        Python 最強入門邁向頂尖高手之路：王者歸來 (全彩版)  9789869807241  1000\n",
       "3      20190705                     超圖解 Python 程式設計入門  9789863125952   650\n",
       "4      20161229  Python 自動化的樂趣｜搞定重複瑣碎 & 單調無聊的工作 (中文版)  9789864762729   500"
      ]
     },
     "execution_count": 18,
     "metadata": {},
     "output_type": "execute_result"
    }
   ],
   "source": [
    "import sqlite3 as lite\n",
    "with lite.connect('test.sqlite') as db:\n",
    "    df = pd.read_sql_query('SELECT * FROM BOOK;', db, index_col = ['index'])\n",
    "df.head()"
   ]
  },
  {
   "cell_type": "code",
   "execution_count": null,
   "metadata": {},
   "outputs": [],
   "source": []
  }
 ],
 "metadata": {
  "kernelspec": {
   "display_name": "Python 3 (ipykernel)",
   "language": "python",
   "name": "python3"
  },
  "language_info": {
   "codemirror_mode": {
    "name": "ipython",
    "version": 3
   },
   "file_extension": ".py",
   "mimetype": "text/x-python",
   "name": "python",
   "nbconvert_exporter": "python",
   "pygments_lexer": "ipython3",
   "version": "3.10.9"
  }
 },
 "nbformat": 4,
 "nbformat_minor": 2
}
