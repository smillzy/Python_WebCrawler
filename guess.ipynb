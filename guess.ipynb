{
 "cells": [
  {
   "cell_type": "code",
   "execution_count": 2,
   "id": "402c844d",
   "metadata": {},
   "outputs": [
    {
     "name": "stdout",
     "output_type": "stream",
     "text": [
      "請輸入一個數字(0~9)：0\n",
      "猜錯了！還有 4 次機會。\n",
      "請輸入一個數字(0~9)：9\n",
      "猜錯了！還有 3 次機會。\n",
      "請輸入一個數字(0~9)：8\n",
      "猜錯了！還有 2 次機會。\n",
      "請輸入一個數字(0~9)：7\n",
      "答對了！\n"
     ]
    }
   ],
   "source": [
    "import numpy as np\n",
    "\n",
    "def input_guess():\n",
    "    while True:\n",
    "        guess = input(\"請輸入一個數字(0~9)：\")\n",
    "        if guess.isdigit() and 0 <= int(guess) <= 9:\n",
    "            return int(guess)\n",
    "        else:\n",
    "            print(\"輸入錯誤，請重新輸入!\")\n",
    "\n",
    "def main():\n",
    "    answer = np.random.randint(0, 10)\n",
    "    max_attempts = 5\n",
    "    attempts = 0\n",
    "    \n",
    "    while attempts < max_attempts:\n",
    "        guess = input_guess()\n",
    "\n",
    "        if guess == answer:\n",
    "            print(\"答對了！\")\n",
    "            break\n",
    "        else:\n",
    "            attempts += 1\n",
    "            print(\"猜錯了！還有 {} 次機會。\".format(max_attempts-attempts))\n",
    "\n",
    "    if attempts == 5:\n",
    "        print(\"遊戲結束，你猜錯了太多次。正確答案是 {}。\".format(answer))\n",
    "\n",
    "if __name__ == \"__main__\":\n",
    "    main()"
   ]
  },
  {
   "cell_type": "code",
   "execution_count": 3,
   "id": "5edb0228",
   "metadata": {},
   "outputs": [
    {
     "name": "stdout",
     "output_type": "stream",
     "text": [
      "The following commands were written to file `guess.py`:\n",
      "import numpy as np\n",
      "\n",
      "def input_guess():\n",
      "    while True:\n",
      "        guess = input(\"請輸入一個數字(0~9)：\")\n",
      "        if guess.isdigit() and 0 <= int(guess) <= 9:\n",
      "            return int(guess)\n",
      "        else:\n",
      "            print(\"輸入錯誤，請重新輸入!\")\n",
      "\n",
      "def main():\n",
      "    answer = np.random.randint(0, 10)\n",
      "    max_attempts = 5\n",
      "    attempts = 0\n",
      "    \n",
      "    while attempts < max_attempts:\n",
      "        guess = input_guess()\n",
      "\n",
      "        if guess == answer:\n",
      "            print(\"答對了！\")\n",
      "            break\n",
      "        else:\n",
      "            attempts += 1\n",
      "            print(\"猜錯了！還有 {} 次機會。\".format(max_attempts-attempts))\n",
      "\n",
      "    if attempts == 5:\n",
      "        print(\"遊戲結束，你猜錯了太多次。正確答案是 {}。\".format(answer))\n",
      "\n",
      "if __name__ == \"__main__\":\n",
      "    main()\n"
     ]
    }
   ],
   "source": [
    "%save guess.py 2"
   ]
  },
  {
   "cell_type": "code",
   "execution_count": null,
   "id": "7590c7d2",
   "metadata": {},
   "outputs": [],
   "source": [
    "import numpy as np\n"
   ]
  }
 ],
 "metadata": {
  "kernelspec": {
   "display_name": "Python 3 (ipykernel)",
   "language": "python",
   "name": "python3"
  },
  "language_info": {
   "codemirror_mode": {
    "name": "ipython",
    "version": 3
   },
   "file_extension": ".py",
   "mimetype": "text/x-python",
   "name": "python",
   "nbconvert_exporter": "python",
   "pygments_lexer": "ipython3",
   "version": "3.10.9"
  }
 },
 "nbformat": 4,
 "nbformat_minor": 5
}
