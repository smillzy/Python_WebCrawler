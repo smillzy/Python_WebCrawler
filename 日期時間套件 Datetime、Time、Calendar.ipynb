{
 "cells": [
  {
   "cell_type": "markdown",
   "metadata": {},
   "source": [
    "# 格林威治時間 GMT\n",
    ">十七世紀，格林威治皇家天文台為了海上霸權的擴張計畫而進行天體觀測。到了1884年決定以通過格林威治的子午線作為劃分地球東西兩半球的經度零度。觀測所門口牆上有一個標誌24小時的時鐘，顯示當下的時間，對全球而言，這裡所設定的時間是世界時間參考點，全球都以格林威治的時間作為標準來設定時間，這就是我們耳熟能詳的「格林威治標準時間」(Greenwich Mean Time，簡稱GMT)的由來\n",
    "\n",
    ">明定以英國倫敦格林威治這個地方為零度經線的起點（亦稱為本初子午線），並以地球由西向東每24小時自轉一周360°，訂定每隔經度15°，時差1小時。而每15°的經線則稱為該時區的中央經線，將全球划分為24個時區，其中包含23個整時區及180°經線左右兩側的2個半時區。東經的時間比西經要早，也就是如果格林威治時間是中午12時，則中央經線15°E的時區為下午1時，中央經線30°E時區的時間為下午2時；反之，中央經線15°W的時區時間為上午11時，中央經線30°W時區的時間為上午10時。如果兩人同時從格林威治的0°各往東、西方前進，當他們在經線180°時，就會相差24小時，所以經線180°被定為國際換日線，由西向東通過此線時日期要減去一日，反之，若由東向西則要增加一日。\n",
    "\n",
    ">格林威治，其實是英國倫敦的一個小鎮，位於倫敦東南、泰晤士河南岸，這是作為世界文化遺產的格林威治天文台舊址\n",
    "\n",
    "\n",
    "# 世界協調時間 UTC\n",
    ">UTC指的是Coordinated Universal Time－ 世界協調時間(又稱世界標準時間、世界統一時間)，是經過平均太陽時(以格林威治時間GMT為準)、地軸運動修正後的新時標以及以「秒」為單位的國際原子時所綜合精算而成的時間，計算過程相當嚴謹精密，因此若以「世界標準時間」的角度來說，UTC比GMT來得更加精準。其誤差值必須保持在0.9秒以內，若大於0.9秒則由位於巴黎的國際地球自轉事務中央局發布閏秒，使UTC與地球自轉週期一致。所以基本上UTC的本質強調的是比GMT更為精確的世界時間標準，不過對於現行錶款來說，GMT與UTC的功能與精確度是沒有差別的。UTC時間+時區偏移量就是當地時間，如北京東8區(GMT+8)，則UTC時間+08小時就表示北京時間。\n"
   ]
  },
  {
   "cell_type": "markdown",
   "metadata": {},
   "source": [
    "#### 設定時間時域 [時區列表](https://zh.m.wikipedia.org/zh-hant/%E6%97%B6%E5%8C%BA%E5%88%97%E8%A1%A8)、[時區一覽](https://jp.cybozu.help/general/zh-tw/admin/list_systemadmin/list_localization/timezone.html)\n",
    "\n",
    "> 地球由西向東自轉 (逆時針)，每24 小時自轉一次，以經度360 度計算，每小時自轉15 度，亦即每增加15 度就有一個小時的時差。 現今施行的「世界標準時區制」，以格林威治天文台的 0 度經線為中點，將全球劃分為24 個時區， 每一個時區(GMT)為經線15 度，每時區相差一小時。\n",
    "\n",
    "#### 經度分為東西兩邊，東經為正，西經為負。請先找出經度與0度的差值，然後依據經度每差15度時間就差一小時的規則，找出這兩個地區相對於經度0度時的GMT(時區)，再取得兩者GMT的差值(絕對值)，即是時差\n",
    "\n",
    "> - 經線：通過兩極而與赤道成直交的垂直大圓圈。通過英國格林威治天文台之經線為零度經線。\n",
    "> - 經度：標準經線以東為東經(E)0度-180度，標準經線以西為西經(W) 0度-180度。\n",
    "> - 緯線：橫過經線與赤道平行之圓圈。以赤道為起點(零度)。\n",
    "> - 緯度：赤道以北為北緯（N）0度-90度，赤道以南為南緯（S）0度-90度。\n",
    "\n",
    "- 舉例來說:\n",
    "    - 台灣的經度約略121E(臺灣本島之地理位置為東經120°E至122°E)，換算成時區是121/15=8..1，GMT是+8\n",
    "    - 東京的經度約略139E(東京都地理位置 緯度：35.689381N 經度：139.69181E)，換算成時區是139/15=9...4，GMT是+9\n",
    "    - 紐約的經度約略74W，換算成時區是74/15=4...14，GMT是-4\n",
    "    - 所以，台灣與東京的時差為9-8=1小時，台灣與紐約的時差為8-(-4)=12小時"
   ]
  },
  {
   "cell_type": "code",
   "execution_count": 1,
   "metadata": {},
   "outputs": [
    {
     "name": "stdout",
     "output_type": "stream",
     "text": [
      "台灣: 2023-08-05 14:09:00.576925+08:00\n",
      "英國: 2023-08-05 14:09:00.576925+00:00\n",
      "UTC: 2023-08-05 14:09:00.576925+00:00\n",
      "紐約: 2023-08-05 14:09:00.576925-04:00\n",
      "東京: 2023-08-05 14:09:00.576925+09:00\n",
      "台灣與紐約差小時: 12:00:00\n",
      "台灣與東京差小時: 1:00:00\n"
     ]
    }
   ],
   "source": [
    "#台北/英國/格林威治當地時間\n",
    "import datetime as dt\n",
    "import pytz\n",
    "\n",
    "d = dt.datetime.now()\n",
    "twdt = pytz.timezone('Asia/Taipei')\n",
    "gmtdt = pytz.timezone('Etc/GMT')\n",
    "utcdt = pytz.timezone('UTC')\n",
    "NY = pytz.timezone('America/New_York')\n",
    "TK = pytz.timezone('Asia/Tokyo')\n",
    "\n",
    "twt = twdt.localize(d)\n",
    "gmtt = gmtdt.localize(d)\n",
    "utcdt = utcdt.localize(d)\n",
    "nydt = NY.localize(d)\n",
    "tkdt = TK.localize(d)\n",
    "\n",
    "print(\"台灣:\", twt)\n",
    "print(\"英國:\", gmtt)\n",
    "print(\"UTC:\", utcdt)\n",
    "print(\"紐約:\", nydt)\n",
    "print(\"東京:\", tkdt)\n",
    "print(\"台灣與紐約差小時:\", nydt - twt)\n",
    "print(\"台灣與東京差小時:\", twt - tkdt)"
   ]
  },
  {
   "cell_type": "markdown",
   "metadata": {},
   "source": [
    "#### 時域套件pytz"
   ]
  },
  {
   "cell_type": "code",
   "execution_count": 44,
   "metadata": {},
   "outputs": [
    {
     "data": {
      "text/plain": [
       "['Africa/Abidjan',\n",
       " 'Africa/Accra',\n",
       " 'Africa/Addis_Ababa',\n",
       " 'Africa/Algiers',\n",
       " 'Africa/Asmara',\n",
       " 'Africa/Asmera',\n",
       " 'Africa/Bamako',\n",
       " 'Africa/Bangui',\n",
       " 'Africa/Banjul',\n",
       " 'Africa/Bissau',\n",
       " 'Africa/Blantyre',\n",
       " 'Africa/Brazzaville',\n",
       " 'Africa/Bujumbura',\n",
       " 'Africa/Cairo',\n",
       " 'Africa/Casablanca',\n",
       " 'Africa/Ceuta',\n",
       " 'Africa/Conakry',\n",
       " 'Africa/Dakar',\n",
       " 'Africa/Dar_es_Salaam',\n",
       " 'Africa/Djibouti',\n",
       " 'Africa/Douala',\n",
       " 'Africa/El_Aaiun',\n",
       " 'Africa/Freetown',\n",
       " 'Africa/Gaborone',\n",
       " 'Africa/Harare',\n",
       " 'Africa/Johannesburg',\n",
       " 'Africa/Juba',\n",
       " 'Africa/Kampala',\n",
       " 'Africa/Khartoum',\n",
       " 'Africa/Kigali',\n",
       " 'Africa/Kinshasa',\n",
       " 'Africa/Lagos',\n",
       " 'Africa/Libreville',\n",
       " 'Africa/Lome',\n",
       " 'Africa/Luanda',\n",
       " 'Africa/Lubumbashi',\n",
       " 'Africa/Lusaka',\n",
       " 'Africa/Malabo',\n",
       " 'Africa/Maputo',\n",
       " 'Africa/Maseru',\n",
       " 'Africa/Mbabane',\n",
       " 'Africa/Mogadishu',\n",
       " 'Africa/Monrovia',\n",
       " 'Africa/Nairobi',\n",
       " 'Africa/Ndjamena',\n",
       " 'Africa/Niamey',\n",
       " 'Africa/Nouakchott',\n",
       " 'Africa/Ouagadougou',\n",
       " 'Africa/Porto-Novo',\n",
       " 'Africa/Sao_Tome',\n",
       " 'Africa/Timbuktu',\n",
       " 'Africa/Tripoli',\n",
       " 'Africa/Tunis',\n",
       " 'Africa/Windhoek',\n",
       " 'America/Adak',\n",
       " 'America/Anchorage',\n",
       " 'America/Anguilla',\n",
       " 'America/Antigua',\n",
       " 'America/Araguaina',\n",
       " 'America/Argentina/Buenos_Aires',\n",
       " 'America/Argentina/Catamarca',\n",
       " 'America/Argentina/ComodRivadavia',\n",
       " 'America/Argentina/Cordoba',\n",
       " 'America/Argentina/Jujuy',\n",
       " 'America/Argentina/La_Rioja',\n",
       " 'America/Argentina/Mendoza',\n",
       " 'America/Argentina/Rio_Gallegos',\n",
       " 'America/Argentina/Salta',\n",
       " 'America/Argentina/San_Juan',\n",
       " 'America/Argentina/San_Luis',\n",
       " 'America/Argentina/Tucuman',\n",
       " 'America/Argentina/Ushuaia',\n",
       " 'America/Aruba',\n",
       " 'America/Asuncion',\n",
       " 'America/Atikokan',\n",
       " 'America/Atka',\n",
       " 'America/Bahia',\n",
       " 'America/Bahia_Banderas',\n",
       " 'America/Barbados',\n",
       " 'America/Belem',\n",
       " 'America/Belize',\n",
       " 'America/Blanc-Sablon',\n",
       " 'America/Boa_Vista',\n",
       " 'America/Bogota',\n",
       " 'America/Boise',\n",
       " 'America/Buenos_Aires',\n",
       " 'America/Cambridge_Bay',\n",
       " 'America/Campo_Grande',\n",
       " 'America/Cancun',\n",
       " 'America/Caracas',\n",
       " 'America/Catamarca',\n",
       " 'America/Cayenne',\n",
       " 'America/Cayman',\n",
       " 'America/Chicago',\n",
       " 'America/Chihuahua',\n",
       " 'America/Coral_Harbour',\n",
       " 'America/Cordoba',\n",
       " 'America/Costa_Rica',\n",
       " 'America/Creston',\n",
       " 'America/Cuiaba',\n",
       " 'America/Curacao',\n",
       " 'America/Danmarkshavn',\n",
       " 'America/Dawson',\n",
       " 'America/Dawson_Creek',\n",
       " 'America/Denver',\n",
       " 'America/Detroit',\n",
       " 'America/Dominica',\n",
       " 'America/Edmonton',\n",
       " 'America/Eirunepe',\n",
       " 'America/El_Salvador',\n",
       " 'America/Ensenada',\n",
       " 'America/Fort_Nelson',\n",
       " 'America/Fort_Wayne',\n",
       " 'America/Fortaleza',\n",
       " 'America/Glace_Bay',\n",
       " 'America/Godthab',\n",
       " 'America/Goose_Bay',\n",
       " 'America/Grand_Turk',\n",
       " 'America/Grenada',\n",
       " 'America/Guadeloupe',\n",
       " 'America/Guatemala',\n",
       " 'America/Guayaquil',\n",
       " 'America/Guyana',\n",
       " 'America/Halifax',\n",
       " 'America/Havana',\n",
       " 'America/Hermosillo',\n",
       " 'America/Indiana/Indianapolis',\n",
       " 'America/Indiana/Knox',\n",
       " 'America/Indiana/Marengo',\n",
       " 'America/Indiana/Petersburg',\n",
       " 'America/Indiana/Tell_City',\n",
       " 'America/Indiana/Vevay',\n",
       " 'America/Indiana/Vincennes',\n",
       " 'America/Indiana/Winamac',\n",
       " 'America/Indianapolis',\n",
       " 'America/Inuvik',\n",
       " 'America/Iqaluit',\n",
       " 'America/Jamaica',\n",
       " 'America/Jujuy',\n",
       " 'America/Juneau',\n",
       " 'America/Kentucky/Louisville',\n",
       " 'America/Kentucky/Monticello',\n",
       " 'America/Knox_IN',\n",
       " 'America/Kralendijk',\n",
       " 'America/La_Paz',\n",
       " 'America/Lima',\n",
       " 'America/Los_Angeles',\n",
       " 'America/Louisville',\n",
       " 'America/Lower_Princes',\n",
       " 'America/Maceio',\n",
       " 'America/Managua',\n",
       " 'America/Manaus',\n",
       " 'America/Marigot',\n",
       " 'America/Martinique',\n",
       " 'America/Matamoros',\n",
       " 'America/Mazatlan',\n",
       " 'America/Mendoza',\n",
       " 'America/Menominee',\n",
       " 'America/Merida',\n",
       " 'America/Metlakatla',\n",
       " 'America/Mexico_City',\n",
       " 'America/Miquelon',\n",
       " 'America/Moncton',\n",
       " 'America/Monterrey',\n",
       " 'America/Montevideo',\n",
       " 'America/Montreal',\n",
       " 'America/Montserrat',\n",
       " 'America/Nassau',\n",
       " 'America/New_York',\n",
       " 'America/Nipigon',\n",
       " 'America/Nome',\n",
       " 'America/Noronha',\n",
       " 'America/North_Dakota/Beulah',\n",
       " 'America/North_Dakota/Center',\n",
       " 'America/North_Dakota/New_Salem',\n",
       " 'America/Nuuk',\n",
       " 'America/Ojinaga',\n",
       " 'America/Panama',\n",
       " 'America/Pangnirtung',\n",
       " 'America/Paramaribo',\n",
       " 'America/Phoenix',\n",
       " 'America/Port-au-Prince',\n",
       " 'America/Port_of_Spain',\n",
       " 'America/Porto_Acre',\n",
       " 'America/Porto_Velho',\n",
       " 'America/Puerto_Rico',\n",
       " 'America/Punta_Arenas',\n",
       " 'America/Rainy_River',\n",
       " 'America/Rankin_Inlet',\n",
       " 'America/Recife',\n",
       " 'America/Regina',\n",
       " 'America/Resolute',\n",
       " 'America/Rio_Branco',\n",
       " 'America/Rosario',\n",
       " 'America/Santa_Isabel',\n",
       " 'America/Santarem',\n",
       " 'America/Santiago',\n",
       " 'America/Santo_Domingo',\n",
       " 'America/Sao_Paulo',\n",
       " 'America/Scoresbysund',\n",
       " 'America/Shiprock',\n",
       " 'America/Sitka',\n",
       " 'America/St_Barthelemy',\n",
       " 'America/St_Johns',\n",
       " 'America/St_Kitts',\n",
       " 'America/St_Lucia',\n",
       " 'America/St_Thomas',\n",
       " 'America/St_Vincent',\n",
       " 'America/Swift_Current',\n",
       " 'America/Tegucigalpa',\n",
       " 'America/Thule',\n",
       " 'America/Thunder_Bay',\n",
       " 'America/Tijuana',\n",
       " 'America/Toronto',\n",
       " 'America/Tortola',\n",
       " 'America/Vancouver',\n",
       " 'America/Virgin',\n",
       " 'America/Whitehorse',\n",
       " 'America/Winnipeg',\n",
       " 'America/Yakutat',\n",
       " 'America/Yellowknife',\n",
       " 'Antarctica/Casey',\n",
       " 'Antarctica/Davis',\n",
       " 'Antarctica/DumontDUrville',\n",
       " 'Antarctica/Macquarie',\n",
       " 'Antarctica/Mawson',\n",
       " 'Antarctica/McMurdo',\n",
       " 'Antarctica/Palmer',\n",
       " 'Antarctica/Rothera',\n",
       " 'Antarctica/South_Pole',\n",
       " 'Antarctica/Syowa',\n",
       " 'Antarctica/Troll',\n",
       " 'Antarctica/Vostok',\n",
       " 'Arctic/Longyearbyen',\n",
       " 'Asia/Aden',\n",
       " 'Asia/Almaty',\n",
       " 'Asia/Amman',\n",
       " 'Asia/Anadyr',\n",
       " 'Asia/Aqtau',\n",
       " 'Asia/Aqtobe',\n",
       " 'Asia/Ashgabat',\n",
       " 'Asia/Ashkhabad',\n",
       " 'Asia/Atyrau',\n",
       " 'Asia/Baghdad',\n",
       " 'Asia/Bahrain',\n",
       " 'Asia/Baku',\n",
       " 'Asia/Bangkok',\n",
       " 'Asia/Barnaul',\n",
       " 'Asia/Beirut',\n",
       " 'Asia/Bishkek',\n",
       " 'Asia/Brunei',\n",
       " 'Asia/Calcutta',\n",
       " 'Asia/Chita',\n",
       " 'Asia/Choibalsan',\n",
       " 'Asia/Chongqing',\n",
       " 'Asia/Chungking',\n",
       " 'Asia/Colombo',\n",
       " 'Asia/Dacca',\n",
       " 'Asia/Damascus',\n",
       " 'Asia/Dhaka',\n",
       " 'Asia/Dili',\n",
       " 'Asia/Dubai',\n",
       " 'Asia/Dushanbe',\n",
       " 'Asia/Famagusta',\n",
       " 'Asia/Gaza',\n",
       " 'Asia/Harbin',\n",
       " 'Asia/Hebron',\n",
       " 'Asia/Ho_Chi_Minh',\n",
       " 'Asia/Hong_Kong',\n",
       " 'Asia/Hovd',\n",
       " 'Asia/Irkutsk',\n",
       " 'Asia/Istanbul',\n",
       " 'Asia/Jakarta',\n",
       " 'Asia/Jayapura',\n",
       " 'Asia/Jerusalem',\n",
       " 'Asia/Kabul',\n",
       " 'Asia/Kamchatka',\n",
       " 'Asia/Karachi',\n",
       " 'Asia/Kashgar',\n",
       " 'Asia/Kathmandu',\n",
       " 'Asia/Katmandu',\n",
       " 'Asia/Khandyga',\n",
       " 'Asia/Kolkata',\n",
       " 'Asia/Krasnoyarsk',\n",
       " 'Asia/Kuala_Lumpur',\n",
       " 'Asia/Kuching',\n",
       " 'Asia/Kuwait',\n",
       " 'Asia/Macao',\n",
       " 'Asia/Macau',\n",
       " 'Asia/Magadan',\n",
       " 'Asia/Makassar',\n",
       " 'Asia/Manila',\n",
       " 'Asia/Muscat',\n",
       " 'Asia/Nicosia',\n",
       " 'Asia/Novokuznetsk',\n",
       " 'Asia/Novosibirsk',\n",
       " 'Asia/Omsk',\n",
       " 'Asia/Oral',\n",
       " 'Asia/Phnom_Penh',\n",
       " 'Asia/Pontianak',\n",
       " 'Asia/Pyongyang',\n",
       " 'Asia/Qatar',\n",
       " 'Asia/Qostanay',\n",
       " 'Asia/Qyzylorda',\n",
       " 'Asia/Rangoon',\n",
       " 'Asia/Riyadh',\n",
       " 'Asia/Saigon',\n",
       " 'Asia/Sakhalin',\n",
       " 'Asia/Samarkand',\n",
       " 'Asia/Seoul',\n",
       " 'Asia/Shanghai',\n",
       " 'Asia/Singapore',\n",
       " 'Asia/Srednekolymsk',\n",
       " 'Asia/Taipei',\n",
       " 'Asia/Tashkent',\n",
       " 'Asia/Tbilisi',\n",
       " 'Asia/Tehran',\n",
       " 'Asia/Tel_Aviv',\n",
       " 'Asia/Thimbu',\n",
       " 'Asia/Thimphu',\n",
       " 'Asia/Tokyo',\n",
       " 'Asia/Tomsk',\n",
       " 'Asia/Ujung_Pandang',\n",
       " 'Asia/Ulaanbaatar',\n",
       " 'Asia/Ulan_Bator',\n",
       " 'Asia/Urumqi',\n",
       " 'Asia/Ust-Nera',\n",
       " 'Asia/Vientiane',\n",
       " 'Asia/Vladivostok',\n",
       " 'Asia/Yakutsk',\n",
       " 'Asia/Yangon',\n",
       " 'Asia/Yekaterinburg',\n",
       " 'Asia/Yerevan',\n",
       " 'Atlantic/Azores',\n",
       " 'Atlantic/Bermuda',\n",
       " 'Atlantic/Canary',\n",
       " 'Atlantic/Cape_Verde',\n",
       " 'Atlantic/Faeroe',\n",
       " 'Atlantic/Faroe',\n",
       " 'Atlantic/Jan_Mayen',\n",
       " 'Atlantic/Madeira',\n",
       " 'Atlantic/Reykjavik',\n",
       " 'Atlantic/South_Georgia',\n",
       " 'Atlantic/St_Helena',\n",
       " 'Atlantic/Stanley',\n",
       " 'Australia/ACT',\n",
       " 'Australia/Adelaide',\n",
       " 'Australia/Brisbane',\n",
       " 'Australia/Broken_Hill',\n",
       " 'Australia/Canberra',\n",
       " 'Australia/Currie',\n",
       " 'Australia/Darwin',\n",
       " 'Australia/Eucla',\n",
       " 'Australia/Hobart',\n",
       " 'Australia/LHI',\n",
       " 'Australia/Lindeman',\n",
       " 'Australia/Lord_Howe',\n",
       " 'Australia/Melbourne',\n",
       " 'Australia/NSW',\n",
       " 'Australia/North',\n",
       " 'Australia/Perth',\n",
       " 'Australia/Queensland',\n",
       " 'Australia/South',\n",
       " 'Australia/Sydney',\n",
       " 'Australia/Tasmania',\n",
       " 'Australia/Victoria',\n",
       " 'Australia/West',\n",
       " 'Australia/Yancowinna',\n",
       " 'Brazil/Acre',\n",
       " 'Brazil/DeNoronha',\n",
       " 'Brazil/East',\n",
       " 'Brazil/West',\n",
       " 'CET',\n",
       " 'CST6CDT',\n",
       " 'Canada/Atlantic',\n",
       " 'Canada/Central',\n",
       " 'Canada/Eastern',\n",
       " 'Canada/Mountain',\n",
       " 'Canada/Newfoundland',\n",
       " 'Canada/Pacific',\n",
       " 'Canada/Saskatchewan',\n",
       " 'Canada/Yukon',\n",
       " 'Chile/Continental',\n",
       " 'Chile/EasterIsland',\n",
       " 'Cuba',\n",
       " 'EET',\n",
       " 'EST',\n",
       " 'EST5EDT',\n",
       " 'Egypt',\n",
       " 'Eire',\n",
       " 'Etc/GMT',\n",
       " 'Etc/GMT+0',\n",
       " 'Etc/GMT+1',\n",
       " 'Etc/GMT+10',\n",
       " 'Etc/GMT+11',\n",
       " 'Etc/GMT+12',\n",
       " 'Etc/GMT+2',\n",
       " 'Etc/GMT+3',\n",
       " 'Etc/GMT+4',\n",
       " 'Etc/GMT+5',\n",
       " 'Etc/GMT+6',\n",
       " 'Etc/GMT+7',\n",
       " 'Etc/GMT+8',\n",
       " 'Etc/GMT+9',\n",
       " 'Etc/GMT-0',\n",
       " 'Etc/GMT-1',\n",
       " 'Etc/GMT-10',\n",
       " 'Etc/GMT-11',\n",
       " 'Etc/GMT-12',\n",
       " 'Etc/GMT-13',\n",
       " 'Etc/GMT-14',\n",
       " 'Etc/GMT-2',\n",
       " 'Etc/GMT-3',\n",
       " 'Etc/GMT-4',\n",
       " 'Etc/GMT-5',\n",
       " 'Etc/GMT-6',\n",
       " 'Etc/GMT-7',\n",
       " 'Etc/GMT-8',\n",
       " 'Etc/GMT-9',\n",
       " 'Etc/GMT0',\n",
       " 'Etc/Greenwich',\n",
       " 'Etc/UCT',\n",
       " 'Etc/UTC',\n",
       " 'Etc/Universal',\n",
       " 'Etc/Zulu',\n",
       " 'Europe/Amsterdam',\n",
       " 'Europe/Andorra',\n",
       " 'Europe/Astrakhan',\n",
       " 'Europe/Athens',\n",
       " 'Europe/Belfast',\n",
       " 'Europe/Belgrade',\n",
       " 'Europe/Berlin',\n",
       " 'Europe/Bratislava',\n",
       " 'Europe/Brussels',\n",
       " 'Europe/Bucharest',\n",
       " 'Europe/Budapest',\n",
       " 'Europe/Busingen',\n",
       " 'Europe/Chisinau',\n",
       " 'Europe/Copenhagen',\n",
       " 'Europe/Dublin',\n",
       " 'Europe/Gibraltar',\n",
       " 'Europe/Guernsey',\n",
       " 'Europe/Helsinki',\n",
       " 'Europe/Isle_of_Man',\n",
       " 'Europe/Istanbul',\n",
       " 'Europe/Jersey',\n",
       " 'Europe/Kaliningrad',\n",
       " 'Europe/Kiev',\n",
       " 'Europe/Kirov',\n",
       " 'Europe/Lisbon',\n",
       " 'Europe/Ljubljana',\n",
       " 'Europe/London',\n",
       " 'Europe/Luxembourg',\n",
       " 'Europe/Madrid',\n",
       " 'Europe/Malta',\n",
       " 'Europe/Mariehamn',\n",
       " 'Europe/Minsk',\n",
       " 'Europe/Monaco',\n",
       " 'Europe/Moscow',\n",
       " 'Europe/Nicosia',\n",
       " 'Europe/Oslo',\n",
       " 'Europe/Paris',\n",
       " 'Europe/Podgorica',\n",
       " 'Europe/Prague',\n",
       " 'Europe/Riga',\n",
       " 'Europe/Rome',\n",
       " 'Europe/Samara',\n",
       " 'Europe/San_Marino',\n",
       " 'Europe/Sarajevo',\n",
       " 'Europe/Saratov',\n",
       " 'Europe/Simferopol',\n",
       " 'Europe/Skopje',\n",
       " 'Europe/Sofia',\n",
       " 'Europe/Stockholm',\n",
       " 'Europe/Tallinn',\n",
       " 'Europe/Tirane',\n",
       " 'Europe/Tiraspol',\n",
       " 'Europe/Ulyanovsk',\n",
       " 'Europe/Uzhgorod',\n",
       " 'Europe/Vaduz',\n",
       " 'Europe/Vatican',\n",
       " 'Europe/Vienna',\n",
       " 'Europe/Vilnius',\n",
       " 'Europe/Volgograd',\n",
       " 'Europe/Warsaw',\n",
       " 'Europe/Zagreb',\n",
       " 'Europe/Zaporozhye',\n",
       " 'Europe/Zurich',\n",
       " 'GB',\n",
       " 'GB-Eire',\n",
       " 'GMT',\n",
       " 'GMT+0',\n",
       " 'GMT-0',\n",
       " 'GMT0',\n",
       " 'Greenwich',\n",
       " 'HST',\n",
       " 'Hongkong',\n",
       " 'Iceland',\n",
       " 'Indian/Antananarivo',\n",
       " 'Indian/Chagos',\n",
       " 'Indian/Christmas',\n",
       " 'Indian/Cocos',\n",
       " 'Indian/Comoro',\n",
       " 'Indian/Kerguelen',\n",
       " 'Indian/Mahe',\n",
       " 'Indian/Maldives',\n",
       " 'Indian/Mauritius',\n",
       " 'Indian/Mayotte',\n",
       " 'Indian/Reunion',\n",
       " 'Iran',\n",
       " 'Israel',\n",
       " 'Jamaica',\n",
       " 'Japan',\n",
       " 'Kwajalein',\n",
       " 'Libya',\n",
       " 'MET',\n",
       " 'MST',\n",
       " 'MST7MDT',\n",
       " 'Mexico/BajaNorte',\n",
       " 'Mexico/BajaSur',\n",
       " 'Mexico/General',\n",
       " 'NZ',\n",
       " 'NZ-CHAT',\n",
       " 'Navajo',\n",
       " 'PRC',\n",
       " 'PST8PDT',\n",
       " 'Pacific/Apia',\n",
       " 'Pacific/Auckland',\n",
       " 'Pacific/Bougainville',\n",
       " 'Pacific/Chatham',\n",
       " 'Pacific/Chuuk',\n",
       " 'Pacific/Easter',\n",
       " 'Pacific/Efate',\n",
       " 'Pacific/Enderbury',\n",
       " 'Pacific/Fakaofo',\n",
       " 'Pacific/Fiji',\n",
       " 'Pacific/Funafuti',\n",
       " 'Pacific/Galapagos',\n",
       " 'Pacific/Gambier',\n",
       " 'Pacific/Guadalcanal',\n",
       " 'Pacific/Guam',\n",
       " 'Pacific/Honolulu',\n",
       " 'Pacific/Johnston',\n",
       " 'Pacific/Kanton',\n",
       " 'Pacific/Kiritimati',\n",
       " 'Pacific/Kosrae',\n",
       " 'Pacific/Kwajalein',\n",
       " 'Pacific/Majuro',\n",
       " 'Pacific/Marquesas',\n",
       " 'Pacific/Midway',\n",
       " 'Pacific/Nauru',\n",
       " 'Pacific/Niue',\n",
       " 'Pacific/Norfolk',\n",
       " 'Pacific/Noumea',\n",
       " 'Pacific/Pago_Pago',\n",
       " 'Pacific/Palau',\n",
       " 'Pacific/Pitcairn',\n",
       " 'Pacific/Pohnpei',\n",
       " 'Pacific/Ponape',\n",
       " 'Pacific/Port_Moresby',\n",
       " 'Pacific/Rarotonga',\n",
       " 'Pacific/Saipan',\n",
       " 'Pacific/Samoa',\n",
       " 'Pacific/Tahiti',\n",
       " 'Pacific/Tarawa',\n",
       " 'Pacific/Tongatapu',\n",
       " 'Pacific/Truk',\n",
       " 'Pacific/Wake',\n",
       " 'Pacific/Wallis',\n",
       " 'Pacific/Yap',\n",
       " 'Poland',\n",
       " 'Portugal',\n",
       " 'ROC',\n",
       " 'ROK',\n",
       " 'Singapore',\n",
       " 'Turkey',\n",
       " 'UCT',\n",
       " 'US/Alaska',\n",
       " 'US/Aleutian',\n",
       " 'US/Arizona',\n",
       " 'US/Central',\n",
       " 'US/East-Indiana',\n",
       " 'US/Eastern',\n",
       " 'US/Hawaii',\n",
       " 'US/Indiana-Starke',\n",
       " 'US/Michigan',\n",
       " 'US/Mountain',\n",
       " 'US/Pacific',\n",
       " 'US/Samoa',\n",
       " 'UTC',\n",
       " 'Universal',\n",
       " 'W-SU',\n",
       " 'WET',\n",
       " 'Zulu']"
      ]
     },
     "execution_count": 44,
     "metadata": {},
     "output_type": "execute_result"
    }
   ],
   "source": [
    "#時區ID清單\n",
    "import pytz\n",
    "pytz.all_timezones"
   ]
  },
  {
   "cell_type": "markdown",
   "metadata": {},
   "source": [
    "#### 查找某個國家/地區的時區"
   ]
  },
  {
   "cell_type": "code",
   "execution_count": 26,
   "metadata": {},
   "outputs": [
    {
     "name": "stdout",
     "output_type": "stream",
     "text": [
      "['Asia/Taipei']\n",
      "['Asia/Shanghai', 'Asia/Urumqi']\n"
     ]
    }
   ],
   "source": [
    "import pytz\n",
    "\n",
    "print(pytz.country_timezones('tw'))\n",
    "print(pytz.country_timezones('cn'))"
   ]
  },
  {
   "cell_type": "code",
   "execution_count": 73,
   "metadata": {},
   "outputs": [
    {
     "data": {
      "text/plain": [
       "datetime.timezone(datetime.timedelta(seconds=28800))"
      ]
     },
     "execution_count": 73,
     "metadata": {},
     "output_type": "execute_result"
    }
   ],
   "source": [
    "# 建立GMT+8時區資料\n",
    "import datetime as dt\n",
    "t = dt.timezone(dt.timedelta(hours=8))\n",
    "t"
   ]
  },
  {
   "cell_type": "code",
   "execution_count": 110,
   "metadata": {},
   "outputs": [
    {
     "data": {
      "text/plain": [
       "(<DstTzInfo 'Asia/Taipei' LMT+8:06:00 STD>,\n",
       " <StaticTzInfo 'Etc/GMT'>,\n",
       " <UTC>,\n",
       " <UTC>)"
      ]
     },
     "execution_count": 110,
     "metadata": {},
     "output_type": "execute_result"
    }
   ],
   "source": [
    "#台北/英國/格林威治 時區\n",
    "import pytz\n",
    "pytz.timezone('Asia/Taipei'),  pytz.timezone('Etc/GMT'), pytz.timezone('UTC'), pytz.utc"
   ]
  },
  {
   "cell_type": "code",
   "execution_count": 59,
   "metadata": {},
   "outputs": [
    {
     "data": {
      "text/plain": [
       "datetime.datetime(1970, 1, 1, 8, 0, tzinfo=<DstTzInfo 'Asia/Taipei' CST+8:00:00 STD>)"
      ]
     },
     "execution_count": 59,
     "metadata": {},
     "output_type": "execute_result"
    }
   ],
   "source": [
    "#時間戳為0的台灣時間\n",
    "from datetime import datetime as dt\n",
    "tw = dt.fromtimestamp(0, pytz.timezone('Asia/Taipei'))\n",
    "tw"
   ]
  },
  {
   "cell_type": "code",
   "execution_count": 90,
   "metadata": {},
   "outputs": [
    {
     "data": {
      "text/plain": [
       "datetime.datetime(1970, 1, 1, 0, 0, tzinfo=<StaticTzInfo 'Etc/GMT'>)"
      ]
     },
     "execution_count": 90,
     "metadata": {},
     "output_type": "execute_result"
    }
   ],
   "source": [
    "#時間戳為0的英國時間\n",
    "from datetime import datetime as dt\n",
    "utc = dt.fromtimestamp(0, pytz.timezone('Etc/GMT'))\n",
    "utc"
   ]
  },
  {
   "cell_type": "code",
   "execution_count": 61,
   "metadata": {},
   "outputs": [
    {
     "data": {
      "text/plain": [
       "datetime.datetime(1970, 1, 1, 0, 0, tzinfo=<UTC>)"
      ]
     },
     "execution_count": 61,
     "metadata": {},
     "output_type": "execute_result"
    }
   ],
   "source": [
    "#時間戳為0的UTC時間\n",
    "from datetime import datetime as dt\n",
    "utc = dt.fromtimestamp(0, pytz.timezone('UTC'))\n",
    "utc"
   ]
  },
  {
   "cell_type": "code",
   "execution_count": 181,
   "metadata": {},
   "outputs": [
    {
     "name": "stdout",
     "output_type": "stream",
     "text": [
      "1: 2022-11-20 07:27:00.261794\n",
      "2: 2022-11-20 07:27:00.261794+08:00\n",
      "3: 2022-11-20 07:27:00.261794+08:00\n",
      "4: 2022-11-20 07:27:00.261794+08:06\n",
      "5: 2022-11-20 07:27:00.261794+08:00\n"
     ]
    }
   ],
   "source": [
    "#UTC時間轉台灣時間  GMT+0 => GMT+8\n",
    "import datetime as dt\n",
    "utc = dt.datetime.utcnow()\n",
    "print(\"1:\", utc)\n",
    "print(\"2:\", utc.astimezone(pytz.timezone('Asia/Taipei')))\n",
    "print(\"3:\", utc.astimezone())\n",
    "print(\"4:\", utc.replace(tzinfo = pytz.timezone('Asia/Taipei'))) #建議不要使用，因為會造成時差\n",
    "print(\"5:\", utc.replace(tzinfo = dt.timezone(dt.timedelta(hours = 8))))"
   ]
  },
  {
   "cell_type": "code",
   "execution_count": 175,
   "metadata": {},
   "outputs": [
    {
     "name": "stdout",
     "output_type": "stream",
     "text": [
      "1: 2022-11-20 14:45:02.782937\n",
      "2: 2022-11-20 06:45:02.782937+00:00\n",
      "3: 2022-11-20 14:45:02.782937+00:00\n",
      "4: 2022-11-20 14:45:02.782937+00:00\n",
      "5: 2022-11-20 14:45:02.782937+00:00\n",
      "6: 2022-11-20 14:45:02.782937+00:00\n"
     ]
    }
   ],
   "source": [
    "#台灣時間轉UTC時間 GMT+8 => GMT+0\n",
    "import datetime as dt\n",
    "tw = dt.datetime.now()\n",
    "print(\"1:\", tw)\n",
    "print(\"2:\", tw.astimezone(pytz.utc))\n",
    "print(\"3:\", tw.replace(tzinfo = pytz.utc)) \n",
    "print(\"4:\", tw.replace(tzinfo = pytz.timezone('Etc/GMT')))\n",
    "print(\"5:\", tw.replace(tzinfo = pytz.timezone('UTC')))\n",
    "print(\"6:\", tw.replace(tzinfo = dt.timezone(dt.timedelta(hours=0))))"
   ]
  },
  {
   "cell_type": "code",
   "execution_count": 174,
   "metadata": {},
   "outputs": [
    {
     "name": "stdout",
     "output_type": "stream",
     "text": [
      "當地時間與UTC相差: 8:00:00\n",
      "UTC時間加上時區差: 2022-11-20 14:35:42.268517\n"
     ]
    }
   ],
   "source": [
    "# utc轉成當地時間的計算\n",
    "import datetime as dt\n",
    "lt_stamp = dt.datetime.utcnow().astimezone(pytz.timezone('Asia/Taipei')).timestamp() \n",
    "utc_stamp = dt.datetime.utcnow().timestamp()\n",
    "diff = dt.datetime.fromtimestamp(lt_stamp) - dt.datetime.utcfromtimestamp(lt_stamp)\n",
    "print(\"當地時間與UTC相差:\", diff)\n",
    "print(\"UTC時間加上時區差:\", dt.datetime.utcnow() + diff)"
   ]
  },
  {
   "cell_type": "markdown",
   "metadata": {},
   "source": [
    "### 時區問題1：每個時區誤差可能不足1小時"
   ]
  },
  {
   "cell_type": "code",
   "execution_count": 3,
   "metadata": {},
   "outputs": [
    {
     "data": {
      "text/plain": [
       "(datetime.datetime(2023, 1, 1, 0, 0, tzinfo=<DstTzInfo 'Asia/Taipei' LMT+8:06:00 STD>),\n",
       " datetime.datetime(2023, 1, 1, 0, 54, tzinfo=<DstTzInfo 'Asia/Tokyo' JST+9:00:00 STD>))"
      ]
     },
     "execution_count": 3,
     "metadata": {},
     "output_type": "execute_result"
    }
   ],
   "source": [
    "#台灣與東京差一個時區，理應是差1小時，實際結果卻是差54分鐘，tzinfo中的信息是LMT+8:06:00 STD，表示這是LMT時間，相比UTC快8小時6分鐘\n",
    "#datetime(..tzinfo=..)指定時區獲取的是LMT，而datetime.now(tz)、datetime.astimezone(tz) 獲取的卻是UTC(GMT)標準時間，LMT和GMT標準時間可能會有甚至十分鐘級的差值，這已經足夠影響到程式的正常邏輯了。\n",
    "from datetime import datetime\n",
    "import pytz\n",
    "tw = datetime(2023, 1, 1, tzinfo=pytz.timezone('Asia/Taipei'))\n",
    "tk = datetime(2023, 1, 1, tzinfo=pytz.timezone('Asia/Taipei')).astimezone(pytz.timezone('Asia/Tokyo'))\n",
    "tw, tk "
   ]
  },
  {
   "cell_type": "code",
   "execution_count": 4,
   "metadata": {},
   "outputs": [
    {
     "data": {
      "text/plain": [
       "datetime.datetime(2022, 1, 1, 0, 0, tzinfo=<StaticTzInfo 'Etc/GMT+8'>)"
      ]
     },
     "execution_count": 4,
     "metadata": {},
     "output_type": "execute_result"
    }
   ],
   "source": [
    "#建議使用 Etc/GMT+6、Etc/GMT+7、Etc/GMT+8、Etc/GMT+9 ......\n",
    "tw = datetime(2022, 1, 1, tzinfo=pytz.timezone('Etc/GMT+8')) \n",
    "tw"
   ]
  },
  {
   "cell_type": "markdown",
   "metadata": {},
   "source": [
    "#### 時區問題2：相同時區相減不為0"
   ]
  },
  {
   "cell_type": "code",
   "execution_count": 200,
   "metadata": {},
   "outputs": [
    {
     "data": {
      "text/plain": [
       "datetime.timedelta(seconds=61200)"
      ]
     },
     "execution_count": 200,
     "metadata": {},
     "output_type": "execute_result"
    }
   ],
   "source": [
    "datetime(2022, 1, 1, tzinfo=pytz.timezone('Etc/GMT+9')) - datetime(2022, 1, 1).astimezone(pytz.timezone('Asia/Tokyo'))"
   ]
  },
  {
   "cell_type": "code",
   "execution_count": 198,
   "metadata": {},
   "outputs": [
    {
     "data": {
      "text/plain": [
       "datetime.timedelta(days=-1, seconds=82800)"
      ]
     },
     "execution_count": 198,
     "metadata": {},
     "output_type": "execute_result"
    }
   ],
   "source": [
    "datetime(2022, 1, 1, tzinfo=pytz.timezone('Etc/GMT-9')) - datetime(2022, 1, 1).astimezone(pytz.timezone('Asia/Tokyo'))"
   ]
  },
  {
   "cell_type": "code",
   "execution_count": 201,
   "metadata": {},
   "outputs": [
    {
     "data": {
      "text/plain": [
       "True"
      ]
     },
     "execution_count": 201,
     "metadata": {},
     "output_type": "execute_result"
    }
   ],
   "source": [
    "datetime(2022, 1, 1, tzinfo=pytz.timezone('Etc/GMT0')) == datetime(2022, 1, 1).replace(tzinfo=pytz.timezone('Etc/GMT0'))"
   ]
  },
  {
   "cell_type": "code",
   "execution_count": 202,
   "metadata": {},
   "outputs": [
    {
     "data": {
      "text/plain": [
       "True"
      ]
     },
     "execution_count": 202,
     "metadata": {},
     "output_type": "execute_result"
    }
   ],
   "source": [
    "datetime(2022, 1, 1, tzinfo=pytz.timezone('Etc/GMT0')) == datetime.strptime('20220101', '%Y%m%d').replace(tzinfo=pytz.timezone('Etc/GMT0'))"
   ]
  },
  {
   "cell_type": "markdown",
   "metadata": {},
   "source": [
    "# Datetime中常見的物件\n",
    "- 時間(datetime.time)：時間類，只包含時、分、秒、微秒等時間。\n",
    "- 日期(datetime.date)：日期類，只包含年、月、日、星期等日期。\n",
    "- 日期時間(datetime.datetime)：日期時間類，包含以上兩者的全部。\n",
    "- 日期時間差(datetime.timedelta)：時間日期差值類，用來表示兩個datetime之間的差值。\n",
    "\n",
    "# Datetime.time\n",
    "#### datetime.time(hour, minute, second, microsecond, tzinfo)：建立物件。\n",
    "#### datetime.time.hour、datetime.time.minute、datetime.time.second、datetime.time.microsecond：顯示時、分、秒、毫秒數值。\n",
    "#### 建立指定時間(時、分、秒、毫秒)"
   ]
  },
  {
   "cell_type": "code",
   "execution_count": 4,
   "metadata": {
    "scrolled": true
   },
   "outputs": [
    {
     "name": "stdout",
     "output_type": "stream",
     "text": [
      "00:00:00\n",
      "hour = 11\n",
      "minute = 34\n",
      "second = 56\n",
      "microsecond = 234566\n",
      "11:34:56\n"
     ]
    }
   ],
   "source": [
    "import datetime\n",
    "\n",
    "print(datetime.time())\n",
    "\n",
    "dt1 = datetime.time(11, 34, 56, 234566)\n",
    "print(\"hour =\", dt1.hour)\n",
    "print(\"minute =\", dt1.minute)\n",
    "print(\"second =\", dt1.second)\n",
    "print(\"microsecond =\", dt1.microsecond)\n",
    "\n",
    "dt2 = datetime.time(hour = 11, minute = 34, second = 56)\n",
    "print(dt2)"
   ]
  },
  {
   "cell_type": "markdown",
   "metadata": {},
   "source": [
    "#### datetime.time.strftime(format)：依據format格式回傳時間。"
   ]
  },
  {
   "cell_type": "code",
   "execution_count": 12,
   "metadata": {},
   "outputs": [
    {
     "name": "stdout",
     "output_type": "stream",
     "text": [
      "20-15-10 000233\n"
     ]
    }
   ],
   "source": [
    "import datetime as dt\n",
    "import pytz\n",
    "print(dt.time(20, 15, 10, 233, pytz.timezone('Asia/Taipei')).strftime('%H-%M-%S %f'))"
   ]
  },
  {
   "cell_type": "markdown",
   "metadata": {},
   "source": [
    "#### datetime.time.tzname()：回傳時區名。"
   ]
  },
  {
   "cell_type": "code",
   "execution_count": 13,
   "metadata": {},
   "outputs": [
    {
     "name": "stdout",
     "output_type": "stream",
     "text": [
      "Asia/Taipei\n"
     ]
    }
   ],
   "source": [
    "import datetime as dt\n",
    "import pytz\n",
    "print(dt.time(20, 15, 10, 233, pytz.timezone('Asia/Taipei')).tzname())"
   ]
  },
  {
   "cell_type": "markdown",
   "metadata": {},
   "source": [
    "#### datetime.time.replace()：取代指定時間，但不改變原時間。"
   ]
  },
  {
   "cell_type": "code",
   "execution_count": 18,
   "metadata": {},
   "outputs": [
    {
     "name": "stdout",
     "output_type": "stream",
     "text": [
      "08:15:10.000233+00:00\n"
     ]
    }
   ],
   "source": [
    "import datetime as dt\n",
    "import pytz\n",
    "print(dt.time(20, 15, 10, 233, pytz.timezone('Asia/Taipei')).replace(hour = 8, tzinfo = pytz.utc))"
   ]
  },
  {
   "cell_type": "markdown",
   "metadata": {},
   "source": [
    "#### datetime.time.utcoffset()：回傳時區的時間偏移量。"
   ]
  },
  {
   "cell_type": "code",
   "execution_count": 30,
   "metadata": {},
   "outputs": [
    {
     "name": "stdout",
     "output_type": "stream",
     "text": [
      "0:00:00\n",
      "8:00:00\n"
     ]
    }
   ],
   "source": [
    "import datetime as dt\n",
    "import pytz\n",
    "print(pytz.utc.localize(datetime.now()).utcoffset())\n",
    "print(pytz.timezone('Asia/Taipei').localize(datetime.now()).utcoffset())"
   ]
  },
  {
   "cell_type": "markdown",
   "metadata": {},
   "source": [
    "# 日期物件(date)"
   ]
  },
  {
   "cell_type": "markdown",
   "metadata": {},
   "source": [
    "# Datetime.date"
   ]
  },
  {
   "cell_type": "markdown",
   "metadata": {},
   "source": [
    "#### datetime.date()：建立物件。"
   ]
  },
  {
   "cell_type": "code",
   "execution_count": 6,
   "metadata": {},
   "outputs": [
    {
     "name": "stdout",
     "output_type": "stream",
     "text": [
      "year: 2021\n",
      "month: 1\n",
      "day: 1\n"
     ]
    }
   ],
   "source": [
    "import datetime\n",
    "\n",
    "dt = datetime.date(2021, 1, 1)\n",
    "print(\"year:\", dt.year)\n",
    "print(\"month:\", dt.month)\n",
    "print(\"day:\", dt.day)"
   ]
  },
  {
   "cell_type": "markdown",
   "metadata": {},
   "source": [
    "#### datetime.date.timetuple()：日期轉換成 struct_time 時間結構。"
   ]
  },
  {
   "cell_type": "code",
   "execution_count": 7,
   "metadata": {},
   "outputs": [
    {
     "name": "stdout",
     "output_type": "stream",
     "text": [
      "time.struct_time(tm_year=2021, tm_mon=1, tm_mday=1, tm_hour=0, tm_min=0, tm_sec=0, tm_wday=4, tm_yday=1, tm_isdst=-1)\n"
     ]
    }
   ],
   "source": [
    "import datetime as dt\n",
    "print(dt.date(2021, 1, 1).timetuple())"
   ]
  },
  {
   "cell_type": "markdown",
   "metadata": {},
   "source": [
    "#### datetime.date.today()：取得今天日期。"
   ]
  },
  {
   "cell_type": "code",
   "execution_count": 8,
   "metadata": {},
   "outputs": [
    {
     "name": "stdout",
     "output_type": "stream",
     "text": [
      "2023-07-28\n"
     ]
    }
   ],
   "source": [
    "import datetime\n",
    "print(datetime.date.today())"
   ]
  },
  {
   "cell_type": "markdown",
   "metadata": {},
   "source": [
    "#### datetime.date.ctime()：回傳日期時間的字串。"
   ]
  },
  {
   "cell_type": "code",
   "execution_count": 7,
   "metadata": {},
   "outputs": [
    {
     "name": "stdout",
     "output_type": "stream",
     "text": [
      "Fri Jan  1 00:00:00 2021\n"
     ]
    }
   ],
   "source": [
    "import datetime as dt\n",
    "print(dt.date.ctime(dt.date(2021, 1, 1)))"
   ]
  },
  {
   "cell_type": "markdown",
   "metadata": {},
   "source": [
    "#### datetime.date.today().isoweekday()：從日期判斷星期，週一為1、週日為7。\n",
    "- ISO 格式（ISO 8601） [ISO_8601](https://www.iso.org/iso-8601-date-and-time-format.html)\n",
    "\n",
    "- 一句話解釋了，若需要找到一種國際通用的無歧義的日期和時間格式，ISO 8601就是答案。\n",
    "\n",
    "- 這個ISO標準能夠幫助消除因不同的日期轉換、文化差異、時區等的影響導致對日期時間格式理解上的偏差，給出了一種無論對人還是機器都清晰定義的日期和時間表示形式。\n",
    "\n",
    "- 任何人都可以使用這個ISO 8601標準化地表達如下信息，\n",
    "\n",
    "    1. Date，日期\n",
    "    2. Time of day，時間\n",
    "    3. Coordinated Universal Time (UTC)，世界協調時間\n",
    "    4. Local time with offset to UTC，UTC偏移的本地時\n",
    "    5. Date and time，日期和時間\n",
    "    6. Time intervals，時間間隔\n",
    "    7. Recurring time intervals，重複時間間隔\n",
    "\n",
    "- ISO 8601的中文名稱是《數據存儲和交換形式·信息交換·日期和時間的表示方法》，第一版為ISO8601:1988，第二版為ISO8601:2000，第三版ISO8601:2004，最新版本應該是ISO8601:2019，精確的標准定義\n",
    "    > 1. 日期和時間值按從最大到最小的時間單位排序：年，月（或週），日，小時，分鐘，秒和秒的分數。因此，表示的字典順序對應於時間順序，除了涉及負年份的日期表示。這允許日期自然地由例如文件系統排序。\n",
    "    2. 每個日期和時間值都有一個固定的位數，必須用前導零填充。日期時間表示只能有數字或少數特殊字符組成（如“ - ”，“：”，“T”，“W”和“Z”），不允許出現地方寫法，如“1月”或“星期四”等。\n",
    "    3. 表示可以採用兩種格式之一完成- 具有最少數量分隔符的基本格式或添加了分隔符的擴展格式以增強人類可讀性。該標準指出“應以純文本形式避免使用基本格式”。日期值（年，月，周和日）之間使用的分隔符是連字符，而冒號用作時間值（小時，分鐘和秒）之間的分隔符。例如，2009年第1個月的第6天可以以擴展格式寫為“2009-01-06”，或者以基本格式簡稱為“20090106”而不含糊不清。\n",
    "    4. 為了降低準確度，可以從任何日期和時間表示中刪除任意數量的值，但是從最小到最重要的順序。例如，“2004-05”是有效的ISO 8601日期，表示2004年5月（第5個月）。此格式永遠不會代表2004年未指定月份的第5天，也不代表從2004年進入2005年。\n",
    "    5. ISO 8601使用24小時制。HH：MM：SS.SSS，HH：MM：SS，HH：MM，HH為合規的時間格式。\n",
    "    6. 如果沒有指定與UTC關係則假定是本地時間，為安全的跨時區通訊，應制定與UTC關係。若時間是UTC則在時間後面加Z表示，如“09:30UTC”表示為09：30Z”或“0930Z”。其它時區時間則將與UTC的偏移量附加到時間後面，格式為±[hh]：[mm]，±[hh] [mm]或±[hh]，如“北京時間09:30”表示為\"09:30+08:00”或“ 09:30+0800 ” 或“ 09:30+08 ”。\n",
    "    7. 用字母T分割日期和時間。如20180703T224426Z或2018-07-03T22:44:26Z 。"
   ]
  },
  {
   "cell_type": "code",
   "execution_count": 4,
   "metadata": {},
   "outputs": [
    {
     "name": "stdout",
     "output_type": "stream",
     "text": [
      "5\n"
     ]
    }
   ],
   "source": [
    "import datetime as dt\n",
    "print(dt.date(2021, 1, 1).isoweekday())"
   ]
  },
  {
   "cell_type": "markdown",
   "metadata": {},
   "source": [
    "#### datetime.date.isocalendar()：回傳 ISO 格式的日期序對，包括年、週及星期序數。"
   ]
  },
  {
   "cell_type": "code",
   "execution_count": 4,
   "metadata": {},
   "outputs": [
    {
     "name": "stdout",
     "output_type": "stream",
     "text": [
      "(2020, 53, 5)\n"
     ]
    }
   ],
   "source": [
    "import datetime as dt\n",
    "print(dt.date(2021, 1, 1).isocalendar())"
   ]
  },
  {
   "cell_type": "markdown",
   "metadata": {},
   "source": [
    "#### datetime.date.isoformat()：回傳 ISO 格式的日期字串"
   ]
  },
  {
   "cell_type": "code",
   "execution_count": 5,
   "metadata": {},
   "outputs": [
    {
     "name": "stdout",
     "output_type": "stream",
     "text": [
      "2021-01-01\n"
     ]
    }
   ],
   "source": [
    "import datetime as dt\n",
    "print(dt.date(2021, 1, 1).isoformat())"
   ]
  },
  {
   "cell_type": "markdown",
   "metadata": {},
   "source": [
    "#### datetime.date.weekday()：顯示日期為星期幾，星期一為0 ~ 星期天為6 "
   ]
  },
  {
   "cell_type": "code",
   "execution_count": 41,
   "metadata": {},
   "outputs": [
    {
     "name": "stdout",
     "output_type": "stream",
     "text": [
      "4\n"
     ]
    }
   ],
   "source": [
    "import datetime as dt\n",
    "print(dt.date(2021, 1, 1).weekday())"
   ]
  },
  {
   "cell_type": "code",
   "execution_count": 2,
   "metadata": {},
   "outputs": [
    {
     "name": "stdout",
     "output_type": "stream",
     "text": [
      "Friday\n"
     ]
    }
   ],
   "source": [
    "import datetime as dt\n",
    "day_name= ['Monday', 'Tuesday', 'Wednesday', 'Thursday', 'Friday', 'Saturday','Sunday']\n",
    "day = dt.datetime(2021, 1, 1).weekday()\n",
    "print(day_name[day]) "
   ]
  },
  {
   "cell_type": "markdown",
   "metadata": {},
   "source": [
    "#### datetime.date.replace(year,month,day)：回傳日期對應的 struct_time 時間結構。"
   ]
  },
  {
   "cell_type": "code",
   "execution_count": 8,
   "metadata": {},
   "outputs": [
    {
     "name": "stdout",
     "output_type": "stream",
     "text": [
      "2020-10-01\n"
     ]
    }
   ],
   "source": [
    "import datetime as dt\n",
    "print(dt.date(2021, 1, 1).replace(2020, 10, 1))"
   ]
  },
  {
   "cell_type": "markdown",
   "metadata": {},
   "source": [
    "#### datetime.date.strftime(format)：日期時間依據指定的format進行格式化轉成字串。"
   ]
  },
  {
   "cell_type": "code",
   "execution_count": 9,
   "metadata": {},
   "outputs": [
    {
     "name": "stdout",
     "output_type": "stream",
     "text": [
      "2021/01/01 00:00:00\n"
     ]
    }
   ],
   "source": [
    "import datetime as dt\n",
    "print(dt.date(2021, 1, 1).strftime('%Y/%m/%d %H:%M:%S'))"
   ]
  },
  {
   "cell_type": "markdown",
   "metadata": {},
   "source": [
    "#### datetime.date.strftime格式化符號。\n",
    "| 格式 | 說明 |\n",
    "| -------- | -------- |\n",
    "| %y     | 兩位數的年份表示（00-99）| \n",
    "| %Y     | 四位數的年份表示（000-9999）| \n",
    "| %m    | 月份（01-12）| \n",
    "| %d     | 月內中的一天（0-31）| \n",
    "| %H     | 24小時制小時數（0-23）| \n",
    "| %I      | 12小時制小時數（01-12）| \n",
    "| %M    |分鐘數（00-59）| \n",
    "| %S     | 秒（00-59）| \n",
    "| %a     | 當地簡化星期名稱|\n",
    "| %A     | 當地完整星期名稱| \n",
    "| %b     | 當地簡化的月份名稱| \n",
    "| %B     | 當地完整的月份名稱| \n",
    "| %c     | 當地相應的日期表示和時間表示| \n",
    "| %w     | 以十進制數顯示的工作日，其中0表示星期日，6表示星期六| \n",
    "| %p     | AM、PM| "
   ]
  },
  {
   "cell_type": "markdown",
   "metadata": {},
   "source": [
    "#### datetime.date.fromtimestamp(timestamp)：將時間戳記轉成日期。"
   ]
  },
  {
   "cell_type": "code",
   "execution_count": 10,
   "metadata": {},
   "outputs": [
    {
     "name": "stdout",
     "output_type": "stream",
     "text": [
      "2021-01-01\n"
     ]
    }
   ],
   "source": [
    "import datetime as dt\n",
    "print(dt.date.fromtimestamp(1609456800))"
   ]
  },
  {
   "cell_type": "markdown",
   "metadata": {},
   "source": [
    "# Datetime.datetime"
   ]
  },
  {
   "cell_type": "markdown",
   "metadata": {},
   "source": [
    "#### 取得現在時間\n",
    "#### datetime.datetime.now()：回傳當前系統時間。\n",
    "#### datetime.datetime.now().date()：回傳當前日期時間的日期部分。\n",
    "#### datetime.datetime.now().time()：回傳當前日期時間的時間部分。"
   ]
  },
  {
   "cell_type": "code",
   "execution_count": 1,
   "metadata": {},
   "outputs": [
    {
     "name": "stdout",
     "output_type": "stream",
     "text": [
      "2023-06-10 02:06:15.436875\n",
      "2023-06-10\n",
      "02:06:15.436875\n"
     ]
    }
   ],
   "source": [
    "import datetime as dt\n",
    "print(dt.datetime.now())\n",
    "print(dt.datetime.now().date())\n",
    "print(dt.datetime.now().time())"
   ]
  },
  {
   "cell_type": "markdown",
   "metadata": {},
   "source": [
    "#### datetime.datetime(year, month, day[, hour[, minute[, second[, microsecond[,tzinfo]]]]])：建立日期時間。"
   ]
  },
  {
   "cell_type": "code",
   "execution_count": 18,
   "metadata": {},
   "outputs": [
    {
     "name": "stdout",
     "output_type": "stream",
     "text": [
      "year = 2023\n",
      "month = 1\n",
      "day = 2\n",
      "hour = 3\n",
      "minute = 4\n",
      "second = 5\n",
      "timestamp = 1672628645.34238\n"
     ]
    }
   ],
   "source": [
    "import datetime as dt\n",
    "import pytz\n",
    "utc = pytz.utc\n",
    "# datetime(year, month, day, hour, minute, second, microsecond)\n",
    "dt1 = dt.datetime(2023, 1, 2, 3, 4, 5, 342380, tzinfo = utc)\n",
    "print(\"year =\", dt1.year)\n",
    "print(\"month =\", dt1.month)\n",
    "print(\"day =\", dt1.day)\n",
    "print(\"hour =\", dt1.hour)\n",
    "print(\"minute =\", dt1.minute)\n",
    "print(\"second =\", dt1.second)\n",
    "print(\"timestamp =\", dt1.timestamp())"
   ]
  },
  {
   "cell_type": "markdown",
   "metadata": {},
   "source": [
    "#### datetime.datetime.ctime()：回傳日期時間的字串。"
   ]
  },
  {
   "cell_type": "code",
   "execution_count": 31,
   "metadata": {},
   "outputs": [
    {
     "name": "stdout",
     "output_type": "stream",
     "text": [
      "Fri Jan  1 08:15:30 2021\n"
     ]
    }
   ],
   "source": [
    "import datetime as dt\n",
    "import pytz\n",
    "print(dt.datetime(2021, 1, 1, 8, 15, 30, 0, tzinfo = pytz.utc).ctime())"
   ]
  },
  {
   "cell_type": "markdown",
   "metadata": {},
   "source": [
    "#### datetime.datetime.replace()：取代指定日期，但不改變原日期時間。"
   ]
  },
  {
   "cell_type": "code",
   "execution_count": 22,
   "metadata": {},
   "outputs": [
    {
     "name": "stdout",
     "output_type": "stream",
     "text": [
      "2020-10-01 10:15:30+00:00\n"
     ]
    }
   ],
   "source": [
    "import datetime as dt\n",
    "import pytz\n",
    "utc = pytz.utc\n",
    "print(dt.datetime(2021, 1, 1, 8, 15, 30, 0, tzinfo = utc).replace(year=2020, month = 10, hour = 10))"
   ]
  },
  {
   "cell_type": "markdown",
   "metadata": {},
   "source": [
    "#### datetime.datetime.astimezone()：修改時區，改變原日期時間。"
   ]
  },
  {
   "cell_type": "code",
   "execution_count": 36,
   "metadata": {},
   "outputs": [
    {
     "name": "stdout",
     "output_type": "stream",
     "text": [
      "2021-01-01 08:15:30+00:00\n",
      "0:00:00\n",
      "2021-01-01 03:15:30-05:00\n",
      "-1 day, 19:00:00\n"
     ]
    }
   ],
   "source": [
    "import datetime as dt\n",
    "import pytz\n",
    "\n",
    "tz  = pytz.timezone('America/New_York')\n",
    "print(dt.datetime(2021, 1, 1, 8, 15, 30, 0, tzinfo = pytz.utc))\n",
    "print(dt.datetime(2021, 1, 1, 8, 15, 30, 0, tzinfo = pytz.utc).utcoffset())\n",
    "print(dt.datetime(2021, 1, 1, 8, 15, 30, 0, tzinfo = pytz.utc).astimezone(tz))\n",
    "print(dt.datetime(2021, 1, 1, 8, 15, 30, 0, tzinfo = pytz.utc).astimezone(tz).utcoffset())"
   ]
  },
  {
   "cell_type": "markdown",
   "metadata": {},
   "source": [
    "#### datetime.datetime.timestamp()：回傳時間戳記。"
   ]
  },
  {
   "cell_type": "code",
   "execution_count": 24,
   "metadata": {},
   "outputs": [
    {
     "name": "stdout",
     "output_type": "stream",
     "text": [
      "1609459770.0\n"
     ]
    }
   ],
   "source": [
    "import datetime as dt\n",
    "import pytz\n",
    "tpe = pytz.timezone('Asia/Taipei')\n",
    "print(dt.datetime(2021, 1, 1, 8, 15, 30, 0, tzinfo = tpe).timestamp())"
   ]
  },
  {
   "cell_type": "code",
   "execution_count": 7,
   "metadata": {},
   "outputs": [
    {
     "name": "stdout",
     "output_type": "stream",
     "text": [
      "1627116549.749934\n",
      "1627116549.751934\n"
     ]
    }
   ],
   "source": [
    "import datetime\n",
    "print(datetime.datetime.today().timestamp())\n",
    "print(datetime.datetime.now().timestamp())"
   ]
  },
  {
   "cell_type": "markdown",
   "metadata": {},
   "source": [
    "#### datetime.datetime.timetuple()：回傳結構化時間struct_time 。"
   ]
  },
  {
   "cell_type": "code",
   "execution_count": 25,
   "metadata": {},
   "outputs": [
    {
     "name": "stdout",
     "output_type": "stream",
     "text": [
      "time.struct_time(tm_year=2021, tm_mon=1, tm_mday=1, tm_hour=8, tm_min=15, tm_sec=30, tm_wday=4, tm_yday=1, tm_isdst=0)\n"
     ]
    }
   ],
   "source": [
    "import datetime as dt\n",
    "import pytz\n",
    "tpe = pytz.timezone('Asia/Taipei')\n",
    "print(dt.datetime(2021, 1, 1, 8, 15, 30, 0, tzinfo = tpe).timetuple())"
   ]
  },
  {
   "cell_type": "code",
   "execution_count": 49,
   "metadata": {},
   "outputs": [
    {
     "data": {
      "text/plain": [
       "time.struct_time(tm_year=2017, tm_mon=11, tm_mday=28, tm_hour=23, tm_min=55, tm_sec=59, tm_wday=1, tm_yday=332, tm_isdst=-1)"
      ]
     },
     "execution_count": 49,
     "metadata": {},
     "output_type": "execute_result"
    }
   ],
   "source": [
    "import datetime as dt\n",
    "dt.datetime(2017, 11, 28, 23, 55, 59).timetuple()"
   ]
  },
  {
   "cell_type": "code",
   "execution_count": 20,
   "metadata": {},
   "outputs": [
    {
     "name": "stdout",
     "output_type": "stream",
     "text": [
      "Local time to Unix Timestamp : 1585327281\n"
     ]
    }
   ],
   "source": [
    "from datetime import datetime as dt\n",
    "import time\n",
    "dt =  int(time.mktime(dt.now().timetuple()))\n",
    "print(\"Local time to Unix Timestamp : {}\".format(dt))"
   ]
  },
  {
   "cell_type": "code",
   "execution_count": 19,
   "metadata": {},
   "outputs": [
    {
     "name": "stdout",
     "output_type": "stream",
     "text": [
      "Local time to Unix Timestamp : 1508774400.0\n",
      "2017-10-24 00:00:00\n"
     ]
    }
   ],
   "source": [
    "#Unix Timestamp\n",
    "import datetime\n",
    "import time\n",
    "dt =  time.mktime(datetime.datetime(2017, 10, 24, 0, 0, 0).timetuple())\n",
    "print(\"Local time to Unix Timestamp : {}\".format(dt))\n",
    "dt = datetime.datetime.fromtimestamp(dt).strftime('%Y-%m-%d %H:%M:%S')\n",
    "print(dt)"
   ]
  },
  {
   "cell_type": "markdown",
   "metadata": {},
   "source": [
    "#### datetime.datetime.fromtimestamp(timestamp)：將時間戳記轉成日期時間。"
   ]
  },
  {
   "cell_type": "code",
   "execution_count": 26,
   "metadata": {},
   "outputs": [
    {
     "name": "stdout",
     "output_type": "stream",
     "text": [
      "2021-01-01 08:09:30+08:00\n"
     ]
    }
   ],
   "source": [
    "import datetime as dt\n",
    "import pytz\n",
    "tpe = pytz.timezone('Asia/Taipei')\n",
    "print(dt.datetime.fromtimestamp(1609459770, tz = tpe))"
   ]
  },
  {
   "cell_type": "markdown",
   "metadata": {},
   "source": [
    "#### datetime.datetime.strftime(datetime.datetime, format)：日期格式轉為字串格式。"
   ]
  },
  {
   "cell_type": "code",
   "execution_count": 45,
   "metadata": {},
   "outputs": [
    {
     "name": "stdout",
     "output_type": "stream",
     "text": [
      "2023/07/29 00:50:56\n",
      "07/29/2023, 00:50:56\n",
      "29/07/2023, 00:50:56\n",
      "00:50:56\n",
      "2023-07-29 00:50:56\n"
     ]
    }
   ],
   "source": [
    "import datetime as dt\n",
    "import pytz\n",
    "tpe = pytz.timezone('Asia/Taipei')\n",
    "\n",
    "print(dt.datetime.now(tz = tpe).strftime(\"%Y/%m/%d %H:%M:%S\"))\n",
    "print(dt.datetime.now(tz = tpe).strftime(\"%m/%d/%Y, %H:%M:%S\"))\n",
    "print(dt.datetime.now(tz = tpe).strftime(\"%d/%m/%Y, %H:%M:%S\"))\n",
    "print(dt.datetime.now(tz = tpe).strftime(\"%H:%M:%S\"))\n",
    "print(dt.datetime.strftime(dt.datetime.now(tz = tpe), \"%Y-%m-%d %H:%M:%S\"))"
   ]
  },
  {
   "cell_type": "markdown",
   "metadata": {},
   "source": [
    "#### datetime.datetime.strptime(string, format)：字串格式轉為日期格式。"
   ]
  },
  {
   "cell_type": "code",
   "execution_count": 2,
   "metadata": {},
   "outputs": [
    {
     "name": "stdout",
     "output_type": "stream",
     "text": [
      "2018-06-21 00:00:00\n",
      "2021-01-01 08:15:30\n",
      "2021-01-01 08:15:30\n"
     ]
    }
   ],
   "source": [
    "import datetime as dt\n",
    "import pytz\n",
    "\n",
    "print(dt.datetime.strptime(\"21 June, 2018\", \"%d %B, %Y\"))\n",
    "                            #天_月 ,_年  ,  天_月 ,_年  有幾個空白，後面也要一樣\n",
    "tpe = pytz.timezone('Asia/Taipei')\n",
    "d = dt.datetime(2021, 1, 1, 8, 15, 30, 0, tzinfo = tpe)\n",
    "print(dt.datetime.strptime(dt.datetime.strftime(d, \"%Y-%m-%d %H:%M:%S\"), \"%Y-%m-%d %H:%M:%S\")) #時間轉字串\n",
    "print(dt.datetime.strptime(d.strftime(\"%Y/%m/%d %H:%M:%S\"), \"%Y/%m/%d %H:%M:%S\"))\n"
   ]
  },
  {
   "cell_type": "markdown",
   "metadata": {},
   "source": [
    "#### 在伺服器上用 UTC 跟用LT(本地時區)的差異?\n",
    "1. UTC的運作方式是從1970年1月1日以來的毫秒數，所以並不會因為DST(Daylight Savings Time，夏季節約時間)的變化而影響。\n",
    "2. LT是基於UTC的時間在加上各個地區的不同而改變，會受DST的影響。\n",
    "    - 若今天伺服器的時區設置為UTC，而接收伺服器資料的接收端其軟體是使用LT，則可能會出現問題。這問題就是會因為地區的時區不同以及DST的影響會導致時間錯誤，且若是軟體有原本需要處理的流程，則可能會有處理兩次或不處理的問題。\n",
    "    - 若要解決這個問題我們可以使用UTC的時間作為基礎，透過程式來計算及調整不同區域所需要的LT。但還是建議將server端的時間使用UTC來儲存時間資料比較好，這是為了保有資料的一致性，在後續若要修改或維護也比較方便。\n",
    "\n",
    "#### 資料庫儲存時間\n",
    "- MySQL 內可以儲存「日期與時間」的資料型態是 DATETIME 與 TIMESTAMP 兩種，不過 DATETIME 沒有時區觀念，而 TIMESTAMP 只能是 UTC (GMT+0)。\n",
    "- MySQL 讓開發人員決定應該使用什麼時區，並且在保存到數據庫之前應該將日期時間轉換為 UTC。\n",
    "- PostgreSQL 的 Date/Time Types 就一種 TIMESTAMP，但支援 with timezone 與 without timezone 直接解決問題。\n",
    "- MongoDB 假定所有時間戳都是 UTC（世界標準時間），必須將日期時間規範化為 UTC。\n"
   ]
  },
  {
   "cell_type": "code",
   "execution_count": 38,
   "metadata": {},
   "outputs": [
    {
     "name": "stdout",
     "output_type": "stream",
     "text": [
      "2023-01-01 08:15:30+00:00\n",
      "0:00:00\n",
      "2023-01-01 03:15:30-05:00\n",
      "-1 day, 19:00:00\n"
     ]
    }
   ],
   "source": [
    "import datetime as dt\n",
    "import pytz\n",
    "\n",
    "tz  = pytz.timezone('America/New_York')\n",
    "print(dt.datetime(2023, 1, 1, 8, 15, 30, 0, tzinfo = pytz.utc))\n",
    "print(dt.datetime(2023, 1, 1, 8, 15, 30, 0, tzinfo = pytz.utc).utcoffset())\n",
    "print(dt.datetime(2023, 1, 1, 8, 15, 30, 0, tzinfo = pytz.utc).astimezone(tz))\n",
    "print(dt.datetime(2023, 1, 1, 8, 15, 30, 0, tzinfo = pytz.utc).astimezone(tz).utcoffset())"
   ]
  },
  {
   "cell_type": "markdown",
   "metadata": {},
   "source": [
    "##### offset-naive與offset-aware\n",
    "- offset-naive不包含時區類型，如dt.datetime.now()\n",
    "- offset-aware包含時區類型，如dt.datetime.now(pytz.timezone('Etc/GMT'))"
   ]
  },
  {
   "cell_type": "code",
   "execution_count": 22,
   "metadata": {},
   "outputs": [
    {
     "name": "stdout",
     "output_type": "stream",
     "text": [
      "None Etc/GMT\n"
     ]
    },
    {
     "ename": "TypeError",
     "evalue": "can't subtract offset-naive and offset-aware datetimes",
     "output_type": "error",
     "traceback": [
      "\u001b[1;31m---------------------------------------------------------------------------\u001b[0m",
      "\u001b[1;31mTypeError\u001b[0m                                 Traceback (most recent call last)",
      "\u001b[1;32m<ipython-input-22-c6de9202d329>\u001b[0m in \u001b[0;36m<module>\u001b[1;34m()\u001b[0m\n\u001b[0;32m      3\u001b[0m \u001b[1;32mimport\u001b[0m \u001b[0mpytz\u001b[0m\u001b[1;33m\u001b[0m\u001b[0m\n\u001b[0;32m      4\u001b[0m \u001b[0mprint\u001b[0m\u001b[1;33m(\u001b[0m\u001b[0mdt\u001b[0m\u001b[1;33m.\u001b[0m\u001b[0mdatetime\u001b[0m\u001b[1;33m.\u001b[0m\u001b[0mnow\u001b[0m\u001b[1;33m(\u001b[0m\u001b[1;33m)\u001b[0m\u001b[1;33m.\u001b[0m\u001b[0mtzinfo\u001b[0m\u001b[1;33m,\u001b[0m \u001b[0mdt\u001b[0m\u001b[1;33m.\u001b[0m\u001b[0mdatetime\u001b[0m\u001b[1;33m.\u001b[0m\u001b[0mnow\u001b[0m\u001b[1;33m(\u001b[0m\u001b[0mpytz\u001b[0m\u001b[1;33m.\u001b[0m\u001b[0mtimezone\u001b[0m\u001b[1;33m(\u001b[0m\u001b[1;34m'Etc/GMT'\u001b[0m\u001b[1;33m)\u001b[0m\u001b[1;33m)\u001b[0m\u001b[1;33m.\u001b[0m\u001b[0mtzinfo\u001b[0m\u001b[1;33m)\u001b[0m\u001b[1;33m\u001b[0m\u001b[0m\n\u001b[1;32m----> 5\u001b[1;33m \u001b[0mdt\u001b[0m\u001b[1;33m.\u001b[0m\u001b[0mdatetime\u001b[0m\u001b[1;33m.\u001b[0m\u001b[0mnow\u001b[0m\u001b[1;33m(\u001b[0m\u001b[1;33m)\u001b[0m \u001b[1;33m-\u001b[0m \u001b[0mdt\u001b[0m\u001b[1;33m.\u001b[0m\u001b[0mdatetime\u001b[0m\u001b[1;33m.\u001b[0m\u001b[0mnow\u001b[0m\u001b[1;33m(\u001b[0m\u001b[0mpytz\u001b[0m\u001b[1;33m.\u001b[0m\u001b[0mtimezone\u001b[0m\u001b[1;33m(\u001b[0m\u001b[1;34m'Etc/GMT'\u001b[0m\u001b[1;33m)\u001b[0m\u001b[1;33m)\u001b[0m \u001b[1;31m#只有同樣的offset-naive datetime才能求差值\u001b[0m\u001b[1;33m\u001b[0m\u001b[0m\n\u001b[0m",
      "\u001b[1;31mTypeError\u001b[0m: can't subtract offset-naive and offset-aware datetimes"
     ]
    }
   ],
   "source": [
    "#時間相減\n",
    "import datetime as dt\n",
    "import pytz\n",
    "print(dt.datetime.now().tzinfo, dt.datetime.now(pytz.timezone('Etc/GMT')).tzinfo)\n",
    "dt.datetime.now() - dt.datetime.now(pytz.timezone('Etc/GMT')) #只有同樣的offset-naive datetime才能求差值"
   ]
  },
  {
   "cell_type": "code",
   "execution_count": 179,
   "metadata": {},
   "outputs": [
    {
     "data": {
      "text/plain": [
       "datetime.timedelta(days=-1, seconds=57600)"
      ]
     },
     "execution_count": 179,
     "metadata": {},
     "output_type": "execute_result"
    }
   ],
   "source": [
    "dt.datetime.utcnow().astimezone(pytz.timezone('Asia/Taipei')) - dt.datetime.now(pytz.timezone('Asia/Taipei'))"
   ]
  },
  {
   "cell_type": "markdown",
   "metadata": {},
   "source": [
    "#### 解決 offset-naive and offset-aware 無法記相互計算問題\n",
    "- can’t compare offset-naive and offset-aware datetimes\n",
    "- can't subtract offset-naive and offset-aware datetimes\n",
    "\n",
    "- offset-naive 轉換成 offset-aware\n",
    "    - replace() \n",
    "    - astimezone()\n",
    "    - localize()"
   ]
  },
  {
   "cell_type": "markdown",
   "metadata": {},
   "source": [
    "#####  offset-naive 轉換成 offset-aware 方法1：replace()"
   ]
  },
  {
   "cell_type": "code",
   "execution_count": 8,
   "metadata": {},
   "outputs": [
    {
     "name": "stdout",
     "output_type": "stream",
     "text": [
      "date1 is earlier than or the same as date2\n"
     ]
    }
   ],
   "source": [
    "from datetime import datetime\n",
    "import pytz\n",
    "\n",
    "# Creating a naive datetime object\n",
    "date1 = datetime(2022, 1, 1, 12, 0, 0)\n",
    "\n",
    "# Creating an aware datetime object\n",
    "date2 = datetime(2023, 1, 1, 12, 0, 0, tzinfo=pytz.utc)\n",
    "\n",
    "# Creating a naive datetime object\n",
    "date1 = date1.replace(tzinfo=pytz.utc)\n",
    "\n",
    "# Comparing the two datetime objects\n",
    "if date1 > date2:\n",
    "     print('date1 is later than date2')\n",
    "else:\n",
    "     print('date1 is earlier than or the same as date2')"
   ]
  },
  {
   "cell_type": "markdown",
   "metadata": {},
   "source": [
    "#####  offset-naive 轉換成 offset-aware 方法2：astimezone()"
   ]
  },
  {
   "cell_type": "code",
   "execution_count": 10,
   "metadata": {},
   "outputs": [
    {
     "name": "stdout",
     "output_type": "stream",
     "text": [
      "date1 is earlier than or the same as date2\n"
     ]
    }
   ],
   "source": [
    "from datetime import datetime\n",
    "from dateutil import tz\n",
    "\n",
    "# Creating a naive datetime object\n",
    "date1 = datetime(2022, 1, 1, 12, 0, 0)\n",
    "\n",
    "# Creating an aware datetime object\n",
    "date2 = datetime(2023, 1, 1, 12, 0, 0, tzinfo=tz.tzutc())\n",
    "\n",
    "# Converting date1 to the same timezone as date2\n",
    "date1 = date1.astimezone(date2.tzinfo)\n",
    "\n",
    "# Comparing the two datetime objects\n",
    "if date1 > date2:\n",
    "      print('date1 is later than date2')\n",
    "else:\n",
    "      print('date1 is earlier than or the same as date2')"
   ]
  },
  {
   "cell_type": "markdown",
   "metadata": {},
   "source": [
    "#### offset-naive 轉換成 offset-aware 方法3：localize()"
   ]
  },
  {
   "cell_type": "code",
   "execution_count": 24,
   "metadata": {},
   "outputs": [
    {
     "name": "stdout",
     "output_type": "stream",
     "text": [
      "date1 is earlier than or the same as date2\n"
     ]
    }
   ],
   "source": [
    "from datetime import datetime\n",
    "from dateutil import tz\n",
    "import pytz\n",
    "\n",
    "# Creating a naive datetime object\n",
    "date1 = datetime(2022, 1, 1, 12, 0, 0)\n",
    "\n",
    "# Creating an aware datetime object\n",
    "date2 = datetime(2023, 1, 1, 12, 0, 0, tzinfo=tz.tzutc())\n",
    "\n",
    "# Converting date1 to the same timezone as date2\n",
    "date1 = pytz.timezone('UTC').localize(date1)\n",
    "\n",
    "# Comparing the two datetime objects\n",
    "if date1 > date2:\n",
    "      print('date1 is later than date2')\n",
    "else:\n",
    "      print('date1 is earlier than or the same as date2')"
   ]
  },
  {
   "cell_type": "code",
   "execution_count": null,
   "metadata": {},
   "outputs": [],
   "source": [
    "d = dt.datetime.now()\n",
    "twdt = pytz.timezone('Asia/Taipei')\n",
    "gmtdt = pytz.timezone('Etc/GMT')\n",
    "utcdt = pytz.timezone('UTC')\n",
    "\n",
    "twt = twdt.localize(d)\n",
    "gmtt = gmtdt.localize(d)\n",
    "utcdt = utcdt.localize(d)"
   ]
  },
  {
   "cell_type": "markdown",
   "metadata": {},
   "source": [
    "##### offset-aware 轉換成 offset-naive：replace()"
   ]
  },
  {
   "cell_type": "code",
   "execution_count": 11,
   "metadata": {},
   "outputs": [
    {
     "ename": "TypeError",
     "evalue": "can't subtract offset-naive and offset-aware datetimes",
     "output_type": "error",
     "traceback": [
      "\u001b[1;31m---------------------------------------------------------------------------\u001b[0m",
      "\u001b[1;31mTypeError\u001b[0m                                 Traceback (most recent call last)",
      "\u001b[1;32m<ipython-input-11-51b5e9dedee2>\u001b[0m in \u001b[0;36m<module>\u001b[1;34m()\u001b[0m\n\u001b[0;32m      2\u001b[0m \u001b[0md1\u001b[0m \u001b[1;33m=\u001b[0m \u001b[0mdatetime\u001b[0m\u001b[1;33m.\u001b[0m\u001b[0mdatetime\u001b[0m\u001b[1;33m.\u001b[0m\u001b[0mnow\u001b[0m\u001b[1;33m(\u001b[0m\u001b[0mdatetime\u001b[0m\u001b[1;33m.\u001b[0m\u001b[0mtimezone\u001b[0m\u001b[1;33m.\u001b[0m\u001b[0mutc\u001b[0m\u001b[1;33m)\u001b[0m \u001b[1;31m# datetime.datetime(2021, 2, 24, 4, 30, 6, 598645, tzinfo=datetime.timezone.utc)\u001b[0m\u001b[1;33m\u001b[0m\u001b[0m\n\u001b[0;32m      3\u001b[0m \u001b[0md2\u001b[0m \u001b[1;33m=\u001b[0m \u001b[0mdatetime\u001b[0m\u001b[1;33m.\u001b[0m\u001b[0mdatetime\u001b[0m\u001b[1;33m.\u001b[0m\u001b[0mutcnow\u001b[0m\u001b[1;33m(\u001b[0m\u001b[1;33m)\u001b[0m                   \u001b[1;31m# datetime.datetime(2021, 2, 24, 4, 30, 14, 29200)\u001b[0m\u001b[1;33m\u001b[0m\u001b[0m\n\u001b[1;32m----> 4\u001b[1;33m \u001b[0mdiff\u001b[0m \u001b[1;33m=\u001b[0m \u001b[0md2\u001b[0m \u001b[1;33m-\u001b[0m \u001b[0md1\u001b[0m\u001b[1;33m\u001b[0m\u001b[0m\n\u001b[0m",
      "\u001b[1;31mTypeError\u001b[0m: can't subtract offset-naive and offset-aware datetimes"
     ]
    }
   ],
   "source": [
    "import datetime\n",
    "d1 = datetime.datetime.now(datetime.timezone.utc) \n",
    "d2 = datetime.datetime.utcnow()                   \n",
    "diff = d2 - d1"
   ]
  },
  {
   "cell_type": "code",
   "execution_count": 13,
   "metadata": {},
   "outputs": [
    {
     "data": {
      "text/plain": [
       "datetime.timedelta(0)"
      ]
     },
     "execution_count": 13,
     "metadata": {},
     "output_type": "execute_result"
    }
   ],
   "source": [
    "diff = d2 - d1.replace(tzinfo=None) \n",
    "diff"
   ]
  },
  {
   "cell_type": "markdown",
   "metadata": {},
   "source": [
    "# Datetime.timedelta"
   ]
  },
  {
   "cell_type": "markdown",
   "metadata": {},
   "source": [
    "#### datetime.timedelta([days[, seconds[, microseconds[, milliseconds[, minutes[, hours[, weeks]]]]]]])：產生一個datetime.timedelta。"
   ]
  },
  {
   "cell_type": "code",
   "execution_count": 29,
   "metadata": {},
   "outputs": [
    {
     "name": "stdout",
     "output_type": "stream",
     "text": [
      "3:15:30\n"
     ]
    }
   ],
   "source": [
    "import datetime as dt\n",
    "print(dt.timedelta(hours = 3, minutes = 15, seconds = 30)) "
   ]
  },
  {
   "cell_type": "markdown",
   "metadata": {},
   "source": [
    "#### datetime.timedelta.total_seconds()：將日期時間轉成秒數。"
   ]
  },
  {
   "cell_type": "code",
   "execution_count": 30,
   "metadata": {},
   "outputs": [
    {
     "name": "stdout",
     "output_type": "stream",
     "text": [
      "8130.0\n"
     ]
    }
   ],
   "source": [
    "import datetime as dt\n",
    "print(dt.timedelta(hours = 2, minutes = 15, seconds = 30).total_seconds()) "
   ]
  },
  {
   "cell_type": "markdown",
   "metadata": {},
   "source": [
    "#### 日期計算。"
   ]
  },
  {
   "cell_type": "code",
   "execution_count": 31,
   "metadata": {},
   "outputs": [
    {
     "name": "stdout",
     "output_type": "stream",
     "text": [
      "2021-07-08 20:09:16.270432\n"
     ]
    }
   ],
   "source": [
    "import datetime as dt\n",
    "print(dt.datetime.now() - dt.timedelta(hours = 3, minutes = 15, seconds = 30)) "
   ]
  },
  {
   "cell_type": "markdown",
   "metadata": {},
   "source": [
    "# 日期時間差(dateutil)"
   ]
  },
  {
   "cell_type": "code",
   "execution_count": 23,
   "metadata": {},
   "outputs": [
    {
     "name": "stdout",
     "output_type": "stream",
     "text": [
      "2017-12-31\n",
      "2017-05-31\n"
     ]
    }
   ],
   "source": [
    "import datetime\n",
    "from dateutil.relativedelta import relativedelta\n",
    "print(datetime.date(2017, 10, 31) + relativedelta(months=2))\n",
    "print(datetime.date(2017, 10, 31) - relativedelta(months=5))"
   ]
  },
  {
   "cell_type": "code",
   "execution_count": 24,
   "metadata": {},
   "outputs": [
    {
     "data": {
      "text/plain": [
       "datetime.datetime(2023, 11, 16, 0, 42, 44, 265964)"
      ]
     },
     "execution_count": 24,
     "metadata": {},
     "output_type": "execute_result"
    }
   ],
   "source": [
    "import datetime\n",
    "from dateutil.relativedelta import relativedelta\n",
    "rd = datetime.datetime.now() + relativedelta(years=3, months=7, days=19)\n",
    "rd"
   ]
  },
  {
   "cell_type": "code",
   "execution_count": 22,
   "metadata": {},
   "outputs": [
    {
     "name": "stdout",
     "output_type": "stream",
     "text": [
      "1 day, 0:00:00\n",
      "7 days, 0:00:00\n"
     ]
    }
   ],
   "source": [
    "from datetime import timedelta as td\n",
    "print(td(days=1))\n",
    "print(td(weeks=1))"
   ]
  },
  {
   "cell_type": "code",
   "execution_count": 21,
   "metadata": {},
   "outputs": [
    {
     "name": "stdout",
     "output_type": "stream",
     "text": [
      "t3 = 201 days, 0:00:00\n",
      "t6 = -333 days, 1:14:20\n",
      "type of t3 = <class 'datetime.timedelta'>\n",
      "type of t6 = <class 'datetime.timedelta'>\n"
     ]
    }
   ],
   "source": [
    "from datetime import datetime, date\n",
    "\n",
    "t1 = date(year = 2018, month = 7, day = 12)\n",
    "t2 = date(year = 2017, month = 12, day = 23)\n",
    "t3 = t1 - t2\n",
    "print(\"t3 =\", t3)\n",
    "\n",
    "t4 = datetime(year = 2018, month = 7, day = 12, hour = 7, minute = 9, second = 33)\n",
    "t5 = datetime(year = 2019, month = 6, day = 10, hour = 5, minute = 55, second = 13)\n",
    "t6 = t4 - t5\n",
    "print(\"t6 =\", t6)\n",
    "\n",
    "print(\"type of t3 =\", type(t3)) \n",
    "print(\"type of t6 =\", type(t6))  "
   ]
  },
  {
   "cell_type": "code",
   "execution_count": 22,
   "metadata": {},
   "outputs": [
    {
     "name": "stdout",
     "output_type": "stream",
     "text": [
      "t3 = 14 days, 13:55:39\n"
     ]
    }
   ],
   "source": [
    "from datetime import timedelta\n",
    "\n",
    "t1 = timedelta(weeks = 2, days = 5, hours = 1, seconds = 33)\n",
    "t2 = timedelta(days = 4, hours = 11, minutes = 4, seconds = 54)\n",
    "t3 = t1 - t2\n",
    "\n",
    "print(\"t3 =\", t3)"
   ]
  },
  {
   "cell_type": "code",
   "execution_count": 23,
   "metadata": {},
   "outputs": [
    {
     "name": "stdout",
     "output_type": "stream",
     "text": [
      "t3 = -1 day, 23:59:39\n",
      "t3 = 0:00:21\n"
     ]
    }
   ],
   "source": [
    "from datetime import timedelta\n",
    "\n",
    "t1 = timedelta(seconds = 33)\n",
    "t2 = timedelta(seconds = 54)\n",
    "t3 = t1 - t2\n",
    "\n",
    "print(\"t3 =\", t3)\n",
    "print(\"t3 =\", abs(t3))"
   ]
  },
  {
   "cell_type": "code",
   "execution_count": 72,
   "metadata": {},
   "outputs": [
    {
     "name": "stdout",
     "output_type": "stream",
     "text": [
      "total seconds = 435633.233423\n"
     ]
    }
   ],
   "source": [
    "from datetime import timedelta\n",
    "\n",
    "t = timedelta(days = 5, hours = 1, seconds = 33, microseconds = 233423)\n",
    "print(\"total seconds =\", t.total_seconds())"
   ]
  },
  {
   "cell_type": "markdown",
   "metadata": {},
   "source": [
    "# Time套件 "
   ]
  },
  {
   "cell_type": "markdown",
   "metadata": {},
   "source": [
    "#### time.time()：取得1970/1/1 00:00:00 至今的秒數。"
   ]
  },
  {
   "cell_type": "code",
   "execution_count": 32,
   "metadata": {},
   "outputs": [
    {
     "name": "stdout",
     "output_type": "stream",
     "text": [
      "1625757919.7633483\n"
     ]
    }
   ],
   "source": [
    "import time\n",
    "print(time.time())"
   ]
  },
  {
   "cell_type": "markdown",
   "metadata": {},
   "source": [
    "#### time.localtime()：將 time.time() 所產生的秒數，轉換為 struct_time 格式的本地時間。"
   ]
  },
  {
   "cell_type": "code",
   "execution_count": 33,
   "metadata": {},
   "outputs": [
    {
     "name": "stdout",
     "output_type": "stream",
     "text": [
      "time.struct_time(tm_year=2021, tm_mon=7, tm_mday=8, tm_hour=23, tm_min=25, tm_sec=33, tm_wday=3, tm_yday=189, tm_isdst=0)\n"
     ]
    }
   ],
   "source": [
    "import time\n",
    "print(time.localtime(time.time()))"
   ]
  },
  {
   "cell_type": "markdown",
   "metadata": {},
   "source": [
    "#### time.ctime()：將 time.time() 所產生的秒數，轉換為本地時間。"
   ]
  },
  {
   "cell_type": "code",
   "execution_count": 34,
   "metadata": {},
   "outputs": [
    {
     "name": "stdout",
     "output_type": "stream",
     "text": [
      "Thu Jul  8 23:25:50 2021\n"
     ]
    }
   ],
   "source": [
    "import time\n",
    "print(time.ctime(time.time()))"
   ]
  },
  {
   "cell_type": "markdown",
   "metadata": {},
   "source": [
    "#### time.gmtime()：用途跟 time.localtime() 函數類似，它傳回的時間是世界協調時間是(UTC+0)的時區。"
   ]
  },
  {
   "cell_type": "code",
   "execution_count": 35,
   "metadata": {},
   "outputs": [
    {
     "name": "stdout",
     "output_type": "stream",
     "text": [
      "time.struct_time(tm_year=2021, tm_mon=7, tm_mday=8, tm_hour=15, tm_min=26, tm_sec=4, tm_wday=3, tm_yday=189, tm_isdst=0)\n"
     ]
    }
   ],
   "source": [
    "import time\n",
    "print(time.gmtime(time.time()))"
   ]
  },
  {
   "cell_type": "markdown",
   "metadata": {},
   "source": [
    "#### time.mktime()：與 time.localtime() 互為反函數，可將 struct_time 格式的時間轉為秒數。"
   ]
  },
  {
   "cell_type": "code",
   "execution_count": 36,
   "metadata": {},
   "outputs": [
    {
     "name": "stdout",
     "output_type": "stream",
     "text": [
      "1625757983.0\n"
     ]
    }
   ],
   "source": [
    "import time\n",
    "print(time.mktime(time.localtime()))"
   ]
  },
  {
   "cell_type": "markdown",
   "metadata": {},
   "source": [
    "#### time.asctime()：將 struct_time 格式的時間轉為字串格式。"
   ]
  },
  {
   "cell_type": "code",
   "execution_count": 37,
   "metadata": {},
   "outputs": [
    {
     "name": "stdout",
     "output_type": "stream",
     "text": [
      "Thu Jul  8 23:26:35 2021\n"
     ]
    }
   ],
   "source": [
    "import time\n",
    "print(time.asctime(time.localtime()))"
   ]
  },
  {
   "cell_type": "markdown",
   "metadata": {},
   "source": [
    "#### time.strptime(string, format)：字串格式轉為時間格式。"
   ]
  },
  {
   "cell_type": "code",
   "execution_count": 38,
   "metadata": {},
   "outputs": [
    {
     "name": "stdout",
     "output_type": "stream",
     "text": [
      "21/07/08 23:26:48\n"
     ]
    }
   ],
   "source": [
    "import time\n",
    "print(time.strftime('%y/%m/%d %H:%M:%S', time.localtime()))"
   ]
  },
  {
   "cell_type": "markdown",
   "metadata": {},
   "source": [
    "#### time.strftime(format, struct_time)： 將struct_time 格式時間格式轉為字串格式。"
   ]
  },
  {
   "cell_type": "code",
   "execution_count": 39,
   "metadata": {},
   "outputs": [
    {
     "name": "stdout",
     "output_type": "stream",
     "text": [
      "time.struct_time(tm_year=2021, tm_mon=4, tm_mday=28, tm_hour=0, tm_min=30, tm_sec=15, tm_wday=2, tm_yday=118, tm_isdst=-1)\n"
     ]
    }
   ],
   "source": [
    "import time\n",
    "print(time.strptime('04/28/2021, 00:30:15', '%m/%d/%Y, %H:%M:%S'))"
   ]
  },
  {
   "cell_type": "markdown",
   "metadata": {},
   "source": [
    "# Calendar套件"
   ]
  },
  {
   "cell_type": "markdown",
   "metadata": {},
   "source": [
    "#### calendar.setfirstweekday(weekday)：設定每週以那一天為第一天，星期一為0至星期日為6。\n",
    "\n",
    "#### calendar.firstweekday()：回傳當前設定每週開始的星期。"
   ]
  },
  {
   "cell_type": "code",
   "execution_count": 1,
   "metadata": {},
   "outputs": [
    {
     "name": "stdout",
     "output_type": "stream",
     "text": [
      "6\n"
     ]
    }
   ],
   "source": [
    "import calendar\n",
    "calendar.setfirstweekday(calendar.SUNDAY)\n",
    "print(calendar.firstweekday())"
   ]
  },
  {
   "cell_type": "markdown",
   "metadata": {},
   "source": [
    "#### calendar.isleap(year)：判斷是否為閏年。"
   ]
  },
  {
   "cell_type": "code",
   "execution_count": 41,
   "metadata": {},
   "outputs": [
    {
     "name": "stdout",
     "output_type": "stream",
     "text": [
      "False\n"
     ]
    }
   ],
   "source": [
    "import calendar\n",
    "print(calendar.isleap(9102))"
   ]
  },
  {
   "cell_type": "markdown",
   "metadata": {},
   "source": [
    "#### calendar.leapdays(year1,year2)：在範圍(year1，year2)內的年份中的閏年總數。"
   ]
  },
  {
   "cell_type": "code",
   "execution_count": 42,
   "metadata": {},
   "outputs": [
    {
     "name": "stdout",
     "output_type": "stream",
     "text": [
      "18\n"
     ]
    }
   ],
   "source": [
    "import calendar\n",
    "print(calendar.leapdays(1945,2019))"
   ]
  },
  {
   "cell_type": "markdown",
   "metadata": {},
   "source": [
    "#### calendar.weekday(year,month,day)：從日期判斷星期，星期一為0、星期日為6。"
   ]
  },
  {
   "cell_type": "code",
   "execution_count": 43,
   "metadata": {},
   "outputs": [
    {
     "name": "stdout",
     "output_type": "stream",
     "text": [
      "1\n"
     ]
    }
   ],
   "source": [
    "import calendar\n",
    "print(calendar.weekday(2019,10,1))"
   ]
  },
  {
   "cell_type": "markdown",
   "metadata": {},
   "source": [
    "#### calendar.monthrange(year,month)：顯示一個月第一天的星期與一個月有多少天。"
   ]
  },
  {
   "cell_type": "code",
   "execution_count": 44,
   "metadata": {},
   "outputs": [
    {
     "name": "stdout",
     "output_type": "stream",
     "text": [
      "(1, 31)\n"
     ]
    }
   ],
   "source": [
    "import calendar\n",
    "print(calendar.monthrange(2019, 10))"
   ]
  },
  {
   "cell_type": "markdown",
   "metadata": {},
   "source": [
    "#### calendar.monthcalendar(year,month)：顯示指定年月的日曆矩陣。"
   ]
  },
  {
   "cell_type": "code",
   "execution_count": 45,
   "metadata": {},
   "outputs": [
    {
     "name": "stdout",
     "output_type": "stream",
     "text": [
      "[[0, 0, 1, 2, 3, 4, 5], [6, 7, 8, 9, 10, 11, 12], [13, 14, 15, 16, 17, 18, 19], [20, 21, 22, 23, 24, 25, 26], [27, 28, 29, 30, 31, 0, 0]]\n"
     ]
    }
   ],
   "source": [
    "import calendar\n",
    "calendar.setfirstweekday(calendar.SUNDAY)\n",
    "print(calendar.monthcalendar(2019,10))"
   ]
  },
  {
   "cell_type": "markdown",
   "metadata": {},
   "source": [
    "#### calendar.timegm(struct_time)：將 struct_time轉成時間戳記。"
   ]
  },
  {
   "cell_type": "code",
   "execution_count": 46,
   "metadata": {},
   "outputs": [
    {
     "name": "stdout",
     "output_type": "stream",
     "text": [
      "1625786980\n"
     ]
    }
   ],
   "source": [
    "import calendar\n",
    "import time\n",
    "print(calendar.timegm(time.localtime()))"
   ]
  },
  {
   "cell_type": "markdown",
   "metadata": {},
   "source": [
    "#### calendar.month(year,month)：以多行字串方式顯示指定的年月的日曆。"
   ]
  },
  {
   "cell_type": "code",
   "execution_count": 47,
   "metadata": {},
   "outputs": [
    {
     "name": "stdout",
     "output_type": "stream",
     "text": [
      "    October 2019\n",
      "Su Mo Tu We Th Fr Sa\n",
      "       1  2  3  4  5\n",
      " 6  7  8  9 10 11 12\n",
      "13 14 15 16 17 18 19\n",
      "20 21 22 23 24 25 26\n",
      "27 28 29 30 31\n",
      "\n"
     ]
    }
   ],
   "source": [
    "import calendar\n",
    "calendar.setfirstweekday(calendar.SUNDAY)\n",
    "print(calendar.month(2019, 10))"
   ]
  },
  {
   "cell_type": "markdown",
   "metadata": {},
   "source": [
    "# 範例：產生每個月第一與最後一天日期"
   ]
  },
  {
   "cell_type": "code",
   "execution_count": 2,
   "metadata": {},
   "outputs": [
    {
     "name": "stdout",
     "output_type": "stream",
     "text": [
      "2019/02/01 2019/02/28\n",
      "2019/03/01 2019/03/31\n",
      "2019/04/01 2019/04/30\n",
      "2019/05/01 2019/05/31\n",
      "2019/06/01 2019/06/30\n",
      "2019/07/01 2019/07/31\n",
      "2019/08/01 2019/08/31\n",
      "2019/09/01 2019/09/30\n",
      "2019/10/01 2019/10/31\n",
      "2019/11/01 2019/11/30\n",
      "2019/12/01 2019/12/31\n",
      "2020/01/01 2020/01/31\n",
      "2020/02/01 2020/02/29\n"
     ]
    }
   ],
   "source": [
    "import calendar\n",
    "from dateutil.relativedelta import relativedelta\n",
    "import datetime as dt\n",
    "\n",
    "base = dt.datetime.now() - relativedelta(years = 1)\n",
    "while(base < dt.datetime.now()):\n",
    "    weekday, monthofday = calendar.monthrange(base.year, base.month) #第一個是該月的第一天是星期幾，第二個是該月的天數\n",
    "    startdate = dt.datetime.strftime(dt.datetime(base.year, base.month, 1), \"%Y/%m/%d\")\n",
    "    enddate = dt.datetime.strftime(dt.datetime(base.year, base.month, monthofday), \"%Y/%m/%d\")\n",
    "    print(startdate, enddate)\n",
    "    base += relativedelta(months = 1)"
   ]
  },
  {
   "cell_type": "markdown",
   "metadata": {},
   "source": [
    "<table width=\"900\">\n",
    "    <tr>\n",
    "        <td>\n",
    "            <font size=\"4\"><div style=\"text-align:left;\"><a href=\"matplotlib.ipynb\" target=\"_blank\">上一章：matplotlib</a></div></font>\n",
    "        </td>\n",
    "        <td>\n",
    "            <font size=\"4\"><div style=\"text-align:center;\"><a href=\"#\" target=\"_blank\">本章：日期時間套件 Datetime、Time、Calendar</a></div></font>\n",
    "        </td>\n",
    "        <td>\n",
    "            <font size=\"4\"><div style=\"text-align:right;\"><a href=\"Datetime、Time 之間的轉換.ipynb\" target=\"_blank\">下一章：Datetime、Time 之間的轉換</a></div></font>\n",
    "        </td>\n",
    "    </tr>\n",
    "</table>"
   ]
  },
  {
   "cell_type": "code",
   "execution_count": 9,
   "metadata": {},
   "outputs": [],
   "source": [
    "import calendar \n",
    "\n",
    "calendar."
   ]
  },
  {
   "cell_type": "code",
   "execution_count": null,
   "metadata": {},
   "outputs": [],
   "source": []
  }
 ],
 "metadata": {
  "kernelspec": {
   "display_name": "Python 3 (ipykernel)",
   "language": "python",
   "name": "python3"
  },
  "language_info": {
   "codemirror_mode": {
    "name": "ipython",
    "version": 3
   },
   "file_extension": ".py",
   "mimetype": "text/x-python",
   "name": "python",
   "nbconvert_exporter": "python",
   "pygments_lexer": "ipython3",
   "version": "3.10.9"
  }
 },
 "nbformat": 4,
 "nbformat_minor": 2
}
