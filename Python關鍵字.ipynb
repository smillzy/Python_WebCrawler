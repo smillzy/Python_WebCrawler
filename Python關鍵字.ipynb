{
 "cells": [
  {
   "cell_type": "markdown",
   "metadata": {},
   "source": [
    "# keyword.kwlist 關鍵字列表"
   ]
  },
  {
   "cell_type": "code",
   "execution_count": 4,
   "metadata": {},
   "outputs": [
    {
     "name": "stdout",
     "output_type": "stream",
     "text": [
      "Python 關鍵字如下\n",
      "['False', 'None', 'True', 'and', 'as', 'assert', 'async', 'await', 'break', 'class', 'continue', 'def', 'del', 'elif', 'else', 'except', 'finally', 'for', 'from', 'global', 'if', 'import', 'in', 'is', 'lambda', 'nonlocal', 'not', 'or', 'pass', 'raise', 'return', 'try', 'while', 'with', 'yield']\n"
     ]
    }
   ],
   "source": [
    "import keyword\n",
    "print(\"Python 關鍵字如下\")\n",
    "print(keyword.kwlist)"
   ]
  },
  {
   "cell_type": "markdown",
   "metadata": {},
   "source": [
    "# keyword.iskeyword(s) 測試是否為關鍵字"
   ]
  },
  {
   "cell_type": "code",
   "execution_count": 2,
   "metadata": {},
   "outputs": [
    {
     "name": "stdout",
     "output_type": "stream",
     "text": [
      "for 是 Python 關鍵字\n",
      "while 是 Python 關鍵字\n",
      "tanisha 不是 Python 關鍵字\n",
      "break 是 Python 關鍵字\n",
      "sky 不是 Python 關鍵字\n",
      "elif 是 Python 關鍵字\n",
      "assert 是 Python 關鍵字\n",
      "pulkit 不是 Python 關鍵字\n",
      "lambda 是 Python 關鍵字\n",
      "else 是 Python 關鍵字\n",
      "sakshar 不是 Python 關鍵字\n"
     ]
    }
   ],
   "source": [
    "import keyword\n",
    "\n",
    "keys = [\"for\", \"while\", \"tanisha\", \"break\", \"sky\", \"elif\", \"assert\", \"pulkit\", \"lambda\", \"else\", \"sakshar\"]\n",
    "  \n",
    "for i in range(len(keys)):\n",
    "    if keyword.iskeyword(keys[i]):\n",
    "        print(keys[i] + \" 是 Python 關鍵字\")\n",
    "    else:\n",
    "        print(keys[i] + \" 不是 Python 關鍵字\")"
   ]
  },
  {
   "cell_type": "markdown",
   "metadata": {},
   "source": [
    "<table width=\"900\">\n",
    "    <tr>\n",
    "       <td>\n",
    "           <font size=\"4\"><div style=\"text-align:left;\"><a href=\"#\" target=\"_blank\">本章：Python關鍵字</a></div></font>\n",
    "       </td>\n",
    "       <td>\n",
    "           <font size=\"4\"><div style=\"text-align:right;\"><a href=\"資料型別.ipynb\" target=\"_blank\">下一章：資料型別</a></div></font>\n",
    "       </td>\n",
    "    </tr>\n",
    "</table>"
   ]
  },
  {
   "cell_type": "code",
   "execution_count": null,
   "metadata": {},
   "outputs": [],
   "source": []
  }
 ],
 "metadata": {
  "kernelspec": {
   "display_name": "Python 3 (ipykernel)",
   "language": "python",
   "name": "python3"
  },
  "language_info": {
   "codemirror_mode": {
    "name": "ipython",
    "version": 3
   },
   "file_extension": ".py",
   "mimetype": "text/x-python",
   "name": "python",
   "nbconvert_exporter": "python",
   "pygments_lexer": "ipython3",
   "version": "3.9.12"
  }
 },
 "nbformat": 4,
 "nbformat_minor": 2
}
