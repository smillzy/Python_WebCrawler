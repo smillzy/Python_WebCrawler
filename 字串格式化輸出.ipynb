{
 "cells": [
  {
   "cell_type": "markdown",
   "metadata": {
    "id": "B48HX88xgSSE"
   },
   "source": [
    "# 1. Python 字串格式化\n",
    "- 舊式字串格式化(%)\n",
    "- 新式字串格式化(format)\n",
    "- 字串插值 f-string (python 3.6後支援)\n",
    "- 樣板字串"
   ]
  },
  {
   "cell_type": "markdown",
   "metadata": {
    "collapsed": true,
    "id": "EJXxdIPwgSSL"
   },
   "source": [
    "# 2. [舊式字串格式化(%) ](https://docs.python.org/3/library/stdtypes.html#old-string-formatting)\n",
    "![](image\\舊式字串格式化.png)\n",
    "\n",
    "%[flags][width][.precision][type] % [values]\n",
    "- width 控制寬度， 如果width 大於字串長度，會右對齊，左側補空格， 如果width小於實際寬度， 那麼width失效\n",
    "    \n",
    "### 格式化符號(code)\n",
    "|格式化符號|說明|\n",
    "|-|-|\n",
    "|%o|八進位整數|\n",
    "|%d|十進位整數|\n",
    "|%i|十進位整數|\n",
    "|%u|無號數十進位整數|\n",
    "|%x、%X|十六進位整數|\n",
    "|%f、%F|浮點數|\n",
    "|%e、%E|科學記號|\n",
    "|%g|浮點數，小數位數超過4位，使用科學記數法表示（小寫）|\n",
    "|%G|浮點數，小數位數超過4位，使用科學記數法表示（大寫）|\n",
    "|%c|以字元方式輸出|\n",
    "|%s|以 str() 函數輸出文字|\n",
    "|%r|以 repr() 函數輸出文字|\n",
    "|%a|以 ascii() 函數輸出文字|\n",
    "|%%|輸出 % 百分比符號|"
   ]
  },
  {
   "cell_type": "code",
   "execution_count": 3,
   "metadata": {},
   "outputs": [
    {
     "data": {
      "text/plain": [
       "'(37)'"
      ]
     },
     "execution_count": 3,
     "metadata": {},
     "output_type": "execute_result"
    }
   ],
   "source": [
    "'(%o)'%(31)"
   ]
  },
  {
   "cell_type": "markdown",
   "metadata": {
    "id": "9zV5ci3PgSSO"
   },
   "source": [
    "## 2.1 數值格式化"
   ]
  },
  {
   "cell_type": "code",
   "execution_count": null,
   "metadata": {
    "id": "vkYtpDiUgSSP",
    "outputId": "cf7a0a56-ebcf-49e7-b6a6-9fa7cc362927"
   },
   "outputs": [
    {
     "name": "stdout",
     "output_type": "stream",
     "text": [
      "|1 2|\n"
     ]
    }
   ],
   "source": [
    "print('|%d %d|' % (1, 2))"
   ]
  },
  {
   "cell_type": "code",
   "execution_count": null,
   "metadata": {
    "id": "RCNZ1hktgSSS",
    "outputId": "4b653bdd-5e1b-45d3-8d5f-4373ad8858bd"
   },
   "outputs": [
    {
     "name": "stdout",
     "output_type": "stream",
     "text": [
      "|one two|\n"
     ]
    }
   ],
   "source": [
    "print('|%s %s|' % ('one', 'two'))"
   ]
  },
  {
   "cell_type": "code",
   "execution_count": null,
   "metadata": {
    "id": "tLWQ-Gp4gSST",
    "outputId": "8017a9e5-4b09-44b2-e3e1-f33e6d2dbffa"
   },
   "outputs": [
    {
     "name": "stdout",
     "output_type": "stream",
     "text": [
      "|xylop|\n"
     ]
    }
   ],
   "source": [
    "print('|%.5s|' % ('xylophone')) #%.5s限制輸出"
   ]
  },
  {
   "cell_type": "code",
   "execution_count": 5,
   "metadata": {},
   "outputs": [
    {
     "name": "stdout",
     "output_type": "stream",
     "text": [
      "|  xyl|\n"
     ]
    }
   ],
   "source": [
    "print('|%5.3s|' % ('xylophone'))"
   ]
  },
  {
   "cell_type": "code",
   "execution_count": 4,
   "metadata": {},
   "outputs": [
    {
     "name": "stdout",
     "output_type": "stream",
     "text": [
      "|xylopho|\n"
     ]
    }
   ],
   "source": [
    "print('|%5.7s|' % ('xylophone'))"
   ]
  },
  {
   "cell_type": "code",
   "execution_count": null,
   "metadata": {
    "id": "31AnZhGBgSSU",
    "outputId": "58472098-dc28-4054-919e-42bf59eb6a7d"
   },
   "outputs": [
    {
     "name": "stdout",
     "output_type": "stream",
     "text": [
      "|003.14|\n"
     ]
    }
   ],
   "source": [
    "print('|%06.2f|' % 3.14159) #2f針對小數點輸出"
   ]
  },
  {
   "cell_type": "code",
   "execution_count": 6,
   "metadata": {},
   "outputs": [
    {
     "name": "stdout",
     "output_type": "stream",
     "text": [
      "|12345678.14|\n"
     ]
    }
   ],
   "source": [
    "print('|%06.2f|' % 12345678.14159) #浮點數數值不能限制"
   ]
  },
  {
   "cell_type": "code",
   "execution_count": null,
   "metadata": {
    "id": "MdrHao0xgSSW",
    "outputId": "deabc135-d6a9-4ac3-aed2-6b5ac5e3f092"
   },
   "outputs": [
    {
     "name": "stdout",
     "output_type": "stream",
     "text": [
      "|+3.14, -3.14|\n"
     ]
    }
   ],
   "source": [
    "print('|%+4.2f, %+4.2f|' % (3.14, -3.14))"
   ]
  },
  {
   "cell_type": "code",
   "execution_count": null,
   "metadata": {
    "id": "zMDyXMawgSSY",
    "outputId": "fdfbb45c-6488-4858-b9d6-554d11fdcaf9"
   },
   "outputs": [
    {
     "name": "stdout",
     "output_type": "stream",
     "text": [
      "|( 3), (-3)|\n"
     ]
    }
   ],
   "source": [
    "# 負數加負號，正數留空白\n",
    "print('|(% d), (% d)|' % (3, -3))"
   ]
  },
  {
   "cell_type": "code",
   "execution_count": null,
   "metadata": {
    "id": "e64CIWPwgSSa",
    "outputId": "8c3c73b1-1b98-44f3-8531-128a8937d31a"
   },
   "outputs": [
    {
     "name": "stdout",
     "output_type": "stream",
     "text": [
      "|3.141593|\n"
     ]
    }
   ],
   "source": [
    "print('|%f|' % (3.141592653589793))"
   ]
  },
  {
   "cell_type": "code",
   "execution_count": null,
   "metadata": {
    "id": "QFI_u66qgSSb",
    "outputId": "741f0d87-37b6-44e7-9db9-18a5f88a52e7"
   },
   "outputs": [
    {
     "name": "stdout",
     "output_type": "stream",
     "text": [
      "|1.234567e+06|\n"
     ]
    }
   ],
   "source": [
    "print('|%e|' % (1234567.1234567))"
   ]
  },
  {
   "cell_type": "code",
   "execution_count": null,
   "metadata": {
    "id": "nUYLbNA0gSSc",
    "outputId": "0db7c564-3281-483a-c0d2-f3f6d05b7267"
   },
   "outputs": [
    {
     "name": "stdout",
     "output_type": "stream",
     "text": [
      "|  12.346|\n"
     ]
    }
   ],
   "source": [
    "print('|%8.3f|' % 12.3456)"
   ]
  },
  {
   "cell_type": "code",
   "execution_count": null,
   "metadata": {
    "id": "jCQ-HIRUgSSe",
    "outputId": "5af0c0a5-b822-4ed5-e2a8-f57f5e5bad5a"
   },
   "outputs": [
    {
     "name": "stdout",
     "output_type": "stream",
     "text": [
      "|00003.14|\n"
     ]
    }
   ],
   "source": [
    "print('|%08.2f|' % 3.14159)"
   ]
  },
  {
   "cell_type": "markdown",
   "metadata": {},
   "source": [
    "## 2.2 格式化字串"
   ]
  },
  {
   "cell_type": "code",
   "execution_count": 6,
   "metadata": {},
   "outputs": [
    {
     "data": {
      "text/plain": [
       "'*****abcde'"
      ]
     },
     "execution_count": 6,
     "metadata": {},
     "output_type": "execute_result"
    }
   ],
   "source": [
    "s = '%.5s' % ('abcdefghijklmnopqrst')\n",
    "s.rjust(10, '*')"
   ]
  },
  {
   "cell_type": "code",
   "execution_count": 7,
   "metadata": {},
   "outputs": [
    {
     "data": {
      "text/plain": [
       "'abcde*****'"
      ]
     },
     "execution_count": 7,
     "metadata": {},
     "output_type": "execute_result"
    }
   ],
   "source": [
    "s = '%.5s' % ('abcdefghijklmnopqrst')\n",
    "s.ljust(10, '*')"
   ]
  },
  {
   "cell_type": "markdown",
   "metadata": {},
   "source": [
    "### 2.2.1 s, r, a 使用str(), repr(), ascii() 格式化字串"
   ]
  },
  {
   "cell_type": "code",
   "execution_count": 1,
   "metadata": {},
   "outputs": [
    {
     "data": {
      "text/plain": [
       "'Python程式設計與資料分析應用班'"
      ]
     },
     "execution_count": 1,
     "metadata": {},
     "output_type": "execute_result"
    }
   ],
   "source": [
    "'%s' % 'Python程式設計與網路爬蟲資料分析應用班'"
   ]
  },
  {
   "cell_type": "code",
   "execution_count": 2,
   "metadata": {},
   "outputs": [
    {
     "data": {
      "text/plain": [
       "\"'Python程式設計與資料分析應用班'\""
      ]
     },
     "execution_count": 2,
     "metadata": {},
     "output_type": "execute_result"
    }
   ],
   "source": [
    "'%r' % 'Python程式設計與網路爬蟲資料分析應用班'"
   ]
  },
  {
   "cell_type": "code",
   "execution_count": 3,
   "metadata": {},
   "outputs": [
    {
     "data": {
      "text/plain": [
       "\"'Python\\\\u7a0b\\\\u5f0f\\\\u8a2d\\\\u8a08\\\\u8207\\\\u8cc7\\\\u6599\\\\u5206\\\\u6790\\\\u61c9\\\\u7528\\\\u73ed'\""
      ]
     },
     "execution_count": 3,
     "metadata": {},
     "output_type": "execute_result"
    }
   ],
   "source": [
    "'%a' % 'Python程式設計與網路爬蟲資料分析應用班'"
   ]
  },
  {
   "cell_type": "markdown",
   "metadata": {},
   "source": [
    "### 2.2.2 \n",
    "- ascii(object)：回傳參數物件的字串表達形式，如果該字串含有非 ASCII 字元，所有非 ASCII 字元會以 Unicode 跳脫字元的方式呈現"
   ]
  },
  {
   "cell_type": "code",
   "execution_count": 50,
   "metadata": {},
   "outputs": [
    {
     "name": "stdout",
     "output_type": "stream",
     "text": [
      "'\\u54c8\\u56c9'\n"
     ]
    }
   ],
   "source": [
    "print(ascii(\"哈囉\"))"
   ]
  },
  {
   "cell_type": "code",
   "execution_count": 1,
   "metadata": {},
   "outputs": [
    {
     "name": "stdout",
     "output_type": "stream",
     "text": [
      "['112-1 150183 Python\\u7a0b\\u5f0f\\u8a2d\\u8a08\\u8207\\u7db2\\u8def\\u722c\\u87f2\\u8cc7\\u6599\\u5206\\u6790\\u61c9\\u7528\\u73ed\\u7b2c01\\u671f', 'hello']\n"
     ]
    }
   ],
   "source": [
    "print(ascii([\"112-1 150183 Python程式設計與網路爬蟲資料分析應用班第01期\", \"hello\"]))"
   ]
  },
  {
   "cell_type": "code",
   "execution_count": 52,
   "metadata": {},
   "outputs": [
    {
     "name": "stdout",
     "output_type": "stream",
     "text": [
      "(0, 1)\n"
     ]
    }
   ],
   "source": [
    "print(ascii((0, 1)))"
   ]
  },
  {
   "cell_type": "code",
   "execution_count": 53,
   "metadata": {},
   "outputs": [
    {
     "name": "stdout",
     "output_type": "stream",
     "text": [
      "{1: 'yes', 2: '\\u597d\\u7684'}\n"
     ]
    }
   ],
   "source": [
    "print(ascii({1:\"yes\", 2:\"好的\"}))"
   ]
  },
  {
   "cell_type": "markdown",
   "metadata": {
    "id": "Y5D9wTf7gSSg"
   },
   "source": [
    "### 2.2.3 str()與repr()差異\n",
    "- str()：給人類看的、以可讀性角度出發\n",
    "- repr()：給電腦看的，以明確數值角度出發"
   ]
  },
  {
   "cell_type": "code",
   "execution_count": 5,
   "metadata": {},
   "outputs": [
    {
     "name": "stdout",
     "output_type": "stream",
     "text": [
      "a\tb\tc\td\n"
     ]
    }
   ],
   "source": [
    "s = 'a\\tb\\tc\\td'\n",
    "print(str(s))"
   ]
  },
  {
   "cell_type": "code",
   "execution_count": 6,
   "metadata": {},
   "outputs": [
    {
     "name": "stdout",
     "output_type": "stream",
     "text": [
      "'a\\tb\\tc\\td'\n"
     ]
    }
   ],
   "source": [
    "s = 'a\\tb\\tc\\td'\n",
    "print(repr(s))"
   ]
  },
  {
   "cell_type": "code",
   "execution_count": 47,
   "metadata": {
    "id": "psHXU1izgSSh",
    "outputId": "a1cbb240-3aee-46c7-f93d-f41942997109"
   },
   "outputs": [
    {
     "data": {
      "text/plain": [
       "0.18181818181818182"
      ]
     },
     "execution_count": 47,
     "metadata": {},
     "output_type": "execute_result"
    }
   ],
   "source": [
    "a = 2.0/11.0\n",
    "a"
   ]
  },
  {
   "cell_type": "code",
   "execution_count": null,
   "metadata": {
    "id": "rGJoJA8xgSSi",
    "outputId": "07fbde94-4cc3-4f81-a692-7e9a0b570324",
    "scrolled": false
   },
   "outputs": [
    {
     "name": "stdout",
     "output_type": "stream",
     "text": [
      "|0.1818|\n"
     ]
    }
   ],
   "source": [
    "print('|%.6s|' % str(a))"
   ]
  },
  {
   "cell_type": "code",
   "execution_count": 55,
   "metadata": {
    "id": "jgTDVJ77gSSj",
    "outputId": "f9abcc71-556c-44be-c78a-5edd5465c6eb"
   },
   "outputs": [
    {
     "name": "stdout",
     "output_type": "stream",
     "text": [
      "|'0.181|\n"
     ]
    }
   ],
   "source": [
    "print('|%.6r|' % str(a))"
   ]
  },
  {
   "cell_type": "code",
   "execution_count": null,
   "metadata": {
    "id": "jyoFrPLEgSSk",
    "outputId": "030c6f09-def1-4dd4-c8b2-b8d098fc1c16"
   },
   "outputs": [
    {
     "data": {
      "text/plain": [
       "1175"
      ]
     },
     "execution_count": 192,
     "metadata": {
      "tags": []
     },
     "output_type": "execute_result"
    }
   ],
   "source": [
    "a = 235*5\n",
    "a"
   ]
  },
  {
   "cell_type": "code",
   "execution_count": null,
   "metadata": {
    "id": "omgXcQF7gSSk",
    "outputId": "32288121-bbae-4998-e940-229525facd80"
   },
   "outputs": [
    {
     "name": "stdout",
     "output_type": "stream",
     "text": [
      "|  1175|\n"
     ]
    }
   ],
   "source": [
    "print('|%6s|' % str(a))"
   ]
  },
  {
   "cell_type": "code",
   "execution_count": null,
   "metadata": {
    "id": "ZWJXdY_ogSSl",
    "outputId": "ebe05b90-8f35-4f6b-bbb4-a8723d8dc430"
   },
   "outputs": [
    {
     "name": "stdout",
     "output_type": "stream",
     "text": [
      "|'1175'|\n"
     ]
    }
   ],
   "source": [
    "print('|%6r|' % str(a))"
   ]
  },
  {
   "cell_type": "code",
   "execution_count": null,
   "metadata": {
    "id": "M_Tlz1D6gSSm",
    "outputId": "1247f778-ef4f-4bcb-aa34-b7022379a9ce"
   },
   "outputs": [
    {
     "name": "stdout",
     "output_type": "stream",
     "text": [
      "Hello, world!\n"
     ]
    }
   ],
   "source": [
    "a = 'Hello, world!'\n",
    "print(a)"
   ]
  },
  {
   "cell_type": "code",
   "execution_count": null,
   "metadata": {
    "id": "Zoo-zDNVgSSm",
    "outputId": "295e4c1b-51d8-41c6-ac09-acf6789f59cc"
   },
   "outputs": [
    {
     "name": "stdout",
     "output_type": "stream",
     "text": [
      "Hello, world!\n"
     ]
    }
   ],
   "source": [
    "print(str(a))"
   ]
  },
  {
   "cell_type": "code",
   "execution_count": null,
   "metadata": {
    "id": "LAirbu2egSSn",
    "outputId": "c252d8b6-0564-43d4-c7af-157827ab905c"
   },
   "outputs": [
    {
     "data": {
      "text/plain": [
       "\"'Hello, world!'\""
      ]
     },
     "execution_count": 158,
     "metadata": {
      "tags": []
     },
     "output_type": "execute_result"
    }
   ],
   "source": [
    "repr(a)"
   ]
  },
  {
   "cell_type": "code",
   "execution_count": null,
   "metadata": {
    "id": "eko6xMsFgSSn",
    "outputId": "8365e7de-a8c6-4065-e9ea-8a4bd5f03c67"
   },
   "outputs": [
    {
     "name": "stdout",
     "output_type": "stream",
     "text": [
      "'Hello, world!'\n"
     ]
    }
   ],
   "source": [
    "print(repr(a))"
   ]
  },
  {
   "cell_type": "markdown",
   "metadata": {
    "id": "Q2jMvNbOgSSn"
   },
   "source": [
    "## 2.3 對齊"
   ]
  },
  {
   "cell_type": "code",
   "execution_count": null,
   "metadata": {
    "id": "9KYHJRahgSSo",
    "outputId": "f6f71b96-919e-4e98-b183-bea7a1b0f544"
   },
   "outputs": [
    {
     "name": "stdout",
     "output_type": "stream",
     "text": [
      "|      test|\n"
     ]
    }
   ],
   "source": [
    "print('|%10s|' % ('test'))"
   ]
  },
  {
   "cell_type": "code",
   "execution_count": null,
   "metadata": {
    "id": "cAgzCRtggSSo",
    "outputId": "2f01ef02-c4ed-4319-aaba-fd5d69316ea6"
   },
   "outputs": [
    {
     "name": "stdout",
     "output_type": "stream",
     "text": [
      "|test      |\n"
     ]
    }
   ],
   "source": [
    "print('|%-10s|' % ('test'))"
   ]
  },
  {
   "cell_type": "markdown",
   "metadata": {},
   "source": [
    "## 2.4 字典"
   ]
  },
  {
   "cell_type": "code",
   "execution_count": null,
   "metadata": {
    "id": "Y2JY4lP9gSS3",
    "outputId": "43632a1b-d1f0-4739-d562-f4cc1f634540"
   },
   "outputs": [
    {
     "name": "stdout",
     "output_type": "stream",
     "text": [
      "Hodor Hodor!\n"
     ]
    }
   ],
   "source": [
    "data = {'first': 'Hodor', 'last': 'Hodor!'}\n",
    "print('%(first)s %(last)s' % data)"
   ]
  },
  {
   "cell_type": "code",
   "execution_count": null,
   "metadata": {
    "id": "xSbubDn4gSS4",
    "outputId": "b8808871-5d2c-4e79-e879-b59a67c828c6",
    "scrolled": true
   },
   "outputs": [
    {
     "name": "stdout",
     "output_type": "stream",
     "text": [
      "1 2\n"
     ]
    }
   ],
   "source": [
    "data = {'one': 1, 'two': 2}\n",
    "print('%(one)d %(two)d' % data)"
   ]
  },
  {
   "cell_type": "code",
   "execution_count": 62,
   "metadata": {},
   "outputs": [
    {
     "data": {
      "text/plain": [
       "'6 bananas cost $1.74'"
      ]
     },
     "execution_count": 62,
     "metadata": {},
     "output_type": "execute_result"
    }
   ],
   "source": [
    "d = {'quantity': 6, 'item': 'bananas', 'price': 1.74}\n",
    "'%(quantity)d %(item)s cost $%(price).2f' % d"
   ]
  },
  {
   "cell_type": "markdown",
   "metadata": {},
   "source": [
    "## 2.5 左右填滿"
   ]
  },
  {
   "cell_type": "code",
   "execution_count": 31,
   "metadata": {},
   "outputs": [
    {
     "name": "stdout",
     "output_type": "stream",
     "text": [
      "******abcde\n"
     ]
    }
   ],
   "source": [
    "s = '%.5s' % 'abcdefghijklmnopqrst'\n",
    "print(s.rjust(11, '*'))"
   ]
  },
  {
   "cell_type": "code",
   "execution_count": 32,
   "metadata": {},
   "outputs": [
    {
     "name": "stdout",
     "output_type": "stream",
     "text": [
      "abcde******\n"
     ]
    }
   ],
   "source": [
    "s = '%.5s' % 'abcdefghijklmnopqrst'\n",
    "print(s.ljust(11, '*'))"
   ]
  },
  {
   "cell_type": "code",
   "execution_count": 34,
   "metadata": {},
   "outputs": [
    {
     "name": "stdout",
     "output_type": "stream",
     "text": [
      "***abcde***\n"
     ]
    }
   ],
   "source": [
    "print(('%.5s' % 'abcdefghijklmnopqrst').center(11, '*'))"
   ]
  },
  {
   "cell_type": "markdown",
   "metadata": {},
   "source": [
    "## 2.6 動態格式"
   ]
  },
  {
   "cell_type": "code",
   "execution_count": 21,
   "metadata": {},
   "outputs": [
    {
     "name": "stdout",
     "output_type": "stream",
     "text": [
      "Gib = 2.718\n"
     ]
    }
   ],
   "source": [
    "print('%.*s = %.*f' % (3, 'Gibberish', 3, 2.7182)) #等價 print('%.3s = %.3f' % ('Gibberish', 2.7182))\n",
    "        #*s就是()中的3，*f就是()中的第二個3"
   ]
  },
  {
   "cell_type": "code",
   "execution_count": 8,
   "metadata": {},
   "outputs": [
    {
     "data": {
      "text/plain": [
       "'12.46%'"
      ]
     },
     "execution_count": 8,
     "metadata": {},
     "output_type": "execute_result"
    }
   ],
   "source": [
    "\"%.2f%%\"%(12.456)"
   ]
  },
  {
   "cell_type": "markdown",
   "metadata": {
    "id": "JFhU4CvtgSSo"
   },
   "source": [
    "# 3. 新式字串格式化(format)\n",
    "![](image\\新式字串格式化.png)\n",
    "### 說明：.format() 搭配 {} 符號進行輸出，{} 的位置會被後方 format 所帶的參數所取代，依據以下三種方式指定輸出。\n",
    "1. Order：不帶編號，依照順序輸出(預設)，即 print(\"...{}, ... , {}, ...\".format(值0, 值1))。\n",
    "2. Index：帶數字編號可指定位置，即 print(\"...{0}, ... , {1}, ...\".format(值0, 值1))。\n",
    "3. Name：指定名稱，即 print(\"...{a}, ... , {tom}, ...\".format(a = 值0, tom = 值1))。\n",
    "4. 物件對應，即 print(\"{person.name} {person.age}\".format(person=person))\n",
    "5. 串列索引, 即 print(\"{0[1]} {1[0]}\".format([0, 1], [2, 3]))"
   ]
  },
  {
   "cell_type": "markdown",
   "metadata": {
    "id": "2FL9FKKhgSSp"
   },
   "source": [
    "## 3.1 數值對應\n",
    "#### 依照順序輸出(預設)"
   ]
  },
  {
   "cell_type": "code",
   "execution_count": null,
   "metadata": {
    "id": "dDzoeMwVgSSp",
    "outputId": "542f2c12-38e0-4cc0-8724-c138bcb95fce"
   },
   "outputs": [
    {
     "name": "stdout",
     "output_type": "stream",
     "text": [
      "A B C\n"
     ]
    }
   ],
   "source": [
    "print(\"{} {} {}\".format(\"A\", \"B\", \"C\"))"
   ]
  },
  {
   "cell_type": "code",
   "execution_count": null,
   "metadata": {
    "id": "YzFF9faYgSSp",
    "outputId": "d4cb4e07-342b-4045-faa3-ea77f72dbb3e",
    "scrolled": true
   },
   "outputs": [
    {
     "name": "stdout",
     "output_type": "stream",
     "text": [
      "one two\n"
     ]
    }
   ],
   "source": [
    "print('{} {}'.format('one', 'two'))"
   ]
  },
  {
   "cell_type": "code",
   "execution_count": null,
   "metadata": {
    "id": "7kRIhX1lgSSp",
    "outputId": "34cb40d0-8c1b-404a-fa8c-042377d9a041",
    "scrolled": true
   },
   "outputs": [
    {
     "name": "stdout",
     "output_type": "stream",
     "text": [
      "1 2\n"
     ]
    }
   ],
   "source": [
    "print('{} {}'.format(1, 2))"
   ]
  },
  {
   "cell_type": "markdown",
   "metadata": {
    "id": "EHwaarwcgSSq"
   },
   "source": [
    "#### 數字指定位置(索引)"
   ]
  },
  {
   "cell_type": "code",
   "execution_count": null,
   "metadata": {
    "id": "RECH3yMKgSSr",
    "outputId": "9328dc7d-9b70-4b58-e0d2-99b4d47e189e"
   },
   "outputs": [
    {
     "name": "stdout",
     "output_type": "stream",
     "text": [
      "C A B\n"
     ]
    }
   ],
   "source": [
    "print(\"{2} {0} {1}\".format(\"A\", \"B\", \"C\"))"
   ]
  },
  {
   "cell_type": "code",
   "execution_count": null,
   "metadata": {
    "id": "FoiQZupzgSSr",
    "outputId": "32bb0ed2-f6f6-4580-f642-a63147b2a80f",
    "scrolled": true
   },
   "outputs": [
    {
     "name": "stdout",
     "output_type": "stream",
     "text": [
      "two one\n"
     ]
    }
   ],
   "source": [
    "print('{1} {0}'.format('one', 'two'))"
   ]
  },
  {
   "cell_type": "markdown",
   "metadata": {
    "id": "R4R8aKrpgSSs"
   },
   "source": [
    "#### 指定名稱"
   ]
  },
  {
   "cell_type": "code",
   "execution_count": null,
   "metadata": {
    "id": "S0EUlDp5gSSs",
    "outputId": "4b60e728-b358-4702-8550-d5a53154f0b7"
   },
   "outputs": [
    {
     "name": "stdout",
     "output_type": "stream",
     "text": [
      "A C B\n"
     ]
    }
   ],
   "source": [
    "print(\"{a} {c} {b}\".format(a=\"A\", b=\"B\", c=\"C\"))"
   ]
  },
  {
   "cell_type": "code",
   "execution_count": null,
   "metadata": {
    "id": "9WZNjAUqgSSs",
    "outputId": "c69dfbab-6f62-49cd-d1e4-4d4ca90e8d59",
    "scrolled": true
   },
   "outputs": [
    {
     "name": "stdout",
     "output_type": "stream",
     "text": [
      "1 2\n"
     ]
    }
   ],
   "source": [
    "print('{one} {two}'.format(one = 1, two = 2))"
   ]
  },
  {
   "cell_type": "markdown",
   "metadata": {},
   "source": [
    "#### 物件對應"
   ]
  },
  {
   "cell_type": "code",
   "execution_count": 77,
   "metadata": {},
   "outputs": [
    {
     "data": {
      "text/plain": [
       "'win32'"
      ]
     },
     "execution_count": 77,
     "metadata": {},
     "output_type": "execute_result"
    }
   ],
   "source": [
    "import sys\n",
    "'{pc.platform}'.format(pc = sys)"
   ]
  },
  {
   "cell_type": "code",
   "execution_count": 79,
   "metadata": {},
   "outputs": [
    {
     "name": "stdout",
     "output_type": "stream",
     "text": [
      "王 小明\n"
     ]
    }
   ],
   "source": [
    "print(\"{d[a]} {d[b]}\".format(d={'a':'王', 'b':'小明'}))"
   ]
  },
  {
   "cell_type": "markdown",
   "metadata": {},
   "source": [
    "#### 串列索引"
   ]
  },
  {
   "cell_type": "code",
   "execution_count": 75,
   "metadata": {},
   "outputs": [
    {
     "name": "stdout",
     "output_type": "stream",
     "text": [
      "20 60 110\n"
     ]
    }
   ],
   "source": [
    "print('{0[1]} {1[2]} {2[3]}'.format([10, 20, 30], [40, 50, 60, 70], [80, 90, 100, 110]))"
   ]
  },
  {
   "cell_type": "markdown",
   "metadata": {
    "id": "Zyrdm4iagSSt"
   },
   "source": [
    "## 3.2 數值格式化\n",
    "## 格式：\"**{order/index/name : 格式化符號(Type)}**\".format()\n",
    "\n",
    "|格式化符號|說明|\n",
    "|--|--|\n",
    "|d|整數|\n",
    "|f、F|浮點數|\n",
    "|g|浮點數，小數位數超過4位，使用科學記數法表示（小寫）|\n",
    "|G|浮點數，小數位數超過4位，使用科學記數法表示（大寫）|\n",
    "|e、E|科學記號，例如 1.020000e+01，大小寫就代表 \"e\" 顯示的大小寫|\n",
    "|b|二進位|\n",
    "|o|八進位|\n",
    "|x、X|十六進位，大小寫分別表示 A ~ F 要顯示的大小寫|\n",
    "|!s|字串輸出|\n",
    "|!r|repr()輸出|\n",
    "|!a|ascii()輸出|\n",
    "|% |以百分比的方式輸出|\n",
    " \n",
    "- [Format Specification Mini-Language](https://docs.python.org/3/library/string.html#format-specification-mini-language)\n",
    "- [Format String Syntax](https://docs.python.org/3/library/string.html#format-string-syntax)"
   ]
  },
  {
   "cell_type": "markdown",
   "metadata": {},
   "source": [
    "## 數值與字串格式化\n",
    "![](image\\數值格式化.png)"
   ]
  },
  {
   "cell_type": "code",
   "execution_count": null,
   "metadata": {
    "colab": {
     "base_uri": "https://localhost:8080/"
    },
    "executionInfo": {
     "elapsed": 69,
     "status": "ok",
     "timestamp": 1625452332693,
     "user": {
      "displayName": "Amin white",
      "photoUrl": "https://lh3.googleusercontent.com/a-/AOh14GgsR-nF0JgCvO80u-Ij8bzfz7skgB0N_yqwoq_sqw=s64",
      "userId": "00587061239019234363"
     },
     "user_tz": -480
    },
    "id": "8Qog6ieBgSSw",
    "outputId": "d6e5d997-da86-486d-9de8-f4a1b3e6c652"
   },
   "outputs": [],
   "source": [
    "print('|{:06.2f}|'.format(3.14159))"
   ]
  },
  {
   "cell_type": "code",
   "execution_count": 4,
   "metadata": {},
   "outputs": [
    {
     "name": "stdout",
     "output_type": "stream",
     "text": [
      "|123456789.32|\n"
     ]
    }
   ],
   "source": [
    "#當總長度小於實際資料長度，則格式化內的總長度設定無效，需以資料全部內容輸出\n",
    "print('|{:06.2f}|'.format(123456789.321654987))"
   ]
  },
  {
   "cell_type": "code",
   "execution_count": null,
   "metadata": {
    "colab": {
     "base_uri": "https://localhost:8080/"
    },
    "executionInfo": {
     "elapsed": 69,
     "status": "ok",
     "timestamp": 1625452332695,
     "user": {
      "displayName": "Amin white",
      "photoUrl": "https://lh3.googleusercontent.com/a-/AOh14GgsR-nF0JgCvO80u-Ij8bzfz7skgB0N_yqwoq_sqw=s64",
      "userId": "00587061239019234363"
     },
     "user_tz": -480
    },
    "id": "5IMooiPIgSSx",
    "outputId": "cfc3b8b7-feaf-4f7b-c31d-1e7e6aa62785"
   },
   "outputs": [
    {
     "name": "stdout",
     "output_type": "stream",
     "text": [
      "|3.141593|\n"
     ]
    }
   ],
   "source": [
    "print('|{:f}|'.format(3.141592653589793))"
   ]
  },
  {
   "cell_type": "code",
   "execution_count": null,
   "metadata": {
    "colab": {
     "base_uri": "https://localhost:8080/"
    },
    "executionInfo": {
     "elapsed": 71,
     "status": "ok",
     "timestamp": 1625452332671,
     "user": {
      "displayName": "Amin white",
      "photoUrl": "https://lh3.googleusercontent.com/a-/AOh14GgsR-nF0JgCvO80u-Ij8bzfz7skgB0N_yqwoq_sqw=s64",
      "userId": "00587061239019234363"
     },
     "user_tz": -480
    },
    "id": "i5Wr6wbUgSSu",
    "outputId": "082f7cf6-bda3-4987-f55f-4f0003443d7f",
    "scrolled": true
   },
   "outputs": [
    {
     "name": "stdout",
     "output_type": "stream",
     "text": [
      "|xylop|\n"
     ]
    }
   ],
   "source": [
    "print('|{:.5}|'.format('xylophone'))"
   ]
  },
  {
   "cell_type": "markdown",
   "metadata": {
    "id": "yeKObUZrgSSu"
   },
   "source": [
    "## 3.3 正負號選項僅對數字類型有效，有3種\n",
    "- \"+\" 正數前面添加正號\n",
    "- \"-\" 負數前面添加負號(預設)\n",
    "- 空格：正數前面需要添加一個空格，以便與負數對齊"
   ]
  },
  {
   "cell_type": "code",
   "execution_count": null,
   "metadata": {
    "colab": {
     "base_uri": "https://localhost:8080/"
    },
    "executionInfo": {
     "elapsed": 71,
     "status": "ok",
     "timestamp": 1625452332678,
     "user": {
      "displayName": "Amin white",
      "photoUrl": "https://lh3.googleusercontent.com/a-/AOh14GgsR-nF0JgCvO80u-Ij8bzfz7skgB0N_yqwoq_sqw=s64",
      "userId": "00587061239019234363"
     },
     "user_tz": -480
    },
    "id": "TaTzYEAcgSSv",
    "outputId": "533f19df-0c0a-4f94-bee9-e79c7fe277f2"
   },
   "outputs": [
    {
     "name": "stdout",
     "output_type": "stream",
     "text": [
      "|( 3), (-3)|\n"
     ]
    }
   ],
   "source": [
    "# 負數加負號，正數留空白\n",
    "print('|({: d}), ({: d})|'.format(3, -3))"
   ]
  },
  {
   "cell_type": "code",
   "execution_count": null,
   "metadata": {
    "colab": {
     "base_uri": "https://localhost:8080/"
    },
    "executionInfo": {
     "elapsed": 62,
     "status": "ok",
     "timestamp": 1625452332680,
     "user": {
      "displayName": "Amin white",
      "photoUrl": "https://lh3.googleusercontent.com/a-/AOh14GgsR-nF0JgCvO80u-Ij8bzfz7skgB0N_yqwoq_sqw=s64",
      "userId": "00587061239019234363"
     },
     "user_tz": -480
    },
    "id": "6nEKjzN2gSSv",
    "outputId": "3ed6c8c4-cafe-4168-fac8-724eb1f4780a"
   },
   "outputs": [
    {
     "name": "stdout",
     "output_type": "stream",
     "text": [
      "|+3.14|\n"
     ]
    }
   ],
   "source": [
    "print('|{:+4.2f}|'.format(3.14))"
   ]
  },
  {
   "cell_type": "code",
   "execution_count": 20,
   "metadata": {
    "colab": {
     "base_uri": "https://localhost:8080/"
    },
    "executionInfo": {
     "elapsed": 62,
     "status": "ok",
     "timestamp": 1625452332681,
     "user": {
      "displayName": "Amin white",
      "photoUrl": "https://lh3.googleusercontent.com/a-/AOh14GgsR-nF0JgCvO80u-Ij8bzfz7skgB0N_yqwoq_sqw=s64",
      "userId": "00587061239019234363"
     },
     "user_tz": -480
    },
    "id": "KXYQx14PgSSw",
    "outputId": "170b16ee-e35f-48f3-eb62-3ac560c5b34f"
   },
   "outputs": [
    {
     "name": "stdout",
     "output_type": "stream",
     "text": [
      "|-3.14|\n"
     ]
    }
   ],
   "source": [
    "print('|{:+4.2f}|'.format(-3.14))"
   ]
  },
  {
   "cell_type": "code",
   "execution_count": null,
   "metadata": {
    "colab": {
     "base_uri": "https://localhost:8080/"
    },
    "executionInfo": {
     "elapsed": 62,
     "status": "ok",
     "timestamp": 1625452332683,
     "user": {
      "displayName": "Amin white",
      "photoUrl": "https://lh3.googleusercontent.com/a-/AOh14GgsR-nF0JgCvO80u-Ij8bzfz7skgB0N_yqwoq_sqw=s64",
      "userId": "00587061239019234363"
     },
     "user_tz": -480
    },
    "id": "gW4b6vyagSSw",
    "outputId": "fb89c3b9-057f-459d-8725-b9b80f1ee01b"
   },
   "outputs": [
    {
     "name": "stdout",
     "output_type": "stream",
     "text": [
      "|+0.00|\n"
     ]
    }
   ],
   "source": [
    "print('|{:+4.2f}|'.format(0))"
   ]
  },
  {
   "cell_type": "code",
   "execution_count": null,
   "metadata": {
    "colab": {
     "base_uri": "https://localhost:8080/"
    },
    "executionInfo": {
     "elapsed": 63,
     "status": "ok",
     "timestamp": 1625452332685,
     "user": {
      "displayName": "Amin white",
      "photoUrl": "https://lh3.googleusercontent.com/a-/AOh14GgsR-nF0JgCvO80u-Ij8bzfz7skgB0N_yqwoq_sqw=s64",
      "userId": "00587061239019234363"
     },
     "user_tz": -480
    },
    "id": "Goxu-TY_gSSw",
    "outputId": "70f019f9-dff8-4c3f-c9ed-c0a472f3e933"
   },
   "outputs": [
    {
     "name": "stdout",
     "output_type": "stream",
     "text": [
      "|+0.00|\n"
     ]
    }
   ],
   "source": [
    "print('|{:+4.2f}|'.format(-0))"
   ]
  },
  {
   "cell_type": "markdown",
   "metadata": {},
   "source": [
    "## 3.4  '_' 同千位符號 ','\n",
    "- 非十進制，四個一組\n",
    "- 十進制，三個一組"
   ]
  },
  {
   "cell_type": "code",
   "execution_count": null,
   "metadata": {
    "colab": {
     "base_uri": "https://localhost:8080/"
    },
    "executionInfo": {
     "elapsed": 70,
     "status": "ok",
     "timestamp": 1625452332701,
     "user": {
      "displayName": "Amin white",
      "photoUrl": "https://lh3.googleusercontent.com/a-/AOh14GgsR-nF0JgCvO80u-Ij8bzfz7skgB0N_yqwoq_sqw=s64",
      "userId": "00587061239019234363"
     },
     "user_tz": -480
    },
    "id": "4zU2RBNygSSx",
    "outputId": "bfb6d502-e6d8-4801-f055-4d893bd0311e"
   },
   "outputs": [
    {
     "name": "stdout",
     "output_type": "stream",
     "text": [
      "1_0011_1011\n"
     ]
    }
   ],
   "source": [
    "#下底線 \"_\":每四位加一個 \"_\"\n",
    "print('{0:_b}'.format(0b100111011))"
   ]
  },
  {
   "cell_type": "code",
   "execution_count": 2,
   "metadata": {},
   "outputs": [
    {
     "name": "stdout",
     "output_type": "stream",
     "text": [
      "111_0101_1011_1100_1101_0001_0101\n"
     ]
    }
   ],
   "source": [
    "print('{0:_b}'.format(123456789))"
   ]
  },
  {
   "cell_type": "code",
   "execution_count": 2,
   "metadata": {},
   "outputs": [
    {
     "name": "stdout",
     "output_type": "stream",
     "text": [
      "7_2674_6425\n"
     ]
    }
   ],
   "source": [
    "print(\"{:_o}\".format(123456789))"
   ]
  },
  {
   "cell_type": "code",
   "execution_count": 3,
   "metadata": {},
   "outputs": [
    {
     "name": "stdout",
     "output_type": "stream",
     "text": [
      "75b_cd15\n"
     ]
    }
   ],
   "source": [
    "print(\"{:_x}\".format(123456789))"
   ]
  },
  {
   "cell_type": "code",
   "execution_count": 14,
   "metadata": {},
   "outputs": [
    {
     "name": "stdout",
     "output_type": "stream",
     "text": [
      "123_456_789.000\n"
     ]
    }
   ],
   "source": [
    "print(\"{:8_.3f}\".format(123456789))"
   ]
  },
  {
   "cell_type": "code",
   "execution_count": 11,
   "metadata": {},
   "outputs": [
    {
     "name": "stdout",
     "output_type": "stream",
     "text": [
      "123,456,789\n"
     ]
    }
   ],
   "source": [
    "print('{0:,}'.format(123456789))"
   ]
  },
  {
   "cell_type": "markdown",
   "metadata": {
    "id": "-ClnJthcgSSx"
   },
   "source": [
    "## 3.5 百分比表示\n",
    "- 方法1：直接使用小數即可"
   ]
  },
  {
   "cell_type": "code",
   "execution_count": 44,
   "metadata": {
    "colab": {
     "base_uri": "https://localhost:8080/"
    },
    "executionInfo": {
     "elapsed": 70,
     "status": "ok",
     "timestamp": 1625452332703,
     "user": {
      "displayName": "Amin white",
      "photoUrl": "https://lh3.googleusercontent.com/a-/AOh14GgsR-nF0JgCvO80u-Ij8bzfz7skgB0N_yqwoq_sqw=s64",
      "userId": "00587061239019234363"
     },
     "user_tz": -480
    },
    "id": "K3Rds90zgSSx",
    "outputId": "6c267565-60af-4d83-8e74-d9b59c478be8",
    "scrolled": false
   },
   "outputs": [
    {
     "name": "stdout",
     "output_type": "stream",
     "text": [
      "|  80.00%|\n"
     ]
    }
   ],
   "source": [
    "print(\"|{:8.2%}|\".format(0.8))"
   ]
  },
  {
   "cell_type": "code",
   "execution_count": 45,
   "metadata": {
    "colab": {
     "base_uri": "https://localhost:8080/"
    },
    "executionInfo": {
     "elapsed": 70,
     "status": "ok",
     "timestamp": 1625452332704,
     "user": {
      "displayName": "Amin white",
      "photoUrl": "https://lh3.googleusercontent.com/a-/AOh14GgsR-nF0JgCvO80u-Ij8bzfz7skgB0N_yqwoq_sqw=s64",
      "userId": "00587061239019234363"
     },
     "user_tz": -480
    },
    "id": "7xCZ4RDzgSSy",
    "outputId": "5c7e65da-700e-4cfe-e706-9b6dc6bf1e42"
   },
   "outputs": [
    {
     "name": "stdout",
     "output_type": "stream",
     "text": [
      "|     80%|\n"
     ]
    }
   ],
   "source": [
    "print(\"|{:8.0%}|\".format(0.8))"
   ]
  },
  {
   "cell_type": "markdown",
   "metadata": {
    "id": "qzzOyZgdgSSy"
   },
   "source": [
    "- 方法2：需要將數值乘上100"
   ]
  },
  {
   "cell_type": "code",
   "execution_count": 46,
   "metadata": {
    "colab": {
     "base_uri": "https://localhost:8080/"
    },
    "executionInfo": {
     "elapsed": 70,
     "status": "ok",
     "timestamp": 1625452332706,
     "user": {
      "displayName": "Amin white",
      "photoUrl": "https://lh3.googleusercontent.com/a-/AOh14GgsR-nF0JgCvO80u-Ij8bzfz7skgB0N_yqwoq_sqw=s64",
      "userId": "00587061239019234363"
     },
     "user_tz": -480
    },
    "id": "pLYyHKbugSSy",
    "outputId": "0c735ca4-e4eb-4210-aad8-61cdcc580b9a"
   },
   "outputs": [
    {
     "name": "stdout",
     "output_type": "stream",
     "text": [
      "|   80.00%|\n"
     ]
    }
   ],
   "source": [
    "print(\"|{:8.2f}%|\".format(0.8*100))"
   ]
  },
  {
   "cell_type": "code",
   "execution_count": 47,
   "metadata": {
    "colab": {
     "base_uri": "https://localhost:8080/"
    },
    "executionInfo": {
     "elapsed": 69,
     "status": "ok",
     "timestamp": 1625452332707,
     "user": {
      "displayName": "Amin white",
      "photoUrl": "https://lh3.googleusercontent.com/a-/AOh14GgsR-nF0JgCvO80u-Ij8bzfz7skgB0N_yqwoq_sqw=s64",
      "userId": "00587061239019234363"
     },
     "user_tz": -480
    },
    "id": "0wPjQWA5gSSy",
    "outputId": "bffb812b-da83-4ee1-e3a5-00532f6cd5c3"
   },
   "outputs": [
    {
     "name": "stdout",
     "output_type": "stream",
     "text": [
      "|      80%|\n"
     ]
    }
   ],
   "source": [
    "print(\"|{:8.0f}%|\".format(0.8*100))"
   ]
  },
  {
   "cell_type": "markdown",
   "metadata": {
    "id": "OtiGRntlgSSz"
   },
   "source": [
    "## 3.6 對齊\n",
    "|格式|說明|\n",
    "|--|--|\n",
    "|{:>8d}|整數靠右對齊，寬度為 8|\n",
    "|{:^8d}|整數置中對齊，寬度為 8|\n",
    "|{:<8d}|整數靠右對齊，寬度為 8|\n",
    "|{:8.3f}|小數點後保留 3 位，總寬度為 8 (含小數點)|\n",
    "|{:+8.3f}|小數點後保留 3 位，帶正負號，總寬度為 8 (含小數點及正負號)| \n",
    " \n",
    "- < （預設）左對齊、> 右對齊、^ 中間對齊、= （只用於數字）在小數點後進行補齊。\n",
    "- 注意：數值預設是靠右對齊，字串預設是靠左對齊。"
   ]
  },
  {
   "cell_type": "code",
   "execution_count": null,
   "metadata": {
    "colab": {
     "base_uri": "https://localhost:8080/"
    },
    "executionInfo": {
     "elapsed": 69,
     "status": "ok",
     "timestamp": 1625452332710,
     "user": {
      "displayName": "Amin white",
      "photoUrl": "https://lh3.googleusercontent.com/a-/AOh14GgsR-nF0JgCvO80u-Ij8bzfz7skgB0N_yqwoq_sqw=s64",
      "userId": "00587061239019234363"
     },
     "user_tz": -480
    },
    "id": "AMzVOgyegSSz",
    "outputId": "8fa22048-a1de-4a7c-eefb-2e7c0c181a1f"
   },
   "outputs": [
    {
     "name": "stdout",
     "output_type": "stream",
     "text": [
      "|     123||456     |\n"
     ]
    }
   ],
   "source": [
    "print(\"|{0:8d}||{1:<8d}|\".format(123, 456))"
   ]
  },
  {
   "cell_type": "code",
   "execution_count": null,
   "metadata": {
    "colab": {
     "base_uri": "https://localhost:8080/"
    },
    "executionInfo": {
     "elapsed": 68,
     "status": "ok",
     "timestamp": 1625452332711,
     "user": {
      "displayName": "Amin white",
      "photoUrl": "https://lh3.googleusercontent.com/a-/AOh14GgsR-nF0JgCvO80u-Ij8bzfz7skgB0N_yqwoq_sqw=s64",
      "userId": "00587061239019234363"
     },
     "user_tz": -480
    },
    "id": "s_T3GcVngSSz",
    "outputId": "58e4e56f-fb7a-40cb-adb4-8743012ebdfd"
   },
   "outputs": [
    {
     "name": "stdout",
     "output_type": "stream",
     "text": [
      "|   +4.32|\n"
     ]
    }
   ],
   "source": [
    "print(\"|{0:+8.2f}|\".format(4.32))"
   ]
  },
  {
   "cell_type": "code",
   "execution_count": null,
   "metadata": {
    "colab": {
     "base_uri": "https://localhost:8080/"
    },
    "executionInfo": {
     "elapsed": 66,
     "status": "ok",
     "timestamp": 1625452332712,
     "user": {
      "displayName": "Amin white",
      "photoUrl": "https://lh3.googleusercontent.com/a-/AOh14GgsR-nF0JgCvO80u-Ij8bzfz7skgB0N_yqwoq_sqw=s64",
      "userId": "00587061239019234363"
     },
     "user_tz": -480
    },
    "id": "CVQEwzRHgSSz",
    "outputId": "d42a47d3-13d3-4899-9ea9-075e631d4bf8"
   },
   "outputs": [
    {
     "name": "stdout",
     "output_type": "stream",
     "text": [
      "|      test|\n"
     ]
    }
   ],
   "source": [
    "print('|{:>10}|'.format('test'))"
   ]
  },
  {
   "cell_type": "code",
   "execution_count": null,
   "metadata": {
    "colab": {
     "base_uri": "https://localhost:8080/"
    },
    "executionInfo": {
     "elapsed": 65,
     "status": "ok",
     "timestamp": 1625452332713,
     "user": {
      "displayName": "Amin white",
      "photoUrl": "https://lh3.googleusercontent.com/a-/AOh14GgsR-nF0JgCvO80u-Ij8bzfz7skgB0N_yqwoq_sqw=s64",
      "userId": "00587061239019234363"
     },
     "user_tz": -480
    },
    "id": "frTRvHoCgSS0",
    "outputId": "5d74fa17-b75a-4e73-a98a-556078102fc2"
   },
   "outputs": [
    {
     "name": "stdout",
     "output_type": "stream",
     "text": [
      "|test      |\n"
     ]
    }
   ],
   "source": [
    "print('|{:10}|'.format('test'))"
   ]
  },
  {
   "cell_type": "code",
   "execution_count": null,
   "metadata": {
    "colab": {
     "base_uri": "https://localhost:8080/"
    },
    "executionInfo": {
     "elapsed": 64,
     "status": "ok",
     "timestamp": 1625452332714,
     "user": {
      "displayName": "Amin white",
      "photoUrl": "https://lh3.googleusercontent.com/a-/AOh14GgsR-nF0JgCvO80u-Ij8bzfz7skgB0N_yqwoq_sqw=s64",
      "userId": "00587061239019234363"
     },
     "user_tz": -480
    },
    "id": "nSjiNAP6gSS0",
    "outputId": "6dae7305-71df-4c55-dabc-6d7869f08d0e"
   },
   "outputs": [
    {
     "name": "stdout",
     "output_type": "stream",
     "text": [
      "|test      |\n"
     ]
    }
   ],
   "source": [
    "print('|{:<10}|'.format('test'))"
   ]
  },
  {
   "cell_type": "code",
   "execution_count": null,
   "metadata": {
    "colab": {
     "base_uri": "https://localhost:8080/"
    },
    "executionInfo": {
     "elapsed": 63,
     "status": "ok",
     "timestamp": 1625452332715,
     "user": {
      "displayName": "Amin white",
      "photoUrl": "https://lh3.googleusercontent.com/a-/AOh14GgsR-nF0JgCvO80u-Ij8bzfz7skgB0N_yqwoq_sqw=s64",
      "userId": "00587061239019234363"
     },
     "user_tz": -480
    },
    "id": "fEzj71iNgSS0",
    "outputId": "c1b0e823-c3bd-4fc6-88a6-8520266eaa77"
   },
   "outputs": [
    {
     "name": "stdout",
     "output_type": "stream",
     "text": [
      "|   test   |\n"
     ]
    }
   ],
   "source": [
    "print('|{:^10}|'.format('test'))"
   ]
  },
  {
   "cell_type": "code",
   "execution_count": null,
   "metadata": {
    "colab": {
     "base_uri": "https://localhost:8080/"
    },
    "executionInfo": {
     "elapsed": 63,
     "status": "ok",
     "timestamp": 1625452332716,
     "user": {
      "displayName": "Amin white",
      "photoUrl": "https://lh3.googleusercontent.com/a-/AOh14GgsR-nF0JgCvO80u-Ij8bzfz7skgB0N_yqwoq_sqw=s64",
      "userId": "00587061239019234363"
     },
     "user_tz": -480
    },
    "id": "vhqjrTXqgSS0",
    "outputId": "795339de-c215-4626-c134-5d23ef315093"
   },
   "outputs": [
    {
     "name": "stdout",
     "output_type": "stream",
     "text": [
      "1 2 3 4 5 6\n"
     ]
    }
   ],
   "source": [
    "print('{} {} {} {} {} {}'.format(*'123456')) "
   ]
  },
  {
   "cell_type": "code",
   "execution_count": 61,
   "metadata": {},
   "outputs": [
    {
     "data": {
      "text/plain": [
       "('1', '2', '3', '4', '5', '6')"
      ]
     },
     "execution_count": 61,
     "metadata": {},
     "output_type": "execute_result"
    }
   ],
   "source": [
    "tuple('123456')"
   ]
  },
  {
   "cell_type": "markdown",
   "metadata": {},
   "source": [
    "## 3.7 左右填滿"
   ]
  },
  {
   "cell_type": "code",
   "execution_count": 2,
   "metadata": {},
   "outputs": [
    {
     "name": "stdout",
     "output_type": "stream",
     "text": [
      "|******test|\n"
     ]
    }
   ],
   "source": [
    "print('|{:*>10}|'.format('test'))"
   ]
  },
  {
   "cell_type": "code",
   "execution_count": 4,
   "metadata": {},
   "outputs": [
    {
     "name": "stdout",
     "output_type": "stream",
     "text": [
      "|test******|\n"
     ]
    }
   ],
   "source": [
    "print('|{:*<10}|'.format('test'))"
   ]
  },
  {
   "cell_type": "code",
   "execution_count": 5,
   "metadata": {},
   "outputs": [
    {
     "name": "stdout",
     "output_type": "stream",
     "text": [
      "|***test***|\n"
     ]
    }
   ],
   "source": [
    "print('|{:*^10}|'.format('test'))"
   ]
  },
  {
   "cell_type": "markdown",
   "metadata": {
    "id": "Vdsq_ebfgSS1"
   },
   "source": [
    "## 3.8 動態格式"
   ]
  },
  {
   "cell_type": "code",
   "execution_count": null,
   "metadata": {
    "id": "ktsrj9pFgSS2",
    "outputId": "12761b13-c493-4118-a621-327a083be92b"
   },
   "outputs": [
    {
     "name": "stdout",
     "output_type": "stream",
     "text": [
      "Gib = 2.718\n"
     ]
    }
   ],
   "source": [
    "print('{:.{prec}} = {:.{prec}f}'.format('Gibberish', 2.7182, prec=3)) #等價 print('{:.3} = {:.3f}'.format('Gibberish', 2.7182))\n",
    "#先依據大括弧裡的名稱\\索引，再去執行"
   ]
  },
  {
   "cell_type": "code",
   "execution_count": 10,
   "metadata": {
    "id": "VjWWYfWbgSS2",
    "outputId": "ec4b9ab2-763f-4e4f-833b-368e65476944"
   },
   "outputs": [
    {
     "name": "stdout",
     "output_type": "stream",
     "text": [
      "Gib = 2.718\n"
     ]
    }
   ],
   "source": [
    "print('{0:.{2}} = {1:.{2}f}'.format('Gibberish', 2.7182, 3)) #等價 print('{0:.3} = {1:.3f}'.format('Gibberish', 2.7182))"
   ]
  },
  {
   "cell_type": "code",
   "execution_count": null,
   "metadata": {
    "id": "jJvRexrbgSS2",
    "outputId": "3ff3b920-f4da-4c4a-94a5-495c5e179b17"
   },
   "outputs": [
    {
     "name": "stdout",
     "output_type": "stream",
     "text": [
      "    1     \t　　　　2　　　　　    3     \n"
     ]
    }
   ],
   "source": [
    "#chr(12288)為UTF8的中文空格\n",
    "print(\"{0:^10}\\t{1:{3}^10}{2:^10}\".format(1, 2, 3, chr(12288))) #等價 print(\"{0:^10}\\t{1:　^10}{2:^10}\".format(1, 2, 3))"
   ]
  },
  {
   "cell_type": "markdown",
   "metadata": {},
   "source": [
    "## 3.9 格式化字串"
   ]
  },
  {
   "cell_type": "code",
   "execution_count": 48,
   "metadata": {},
   "outputs": [
    {
     "name": "stdout",
     "output_type": "stream",
     "text": [
      "|'xylophone'|\n"
     ]
    }
   ],
   "source": [
    "print('|{!a}|'.format('xylophone'))"
   ]
  },
  {
   "cell_type": "code",
   "execution_count": 4,
   "metadata": {
    "colab": {
     "base_uri": "https://localhost:8080/"
    },
    "executionInfo": {
     "elapsed": 70,
     "status": "ok",
     "timestamp": 1625452332696,
     "user": {
      "displayName": "Amin white",
      "photoUrl": "https://lh3.googleusercontent.com/a-/AOh14GgsR-nF0JgCvO80u-Ij8bzfz7skgB0N_yqwoq_sqw=s64",
      "userId": "00587061239019234363"
     },
     "user_tz": -480
    },
    "id": "ey9JaG0rgSSx",
    "outputId": "d776e17a-9663-435e-9703-dff059b396c1",
    "scrolled": true
   },
   "outputs": [
    {
     "name": "stdout",
     "output_type": "stream",
     "text": [
      "|123|\n"
     ]
    }
   ],
   "source": [
    "print('|{!r}|'.format(123))"
   ]
  },
  {
   "cell_type": "code",
   "execution_count": 41,
   "metadata": {},
   "outputs": [
    {
     "name": "stdout",
     "output_type": "stream",
     "text": [
      "{test}\n"
     ]
    }
   ],
   "source": [
    "print(\"{{{:}}}\".format('test'))"
   ]
  },
  {
   "cell_type": "code",
   "execution_count": 43,
   "metadata": {},
   "outputs": [
    {
     "name": "stdout",
     "output_type": "stream",
     "text": [
      "{test}\n"
     ]
    }
   ],
   "source": [
    "print(\"{{{!s}}}\".format('test'))"
   ]
  },
  {
   "cell_type": "code",
   "execution_count": 43,
   "metadata": {},
   "outputs": [
    {
     "name": "stdout",
     "output_type": "stream",
     "text": [
      "{'test'}\n"
     ]
    }
   ],
   "source": [
    "print(\"{{{!r}}}\".format('test'))"
   ]
  },
  {
   "cell_type": "code",
   "execution_count": 44,
   "metadata": {},
   "outputs": [
    {
     "name": "stdout",
     "output_type": "stream",
     "text": [
      "{'test'}\n"
     ]
    }
   ],
   "source": [
    "print(\"{{{!a}}}\".format('test'))"
   ]
  },
  {
   "cell_type": "markdown",
   "metadata": {
    "id": "3a2kLXcDgSS3"
   },
   "source": [
    "## 3.10 字典"
   ]
  },
  {
   "cell_type": "code",
   "execution_count": null,
   "metadata": {
    "id": "F5ZeWwHFgSS3",
    "outputId": "f28f0107-0a71-4300-afbf-790fd0d7341c"
   },
   "outputs": [
    {
     "name": "stdout",
     "output_type": "stream",
     "text": [
      "Hodor Hodor!\n"
     ]
    }
   ],
   "source": [
    "print('{first} {last}'.format(**data))"
   ]
  },
  {
   "cell_type": "code",
   "execution_count": null,
   "metadata": {
    "id": "vG59HahvgSS4",
    "outputId": "184f3625-d3ed-4c30-9bdc-b874ce918e6f"
   },
   "outputs": [
    {
     "name": "stdout",
     "output_type": "stream",
     "text": [
      "1 2\n"
     ]
    }
   ],
   "source": [
    "print('{one} {two}'.format(**data))"
   ]
  },
  {
   "cell_type": "code",
   "execution_count": null,
   "metadata": {
    "id": "ZUtcLWmygSS4",
    "outputId": "1fc08ab6-6755-4121-d21f-b63a2b011bd9"
   },
   "outputs": [
    {
     "name": "stdout",
     "output_type": "stream",
     "text": [
      "int: 42;  hex: 2a;  oct: 52;  bin: 101010\n"
     ]
    }
   ],
   "source": [
    "print(\"int: {0:d};  hex: {0:x};  oct: {0:o};  bin: {0:b}\".format(42))"
   ]
  },
  {
   "cell_type": "markdown",
   "metadata": {
    "id": "QMufjbENgSS4"
   },
   "source": [
    "## 3.11 日期輸出"
   ]
  },
  {
   "cell_type": "code",
   "execution_count": null,
   "metadata": {
    "id": "MgvAE-oLgSS5",
    "outputId": "f1731da5-8cc6-4ddd-8cc1-e3b400ccb9f0"
   },
   "outputs": [
    {
     "name": "stdout",
     "output_type": "stream",
     "text": [
      "2018-01-23 14:12:34 Tuesday\n"
     ]
    }
   ],
   "source": [
    "from datetime import datetime\n",
    "\n",
    "time = datetime(2018, 1, 23, 14, 12, 34, 123456)\n",
    "print (\"{:%Y-%m-%d %H:%M:%S %A}\".format(time))"
   ]
  },
  {
   "cell_type": "markdown",
   "metadata": {
    "id": "r_VctoBvgSS5"
   },
   "source": [
    "| 格式 | 說明 | \n",
    "| :--------: | -------- | \n",
    "| %y     | 兩位數的年份表示（00-99）| \n",
    "| %Y     | 四位數的年份表示（000-9999）| \n",
    "| %m    | 月份（01-12）| \n",
    "| %d     | 月內中的一天（0-31）| \n",
    "| %H     | 24小時制小時數（0-23）| \n",
    "| %I      | 12小時制小時數（01-12）| \n",
    "| %M    |分鐘數（00-59）| \n",
    "| %S     | 秒（00-59）| \n",
    "| %a     | 本地簡化星期名稱| \n",
    "| %A     | 本地完整星期名稱| \n",
    "| %b     | 本地簡化的月份名稱| \n",
    "| %B     | 本地完整的月份名稱| \n",
    "| %c     | 本地相應的日期表示和時間表示| "
   ]
  },
  {
   "cell_type": "markdown",
   "metadata": {
    "id": "Z-pQlbstgSS5"
   },
   "source": [
    "# 4.字串插值 f-string (python 3.6後支援)\n",
    "![](image\\f-string.png)\n",
    "\n",
    "## 4.1 f-string採用 {content:format} 設定字串格式"
   ]
  },
  {
   "cell_type": "code",
   "execution_count": null,
   "metadata": {
    "id": "OYyufeBDgSS6",
    "outputId": "fa6986c1-ee76-4a68-f949-7c488507f676"
   },
   "outputs": [
    {
     "data": {
      "text/plain": [
       "'The stock is 2330, name 台積電.'"
      ]
     },
     "execution_count": 9,
     "metadata": {
      "tags": []
     },
     "output_type": "execute_result"
    }
   ],
   "source": [
    "stock = {'id': '2330', 'name': '台積電'}\n",
    "f\"The stock is {stock['id']}, name {stock['name']}.\""
   ]
  },
  {
   "cell_type": "code",
   "execution_count": null,
   "metadata": {
    "id": "M15g8xcygSS7",
    "outputId": "287413f8-0c3c-4453-92b0-486b28c23095"
   },
   "outputs": [
    {
     "name": "stdout",
     "output_type": "stream",
     "text": [
      "The time now is 2020-02-28 22:21:48.658657.\n"
     ]
    }
   ],
   "source": [
    "import datetime\n",
    "print(f'The time now is {datetime.datetime.now()}.')"
   ]
  },
  {
   "cell_type": "markdown",
   "metadata": {},
   "source": [
    "## 4.2 單引號"
   ]
  },
  {
   "cell_type": "code",
   "execution_count": 11,
   "metadata": {},
   "outputs": [
    {
     "data": {
      "text/plain": [
       "'https://tw.stock.yahoo.com/q/q?s=2330'"
      ]
     },
     "execution_count": 11,
     "metadata": {},
     "output_type": "execute_result"
    }
   ],
   "source": [
    "stockid = 2330\n",
    "url = f\"https://tw.stock.yahoo.com/q/q?s={stockid}\"\n",
    "url"
   ]
  },
  {
   "cell_type": "markdown",
   "metadata": {},
   "source": [
    "## 4.3 雙引號"
   ]
  },
  {
   "cell_type": "code",
   "execution_count": 12,
   "metadata": {
    "id": "3O2IyPrwgSS5",
    "outputId": "7bc8f919-bfbc-42ba-8f46-e0b9ba486c41"
   },
   "outputs": [
    {
     "data": {
      "text/plain": [
       "'https://tw.stock.yahoo.com/q/q?s=2330'"
      ]
     },
     "execution_count": 12,
     "metadata": {},
     "output_type": "execute_result"
    }
   ],
   "source": [
    "stockid = 2330\n",
    "url = f'https://tw.stock.yahoo.com/q/q?s={stockid}'\n",
    "url"
   ]
  },
  {
   "cell_type": "markdown",
   "metadata": {},
   "source": [
    "## 4.4 計算"
   ]
  },
  {
   "cell_type": "code",
   "execution_count": null,
   "metadata": {
    "id": "CVD5XqMtgSS6",
    "outputId": "3835f1c9-b133-4da1-a8c8-3cf1f8b6076c"
   },
   "outputs": [
    {
     "name": "stdout",
     "output_type": "stream",
     "text": [
      "x + y = 37\n"
     ]
    }
   ],
   "source": [
    "x = 10\n",
    "y = 27\n",
    "\n",
    "print(f'x + y = {x + y}')"
   ]
  },
  {
   "cell_type": "markdown",
   "metadata": {},
   "source": [
    "## 4.5 依據型態"
   ]
  },
  {
   "cell_type": "code",
   "execution_count": 6,
   "metadata": {},
   "outputs": [
    {
     "name": "stdout",
     "output_type": "stream",
     "text": [
      "1234567890.098765\t1234567890.099\t1_234_567_890.098765\t"
     ]
    }
   ],
   "source": [
    "a = 1234567890.098765\n",
    "print(f'{a:f}', end = '\\t')\n",
    "print(f'{a:6.3f}', end = '\\t')\n",
    "print(f'{a:_f}', end = '\\t') #\"_\"十進制3個一組 非十進制4個一組"
   ]
  },
  {
   "cell_type": "markdown",
   "metadata": {},
   "source": [
    "## 4.6 類別"
   ]
  },
  {
   "cell_type": "code",
   "execution_count": 15,
   "metadata": {},
   "outputs": [],
   "source": [
    "class StudentGrades:\n",
    "    def __init__(self, first_name, last_name, subject, grades):\n",
    "        self.first_name = first_name\n",
    "        self.last_name = last_name\n",
    "        self.subject = subject\n",
    "        self.grades = grades\n",
    "\n",
    "    def __str__(self):\n",
    "        return f\"{self.first_name}{self.last_name} 的 {self.subject} 成績 {self.grades}.\"\n",
    "\n",
    "    def __repr__(self):\n",
    "        return f\"{self.first_name}{self.last_name} 的 {self.subject} 成績分數：{self.grades}.\""
   ]
  },
  {
   "cell_type": "code",
   "execution_count": 16,
   "metadata": {},
   "outputs": [
    {
     "data": {
      "text/plain": [
       "'王小明 的 數學 成績 87.'"
      ]
     },
     "execution_count": 16,
     "metadata": {},
     "output_type": "execute_result"
    }
   ],
   "source": [
    "new_student_grades = StudentGrades(\"王\", \"小明\", \"數學\", \"87\")\n",
    "f\"{new_student_grades}\""
   ]
  },
  {
   "cell_type": "code",
   "execution_count": 17,
   "metadata": {},
   "outputs": [
    {
     "data": {
      "text/plain": [
       "'王小明 的 數學 成績分數：87.'"
      ]
     },
     "execution_count": 17,
     "metadata": {},
     "output_type": "execute_result"
    }
   ],
   "source": [
    "f\"{new_student_grades!r}\""
   ]
  },
  {
   "cell_type": "markdown",
   "metadata": {},
   "source": [
    "## 4.7 執行速度\n",
    "- 舊式"
   ]
  },
  {
   "cell_type": "code",
   "execution_count": 54,
   "metadata": {},
   "outputs": [
    {
     "data": {
      "text/plain": [
       "0.00800922999951581"
      ]
     },
     "execution_count": 54,
     "metadata": {},
     "output_type": "execute_result"
    }
   ],
   "source": [
    "import timeit\n",
    "timeit.timeit(\"\"\"name = \"Eric\"\n",
    "age = 74\n",
    "'%s is %s.' % (name, age)\"\"\", number = 10000)"
   ]
  },
  {
   "cell_type": "markdown",
   "metadata": {},
   "source": [
    "- 新式"
   ]
  },
  {
   "cell_type": "code",
   "execution_count": 55,
   "metadata": {},
   "outputs": [
    {
     "data": {
      "text/plain": [
       "0.008351239001058275"
      ]
     },
     "execution_count": 55,
     "metadata": {},
     "output_type": "execute_result"
    }
   ],
   "source": [
    "timeit.timeit(\"\"\"name = \"Eric\"\n",
    "age = 74\n",
    "'{} is {}.'.format(name, age)\"\"\", number = 10000)"
   ]
  },
  {
   "cell_type": "markdown",
   "metadata": {},
   "source": [
    "- f-string"
   ]
  },
  {
   "cell_type": "code",
   "execution_count": 56,
   "metadata": {},
   "outputs": [
    {
     "data": {
      "text/plain": [
       "0.005418836999524501"
      ]
     },
     "execution_count": 56,
     "metadata": {},
     "output_type": "execute_result"
    }
   ],
   "source": [
    "timeit.timeit(\"\"\"name = \"Eric\"\n",
    "age = 74\n",
    "f'{name} is {age}.'\"\"\", number = 10000)"
   ]
  },
  {
   "cell_type": "markdown",
   "metadata": {},
   "source": [
    "## 4.8 字典"
   ]
  },
  {
   "cell_type": "code",
   "execution_count": 61,
   "metadata": {},
   "outputs": [
    {
     "data": {
      "text/plain": [
       "'王小明的 \"國文\" 成績 74'"
      ]
     },
     "execution_count": 61,
     "metadata": {},
     "output_type": "execute_result"
    }
   ],
   "source": [
    "comedian = {3 : '王', 5:'小明', 7:'國文', 9 : 74}\n",
    "f\"{comedian[1+2]}{comedian[8-3]}的 \\\"{comedian[15%8]}\\\" 成績 {comedian[81//9]}\""
   ]
  },
  {
   "cell_type": "markdown",
   "metadata": {},
   "source": [
    "## 4.9 f-string + {}"
   ]
  },
  {
   "cell_type": "code",
   "execution_count": 9,
   "metadata": {},
   "outputs": [
    {
     "name": "stdout",
     "output_type": "stream",
     "text": [
      "74\n"
     ]
    }
   ],
   "source": [
    "print(f'{70 + 4}')"
   ]
  },
  {
   "cell_type": "code",
   "execution_count": 10,
   "metadata": {},
   "outputs": [
    {
     "name": "stdout",
     "output_type": "stream",
     "text": [
      "{70 + 4}\n"
     ]
    }
   ],
   "source": [
    "print(f'{{70 + 4}}')"
   ]
  },
  {
   "cell_type": "code",
   "execution_count": 12,
   "metadata": {},
   "outputs": [
    {
     "name": "stdout",
     "output_type": "stream",
     "text": [
      "{{70 + 4}}\n"
     ]
    }
   ],
   "source": [
    "print(f'{{{{70 + 4}}}}')"
   ]
  },
  {
   "cell_type": "markdown",
   "metadata": {},
   "source": [
    "## 4.10 f-string + function "
   ]
  },
  {
   "cell_type": "code",
   "execution_count": 24,
   "metadata": {},
   "outputs": [
    {
     "name": "stdout",
     "output_type": "stream",
     "text": [
      "百分比  80.00%\n"
     ]
    }
   ],
   "source": [
    "def a(x):\n",
    "    return x**2/5\n",
    "\n",
    "print(f'百分比：{a(2): .2%}')"
   ]
  },
  {
   "cell_type": "code",
   "execution_count": 38,
   "metadata": {},
   "outputs": [
    {
     "name": "stdout",
     "output_type": "stream",
     "text": [
      "******6.43\n"
     ]
    }
   ],
   "source": [
    "a = lambda x: x * 9/7\n",
    "\n",
    "print(f'{a(5):*>10.2f}')"
   ]
  },
  {
   "cell_type": "markdown",
   "metadata": {},
   "source": [
    "## 4.11 f-string + lambda "
   ]
  },
  {
   "cell_type": "code",
   "execution_count": 7,
   "metadata": {},
   "outputs": [
    {
     "data": {
      "text/plain": [
       "'result is 5'"
      ]
     },
     "execution_count": 7,
     "metadata": {},
     "output_type": "execute_result"
    }
   ],
   "source": [
    "f'result is {(lambda x: x ** 2 + 1) (2)}'"
   ]
  },
  {
   "cell_type": "code",
   "execution_count": 8,
   "metadata": {},
   "outputs": [
    {
     "data": {
      "text/plain": [
       "'result is +5.00  '"
      ]
     },
     "execution_count": 8,
     "metadata": {},
     "output_type": "execute_result"
    }
   ],
   "source": [
    "f'result is {(lambda x: x ** 2 + 1) (2):<+7.2f}'"
   ]
  },
  {
   "cell_type": "markdown",
   "metadata": {},
   "source": [
    "## 4.12 左右填滿"
   ]
  },
  {
   "cell_type": "code",
   "execution_count": 11,
   "metadata": {},
   "outputs": [
    {
     "name": "stdout",
     "output_type": "stream",
     "text": [
      "|***test***|\n"
     ]
    }
   ],
   "source": [
    "print(f'|{\"test\":*^10}|')"
   ]
  },
  {
   "cell_type": "code",
   "execution_count": 13,
   "metadata": {},
   "outputs": [
    {
     "name": "stdout",
     "output_type": "stream",
     "text": [
      "|test******|\n"
     ]
    }
   ],
   "source": [
    "print(f'|{\"test\":*<10}|')"
   ]
  },
  {
   "cell_type": "code",
   "execution_count": 12,
   "metadata": {},
   "outputs": [
    {
     "name": "stdout",
     "output_type": "stream",
     "text": [
      "|******test|\n"
     ]
    }
   ],
   "source": [
    "print(f'|{\"test\":*>10}|')"
   ]
  },
  {
   "cell_type": "markdown",
   "metadata": {},
   "source": [
    "## 4.13 串列"
   ]
  },
  {
   "cell_type": "code",
   "execution_count": 41,
   "metadata": {},
   "outputs": [
    {
     "name": "stdout",
     "output_type": "stream",
     "text": [
      "[40, 50, 60, 70] [80, 90, 100, 110] \n"
     ]
    }
   ],
   "source": [
    "l = [[10, 20, 30], [40, 50, 60, 70], [80, 90, 100, 110]]\n",
    "print(f'{l[1]} {l[2]}')"
   ]
  },
  {
   "cell_type": "code",
   "execution_count": 42,
   "metadata": {},
   "outputs": [
    {
     "name": "stdout",
     "output_type": "stream",
     "text": [
      "60 90\n"
     ]
    }
   ],
   "source": [
    "l = [[10, 20, 30], [40, 50, 60, 70], [80, 90, 100, 110]]\n",
    "print(f'{l[1][2]} {l[2][1]}')"
   ]
  },
  {
   "cell_type": "markdown",
   "metadata": {
    "id": "yX0DS6HhgSS7"
   },
   "source": [
    "# 5.樣板字串"
   ]
  },
  {
   "cell_type": "code",
   "execution_count": null,
   "metadata": {
    "id": "UjzSzvgJgSS7",
    "outputId": "e56b7e18-f543-4543-e138-8e378ce1dd39"
   },
   "outputs": [
    {
     "data": {
      "text/plain": [
       "'hello, world'"
      ]
     },
     "execution_count": 3,
     "metadata": {
      "tags": []
     },
     "output_type": "execute_result"
    }
   ],
   "source": [
    "from string import Template\n",
    "\n",
    "text = 'world'\n",
    "t = Template('hello, $text')\n",
    "t.substitute(text=text)"
   ]
  },
  {
   "cell_type": "markdown",
   "metadata": {
    "collapsed": true,
    "id": "2eAO6zSRgSS7"
   },
   "source": [
    "<table width=\"900\">\n",
    "    <tr>\n",
    "        <td>\n",
    "            <font size=\"4\"><div style=\"text-align:left;\"><a href=\"資料型別.ipynb\" target=\"_blank\">上一章：資料型別</a></div></font>\n",
    "        </td>\n",
    "        <td>\n",
    "            <font size=\"4\"><div style=\"text-align:center;\"><a href=\"#\" target=\"_blank\">本章：字串格式化輸出</a></div></font>\n",
    "        </td>\n",
    "        <td>\n",
    "            <font size=\"4\"><div style=\"text-align:right;\"><a href=\"容器型別.ipynb\" target=\"_blank\">下一章：容器型別</a></div></font>\n",
    "        </td>\n",
    "    </tr>\n",
    "</table>"
   ]
  }
 ],
 "metadata": {
  "colab": {
   "name": "字串格式化輸出.ipynb",
   "provenance": []
  },
  "kernelspec": {
   "display_name": "Python 3 (ipykernel)",
   "language": "python",
   "name": "python3"
  },
  "language_info": {
   "codemirror_mode": {
    "name": "ipython",
    "version": 3
   },
   "file_extension": ".py",
   "mimetype": "text/x-python",
   "name": "python",
   "nbconvert_exporter": "python",
   "pygments_lexer": "ipython3",
   "version": "3.10.9"
  }
 },
 "nbformat": 4,
 "nbformat_minor": 1
}
