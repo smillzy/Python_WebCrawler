{
 "cells": [
  {
   "cell_type": "code",
   "execution_count": 1,
   "metadata": {},
   "outputs": [
    {
     "data": {
      "text/plain": [
       "'C:\\\\Users\\\\Lo yuan\\\\Desktop\\\\3.1'"
      ]
     },
     "execution_count": 1,
     "metadata": {},
     "output_type": "execute_result"
    }
   ],
   "source": [
    "import os\n",
    "os.getcwd()"
   ]
  },
  {
   "cell_type": "code",
   "execution_count": 4,
   "metadata": {},
   "outputs": [],
   "source": [
    "os.chdir('..\\\\')#往資料夾外跳一層= ..cd\n",
    "os.mkdir('123')"
   ]
  },
  {
   "cell_type": "markdown",
   "metadata": {},
   "source": [
    "# 查看python的site-packages路徑"
   ]
  },
  {
   "cell_type": "code",
   "execution_count": 1,
   "metadata": {},
   "outputs": [
    {
     "name": "stdout",
     "output_type": "stream",
     "text": [
      "C:\\ProgramData\\Anaconda3\\Lib\\site-packages\n"
     ]
    }
   ],
   "source": [
    "from distutils.sysconfig import get_python_lib\n",
    "\n",
    "print(get_python_lib())"
   ]
  },
  {
   "cell_type": "code",
   "execution_count": 2,
   "metadata": {},
   "outputs": [
    {
     "data": {
      "text/plain": [
       "['C:\\\\ProgramData\\\\Anaconda3',\n",
       " 'C:\\\\ProgramData\\\\Anaconda3\\\\lib\\\\site-packages']"
      ]
     },
     "execution_count": 2,
     "metadata": {},
     "output_type": "execute_result"
    }
   ],
   "source": [
    "import site\n",
    "site.getsitepackages()"
   ]
  },
  {
   "cell_type": "code",
   "execution_count": 3,
   "metadata": {},
   "outputs": [
    {
     "name": "stdout",
     "output_type": "stream",
     "text": [
      "Name: pandas\n",
      "Version: 1.2.5\n",
      "Summary: Powerful data structures for data analysis, time series, and statistics\n",
      "Home-page: https://pandas.pydata.org\n",
      "Author: None\n",
      "Author-email: None\n",
      "License: BSD\n",
      "Location: c:\\programdata\\anaconda3\\lib\\site-packages\n",
      "Requires: numpy, pytz, python-dateutil\n",
      "Required-by: yfinance, xarray, statsmodels, seaborn, researchpy, pingouin, pandas-flavor\n"
     ]
    }
   ],
   "source": [
    "!pip show pandas"
   ]
  },
  {
   "cell_type": "markdown",
   "metadata": {},
   "source": [
    "# import 會尋找的目錄"
   ]
  },
  {
   "cell_type": "code",
   "execution_count": 4,
   "metadata": {},
   "outputs": [
    {
     "data": {
      "text/plain": [
       "['',\n",
       " 'C:\\\\ProgramData\\\\Anaconda3\\\\python36.zip',\n",
       " 'C:\\\\ProgramData\\\\Anaconda3\\\\DLLs',\n",
       " 'C:\\\\ProgramData\\\\Anaconda3\\\\lib',\n",
       " 'C:\\\\ProgramData\\\\Anaconda3',\n",
       " 'C:\\\\ProgramData\\\\Anaconda3\\\\lib\\\\site-packages',\n",
       " 'C:\\\\ProgramData\\\\Anaconda3\\\\lib\\\\site-packages\\\\Babel-2.5.0-py3.6.egg',\n",
       " 'C:\\\\ProgramData\\\\Anaconda3\\\\lib\\\\site-packages\\\\win32',\n",
       " 'C:\\\\ProgramData\\\\Anaconda3\\\\lib\\\\site-packages\\\\win32\\\\lib',\n",
       " 'C:\\\\ProgramData\\\\Anaconda3\\\\lib\\\\site-packages\\\\Pythonwin',\n",
       " 'C:\\\\ProgramData\\\\Anaconda3\\\\lib\\\\site-packages\\\\IPython\\\\extensions',\n",
       " 'C:\\\\Users\\\\Amin\\\\.ipython']"
      ]
     },
     "execution_count": 4,
     "metadata": {},
     "output_type": "execute_result"
    }
   ],
   "source": [
    "import sys\n",
    "sys.path"
   ]
  },
  {
   "cell_type": "code",
   "execution_count": 4,
   "metadata": {},
   "outputs": [
    {
     "name": "stdout",
     "output_type": "stream",
     "text": [
      "sys.path = [\n",
      "    'E:\\\\Excel_teaching_materials\\\\110x Python大數據金融股票期貨網路爬蟲資料分析實務班\\\\3',\n",
      "    'C:\\\\ProgramData\\\\Anaconda3\\\\python37.zip',\n",
      "    'C:\\\\ProgramData\\\\Anaconda3\\\\DLLs',\n",
      "    'C:\\\\ProgramData\\\\Anaconda3\\\\lib',\n",
      "    'C:\\\\ProgramData\\\\Anaconda3',\n",
      "    'C:\\\\ProgramData\\\\Anaconda3\\\\lib\\\\site-packages',\n",
      "    'C:\\\\ProgramData\\\\Anaconda3\\\\lib\\\\site-packages\\\\locket-0.2.1-py3.7.egg',\n",
      "    'C:\\\\ProgramData\\\\Anaconda3\\\\lib\\\\site-packages\\\\win32',\n",
      "    'C:\\\\ProgramData\\\\Anaconda3\\\\lib\\\\site-packages\\\\win32\\\\lib',\n",
      "    'C:\\\\ProgramData\\\\Anaconda3\\\\lib\\\\site-packages\\\\Pythonwin',\n",
      "]\n",
      "USER_BASE: 'C:\\\\Users\\\\Amin\\\\AppData\\\\Roaming\\\\Python' (doesn't exist)\n",
      "USER_SITE: 'C:\\\\Users\\\\Amin\\\\AppData\\\\Roaming\\\\Python\\\\Python37\\\\site-packages' (doesn't exist)\n",
      "ENABLE_USER_SITE: True\n"
     ]
    }
   ],
   "source": [
    "!python -m site"
   ]
  },
  {
   "cell_type": "markdown",
   "metadata": {
    "colab_type": "text",
    "id": "dXgu-txAoJeg"
   },
   "source": [
    "# 檔案中的程式碼\n",
    "### ex_0.py\n",
    "```\n",
    "import math\n",
    "def squared_0(x, y):\n",
    "    return math.pow(x,y)\n",
    "```\n",
    "### ex_1.py\n",
    "```\n",
    "import math\n",
    "def exp_1(x):\n",
    "    return math.exp(x)        \n",
    "```\n",
    "### ex_1_1.py\n",
    "```\n",
    "def minus_1_1(x, y):\n",
    "    return x-y         \n",
    "```\n",
    "### ex_1_1_1.py\n",
    "```\n",
    "def add_1_1_1(x, y):\n",
    "    return x+y\n",
    "```\n",
    "### ex_2.py\n",
    "```   \n",
    "def Divided_2(x, y):\n",
    "    return x/y        \n",
    "```\n",
    "### ex_2_1.py\n",
    "``` \n",
    "def multiply_2_1(x, y):\n",
    "    return x*y  \n",
    "```"
   ]
  },
  {
   "cell_type": "code",
   "execution_count": 2,
   "metadata": {},
   "outputs": [
    {
     "name": "stdout",
     "output_type": "stream",
     "text": [
      " 磁碟區 C 中的磁碟是 Windows\n",
      " 磁碟區序號:  C6C0-1322\n",
      "\n",
      " C:\\Users\\Lo yuan\\Desktop\\3.1 的目錄\n",
      "\n",
      "2023/07/22  下午 01:46    <DIR>          .\n",
      "2023/07/22  下午 01:46    <DIR>          ..\n",
      "2023/07/22  下午 12:06    <DIR>          .ipynb_checkpoints\n",
      "2019/08/18  上午 02:34             3,130 flower.png\n",
      "2023/07/22  下午 12:04    <DIR>          main\n",
      "2023/07/22  下午 01:46            19,631 Python 套件.ipynb\n",
      "2023/07/22  上午 11:24           947,305 Python 套件介紹.pdf\n",
      "2022/09/26  上午 06:49           707,965 例外異常.pdf\n",
      "2023/07/15  下午 04:19            39,625 異常處理.ipynb\n",
      "2023/07/22  上午 11:01    <DIR>          檔案處理\n",
      "2023/07/22  上午 11:26            72,906 檔案處理.ipynb\n",
      "2021/06/26  上午 09:07           409,200 檔案處理.pdf\n",
      "2023/07/22  上午 11:25            80,844 檔案處理1.ipynb\n",
      "               8 個檔案       2,280,606 位元組\n",
      "               5 個目錄  159,866,544,128 位元組可用\n"
     ]
    }
   ],
   "source": [
    "%ls"
   ]
  },
  {
   "cell_type": "code",
   "execution_count": 3,
   "metadata": {
    "colab": {},
    "colab_type": "code",
    "id": "ydT5POJooJej"
   },
   "outputs": [
    {
     "name": "stdout",
     "output_type": "stream",
     "text": [
      "列出磁碟區 Windows 的資料夾 PATH\n",
      "磁碟區序號為 00000094 C6C0:1322\n",
      "C:\\USERS\\LO YUAN\\DESKTOP\\3.1\\MAIN\n",
      "│  ex0.py\n",
      "│  ex_0.py\n",
      "│  __init__.py\n",
      "│  \n",
      "├─sub_1\n",
      "│  │  ex_1.py\n",
      "│  │  ex_2.py\n",
      "│  │  ex_3.py\n",
      "│  │  __init__.py\n",
      "│  │  \n",
      "│  ├─sub_1_1\n",
      "│  │  │  ex_1_1.py\n",
      "│  │  │  __init__.py\n",
      "│  │  │  \n",
      "│  │  └─sub_1_1_1\n",
      "│  │          ex_1_1_1.py\n",
      "│  │          __init__.py\n",
      "│  │          \n",
      "│  └─__pycache__\n",
      "│          ex_3.cpython-311.pyc\n",
      "│          __init__.cpython-311.pyc\n",
      "│          \n",
      "├─sub_2\n",
      "│  │  ex_2.py\n",
      "│  │  __init__.py\n",
      "│  │  \n",
      "│  ├─sub_2_1\n",
      "│  │      ex_2_1.py\n",
      "│  │      __init__.py\n",
      "│  │      \n",
      "│  └─__pycache__\n",
      "│          ex_2.cpython-311.pyc\n",
      "│          __init__.cpython-311.pyc\n",
      "│          \n",
      "└─__pycache__\n",
      "        ex_0.cpython-311.pyc\n",
      "        __init__.cpython-311.pyc\n",
      "        \n"
     ]
    }
   ],
   "source": [
    "#以上檔案放置 C:\\ProgramData\\Anaconda3\\Lib\\site-packages\n",
    "!tree main /f"
   ]
  },
  {
   "cell_type": "markdown",
   "metadata": {
    "colab_type": "text",
    "id": "RxbBr9R8oJeo"
   },
   "source": [
    "# 引用main/ex_0.py中 squared_0 函數"
   ]
  },
  {
   "cell_type": "code",
   "execution_count": 4,
   "metadata": {},
   "outputs": [
    {
     "data": {
      "text/plain": [
       "<module 'main.ex_0' from 'C:\\\\Users\\\\Lo yuan\\\\Desktop\\\\3.1\\\\main\\\\ex_0.py'>"
      ]
     },
     "execution_count": 4,
     "metadata": {},
     "output_type": "execute_result"
    }
   ],
   "source": [
    "import main.ex_0 #指定檔案全數套入\n",
    "main.ex_0"
   ]
  },
  {
   "cell_type": "code",
   "execution_count": 9,
   "metadata": {
    "colab": {},
    "colab_type": "code",
    "id": "kCGaw8X2oJep"
   },
   "outputs": [
    {
     "data": {
      "text/plain": [
       "10000.0"
      ]
     },
     "execution_count": 9,
     "metadata": {},
     "output_type": "execute_result"
    }
   ],
   "source": [
    "import main.ex_0\n",
    "main.ex_0.squared_0(100, 2) #main.ex_0.squared_0絕對路徑的使用\n",
    "#等同於\n",
    "import main.ex_0 as ex0\n",
    "ex0.squared_0(100, 2)"
   ]
  },
  {
   "cell_type": "code",
   "execution_count": 6,
   "metadata": {
    "colab": {},
    "colab_type": "code",
    "id": "n9-WSuxNoJes"
   },
   "outputs": [
    {
     "data": {
      "text/plain": [
       "125.0"
      ]
     },
     "execution_count": 6,
     "metadata": {},
     "output_type": "execute_result"
    }
   ],
   "source": [
    "from main import ex_0 #指定檔案特定函數\n",
    "ex_0.squared_0(5, 3)"
   ]
  },
  {
   "cell_type": "code",
   "execution_count": 7,
   "metadata": {},
   "outputs": [
    {
     "data": {
      "text/plain": [
       "125.0"
      ]
     },
     "execution_count": 7,
     "metadata": {},
     "output_type": "execute_result"
    }
   ],
   "source": [
    "from main import * #*指定檔案內，所有函數全部載入\n",
    "ex_0.squared_0(5, 3)"
   ]
  },
  {
   "cell_type": "markdown",
   "metadata": {
    "colab_type": "text",
    "id": "zDnwG4ZroJew"
   },
   "source": [
    "# 引用main/sub_1/ex_1.py中的 exp_1 函數"
   ]
  },
  {
   "cell_type": "code",
   "execution_count": 10,
   "metadata": {
    "colab": {},
    "colab_type": "code",
    "id": "tVuXdrZsoJey"
   },
   "outputs": [
    {
     "data": {
      "text/plain": [
       "20.085536923187668"
      ]
     },
     "execution_count": 10,
     "metadata": {},
     "output_type": "execute_result"
    }
   ],
   "source": [
    "import main.sub_1.ex_1\n",
    "main.sub_1.ex_1.exp_1(3)"
   ]
  },
  {
   "cell_type": "code",
   "execution_count": 0,
   "metadata": {
    "colab": {},
    "colab_type": "code",
    "collapsed": true,
    "id": "TlhYCtncoJe1"
   },
   "outputs": [],
   "source": [
    "from main.sub_1 import ex_1\n",
    "ex_1.exp_1(3)"
   ]
  },
  {
   "cell_type": "markdown",
   "metadata": {
    "colab_type": "text",
    "id": "02-wqY2loJe5"
   },
   "source": [
    "# 引用main/sub_1/sub_1_1/ex_1_1.py中的 minus_1_1 函數"
   ]
  },
  {
   "cell_type": "code",
   "execution_count": 0,
   "metadata": {
    "colab": {},
    "colab_type": "code",
    "collapsed": true,
    "id": "XHaf1opUoJe6"
   },
   "outputs": [],
   "source": [
    "import main.sub_1.sub_1_1.ex_1_1\n",
    "main.sub_1.sub_1_1.ex_1_1.minus_1_1(3, 6)"
   ]
  },
  {
   "cell_type": "code",
   "execution_count": 0,
   "metadata": {
    "colab": {},
    "colab_type": "code",
    "collapsed": true,
    "id": "9nTP3CRxoJe-"
   },
   "outputs": [],
   "source": [
    "from main.sub_1.sub_1_1 import ex_1_1\n",
    "ex_1_1.minus_1_1(3, 6)"
   ]
  },
  {
   "cell_type": "markdown",
   "metadata": {
    "colab_type": "text",
    "collapsed": true,
    "id": "x2N2ouBeoJfB"
   },
   "source": [
    "# 引用main/sub_1/sub_1_1/sub_1_1_1/ex_1_1_1.py中的 add_1_1_1 函數"
   ]
  },
  {
   "cell_type": "code",
   "execution_count": 0,
   "metadata": {
    "colab": {},
    "colab_type": "code",
    "collapsed": true,
    "id": "0tSz6UsPoJfC"
   },
   "outputs": [],
   "source": [
    "import main.sub_1.sub_1_1.sub_1_1_1.ex_1_1_1\n",
    "main.sub_1.sub_1_1.sub_1_1_1.ex_1_1_1.add_1_1_1(3, 6)"
   ]
  },
  {
   "cell_type": "code",
   "execution_count": 0,
   "metadata": {
    "colab": {},
    "colab_type": "code",
    "collapsed": true,
    "id": "GH0suopcoJfG"
   },
   "outputs": [],
   "source": [
    "from main.sub_1.sub_1_1.sub_1_1_1 import ex_1_1_1\n",
    "ex_1_1_1.add_1_1_1(3, 6)"
   ]
  },
  {
   "cell_type": "markdown",
   "metadata": {
    "colab_type": "text",
    "collapsed": true,
    "id": "8na5h7DsoJfJ"
   },
   "source": [
    "# 引用main/sub_2/ex_2.py中的 Divided_2 函數"
   ]
  },
  {
   "cell_type": "code",
   "execution_count": 0,
   "metadata": {
    "colab": {},
    "colab_type": "code",
    "collapsed": true,
    "id": "99ZgKFCuoJfK"
   },
   "outputs": [],
   "source": [
    "import main.sub_2.ex_2\n",
    "main.sub_2.ex_2.Divided_2(3, 5)"
   ]
  },
  {
   "cell_type": "code",
   "execution_count": 0,
   "metadata": {
    "colab": {},
    "colab_type": "code",
    "collapsed": true,
    "id": "HDNCXP3OoJfN"
   },
   "outputs": [],
   "source": [
    "from main.sub_2 import ex_2\n",
    "ex_2.Divided_2(3, 5)"
   ]
  },
  {
   "cell_type": "markdown",
   "metadata": {
    "colab_type": "text",
    "id": "5rIvejxXoJfQ"
   },
   "source": [
    "# 引用main/sub_2/sub_2_1/ex_2_1.py中的 multiply_2_1 函數"
   ]
  },
  {
   "cell_type": "code",
   "execution_count": 0,
   "metadata": {
    "colab": {},
    "colab_type": "code",
    "collapsed": true,
    "id": "JbFkx5yxoJfR"
   },
   "outputs": [],
   "source": [
    "import main.sub_2.sub_2_1.ex_2_1\n",
    "main.sub_2.sub_2_1.ex_2_1.multiply_2_1(3, 6)"
   ]
  },
  {
   "cell_type": "code",
   "execution_count": 3,
   "metadata": {
    "colab": {},
    "colab_type": "code",
    "id": "z4jDoT2doJfU"
   },
   "outputs": [
    {
     "data": {
      "text/plain": [
       "18"
      ]
     },
     "execution_count": 3,
     "metadata": {},
     "output_type": "execute_result"
    }
   ],
   "source": [
    "from main.sub_2.sub_2_1 import ex_2_1\n",
    "ex_2_1.multiply_2_1(3, 6)"
   ]
  },
  {
   "cell_type": "markdown",
   "metadata": {},
   "source": [
    "### 添加路徑到系統"
   ]
  },
  {
   "cell_type": "code",
   "execution_count": 2,
   "metadata": {},
   "outputs": [
    {
     "data": {
      "text/plain": [
       "18"
      ]
     },
     "execution_count": 2,
     "metadata": {},
     "output_type": "execute_result"
    }
   ],
   "source": [
    "import sys\n",
    "sys.path.append(\"main\\sub_2\\sub_2_1\")\n",
    "import ex_2_1\n",
    "ex_2_1.multiply_2_1(3, 6)"
   ]
  },
  {
   "cell_type": "markdown",
   "metadata": {
    "colab_type": "text",
    "id": "Q_rOcTxUoJfY"
   },
   "source": [
    "# 套件引用方式"
   ]
  },
  {
   "cell_type": "code",
   "execution_count": 5,
   "metadata": {
    "colab": {},
    "colab_type": "code",
    "id": "5Zab4tynoJfZ"
   },
   "outputs": [],
   "source": [
    "import requests\n",
    "import pandas\n",
    "import csv #是模組\n",
    "import sys\n",
    "import lxml"
   ]
  },
  {
   "cell_type": "code",
   "execution_count": 0,
   "metadata": {
    "colab": {},
    "colab_type": "code",
    "collapsed": true,
    "id": "mOvBxexfoJfc"
   },
   "outputs": [],
   "source": [
    "import urllib.request\n",
    "import urllib.parse \n",
    "import matplotlib.pyplot as plt"
   ]
  },
  {
   "cell_type": "code",
   "execution_count": 0,
   "metadata": {
    "colab": {},
    "colab_type": "code",
    "collapsed": true,
    "id": "XXq4icb-oJff"
   },
   "outputs": [],
   "source": [
    "import pandas as pd\n",
    "import numpy as np\n",
    "import turtle as tu\n",
    "import seaborn as sns"
   ]
  },
  {
   "cell_type": "code",
   "execution_count": 0,
   "metadata": {
    "colab": {},
    "colab_type": "code",
    "collapsed": true,
    "id": "_JN3dGbcoJfi"
   },
   "outputs": [],
   "source": [
    "from pyquery import PyQuery as pq\n",
    "from bs4 import BeautifulSoup as bs\n",
    "from lxml import etree as et\n",
    "from datetime import datetime as dt\n",
    "from dateutil.relativedelta import relativedelta"
   ]
  },
  {
   "cell_type": "code",
   "execution_count": 0,
   "metadata": {
    "colab": {},
    "colab_type": "code",
    "collapsed": true,
    "id": "nPwNyQe1oJfl"
   },
   "outputs": [],
   "source": [
    "import requests\n",
    "import requests as rs\n",
    "\n",
    "#--------------------------------------\n",
    "from bs4 import BeautifulSoup as bs\n",
    "\n",
    "#--------------------------------------\n",
    "#以下宣告為等價\n",
    "import lxml.etree\n",
    "import lxml.etree as le\n",
    "from lxml import etree as le\n",
    "\n",
    "#--------------------------------------\n",
    "#以下宣告為等價\n",
    "from lxml import * #(不建議使用這樣宣告)\n",
    "import lxml"
   ]
  },
  {
   "cell_type": "code",
   "execution_count": null,
   "metadata": {},
   "outputs": [],
   "source": []
  }
 ],
 "metadata": {
  "colab": {
   "name": "套件引用.ipynb",
   "provenance": []
  },
  "kernelspec": {
   "display_name": "Python 3 (ipykernel)",
   "language": "python",
   "name": "python3"
  },
  "language_info": {
   "codemirror_mode": {
    "name": "ipython",
    "version": 3
   },
   "file_extension": ".py",
   "mimetype": "text/x-python",
   "name": "python",
   "nbconvert_exporter": "python",
   "pygments_lexer": "ipython3",
   "version": "3.10.9"
  }
 },
 "nbformat": 4,
 "nbformat_minor": 1
}
