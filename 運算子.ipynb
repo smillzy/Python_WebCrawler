{
 "cells": [
  {
   "cell_type": "code",
   "execution_count": 8,
   "metadata": {},
   "outputs": [
    {
     "data": {
      "text/plain": [
       "-3"
      ]
     },
     "execution_count": 8,
     "metadata": {},
     "output_type": "execute_result"
    }
   ],
   "source": [
    "~2"
   ]
  },
  {
   "cell_type": "code",
   "execution_count": 3,
   "metadata": {},
   "outputs": [
    {
     "data": {
      "text/plain": [
       "1"
      ]
     },
     "execution_count": 3,
     "metadata": {},
     "output_type": "execute_result"
    }
   ],
   "source": [
    "5>>2"
   ]
  },
  {
   "cell_type": "code",
   "execution_count": 6,
   "metadata": {},
   "outputs": [
    {
     "data": {
      "text/plain": [
       "'101'"
      ]
     },
     "execution_count": 6,
     "metadata": {},
     "output_type": "execute_result"
    }
   ],
   "source": [
    "'{:b}'.format(5)"
   ]
  },
  {
   "cell_type": "code",
   "execution_count": 2,
   "metadata": {},
   "outputs": [
    {
     "data": {
      "text/plain": [
       "9"
      ]
     },
     "execution_count": 2,
     "metadata": {},
     "output_type": "execute_result"
    }
   ],
   "source": [
    "i=3\n",
    "i **=2 #次方\n",
    "i"
   ]
  },
  {
   "cell_type": "markdown",
   "metadata": {
    "id": "sPjcO9-KVEMW"
   },
   "source": [
    "# ![image.png](attachment:image.png)\n",
    "# ![](image\\optionseq.png)\n",
    "# [參考來源：Operator precedence](https://docs.python.org/3.7/reference/expressions.html)"
   ]
  },
  {
   "cell_type": "code",
   "execution_count": null,
   "metadata": {
    "id": "CIM85N75VEMd",
    "outputId": "e23dbd94-d1e2-43e2-eb50-da84e167c041"
   },
   "outputs": [
    {
     "data": {
      "text/plain": [
       "14"
      ]
     },
     "execution_count": 1,
     "metadata": {
      "tags": []
     },
     "output_type": "execute_result"
    }
   ],
   "source": [
    "16 - 2 * 5 // 3 + 1"
   ]
  },
  {
   "cell_type": "code",
   "execution_count": null,
   "metadata": {
    "id": "lwJSQ3lDVEMh",
    "outputId": "301a17f3-d7d8-4bac-c887-8e1d566cf5bf"
   },
   "outputs": [
    {
     "data": {
      "text/plain": [
       "True"
      ]
     },
     "execution_count": 2,
     "metadata": {
      "tags": []
     },
     "output_type": "execute_result"
    }
   ],
   "source": [
    "2 == 2 or 3 <= 2"
   ]
  },
  {
   "cell_type": "code",
   "execution_count": null,
   "metadata": {
    "id": "Xsgb9ACEVEMj",
    "outputId": "b97e7484-8ab7-497e-f82f-adc9e661faeb"
   },
   "outputs": [
    {
     "data": {
      "text/plain": [
       "9"
      ]
     },
     "execution_count": 3,
     "metadata": {
      "tags": []
     },
     "output_type": "execute_result"
    }
   ],
   "source": [
    "(1 + 2) * 3"
   ]
  },
  {
   "cell_type": "code",
   "execution_count": null,
   "metadata": {
    "id": "afKRnX2QVEMl",
    "outputId": "74b0a6d9-1439-4ec5-8ea9-1decb536ee70"
   },
   "outputs": [
    {
     "name": "stdout",
     "output_type": "stream",
     "text": [
      "No\n"
     ]
    }
   ],
   "source": [
    "x = 4\n",
    "y = 2\n",
    "if not 1 + 1 == y or x == 4 and 7 == 8:\n",
    "    print(\"Yes\")\n",
    "elif x > y:\n",
    "    print(\"No\")"
   ]
  },
  {
   "cell_type": "markdown",
   "metadata": {
    "id": "aulNR0b8MqHN"
   },
   "source": [
    "+ 使用 and 運算，如果全部都是 True，回傳最右邊 True 的值，否則回傳第一個 False 的值。\n",
    "+ 使用 or 運算，如果全為 False，回傳最右邊 False 的值，否則回傳第一個 True 的值。\n",
    "+ 元素除了 0、空 ( 空字串、空列表...等 )、None 和 False，其他在判斷式裡，全都是 True。\n",
    "+ 越左方 ( 越前方 ) 會越先判斷，逐步往右邊判斷。\n",
    "+ 除了從左向右判斷，同時使用多個 and、or 或 not，會先判斷 not，再判斷 and，最後再判斷 or。"
   ]
  },
  {
   "cell_type": "markdown",
   "metadata": {
    "id": "BR04FiQtL1nc"
   },
   "source": [
    "全部都 True，回傳最右邊的值，and右or左"
   ]
  },
  {
   "cell_type": "code",
   "execution_count": 2,
   "metadata": {
    "colab": {
     "base_uri": "https://localhost:8080/"
    },
    "executionInfo": {
     "elapsed": 348,
     "status": "ok",
     "timestamp": 1663145324263,
     "user": {
      "displayName": "廖敏宏",
      "userId": "00587061239019234363"
     },
     "user_tz": -480
    },
    "id": "jvtV3b5nL1QE",
    "outputId": "4fd96ab1-7002-40cc-9f60-69e852bc3c26"
   },
   "outputs": [
    {
     "data": {
      "text/plain": [
       "2"
      ]
     },
     "execution_count": 2,
     "metadata": {},
     "output_type": "execute_result"
    }
   ],
   "source": [
    "6 and 7 and 2"
   ]
  },
  {
   "cell_type": "markdown",
   "metadata": {
    "id": "QA3GQpMaLp1t"
   },
   "source": [
    "全部都 True，回傳第一個值"
   ]
  },
  {
   "cell_type": "code",
   "execution_count": 1,
   "metadata": {
    "colab": {
     "base_uri": "https://localhost:8080/"
    },
    "executionInfo": {
     "elapsed": 10,
     "status": "ok",
     "timestamp": 1663144666942,
     "user": {
      "displayName": "廖敏宏",
      "userId": "00587061239019234363"
     },
     "user_tz": -480
    },
    "id": "e9zFPelbJRPn",
    "outputId": "a74b73c9-876e-431a-81d7-915317c357ce"
   },
   "outputs": [
    {
     "data": {
      "text/plain": [
       "6"
      ]
     },
     "execution_count": 1,
     "metadata": {},
     "output_type": "execute_result"
    }
   ],
   "source": [
    "6 or 7 or 2"
   ]
  },
  {
   "cell_type": "markdown",
   "metadata": {
    "id": "qpfjVcSdMCes"
   },
   "source": [
    "由左而右判斷"
   ]
  },
  {
   "cell_type": "code",
   "execution_count": 3,
   "metadata": {
    "colab": {
     "base_uri": "https://localhost:8080/"
    },
    "executionInfo": {
     "elapsed": 287,
     "status": "ok",
     "timestamp": 1663145383024,
     "user": {
      "displayName": "廖敏宏",
      "userId": "00587061239019234363"
     },
     "user_tz": -480
    },
    "id": "20MXJVXKMCLc",
    "outputId": "9dea6479-4ca5-477e-f96d-bc03b5d361fc"
   },
   "outputs": [
    {
     "data": {
      "text/plain": [
       "7"
      ]
     },
     "execution_count": 3,
     "metadata": {},
     "output_type": "execute_result"
    }
   ],
   "source": [
    "6 and 7 or 2"
   ]
  },
  {
   "cell_type": "code",
   "execution_count": null,
   "metadata": {
    "id": "BXdNY5IeJRPp",
    "outputId": "48861433-94b7-4307-81b1-67788aee7081"
   },
   "outputs": [
    {
     "data": {
      "text/plain": [
       "6"
      ]
     },
     "execution_count": 156,
     "metadata": {},
     "output_type": "execute_result"
    }
   ],
   "source": [
    "6 or 7 | 2 # -> (6 or 7) | 2"
   ]
  },
  {
   "cell_type": "code",
   "execution_count": null,
   "metadata": {
    "id": "-hv9stunJRPr",
    "outputId": "29653621-de4e-4bec-fe09-833f71125fe5"
   },
   "outputs": [
    {
     "data": {
      "text/plain": [
       "6"
      ]
     },
     "execution_count": 161,
     "metadata": {},
     "output_type": "execute_result"
    }
   ],
   "source": [
    "6 & 7 or 2"
   ]
  },
  {
   "cell_type": "code",
   "execution_count": null,
   "metadata": {
    "id": "-Jcx9bpoJRPs",
    "outputId": "4ff35240-a780-4ee0-ba7e-9b65a441faa8"
   },
   "outputs": [
    {
     "data": {
      "text/plain": [
       "7"
      ]
     },
     "execution_count": 163,
     "metadata": {},
     "output_type": "execute_result"
    }
   ],
   "source": [
    "6 | 7 | 2"
   ]
  },
  {
   "cell_type": "code",
   "execution_count": null,
   "metadata": {
    "id": "NgJkwOWVJRPt",
    "outputId": "e18308ea-320d-4082-c8eb-c62f877de458"
   },
   "outputs": [
    {
     "data": {
      "text/plain": [
       "7"
      ]
     },
     "execution_count": 158,
     "metadata": {},
     "output_type": "execute_result"
    }
   ],
   "source": [
    "6 and 7 | 2 # -> (6 and 7) | 2"
   ]
  },
  {
   "cell_type": "code",
   "execution_count": null,
   "metadata": {
    "id": "SVlPTLXeJRPv",
    "outputId": "38923267-8f6d-4a7a-e277-a47bac873b16"
   },
   "outputs": [
    {
     "data": {
      "text/plain": [
       "7"
      ]
     },
     "execution_count": 145,
     "metadata": {},
     "output_type": "execute_result"
    }
   ],
   "source": [
    "6 | 7 or 2"
   ]
  },
  {
   "cell_type": "markdown",
   "metadata": {
    "id": "r7s-edg0VEMm"
   },
   "source": [
    "# 1 邏輯運算子"
   ]
  },
  {
   "cell_type": "markdown",
   "metadata": {
    "id": "26Dwil-4VEMn"
   },
   "source": [
    "## 1.1 和\n",
    "### 真值表\n",
    "|a|b| a and b|\n",
    "|:--:|:--:|:--:|\n",
    "|0|0|0|\n",
    "|0|1|0|\n",
    "|1|0|0|\n",
    "|1|1|1|"
   ]
  },
  {
   "cell_type": "code",
   "execution_count": null,
   "metadata": {
    "id": "EefwOWjLJRPx",
    "outputId": "c257e60b-a5c2-4984-fbc4-942759771c89"
   },
   "outputs": [
    {
     "name": "stdout",
     "output_type": "stream",
     "text": [
      "0 and 0 => 0\n",
      "0 and 1 => 0\n",
      "1 and 0 => 0\n",
      "1 and 1 => 1\n"
     ]
    }
   ],
   "source": [
    "print(\"0 and 0 =>\", 0 and 0)\n",
    "print(\"0 and 1 =>\", 0 and 1)\n",
    "print(\"1 and 0 =>\", 1 and 0)\n",
    "print(\"1 and 1 =>\", 1 and 1)"
   ]
  },
  {
   "cell_type": "code",
   "execution_count": null,
   "metadata": {
    "id": "zcLwl62mVEMp",
    "outputId": "f092304e-57bc-4ced-d195-d351b2379793"
   },
   "outputs": [
    {
     "data": {
      "text/plain": [
       "False"
      ]
     },
     "execution_count": 8,
     "metadata": {
      "tags": []
     },
     "output_type": "execute_result"
    }
   ],
   "source": [
    "1 > 2 and 3 < 4"
   ]
  },
  {
   "cell_type": "markdown",
   "metadata": {
    "id": "-pY4xoW7VEMq"
   },
   "source": [
    "## 1.2 或\n",
    "### 真值表\n",
    "|a|b| a or b|\n",
    "|:--:|:--:|:--:|\n",
    "|0|0|0|\n",
    "|0|1|1|\n",
    "|1|0|1|\n",
    "|1|1|1|"
   ]
  },
  {
   "cell_type": "code",
   "execution_count": null,
   "metadata": {
    "id": "s8niNZKhJRPz",
    "outputId": "e43f0efd-5140-4691-91f4-da81647acdfc"
   },
   "outputs": [
    {
     "name": "stdout",
     "output_type": "stream",
     "text": [
      "0 or 0 => 0\n",
      "0 or 1 => 1\n",
      "1 or 0 => 1\n",
      "1 or 1 => 1\n"
     ]
    }
   ],
   "source": [
    "print(\"0 or 0 =>\", 0 or 0)\n",
    "print(\"0 or 1 =>\", 0 or 1)\n",
    "print(\"1 or 0 =>\", 1 or 0)\n",
    "print(\"1 or 1 =>\", 1 or 1)"
   ]
  },
  {
   "cell_type": "code",
   "execution_count": null,
   "metadata": {
    "id": "YTmGfbplVEMs",
    "outputId": "cfd8d6e9-eea5-4bfd-cdfd-e5bfc2888f98"
   },
   "outputs": [
    {
     "data": {
      "text/plain": [
       "True"
      ]
     },
     "execution_count": 9,
     "metadata": {
      "tags": []
     },
     "output_type": "execute_result"
    }
   ],
   "source": [
    "1 > 2 or 3 < 4"
   ]
  },
  {
   "cell_type": "markdown",
   "metadata": {
    "id": "G6G81onCVEMt"
   },
   "source": [
    "## 1.3 反向\n",
    "### 真值表\n",
    "|a| ~a|\n",
    "|:--:|:--:|\n",
    "|0|1|\n",
    "|1|0|"
   ]
  },
  {
   "cell_type": "code",
   "execution_count": null,
   "metadata": {
    "id": "_iKc7f2bJRP0",
    "outputId": "c41b9997-62a9-4866-b21b-0278b84f3339"
   },
   "outputs": [
    {
     "name": "stdout",
     "output_type": "stream",
     "text": [
      "not 0 => True\n",
      "not 1 => False\n"
     ]
    }
   ],
   "source": [
    "print(\"not 0 =>\", not 0)   \n",
    "print(\"not 1 =>\", not 1)"
   ]
  },
  {
   "cell_type": "code",
   "execution_count": null,
   "metadata": {
    "id": "XXulQ1PVVEMt",
    "outputId": "43f2f6bd-1dc5-4796-bcc6-0619c4c6f2e9"
   },
   "outputs": [
    {
     "data": {
      "text/plain": [
       "False"
      ]
     },
     "execution_count": 10,
     "metadata": {
      "tags": []
     },
     "output_type": "execute_result"
    }
   ],
   "source": [
    "not 3 < 4"
   ]
  },
  {
   "cell_type": "markdown",
   "metadata": {
    "id": "vHYInMpMVEMu"
   },
   "source": [
    "# 2 成員運算子"
   ]
  },
  {
   "cell_type": "code",
   "execution_count": null,
   "metadata": {
    "id": "e5wjkjHUVEMv",
    "outputId": "f74c49a1-f67a-4d90-c356-60cc2c391e29"
   },
   "outputs": [
    {
     "name": "stdout",
     "output_type": "stream",
     "text": [
      "True False\n"
     ]
    }
   ],
   "source": [
    "a = 1\n",
    "b = 10\n",
    "c = [1,2,3,4,5,6,7]\n",
    "print(a in c, b in c)"
   ]
  },
  {
   "cell_type": "markdown",
   "metadata": {
    "id": "0MX4f8FDVEMw"
   },
   "source": [
    "# 3 身份運算子"
   ]
  },
  {
   "cell_type": "code",
   "execution_count": null,
   "metadata": {
    "id": "qJdE085zVEMx",
    "outputId": "89369d31-30b3-4ad0-f617-14da500a5241"
   },
   "outputs": [
    {
     "name": "stdout",
     "output_type": "stream",
     "text": [
      "2013043952 2013043952 True\n"
     ]
    }
   ],
   "source": [
    "a = 2\n",
    "b = 7 - 5\n",
    "print(id(a), id(b), a is b)"
   ]
  },
  {
   "cell_type": "markdown",
   "metadata": {
    "id": "DfTfZT45VEMy"
   },
   "source": [
    "# 4 位元運算子 (用在計算上)"
   ]
  },
  {
   "cell_type": "markdown",
   "metadata": {
    "id": "BN_s69kCVEMy"
   },
   "source": [
    "##  4.1 和真值表 a & b = a * b\n",
    "### 真值表\n",
    "|a|b| a and b|\n",
    "|:--:|:--:|:--:|\n",
    "|0|0|0|\n",
    "|0|1|0|\n",
    "|1|0|0|\n",
    "|1|1|1|"
   ]
  },
  {
   "cell_type": "code",
   "execution_count": null,
   "metadata": {
    "id": "n9DHBcQSJRP4",
    "outputId": "7edf3a05-da13-46bc-d005-c3440a888d1f"
   },
   "outputs": [
    {
     "name": "stdout",
     "output_type": "stream",
     "text": [
      "0 & 0 => 0\n",
      "0 & 1 => 0\n",
      "1 & 0 => 0\n",
      "1 & 1 => 1\n"
     ]
    }
   ],
   "source": [
    "print(\"0 & 0 =>\", 0 & 0)\n",
    "print(\"0 & 1 =>\", 0 & 1)\n",
    "print(\"1 & 0 =>\", 1 & 0)\n",
    "print(\"1 & 1 =>\", 1 & 1)"
   ]
  },
  {
   "cell_type": "code",
   "execution_count": null,
   "metadata": {
    "id": "-QCwruuXVEMy",
    "outputId": "d1834718-684d-4f25-e505-7040786d8f6c"
   },
   "outputs": [
    {
     "name": "stdout",
     "output_type": "stream",
     "text": [
      "0b1111 & 0b1101 = 0b1101\n"
     ]
    }
   ],
   "source": [
    "a = 15\n",
    "b = 13\n",
    "print(bin(a), \"&\", bin(b), \"=\", bin(a & b))"
   ]
  },
  {
   "cell_type": "markdown",
   "metadata": {
    "id": "y0mN3VjRVEMz"
   },
   "source": [
    "##  4.2 或真值表 a | b = a + b\n",
    "### 真值表\n",
    "|a|b| a or b|\n",
    "|:--:|:--:|:--:|\n",
    "|0|0|0|\n",
    "|0|1|1|\n",
    "|1|0|1|\n",
    "|1|1|1|"
   ]
  },
  {
   "cell_type": "code",
   "execution_count": null,
   "metadata": {
    "id": "RZiLp--8JRP5",
    "outputId": "bbe694c4-969d-4c5a-919b-08e1a8fceee4"
   },
   "outputs": [
    {
     "name": "stdout",
     "output_type": "stream",
     "text": [
      "0 | 0 => 0\n",
      "0 | 1 => 1\n",
      "1 | 0 => 1\n",
      "1 | 1 => 1\n"
     ]
    }
   ],
   "source": [
    "print(\"0 | 0 =>\", 0 | 0)\n",
    "print(\"0 | 1 =>\", 0 | 1)\n",
    "print(\"1 | 0 =>\", 1 | 0)\n",
    "print(\"1 | 1 =>\", 1 | 1)"
   ]
  },
  {
   "cell_type": "code",
   "execution_count": null,
   "metadata": {
    "id": "1llWlN_dVEM0",
    "outputId": "7a168b08-95ac-4542-af2b-8232b8b30e3d"
   },
   "outputs": [
    {
     "name": "stdout",
     "output_type": "stream",
     "text": [
      "0b1111 & 0b1101 = 0b1111\n"
     ]
    }
   ],
   "source": [
    "print(bin(a), \"&\", bin(b), \"=\", bin(a | b))"
   ]
  },
  {
   "cell_type": "markdown",
   "metadata": {
    "id": "fyF-4wYZVEM0"
   },
   "source": [
    "##  4.3 互斥或  a ^ b  = (~a*b)+(a*~b) \n",
    "### 真值表\n",
    "|a|b| a XOR b|\n",
    "|:--:|:--:|:--:|\n",
    "|0|0|0|\n",
    "|0|1|1|\n",
    "|1|0|1|\n",
    "|1|1|0|"
   ]
  },
  {
   "cell_type": "code",
   "execution_count": null,
   "metadata": {
    "id": "RxO6_JeSJRP7",
    "outputId": "bf4ec446-fdb7-4973-c5db-d684d73fc17e"
   },
   "outputs": [
    {
     "name": "stdout",
     "output_type": "stream",
     "text": [
      "0 ^ 0 => 0\n",
      "0 ^ 1 => 1\n",
      "1 ^ 0 => 1\n",
      "1 ^ 1 => 0\n"
     ]
    }
   ],
   "source": [
    "print(\"0 ^ 0 =>\", 0 ^ 0)\n",
    "print(\"0 ^ 1 =>\", 0 ^ 1)\n",
    "print(\"1 ^ 0 =>\", 1 ^ 0)\n",
    "print(\"1 ^ 1 =>\", 1 ^ 1)"
   ]
  },
  {
   "cell_type": "code",
   "execution_count": null,
   "metadata": {
    "id": "sd5O1rkTVEM1",
    "outputId": "9aecc27a-e49f-4adf-c074-1b620136fc42"
   },
   "outputs": [
    {
     "name": "stdout",
     "output_type": "stream",
     "text": [
      "0b1111 & 0b1101 = 0b10\n"
     ]
    }
   ],
   "source": [
    "print(bin(a), \"&\", bin(b), \"=\", bin(a ^ b))"
   ]
  },
  {
   "cell_type": "markdown",
   "metadata": {
    "id": "gqoi1IvtVEM2"
   },
   "source": [
    "##  4.4 反向真值表 ~a = 1-a\n",
    "### 真值表\n",
    "|a| ~a|\n",
    "|:--:|:--:|\n",
    "|0|1|\n",
    "|1|0|"
   ]
  },
  {
   "cell_type": "code",
   "execution_count": null,
   "metadata": {
    "id": "RMsxa8rfJRP9",
    "outputId": "081f3816-42bb-4946-98da-4e7a2261cfbe"
   },
   "outputs": [
    {
     "name": "stdout",
     "output_type": "stream",
     "text": [
      "~0 => -0b1\n",
      "~1 => -0b10\n"
     ]
    }
   ],
   "source": [
    "print(\"~0 =>\", bin(~0))\n",
    "print(\"~1 =>\", bin(~1))"
   ]
  },
  {
   "cell_type": "code",
   "execution_count": null,
   "metadata": {
    "id": "_cljWcGYVEM3",
    "outputId": "5c3f6a38-d895-4606-d2e0-7e62ddc6e86a"
   },
   "outputs": [
    {
     "name": "stdout",
     "output_type": "stream",
     "text": [
      "0b1111 = -0b10000\n"
     ]
    }
   ],
   "source": [
    "print(bin(a), \"=\", bin(~a))"
   ]
  },
  {
   "cell_type": "markdown",
   "metadata": {
    "id": "Lnh9vhH9VEM3"
   },
   "source": [
    "# 5. 位移運算子"
   ]
  },
  {
   "cell_type": "markdown",
   "metadata": {
    "id": "GKu1Kd7iJRP-"
   },
   "source": [
    "## 5.1 左移 << (變大)"
   ]
  },
  {
   "cell_type": "code",
   "execution_count": null,
   "metadata": {
    "id": "M4PM98WvJRP-",
    "outputId": "c6c402c1-430c-4915-f17c-faf8b5562f98"
   },
   "outputs": [
    {
     "name": "stdout",
     "output_type": "stream",
     "text": [
      "2 的 0~11 次方複習\n",
      "2**0 ==> 1\t2**1 ==> 2\t2**2 ==> 4\t2**3 ==> 8\n",
      "2**4 ==> 16\t2**5 ==> 32\t2**6 ==> 64\t2**7 ==> 128\n",
      "2**8 ==> 256\t2**9 ==> 512\t2**10 ==> 1024\t2**11 ==> 2048\n"
     ]
    }
   ],
   "source": [
    "print(\"2 的 0~11 次方複習\")\n",
    "print('2**0 ==>', 2**0, end = '\\t')\n",
    "print('2**1 ==>', 2**1, end = '\\t')\n",
    "print('2**2 ==>', 2**2, end = '\\t')\n",
    "print('2**3 ==>', 2**3)\n",
    "print('2**4 ==>', 2**4, end = '\\t')\n",
    "print('2**5 ==>', 2**5, end = '\\t')\n",
    "print('2**6 ==>', 2**6, end = '\\t')\n",
    "print('2**7 ==>', 2**7)\n",
    "print('2**8 ==>', 2**8, end = '\\t')\n",
    "print('2**9 ==>', 2**9, end = '\\t')\n",
    "print('2**10 ==>', 2**10, end = '\\t')\n",
    "print('2**11 ==>', 2**11)"
   ]
  },
  {
   "cell_type": "code",
   "execution_count": null,
   "metadata": {
    "id": "L19FvrfzVEM3",
    "outputId": "26af6ba8-6c4d-43fb-9eee-5af0e7bf7cee"
   },
   "outputs": [
    {
     "name": "stdout",
     "output_type": "stream",
     "text": [
      "0b101 << 2 = 0b10100 20\n"
     ]
    }
   ],
   "source": [
    "a = 5\n",
    "print(bin(a), \"<< 2 =\", bin(a << 2), int(bin(a << 2), 2))"
   ]
  },
  {
   "cell_type": "markdown",
   "metadata": {
    "id": "7v7ZaE7gJRP_"
   },
   "source": [
    "## 5.2 右移 >>(變小)"
   ]
  },
  {
   "cell_type": "code",
   "execution_count": null,
   "metadata": {
    "id": "dW_O72MqVEM4",
    "outputId": "28402783-dec1-4a25-9bbb-3e3672cb5cd4"
   },
   "outputs": [
    {
     "name": "stdout",
     "output_type": "stream",
     "text": [
      "0b1111 >> 2 = 0b11 3\n"
     ]
    }
   ],
   "source": [
    "print(bin(a), \">> 2 =\", bin(a >> 2), int(bin(a >> 2), 2))"
   ]
  },
  {
   "cell_type": "markdown",
   "metadata": {
    "id": "8vnWcg1gVEM6"
   },
   "source": [
    "<table width=\"900\">\n",
    "    <tr>\n",
    "        <td>\n",
    "            <font size=\"4\"><div style=\"text-align:left;\"><a href=\"#\" target=\"_blank\">上一章：容器型別</a></div></font>\n",
    "        </td>\n",
    "        <td>\n",
    "            <font size=\"4\"><div style=\"text-align:center;\"><a href=\"#\" target=\"_blank\">本章：運算子</a></div></font>\n",
    "        </td>\n",
    "        <td>\n",
    "            <font size=\"4\"><div style=\"text-align:right;\"><a href=\"#\" target=\"_blank\">下一章：邏輯判斷</a></div></font>\n",
    "        </td>\n",
    "    </tr>\n",
    "</table>"
   ]
  },
  {
   "cell_type": "code",
   "execution_count": null,
   "metadata": {
    "id": "LMmgKoAzJRQA"
   },
   "outputs": [],
   "source": []
  }
 ],
 "metadata": {
  "colab": {
   "provenance": []
  },
  "kernelspec": {
   "display_name": "Python 3 (ipykernel)",
   "language": "python",
   "name": "python3"
  },
  "language_info": {
   "codemirror_mode": {
    "name": "ipython",
    "version": 3
   },
   "file_extension": ".py",
   "mimetype": "text/x-python",
   "name": "python",
   "nbconvert_exporter": "python",
   "pygments_lexer": "ipython3",
   "version": "3.10.9"
  }
 },
 "nbformat": 4,
 "nbformat_minor": 1
}
