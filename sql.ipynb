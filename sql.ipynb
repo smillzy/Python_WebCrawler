{
 "cells": [
  {
   "cell_type": "code",
   "execution_count": 4,
   "id": "bea4cd97",
   "metadata": {},
   "outputs": [],
   "source": [
    "import sqlite3 as lite\n",
    "\n",
    "sql = '''\n",
    "CREATE TABLE IF NOT EXISTS \"app2\" (\n",
    "\t\"id\"\tINTEGER,\n",
    "\t\"name\"\tTEXT NOT NULL,\n",
    "\t\"date\"\tTEXT NOT NULL,\n",
    "\t\"version\"\tTEXT NOT NULL,\n",
    "\t\"remarker\"\tTEXT NOT NULL,\n",
    "\tPRIMARY KEY(\"id\" AUTOINCREMENT)\n",
    ");\n",
    "'''\n",
    "con = lite.connect('20231119.db') #開啟與資料庫的連線\n",
    "cur = con.cursor() #取得操作資料庫的權限\n",
    "try:\n",
    "    cur.execute(sql) #執行sql語法\n",
    "    con.commit() #確定變更，所有資料庫皆適用\n",
    "except Exception as e:\n",
    "    print(e)\n",
    "    con.rollback() #當執行sql失敗，退回上一步\n",
    "\n",
    "cur.close()#關閉連線\n",
    "con.close()#關閉連線"
   ]
  },
  {
   "cell_type": "markdown",
   "id": "688ca921",
   "metadata": {},
   "source": [
    "## 新增紀錄"
   ]
  },
  {
   "cell_type": "code",
   "execution_count": 9,
   "id": "00342f3d",
   "metadata": {},
   "outputs": [],
   "source": [
    "sql = '''\n",
    "INSERT INTO \"main\".\"app\"(\"name\",\"date\",\"version\",\"remarker\") VALUES ('Excel','20231001','1.1.1.0','Excel_v2');\n",
    "'''\n",
    "\n",
    "def sqlop(dbname, sql):\n",
    "    con = lite.connect(dbname) #開啟與資料庫的連線\n",
    "    cur = con.cursor() #取得操作資料庫的權限\n",
    "    try:\n",
    "        cur.execute(sql) #執行sql語法\n",
    "        con.commit() #確定變更，所有資料庫皆適用\n",
    "    except Exception as e:\n",
    "        print(e)\n",
    "        con.rollback() #當執行sql失敗，退回上一步\n",
    "\n",
    "    cur.close()#關閉連線\n",
    "    con.close()\n",
    "\n",
    "sqlop('20231119.db', sql)"
   ]
  },
  {
   "cell_type": "code",
   "execution_count": 2,
   "id": "2f2e43fc",
   "metadata": {},
   "outputs": [],
   "source": [
    "import sqlite3 as lite\n",
    "\n",
    "cols = [\"name\",\"date\",\"version\",\"remarker\"]\n",
    "data = [['Python金融', '20220103', '1.0.0.2', 'Python金融_v2'], \n",
    "        ['Python爬蟲', '20220301', '1.0.1.1', 'Python爬蟲_v3'],\n",
    "        ['Python大數據', '20221001', '1.0.1.2', 'Python大數據_v5'],\n",
    "        ['Excel爬蟲', '20221009', '1.1.1.2', 'Excel爬蟲_v2']]\n",
    "\n",
    "sql = '''\n",
    "INSERT INTO \"main\".\"app\"(\"name\",\"date\",\"version\",\"remarker\") VALUES (?,?,?,?);\n",
    "'''\n",
    "\n",
    "con = lite.connect('20231119.db') #開啟與資料庫的連線\n",
    "cur = con.cursor() #取得操作資料庫的權限\n",
    "try:\n",
    "    cur.executemany(sql, data) #執行sql語法\n",
    "    con.commit() #確定變更，所有資料庫皆適用\n",
    "except Exception as e:\n",
    "    print(e)\n",
    "    con.rollback() #當執行sql失敗，退回上一步\n",
    "\n",
    "cur.close()#關閉連線\n",
    "con.close()"
   ]
  },
  {
   "cell_type": "code",
   "execution_count": 3,
   "id": "c74bde26",
   "metadata": {},
   "outputs": [],
   "source": [
    "import sqlite3 as lite\n",
    "sql = '''\n",
    "UPDATE \"main\".\"app\" SET \"version\" = '1.1.1.5' WHERE 'id' = '3';\n",
    "'''\n",
    "\n",
    "\n",
    "def sqlop(dbname, sql):\n",
    "    con = lite.connect(dbname) #開啟與資料庫的連線\n",
    "    cur = con.cursor() #取得操作資料庫的權限\n",
    "    try:\n",
    "        cur.execute(sql) #執行sql語法\n",
    "        con.commit() #確定變更，所有資料庫皆適用\n",
    "    except Exception as e:\n",
    "        print(e)\n",
    "        con.rollback() #當執行sql失敗，退回上一步\n",
    "\n",
    "    cur.close()#關閉連線\n",
    "    con.close()\n",
    "\n",
    "sqlop('20231119.db', sql)"
   ]
  },
  {
   "cell_type": "code",
   "execution_count": null,
   "id": "b5437183",
   "metadata": {},
   "outputs": [],
   "source": [
    "sql = '''\n",
    "UPDATE 'main'.'app' SET \"version\" = '1.1.1.5' WHERE 'id' = '3';\n",
    "'''"
   ]
  },
  {
   "cell_type": "code",
   "execution_count": 8,
   "id": "514faf51",
   "metadata": {},
   "outputs": [],
   "source": [
    "import sqlite3 as lite\n",
    "\n",
    "sql = '''\n",
    "DELETE FROM 'main'.'app' WHERE 'id' = '6';\n",
    "'''\n",
    "def sqlop(dbname, sql):\n",
    "    con = lite.connect(dbname) #開啟與資料庫的連線\n",
    "    cur = con.cursor() #取得操作資料庫的權限\n",
    "    try:\n",
    "        cur.execute(sql) #執行sql語法\n",
    "        con.commit() #確定變更，所有資料庫皆適用\n",
    "    except Exception as e:\n",
    "        print(e)\n",
    "        con.rollback() #當執行sql失敗，退回上一步\n",
    "\n",
    "    cur.close()#關閉連線\n",
    "    con.close()\n",
    "\n",
    "sqlop('20231119.db', sql)"
   ]
  },
  {
   "cell_type": "markdown",
   "id": "86dc2c3b",
   "metadata": {},
   "source": [
    "## 查詢紀錄"
   ]
  },
  {
   "cell_type": "code",
   "execution_count": 10,
   "id": "42e667ff",
   "metadata": {},
   "outputs": [
    {
     "name": "stdout",
     "output_type": "stream",
     "text": [
      "(1, 'python', '20231119', '1.0.0.1', 'python_v1')\n",
      "(3, 'Excel', '20231001', '1.1.1.0', 'Excel_v2')\n",
      "(6, 'Python金融', '20220103', '1.0.0.2', 'Python金融_v2')\n",
      "(7, 'Python爬蟲', '20220301', '1.0.1.1', 'Python爬蟲_v3')\n",
      "(8, 'Python大數據', '20221001', '1.0.1.2', 'Python大數據_v5')\n",
      "(9, 'Excel爬蟲', '20221009', '1.1.1.2', 'Excel爬蟲_v2')\n"
     ]
    }
   ],
   "source": [
    "import sqlite3 as lite\n",
    "\n",
    "sql = '''\n",
    "SELECT * FROM 'app';\n",
    "'''\n",
    "\n",
    "con = lite.connect('20231119.db') #開啟與資料庫的連線\n",
    "cur = con.cursor() #取得操作資料庫的權限\n",
    "try:\n",
    "    cur.execute(sql) #執行sql語法\n",
    "    rows = cur.fetchall()\n",
    "except Exception as e:\n",
    "    print(e)\n",
    "    con.rollback() #當執行sql失敗，退回上一步\n",
    "\n",
    "cur.close()#關閉連線\n",
    "con.close()\n",
    "\n",
    "for row in rows:\n",
    "    print(row)"
   ]
  },
  {
   "cell_type": "code",
   "execution_count": null,
   "id": "07d06200",
   "metadata": {},
   "outputs": [],
   "source": []
  }
 ],
 "metadata": {
  "kernelspec": {
   "display_name": "Python 3 (ipykernel)",
   "language": "python",
   "name": "python3"
  },
  "language_info": {
   "codemirror_mode": {
    "name": "ipython",
    "version": 3
   },
   "file_extension": ".py",
   "mimetype": "text/x-python",
   "name": "python",
   "nbconvert_exporter": "python",
   "pygments_lexer": "ipython3",
   "version": "3.10.9"
  }
 },
 "nbformat": 4,
 "nbformat_minor": 5
}
