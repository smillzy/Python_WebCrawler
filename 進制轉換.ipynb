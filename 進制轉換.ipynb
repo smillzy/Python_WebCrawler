{
 "cells": [
  {
   "cell_type": "markdown",
   "metadata": {
    "id": "ZHspDRnaVEM5"
   },
   "source": [
    "# 1. 進制轉換\n",
    "| - |2進位制|8進位制|10進位制|16進位制|\n",
    "| :----: | :----: | :----: | :----: | :----:|\n",
    "|2進位制|-|bin(int(x, 8))|bin(int(x, 10))|bin(int(x, 16))|\n",
    "|8進位制|oct(int(x, 2))|-|oct(int(x, 10))|oct(int(x, 16))|\n",
    "|10進位制|int(x, 2)|int(x, 8)|-|int(x, 16)|\n",
    "|16進位制|hex(int(x, 2))|hex(int(x, 8))|hex(int(x, 10))|-|"
   ]
  },
  {
   "cell_type": "markdown",
   "metadata": {},
   "source": [
    "## 1.1 二進制轉八進制、十進制、十六進制"
   ]
  },
  {
   "cell_type": "code",
   "execution_count": 6,
   "metadata": {},
   "outputs": [
    {
     "name": "stdout",
     "output_type": "stream",
     "text": [
      "二進制轉八進制： 0o27\n",
      "二進制轉十進制： 23\n",
      "二進制轉十六進制： 0x17\n"
     ]
    }
   ],
   "source": [
    "a = 23\n",
    "print(\"二進制轉八進制：\", oct(int(bin(23), 2)))\n",
    "print(\"二進制轉十進制：\", int(bin(23), 2))\n",
    "print(\"二進制轉十六進制：\", hex(int(bin(23), 2)))"
   ]
  },
  {
   "cell_type": "code",
   "execution_count": 8,
   "metadata": {},
   "outputs": [
    {
     "name": "stdout",
     "output_type": "stream",
     "text": [
      "二進制轉八進制：0o27\n",
      "二進制轉十進制：23\n",
      "二進制轉十六進制：0x17\n"
     ]
    }
   ],
   "source": [
    "a = 23\n",
    "print(\"二進制轉八進制：{:#o}\".format(int(bin(23), 2)))\n",
    "print(\"二進制轉十進制：{:d}\".format(int(bin(23), 2)))\n",
    "print(\"二進制轉十六進制：{:#x}\".format(int(bin(23), 2)))"
   ]
  },
  {
   "cell_type": "code",
   "execution_count": 3,
   "metadata": {},
   "outputs": [
    {
     "name": "stdout",
     "output_type": "stream",
     "text": [
      "二進制轉八進制： 0o0o27\n",
      "二進制轉十進制： 23\n",
      "二進制轉十六進制： 0x17\n"
     ]
    }
   ],
   "source": [
    "a = 23\n",
    "print(\"二進制轉八進制：\", format(int(bin(23), 2), '#o'))\n",
    "print(\"二進制轉十進制：\", format(int(bin(23), 2)))\n",
    "print(\"二進制轉十六進制：\", format(int(bin(23), 2), '#x'))"
   ]
  },
  {
   "cell_type": "markdown",
   "metadata": {},
   "source": [
    "## 1.2 八進制轉二進制、十進制、十六進制"
   ]
  },
  {
   "cell_type": "code",
   "execution_count": 93,
   "metadata": {},
   "outputs": [
    {
     "name": "stdout",
     "output_type": "stream",
     "text": [
      "八進制轉二進制： 0b10111\n",
      "八進制轉十進制： 23\n",
      "八進制轉十六進制： 0x17\n"
     ]
    }
   ],
   "source": [
    "a = 23\n",
    "print(\"八進制轉二進制：\", bin(int(oct(23), 8)))\n",
    "print(\"八進制轉十進制：\", int(oct(23), 8))\n",
    "print(\"八進制轉十六進制：\", hex(int(oct(23), 8)))"
   ]
  },
  {
   "cell_type": "code",
   "execution_count": 1,
   "metadata": {},
   "outputs": [
    {
     "name": "stdout",
     "output_type": "stream",
     "text": [
      "八進制轉二進制：1_0111\n",
      "八進制轉十進制：23\n",
      "八進制轉十六進制：0x17\n"
     ]
    }
   ],
   "source": [
    "a = 23\n",
    "print(\"八進制轉二進制：{:_b}\".format(int(oct(23), 8)))\n",
    "print(\"八進制轉十進制：{:d}\".format(int(oct(23), 8)))\n",
    "print(\"八進制轉十六進制：0x{:x}\".format(int(oct(23), 8)))"
   ]
  },
  {
   "cell_type": "code",
   "execution_count": 23,
   "metadata": {},
   "outputs": [
    {
     "name": "stdout",
     "output_type": "stream",
     "text": [
      "八進制轉二進制： 1_0111\n",
      "八進制轉十進制： 23\n",
      "八進制轉十六進制： 17\n"
     ]
    }
   ],
   "source": [
    "a = 23\n",
    "print(\"八進制轉二進制：\", format(int(oct(23), 8), '_b'))\n",
    "print(\"八進制轉十進制：\", format(int(oct(23), 8), 'd'))\n",
    "print(\"八進制轉十六進制：\", format(int(oct(23), 8), 'x'))"
   ]
  },
  {
   "cell_type": "markdown",
   "metadata": {},
   "source": [
    "## 1.3 十進制轉二進制、八進制、十六進制"
   ]
  },
  {
   "cell_type": "code",
   "execution_count": 127,
   "metadata": {},
   "outputs": [
    {
     "name": "stdout",
     "output_type": "stream",
     "text": [
      "十進制轉換成二進制 ： 0b10111\n",
      "十進制轉八進制： 0o27\n",
      "十進制轉換成十六進制： 0x17\n"
     ]
    }
   ],
   "source": [
    "a = 23\n",
    "print(\"十進制轉換成二進制 ：\", bin(a))\n",
    "print(\"十進制轉八進制：\", oct(a))\n",
    "print(\"十進制轉換成十六進制：\", hex(a))"
   ]
  },
  {
   "cell_type": "code",
   "execution_count": 126,
   "metadata": {},
   "outputs": [
    {
     "name": "stdout",
     "output_type": "stream",
     "text": [
      "八進制轉二進制：1_0111\n",
      "八進制轉十進制：23\n",
      "八進制轉十六進制：17\n"
     ]
    }
   ],
   "source": [
    "a = 23\n",
    "print(\"八進制轉二進制：{:_b}\".format(int(oct(23), 8)))\n",
    "print(\"八進制轉十進制：{:d}\".format(int(oct(23), 8)))\n",
    "print(\"八進制轉十六進制：0x{:x}\".format(int(oct(23), 8)))"
   ]
  },
  {
   "cell_type": "code",
   "execution_count": 22,
   "metadata": {},
   "outputs": [
    {
     "name": "stdout",
     "output_type": "stream",
     "text": [
      "八進制轉二進制： 1_0111\n",
      "八進制轉十進制： 23\n",
      "八進制轉十六進制： 17\n"
     ]
    }
   ],
   "source": [
    "a = 23\n",
    "print(\"八進制轉二進制：\", format(int(oct(23), 8), '_b'))\n",
    "print(\"八進制轉十進制：\", format(int(oct(23), 8), 'd'))\n",
    "print(\"八進制轉十六進制：\", format(int(oct(23), 8), 'x'))"
   ]
  },
  {
   "cell_type": "markdown",
   "metadata": {},
   "source": [
    "## 1.4 十六進制轉二進制、十進制、八進制"
   ]
  },
  {
   "cell_type": "code",
   "execution_count": 97,
   "metadata": {},
   "outputs": [
    {
     "name": "stdout",
     "output_type": "stream",
     "text": [
      "十六進制轉換成二進制 ： 0b10111\n",
      "十六進制轉八進制： 0o27\n",
      "十六進制轉換成十進制： 23\n"
     ]
    }
   ],
   "source": [
    "a = 23\n",
    "print('十六進制轉換成二進制 ：', bin(int(hex(a), 16)))\n",
    "print('十六進制轉八進制：', oct(int(hex(a), 16)))\n",
    "print('十六進制轉換成十進制：', int(hex(a), 16))"
   ]
  },
  {
   "cell_type": "code",
   "execution_count": 2,
   "metadata": {
    "scrolled": true
   },
   "outputs": [
    {
     "name": "stdout",
     "output_type": "stream",
     "text": [
      "十六進制轉換成二進制 ：1_0111\n",
      "十六進制轉八進制：0o27\n",
      "十六進制轉換成十進制：23\n"
     ]
    }
   ],
   "source": [
    "a = 23\n",
    "print('十六進制轉換成二進制 ：{:_b}'.format(int(hex(a), 16)))\n",
    "print('十六進制轉八進制：0o{:o}'.format(int(hex(a), 16)))\n",
    "print('十六進制轉換成十進制：{:d}'.format(int(hex(a), 16)))"
   ]
  },
  {
   "cell_type": "code",
   "execution_count": 24,
   "metadata": {},
   "outputs": [
    {
     "name": "stdout",
     "output_type": "stream",
     "text": [
      "十六進制轉換成二進制 ： 1_0111\n",
      "十六進制轉八進制： 27\n",
      "十六進制轉換成十進制： 17\n"
     ]
    }
   ],
   "source": [
    "a = 23\n",
    "print('十六進制轉換成二進制 ：', format(int(hex(a), 16), '_b'))\n",
    "print('十六進制轉八進制：', format(int(hex(a), 16), 'o'))\n",
    "print('十六進制轉換成十進制：', format(int(hex(a), 16), 'x'))"
   ]
  },
  {
   "cell_type": "markdown",
   "metadata": {},
   "source": [
    "<table width=\"900\">\n",
    "    <tr>\n",
    "        <td>\n",
    "            <font size=\"4\"><div style=\"text-align:center;\"><a href=\"#\" target=\"_blank\">上一章：字串格式化輸出</a></div></font>\n",
    "        </td>\n",
    "        <td>\n",
    "            <font size=\"4\"><div style=\"text-align:center;\"><a href=\"#\" target=\"_blank\">本章：進制轉換</a></div></font>\n",
    "        </td>\n",
    "    </tr>\n",
    "</table>"
   ]
  },
  {
   "cell_type": "code",
   "execution_count": null,
   "metadata": {},
   "outputs": [],
   "source": []
  }
 ],
 "metadata": {
  "kernelspec": {
   "display_name": "Python 3 (ipykernel)",
   "language": "python",
   "name": "python3"
  },
  "language_info": {
   "codemirror_mode": {
    "name": "ipython",
    "version": 3
   },
   "file_extension": ".py",
   "mimetype": "text/x-python",
   "name": "python",
   "nbconvert_exporter": "python",
   "pygments_lexer": "ipython3",
   "version": "3.10.9"
  }
 },
 "nbformat": 4,
 "nbformat_minor": 2
}
