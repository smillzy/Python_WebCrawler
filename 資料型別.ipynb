{
 "cells": [
  {
   "cell_type": "markdown",
   "metadata": {
    "colab_type": "text",
    "id": "8qbddVjp6x6q"
   },
   "source": [
    "# 整數 int"
   ]
  },
  {
   "cell_type": "code",
   "execution_count": 0,
   "metadata": {
    "colab": {},
    "colab_type": "code",
    "id": "cmIAoPLa6x6w",
    "outputId": "7cfa3ed8-e3f8-4d84-c74e-85fe2c456fb7"
   },
   "outputs": [
    {
     "data": {
      "text/plain": [
       "int"
      ]
     },
     "execution_count": 5,
     "metadata": {
      "tags": []
     },
     "output_type": "execute_result"
    }
   ],
   "source": [
    "a = 123\n",
    "type(a)"
   ]
  },
  {
   "cell_type": "markdown",
   "metadata": {
    "colab_type": "text",
    "id": "xB1rvuIU6x69"
   },
   "source": [
    "# 浮點數float"
   ]
  },
  {
   "cell_type": "code",
   "execution_count": 0,
   "metadata": {
    "colab": {},
    "colab_type": "code",
    "id": "dG2-702N6x7A",
    "outputId": "75fb9b51-81f0-4c1c-825e-13016360b26d"
   },
   "outputs": [
    {
     "data": {
      "text/plain": [
       "float"
      ]
     },
     "execution_count": 6,
     "metadata": {
      "tags": []
     },
     "output_type": "execute_result"
    }
   ],
   "source": [
    "b = 123.456\n",
    "type(b)"
   ]
  },
  {
   "cell_type": "code",
   "execution_count": 0,
   "metadata": {
    "colab": {},
    "colab_type": "code",
    "id": "SZVIOKPe6x7I",
    "outputId": "0f701dc6-9569-4dca-f8d9-2c1160e1dfeb"
   },
   "outputs": [
    {
     "data": {
      "text/plain": [
       "0.000123"
      ]
     },
     "execution_count": 8,
     "metadata": {
      "tags": []
     },
     "output_type": "execute_result"
    }
   ],
   "source": [
    "b = 1.23e-4\n",
    "b"
   ]
  },
  {
   "cell_type": "markdown",
   "metadata": {
    "colab_type": "text",
    "id": "eGrsLZw_6x7Q"
   },
   "source": [
    "# 布林 bool\n",
    "### True 或 False、1 或 0"
   ]
  },
  {
   "cell_type": "code",
   "execution_count": 0,
   "metadata": {
    "colab": {},
    "colab_type": "code",
    "id": "NFGm_mKP6x7R",
    "outputId": "71f26948-c893-4340-b18b-2ee86dba35a7"
   },
   "outputs": [
    {
     "data": {
      "text/plain": [
       "False"
      ]
     },
     "execution_count": 1,
     "metadata": {
      "tags": []
     },
     "output_type": "execute_result"
    }
   ],
   "source": [
    "1>2"
   ]
  },
  {
   "cell_type": "code",
   "execution_count": 0,
   "metadata": {
    "colab": {},
    "colab_type": "code",
    "id": "3bQ4Vbmd6x7W",
    "outputId": "ec5aa8ec-9451-443e-8a24-712885fd6d65"
   },
   "outputs": [
    {
     "data": {
      "text/plain": [
       "True"
      ]
     },
     "execution_count": 2,
     "metadata": {
      "tags": []
     },
     "output_type": "execute_result"
    }
   ],
   "source": [
    "1<2"
   ]
  },
  {
   "cell_type": "code",
   "execution_count": 0,
   "metadata": {
    "colab": {},
    "colab_type": "code",
    "id": "SVrK0_RZ6x7a",
    "outputId": "8770ab03-3e87-4551-8a9e-9e8815aef494"
   },
   "outputs": [
    {
     "data": {
      "text/plain": [
       "True"
      ]
     },
     "execution_count": 4,
     "metadata": {
      "tags": []
     },
     "output_type": "execute_result"
    }
   ],
   "source": [
    "(1+1) == 2"
   ]
  },
  {
   "cell_type": "code",
   "execution_count": 0,
   "metadata": {
    "colab": {},
    "colab_type": "code",
    "id": "m4yqazCq6x7g",
    "outputId": "c1c70656-6d66-419f-9c4c-e571278b1fbd"
   },
   "outputs": [
    {
     "data": {
      "text/plain": [
       "False"
      ]
     },
     "execution_count": 12,
     "metadata": {
      "tags": []
     },
     "output_type": "execute_result"
    }
   ],
   "source": [
    "bool(0)"
   ]
  },
  {
   "cell_type": "code",
   "execution_count": 0,
   "metadata": {
    "colab": {},
    "colab_type": "code",
    "id": "aXck02986x7k",
    "outputId": "262c97f1-72b2-49b1-fb2b-cc514fe6c834"
   },
   "outputs": [
    {
     "data": {
      "text/plain": [
       "True"
      ]
     },
     "execution_count": 13,
     "metadata": {
      "tags": []
     },
     "output_type": "execute_result"
    }
   ],
   "source": [
    "bool(1.5)"
   ]
  },
  {
   "cell_type": "code",
   "execution_count": 0,
   "metadata": {
    "colab": {},
    "colab_type": "code",
    "id": "BbZL8qbi6x7o",
    "outputId": "fe6570ba-6b3e-4c10-d9b6-c5c461ca8f4a"
   },
   "outputs": [
    {
     "data": {
      "text/plain": [
       "False"
      ]
     },
     "execution_count": 14,
     "metadata": {
      "tags": []
     },
     "output_type": "execute_result"
    }
   ],
   "source": [
    "bool(None)"
   ]
  },
  {
   "cell_type": "code",
   "execution_count": 0,
   "metadata": {
    "colab": {},
    "colab_type": "code",
    "id": "Cm6DREPE6x7t",
    "outputId": "a0b231d9-bc39-496d-9323-30c02c4788f5"
   },
   "outputs": [
    {
     "data": {
      "text/plain": [
       "False"
      ]
     },
     "execution_count": 15,
     "metadata": {
      "tags": []
     },
     "output_type": "execute_result"
    }
   ],
   "source": [
    "bool(\"\")"
   ]
  },
  {
   "cell_type": "code",
   "execution_count": 1,
   "metadata": {
    "colab": {},
    "colab_type": "code",
    "id": "zPUQECCA6x7w",
    "outputId": "1a8e99b7-e90f-482e-eb3a-e31fab12e283"
   },
   "outputs": [
    {
     "data": {
      "text/plain": [
       "True"
      ]
     },
     "execution_count": 1,
     "metadata": {},
     "output_type": "execute_result"
    }
   ],
   "source": [
    "bool(\" \")"
   ]
  },
  {
   "cell_type": "code",
   "execution_count": 0,
   "metadata": {
    "colab": {},
    "colab_type": "code",
    "id": "wo8dGGWM6x70",
    "outputId": "00ae331b-fa89-44bc-997d-e811ae03de9d"
   },
   "outputs": [
    {
     "data": {
      "text/plain": [
       "True"
      ]
     },
     "execution_count": 17,
     "metadata": {
      "tags": []
     },
     "output_type": "execute_result"
    }
   ],
   "source": [
    "bool(\"a\")"
   ]
  },
  {
   "cell_type": "markdown",
   "metadata": {
    "colab_type": "text",
    "id": "I45v-A9z6x73"
   },
   "source": [
    "# 字串 String\n",
    "\n",
    "- X字串：Hello\n",
    "\n",
    "|由左而右索引|0|1|2|3|4|\n",
    "|--|--|--|--|--|--|\n",
    "|X字串|H|e|l|l|o|\n",
    "|由右而左索引|-5|-4|-3|-2|-1|\n",
    "\n",
    "- Y字串：Python!\n",
    "\n",
    "|由左而右索引|0|1|2|3|4|5|6|\n",
    "|--|--|--|--|--|--|--|--|\n",
    "|Y字串|P|y|t|h|o|n|!|\n",
    "|由右而左索引|-7|-6|-5|-4|-3|-2|-1|"
   ]
  },
  {
   "cell_type": "code",
   "execution_count": 5,
   "metadata": {
    "colab": {},
    "colab_type": "code",
    "id": "3eEkfRTw6x74"
   },
   "outputs": [],
   "source": [
    "x = \"Hello\"\n",
    "Y = \"Python!\""
   ]
  },
  {
   "cell_type": "code",
   "execution_count": 3,
   "metadata": {
    "colab": {},
    "colab_type": "code",
    "id": "6xxQLW3u6x77",
    "outputId": "961ee81c-5fd0-477d-cc8b-8c44e9496659"
   },
   "outputs": [
    {
     "data": {
      "text/plain": [
       "'H'"
      ]
     },
     "execution_count": 3,
     "metadata": {},
     "output_type": "execute_result"
    }
   ],
   "source": [
    "x[0]"
   ]
  },
  {
   "cell_type": "code",
   "execution_count": 4,
   "metadata": {
    "colab": {},
    "colab_type": "code",
    "id": "Z3ckK4Kt6x8A",
    "outputId": "901696cf-1c4d-42ed-a55e-3e73c8013c5e"
   },
   "outputs": [
    {
     "data": {
      "text/plain": [
       "'l'"
      ]
     },
     "execution_count": 4,
     "metadata": {},
     "output_type": "execute_result"
    }
   ],
   "source": [
    "x[-2]"
   ]
  },
  {
   "cell_type": "code",
   "execution_count": 0,
   "metadata": {
    "colab": {},
    "colab_type": "code",
    "id": "HARkxY_96x8D",
    "outputId": "70910a81-a2fe-4062-c17d-3c6aa50b00e2"
   },
   "outputs": [
    {
     "data": {
      "text/plain": [
       "'el'"
      ]
     },
     "execution_count": 10,
     "metadata": {
      "tags": []
     },
     "output_type": "execute_result"
    }
   ],
   "source": [
    "x[1:3]"
   ]
  },
  {
   "cell_type": "code",
   "execution_count": 0,
   "metadata": {
    "colab": {},
    "colab_type": "code",
    "id": "4BLULUqY6x8G",
    "outputId": "6781c809-cc2c-4c07-9595-ceee8325a634"
   },
   "outputs": [
    {
     "data": {
      "text/plain": [
       "'el'"
      ]
     },
     "execution_count": 3,
     "metadata": {
      "tags": []
     },
     "output_type": "execute_result"
    }
   ],
   "source": [
    "x[1:4:2]"
   ]
  },
  {
   "cell_type": "code",
   "execution_count": 0,
   "metadata": {
    "colab": {},
    "colab_type": "code",
    "id": "JQi4lIuH6x8J",
    "outputId": "076b0004-9303-4454-9599-7e318e582fa6"
   },
   "outputs": [
    {
     "data": {
      "text/plain": [
       "'Pyth'"
      ]
     },
     "execution_count": 14,
     "metadata": {
      "tags": []
     },
     "output_type": "execute_result"
    }
   ],
   "source": [
    "Y[0:-3]"
   ]
  },
  {
   "cell_type": "code",
   "execution_count": 0,
   "metadata": {
    "colab": {},
    "colab_type": "code",
    "id": "wZ6JBBk66x8M",
    "outputId": "ee4a6a1d-ca22-49ed-92b7-4db801a14b55"
   },
   "outputs": [
    {
     "data": {
      "text/plain": [
       "'n!'"
      ]
     },
     "execution_count": 16,
     "metadata": {
      "tags": []
     },
     "output_type": "execute_result"
    }
   ],
   "source": [
    "Y[-2:7]"
   ]
  },
  {
   "cell_type": "code",
   "execution_count": 6,
   "metadata": {
    "colab": {},
    "colab_type": "code",
    "id": "ZY1lkQyC6x8P",
    "outputId": "b42d42b1-8cc5-44cb-b5e1-6a6cf492a051"
   },
   "outputs": [
    {
     "data": {
      "text/plain": [
       "'nh'"
      ]
     },
     "execution_count": 6,
     "metadata": {},
     "output_type": "execute_result"
    }
   ],
   "source": [
    "Y[-2:1:-2]"
   ]
  },
  {
   "cell_type": "code",
   "execution_count": 7,
   "metadata": {
    "colab": {},
    "colab_type": "code",
    "id": "7Mz5e8ZR6x8T"
   },
   "outputs": [],
   "source": [
    "a = \"Hello\"\n",
    "b = \"Python!\"\n",
    "c = 123"
   ]
  },
  {
   "cell_type": "code",
   "execution_count": 8,
   "metadata": {
    "colab": {},
    "colab_type": "code",
    "id": "0wgkO4Yj6x8W",
    "outputId": "77daab70-12f3-40d6-d86f-273b2aa79421"
   },
   "outputs": [
    {
     "data": {
      "text/plain": [
       "'HelloPython!'"
      ]
     },
     "execution_count": 8,
     "metadata": {},
     "output_type": "execute_result"
    }
   ],
   "source": [
    "a + b"
   ]
  },
  {
   "cell_type": "code",
   "execution_count": 9,
   "metadata": {
    "colab": {},
    "colab_type": "code",
    "id": "6yd2CV2y6x8Z",
    "outputId": "a37a6212-61b4-4056-fe8d-ed95f2fddc30"
   },
   "outputs": [
    {
     "data": {
      "text/plain": [
       "'Hello Python!'"
      ]
     },
     "execution_count": 9,
     "metadata": {},
     "output_type": "execute_result"
    }
   ],
   "source": [
    "a + \" \" + b"
   ]
  },
  {
   "cell_type": "code",
   "execution_count": 10,
   "metadata": {
    "colab": {},
    "colab_type": "code",
    "id": "ljYX9mhn6x8b",
    "outputId": "85b1b166-9b67-48a3-ba9a-a0c4003708d0"
   },
   "outputs": [
    {
     "data": {
      "text/plain": [
       "'Hello Python! 123'"
      ]
     },
     "execution_count": 10,
     "metadata": {},
     "output_type": "execute_result"
    }
   ],
   "source": [
    "a + \" \" + b + \" \" + str(c)"
   ]
  },
  {
   "cell_type": "code",
   "execution_count": 12,
   "metadata": {
    "colab": {},
    "colab_type": "code",
    "id": "oMp7Mh0N6x8f"
   },
   "outputs": [],
   "source": [
    "d = \"Hello \"\n",
    "e = \"Python! \""
   ]
  },
  {
   "cell_type": "code",
   "execution_count": 15,
   "metadata": {
    "colab": {},
    "colab_type": "code",
    "id": "nz3At3cl6x8i",
    "outputId": "0e1f5f0a-bfb9-4bab-b4b1-d939000bf4f2"
   },
   "outputs": [
    {
     "data": {
      "text/plain": [
       "'Hello Python! Hello Python! Hello Python! '"
      ]
     },
     "execution_count": 15,
     "metadata": {},
     "output_type": "execute_result"
    }
   ],
   "source": [
    "(d + e) * 3"
   ]
  },
  {
   "cell_type": "code",
   "execution_count": 14,
   "metadata": {
    "colab": {},
    "colab_type": "code",
    "id": "qJzU8H0J6x8l",
    "outputId": "b9bcbcd1-772f-4290-cb7d-d46ad24522a7"
   },
   "outputs": [
    {
     "name": "stdout",
     "output_type": "stream",
     "text": [
      "Hello Python! Hello Python! Hello Python! \n"
     ]
    }
   ],
   "source": [
    "print((d + e) * 3)"
   ]
  },
  {
   "cell_type": "code",
   "execution_count": 16,
   "metadata": {
    "colab": {},
    "colab_type": "code",
    "id": "kJWhlyJ86x8p",
    "outputId": "874fe51e-5161-43c8-e486-ec472230bb5b"
   },
   "outputs": [
    {
     "data": {
      "text/plain": [
       "False"
      ]
     },
     "execution_count": 16,
     "metadata": {},
     "output_type": "execute_result"
    }
   ],
   "source": [
    "f = \"Hello \"\n",
    "g = \"Hello\"\n",
    "f == g"
   ]
  },
  {
   "cell_type": "code",
   "execution_count": 17,
   "metadata": {
    "colab": {},
    "colab_type": "code",
    "id": "LzkaYEzV6x8t",
    "outputId": "da052d91-b2a4-43ae-e7a1-adddbdccad1b"
   },
   "outputs": [
    {
     "data": {
      "text/plain": [
       "True"
      ]
     },
     "execution_count": 17,
     "metadata": {},
     "output_type": "execute_result"
    }
   ],
   "source": [
    "f != g"
   ]
  },
  {
   "cell_type": "markdown",
   "metadata": {},
   "source": [
    "# 位元 bytes"
   ]
  },
  {
   "cell_type": "code",
   "execution_count": 9,
   "metadata": {},
   "outputs": [
    {
     "name": "stdout",
     "output_type": "stream",
     "text": [
      "<class 'bytes'> b'\\xe4\\xbd\\xa0\\xe5\\xa5\\xbd'\n"
     ]
    }
   ],
   "source": [
    "a = u'你好'\n",
    "b = a.encode('utf-8')\n",
    "print(type(b), b)"
   ]
  },
  {
   "cell_type": "code",
   "execution_count": 6,
   "metadata": {},
   "outputs": [
    {
     "name": "stdout",
     "output_type": "stream",
     "text": [
      "97\n",
      "<class 'int'>\n",
      "b'a'\n",
      "<class 'bytes'>\n"
     ]
    }
   ],
   "source": [
    "w = b\"abc\"\n",
    "print(w[0])\n",
    "print(type(w[0]))\n",
    "print(w[:1])\n",
    "print(type(w[:1]))"
   ]
  },
  {
   "cell_type": "markdown",
   "metadata": {},
   "source": [
    "# 位元陣列 bytearray"
   ]
  },
  {
   "cell_type": "code",
   "execution_count": 11,
   "metadata": {
    "scrolled": true
   },
   "outputs": [
    {
     "name": "stdout",
     "output_type": "stream",
     "text": [
      "<class 'bytearray'> bytearray(b'\\xe4\\xbd\\xa0\\xe5\\xa5\\xbd')\n"
     ]
    }
   ],
   "source": [
    "#範圍只能在 0 <= x < 256\n",
    "b = bytearray(u'你好', encoding='utf-8')\n",
    "print(type(b), b)"
   ]
  },
  {
   "cell_type": "markdown",
   "metadata": {
    "colab_type": "text",
    "id": "szR3HKFC6x8w"
   },
   "source": [
    "# 建立字串"
   ]
  },
  {
   "cell_type": "code",
   "execution_count": 0,
   "metadata": {
    "colab": {},
    "colab_type": "code",
    "id": "AYkFe5RQ6x8x",
    "outputId": "11e4d701-0e76-4020-f06e-243c785f084e"
   },
   "outputs": [
    {
     "name": "stdout",
     "output_type": "stream",
     "text": [
      "ABC\n"
     ]
    }
   ],
   "source": [
    "str1 = 'AB\\\n",
    "C'\n",
    "print(str1)"
   ]
  },
  {
   "cell_type": "code",
   "execution_count": 0,
   "metadata": {
    "colab": {},
    "colab_type": "code",
    "id": "2fga2s8h6x80",
    "outputId": "3c6ff183-5a84-46cc-d1ab-f630d11cd23e"
   },
   "outputs": [
    {
     "name": "stdout",
     "output_type": "stream",
     "text": [
      "ABC123\n"
     ]
    }
   ],
   "source": [
    "str2 = \"ABC\\\n",
    "123\"\n",
    "print(str2)"
   ]
  },
  {
   "cell_type": "code",
   "execution_count": 0,
   "metadata": {
    "colab": {},
    "colab_type": "code",
    "id": "itgh6RJW6x84",
    "outputId": "215b188c-b833-425f-834f-918fa995d293"
   },
   "outputs": [
    {
     "name": "stdout",
     "output_type": "stream",
     "text": [
      "abc\n",
      "def\n",
      "ghi\n"
     ]
    }
   ],
   "source": [
    "str3 = '''abc\n",
    "def\n",
    "ghi'''\n",
    "print(str3)"
   ]
  },
  {
   "cell_type": "markdown",
   "metadata": {
    "colab_type": "text",
    "id": "NRoz3Y8F6x87"
   },
   "source": [
    "# 中文字編碼處理\n",
    "### Unicode 與 UTF-8、BIG-5 互轉\n",
    "\n",
    "![unicode與utf8互轉](image\\unicode_utf8.png \"Unicode與UTF-8、BIG-5互轉\")\n",
    "\n",
    "- Windows預設是 Big5，而 Linux及蘋果 iOS則是使用 UTF-8的編碼。\n",
    "- 不論是 Window、Linux或是 iOS，在 jupyter notebook的環境中編碼系統都是預設為 UTF-8。\n",
    "- Python2 有2種編碼格式，unicode與str，Python3 有2種編碼格式，分別為str與byte\n",
    "- Python3 str 相當於 Python2 unicode，Python3 byte 相當於 Python2 str。"
   ]
  },
  {
   "cell_type": "code",
   "execution_count": 0,
   "metadata": {
    "colab": {},
    "colab_type": "code",
    "id": "mZJQh-lk6x88",
    "outputId": "4e4ddb9d-0580-4a46-bb36-8ddddee4e65a"
   },
   "outputs": [
    {
     "name": "stdout",
     "output_type": "stream",
     "text": [
      "<class 'str'> 中文\n"
     ]
    }
   ],
   "source": [
    "str='中文'\n",
    "print(type(str), str)"
   ]
  },
  {
   "cell_type": "code",
   "execution_count": 0,
   "metadata": {
    "colab": {},
    "colab_type": "code",
    "id": "IDOYwK7M6x8_",
    "outputId": "afd26822-48b5-4c7d-96a1-165bd10f8592"
   },
   "outputs": [
    {
     "name": "stdout",
     "output_type": "stream",
     "text": [
      "<class 'bytes'> b'\\xe4\\xb8\\xad\\xe6\\x96\\x87'\n"
     ]
    }
   ],
   "source": [
    "#Unicode to UTF8\n",
    "str_utf8 = str.encode('utf8')\n",
    "print(type(str_utf8), str_utf8)"
   ]
  },
  {
   "cell_type": "code",
   "execution_count": 0,
   "metadata": {
    "colab": {},
    "colab_type": "code",
    "id": "IAVf8cVx6x9D",
    "outputId": "254bc1a2-58b9-4154-d277-86803021f8ad"
   },
   "outputs": [
    {
     "name": "stdout",
     "output_type": "stream",
     "text": [
      "<class 'str'> 中文\n"
     ]
    }
   ],
   "source": [
    "#UTF8 to Unicode\n",
    "str_unicode = str_utf8.decode('utf8')\n",
    "print(type(str_unicode), str_unicode)"
   ]
  },
  {
   "cell_type": "code",
   "execution_count": 0,
   "metadata": {
    "colab": {},
    "colab_type": "code",
    "id": "0wVNUQvm6x9G",
    "outputId": "cf1df6ae-e8d2-448b-f5e8-857906f1defe"
   },
   "outputs": [
    {
     "name": "stdout",
     "output_type": "stream",
     "text": [
      "<class 'str'> 中文\n"
     ]
    }
   ],
   "source": [
    "#Unicode\n",
    "str_unicode=u'中文'\n",
    "print(type(str_unicode), str_unicode)"
   ]
  },
  {
   "cell_type": "code",
   "execution_count": 0,
   "metadata": {
    "colab": {},
    "colab_type": "code",
    "id": "LeAiahtk6x9I",
    "outputId": "79d7b934-8d48-47a7-f550-e0aabb170181"
   },
   "outputs": [
    {
     "data": {
      "text/plain": [
       "b'\\xe4\\xb8\\xad\\xe6\\x96\\x87'"
      ]
     },
     "execution_count": 23,
     "metadata": {
      "tags": []
     },
     "output_type": "execute_result"
    }
   ],
   "source": [
    "#Unicode to UTF8\n",
    "str_utf8 = str_unicode.encode('utf8')\n",
    "str_utf8"
   ]
  },
  {
   "cell_type": "markdown",
   "metadata": {
    "colab_type": "text",
    "collapsed": true,
    "id": "xy0U17l26x9L"
   },
   "source": [
    "# 字串方法"
   ]
  },
  {
   "cell_type": "code",
   "execution_count": 0,
   "metadata": {
    "colab": {},
    "colab_type": "code",
    "id": "kSw-H1op6x9L",
    "outputId": "0df5ff22-e69f-4bf0-ceeb-6834c9469b12"
   },
   "outputs": [
    {
     "name": "stdout",
     "output_type": "stream",
     "text": [
      "s len = 26\n"
     ]
    }
   ],
   "source": [
    "#len(str)\n",
    "s = 'this is string example....'\n",
    "print('s len =', len(s))"
   ]
  },
  {
   "cell_type": "code",
   "execution_count": 1,
   "metadata": {
    "colab": {},
    "colab_type": "code",
    "id": "Em9ABpLO6x9O",
    "outputId": "bfc57f7f-4e85-42a9-8ca8-4b1dd8a03094",
    "scrolled": true
   },
   "outputs": [
    {
     "name": "stdout",
     "output_type": "stream",
     "text": [
      "s1 = A,b,c,d,e\n",
      "s2 = A,b,c,d,e\n",
      "s3 = A, b,c,d,e\n"
     ]
    }
   ],
   "source": [
    "#str.capitalize()\n",
    "\n",
    "s1 = 'a,B,C,D,E'\n",
    "print('s1 =', s1.capitalize())\n",
    "\n",
    "s2 = 'a,B,C,D,E'\n",
    "print('s2 =', s2.capitalize())\n",
    "\n",
    "s3 = 'a, B,C,D,E'\n",
    "print('s3 =', s3.capitalize())"
   ]
  },
  {
   "cell_type": "code",
   "execution_count": 0,
   "metadata": {
    "colab": {},
    "colab_type": "code",
    "id": "0AUMuotZ6x9R",
    "outputId": "08418a62-741f-48cf-e59b-12c22f262b25"
   },
   "outputs": [
    {
     "name": "stdout",
     "output_type": "stream",
     "text": [
      "s = ABCDEF\n"
     ]
    }
   ],
   "source": [
    "#str.upper()\n",
    "\n",
    "s = 'abcdef'\n",
    "print('s =', s.upper())"
   ]
  },
  {
   "cell_type": "code",
   "execution_count": 0,
   "metadata": {
    "colab": {},
    "colab_type": "code",
    "id": "PvIZ1JSg6x9V",
    "outputId": "ac76a070-dbce-47ab-d307-bb7a5a0df08b"
   },
   "outputs": [
    {
     "name": "stdout",
     "output_type": "stream",
     "text": [
      "s = abcdef\n"
     ]
    }
   ],
   "source": [
    "#str.lower()\n",
    "\n",
    "s = 'ABCDEF'\n",
    "print('s =', s.lower())"
   ]
  },
  {
   "cell_type": "code",
   "execution_count": 0,
   "metadata": {
    "colab": {},
    "colab_type": "code",
    "id": "KCDHQoTK6x9Y",
    "outputId": "dd411450-f292-48fd-981a-d5ecdcbc3b56"
   },
   "outputs": [
    {
     "name": "stdout",
     "output_type": "stream",
     "text": [
      "s = Abc Def Ghi\n"
     ]
    }
   ],
   "source": [
    "#str.title()\n",
    "\n",
    "s = 'abc def ghi'\n",
    "print('s =', s.title())"
   ]
  },
  {
   "cell_type": "code",
   "execution_count": 0,
   "metadata": {
    "colab": {},
    "colab_type": "code",
    "id": "7Ssnb6Uh6x9b",
    "outputId": "2cee8a31-434f-4815-a802-1550b1918bfe"
   },
   "outputs": [
    {
     "name": "stdout",
     "output_type": "stream",
     "text": [
      "s = aBc DdF gHi\n"
     ]
    }
   ],
   "source": [
    "#str.swapcase()\n",
    "\n",
    "s = 'AbC dDf GhI'\n",
    "print('s =', s.swapcase())"
   ]
  },
  {
   "cell_type": "code",
   "execution_count": 0,
   "metadata": {
    "colab": {},
    "colab_type": "code",
    "id": "Cv9t1rRK6x9g",
    "outputId": "24f4cc18-ef59-42e4-a34a-55ef511f45d3"
   },
   "outputs": [
    {
     "name": "stdout",
     "output_type": "stream",
     "text": [
      "1. s = zxy def ghi\n",
      "2. s = abc def ghi\n"
     ]
    }
   ],
   "source": [
    "# str.replace()\n",
    "\n",
    "s = 'abc def ghi'\n",
    "print('1. s =', s.replace('abc', 'zxy'))\n",
    "print('2. s =', s)"
   ]
  },
  {
   "cell_type": "code",
   "execution_count": 0,
   "metadata": {
    "colab": {},
    "colab_type": "code",
    "id": "PmS6rSRE6x9j",
    "outputId": "40179976-9c88-49ad-de41-ddbfe4096608"
   },
   "outputs": [
    {
     "name": "stdout",
     "output_type": "stream",
     "text": [
      "s = 4\n"
     ]
    }
   ],
   "source": [
    "#str.find()\n",
    "\n",
    "s = 'abc def ghi jkl'\n",
    "print('s =', s.find('def'))"
   ]
  },
  {
   "cell_type": "code",
   "execution_count": 2,
   "metadata": {},
   "outputs": [
    {
     "name": "stdout",
     "output_type": "stream",
     "text": [
      "s = -1\n"
     ]
    }
   ],
   "source": [
    "#str.find()\n",
    "\n",
    "s = 'abc def ghi jkl'\n",
    "print('s =', s.find('dfg'))\n"
   ]
  },
  {
   "cell_type": "code",
   "execution_count": 0,
   "metadata": {
    "colab": {},
    "colab_type": "code",
    "id": "GBVb8Yhy6x9r",
    "outputId": "b421c262-c09e-45cc-afbb-f2705b168aaf",
    "scrolled": true
   },
   "outputs": [
    {
     "name": "stdout",
     "output_type": "stream",
     "text": [
      "s = 8\n"
     ]
    }
   ],
   "source": [
    "#str.rfind()\n",
    "\n",
    "s = 'abc def ghi jkl'\n",
    "print('s =', s.rfind('ghi'))"
   ]
  },
  {
   "cell_type": "code",
   "execution_count": 0,
   "metadata": {
    "colab": {},
    "colab_type": "code",
    "id": "HFGkG2jH6x9t",
    "outputId": "128bdfc6-9321-4939-f99d-fcf3b2281010"
   },
   "outputs": [
    {
     "name": "stdout",
     "output_type": "stream",
     "text": [
      "s = 6\n"
     ]
    }
   ],
   "source": [
    "#str.count(sub, start= 0,end=len(string))\n",
    "\n",
    "s = 'aerfkllk hjjhgilkg yufbikjgygi xfhiihsidfg'\n",
    "print('s =', s.count('i', 0, len(s)))"
   ]
  },
  {
   "cell_type": "code",
   "execution_count": 0,
   "metadata": {
    "colab": {},
    "colab_type": "code",
    "id": "KBdJonWX6x9w",
    "outputId": "5c3f0e2b-ebe4-45e6-d504-d8b26f18bb18"
   },
   "outputs": [
    {
     "name": "stdout",
     "output_type": "stream",
     "text": [
      "s = False\n",
      "s = True\n"
     ]
    }
   ],
   "source": [
    "#str.startswith(str, beg=0, end=len(string))\n",
    "\n",
    "s = 'this is string example....'\n",
    "print('s =', s.startswith('is'))\n",
    "print('s =', s.startswith('is', 2, 8))"
   ]
  },
  {
   "cell_type": "code",
   "execution_count": 0,
   "metadata": {
    "colab": {},
    "colab_type": "code",
    "id": "ts7M3U5X6x9y",
    "outputId": "22d0c9f0-ff00-4324-bec0-155a4fce6fcf"
   },
   "outputs": [
    {
     "name": "stdout",
     "output_type": "stream",
     "text": [
      "s = False\n",
      "s = True\n",
      "pic.jpg is a pic\n"
     ]
    }
   ],
   "source": [
    "#str.endswith(suffix[, start[, end]])\n",
    "\n",
    "s = 'this is string example...'\n",
    "print('s =', s.endswith('example'))\n",
    "print('s =', s.endswith('example...'))\n",
    "\n",
    "f = 'pic.jpg'\n",
    "if f.endswith(('.gif','.jpg','.png')):\n",
    "    print('%s is a pic' %f)\n",
    "else:\n",
    "    print('%s is not a pic' %f)"
   ]
  },
  {
   "cell_type": "code",
   "execution_count": 0,
   "metadata": {
    "colab": {},
    "colab_type": "code",
    "id": "Yokw7RC-6x91",
    "outputId": "c74c982e-5726-4859-9aa5-fd139228457e"
   },
   "outputs": [
    {
     "name": "stdout",
     "output_type": "stream",
     "text": [
      "1. s = ['aerfkllk', 'hjjhgilkg', 'yufbikjgygi', 'xfhiihsidfg']\n",
      "2. s = ['aerfkl', ' hjjhgi', 'g yufbikjgygi xfhiihsidfg']\n"
     ]
    }
   ],
   "source": [
    "#str.split() --> 輸出list\n",
    "\n",
    "s = 'aerfkllk hjjhgilkg yufbikjgygi xfhiihsidfg'\n",
    "print('1. s =', s.split(' '))\n",
    "print('2. s =', s.split('lk'))"
   ]
  },
  {
   "cell_type": "code",
   "execution_count": 0,
   "metadata": {
    "colab": {},
    "colab_type": "code",
    "id": "9yYdmt2B6x94",
    "outputId": "91839bdd-57af-412f-ccd5-fe967e019cad"
   },
   "outputs": [
    {
     "name": "stdout",
     "output_type": "stream",
     "text": [
      "['ab c', '', 'de fg', 'kl']\n",
      "['ab c\\n', '\\n', 'de fg\\r', 'kl\\r\\n']\n"
     ]
    }
   ],
   "source": [
    "#str.splitlines()\n",
    "print('ab c\\n\\nde fg\\rkl\\r\\n'.splitlines())\n",
    "print('ab c\\n\\nde fg\\rkl\\r\\n'.splitlines(True))"
   ]
  },
  {
   "cell_type": "code",
   "execution_count": 0,
   "metadata": {
    "colab": {},
    "colab_type": "code",
    "id": "A5n8AdeO6x96",
    "outputId": "57aa4f22-e245-4299-caca-dd431d213734"
   },
   "outputs": [
    {
     "name": "stdout",
     "output_type": "stream",
     "text": [
      "a-b-c\n",
      "a=123&b=456&c=789\n"
     ]
    }
   ],
   "source": [
    "#str.join()\n",
    "\n",
    "s = '-'\n",
    "seq = ('a', 'b', 'c') # 字符串序列\n",
    "print(s.join( seq ))\n",
    "\n",
    "s = '&'\n",
    "seq = ['a=123', 'b=456', 'c=789'] # 字符串序列\n",
    "print(s.join( seq ))"
   ]
  },
  {
   "cell_type": "code",
   "execution_count": 0,
   "metadata": {
    "colab": {},
    "colab_type": "code",
    "id": "18XkEizA6x-A",
    "outputId": "5c9d0c87-9ff3-46b1-ce9e-8fb95dad053f"
   },
   "outputs": [
    {
     "name": "stdout",
     "output_type": "stream",
     "text": [
      "True\n",
      "True\n",
      "True\n",
      "True\n"
     ]
    }
   ],
   "source": [
    "#str.isidentifier() #判斷字串是否為內建的識別字，包括關鍵字\n",
    "\n",
    "print(\"int\".isidentifier())\n",
    "print(\"False\".isidentifier())\n",
    "print(\"for\".isidentifier())\n",
    "print(\"dict\".isidentifier())"
   ]
  },
  {
   "cell_type": "code",
   "execution_count": 0,
   "metadata": {
    "colab": {},
    "colab_type": "code",
    "id": "5E3WY1gn6x-C",
    "outputId": "faf425e4-ecac-40e6-cd65-8c40bcfc6ee8",
    "scrolled": true
   },
   "outputs": [
    {
     "name": "stdout",
     "output_type": "stream",
     "text": [
      "['False', 'None', 'True', 'and', 'as', 'assert', 'break', 'class', 'continue', 'def', 'del', 'elif', 'else', 'except', 'finally', 'for', 'from', 'global', 'if', 'import', 'in', 'is', 'lambda', 'nonlocal', 'not', 'or', 'pass', 'raise', 'return', 'try', 'while', 'with', 'yield']\n",
      "True\n",
      "False\n",
      "True\n"
     ]
    }
   ],
   "source": [
    "import keyword  #判斷字串是否為內建的關鍵字\n",
    "print(keyword.kwlist)\n",
    "print(keyword.iskeyword('for'))\n",
    "print(keyword.iskeyword('int'))\n",
    "print(keyword.iskeyword('False'))"
   ]
  },
  {
   "cell_type": "code",
   "execution_count": 0,
   "metadata": {
    "colab": {},
    "colab_type": "code",
    "id": "gGOlbI9K6x-D",
    "outputId": "7cad5120-5eb4-4454-b178-ef5b9f4aa569"
   },
   "outputs": [
    {
     "name": "stdout",
     "output_type": "stream",
     "text": [
      "True\n",
      "True\n",
      "False\n"
     ]
    }
   ],
   "source": [
    "#str.isalnum()\n",
    "\n",
    "print(\"12df\".isalnum())\n",
    "print(\"你好\".isalnum())\n",
    "print(\"[][]as\".isalnum())"
   ]
  },
  {
   "cell_type": "code",
   "execution_count": 0,
   "metadata": {
    "colab": {},
    "colab_type": "code",
    "id": "NwiSvCvj6x-F",
    "outputId": "aab71c83-2b40-418b-b918-82a1f64924ac"
   },
   "outputs": [
    {
     "name": "stdout",
     "output_type": "stream",
     "text": [
      "False\n",
      "True\n",
      "True\n"
     ]
    }
   ],
   "source": [
    "#str.isalpha()\n",
    "\n",
    "print(\"12df\".isalpha())\n",
    "print(\"else\".isalpha())\n",
    "print(\"你好\".isalpha())"
   ]
  },
  {
   "cell_type": "code",
   "execution_count": 0,
   "metadata": {
    "colab": {},
    "colab_type": "code",
    "id": "XvEQ8piv6x-L",
    "outputId": "9903801f-1ae1-4a7b-ff2f-6a3f04c8eb86"
   },
   "outputs": [
    {
     "name": "stdout",
     "output_type": "stream",
     "text": [
      "False\n",
      "True\n",
      "False\n",
      "True\n"
     ]
    }
   ],
   "source": [
    "#str.isupper()\n",
    "\n",
    "print(\"1234\".isupper())\n",
    "print(\"ABCD\".isupper())\n",
    "print(\"ABCd\".isupper())\n",
    "print(\"YES2\".isupper())"
   ]
  },
  {
   "cell_type": "code",
   "execution_count": 0,
   "metadata": {
    "colab": {},
    "colab_type": "code",
    "id": "_g-7Yi446x-O",
    "outputId": "c585249b-fd40-433a-ea74-e3bec9501f9b"
   },
   "outputs": [
    {
     "name": "stdout",
     "output_type": "stream",
     "text": [
      "False\n",
      "True\n",
      "False\n",
      "True\n"
     ]
    }
   ],
   "source": [
    "#str.islower()\n",
    "\n",
    "print(\"1234\".islower())\n",
    "print(\"abcd\".islower())\n",
    "print(\"abcD\".islower())\n",
    "print(\"yes2\".islower())"
   ]
  },
  {
   "cell_type": "code",
   "execution_count": 0,
   "metadata": {
    "colab": {},
    "colab_type": "code",
    "id": "TUxsXfIC6x-Q",
    "outputId": "4953d5aa-a1b6-4ce8-e0c6-92f376c5ba92"
   },
   "outputs": [
    {
     "name": "stdout",
     "output_type": "stream",
     "text": [
      "True\n",
      "False\n"
     ]
    }
   ],
   "source": [
    "#str.istitle()\n",
    "\n",
    "print('This Is String Example!!!'.istitle())\n",
    "print('This is string example!!!'.istitle())"
   ]
  },
  {
   "cell_type": "code",
   "execution_count": 3,
   "metadata": {
    "colab": {
     "base_uri": "https://localhost:8080/",
     "height": 85
    },
    "colab_type": "code",
    "executionInfo": {
     "elapsed": 1619,
     "status": "ok",
     "timestamp": 1584322593876,
     "user": {
      "displayName": "Amin white",
      "photoUrl": "https://lh3.googleusercontent.com/a-/AOh14GgsR-nF0JgCvO80u-Ij8bzfz7skgB0N_yqwoq_sqw=s64",
      "userId": "00587061239019234363"
     },
     "user_tz": -480
    },
    "id": "qYnjUJod6x-J",
    "outputId": "1b4b4207-9cff-44ce-e3aa-99bf2e6ba0dd"
   },
   "outputs": [
    {
     "name": "stdout",
     "output_type": "stream",
     "text": [
      "1: True\n",
      "2: True\n",
      "3: True\n",
      "4: True\n",
      "5: False\n",
      "6: False\n",
      "7: False\n",
      "8: False\n"
     ]
    }
   ],
   "source": [
    "#str.isdigit()\n",
    "#True: Unicode數字，byte數字（1byte），全形數字（2byte）\n",
    "#False: 漢字數字(一、二、三、四...)，羅馬數字(I、II、Ⅲ...),小數\n",
    "#Error: 無\n",
    "\n",
    "print(\"1:\", \"1234\".isdigit())\n",
    "print(\"2:\", \"２\".isdigit())\n",
    "print(\"3:\", b\"1\".isdigit())\n",
    "print(\"4:\", \"³\".isdigit())#次方\n",
    "print(\"5:\", \"二貳\".isdigit())\n",
    "print(\"6:\", \"1.34\".isdigit())\n",
    "print(\"7:\", \"½\".isdigit()) #U+00BD無法辨別\n",
    "print(\"8:\", \"Ⅲ\".isdigit())"
   ]
  },
  {
   "cell_type": "code",
   "execution_count": 5,
   "metadata": {},
   "outputs": [
    {
     "name": "stdout",
     "output_type": "stream",
     "text": [
      "<class 'str'> ₂\n"
     ]
    }
   ],
   "source": [
    "a = u'\\u2082'\n",
    "print(type(a), a)"
   ]
  },
  {
   "cell_type": "code",
   "execution_count": 3,
   "metadata": {},
   "outputs": [
    {
     "name": "stdout",
     "output_type": "stream",
     "text": [
      "1: True\n",
      "2: True\n",
      "3: False\n",
      "4: False\n",
      "5: False\n",
      "6: False\n",
      "7: False\n"
     ]
    },
    {
     "ename": "AttributeError",
     "evalue": "'bytes' object has no attribute 'isdecimal'",
     "output_type": "error",
     "traceback": [
      "\u001b[1;31m---------------------------------------------------------------------------\u001b[0m",
      "\u001b[1;31mAttributeError\u001b[0m                            Traceback (most recent call last)",
      "\u001b[1;32m<ipython-input-3-2dd1da7a377e>\u001b[0m in \u001b[0;36m<module>\u001b[1;34m()\u001b[0m\n\u001b[0;32m     12\u001b[0m \u001b[0mprint\u001b[0m\u001b[1;33m(\u001b[0m\u001b[1;34m\"6:\"\u001b[0m\u001b[1;33m,\u001b[0m \u001b[1;34m\"二貳\"\u001b[0m\u001b[1;33m.\u001b[0m\u001b[0misdecimal\u001b[0m\u001b[1;33m(\u001b[0m\u001b[1;33m)\u001b[0m\u001b[1;33m)\u001b[0m\u001b[1;33m\u001b[0m\u001b[0m\n\u001b[0;32m     13\u001b[0m \u001b[0mprint\u001b[0m\u001b[1;33m(\u001b[0m\u001b[1;34m\"7:\"\u001b[0m\u001b[1;33m,\u001b[0m \u001b[1;34m\"Ⅲ\"\u001b[0m\u001b[1;33m.\u001b[0m\u001b[0misdecimal\u001b[0m\u001b[1;33m(\u001b[0m\u001b[1;33m)\u001b[0m\u001b[1;33m)\u001b[0m\u001b[1;33m\u001b[0m\u001b[0m\n\u001b[1;32m---> 14\u001b[1;33m \u001b[0mprint\u001b[0m\u001b[1;33m(\u001b[0m\u001b[1;34m\"8:\"\u001b[0m\u001b[1;33m,\u001b[0m \u001b[1;34mb\"1\"\u001b[0m\u001b[1;33m.\u001b[0m\u001b[0misdecimal\u001b[0m\u001b[1;33m(\u001b[0m\u001b[1;33m)\u001b[0m\u001b[1;33m)\u001b[0m\u001b[1;33m\u001b[0m\u001b[0m\n\u001b[0m",
      "\u001b[1;31mAttributeError\u001b[0m: 'bytes' object has no attribute 'isdecimal'"
     ]
    }
   ],
   "source": [
    "#str.isdecimal()\n",
    "#檢測字串是否全為10進制數字\n",
    "#True: Unicode數字，全形數字（2byte） \n",
    "#False: 羅馬數字(I、II、Ⅲ...)，漢字數字(一、二、三、四...),小數\n",
    "#Error: byte數字（1byte）\n",
    "\n",
    "print(\"1:\", \"23443434\".isdecimal())\n",
    "print(\"2:\", \"２\".isdecimal())#全形\n",
    "print(\"3:\", \"runoob2016\".isdecimal())\n",
    "print(\"4:\", \"½\".isdecimal())\n",
    "print(\"5:\", \"³\".isdecimal())#次方\n",
    "print(\"6:\", \"二貳\".isdecimal())\n",
    "print(\"7:\", \"Ⅲ\".isdecimal())\n",
    "print(\"8:\", b\"1\".isdecimal())"
   ]
  },
  {
   "cell_type": "code",
   "execution_count": 45,
   "metadata": {
    "colab": {},
    "colab_type": "code",
    "id": "qip2PcOb6x-S",
    "outputId": "98137943-7ef3-423b-c401-1f06d07e2252"
   },
   "outputs": [
    {
     "name": "stdout",
     "output_type": "stream",
     "text": [
      "1: True\n",
      "2: True\n",
      "3: True\n",
      "4: True\n",
      "5: True\n",
      "6: True\n",
      "7: False\n"
     ]
    },
    {
     "ename": "AttributeError",
     "evalue": "'bytes' object has no attribute 'isnumeric'",
     "output_type": "error",
     "traceback": [
      "\u001b[1;31m---------------------------------------------------------------------------\u001b[0m",
      "\u001b[1;31mAttributeError\u001b[0m                            Traceback (most recent call last)",
      "\u001b[1;32m<ipython-input-45-50fcbe86a7e7>\u001b[0m in \u001b[0;36m<module>\u001b[1;34m()\u001b[0m\n\u001b[0;32m     13\u001b[0m \u001b[0mprint\u001b[0m\u001b[1;33m(\u001b[0m\u001b[1;34m\"6:\"\u001b[0m\u001b[1;33m,\u001b[0m \u001b[1;34m\"Ⅲ\"\u001b[0m\u001b[1;33m.\u001b[0m\u001b[0misnumeric\u001b[0m\u001b[1;33m(\u001b[0m\u001b[1;33m)\u001b[0m\u001b[1;33m)\u001b[0m\u001b[1;33m\u001b[0m\u001b[0m\n\u001b[0;32m     14\u001b[0m \u001b[0mprint\u001b[0m\u001b[1;33m(\u001b[0m\u001b[1;34m\"7:\"\u001b[0m\u001b[1;33m,\u001b[0m \u001b[1;34m\"1.34\"\u001b[0m\u001b[1;33m.\u001b[0m\u001b[0misnumeric\u001b[0m\u001b[1;33m(\u001b[0m\u001b[1;33m)\u001b[0m\u001b[1;33m)\u001b[0m\u001b[1;33m\u001b[0m\u001b[0m\n\u001b[1;32m---> 15\u001b[1;33m \u001b[0mprint\u001b[0m\u001b[1;33m(\u001b[0m\u001b[1;34m\"8:\"\u001b[0m\u001b[1;33m,\u001b[0m \u001b[1;34mb\"1\"\u001b[0m\u001b[1;33m.\u001b[0m\u001b[0misnumeric\u001b[0m\u001b[1;33m(\u001b[0m\u001b[1;33m)\u001b[0m\u001b[1;33m)\u001b[0m\u001b[1;33m\u001b[0m\u001b[0m\n\u001b[0m",
      "\u001b[1;31mAttributeError\u001b[0m: 'bytes' object has no attribute 'isnumeric'"
     ]
    }
   ],
   "source": [
    "#str.isnumeric()\n",
    "#檢測字串是否只由數字組成\n",
    "#True: Unicode 數字，全形數字（2byte），羅馬數字(I、II、Ⅲ...)，漢字數字(一、二、三、四...)。\n",
    "#False: 小數 \n",
    "#Error: byte數字（1byte）\n",
    "#指數類似²與分數類似½也屬於數字。\n",
    "\n",
    "print(\"1:\", \"1234\".isnumeric())\n",
    "print(\"2:\", \"２\".isnumeric())\n",
    "print(\"3:\", \"½\".isnumeric())\n",
    "print(\"4:\", \"³\".isnumeric())#次方\n",
    "print(\"5:\", \"二貳\".isnumeric())\n",
    "print(\"6:\", \"Ⅲ\".isnumeric())\n",
    "print(\"7:\", \"1.34\".isnumeric())\n",
    "print(\"8:\", b\"1\".isnumeric())"
   ]
  },
  {
   "cell_type": "code",
   "execution_count": 8,
   "metadata": {},
   "outputs": [
    {
     "name": "stdout",
     "output_type": "stream",
     "text": [
      "True\n",
      "True\n",
      "True\n",
      "True\n",
      "False\n"
     ]
    }
   ],
   "source": [
    "#s = '²3455'\n",
    "s = '\\u00B23455'\n",
    "print(s.isnumeric())\n",
    "# s = '½'\n",
    "s = '\\u00BD'\n",
    "print(s.isnumeric())\n",
    "\n",
    "a = \"\\u0030\" #unicode for 0\n",
    "print(a.isnumeric())\n",
    "\n",
    "b = \"\\u00B2\" #unicode for ²\n",
    "print(b.isnumeric())\n",
    "\n",
    "c = \"10km2\"\n",
    "print(c.isnumeric())"
   ]
  },
  {
   "cell_type": "code",
   "execution_count": 0,
   "metadata": {
    "colab": {},
    "colab_type": "code",
    "id": "DyO__eeK6x-T",
    "outputId": "a81681ce-8972-4559-fcf2-04e682d5b255"
   },
   "outputs": [
    {
     "name": "stdout",
     "output_type": "stream",
     "text": [
      "True\n",
      "False\n"
     ]
    }
   ],
   "source": [
    "#str.isspace()\n",
    "#檢測字元是否都是空白字元、\\t、\\n、\\r\n",
    "\n",
    "print(\"\\t  \".isspace())\n",
    "print(\"\\t  cc\".isspace())"
   ]
  },
  {
   "cell_type": "code",
   "execution_count": 0,
   "metadata": {
    "colab": {},
    "colab_type": "code",
    "id": "S2zVrVGX6x-V",
    "outputId": "458725b7-c492-4c82-91d6-190bbbe01d24"
   },
   "outputs": [
    {
     "name": "stdout",
     "output_type": "stream",
     "text": [
      "this is string example!!!\n",
      "this is string example!!!\n"
     ]
    }
   ],
   "source": [
    "#str.strip()\n",
    "\n",
    "s = \"     this is string example!!!     \"\n",
    "print (s.strip())\n",
    "s = \"*****this is string example!!!*****\"\n",
    "print (s.strip('*'))"
   ]
  },
  {
   "cell_type": "code",
   "execution_count": 0,
   "metadata": {
    "colab": {},
    "colab_type": "code",
    "id": "IF5Ax5kD6x-X",
    "outputId": "54e029b3-8bb1-41dd-f943-c698f3d1d44d",
    "scrolled": true
   },
   "outputs": [
    {
     "name": "stdout",
     "output_type": "stream",
     "text": [
      "this is string example!!!     \n",
      "this is string example!!!*****\n"
     ]
    }
   ],
   "source": [
    "#str.lstrip()\n",
    "\n",
    "s = \"     this is string example!!!     \"\n",
    "print (s.lstrip())\n",
    "s = \"*****this is string example!!!*****\"\n",
    "print (s.lstrip('*'))"
   ]
  },
  {
   "cell_type": "code",
   "execution_count": 0,
   "metadata": {
    "colab": {},
    "colab_type": "code",
    "id": "c_Uq26wD6x-i",
    "outputId": "d05462ee-8a92-49d9-a395-31a6389b03dd"
   },
   "outputs": [
    {
     "name": "stdout",
     "output_type": "stream",
     "text": [
      "     this is string example!!!\n",
      "*****this is string example!!!\n"
     ]
    }
   ],
   "source": [
    "#str.rstrip ()\n",
    "\n",
    "s = \"     this is string example!!!     \"\n",
    "print (s.rstrip())\n",
    "s = \"*****this is string example!!!*****\"\n",
    "print (s.rstrip('*'))"
   ]
  },
  {
   "cell_type": "code",
   "execution_count": 0,
   "metadata": {
    "colab": {},
    "colab_type": "code",
    "id": "TgGZzdEw6x-k",
    "outputId": "b0efd5ce-0b05-423d-9c59-b027fe87c786"
   },
   "outputs": [
    {
     "name": "stdout",
     "output_type": "stream",
     "text": [
      "('th', 'is', ' is string example!!!')\n",
      "('this', ' ', 'is string example!!!')\n",
      "('http://www', '.', 'google.com.tw/')\n",
      "('http://www.google.com.tw/', '', '')\n"
     ]
    }
   ],
   "source": [
    "#str.parition(sep) --> tuple\n",
    "\n",
    "s = \"this is string example!!!\"\n",
    "print(s.partition(\"is\"))\n",
    "\n",
    "s = \"this is string example!!!\"\n",
    "print(s.partition(\" \"))\n",
    "\n",
    "s = \"http://www.google.com.tw/\"\n",
    "print(s.partition(\".\"))\n",
    "\n",
    "s = \"http://www.google.com.tw/\"\n",
    "print(s.partition(\"#\"))"
   ]
  },
  {
   "cell_type": "code",
   "execution_count": 0,
   "metadata": {
    "colab": {},
    "colab_type": "code",
    "id": "jdKfTzni6x-m",
    "outputId": "1f9e05a5-58c7-47e0-b47c-79523a15ab09"
   },
   "outputs": [
    {
     "name": "stdout",
     "output_type": "stream",
     "text": [
      "*******this is string example!!!********\n"
     ]
    }
   ],
   "source": [
    "#str.center(width,[fillchar])\n",
    "\n",
    "s = \"this is string example!!!\"\n",
    "print (s.center(40, '*')) #字串總長度40"
   ]
  },
  {
   "cell_type": "code",
   "execution_count": 0,
   "metadata": {
    "colab": {},
    "colab_type": "code",
    "id": "R-ObOLeQ6x-o",
    "outputId": "5eff984d-2c64-49b2-8a0a-e55f493821e6"
   },
   "outputs": [
    {
     "name": "stdout",
     "output_type": "stream",
     "text": [
      "this is string example!!!***************\n"
     ]
    }
   ],
   "source": [
    "#str.ljust(width,[fillchar])\n",
    "\n",
    "s = \"this is string example!!!\"\n",
    "print (s.ljust(40, '*'))"
   ]
  },
  {
   "cell_type": "code",
   "execution_count": 0,
   "metadata": {
    "colab": {},
    "colab_type": "code",
    "id": "zhXSW3h36x-s",
    "outputId": "3df894b5-eb74-476c-d8a1-809b10452460"
   },
   "outputs": [
    {
     "name": "stdout",
     "output_type": "stream",
     "text": [
      "***************this is string example!!!\n"
     ]
    }
   ],
   "source": [
    "#str.rjust(width,[fillchar])\n",
    "\n",
    "s = \"this is string example!!!\"\n",
    "print (s.rjust(40, '*'))"
   ]
  },
  {
   "cell_type": "code",
   "execution_count": 0,
   "metadata": {
    "colab": {},
    "colab_type": "code",
    "id": "uGjgqJXV6x-u",
    "outputId": "6d545d90-c7a7-4231-929e-80b1b1de6d36"
   },
   "outputs": [
    {
     "name": "stdout",
     "output_type": "stream",
     "text": [
      "0this is string example!!!\n",
      "00000this is string example!!!\n",
      "this is string example!!!\n"
     ]
    }
   ],
   "source": [
    "#str.Zfill(width) 用0填滿\n",
    "\n",
    "s = \"this is string example!!!\"\n",
    "print(s.zfill(26))\n",
    "print(s.zfill(30))\n",
    "print(s.zfill(25))"
   ]
  },
  {
   "cell_type": "markdown",
   "metadata": {
    "colab_type": "text",
    "id": "lu8pJsnl6x-w"
   },
   "source": [
    "# 資料型別轉換"
   ]
  },
  {
   "cell_type": "markdown",
   "metadata": {
    "colab_type": "text",
    "id": "s6ZD_6Mp6x-x"
   },
   "source": [
    "### 字串轉整數"
   ]
  },
  {
   "cell_type": "code",
   "execution_count": 0,
   "metadata": {
    "colab": {},
    "colab_type": "code",
    "id": "CQ_mTkLi6x-y",
    "outputId": "7cf12154-378e-46ea-ad4b-49aef0352396"
   },
   "outputs": [
    {
     "data": {
      "text/plain": [
       "26"
      ]
     },
     "execution_count": 9,
     "metadata": {
      "tags": []
     },
     "output_type": "execute_result"
    }
   ],
   "source": [
    "3 + int('23')"
   ]
  },
  {
   "cell_type": "markdown",
   "metadata": {
    "colab_type": "text",
    "id": "MEpLJAqg6x-0"
   },
   "source": [
    "### 字串轉浮點數"
   ]
  },
  {
   "cell_type": "code",
   "execution_count": 0,
   "metadata": {
    "colab": {},
    "colab_type": "code",
    "id": "BiEyg3YV6x-0",
    "outputId": "0823234e-f1aa-4233-db53-35efb27d36f0"
   },
   "outputs": [
    {
     "data": {
      "text/plain": [
       "5.0"
      ]
     },
     "execution_count": 10,
     "metadata": {
      "tags": []
     },
     "output_type": "execute_result"
    }
   ],
   "source": [
    "2 + float('3')"
   ]
  },
  {
   "cell_type": "markdown",
   "metadata": {
    "colab_type": "text",
    "id": "rlBB0kBO6x-2"
   },
   "source": [
    "### 浮點數轉字串"
   ]
  },
  {
   "cell_type": "code",
   "execution_count": 0,
   "metadata": {
    "colab": {},
    "colab_type": "code",
    "id": "m5F4iugF6x-3",
    "outputId": "77960b5a-381c-4dd7-d9f9-81cdbe2ef9df",
    "scrolled": true
   },
   "outputs": [
    {
     "data": {
      "text/plain": [
       "'12.3456'"
      ]
     },
     "execution_count": 11,
     "metadata": {
      "tags": []
     },
     "output_type": "execute_result"
    }
   ],
   "source": [
    "str('12.3') + '456'"
   ]
  },
  {
   "cell_type": "markdown",
   "metadata": {},
   "source": [
    "<table width=\"900\">\n",
    "    <tr>\n",
    "        <td>\n",
    "            <font size=\"4\"><div style=\"text-align:center;\"><a href=\"#\" target=\"_blank\">本章：資料型別</a></div></font>\n",
    "        </td>\n",
    "        <td>\n",
    "            <font size=\"4\"><div style=\"text-align:right;\"><a href=\"字串格式化輸出.ipynb\" target=\"_blank\">下一章：字串格式化輸出</a></div></font>\n",
    "        </td>\n",
    "    </tr>\n",
    "</table>"
   ]
  },
  {
   "cell_type": "code",
   "execution_count": null,
   "metadata": {},
   "outputs": [],
   "source": []
  }
 ],
 "metadata": {
  "colab": {
   "collapsed_sections": [
    "I45v-A9z6x73",
    "szR3HKFC6x8w",
    "NRoz3Y8F6x87",
    "lu8pJsnl6x-w",
    "s6ZD_6Mp6x-x",
    "MEpLJAqg6x-0",
    "rlBB0kBO6x-2"
   ],
   "name": "資料型別.ipynb",
   "provenance": []
  },
  "kernelspec": {
   "display_name": "Python 3 (ipykernel)",
   "language": "python",
   "name": "python3"
  },
  "language_info": {
   "codemirror_mode": {
    "name": "ipython",
    "version": 3
   },
   "file_extension": ".py",
   "mimetype": "text/x-python",
   "name": "python",
   "nbconvert_exporter": "python",
   "pygments_lexer": "ipython3",
   "version": "3.10.9"
  }
 },
 "nbformat": 4,
 "nbformat_minor": 1
}
