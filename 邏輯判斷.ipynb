{
 "cells": [
  {
   "cell_type": "markdown",
   "metadata": {},
   "source": [
    "# if (如果…就…)\n",
    "![](image\\if.png)"
   ]
  },
  {
   "cell_type": "code",
   "execution_count": 2,
   "metadata": {},
   "outputs": [
    {
     "name": "stdout",
     "output_type": "stream",
     "text": [
      "x大於50\n",
      "執行完成\n"
     ]
    }
   ],
   "source": [
    "x = 90\n",
    "\n",
    "\n",
    "if x > 50: #有:就要縮排\n",
    "    print('x大於50')\n",
    "    \n",
    "print('執行完成')"
   ]
  },
  {
   "cell_type": "code",
   "execution_count": 3,
   "metadata": {},
   "outputs": [
    {
     "name": "stdout",
     "output_type": "stream",
     "text": [
      "執行完成\n"
     ]
    }
   ],
   "source": [
    "x = 40\n",
    "\n",
    "\n",
    "if x > 50: #有:就要縮排\n",
    "    print('x大於50')\n",
    "    \n",
    "print('執行完成')"
   ]
  },
  {
   "cell_type": "markdown",
   "metadata": {},
   "source": [
    "# if…else… (如果 ... 不然就 ...)(2選1)\n",
    "![](image\\ifelse.png)"
   ]
  },
  {
   "cell_type": "code",
   "execution_count": 4,
   "metadata": {},
   "outputs": [
    {
     "name": "stdout",
     "output_type": "stream",
     "text": [
      "A程式碼\n"
     ]
    }
   ],
   "source": [
    "x='A'\n",
    "if x=='A':  #條件成立\n",
    "    print(\"A程式碼\")\n",
    "else:      #條件不成立\n",
    "    print(\"B程式碼\")"
   ]
  },
  {
   "cell_type": "code",
   "execution_count": 5,
   "metadata": {},
   "outputs": [
    {
     "name": "stdout",
     "output_type": "stream",
     "text": [
      "B程式碼\n",
      "執行完成\n"
     ]
    }
   ],
   "source": [
    "x='C'\n",
    "if x=='A':  #條件成立\n",
    "    print(\"A程式碼\")\n",
    "else:      #條件不成立\n",
    "    print(\"B程式碼\")\n",
    "    \n",
    "print('執行完成')"
   ]
  },
  {
   "cell_type": "code",
   "execution_count": 6,
   "metadata": {},
   "outputs": [
    {
     "name": "stdout",
     "output_type": "stream",
     "text": [
      "1\n"
     ]
    }
   ],
   "source": [
    "x=60 #也可以省略else的做法\n",
    "i=2\n",
    "if x>50:\n",
    "    i=1\n",
    "print(i)"
   ]
  },
  {
   "cell_type": "code",
   "execution_count": 12,
   "metadata": {},
   "outputs": [
    {
     "name": "stdout",
     "output_type": "stream",
     "text": [
      "2\n"
     ]
    }
   ],
   "source": [
    "x=40\n",
    "i=2\n",
    "if x>50:\n",
    "    i=1\n",
    "print(i)"
   ]
  },
  {
   "cell_type": "code",
   "execution_count": 14,
   "metadata": {},
   "outputs": [
    {
     "name": "stdout",
     "output_type": "stream",
     "text": [
      "6\n",
      "他是數字\n",
      "它的範圍在2~7\n"
     ]
    }
   ],
   "source": [
    "a= input()\n",
    "if a.isdigit():\n",
    "    print('他是數字')\n",
    "    if 2<= int(a) <=7:\n",
    "        print('它的範圍在2~7')\n",
    "    else:\n",
    "        print('它的範圍不在2~7')\n",
    "else:\n",
    "    print('他不是數字')"
   ]
  },
  {
   "cell_type": "code",
   "execution_count": 2,
   "metadata": {},
   "outputs": [
    {
     "name": "stdout",
     "output_type": "stream",
     "text": [
      "請輸入2~7數字:erdezytghdf\n",
      "他不是數字\n"
     ]
    },
    {
     "ename": "ValueError",
     "evalue": "invalid literal for int() with base 10: 'erdezytghdf'",
     "output_type": "error",
     "traceback": [
      "\u001b[1;31m---------------------------------------------------------------------------\u001b[0m",
      "\u001b[1;31mValueError\u001b[0m                                Traceback (most recent call last)",
      "Cell \u001b[1;32mIn[2], line 9\u001b[0m\n\u001b[0;32m      6\u001b[0m     \u001b[38;5;28mprint\u001b[39m(\u001b[38;5;124m'\u001b[39m\u001b[38;5;124m他不是數字\u001b[39m\u001b[38;5;124m'\u001b[39m)\n\u001b[0;32m      7\u001b[0m     \u001b[38;5;66;03m#os._exit(1) #在電腦CMD可以用echo %errorlevel%去做測試，確認是否有誤\u001b[39;00m\n\u001b[1;32m----> 9\u001b[0m \u001b[38;5;28;01mif\u001b[39;00m \u001b[38;5;28;43mint\u001b[39;49m\u001b[43m(\u001b[49m\u001b[43ma\u001b[49m\u001b[43m)\u001b[49m\u001b[38;5;241m<\u001b[39m\u001b[38;5;241m2\u001b[39m \u001b[38;5;129;01mor\u001b[39;00m \u001b[38;5;28mint\u001b[39m(a) \u001b[38;5;241m>\u001b[39m \u001b[38;5;241m7\u001b[39m:\n\u001b[0;32m     10\u001b[0m     \u001b[38;5;28mprint\u001b[39m(\u001b[38;5;124m'\u001b[39m\u001b[38;5;124m它的範圍不在2~7\u001b[39m\u001b[38;5;124m'\u001b[39m)\n\u001b[0;32m     11\u001b[0m     os\u001b[38;5;241m.\u001b[39m_exit(\u001b[38;5;241m0\u001b[39m)\n",
      "\u001b[1;31mValueError\u001b[0m: invalid literal for int() with base 10: 'erdezytghdf'"
     ]
    }
   ],
   "source": [
    "import os\n",
    "\n",
    "a = input('請輸入2~7數字:')\n",
    "\n",
    "if not a.isdigit(): #5~7就是上面的2,8,9行，先考慮不是整數的，若不是直接先跳出來\n",
    "    print('他不是數字')\n",
    "    #os._exit(1) #在電腦CMD可以用echo %errorlevel%去做測試，確認是否有誤\n",
    "    \n",
    "if int(a)<2 or int(a) > 7:\n",
    "    print('它的範圍不在2~7')\n",
    "    os._exit(0)\n",
    "\n",
    "print(int(a) + 9)"
   ]
  },
  {
   "cell_type": "code",
   "execution_count": 7,
   "metadata": {},
   "outputs": [
    {
     "name": "stdout",
     "output_type": "stream",
     "text": [
      "File `1.py` exists. Overwrite (y/[N])?  y\n",
      "The following commands were written to file `1.py`:\n",
      "import os\n",
      "\n",
      "a = input('請輸入2~7數字:')\n",
      "\n",
      "if not a.isdigit(): #5~7就是上面的2,8,9行，先考慮不是整數的，若不是直接先跳出來\n",
      "    print('他不是數字')\n",
      "    os._exit(1)\n",
      "    \n",
      "if int(a)<2 or int(a) > 7:\n",
      "    print('它的範圍不在2~7')\n",
      "    os._exit(0)\n",
      "\n",
      "print(int(a) + 9)\n"
     ]
    }
   ],
   "source": [
    "%save 1.py 5 #後面的1是IN[]裡面的數字"
   ]
  },
  {
   "cell_type": "markdown",
   "metadata": {},
   "source": [
    "## 三元運算式 ( 條件運算式 ) \n",
    "#### if ... else ... 單行寫法\n",
    "- 變數 = 值1 if 條件式 else 值2"
   ]
  },
  {
   "cell_type": "code",
   "execution_count": 3,
   "metadata": {},
   "outputs": [
    {
     "name": "stdout",
     "output_type": "stream",
     "text": [
      "A程式碼\n"
     ]
    }
   ],
   "source": [
    "x='A'\n",
    "print(\"A程式碼\") if x=='A' else print(\"B程式碼\")"
   ]
  },
  {
   "cell_type": "markdown",
   "metadata": {},
   "source": [
    "# if…elif...else… (如果 ... 不然就 ... 再不然...)(多選1)\n",
    "![](image\\ifelifelse.png)"
   ]
  },
  {
   "cell_type": "code",
   "execution_count": 4,
   "metadata": {},
   "outputs": [
    {
     "name": "stdout",
     "output_type": "stream",
     "text": [
      "2\n"
     ]
    }
   ],
   "source": [
    "x = 90\n",
    "if x > 100:\n",
    "    i = 1\n",
    "elif x > 50:\n",
    "    i = 2\n",
    "else:\n",
    "    i = 3\n",
    "print(i)"
   ]
  },
  {
   "cell_type": "code",
   "execution_count": 6,
   "metadata": {},
   "outputs": [
    {
     "name": "stdout",
     "output_type": "stream",
     "text": [
      "2\n"
     ]
    }
   ],
   "source": [
    "x = 100\n",
    "if x > 100:\n",
    "    i = 1\n",
    "elif x > 50:\n",
    "    i = 2\n",
    "else:\n",
    "    i = 3\n",
    "print(i)"
   ]
  },
  {
   "cell_type": "markdown",
   "metadata": {},
   "source": [
    "### if ... elif ... else ... 單行寫法"
   ]
  },
  {
   "cell_type": "code",
   "execution_count": null,
   "metadata": {},
   "outputs": [],
   "source": [
    "x='A'\n",
    "i = 1 if x > 100 else x > 50 2 else 3"
   ]
  },
  {
   "cell_type": "markdown",
   "metadata": {},
   "source": [
    "# 3.10 新增match-case"
   ]
  },
  {
   "cell_type": "code",
   "execution_count": 8,
   "metadata": {},
   "outputs": [],
   "source": [
    "def http_error(status):\n",
    "    if status == 400:\n",
    "        return 'Bad request'\n",
    "    elif status == 401:\n",
    "        return 'Unauthorized'\n",
    "    elif status == 403:\n",
    "        return 'Forbidden'\n",
    "    elif status == 404:\n",
    "        return 'Not found'\n",
    "    else:\n",
    "        return 'Unknown status code'"
   ]
  },
  {
   "cell_type": "code",
   "execution_count": null,
   "metadata": {},
   "outputs": [],
   "source": [
    "def http_error(status):\n",
    "    match status:\n",
    "        case 400:\n",
    "            return 'Bad request'\n",
    "        case 401:\n",
    "            return 'Unauthorized'\n",
    "        case 403:\n",
    "            return 'Forbidden'\n",
    "        case 404:\n",
    "            return 'Not found'\n",
    "        case _:\n",
    "            return 'Unknown status code'"
   ]
  },
  {
   "cell_type": "code",
   "execution_count": 9,
   "metadata": {},
   "outputs": [
    {
     "name": "stdout",
     "output_type": "stream",
     "text": [
      "播放向右動畫\n"
     ]
    }
   ],
   "source": [
    "STOP = 0\n",
    "RIGHT = 1\n",
    "LEFT = 2\n",
    "UP = 3\n",
    "DOWN = 4\n",
    "\n",
    "action = RIGHT\n",
    "\n",
    "match action:\n",
    "    case 0:\n",
    "        print('播放停止動畫')\n",
    "    case 1:\n",
    "        print('播放向右動畫')\n",
    "    case 2:\n",
    "        print('播放向左動畫')\n",
    "    case 3:\n",
    "        print('播放向上動畫')\n",
    "    case 4:\n",
    "        print('播放向下動畫')\n",
    "    case _:  #_ 是個萬用模式（wildcard pattern）\n",
    "        print('不支援此動作')"
   ]
  },
  {
   "cell_type": "code",
   "execution_count": 12,
   "metadata": {},
   "outputs": [
    {
     "data": {
      "text/plain": [
       "'A'"
      ]
     },
     "execution_count": 12,
     "metadata": {},
     "output_type": "execute_result"
    }
   ],
   "source": [
    "d = {1:'A',2:'B',3:'C',4:'D'}\n",
    "\n",
    "d[1]"
   ]
  },
  {
   "cell_type": "code",
   "execution_count": null,
   "metadata": {},
   "outputs": [],
   "source": []
  }
 ],
 "metadata": {
  "kernelspec": {
   "display_name": "Python 3 (ipykernel)",
   "language": "python",
   "name": "python3"
  },
  "language_info": {
   "codemirror_mode": {
    "name": "ipython",
    "version": 3
   },
   "file_extension": ".py",
   "mimetype": "text/x-python",
   "name": "python",
   "nbconvert_exporter": "python",
   "pygments_lexer": "ipython3",
   "version": "3.10.9"
  }
 },
 "nbformat": 4,
 "nbformat_minor": 2
}
