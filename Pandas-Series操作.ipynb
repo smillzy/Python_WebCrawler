{
 "cells": [
  {
   "cell_type": "markdown",
   "id": "d3d5372a",
   "metadata": {},
   "source": [
    "# Series\n",
    "![](image\\index.png)\n",
    "\n",
    "#### 範圍取值 方法1：df [起點取：結束點不取]\n",
    "#### 範圍取值 方法2：df [起點取：起點取 +取個數]"
   ]
  },
  {
   "cell_type": "markdown",
   "id": "1558b1ec",
   "metadata": {},
   "source": [
    "# 1. 產生Series"
   ]
  },
  {
   "cell_type": "markdown",
   "id": "af517386",
   "metadata": {},
   "source": [
    "### list產生Series"
   ]
  },
  {
   "cell_type": "code",
   "execution_count": 4,
   "id": "da7d5557",
   "metadata": {},
   "outputs": [
    {
     "data": {
      "text/plain": [
       "(RangeIndex(start=0, stop=9, step=1),\n",
       " array([1, 2, 3, 4, 5, 6, 7, 8, 9], dtype=int64))"
      ]
     },
     "execution_count": 4,
     "metadata": {},
     "output_type": "execute_result"
    }
   ],
   "source": [
    "import pandas as pd\n",
    "s = pd.Series([1,2,3,4,5,6,7,8,9])\n",
    "s.index, s.values"
   ]
  },
  {
   "cell_type": "code",
   "execution_count": 6,
   "id": "0e3b3463",
   "metadata": {},
   "outputs": [
    {
     "data": {
      "text/plain": [
       "0     1\n",
       "2     2\n",
       "4     3\n",
       "6     4\n",
       "8     5\n",
       "10    6\n",
       "12    7\n",
       "14    8\n",
       "16    9\n",
       "dtype: int64"
      ]
     },
     "execution_count": 6,
     "metadata": {},
     "output_type": "execute_result"
    }
   ],
   "source": [
    "s.index = list(range(0,18,2)) #索引可以改\n",
    "s"
   ]
  },
  {
   "cell_type": "code",
   "execution_count": 11,
   "id": "04401005",
   "metadata": {},
   "outputs": [
    {
     "name": "stdout",
     "output_type": "stream",
     "text": [
      "shape: (9,)\n",
      "size: 9\n",
      "ndim: 1\n",
      "dtype: int64\n",
      "value_counts: 1    1\n",
      "2    1\n",
      "3    1\n",
      "4    1\n",
      "5    1\n",
      "6    1\n",
      "7    1\n",
      "8    1\n",
      "9    1\n",
      "dtype: int64\n"
     ]
    }
   ],
   "source": [
    "print('shape:',s.shape)#(row,colum)(行,列)\n",
    "print('size:',s.size)\n",
    "print('ndim:',s.ndim)\n",
    "print('dtype:',s.dtype)\n",
    "print('value_counts:',s.value_counts()) #統計values中每一個出現元素出現的次數或頻率"
   ]
  },
  {
   "cell_type": "code",
   "execution_count": 10,
   "id": "3ebb7baf",
   "metadata": {},
   "outputs": [
    {
     "data": {
      "text/html": [
       "<div>\n",
       "<style scoped>\n",
       "    .dataframe tbody tr th:only-of-type {\n",
       "        vertical-align: middle;\n",
       "    }\n",
       "\n",
       "    .dataframe tbody tr th {\n",
       "        vertical-align: top;\n",
       "    }\n",
       "\n",
       "    .dataframe thead th {\n",
       "        text-align: right;\n",
       "    }\n",
       "</style>\n",
       "<table border=\"1\" class=\"dataframe\">\n",
       "  <thead>\n",
       "    <tr style=\"text-align: right;\">\n",
       "      <th></th>\n",
       "      <th>0</th>\n",
       "    </tr>\n",
       "  </thead>\n",
       "  <tbody>\n",
       "    <tr>\n",
       "      <th>0</th>\n",
       "      <td>1</td>\n",
       "    </tr>\n",
       "    <tr>\n",
       "      <th>2</th>\n",
       "      <td>2</td>\n",
       "    </tr>\n",
       "    <tr>\n",
       "      <th>4</th>\n",
       "      <td>3</td>\n",
       "    </tr>\n",
       "    <tr>\n",
       "      <th>6</th>\n",
       "      <td>4</td>\n",
       "    </tr>\n",
       "    <tr>\n",
       "      <th>8</th>\n",
       "      <td>5</td>\n",
       "    </tr>\n",
       "    <tr>\n",
       "      <th>10</th>\n",
       "      <td>6</td>\n",
       "    </tr>\n",
       "    <tr>\n",
       "      <th>12</th>\n",
       "      <td>7</td>\n",
       "    </tr>\n",
       "    <tr>\n",
       "      <th>14</th>\n",
       "      <td>8</td>\n",
       "    </tr>\n",
       "    <tr>\n",
       "      <th>16</th>\n",
       "      <td>9</td>\n",
       "    </tr>\n",
       "  </tbody>\n",
       "</table>\n",
       "</div>"
      ],
      "text/plain": [
       "    0\n",
       "0   1\n",
       "2   2\n",
       "4   3\n",
       "6   4\n",
       "8   5\n",
       "10  6\n",
       "12  7\n",
       "14  8\n",
       "16  9"
      ]
     },
     "execution_count": 10,
     "metadata": {},
     "output_type": "execute_result"
    }
   ],
   "source": [
    "s.to_frame()"
   ]
  },
  {
   "cell_type": "code",
   "execution_count": 1,
   "id": "318fa1bb",
   "metadata": {},
   "outputs": [
    {
     "name": "stdout",
     "output_type": "stream",
     "text": [
      "1    2\n",
      "2    5\n",
      "3    8\n",
      "4    2\n",
      "5    4\n",
      "6    8\n",
      "7    0\n",
      "8    2\n",
      "9    8\n",
      "dtype: object\n"
     ]
    }
   ],
   "source": [
    "import pandas as pd\n",
    "import numpy as np\n",
    "\n",
    "l = [chr(np.random.randint(48, 57)) for _ in range(9)]#http://shihyu.github.io/books/apas01.html\n",
    "s = pd.Series(l, index = range(1, 10))\n",
    "print(s)"
   ]
  },
  {
   "cell_type": "markdown",
   "id": "9e8b3bf1",
   "metadata": {},
   "source": [
    "### tuple產生Series"
   ]
  },
  {
   "cell_type": "code",
   "execution_count": 2,
   "id": "2d4031ef",
   "metadata": {},
   "outputs": [
    {
     "name": "stdout",
     "output_type": "stream",
     "text": [
      "0    c\n",
      "1    n\n",
      "2    k\n",
      "3    r\n",
      "4    i\n",
      "5    v\n",
      "6    b\n",
      "7    p\n",
      "8    u\n",
      "dtype: object\n"
     ]
    }
   ],
   "source": [
    "import pandas as pd\n",
    "import numpy as np\n",
    "\n",
    "t = (chr(np.random.randint(97, 122)) for _ in range(9))\n",
    "s = pd.Series(t)\n",
    "print(s)"
   ]
  },
  {
   "cell_type": "markdown",
   "id": "7fbe0104",
   "metadata": {},
   "source": [
    "### dict產生Series：dict的Key是唯一值，若有相同Key，value將被覆蓋。"
   ]
  },
  {
   "cell_type": "code",
   "execution_count": 6,
   "id": "03eb094a",
   "metadata": {},
   "outputs": [
    {
     "name": "stdout",
     "output_type": "stream",
     "text": [
      "n    5\n",
      "z    4\n",
      "p    6\n",
      "b    6\n",
      "e    0\n",
      "k    1\n",
      "l    9\n",
      "t    9\n",
      "dtype: object\n"
     ]
    }
   ],
   "source": [
    "import pandas as pd\n",
    "import numpy as np\n",
    "\n",
    "d = dict([(chr(np.random.randint(97, 123)), chr(np.random.randint(48, 58))) for _ in range(9)])\n",
    "s = pd.Series(d)\n",
    "print(s) #dict的key是唯一，K2會覆蓋K1"
   ]
  },
  {
   "cell_type": "markdown",
   "id": "94ded928",
   "metadata": {},
   "source": [
    "### Array產生Series"
   ]
  },
  {
   "cell_type": "code",
   "execution_count": 12,
   "id": "961d1c55",
   "metadata": {},
   "outputs": [
    {
     "name": "stdout",
     "output_type": "stream",
     "text": [
      "10    108\n",
      "11    117\n",
      "12     98\n",
      "13    111\n",
      "14    112\n",
      "15    100\n",
      "16    114\n",
      "17    107\n",
      "18    106\n",
      "dtype: int32\n"
     ]
    }
   ],
   "source": [
    "import pandas as pd\n",
    "import numpy as np\n",
    "\n",
    "a = np.array(np.random.randint(97, 122, size = 9))\n",
    "s = pd.Series(a, index = range(10, 19))\n",
    "print(s)"
   ]
  },
  {
   "cell_type": "markdown",
   "id": "838779ae",
   "metadata": {},
   "source": [
    "### Range產生Series"
   ]
  },
  {
   "cell_type": "code",
   "execution_count": 8,
   "id": "5fc0cd0b",
   "metadata": {},
   "outputs": [
    {
     "data": {
      "text/plain": [
       "1     3\n",
       "2     7\n",
       "3    11\n",
       "4    15\n",
       "dtype: int64"
      ]
     },
     "execution_count": 8,
     "metadata": {},
     "output_type": "execute_result"
    }
   ],
   "source": [
    "s1 = pd.Series([1,3,5,7],index=list(\"1234\"))\n",
    "s2 = pd.Series([2,4,6,8],index=list(\"1234\"))\n",
    "s1 + s2 #相加"
   ]
  },
  {
   "cell_type": "code",
   "execution_count": 10,
   "id": "425732a2",
   "metadata": {},
   "outputs": [
    {
     "data": {
      "text/plain": [
       "1     3.0\n",
       "2     7.0\n",
       "3     NaN\n",
       "4    13.0\n",
       "6     NaN\n",
       "dtype: float64"
      ]
     },
     "execution_count": 10,
     "metadata": {},
     "output_type": "execute_result"
    }
   ],
   "source": [
    "s1 = pd.Series([1,3,5,7],index=list(\"1234\"))\n",
    "s2 = pd.Series([2,4,6,8],index=list(\"1246\"))\n",
    "s1 + s2 "
   ]
  },
  {
   "cell_type": "code",
   "execution_count": 11,
   "id": "35cdf710",
   "metadata": {},
   "outputs": [
    {
     "data": {
      "text/plain": [
       "1     3.0\n",
       "2     7.0\n",
       "3     NaN\n",
       "4    13.0\n",
       "6     NaN\n",
       "dtype: float64"
      ]
     },
     "execution_count": 11,
     "metadata": {},
     "output_type": "execute_result"
    }
   ],
   "source": [
    "s1.add(s2)"
   ]
  },
  {
   "cell_type": "code",
   "execution_count": 12,
   "id": "14be4a43",
   "metadata": {},
   "outputs": [
    {
     "data": {
      "text/plain": [
       "1    1\n",
       "2    3\n",
       "3    5\n",
       "4    7\n",
       "dtype: int64"
      ]
     },
     "execution_count": 12,
     "metadata": {},
     "output_type": "execute_result"
    }
   ],
   "source": [
    "s1 #沒有複寫回去，值就不會變"
   ]
  },
  {
   "cell_type": "code",
   "execution_count": 2,
   "id": "51b3a3d0",
   "metadata": {},
   "outputs": [
    {
     "name": "stdout",
     "output_type": "stream",
     "text": [
      "a    0\n",
      "b    1\n",
      "c    2\n",
      "d    3\n",
      "e    4\n",
      "dtype: int32\n",
      "\n",
      "a    0\n",
      "d    1\n",
      "c    2\n",
      "b    3\n",
      "e    4\n",
      "f    5\n",
      "dtype: int32\n"
     ]
    }
   ],
   "source": [
    "import pandas as pd\n",
    "import numpy as np\n",
    "\n",
    "s1 = pd.Series(np.arange(5),index=list(\"abcde\"))\n",
    "s2 = pd.Series(np.arange(6),index=list(\"adcbef\"))\n",
    "print(s1)\n",
    "print()\n",
    "print(s2)"
   ]
  },
  {
   "cell_type": "code",
   "execution_count": 3,
   "id": "25c43009",
   "metadata": {},
   "outputs": [
    {
     "data": {
      "text/plain": [
       "a    0.0\n",
       "b    4.0\n",
       "c    4.0\n",
       "d    4.0\n",
       "e    8.0\n",
       "f    5.0\n",
       "dtype: float64"
      ]
     },
     "execution_count": 3,
     "metadata": {},
     "output_type": "execute_result"
    }
   ],
   "source": [
    "s3 = s1.add(s2, fill_value=0)#相加\n",
    "s3"
   ]
  },
  {
   "cell_type": "code",
   "execution_count": 4,
   "id": "84d134c7",
   "metadata": {},
   "outputs": [
    {
     "data": {
      "text/plain": [
       "a    0.0\n",
       "b   -2.0\n",
       "c    0.0\n",
       "d    2.0\n",
       "e    0.0\n",
       "f   -5.0\n",
       "dtype: float64"
      ]
     },
     "execution_count": 4,
     "metadata": {},
     "output_type": "execute_result"
    }
   ],
   "source": [
    "s3 = s1.sub(s2, fill_value=0)#相減\n",
    "s3"
   ]
  },
  {
   "cell_type": "markdown",
   "id": "f4aa3055",
   "metadata": {},
   "source": [
    "# 2. Series增加元素"
   ]
  },
  {
   "cell_type": "code",
   "execution_count": 9,
   "id": "5a50f74a",
   "metadata": {},
   "outputs": [
    {
     "name": "stdout",
     "output_type": "stream",
     "text": [
      "0     7\n",
      "1     7\n",
      "2     8\n",
      "3    17\n",
      "4    25\n",
      "dtype: int32\n",
      "\n",
      "0     7\n",
      "1     7\n",
      "2     8\n",
      "3    17\n",
      "4    25\n",
      "5    30\n",
      "6    22\n",
      "7    35\n",
      "dtype: int64\n",
      "\n",
      "0     7\n",
      "1     7\n",
      "2     8\n",
      "3    17\n",
      "4    25\n",
      "dtype: int32\n"
     ]
    },
    {
     "name": "stderr",
     "output_type": "stream",
     "text": [
      "C:\\Users\\Lo yuan\\AppData\\Local\\Temp\\ipykernel_4656\\968584023.py:8: FutureWarning: The series.append method is deprecated and will be removed from pandas in a future version. Use pandas.concat instead.\n",
      "  print(s.append(pd.Series({8:30, 10:22, 13:35}), ignore_index = True))\n"
     ]
    }
   ],
   "source": [
    "#注意：Series 以 append 添加的項目不會改變原本 Series 的內容，而是產生新的Series。pd 2.0.3不支援\n",
    "import pandas as pd\n",
    "import numpy as np\n",
    "\n",
    "s = pd.Series(np.random.randint(30, size = 5))\n",
    "print(s)\n",
    "print()\n",
    "print(s.append(pd.Series({8:30, 10:22, 13:35}), ignore_index = True))\n",
    "print()\n",
    "print(s)"
   ]
  },
  {
   "cell_type": "code",
   "execution_count": 8,
   "id": "9750ac2d",
   "metadata": {},
   "outputs": [
    {
     "data": {
      "text/plain": [
       "'1.5.3'"
      ]
     },
     "execution_count": 8,
     "metadata": {},
     "output_type": "execute_result"
    }
   ],
   "source": [
    "pd.__version__"
   ]
  },
  {
   "cell_type": "markdown",
   "id": "9cbe976c",
   "metadata": {},
   "source": [
    "# 3. Series改變元素"
   ]
  },
  {
   "cell_type": "markdown",
   "id": "98bbdcaf",
   "metadata": {},
   "source": [
    "### 修改單一位置元素。"
   ]
  },
  {
   "cell_type": "code",
   "execution_count": 12,
   "id": "c126a5dc",
   "metadata": {},
   "outputs": [
    {
     "name": "stdout",
     "output_type": "stream",
     "text": [
      "0    26\n",
      "1    21\n",
      "2    26\n",
      "3    13\n",
      "4    20\n",
      "dtype: int32\n",
      "\n",
      "0    26\n",
      "1    21\n",
      "2    26\n",
      "3    50\n",
      "4    20\n",
      "dtype: int32\n"
     ]
    }
   ],
   "source": [
    "import pandas as pd\n",
    "import numpy as np\n",
    "\n",
    "s = pd.Series(np.random.randint(30, size = 5))\n",
    "print(s)\n",
    "print()\n",
    "s[3] = 50\n",
    "print(s)"
   ]
  },
  {
   "cell_type": "markdown",
   "id": "7d062e40",
   "metadata": {},
   "source": [
    "### 修改範圍的元素。"
   ]
  },
  {
   "cell_type": "code",
   "execution_count": 13,
   "id": "06e7c977",
   "metadata": {},
   "outputs": [
    {
     "name": "stdout",
     "output_type": "stream",
     "text": [
      "0     1\n",
      "1     2\n",
      "2     8\n",
      "3    15\n",
      "4     7\n",
      "dtype: int32\n",
      "\n",
      "0     1\n",
      "1     2\n",
      "2     8\n",
      "3    30\n",
      "4    30\n",
      "dtype: int32\n"
     ]
    }
   ],
   "source": [
    "import pandas as pd\n",
    "import numpy as np\n",
    "\n",
    "s = pd.Series(np.random.randint(30, size = 5))\n",
    "print(s)\n",
    "print()\n",
    "s[3:] = 30 #大範圍修改\n",
    "print(s)"
   ]
  },
  {
   "cell_type": "markdown",
   "id": "d85f7646",
   "metadata": {},
   "source": [
    "# 4. Series刪除元素"
   ]
  },
  {
   "cell_type": "markdown",
   "id": "cfc7157d",
   "metadata": {},
   "source": [
    "### 刪除一個元素。"
   ]
  },
  {
   "cell_type": "code",
   "execution_count": 14,
   "id": "1280b15a",
   "metadata": {},
   "outputs": [
    {
     "name": "stdout",
     "output_type": "stream",
     "text": [
      "0    11\n",
      "1     1\n",
      "2    25\n",
      "3    26\n",
      "4    27\n",
      "5     7\n",
      "6    26\n",
      "7    13\n",
      "8     3\n",
      "dtype: int32\n",
      "\n",
      "0    11\n",
      "1     1\n",
      "2    25\n",
      "4    27\n",
      "5     7\n",
      "6    26\n",
      "7    13\n",
      "8     3\n",
      "dtype: int32\n"
     ]
    }
   ],
   "source": [
    "import pandas as pd\n",
    "import numpy as np\n",
    "\n",
    "s = pd.Series(np.random.randint(30, size = 9))\n",
    "print(s)\n",
    "print()\n",
    "s = s.drop(3) #要複寫回去s = .... or s.drop(3,inplace = True)\n",
    "print(s)"
   ]
  },
  {
   "cell_type": "markdown",
   "id": "92206a47",
   "metadata": {},
   "source": [
    "### 以List同時刪除多個元素。"
   ]
  },
  {
   "cell_type": "code",
   "execution_count": 3,
   "id": "3905b277",
   "metadata": {},
   "outputs": [
    {
     "name": "stdout",
     "output_type": "stream",
     "text": [
      "0    14\n",
      "1    12\n",
      "2    18\n",
      "3     4\n",
      "4    27\n",
      "5    14\n",
      "6    26\n",
      "7    19\n",
      "8    27\n",
      "dtype: int32\n",
      "\n",
      "0    14\n",
      "2    18\n",
      "4    27\n",
      "6    26\n",
      "7    19\n",
      "8    27\n",
      "dtype: int32\n"
     ]
    }
   ],
   "source": [
    "import pandas as pd\n",
    "import numpy as np\n",
    "\n",
    "s = pd.Series(np.random.randint(30, size = 9))\n",
    "print(s)\n",
    "print()\n",
    "s = s.drop([1, 3, 5])\n",
    "print(s)"
   ]
  },
  {
   "cell_type": "markdown",
   "id": "31bb209c",
   "metadata": {},
   "source": [
    "### 以Range同時刪除多個元素。"
   ]
  },
  {
   "cell_type": "code",
   "execution_count": 16,
   "id": "ab362f6a",
   "metadata": {},
   "outputs": [
    {
     "name": "stdout",
     "output_type": "stream",
     "text": [
      "0    27\n",
      "1    25\n",
      "2    27\n",
      "3    25\n",
      "4     2\n",
      "5    15\n",
      "6    19\n",
      "7     8\n",
      "8    18\n",
      "dtype: int32\n",
      "\n",
      "0    27\n",
      "2    27\n",
      "4     2\n",
      "6    19\n",
      "8    18\n",
      "dtype: int32\n"
     ]
    }
   ],
   "source": [
    "import pandas as pd\n",
    "import numpy as np\n",
    "\n",
    "s = pd.Series(np.random.randint(30, size = 9))\n",
    "print(s)\n",
    "print()\n",
    "s = s.drop(range(1, 9, 2)) #1~9間格為2\n",
    "print(s)"
   ]
  },
  {
   "cell_type": "markdown",
   "id": "7c775c1c",
   "metadata": {},
   "source": [
    "# 5. Series查詢元素"
   ]
  },
  {
   "cell_type": "code",
   "execution_count": 15,
   "id": "439590e8",
   "metadata": {},
   "outputs": [
    {
     "name": "stdout",
     "output_type": "stream",
     "text": [
      "0     6\n",
      "1    21\n",
      "2    17\n",
      "3    27\n",
      "4    21\n",
      "5    21\n",
      "6    10\n",
      "7    10\n",
      "8    11\n",
      "dtype: int32\n",
      "\n",
      "21\n",
      "\n",
      "1    21\n",
      "3    27\n",
      "5    21\n",
      "7    10\n",
      "dtype: int32\n",
      "\n",
      "1    21\n",
      "3    27\n",
      "5    21\n",
      "7    10\n",
      "dtype: int32\n"
     ]
    }
   ],
   "source": [
    "import pandas as pd\n",
    "import numpy as np\n",
    "\n",
    "s = pd.Series(np.random.randint(30, size = 9))\n",
    "print(s)\n",
    "print()\n",
    "print(s[5]) #取出5\n",
    "print()\n",
    "print(s[1:9:2])\n",
    "print()\n",
    "print(s[list(range(1, 9, 2))])"
   ]
  },
  {
   "cell_type": "code",
   "execution_count": 8,
   "id": "4076be9f",
   "metadata": {},
   "outputs": [
    {
     "name": "stdout",
     "output_type": "stream",
     "text": [
      "0 3\n",
      "2 3\n",
      "9 7\n"
     ]
    }
   ],
   "source": [
    "#s[s<15]\n",
    "\n",
    "for idx, i in enumerate(s):\n",
    "    if i <15:\n",
    "        print(idx, i)"
   ]
  },
  {
   "cell_type": "code",
   "execution_count": 17,
   "id": "ed83da15",
   "metadata": {},
   "outputs": [
    {
     "data": {
      "text/plain": [
       "1    3\n",
       "6    9\n",
       "dtype: int32"
      ]
     },
     "execution_count": 17,
     "metadata": {},
     "output_type": "execute_result"
    }
   ],
   "source": [
    "s[s<15] #資料篩選"
   ]
  },
  {
   "cell_type": "code",
   "execution_count": 16,
   "id": "769e70e2",
   "metadata": {},
   "outputs": [
    {
     "data": {
      "text/plain": [
       "[False, True, False, False, False, False, True, False, False, False]"
      ]
     },
     "execution_count": 16,
     "metadata": {},
     "output_type": "execute_result"
    }
   ],
   "source": [
    "l = []\n",
    "for i in s.values:\n",
    "    l.append(i<15)\n",
    "l        "
   ]
  },
  {
   "cell_type": "code",
   "execution_count": 19,
   "id": "21292a21",
   "metadata": {},
   "outputs": [
    {
     "data": {
      "text/plain": [
       "0    16\n",
       "dtype: int32"
      ]
     },
     "execution_count": 19,
     "metadata": {},
     "output_type": "execute_result"
    }
   ],
   "source": [
    "s[(10<s) & (s<20)]"
   ]
  },
  {
   "cell_type": "code",
   "execution_count": 20,
   "id": "e250032f",
   "metadata": {},
   "outputs": [
    {
     "data": {
      "text/plain": [
       "5    23\n",
       "6     9\n",
       "dtype: int32"
      ]
     },
     "execution_count": 20,
     "metadata": {},
     "output_type": "execute_result"
    }
   ],
   "source": [
    "s[2:7][s<30]"
   ]
  },
  {
   "cell_type": "code",
   "execution_count": 13,
   "id": "c599ce74",
   "metadata": {},
   "outputs": [
    {
     "name": "stdout",
     "output_type": "stream",
     "text": [
      "s ------------------------------\n",
      "0    16\n",
      "1     3\n",
      "2    33\n",
      "3    42\n",
      "4    41\n",
      "5    23\n",
      "6     9\n",
      "7    30\n",
      "8    29\n",
      "9    46\n",
      "dtype: int32\n",
      "\n",
      "s[s<15] ------------------------------\n",
      "1    3\n",
      "6    9\n",
      "dtype: int32\n",
      "\n",
      "s[(10 < s) & (s < 20)] ------------------------------\n",
      "0    16\n",
      "dtype: int32\n",
      "\n",
      "s[2:7][s<30] ------------------------------\n",
      "5    23\n",
      "6     9\n",
      "dtype: int32\n"
     ]
    }
   ],
   "source": [
    "import pandas as pd\n",
    "import numpy as np\n",
    "\n",
    "size = 10\n",
    "count = 30\n",
    "s = pd.Series(np.random.randint(50, size = size))\n",
    "print(\"s\", \"-\" * count)\n",
    "print(s)\n",
    "print()\n",
    "print(\"s[s<15]\", \"-\" * count)\n",
    "print(s[s<15])\n",
    "print()\n",
    "print(\"s[(10 < s) & (s < 20)]\", \"-\" * count)\n",
    "print(s[(10 < s) & (s < 20)])\n",
    "print()\n",
    "print(\"s[2:7][s<30]\", \"-\" * count)\n",
    "print(s[2:7][s<30])"
   ]
  },
  {
   "cell_type": "code",
   "execution_count": 26,
   "id": "2034236e",
   "metadata": {},
   "outputs": [
    {
     "data": {
      "text/plain": [
       "a    16\n",
       "b     3\n",
       "c    33\n",
       "d    42\n",
       "e    41\n",
       "f    23\n",
       "g     9\n",
       "h    30\n",
       "i    29\n",
       "j    46\n",
       "dtype: int32"
      ]
     },
     "execution_count": 26,
     "metadata": {},
     "output_type": "execute_result"
    }
   ],
   "source": [
    "s.index = list('abcdefghij')\n",
    "s"
   ]
  },
  {
   "cell_type": "code",
   "execution_count": 28,
   "id": "423202cb",
   "metadata": {},
   "outputs": [
    {
     "data": {
      "text/plain": [
       "(33, 30)"
      ]
     },
     "execution_count": 28,
     "metadata": {},
     "output_type": "execute_result"
    }
   ],
   "source": [
    "s.at['c'],s.iat[7] #at取一個值(str),iat取一個值(int)"
   ]
  },
  {
   "cell_type": "code",
   "execution_count": 30,
   "id": "a919e5c4",
   "metadata": {},
   "outputs": [
    {
     "data": {
      "text/plain": [
       "(33,\n",
       " c    33\n",
       " d    42\n",
       " e    41\n",
       " f    23\n",
       " g     9\n",
       " h    30\n",
       " i    29\n",
       " j    46\n",
       " dtype: int32)"
      ]
     },
     "execution_count": 30,
     "metadata": {},
     "output_type": "execute_result"
    }
   ],
   "source": [
    "s.loc['c'],s.loc['c':] #loc取一個range(str)"
   ]
  },
  {
   "cell_type": "code",
   "execution_count": 31,
   "id": "0d470080",
   "metadata": {},
   "outputs": [
    {
     "data": {
      "text/plain": [
       "(42,\n",
       " d    42\n",
       " e    41\n",
       " f    23\n",
       " g     9\n",
       " h    30\n",
       " i    29\n",
       " j    46\n",
       " dtype: int32)"
      ]
     },
     "execution_count": 31,
     "metadata": {},
     "output_type": "execute_result"
    }
   ],
   "source": [
    "s.iloc[3],s.iloc[3:] #iloc取一個range(int)"
   ]
  },
  {
   "cell_type": "code",
   "execution_count": 1,
   "id": "ba6f2df8",
   "metadata": {},
   "outputs": [
    {
     "data": {
      "text/plain": [
       "0    46\n",
       "1    25\n",
       "2    26\n",
       "3     4\n",
       "4    13\n",
       "5     8\n",
       "6     6\n",
       "7    32\n",
       "8    32\n",
       "9    13\n",
       "dtype: int32"
      ]
     },
     "execution_count": 1,
     "metadata": {},
     "output_type": "execute_result"
    }
   ],
   "source": [
    "import numpy as np\n",
    "import pandas as pd\n",
    "\n",
    "s = pd.Series(np.random.randint(50, size= 10))\n",
    "s"
   ]
  },
  {
   "cell_type": "code",
   "execution_count": 2,
   "id": "2d85e84e",
   "metadata": {},
   "outputs": [
    {
     "data": {
      "text/plain": [
       "4"
      ]
     },
     "execution_count": 2,
     "metadata": {},
     "output_type": "execute_result"
    }
   ],
   "source": [
    "s[3]"
   ]
  },
  {
   "cell_type": "code",
   "execution_count": 3,
   "id": "ea9d7e32",
   "metadata": {},
   "outputs": [
    {
     "data": {
      "text/plain": [
       "8    32\n",
       "dtype: int32"
      ]
     },
     "execution_count": 3,
     "metadata": {},
     "output_type": "execute_result"
    }
   ],
   "source": [
    "s[8:-1]"
   ]
  },
  {
   "cell_type": "code",
   "execution_count": 12,
   "id": "2a097d19",
   "metadata": {},
   "outputs": [
    {
     "name": "stdout",
     "output_type": "stream",
     "text": [
      "s.at[6]:     6\n",
      "s.iat[6]:    6\n",
      "s[6]:        6\n",
      "s.loc[6]:    6\n",
      "s.loc[6:6]:  6    6\n",
      "dtype: int32\n",
      "s.iloc[6]:   6\n",
      "s.iloc[6:7]: 6    6\n",
      "dtype: int32\n",
      "s[6:7]:      6    6\n",
      "dtype: int32\n"
     ]
    }
   ],
   "source": [
    "print('s.at[6]:    ', s.at[6])\n",
    "print('s.iat[6]:   ', s.iat[6])\n",
    "print('s[6]:       ', s[6])\n",
    "print('s.loc[6]:   ', s.loc[6])\n",
    "print('s.loc[6:6]: ', s.loc[6:6]) #唯一例外loc:前取尾也要取!\n",
    "print('s.iloc[6]:  ', s.iloc[6])\n",
    "print('s.iloc[6:7]:', s.iloc[6:7])\n",
    "print('s[6:7]:     ', s[6:7])"
   ]
  },
  {
   "cell_type": "code",
   "execution_count": 13,
   "id": "d1e4883b",
   "metadata": {},
   "outputs": [
    {
     "name": "stdout",
     "output_type": "stream",
     "text": [
      "s.at[6]:     <class 'numpy.int32'>\n",
      "s.iat[6]:    <class 'numpy.int32'>\n",
      "s[6]:        <class 'numpy.int32'>\n",
      "s.loc[6]:    <class 'numpy.int32'>\n",
      "s.loc[6:6]:  <class 'pandas.core.series.Series'>\n",
      "s.iloc[6]:   <class 'numpy.int32'>\n",
      "s.iloc[6:7]: <class 'pandas.core.series.Series'>\n",
      "s[6:7]:      <class 'pandas.core.series.Series'>\n"
     ]
    }
   ],
   "source": [
    "print('s.at[6]:    ', type(s.at[6]))\n",
    "print('s.iat[6]:   ', type(s.iat[6]))\n",
    "print('s[6]:       ', type(s[6]))\n",
    "print('s.loc[6]:   ', type(s.loc[6]))\n",
    "print('s.loc[6:6]: ', type(s.loc[6:6])) #一個維度的數值\n",
    "print('s.iloc[6]:  ', type(s.iloc[6]))\n",
    "print('s.iloc[6:7]:', type(s.iloc[6:7]))\n",
    "print('s[6:7]:     ', type(s[6:7]))"
   ]
  },
  {
   "cell_type": "code",
   "execution_count": 26,
   "id": "4dc93d44",
   "metadata": {},
   "outputs": [
    {
     "name": "stdout",
     "output_type": "stream",
     "text": [
      "3  in s: True\n",
      "13 in s: False\n",
      "13 in s.values: True\n",
      "13 in s.tolist(): True\n",
      "13 in dict(s): False\n",
      "13 in set(s): True\n",
      "13 in tuple(s): True\n",
      "s.isin([13]): 0    False\n",
      "1    False\n",
      "2    False\n",
      "3    False\n",
      "4     True\n",
      "5    False\n",
      "6    False\n",
      "7    False\n",
      "8    False\n",
      "9     True\n",
      "dtype: bool\n"
     ]
    }
   ],
   "source": [
    "print('3  in s:', 3 in s)\n",
    "print('13 in s:', 13 in s)                   #in 成員運算子，針對index，非value判別\n",
    "print('13 in s.values:', 13 in s.values)\n",
    "print('13 in s.tolist():', 13 in s.tolist()) #轉list\n",
    "print('13 in dict(s):', 13 in dict(s))       #轉dict，針對key，非value判別\n",
    "print('13 in set(s):', 13 in set(s))         #轉set\n",
    "print('13 in tuple(s):', 13 in tuple(s))     #轉tuple\n",
    "print('s.isin([13]):', s.isin([13]))         #全部拿去比對"
   ]
  },
  {
   "cell_type": "markdown",
   "id": "ed9fab49",
   "metadata": {},
   "source": [
    "# 6. Series 基本運算\n",
    "- Series.describe()：描述統計\n",
    "- Series.mean()：均值\n",
    "- Series.median()：中位數\n",
    "- Series.sum()：求和\n",
    "- Series.std()：標準差\n",
    "- Series.mode()：出現頻率最高的數值(眾數)\n",
    "- Series.max()：求最大值\n",
    "- Series.min()：求最小值\n",
    "- Series.idxmax()：最大值的索引位置\n",
    "- Series.idxmin()：最大值的索引位置\n",
    "- Series.nlargetst()：最大的n個數值\n",
    "- Series.nsmallest()：最小的n個數值\n",
    "- Series.value_counts()：每個值的數量\n",
    "- Series.count():統計非空的的數量\n",
    "- Series.sort_values(ascending=False)：排序\n",
    "- Series.cumsum():累加運算\n",
    "- Series.cumprod():累乘運算\n",
    "- Series.rolling():窗格運算\n",
    "- Series.agg():聚合函數\n",
    "    - Series.agg([ 'sum', 'max', 'mean', 'median', 'std', 'min', 'count'])"
   ]
  },
  {
   "cell_type": "markdown",
   "id": "3ddff723",
   "metadata": {},
   "source": [
    "### Series 描述統計"
   ]
  },
  {
   "cell_type": "code",
   "execution_count": 9,
   "id": "57fb739a",
   "metadata": {},
   "outputs": [
    {
     "name": "stdout",
     "output_type": "stream",
     "text": [
      "0    25\n",
      "1    11\n",
      "2     8\n",
      "3    28\n",
      "4    20\n",
      "5    27\n",
      "6    29\n",
      "7    17\n",
      "8    22\n",
      "dtype: int32\n",
      "\n",
      "count     9.000000\n",
      "mean     20.777778\n",
      "std       7.512952\n",
      "min       8.000000\n",
      "25%      17.000000\n",
      "50%      22.000000\n",
      "75%      27.000000\n",
      "max      29.000000\n",
      "dtype: float64\n",
      "\n",
      "20.77777777777778 \t 22.0 \t 187 \t 7.512951779723097 \t 0     8\n",
      "1    11\n",
      "2    17\n",
      "3    20\n",
      "4    22\n",
      "5    25\n",
      "6    27\n",
      "7    28\n",
      "8    29\n",
      "dtype: int32\n",
      "\n",
      "22    1\n",
      "29    1\n",
      "28    1\n",
      "11    1\n",
      "25    1\n",
      "8     1\n",
      "27    1\n",
      "20    1\n",
      "17    1\n",
      "dtype: int64\n"
     ]
    }
   ],
   "source": [
    "import pandas as pd\n",
    "import numpy as np\n",
    "\n",
    "s = pd.Series(np.random.randint(30, size = 9))\n",
    "print(s)\n",
    "print()\n",
    "print(s.describe())\n",
    "print()\n",
    "print(s.mean(), \"\\t\", s.median(), \"\\t\", s.sum(), \"\\t\", s.std(), \"\\t\", s.mode())\n",
    "print()\n",
    "print(s.value_counts())"
   ]
  },
  {
   "cell_type": "markdown",
   "id": "77a3228e",
   "metadata": {},
   "source": [
    "### Series 使用 agg 聚合函數"
   ]
  },
  {
   "cell_type": "code",
   "execution_count": 10,
   "id": "c5862936",
   "metadata": {},
   "outputs": [
    {
     "name": "stdout",
     "output_type": "stream",
     "text": [
      "s ------------------------------\n",
      "0     5\n",
      "1    25\n",
      "2    25\n",
      "3    21\n",
      "4    28\n",
      "5    26\n",
      "6    20\n",
      "7    17\n",
      "8     6\n",
      "9    15\n",
      "dtype: int32\n",
      "\n",
      "s.describe() ------------------------------\n",
      "count    10.00000\n",
      "mean     18.80000\n",
      "std       8.10761\n",
      "min       5.00000\n",
      "25%      15.50000\n",
      "50%      20.50000\n",
      "75%      25.00000\n",
      "max      28.00000\n",
      "dtype: float64\n",
      "\n",
      "s.agg(['sum', 'max', 'mean', 'median', 'std', 'min', 'count']) ------------------------------\n",
      "sum       188.00000\n",
      "max        28.00000\n",
      "mean       18.80000\n",
      "median     20.50000\n",
      "std         8.10761\n",
      "min         5.00000\n",
      "count      10.00000\n",
      "dtype: float64\n"
     ]
    }
   ],
   "source": [
    "import pandas as pd\n",
    "import numpy as np\n",
    "\n",
    "size = 10\n",
    "count = 30\n",
    "s = pd.Series(np.random.randint(30, size = size))\n",
    "print(\"s\", \"-\" * count)\n",
    "print(s)\n",
    "print()\n",
    "print(\"s.describe()\", \"-\" * count)\n",
    "print(s.describe())\n",
    "print()\n",
    "print(\"s.agg(['sum', 'max', 'mean', 'median', 'std', 'min', 'count'])\", \"-\" * count)\n",
    "print(s.agg(['sum', 'max', 'mean', 'median', 'std', 'min', 'count']))"
   ]
  },
  {
   "cell_type": "markdown",
   "id": "d4168e22",
   "metadata": {},
   "source": [
    "### Series 相加"
   ]
  },
  {
   "cell_type": "code",
   "execution_count": 11,
   "id": "e3b00670",
   "metadata": {},
   "outputs": [
    {
     "name": "stdout",
     "output_type": "stream",
     "text": [
      "s1 ------------------------------\n",
      "0     5\n",
      "1    19\n",
      "2    23\n",
      "3    17\n",
      "4     5\n",
      "dtype: int32\n",
      "s2 ------------------------------\n",
      "0    46\n",
      "1    42\n",
      "2     1\n",
      "3    45\n",
      "4    15\n",
      "dtype: int32\n",
      "s1 + s2 ------------------------------\n",
      "0    51\n",
      "1    61\n",
      "2    24\n",
      "3    62\n",
      "4    20\n",
      "dtype: int32\n"
     ]
    }
   ],
   "source": [
    "import pandas as pd\n",
    "import numpy as np\n",
    "\n",
    "size = 5\n",
    "count = 30\n",
    "s1 = pd.Series(np.random.randint(30, size = size))\n",
    "s2 = pd.Series(np.random.randint(50, size = size))\n",
    "print(\"s1\", \"-\" * count)\n",
    "print(s1)\n",
    "print(\"s2\", \"-\" * count)\n",
    "print(s2)\n",
    "print(\"s1 + s2\", \"-\" * count)\n",
    "print(s1 + s2)"
   ]
  },
  {
   "cell_type": "code",
   "execution_count": 29,
   "id": "6667cb49",
   "metadata": {},
   "outputs": [
    {
     "name": "stdout",
     "output_type": "stream",
     "text": [
      "s1 ------------------------------\n",
      "0    12\n",
      "1    14\n",
      "2    22\n",
      "5    14\n",
      "8     9\n",
      "dtype: int32\n",
      "s2 ------------------------------\n",
      "2    27\n",
      "3    28\n",
      "0    28\n",
      "5    10\n",
      "8    26\n",
      "dtype: int32\n",
      "s1 + s2 ------------------------------\n",
      "0    40.0\n",
      "1     NaN\n",
      "2    49.0\n",
      "3     NaN\n",
      "5    24.0\n",
      "8    35.0\n",
      "dtype: float64\n"
     ]
    }
   ],
   "source": [
    "import pandas as pd\n",
    "import numpy as np\n",
    "\n",
    "s1 = pd.Series(np.random.randint(30, size = 5), index = list('01258'))\n",
    "s2 = pd.Series(np.random.randint(30, size = 5), index = list('23058'))\n",
    "print(\"s1\", \"-\" * 30)\n",
    "print(s1)\n",
    "print(\"s2\", \"-\" * 30)\n",
    "print(s2)\n",
    "print(\"s1 + s2\", \"-\" * 30)\n",
    "print(s1 + s2)"
   ]
  },
  {
   "cell_type": "markdown",
   "id": "05332673",
   "metadata": {},
   "source": [
    "### Series 相減"
   ]
  },
  {
   "cell_type": "code",
   "execution_count": 21,
   "id": "cd3cc6e2",
   "metadata": {},
   "outputs": [
    {
     "name": "stdout",
     "output_type": "stream",
     "text": [
      "s1 ------------------------------\n",
      "0     8\n",
      "1    20\n",
      "2    10\n",
      "3    29\n",
      "4    24\n",
      "dtype: int32\n",
      "s2 ------------------------------\n",
      "0    21\n",
      "1    47\n",
      "2    49\n",
      "3    35\n",
      "4     7\n",
      "dtype: int32\n",
      "s1 - s2 ------------------------------\n",
      "0   -13\n",
      "1   -27\n",
      "2   -39\n",
      "3    -6\n",
      "4    17\n",
      "dtype: int32\n"
     ]
    }
   ],
   "source": [
    "import pandas as pd\n",
    "import numpy as np\n",
    "\n",
    "size = 5\n",
    "count = 30\n",
    "s1 = pd.Series(np.random.randint(30, size = size))\n",
    "s2 = pd.Series(np.random.randint(50, size = size))\n",
    "print(\"s1\", \"-\" * count)\n",
    "print(s1)\n",
    "print(\"s2\", \"-\" * count)\n",
    "print(s2)\n",
    "print(\"s1 - s2\", \"-\" * count)\n",
    "print(s1 - s2)"
   ]
  },
  {
   "cell_type": "markdown",
   "id": "a0f0b8fc",
   "metadata": {},
   "source": [
    "### Series 相乘"
   ]
  },
  {
   "cell_type": "code",
   "execution_count": 22,
   "id": "cd104d04",
   "metadata": {},
   "outputs": [
    {
     "name": "stdout",
     "output_type": "stream",
     "text": [
      "s1 ------------------------------\n",
      "0    14\n",
      "1     2\n",
      "2    21\n",
      "3    19\n",
      "4     4\n",
      "dtype: int32\n",
      "s2 ------------------------------\n",
      "0    13\n",
      "1    46\n",
      "2     4\n",
      "3    27\n",
      "4    42\n",
      "dtype: int32\n",
      "s1 * s2 ------------------------------\n",
      "0    182\n",
      "1     92\n",
      "2     84\n",
      "3    513\n",
      "4    168\n",
      "dtype: int32\n"
     ]
    }
   ],
   "source": [
    "import pandas as pd\n",
    "import numpy as np\n",
    "\n",
    "size = 5\n",
    "count = 30\n",
    "s1 = pd.Series(np.random.randint(30, size = size))\n",
    "s2 = pd.Series(np.random.randint(50, size = size))\n",
    "print(\"s1\", \"-\" * count)\n",
    "print(s1)\n",
    "print(\"s2\", \"-\" * count)\n",
    "print(s2)\n",
    "print(\"s1 * s2\", \"-\" * count)\n",
    "print(s1 * s2)"
   ]
  },
  {
   "cell_type": "markdown",
   "id": "0f256eb4",
   "metadata": {},
   "source": [
    "### Series 相除"
   ]
  },
  {
   "cell_type": "code",
   "execution_count": 23,
   "id": "091adc11",
   "metadata": {},
   "outputs": [
    {
     "name": "stdout",
     "output_type": "stream",
     "text": [
      "s1 ------------------------------\n",
      "0    29\n",
      "1    12\n",
      "2    23\n",
      "3    24\n",
      "4    25\n",
      "dtype: int32\n",
      "s2 ------------------------------\n",
      "0    32\n",
      "1    37\n",
      "2     7\n",
      "3    31\n",
      "4    23\n",
      "dtype: int32\n",
      "s1 / s2 ------------------------------\n",
      "0    0.906250\n",
      "1    0.324324\n",
      "2    3.285714\n",
      "3    0.774194\n",
      "4    1.086957\n",
      "dtype: float64\n"
     ]
    }
   ],
   "source": [
    "import pandas as pd\n",
    "import numpy as np\n",
    "\n",
    "size = 5\n",
    "count = 30\n",
    "s1 = pd.Series(np.random.randint(30, size = size))\n",
    "s2 = pd.Series(np.random.randint(50, size = size))\n",
    "print(\"s1\", \"-\" * count)\n",
    "print(s1)\n",
    "print(\"s2\", \"-\" * count)\n",
    "print(s2)\n",
    "print(\"s1 / s2\", \"-\" * count)\n",
    "print(s1 / s2)"
   ]
  },
  {
   "cell_type": "markdown",
   "id": "341d8fa0",
   "metadata": {},
   "source": [
    "### Series 元素除2"
   ]
  },
  {
   "cell_type": "code",
   "execution_count": 24,
   "id": "c3b26965",
   "metadata": {},
   "outputs": [
    {
     "name": "stdout",
     "output_type": "stream",
     "text": [
      "s ------------------------------\n",
      "0    11\n",
      "1     9\n",
      "2     5\n",
      "3    23\n",
      "4    16\n",
      "dtype: int32\n",
      "\n",
      "s/2 ------------------------------\n",
      "0     5.5\n",
      "1     4.5\n",
      "2     2.5\n",
      "3    11.5\n",
      "4     8.0\n",
      "dtype: float64\n"
     ]
    }
   ],
   "source": [
    "import pandas as pd\n",
    "import numpy as np\n",
    "\n",
    "size = 5\n",
    "count = 30\n",
    "s = pd.Series(np.random.randint(30, size = size))\n",
    "print(\"s\", \"-\" * count)\n",
    "print(s)\n",
    "print()\n",
    "print(\"s/2\", \"-\" * count)#針對所有元素除2\n",
    "print(s/2)"
   ]
  },
  {
   "cell_type": "markdown",
   "id": "494e8c53",
   "metadata": {},
   "source": [
    "### Series 元素取2的餘數"
   ]
  },
  {
   "cell_type": "code",
   "execution_count": 25,
   "id": "8c8f2057",
   "metadata": {},
   "outputs": [
    {
     "name": "stdout",
     "output_type": "stream",
     "text": [
      "s ------------------------------\n",
      "0    17\n",
      "1     4\n",
      "2     6\n",
      "3     7\n",
      "4    29\n",
      "dtype: int32\n",
      "\n",
      "s%2 ------------------------------\n",
      "0    1\n",
      "1    0\n",
      "2    0\n",
      "3    1\n",
      "4    1\n",
      "dtype: int32\n"
     ]
    }
   ],
   "source": [
    "import pandas as pd\n",
    "import numpy as np\n",
    "\n",
    "size = 5\n",
    "count = 30\n",
    "s = pd.Series(np.random.randint(30, size = size))\n",
    "print(\"s\", \"-\" * count)\n",
    "print(s)\n",
    "print()\n",
    "print(\"s%2\", \"-\" * count)\n",
    "print(s%2)"
   ]
  },
  {
   "cell_type": "markdown",
   "id": "57408d0d",
   "metadata": {},
   "source": [
    "### Series 元素取平方"
   ]
  },
  {
   "cell_type": "code",
   "execution_count": 26,
   "id": "4da8a88e",
   "metadata": {},
   "outputs": [
    {
     "name": "stdout",
     "output_type": "stream",
     "text": [
      "s ------------------------------\n",
      "0     2\n",
      "1    29\n",
      "2     7\n",
      "3    23\n",
      "4    15\n",
      "dtype: int32\n",
      "\n",
      "s**2 ------------------------------\n",
      "0      4\n",
      "1    841\n",
      "2     49\n",
      "3    529\n",
      "4    225\n",
      "dtype: int32\n"
     ]
    }
   ],
   "source": [
    "import pandas as pd\n",
    "import numpy as np\n",
    "\n",
    "size = 5\n",
    "count = 30\n",
    "s = pd.Series(np.random.randint(30, size = size))\n",
    "print(\"s\", \"-\" * count)\n",
    "print(s)\n",
    "print()\n",
    "print(\"s**2\", \"-\" * count)\n",
    "print(s**2)"
   ]
  },
  {
   "cell_type": "markdown",
   "id": "fa587aad",
   "metadata": {},
   "source": [
    "### 搭配numpy函數，Series 元素開根號"
   ]
  },
  {
   "cell_type": "code",
   "execution_count": 27,
   "id": "11104aac",
   "metadata": {},
   "outputs": [
    {
     "name": "stdout",
     "output_type": "stream",
     "text": [
      "s ------------------------------\n",
      "0     4\n",
      "1    27\n",
      "2     6\n",
      "3     2\n",
      "4    27\n",
      "dtype: int32\n",
      "\n",
      "np.sqrt(s) ------------------------------\n",
      "0    2.000000\n",
      "1    5.196152\n",
      "2    2.449490\n",
      "3    1.414214\n",
      "4    5.196152\n",
      "dtype: float64\n"
     ]
    }
   ],
   "source": [
    "import pandas as pd\n",
    "import numpy as np\n",
    "\n",
    "size = 5\n",
    "count = 30\n",
    "s = pd.Series(np.random.randint(30, size = size))\n",
    "print(\"s\", \"-\" * count)\n",
    "print(s)\n",
    "print()\n",
    "print(\"np.sqrt(s)\", \"-\" * count)\n",
    "print(np.sqrt(s))"
   ]
  },
  {
   "cell_type": "markdown",
   "id": "580822c3",
   "metadata": {},
   "source": [
    "### 搭配numpy函數，Series 元素取log"
   ]
  },
  {
   "cell_type": "code",
   "execution_count": 12,
   "id": "a05862f0",
   "metadata": {},
   "outputs": [
    {
     "name": "stdout",
     "output_type": "stream",
     "text": [
      "s ------------------------------\n",
      "0    10\n",
      "1    19\n",
      "2    29\n",
      "3     4\n",
      "4     0\n",
      "dtype: int32\n",
      "\n",
      "np.log(s) ------------------------------\n",
      "0    2.302585\n",
      "1    2.944439\n",
      "2    3.367296\n",
      "3    1.386294\n",
      "4        -inf\n",
      "dtype: float64\n"
     ]
    },
    {
     "name": "stderr",
     "output_type": "stream",
     "text": [
      "C:\\ProgramData\\Anaconda3\\lib\\site-packages\\pandas\\core\\series.py:679: RuntimeWarning: divide by zero encountered in log\n",
      "  result = getattr(ufunc, method)(*inputs, **kwargs)\n"
     ]
    }
   ],
   "source": [
    "import pandas as pd\n",
    "import numpy as np\n",
    "\n",
    "size = 5\n",
    "count = 30\n",
    "s = pd.Series(np.random.randint(30, size = size))\n",
    "print(\"s\", \"-\" * count)\n",
    "print(s)\n",
    "print()\n",
    "print(\"np.log(s)\", \"-\" * count)\n",
    "print(np.log(s))"
   ]
  },
  {
   "cell_type": "markdown",
   "id": "6181a253",
   "metadata": {},
   "source": [
    "### Series 元素取最大值與最大值所在位置。"
   ]
  },
  {
   "cell_type": "code",
   "execution_count": 28,
   "id": "c9030b81",
   "metadata": {},
   "outputs": [
    {
     "name": "stdout",
     "output_type": "stream",
     "text": [
      "s ------------------------------\n",
      "0     5\n",
      "1     9\n",
      "2    19\n",
      "3    15\n",
      "4    21\n",
      "dtype: int32\n",
      "\n",
      "------------------------------\n",
      "s.max()： 21\n",
      "s.idxmax()： 4\n"
     ]
    }
   ],
   "source": [
    "import pandas as pd\n",
    "import numpy as np\n",
    "\n",
    "size = 5\n",
    "count = 30\n",
    "s = pd.Series(np.random.randint(30, size = size))\n",
    "print(\"s\", \"-\" * count)\n",
    "print(s)\n",
    "print()\n",
    "print(\"-\" * count)\n",
    "print(\"s.max()：\", s.max())\n",
    "print(\"s.idxmax()：\", s.idxmax()) #最大值索引所在位置"
   ]
  },
  {
   "cell_type": "markdown",
   "id": "faae09d7",
   "metadata": {},
   "source": [
    "### Series 元素取最小值與最小值所在位置。"
   ]
  },
  {
   "cell_type": "code",
   "execution_count": 29,
   "id": "ae3616e3",
   "metadata": {},
   "outputs": [
    {
     "name": "stdout",
     "output_type": "stream",
     "text": [
      "s ------------------------------\n",
      "0    28\n",
      "1    14\n",
      "2    17\n",
      "3     3\n",
      "4     7\n",
      "dtype: int32\n",
      "\n",
      "------------------------------\n",
      "s.min()： 3\n",
      "s.idxmin()： 3\n"
     ]
    }
   ],
   "source": [
    "import pandas as pd\n",
    "import numpy as np\n",
    "\n",
    "size = 5\n",
    "count = 30\n",
    "s = pd.Series(np.random.randint(30, size = size))\n",
    "print(\"s\", \"-\" * count)\n",
    "print(s)\n",
    "print()\n",
    "print(\"-\" * count)\n",
    "print(\"s.min()：\", s.min())\n",
    "print(\"s.idxmin()：\", s.idxmin()) #最小值索引所在位置"
   ]
  },
  {
   "cell_type": "markdown",
   "id": "dcf18093",
   "metadata": {},
   "source": [
    "### Series排序\n",
    "- 使用s.sort_values() 在沒覆蓋原始資料，將無法修改s的內容，若要##覆蓋原始資料要改寫成 s = s.sort_values() 或 s.sort_values(inplace=True)。"
   ]
  },
  {
   "cell_type": "code",
   "execution_count": 30,
   "id": "d1010c27",
   "metadata": {},
   "outputs": [
    {
     "name": "stdout",
     "output_type": "stream",
     "text": [
      "s ------------------------------\n",
      "0     7\n",
      "1    14\n",
      "2     0\n",
      "3    10\n",
      "4     0\n",
      "dtype: int32\n",
      "\n",
      "遞增排序：s.sort_values() ------------------------------\n",
      "2     0\n",
      "4     0\n",
      "0     7\n",
      "3    10\n",
      "1    14\n",
      "dtype: int32\n",
      "\n",
      "遞減排序：s.sort_values(ascending=False) ------------------------------\n",
      "1    14\n",
      "3    10\n",
      "0     7\n",
      "2     0\n",
      "4     0\n",
      "dtype: int32\n",
      "\n",
      "s ------------------------------\n",
      "0     7\n",
      "1    14\n",
      "2     0\n",
      "3    10\n",
      "4     0\n",
      "dtype: int32\n"
     ]
    }
   ],
   "source": [
    "import pandas as pd\n",
    "import numpy as np\n",
    "\n",
    "size = 5\n",
    "count = 30\n",
    "s = pd.Series(np.random.randint(30, size = size))\n",
    "print(\"s\", \"-\" * count)\n",
    "print(s) #預設是遞增\n",
    "print()\n",
    "print(\"遞增排序：s.sort_values()\", \"-\" * count)\n",
    "print(s.sort_values())\n",
    "print()\n",
    "print(\"遞減排序：s.sort_values(ascending=False)\", \"-\" * count)\n",
    "print(s.sort_values(ascending=False)) #遞減要寫出來ascending=False\n",
    "print()\n",
    "print(\"s\", \"-\" * count)\n",
    "print(s)"
   ]
  },
  {
   "cell_type": "code",
   "execution_count": 41,
   "id": "34d622d7",
   "metadata": {},
   "outputs": [
    {
     "name": "stdout",
     "output_type": "stream",
     "text": [
      "0    26\n",
      "1    20\n",
      "2     5\n",
      "5     1\n",
      "8    25\n",
      "dtype: int32\n",
      "********************\n",
      "0    26\n",
      "1    20\n",
      "2     5\n",
      "5     1\n",
      "8    25\n",
      "dtype: int32\n",
      "********************\n",
      "8    25\n",
      "5     1\n",
      "2     5\n",
      "1    20\n",
      "0    26\n",
      "dtype: int32\n",
      "********************\n",
      "0    26\n",
      "1    20\n",
      "2     5\n",
      "5     1\n",
      "8    25\n",
      "dtype: int32\n"
     ]
    }
   ],
   "source": [
    "import pandas as pd\n",
    "import numpy as np\n",
    "\n",
    "s1 = pd.Series(np.random.randint(30, size = 5), index = list('01258'))\n",
    "print(s1)\n",
    "print('*'*20)\n",
    "print(s1.sort_index())\n",
    "print('*'*20)\n",
    "print(s1.sort_index(ascending=False))\n",
    "print('*'*20)\n",
    "print(s1)"
   ]
  },
  {
   "cell_type": "code",
   "execution_count": 37,
   "id": "eecadc72",
   "metadata": {},
   "outputs": [
    {
     "name": "stdout",
     "output_type": "stream",
     "text": [
      "l: [5, 14, 21, 25, 26]\n",
      "l: [26, 25, 21, 14, 5]\n"
     ]
    }
   ],
   "source": [
    "l = [5, 21, 25, 14, 26] #串列裡的排序功能\n",
    "l.sort()\n",
    "print('l:', l)\n",
    "l.sort(reverse = True) #會把裡面順序改掉\n",
    "print('l:', l)"
   ]
  },
  {
   "cell_type": "code",
   "execution_count": 36,
   "id": "7e145cea",
   "metadata": {},
   "outputs": [
    {
     "name": "stdout",
     "output_type": "stream",
     "text": [
      "sorted(l): [5, 14, 21, 25, 26]\n",
      "l: [5, 21, 25, 14, 26]\n"
     ]
    }
   ],
   "source": [
    "l = [5, 21, 25, 14, 26]\n",
    "print('sorted(l):',sorted(l))#不會把裡面順序改掉\n",
    "print('l:', l)"
   ]
  },
  {
   "cell_type": "markdown",
   "id": "806ee0bc",
   "metadata": {},
   "source": [
    "# 7. Series 缺失值處理 欄位是空值\n",
    "- 缺失值(NA)定義：None、numpy.nan\n",
    "- 非缺失值(NA)：\"\"、False、np.inf\n",
    "- Python中，若要判斷資料中是否存在缺失值，可使用 isnull()、isna() 判別[布林值]，或使用 notnull()、notna() 判別[布林值]非空數量與總數量的差。"
   ]
  },
  {
   "cell_type": "code",
   "execution_count": 15,
   "id": "92cdef9a",
   "metadata": {},
   "outputs": [
    {
     "name": "stdout",
     "output_type": "stream",
     "text": [
      "資料長度：12\n",
      "\n",
      "原始資料：[3.0 nan 18.0 '' 12.0 False 0.0 28.0 28.0 nan 27.0 inf]\n",
      "\n",
      "isnull 判斷NA存在與否： [False  True False False False False False False False  True False False]\n",
      "\n",
      "notnull 判斷NA不存在： [ True False  True  True  True  True  True  True  True False  True  True]\n",
      "\n",
      "isna 判斷NA存在與否： [False  True False False False False False False False  True False False]\n",
      "\n",
      "notna 判斷NA不存在： [ True False  True  True  True  True  True  True  True False  True  True]\n",
      "\n",
      "非 NA 數量 isnull：10, isna：10\n",
      "\n",
      "非 NA 百分比 isnull：83.33%, isna：83.33%\n",
      "\n",
      "非 NA 數量 notnull：10, notna：10\n",
      "\n",
      "非 NA 百分比 notnull：83.33%, notna：83.33%\n"
     ]
    }
   ],
   "source": [
    "import pandas as pd\n",
    "import numpy as np\n",
    "\n",
    "size = 11 #0~10\n",
    "count = 30\n",
    "s = pd.Series(np.random.randint(30, size = size))\n",
    "s[1] = None #缺失值\n",
    "s[3] = \"\"\n",
    "s[5] = False\n",
    "s[9] = np.nan #缺失值\n",
    "s[11] = np.inf\n",
    "\n",
    "print(\"資料長度：{1}\\n\\n原始資料：{0}\".format(s.values, len(s)))\n",
    "print()\n",
    "print(\"isnull 判斷NA存在與否：\", s.isnull().values)\n",
    "print()\n",
    "print(\"notnull 判斷NA不存在：\", s.notnull().values)\n",
    "print()\n",
    "print(\"isna 判斷NA存在與否：\", s.isna().values)\n",
    "print()\n",
    "print(\"notna 判斷NA不存在：\", s.notna().values)\n",
    "print()\n",
    "print(\"非 NA 數量 isnull：{0}, isna：{1}\".format(len(s) - s.isnull().sum(), len(s) - s.isna().sum()))\n",
    "print() #取出符合條件 - 不符合\n",
    "print(\"非 NA 百分比 isnull：{0:.2f}%, isna：{1:.2f}%\".format((len(s) - s.isnull().sum())/len(s) * 100, (len(s) - s.isna().sum())/len(s) * 100))\n",
    "print() #2/12\n",
    "print(\"非 NA 數量 notnull：{}, notna：{}\".format(s.notnull().sum(), s.notna().sum()))\n",
    "print()\n",
    "print(\"非 NA 百分比 notnull：{:.2%}, notna：{:.2%}\".format(s.notnull().sum()/len(s), s.notna().sum()/len(s))) #10/12"
   ]
  },
  {
   "cell_type": "markdown",
   "id": "1c4482db",
   "metadata": {},
   "source": [
    "- 資料中存在缺失值NA，需要填補，可以 fillna(數值) 填補。 "
   ]
  },
  {
   "cell_type": "code",
   "execution_count": 64,
   "id": "1023c65d",
   "metadata": {},
   "outputs": [
    {
     "name": "stdout",
     "output_type": "stream",
     "text": [
      "s ------------------------------\n",
      "0        14\n",
      "1       NaN\n",
      "2        16\n",
      "3          \n",
      "4        25\n",
      "5     False\n",
      "6        11\n",
      "7        28\n",
      "8        18\n",
      "9       NaN\n",
      "10       13\n",
      "11      inf\n",
      "dtype: object\n",
      "\n",
      "s.fillna(0) ------------------------------\n",
      "0        14\n",
      "1         0\n",
      "2        16\n",
      "3          \n",
      "4        25\n",
      "5     False\n",
      "6        11\n",
      "7        28\n",
      "8        18\n",
      "9         0\n",
      "10       13\n",
      "11      inf\n",
      "dtype: object\n",
      "\n",
      "s.fillna({1: 0, 3: 1, 5: 2, 7: 3, 9: 4, 11: 5}) ------------------------------\n",
      "0        14\n",
      "1         0\n",
      "2        16\n",
      "3          \n",
      "4        25\n",
      "5     False\n",
      "6        11\n",
      "7        28\n",
      "8        18\n",
      "9         4\n",
      "10       13\n",
      "11      inf\n",
      "dtype: object\n"
     ]
    }
   ],
   "source": [
    "import pandas as pd\n",
    "import numpy as np\n",
    "\n",
    "size = 11\n",
    "count = 30\n",
    "s = pd.Series(np.random.randint(30, size = size))\n",
    "s[1] = None\n",
    "s[3] = \"\"\n",
    "s[5] = False\n",
    "s[9] = np.nan\n",
    "s[11] = np.inf\n",
    "\n",
    "print(\"s\", \"-\" * count)\n",
    "print(s)\n",
    "print()\n",
    "print(\"s.fillna(0)\", \"-\" * count)\n",
    "print(s.fillna(0))\n",
    "print()\n",
    "print(\"s.fillna({1: 0, 3: 1, 5: 2, 7: 3, 9: 4, 11: 5})\", \"-\" * count)\n",
    "print(s.fillna({1: 0, 3: 1, 5: 2, 7: 3, 9: 4, 11: 5}))"
   ]
  },
  {
   "cell_type": "markdown",
   "id": "7023d10d",
   "metadata": {},
   "source": [
    "# 8. Series轉成Dataframe"
   ]
  },
  {
   "cell_type": "code",
   "execution_count": 65,
   "id": "9d8da5f2",
   "metadata": {},
   "outputs": [
    {
     "data": {
      "text/html": [
       "<div>\n",
       "<style scoped>\n",
       "    .dataframe tbody tr th:only-of-type {\n",
       "        vertical-align: middle;\n",
       "    }\n",
       "\n",
       "    .dataframe tbody tr th {\n",
       "        vertical-align: top;\n",
       "    }\n",
       "\n",
       "    .dataframe thead th {\n",
       "        text-align: right;\n",
       "    }\n",
       "</style>\n",
       "<table border=\"1\" class=\"dataframe\">\n",
       "  <thead>\n",
       "    <tr style=\"text-align: right;\">\n",
       "      <th></th>\n",
       "      <th>0</th>\n",
       "    </tr>\n",
       "  </thead>\n",
       "  <tbody>\n",
       "    <tr>\n",
       "      <th>0</th>\n",
       "      <td>0.456547</td>\n",
       "    </tr>\n",
       "    <tr>\n",
       "      <th>1</th>\n",
       "      <td>0.444351</td>\n",
       "    </tr>\n",
       "    <tr>\n",
       "      <th>2</th>\n",
       "      <td>0.391159</td>\n",
       "    </tr>\n",
       "    <tr>\n",
       "      <th>3</th>\n",
       "      <td>0.900638</td>\n",
       "    </tr>\n",
       "    <tr>\n",
       "      <th>4</th>\n",
       "      <td>0.990511</td>\n",
       "    </tr>\n",
       "    <tr>\n",
       "      <th>5</th>\n",
       "      <td>0.439120</td>\n",
       "    </tr>\n",
       "    <tr>\n",
       "      <th>6</th>\n",
       "      <td>0.168244</td>\n",
       "    </tr>\n",
       "    <tr>\n",
       "      <th>7</th>\n",
       "      <td>0.200791</td>\n",
       "    </tr>\n",
       "    <tr>\n",
       "      <th>8</th>\n",
       "      <td>0.765008</td>\n",
       "    </tr>\n",
       "    <tr>\n",
       "      <th>9</th>\n",
       "      <td>0.836561</td>\n",
       "    </tr>\n",
       "  </tbody>\n",
       "</table>\n",
       "</div>"
      ],
      "text/plain": [
       "          0\n",
       "0  0.456547\n",
       "1  0.444351\n",
       "2  0.391159\n",
       "3  0.900638\n",
       "4  0.990511\n",
       "5  0.439120\n",
       "6  0.168244\n",
       "7  0.200791\n",
       "8  0.765008\n",
       "9  0.836561"
      ]
     },
     "execution_count": 65,
     "metadata": {},
     "output_type": "execute_result"
    }
   ],
   "source": [
    "import numpy as np\n",
    "import pandas as pd\n",
    "scores = pd.Series(np.random.rand(10))\n",
    "score_df = scores.to_frame()\n",
    "score_df"
   ]
  },
  {
   "cell_type": "markdown",
   "id": "10bdfda4",
   "metadata": {
    "colab_type": "text",
    "id": "FNW8vsiiyFXK"
   },
   "source": [
    "# 9. 合併concat"
   ]
  },
  {
   "cell_type": "markdown",
   "id": "a21c4cf8",
   "metadata": {
    "colab_type": "text",
    "id": "W4s47fXxyFXL"
   },
   "source": [
    "### Series垂直合併"
   ]
  },
  {
   "cell_type": "code",
   "execution_count": 0,
   "id": "8a090bc8",
   "metadata": {
    "colab": {},
    "colab_type": "code",
    "id": "Y5AOYgciyFXR",
    "outputId": "5c4cffeb-3cf7-4616-d60c-ddc8aeac19d3"
   },
   "outputs": [
    {
     "data": {
      "text/plain": [
       "0     0.410166\n",
       "1     0.595500\n",
       "2     0.776869\n",
       "3     0.956898\n",
       "4     0.493882\n",
       "5     0.229269\n",
       "6     0.616617\n",
       "7     0.482732\n",
       "8     0.722319\n",
       "9     0.718921\n",
       "10    0.521144\n",
       "11    0.566419\n",
       "12    0.966128\n",
       "13    0.863263\n",
       "14    0.797940\n",
       "15    0.571576\n",
       "16    0.983573\n",
       "17    0.693313\n",
       "18    0.768164\n",
       "19    0.793533\n",
       "dtype: float64"
      ]
     },
     "execution_count": 16,
     "metadata": {
      "tags": []
     },
     "output_type": "execute_result"
    }
   ],
   "source": [
    "#Series，索引值相同合併沒問題\n",
    "import numpy as np\n",
    "import pandas as pd\n",
    "\n",
    "s1 = pd.Series(np.random.rand(10), index = range(0,10))\n",
    "s2 = pd.Series(np.random.rand(10), index = range(10,20))\n",
    "s = pd.concat([s1, s2]) #串列可以合併兩個以上的series，但 !!! merge不行\n",
    "s"
   ]
  },
  {
   "cell_type": "code",
   "execution_count": 39,
   "id": "83e2a737",
   "metadata": {},
   "outputs": [
    {
     "data": {
      "text/plain": [
       "0     0.792606\n",
       "1     0.886045\n",
       "2     0.554501\n",
       "3     0.402749\n",
       "4     0.604543\n",
       "5     0.988601\n",
       "6     0.561833\n",
       "7     0.955916\n",
       "8     0.366596\n",
       "9     0.611902\n",
       "10    0.093352\n",
       "11    0.619825\n",
       "12    0.612892\n",
       "13    0.158613\n",
       "14    0.414648\n",
       "15    0.186784\n",
       "16    0.096126\n",
       "17    0.880464\n",
       "18    0.249625\n",
       "19    0.935151\n",
       "dtype: float64"
      ]
     },
     "execution_count": 39,
     "metadata": {},
     "output_type": "execute_result"
    }
   ],
   "source": [
    "import numpy as np\n",
    "import pandas as pd\n",
    "\n",
    "s1 = pd.Series(np.random.rand(10), index = range(0,10))\n",
    "s2 = pd.Series(np.random.rand(10), index = range(0,10))\n",
    "s = pd.concat([s1, s2], ignore_index = True) #舊的忽略，產生新的\n",
    "s"
   ]
  },
  {
   "cell_type": "markdown",
   "id": "4d47bd3a",
   "metadata": {
    "colab_type": "text",
    "id": "AX8VT-qbyFXZ"
   },
   "source": [
    "### Series水平合併"
   ]
  },
  {
   "cell_type": "code",
   "execution_count": 40,
   "id": "fa65563d",
   "metadata": {},
   "outputs": [
    {
     "data": {
      "text/html": [
       "<div>\n",
       "<style scoped>\n",
       "    .dataframe tbody tr th:only-of-type {\n",
       "        vertical-align: middle;\n",
       "    }\n",
       "\n",
       "    .dataframe tbody tr th {\n",
       "        vertical-align: top;\n",
       "    }\n",
       "\n",
       "    .dataframe thead th {\n",
       "        text-align: right;\n",
       "    }\n",
       "</style>\n",
       "<table border=\"1\" class=\"dataframe\">\n",
       "  <thead>\n",
       "    <tr style=\"text-align: right;\">\n",
       "      <th></th>\n",
       "      <th>0</th>\n",
       "      <th>1</th>\n",
       "    </tr>\n",
       "  </thead>\n",
       "  <tbody>\n",
       "    <tr>\n",
       "      <th>0</th>\n",
       "      <td>0.473095</td>\n",
       "      <td>0.028849</td>\n",
       "    </tr>\n",
       "    <tr>\n",
       "      <th>1</th>\n",
       "      <td>0.442493</td>\n",
       "      <td>0.044584</td>\n",
       "    </tr>\n",
       "    <tr>\n",
       "      <th>2</th>\n",
       "      <td>0.163913</td>\n",
       "      <td>0.234476</td>\n",
       "    </tr>\n",
       "    <tr>\n",
       "      <th>3</th>\n",
       "      <td>0.304354</td>\n",
       "      <td>0.790629</td>\n",
       "    </tr>\n",
       "    <tr>\n",
       "      <th>4</th>\n",
       "      <td>0.785525</td>\n",
       "      <td>0.897767</td>\n",
       "    </tr>\n",
       "    <tr>\n",
       "      <th>5</th>\n",
       "      <td>0.956879</td>\n",
       "      <td>0.101634</td>\n",
       "    </tr>\n",
       "    <tr>\n",
       "      <th>6</th>\n",
       "      <td>0.185817</td>\n",
       "      <td>0.217352</td>\n",
       "    </tr>\n",
       "    <tr>\n",
       "      <th>7</th>\n",
       "      <td>0.931438</td>\n",
       "      <td>0.539028</td>\n",
       "    </tr>\n",
       "    <tr>\n",
       "      <th>8</th>\n",
       "      <td>0.694301</td>\n",
       "      <td>0.773921</td>\n",
       "    </tr>\n",
       "    <tr>\n",
       "      <th>9</th>\n",
       "      <td>0.955529</td>\n",
       "      <td>0.557527</td>\n",
       "    </tr>\n",
       "  </tbody>\n",
       "</table>\n",
       "</div>"
      ],
      "text/plain": [
       "          0         1\n",
       "0  0.473095  0.028849\n",
       "1  0.442493  0.044584\n",
       "2  0.163913  0.234476\n",
       "3  0.304354  0.790629\n",
       "4  0.785525  0.897767\n",
       "5  0.956879  0.101634\n",
       "6  0.185817  0.217352\n",
       "7  0.931438  0.539028\n",
       "8  0.694301  0.773921\n",
       "9  0.955529  0.557527"
      ]
     },
     "execution_count": 40,
     "metadata": {},
     "output_type": "execute_result"
    }
   ],
   "source": [
    "import numpy as np\n",
    "import pandas as pd\n",
    "\n",
    "s1 = pd.Series(np.random.rand(10), index = range(0,10))\n",
    "s2 = pd.Series(np.random.rand(10), index = range(0,10))\n",
    "s = pd.concat([s1, s2], axis= 1) #axis，水平判斷\n",
    "s"
   ]
  },
  {
   "cell_type": "code",
   "execution_count": 1,
   "id": "1ceeef9c",
   "metadata": {
    "colab": {},
    "colab_type": "code",
    "id": "WnhD-AiYyFXb",
    "outputId": "9da035dd-2d31-493c-e456-e8cb204ad83b",
    "scrolled": true
   },
   "outputs": [
    {
     "data": {
      "text/html": [
       "<div>\n",
       "<style scoped>\n",
       "    .dataframe tbody tr th:only-of-type {\n",
       "        vertical-align: middle;\n",
       "    }\n",
       "\n",
       "    .dataframe tbody tr th {\n",
       "        vertical-align: top;\n",
       "    }\n",
       "\n",
       "    .dataframe thead th {\n",
       "        text-align: right;\n",
       "    }\n",
       "</style>\n",
       "<table border=\"1\" class=\"dataframe\">\n",
       "  <thead>\n",
       "    <tr style=\"text-align: right;\">\n",
       "      <th></th>\n",
       "      <th>0</th>\n",
       "      <th>1</th>\n",
       "    </tr>\n",
       "  </thead>\n",
       "  <tbody>\n",
       "    <tr>\n",
       "      <th>0</th>\n",
       "      <td>0.696574</td>\n",
       "      <td>NaN</td>\n",
       "    </tr>\n",
       "    <tr>\n",
       "      <th>1</th>\n",
       "      <td>0.054995</td>\n",
       "      <td>NaN</td>\n",
       "    </tr>\n",
       "    <tr>\n",
       "      <th>2</th>\n",
       "      <td>0.013620</td>\n",
       "      <td>NaN</td>\n",
       "    </tr>\n",
       "    <tr>\n",
       "      <th>3</th>\n",
       "      <td>0.863679</td>\n",
       "      <td>NaN</td>\n",
       "    </tr>\n",
       "    <tr>\n",
       "      <th>4</th>\n",
       "      <td>0.125191</td>\n",
       "      <td>NaN</td>\n",
       "    </tr>\n",
       "    <tr>\n",
       "      <th>5</th>\n",
       "      <td>0.731600</td>\n",
       "      <td>NaN</td>\n",
       "    </tr>\n",
       "    <tr>\n",
       "      <th>6</th>\n",
       "      <td>0.514569</td>\n",
       "      <td>NaN</td>\n",
       "    </tr>\n",
       "    <tr>\n",
       "      <th>7</th>\n",
       "      <td>0.919724</td>\n",
       "      <td>NaN</td>\n",
       "    </tr>\n",
       "    <tr>\n",
       "      <th>8</th>\n",
       "      <td>0.587044</td>\n",
       "      <td>NaN</td>\n",
       "    </tr>\n",
       "    <tr>\n",
       "      <th>9</th>\n",
       "      <td>0.406162</td>\n",
       "      <td>NaN</td>\n",
       "    </tr>\n",
       "    <tr>\n",
       "      <th>10</th>\n",
       "      <td>NaN</td>\n",
       "      <td>0.167237</td>\n",
       "    </tr>\n",
       "    <tr>\n",
       "      <th>11</th>\n",
       "      <td>NaN</td>\n",
       "      <td>0.739806</td>\n",
       "    </tr>\n",
       "    <tr>\n",
       "      <th>12</th>\n",
       "      <td>NaN</td>\n",
       "      <td>0.436208</td>\n",
       "    </tr>\n",
       "    <tr>\n",
       "      <th>13</th>\n",
       "      <td>NaN</td>\n",
       "      <td>0.046075</td>\n",
       "    </tr>\n",
       "    <tr>\n",
       "      <th>14</th>\n",
       "      <td>NaN</td>\n",
       "      <td>0.863085</td>\n",
       "    </tr>\n",
       "    <tr>\n",
       "      <th>15</th>\n",
       "      <td>NaN</td>\n",
       "      <td>0.844846</td>\n",
       "    </tr>\n",
       "    <tr>\n",
       "      <th>16</th>\n",
       "      <td>NaN</td>\n",
       "      <td>0.183905</td>\n",
       "    </tr>\n",
       "    <tr>\n",
       "      <th>17</th>\n",
       "      <td>NaN</td>\n",
       "      <td>0.418883</td>\n",
       "    </tr>\n",
       "    <tr>\n",
       "      <th>18</th>\n",
       "      <td>NaN</td>\n",
       "      <td>0.581076</td>\n",
       "    </tr>\n",
       "    <tr>\n",
       "      <th>19</th>\n",
       "      <td>NaN</td>\n",
       "      <td>0.216642</td>\n",
       "    </tr>\n",
       "  </tbody>\n",
       "</table>\n",
       "</div>"
      ],
      "text/plain": [
       "           0         1\n",
       "0   0.696574       NaN\n",
       "1   0.054995       NaN\n",
       "2   0.013620       NaN\n",
       "3   0.863679       NaN\n",
       "4   0.125191       NaN\n",
       "5   0.731600       NaN\n",
       "6   0.514569       NaN\n",
       "7   0.919724       NaN\n",
       "8   0.587044       NaN\n",
       "9   0.406162       NaN\n",
       "10       NaN  0.167237\n",
       "11       NaN  0.739806\n",
       "12       NaN  0.436208\n",
       "13       NaN  0.046075\n",
       "14       NaN  0.863085\n",
       "15       NaN  0.844846\n",
       "16       NaN  0.183905\n",
       "17       NaN  0.418883\n",
       "18       NaN  0.581076\n",
       "19       NaN  0.216642"
      ]
     },
     "execution_count": 1,
     "metadata": {},
     "output_type": "execute_result"
    }
   ],
   "source": [
    "#Series\n",
    "import numpy as np\n",
    "import pandas as pd\n",
    "\n",
    "s1 = pd.Series(np.random.rand(10), index = range(0,10))\n",
    "s2 = pd.Series(np.random.rand(10), index = range(10,20))\n",
    "s = pd.concat([s1, s2], axis= 1) #axis，水平判斷 axis預設值為0不用寫\n",
    "s"
   ]
  },
  {
   "cell_type": "markdown",
   "id": "03ebe92e",
   "metadata": {},
   "source": [
    "# 函數"
   ]
  },
  {
   "cell_type": "code",
   "execution_count": 43,
   "id": "5badf542",
   "metadata": {},
   "outputs": [
    {
     "data": {
      "text/plain": [
       "[1, 3, 5, 7, 9, 5.0]"
      ]
     },
     "execution_count": 43,
     "metadata": {},
     "output_type": "execute_result"
    }
   ],
   "source": [
    "def f(l):\n",
    "    length = len(l)\n",
    "    l.append(sum(l)/length)\n",
    "    \n",
    "l = [1,3,5,7,9]\n",
    "f(l)\n",
    "l"
   ]
  },
  {
   "cell_type": "code",
   "execution_count": 46,
   "id": "29d71347",
   "metadata": {},
   "outputs": [
    {
     "data": {
      "text/plain": [
       "0    1.0\n",
       "1    3.0\n",
       "2    5.0\n",
       "3    7.0\n",
       "4    9.0\n",
       "5    5.0\n",
       "dtype: float64"
      ]
     },
     "execution_count": 46,
     "metadata": {},
     "output_type": "execute_result"
    }
   ],
   "source": [
    "import pandas as pd\n",
    "def f(s):\n",
    "    length = s.count()\n",
    "    s[length] = sum(s.tolist())/length\n",
    "    \n",
    "l = [1,3,5,7,9]\n",
    "s = pd.Series(l)\n",
    "f(s)\n",
    "s"
   ]
  },
  {
   "cell_type": "code",
   "execution_count": 48,
   "id": "fddc42b0",
   "metadata": {},
   "outputs": [
    {
     "name": "stdout",
     "output_type": "stream",
     "text": [
      "0    1\n",
      "1    3\n",
      "2    5\n",
      "3    7\n",
      "4    9\n",
      "dtype: int64\n",
      "1    3\n",
      "2    5\n",
      "3    7\n",
      "4    9\n",
      "dtype: int64\n"
     ]
    }
   ],
   "source": [
    "import pandas as pd\n",
    "def f1(s):\n",
    "    s.drop([0]) #刪除第0位置\n",
    "    \n",
    "def f2(s):\n",
    "    s.drop([0], inplace = True)#刪除第0位置，複寫原本資料\n",
    "  \n",
    "l = [1,3,5,7,9]\n",
    "s = pd.Series(l)\n",
    "f1(s)\n",
    "print(s)\n",
    "f2(s)\n",
    "print(s)"
   ]
  },
  {
   "cell_type": "markdown",
   "id": "16b01573",
   "metadata": {},
   "source": [
    "# 查詢資訊"
   ]
  },
  {
   "cell_type": "code",
   "execution_count": 51,
   "id": "b1d55242",
   "metadata": {},
   "outputs": [
    {
     "name": "stdout",
     "output_type": "stream",
     "text": [
      "<class 'pandas.core.series.Series'>\n",
      "RangeIndex: 10 entries, 0 to 9\n",
      "Series name: None\n",
      "Non-Null Count  Dtype\n",
      "--------------  -----\n",
      "10 non-null     int32\n",
      "dtypes: int32(1)\n",
      "memory usage: 168.0 bytes\n"
     ]
    }
   ],
   "source": [
    "import numpy as np\n",
    "import pandas as pd\n",
    "\n",
    "s = pd.Series(np.random.randint(101, size = 10))\n",
    "s.info()"
   ]
  },
  {
   "cell_type": "code",
   "execution_count": 52,
   "id": "56f5096a",
   "metadata": {},
   "outputs": [
    {
     "name": "stdout",
     "output_type": "stream",
     "text": [
      "<class 'pandas.core.series.Series'>\n",
      "RangeIndex: 10 entries, 0 to 9\n",
      "Series name: None\n",
      "Non-Null Count  Dtype\n",
      "--------------  -----\n",
      "10 non-null     int32\n",
      "dtypes: int32(1)\n",
      "memory usage: 168.0 bytes\n"
     ]
    }
   ],
   "source": [
    "s.info(memory_usage = True) #有加memory_usage，才是真實記憶體數值內容"
   ]
  },
  {
   "cell_type": "code",
   "execution_count": 53,
   "id": "fd875ab1",
   "metadata": {},
   "outputs": [
    {
     "name": "stdout",
     "output_type": "stream",
     "text": [
      "<class 'pandas.core.series.Series'>\n",
      "RangeIndex: 10 entries, 0 to 9\n",
      "Series name: None\n",
      "Non-Null Count  Dtype\n",
      "--------------  -----\n",
      "10 non-null     int8 \n",
      "dtypes: int8(1)\n",
      "memory usage: 138.0 bytes\n"
     ]
    }
   ],
   "source": [
    "s.astype('int8').info(memory_usage = True) #轉換資料型別"
   ]
  },
  {
   "cell_type": "code",
   "execution_count": 59,
   "id": "eb66df64",
   "metadata": {},
   "outputs": [
    {
     "name": "stdout",
     "output_type": "stream",
     "text": [
      "<class 'pandas.core.series.Series'>\n",
      "RangeIndex: 8 entries, 0 to 7\n",
      "Series name: None\n",
      "Non-Null Count  Dtype \n",
      "--------------  ----- \n",
      "8 non-null      object\n",
      "dtypes: object(1)\n",
      "memory usage: 192.0+ bytes\n"
     ]
    }
   ],
   "source": [
    "import pandas as pd\n",
    "\n",
    "s = pd.Series(list('12345678'))\n",
    "s.info()\n",
    "#objet->字串型別"
   ]
  },
  {
   "cell_type": "code",
   "execution_count": 60,
   "id": "c0cbfa1a",
   "metadata": {},
   "outputs": [
    {
     "name": "stdout",
     "output_type": "stream",
     "text": [
      "<class 'pandas.core.series.Series'>\n",
      "RangeIndex: 8 entries, 0 to 7\n",
      "Series name: None\n",
      "Non-Null Count  Dtype\n",
      "--------------  -----\n",
      "8 non-null      int8 \n",
      "dtypes: int8(1)\n",
      "memory usage: 136.0 bytes\n"
     ]
    }
   ],
   "source": [
    "s.astype('int8').info(memory_usage = True)#字串轉整數"
   ]
  },
  {
   "cell_type": "code",
   "execution_count": 65,
   "id": "1a0af641",
   "metadata": {},
   "outputs": [
    {
     "name": "stdout",
     "output_type": "stream",
     "text": [
      "<class 'pandas.core.series.Series'>\n",
      "RangeIndex: 8 entries, 0 to 7\n",
      "Series name: None\n",
      "Non-Null Count  Dtype\n",
      "--------------  -----\n",
      "8 non-null      int8 \n",
      "dtypes: int8(1)\n",
      "memory usage: 136.0 bytes\n"
     ]
    }
   ],
   "source": [
    "pd.to_numeric(s, errors = 'ignore', downcast = 'integer').info() #numeric字串轉整數\n",
    "\n",
    "#errors : {'ignore', 'raise', 'coerce'}"
   ]
  },
  {
   "cell_type": "code",
   "execution_count": 66,
   "id": "6ec47fdd",
   "metadata": {},
   "outputs": [
    {
     "name": "stdout",
     "output_type": "stream",
     "text": [
      "<class 'pandas.core.series.Series'>\n",
      "RangeIndex: 8 entries, 0 to 7\n",
      "Series name: None\n",
      "Non-Null Count  Dtype\n",
      "--------------  -----\n",
      "8 non-null      int64\n",
      "dtypes: int64(1)\n",
      "memory usage: 192.0 bytes\n"
     ]
    }
   ],
   "source": [
    "s.apply(lambda x:int(x)).info() #字串轉整數，int強制轉型"
   ]
  },
  {
   "cell_type": "code",
   "execution_count": null,
   "id": "a6c2e2e1",
   "metadata": {},
   "outputs": [],
   "source": [
    "def f(x):\n",
    "    return int(x)\n",
    "\n",
    "for i in "
   ]
  },
  {
   "cell_type": "code",
   "execution_count": 64,
   "id": "7b2d572f",
   "metadata": {},
   "outputs": [],
   "source": [
    "pd.to_numeric?"
   ]
  },
  {
   "cell_type": "markdown",
   "id": "d9384900",
   "metadata": {},
   "source": [
    "<table width=\"900\">\n",
    "    <tr>\n",
    "        <td>\n",
    "            <font size=\"4\"><div style=\"text-align:left;\"><a href=\"Pandas 介紹與陣列概念.ipynb\" target=\"_blank\">上一章：Pandas 介紹與陣列概念</a></div></font>\n",
    "        </td>\n",
    "        <td>\n",
    "            <font size=\"4\"><div style=\"text-align:center;\"><a href=\"#\" target=\"_blank\">本章：Pandas-Series操作</a></div></font>\n",
    "        </td>\n",
    "        <td>\n",
    "            <font size=\"4\"><div style=\"text-align:right;\"><a href=\"Pandas-DataFrame操作.ipynb\" target=\"_blank\">下一章：Pandas-DataFrame操作</a></div></font>\n",
    "        </td>\n",
    "    </tr>\n",
    "</table>"
   ]
  },
  {
   "cell_type": "code",
   "execution_count": null,
   "id": "b46102bb",
   "metadata": {},
   "outputs": [],
   "source": []
  }
 ],
 "metadata": {
  "kernelspec": {
   "display_name": "Python 3 (ipykernel)",
   "language": "python",
   "name": "python3"
  },
  "language_info": {
   "codemirror_mode": {
    "name": "ipython",
    "version": 3
   },
   "file_extension": ".py",
   "mimetype": "text/x-python",
   "name": "python",
   "nbconvert_exporter": "python",
   "pygments_lexer": "ipython3",
   "version": "3.10.9"
  }
 },
 "nbformat": 4,
 "nbformat_minor": 5
}
