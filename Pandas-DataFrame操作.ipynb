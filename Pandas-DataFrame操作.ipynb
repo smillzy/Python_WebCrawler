{
 "cells": [
  {
   "cell_type": "markdown",
   "id": "-jE029pMKPPG",
   "metadata": {
    "id": "-jE029pMKPPG"
   },
   "source": [
    "# 1. 產生 DataFrame\n",
    "![](image\\20210710-1.png)"
   ]
  },
  {
   "cell_type": "markdown",
   "id": "y4aD9ZVnKPPI",
   "metadata": {
    "id": "y4aD9ZVnKPPI"
   },
   "source": [
    "## pd.DataFrame(data=None, index=None, columns=None)\n",
    "![](image\\20210710-2.png)"
   ]
  },
  {
   "cell_type": "markdown",
   "id": "y2nu4r54KPPI",
   "metadata": {
    "id": "y2nu4r54KPPI"
   },
   "source": [
    "#### 瑱入陣列數值產生，設定index、columns。"
   ]
  },
  {
   "cell_type": "code",
   "execution_count": 25,
   "id": "tkL7iCbjKPPJ",
   "metadata": {
    "id": "tkL7iCbjKPPJ",
    "outputId": "1f2a5297-cc05-45f1-c356-9b2ea6537a0f"
   },
   "outputs": [
    {
     "data": {
      "text/html": [
       "<div>\n",
       "<style scoped>\n",
       "    .dataframe tbody tr th:only-of-type {\n",
       "        vertical-align: middle;\n",
       "    }\n",
       "\n",
       "    .dataframe tbody tr th {\n",
       "        vertical-align: top;\n",
       "    }\n",
       "\n",
       "    .dataframe thead th {\n",
       "        text-align: right;\n",
       "    }\n",
       "</style>\n",
       "<table border=\"1\" class=\"dataframe\">\n",
       "  <thead>\n",
       "    <tr style=\"text-align: right;\">\n",
       "      <th></th>\n",
       "      <th>RWO</th>\n",
       "      <th>QEA</th>\n",
       "      <th>JEP</th>\n",
       "      <th>CKT</th>\n",
       "      <th>QQI</th>\n",
       "      <th>WXE</th>\n",
       "      <th>QFS</th>\n",
       "      <th>AKO</th>\n",
       "      <th>JNL</th>\n",
       "      <th>BTI</th>\n",
       "    </tr>\n",
       "  </thead>\n",
       "  <tbody>\n",
       "    <tr>\n",
       "      <th>p</th>\n",
       "      <td>77</td>\n",
       "      <td>38</td>\n",
       "      <td>53</td>\n",
       "      <td>55</td>\n",
       "      <td>58</td>\n",
       "      <td>98</td>\n",
       "      <td>33</td>\n",
       "      <td>2</td>\n",
       "      <td>30</td>\n",
       "      <td>96</td>\n",
       "    </tr>\n",
       "    <tr>\n",
       "      <th>g</th>\n",
       "      <td>94</td>\n",
       "      <td>5</td>\n",
       "      <td>90</td>\n",
       "      <td>62</td>\n",
       "      <td>69</td>\n",
       "      <td>29</td>\n",
       "      <td>6</td>\n",
       "      <td>77</td>\n",
       "      <td>15</td>\n",
       "      <td>5</td>\n",
       "    </tr>\n",
       "    <tr>\n",
       "      <th>u</th>\n",
       "      <td>91</td>\n",
       "      <td>8</td>\n",
       "      <td>31</td>\n",
       "      <td>97</td>\n",
       "      <td>2</td>\n",
       "      <td>29</td>\n",
       "      <td>5</td>\n",
       "      <td>85</td>\n",
       "      <td>97</td>\n",
       "      <td>64</td>\n",
       "    </tr>\n",
       "    <tr>\n",
       "      <th>q</th>\n",
       "      <td>83</td>\n",
       "      <td>96</td>\n",
       "      <td>62</td>\n",
       "      <td>22</td>\n",
       "      <td>83</td>\n",
       "      <td>63</td>\n",
       "      <td>15</td>\n",
       "      <td>34</td>\n",
       "      <td>55</td>\n",
       "      <td>33</td>\n",
       "    </tr>\n",
       "    <tr>\n",
       "      <th>m</th>\n",
       "      <td>33</td>\n",
       "      <td>75</td>\n",
       "      <td>7</td>\n",
       "      <td>66</td>\n",
       "      <td>11</td>\n",
       "      <td>83</td>\n",
       "      <td>56</td>\n",
       "      <td>58</td>\n",
       "      <td>5</td>\n",
       "      <td>52</td>\n",
       "    </tr>\n",
       "    <tr>\n",
       "      <th>b</th>\n",
       "      <td>29</td>\n",
       "      <td>49</td>\n",
       "      <td>96</td>\n",
       "      <td>19</td>\n",
       "      <td>51</td>\n",
       "      <td>63</td>\n",
       "      <td>81</td>\n",
       "      <td>14</td>\n",
       "      <td>39</td>\n",
       "      <td>22</td>\n",
       "    </tr>\n",
       "    <tr>\n",
       "      <th>j</th>\n",
       "      <td>30</td>\n",
       "      <td>98</td>\n",
       "      <td>0</td>\n",
       "      <td>27</td>\n",
       "      <td>22</td>\n",
       "      <td>61</td>\n",
       "      <td>99</td>\n",
       "      <td>10</td>\n",
       "      <td>95</td>\n",
       "      <td>38</td>\n",
       "    </tr>\n",
       "    <tr>\n",
       "      <th>q</th>\n",
       "      <td>39</td>\n",
       "      <td>30</td>\n",
       "      <td>98</td>\n",
       "      <td>42</td>\n",
       "      <td>44</td>\n",
       "      <td>58</td>\n",
       "      <td>77</td>\n",
       "      <td>67</td>\n",
       "      <td>15</td>\n",
       "      <td>73</td>\n",
       "    </tr>\n",
       "    <tr>\n",
       "      <th>m</th>\n",
       "      <td>99</td>\n",
       "      <td>29</td>\n",
       "      <td>31</td>\n",
       "      <td>27</td>\n",
       "      <td>66</td>\n",
       "      <td>6</td>\n",
       "      <td>3</td>\n",
       "      <td>95</td>\n",
       "      <td>75</td>\n",
       "      <td>74</td>\n",
       "    </tr>\n",
       "    <tr>\n",
       "      <th>g</th>\n",
       "      <td>91</td>\n",
       "      <td>36</td>\n",
       "      <td>12</td>\n",
       "      <td>3</td>\n",
       "      <td>25</td>\n",
       "      <td>30</td>\n",
       "      <td>84</td>\n",
       "      <td>40</td>\n",
       "      <td>56</td>\n",
       "      <td>12</td>\n",
       "    </tr>\n",
       "  </tbody>\n",
       "</table>\n",
       "</div>"
      ],
      "text/plain": [
       "   RWO  QEA  JEP  CKT  QQI  WXE  QFS  AKO  JNL  BTI\n",
       "p   77   38   53   55   58   98   33    2   30   96\n",
       "g   94    5   90   62   69   29    6   77   15    5\n",
       "u   91    8   31   97    2   29    5   85   97   64\n",
       "q   83   96   62   22   83   63   15   34   55   33\n",
       "m   33   75    7   66   11   83   56   58    5   52\n",
       "b   29   49   96   19   51   63   81   14   39   22\n",
       "j   30   98    0   27   22   61   99   10   95   38\n",
       "q   39   30   98   42   44   58   77   67   15   73\n",
       "m   99   29   31   27   66    6    3   95   75   74\n",
       "g   91   36   12    3   25   30   84   40   56   12"
      ]
     },
     "execution_count": 25,
     "metadata": {},
     "output_type": "execute_result"
    }
   ],
   "source": [
    "import pandas as pd\n",
    "import numpy as np\n",
    "\n",
    "no = 10\n",
    "value = np.random.randint(no * no, size = (no, no))\n",
    "col = [(chr(np.random.randint(65, 90)) + chr(np.random.randint(65, 90)) + chr(np.random.randint(65, 90))) for _ in range(no)]\n",
    "idx = [chr(np.random.randint(97, 122)) for _ in range(no)]\n",
    "df = pd.DataFrame(value, columns = col, index = idx)\n",
    "df"
   ]
  },
  {
   "cell_type": "markdown",
   "id": "aA5N7XaAKPPK",
   "metadata": {
    "id": "aA5N7XaAKPPK"
   },
   "source": [
    "#### 儲存不同數值型態。"
   ]
  },
  {
   "cell_type": "code",
   "execution_count": 26,
   "id": "tu_TEJ7lKPPK",
   "metadata": {
    "id": "tu_TEJ7lKPPK",
    "outputId": "25803c7a-fc70-44d5-ad15-5eb50bbb41dc"
   },
   "outputs": [
    {
     "data": {
      "text/html": [
       "<div>\n",
       "<style scoped>\n",
       "    .dataframe tbody tr th:only-of-type {\n",
       "        vertical-align: middle;\n",
       "    }\n",
       "\n",
       "    .dataframe tbody tr th {\n",
       "        vertical-align: top;\n",
       "    }\n",
       "\n",
       "    .dataframe thead th {\n",
       "        text-align: right;\n",
       "    }\n",
       "</style>\n",
       "<table border=\"1\" class=\"dataframe\">\n",
       "  <thead>\n",
       "    <tr style=\"text-align: right;\">\n",
       "      <th></th>\n",
       "      <th>date</th>\n",
       "      <th>str</th>\n",
       "      <th>chr</th>\n",
       "      <th>int</th>\n",
       "      <th>float</th>\n",
       "      <th>bool</th>\n",
       "      <th>complex</th>\n",
       "    </tr>\n",
       "  </thead>\n",
       "  <tbody>\n",
       "    <tr>\n",
       "      <th>0</th>\n",
       "      <td>2017-10-01</td>\n",
       "      <td>Mon.</td>\n",
       "      <td>a</td>\n",
       "      <td>0</td>\n",
       "      <td>0.327398</td>\n",
       "      <td>False</td>\n",
       "      <td>7.0+4.0j</td>\n",
       "    </tr>\n",
       "    <tr>\n",
       "      <th>1</th>\n",
       "      <td>2017-10-02</td>\n",
       "      <td>Tue.</td>\n",
       "      <td>b</td>\n",
       "      <td>10</td>\n",
       "      <td>0.603194</td>\n",
       "      <td>True</td>\n",
       "      <td>7.0+3.0j</td>\n",
       "    </tr>\n",
       "    <tr>\n",
       "      <th>2</th>\n",
       "      <td>2017-10-03</td>\n",
       "      <td>Wed.</td>\n",
       "      <td>c</td>\n",
       "      <td>20</td>\n",
       "      <td>0.104885</td>\n",
       "      <td>True</td>\n",
       "      <td>5.0+9.0j</td>\n",
       "    </tr>\n",
       "    <tr>\n",
       "      <th>3</th>\n",
       "      <td>2017-10-04</td>\n",
       "      <td>Thu.</td>\n",
       "      <td>d</td>\n",
       "      <td>30</td>\n",
       "      <td>0.472819</td>\n",
       "      <td>True</td>\n",
       "      <td>0.0+2.0j</td>\n",
       "    </tr>\n",
       "    <tr>\n",
       "      <th>4</th>\n",
       "      <td>2017-10-05</td>\n",
       "      <td>Fri.</td>\n",
       "      <td>e</td>\n",
       "      <td>40</td>\n",
       "      <td>0.466177</td>\n",
       "      <td>False</td>\n",
       "      <td>2.0+9.0j</td>\n",
       "    </tr>\n",
       "    <tr>\n",
       "      <th>5</th>\n",
       "      <td>2017-10-06</td>\n",
       "      <td>Sat.</td>\n",
       "      <td>f</td>\n",
       "      <td>50</td>\n",
       "      <td>0.387913</td>\n",
       "      <td>False</td>\n",
       "      <td>0.0+3.0j</td>\n",
       "    </tr>\n",
       "    <tr>\n",
       "      <th>6</th>\n",
       "      <td>2017-10-07</td>\n",
       "      <td>Sun.</td>\n",
       "      <td>g</td>\n",
       "      <td>60</td>\n",
       "      <td>0.078611</td>\n",
       "      <td>True</td>\n",
       "      <td>5.0+6.0j</td>\n",
       "    </tr>\n",
       "  </tbody>\n",
       "</table>\n",
       "</div>"
      ],
      "text/plain": [
       "        date   str chr  int     float   bool   complex\n",
       "0 2017-10-01  Mon.   a    0  0.327398  False  7.0+4.0j\n",
       "1 2017-10-02  Tue.   b   10  0.603194   True  7.0+3.0j\n",
       "2 2017-10-03  Wed.   c   20  0.104885   True  5.0+9.0j\n",
       "3 2017-10-04  Thu.   d   30  0.472819   True  0.0+2.0j\n",
       "4 2017-10-05  Fri.   e   40  0.466177  False  2.0+9.0j\n",
       "5 2017-10-06  Sat.   f   50  0.387913  False  0.0+3.0j\n",
       "6 2017-10-07  Sun.   g   60  0.078611   True  5.0+6.0j"
      ]
     },
     "execution_count": 26,
     "metadata": {},
     "output_type": "execute_result"
    }
   ],
   "source": [
    "import pandas as pd\n",
    "import numpy as np\n",
    "\n",
    "d = {\n",
    "    \"date\": pd.date_range(\"2017-10-01\", periods=7, freq = 'D'),\n",
    "    \"str\": [\"Mon.\", \"Tue.\", \"Wed.\", \"Thu.\", \"Fri.\", \"Sat.\", \"Sun.\"],\n",
    "    \"chr\": list('abcdefg'),\n",
    "    \"int\": list(range(0, 70, 10)),\n",
    "    \"float\": np.random.random(size = 7),\n",
    "    \"bool\": np.zeros(7, bool),\n",
    "    \"bool\": np.random.randint(5, 15, size = 7)%2 == 0,\n",
    "    \"complex\": [complex(np.random.randint(10), np.random.randint(10)) for _ in range(7)]\n",
    "}\n",
    "\n",
    "df = pd.DataFrame(d)\n",
    "df"
   ]
  },
  {
   "cell_type": "code",
   "execution_count": 34,
   "id": "3612632a",
   "metadata": {},
   "outputs": [
    {
     "data": {
      "text/html": [
       "<div>\n",
       "<style scoped>\n",
       "    .dataframe tbody tr th:only-of-type {\n",
       "        vertical-align: middle;\n",
       "    }\n",
       "\n",
       "    .dataframe tbody tr th {\n",
       "        vertical-align: top;\n",
       "    }\n",
       "\n",
       "    .dataframe thead th {\n",
       "        text-align: right;\n",
       "    }\n",
       "</style>\n",
       "<table border=\"1\" class=\"dataframe\">\n",
       "  <thead>\n",
       "    <tr style=\"text-align: right;\">\n",
       "      <th></th>\n",
       "      <th>0</th>\n",
       "      <th>2</th>\n",
       "      <th>4</th>\n",
       "    </tr>\n",
       "  </thead>\n",
       "  <tbody>\n",
       "    <tr>\n",
       "      <th>0</th>\n",
       "      <td>1</td>\n",
       "      <td>3</td>\n",
       "      <td>5</td>\n",
       "    </tr>\n",
       "  </tbody>\n",
       "</table>\n",
       "</div>"
      ],
      "text/plain": [
       "   0  2  4\n",
       "0  1  3  5"
      ]
     },
     "execution_count": 34,
     "metadata": {},
     "output_type": "execute_result"
    }
   ],
   "source": [
    "import pandas as pd\n",
    "\n",
    "d = {0:1, 2:3, 4:5}\n",
    "pd.DataFrame(d, index = [0])"
   ]
  },
  {
   "cell_type": "code",
   "execution_count": 36,
   "id": "e8efdd0d",
   "metadata": {},
   "outputs": [
    {
     "data": {
      "text/html": [
       "<div>\n",
       "<style scoped>\n",
       "    .dataframe tbody tr th:only-of-type {\n",
       "        vertical-align: middle;\n",
       "    }\n",
       "\n",
       "    .dataframe tbody tr th {\n",
       "        vertical-align: top;\n",
       "    }\n",
       "\n",
       "    .dataframe thead th {\n",
       "        text-align: right;\n",
       "    }\n",
       "</style>\n",
       "<table border=\"1\" class=\"dataframe\">\n",
       "  <thead>\n",
       "    <tr style=\"text-align: right;\">\n",
       "      <th></th>\n",
       "      <th>0</th>\n",
       "      <th>3</th>\n",
       "      <th>6</th>\n",
       "    </tr>\n",
       "  </thead>\n",
       "  <tbody>\n",
       "    <tr>\n",
       "      <th>1</th>\n",
       "      <td>2.0</td>\n",
       "      <td>NaN</td>\n",
       "      <td>NaN</td>\n",
       "    </tr>\n",
       "    <tr>\n",
       "      <th>4</th>\n",
       "      <td>NaN</td>\n",
       "      <td>5.0</td>\n",
       "      <td>NaN</td>\n",
       "    </tr>\n",
       "    <tr>\n",
       "      <th>7</th>\n",
       "      <td>NaN</td>\n",
       "      <td>NaN</td>\n",
       "      <td>8.0</td>\n",
       "    </tr>\n",
       "  </tbody>\n",
       "</table>\n",
       "</div>"
      ],
      "text/plain": [
       "     0    3    6\n",
       "1  2.0  NaN  NaN\n",
       "4  NaN  5.0  NaN\n",
       "7  NaN  NaN  8.0"
      ]
     },
     "execution_count": 36,
     "metadata": {},
     "output_type": "execute_result"
    }
   ],
   "source": [
    "import pandas as pd\n",
    "\n",
    "d = {0:{1:2}, 3:{4:5}, 6:{7:8}}\n",
    "pd.DataFrame(d)"
   ]
  },
  {
   "cell_type": "markdown",
   "id": "5i4_CwElKPPK",
   "metadata": {
    "id": "5i4_CwElKPPK"
   },
   "source": [
    "### 以串列 (List) 產生。"
   ]
  },
  {
   "cell_type": "code",
   "execution_count": 27,
   "id": "FmdChsNRKPPK",
   "metadata": {
    "id": "FmdChsNRKPPK",
    "outputId": "3c6db13b-e18f-400a-d0d6-241d0b70f444"
   },
   "outputs": [
    {
     "data": {
      "text/html": [
       "<div>\n",
       "<style scoped>\n",
       "    .dataframe tbody tr th:only-of-type {\n",
       "        vertical-align: middle;\n",
       "    }\n",
       "\n",
       "    .dataframe tbody tr th {\n",
       "        vertical-align: top;\n",
       "    }\n",
       "\n",
       "    .dataframe thead th {\n",
       "        text-align: right;\n",
       "    }\n",
       "</style>\n",
       "<table border=\"1\" class=\"dataframe\">\n",
       "  <thead>\n",
       "    <tr style=\"text-align: right;\">\n",
       "      <th></th>\n",
       "      <th>0</th>\n",
       "      <th>1</th>\n",
       "      <th>2</th>\n",
       "      <th>3</th>\n",
       "      <th>4</th>\n",
       "      <th>5</th>\n",
       "      <th>6</th>\n",
       "      <th>7</th>\n",
       "      <th>8</th>\n",
       "      <th>9</th>\n",
       "    </tr>\n",
       "  </thead>\n",
       "  <tbody>\n",
       "    <tr>\n",
       "      <th>0</th>\n",
       "      <td>40</td>\n",
       "      <td>17</td>\n",
       "      <td>67</td>\n",
       "      <td>8</td>\n",
       "      <td>64</td>\n",
       "      <td>72</td>\n",
       "      <td>91</td>\n",
       "      <td>82</td>\n",
       "      <td>20</td>\n",
       "      <td>8</td>\n",
       "    </tr>\n",
       "    <tr>\n",
       "      <th>1</th>\n",
       "      <td>58</td>\n",
       "      <td>99</td>\n",
       "      <td>82</td>\n",
       "      <td>19</td>\n",
       "      <td>23</td>\n",
       "      <td>44</td>\n",
       "      <td>92</td>\n",
       "      <td>90</td>\n",
       "      <td>20</td>\n",
       "      <td>12</td>\n",
       "    </tr>\n",
       "    <tr>\n",
       "      <th>2</th>\n",
       "      <td>33</td>\n",
       "      <td>28</td>\n",
       "      <td>62</td>\n",
       "      <td>21</td>\n",
       "      <td>5</td>\n",
       "      <td>96</td>\n",
       "      <td>69</td>\n",
       "      <td>91</td>\n",
       "      <td>58</td>\n",
       "      <td>49</td>\n",
       "    </tr>\n",
       "    <tr>\n",
       "      <th>3</th>\n",
       "      <td>76</td>\n",
       "      <td>37</td>\n",
       "      <td>75</td>\n",
       "      <td>58</td>\n",
       "      <td>6</td>\n",
       "      <td>81</td>\n",
       "      <td>68</td>\n",
       "      <td>89</td>\n",
       "      <td>98</td>\n",
       "      <td>87</td>\n",
       "    </tr>\n",
       "    <tr>\n",
       "      <th>4</th>\n",
       "      <td>9</td>\n",
       "      <td>12</td>\n",
       "      <td>23</td>\n",
       "      <td>63</td>\n",
       "      <td>6</td>\n",
       "      <td>49</td>\n",
       "      <td>60</td>\n",
       "      <td>6</td>\n",
       "      <td>29</td>\n",
       "      <td>15</td>\n",
       "    </tr>\n",
       "    <tr>\n",
       "      <th>5</th>\n",
       "      <td>2</td>\n",
       "      <td>33</td>\n",
       "      <td>25</td>\n",
       "      <td>65</td>\n",
       "      <td>65</td>\n",
       "      <td>11</td>\n",
       "      <td>55</td>\n",
       "      <td>43</td>\n",
       "      <td>50</td>\n",
       "      <td>70</td>\n",
       "    </tr>\n",
       "    <tr>\n",
       "      <th>6</th>\n",
       "      <td>15</td>\n",
       "      <td>2</td>\n",
       "      <td>80</td>\n",
       "      <td>97</td>\n",
       "      <td>53</td>\n",
       "      <td>64</td>\n",
       "      <td>23</td>\n",
       "      <td>91</td>\n",
       "      <td>30</td>\n",
       "      <td>31</td>\n",
       "    </tr>\n",
       "    <tr>\n",
       "      <th>7</th>\n",
       "      <td>90</td>\n",
       "      <td>80</td>\n",
       "      <td>68</td>\n",
       "      <td>52</td>\n",
       "      <td>68</td>\n",
       "      <td>17</td>\n",
       "      <td>94</td>\n",
       "      <td>52</td>\n",
       "      <td>22</td>\n",
       "      <td>88</td>\n",
       "    </tr>\n",
       "    <tr>\n",
       "      <th>8</th>\n",
       "      <td>56</td>\n",
       "      <td>85</td>\n",
       "      <td>10</td>\n",
       "      <td>93</td>\n",
       "      <td>61</td>\n",
       "      <td>95</td>\n",
       "      <td>82</td>\n",
       "      <td>59</td>\n",
       "      <td>40</td>\n",
       "      <td>4</td>\n",
       "    </tr>\n",
       "    <tr>\n",
       "      <th>9</th>\n",
       "      <td>91</td>\n",
       "      <td>97</td>\n",
       "      <td>37</td>\n",
       "      <td>63</td>\n",
       "      <td>32</td>\n",
       "      <td>24</td>\n",
       "      <td>93</td>\n",
       "      <td>94</td>\n",
       "      <td>72</td>\n",
       "      <td>43</td>\n",
       "    </tr>\n",
       "  </tbody>\n",
       "</table>\n",
       "</div>"
      ],
      "text/plain": [
       "    0   1   2   3   4   5   6   7   8   9\n",
       "0  40  17  67   8  64  72  91  82  20   8\n",
       "1  58  99  82  19  23  44  92  90  20  12\n",
       "2  33  28  62  21   5  96  69  91  58  49\n",
       "3  76  37  75  58   6  81  68  89  98  87\n",
       "4   9  12  23  63   6  49  60   6  29  15\n",
       "5   2  33  25  65  65  11  55  43  50  70\n",
       "6  15   2  80  97  53  64  23  91  30  31\n",
       "7  90  80  68  52  68  17  94  52  22  88\n",
       "8  56  85  10  93  61  95  82  59  40   4\n",
       "9  91  97  37  63  32  24  93  94  72  43"
      ]
     },
     "execution_count": 27,
     "metadata": {},
     "output_type": "execute_result"
    }
   ],
   "source": [
    "import pandas as pd\n",
    "import numpy as np\n",
    "\n",
    "l = list(np.random.randint(100, size =(10, 10)))\n",
    "df = pd.DataFrame(l)\n",
    "df"
   ]
  },
  {
   "cell_type": "markdown",
   "id": "6e29-DozKPPL",
   "metadata": {
    "id": "6e29-DozKPPL"
   },
   "source": [
    "### 以元祖(Tuple) 產生。"
   ]
  },
  {
   "cell_type": "code",
   "execution_count": 28,
   "id": "LDOSOLIKKPPL",
   "metadata": {
    "id": "LDOSOLIKKPPL",
    "outputId": "da311f99-c6f8-4328-e2df-02983ad6f04c"
   },
   "outputs": [
    {
     "data": {
      "text/html": [
       "<div>\n",
       "<style scoped>\n",
       "    .dataframe tbody tr th:only-of-type {\n",
       "        vertical-align: middle;\n",
       "    }\n",
       "\n",
       "    .dataframe tbody tr th {\n",
       "        vertical-align: top;\n",
       "    }\n",
       "\n",
       "    .dataframe thead th {\n",
       "        text-align: right;\n",
       "    }\n",
       "</style>\n",
       "<table border=\"1\" class=\"dataframe\">\n",
       "  <thead>\n",
       "    <tr style=\"text-align: right;\">\n",
       "      <th></th>\n",
       "      <th>0</th>\n",
       "      <th>1</th>\n",
       "      <th>2</th>\n",
       "      <th>3</th>\n",
       "      <th>4</th>\n",
       "      <th>5</th>\n",
       "      <th>6</th>\n",
       "      <th>7</th>\n",
       "      <th>8</th>\n",
       "      <th>9</th>\n",
       "    </tr>\n",
       "  </thead>\n",
       "  <tbody>\n",
       "    <tr>\n",
       "      <th>0</th>\n",
       "      <td>4</td>\n",
       "      <td>95</td>\n",
       "      <td>63</td>\n",
       "      <td>32</td>\n",
       "      <td>6</td>\n",
       "      <td>28</td>\n",
       "      <td>64</td>\n",
       "      <td>6</td>\n",
       "      <td>30</td>\n",
       "      <td>40</td>\n",
       "    </tr>\n",
       "    <tr>\n",
       "      <th>1</th>\n",
       "      <td>89</td>\n",
       "      <td>97</td>\n",
       "      <td>54</td>\n",
       "      <td>24</td>\n",
       "      <td>18</td>\n",
       "      <td>32</td>\n",
       "      <td>35</td>\n",
       "      <td>22</td>\n",
       "      <td>22</td>\n",
       "      <td>62</td>\n",
       "    </tr>\n",
       "    <tr>\n",
       "      <th>2</th>\n",
       "      <td>98</td>\n",
       "      <td>14</td>\n",
       "      <td>28</td>\n",
       "      <td>37</td>\n",
       "      <td>57</td>\n",
       "      <td>27</td>\n",
       "      <td>27</td>\n",
       "      <td>80</td>\n",
       "      <td>76</td>\n",
       "      <td>22</td>\n",
       "    </tr>\n",
       "    <tr>\n",
       "      <th>3</th>\n",
       "      <td>85</td>\n",
       "      <td>29</td>\n",
       "      <td>56</td>\n",
       "      <td>21</td>\n",
       "      <td>90</td>\n",
       "      <td>79</td>\n",
       "      <td>5</td>\n",
       "      <td>24</td>\n",
       "      <td>20</td>\n",
       "      <td>46</td>\n",
       "    </tr>\n",
       "    <tr>\n",
       "      <th>4</th>\n",
       "      <td>60</td>\n",
       "      <td>45</td>\n",
       "      <td>49</td>\n",
       "      <td>48</td>\n",
       "      <td>71</td>\n",
       "      <td>1</td>\n",
       "      <td>52</td>\n",
       "      <td>86</td>\n",
       "      <td>83</td>\n",
       "      <td>16</td>\n",
       "    </tr>\n",
       "    <tr>\n",
       "      <th>5</th>\n",
       "      <td>15</td>\n",
       "      <td>9</td>\n",
       "      <td>71</td>\n",
       "      <td>29</td>\n",
       "      <td>34</td>\n",
       "      <td>58</td>\n",
       "      <td>75</td>\n",
       "      <td>6</td>\n",
       "      <td>88</td>\n",
       "      <td>48</td>\n",
       "    </tr>\n",
       "    <tr>\n",
       "      <th>6</th>\n",
       "      <td>99</td>\n",
       "      <td>7</td>\n",
       "      <td>66</td>\n",
       "      <td>34</td>\n",
       "      <td>52</td>\n",
       "      <td>54</td>\n",
       "      <td>97</td>\n",
       "      <td>2</td>\n",
       "      <td>41</td>\n",
       "      <td>91</td>\n",
       "    </tr>\n",
       "    <tr>\n",
       "      <th>7</th>\n",
       "      <td>81</td>\n",
       "      <td>21</td>\n",
       "      <td>59</td>\n",
       "      <td>30</td>\n",
       "      <td>0</td>\n",
       "      <td>72</td>\n",
       "      <td>71</td>\n",
       "      <td>47</td>\n",
       "      <td>10</td>\n",
       "      <td>0</td>\n",
       "    </tr>\n",
       "    <tr>\n",
       "      <th>8</th>\n",
       "      <td>79</td>\n",
       "      <td>49</td>\n",
       "      <td>82</td>\n",
       "      <td>59</td>\n",
       "      <td>60</td>\n",
       "      <td>36</td>\n",
       "      <td>6</td>\n",
       "      <td>50</td>\n",
       "      <td>96</td>\n",
       "      <td>25</td>\n",
       "    </tr>\n",
       "    <tr>\n",
       "      <th>9</th>\n",
       "      <td>0</td>\n",
       "      <td>97</td>\n",
       "      <td>48</td>\n",
       "      <td>35</td>\n",
       "      <td>38</td>\n",
       "      <td>27</td>\n",
       "      <td>28</td>\n",
       "      <td>32</td>\n",
       "      <td>91</td>\n",
       "      <td>86</td>\n",
       "    </tr>\n",
       "  </tbody>\n",
       "</table>\n",
       "</div>"
      ],
      "text/plain": [
       "    0   1   2   3   4   5   6   7   8   9\n",
       "0   4  95  63  32   6  28  64   6  30  40\n",
       "1  89  97  54  24  18  32  35  22  22  62\n",
       "2  98  14  28  37  57  27  27  80  76  22\n",
       "3  85  29  56  21  90  79   5  24  20  46\n",
       "4  60  45  49  48  71   1  52  86  83  16\n",
       "5  15   9  71  29  34  58  75   6  88  48\n",
       "6  99   7  66  34  52  54  97   2  41  91\n",
       "7  81  21  59  30   0  72  71  47  10   0\n",
       "8  79  49  82  59  60  36   6  50  96  25\n",
       "9   0  97  48  35  38  27  28  32  91  86"
      ]
     },
     "execution_count": 28,
     "metadata": {},
     "output_type": "execute_result"
    }
   ],
   "source": [
    "import pandas as pd\n",
    "import numpy as np\n",
    "\n",
    "t = tuple(np.random.randint(100, size = (10, 10)))\n",
    "df = pd.DataFrame(t)\n",
    "df"
   ]
  },
  {
   "cell_type": "markdown",
   "id": "NhkSe34AKPPL",
   "metadata": {
    "id": "NhkSe34AKPPL"
   },
   "source": [
    "### 以字典 (Dict) 產生。"
   ]
  },
  {
   "cell_type": "code",
   "execution_count": 37,
   "id": "DZzZSmZ6KPPL",
   "metadata": {
    "id": "DZzZSmZ6KPPL",
    "outputId": "b5c17d6a-5ef5-4744-cdf1-12f45f7719a7"
   },
   "outputs": [
    {
     "data": {
      "text/html": [
       "<div>\n",
       "<style scoped>\n",
       "    .dataframe tbody tr th:only-of-type {\n",
       "        vertical-align: middle;\n",
       "    }\n",
       "\n",
       "    .dataframe tbody tr th {\n",
       "        vertical-align: top;\n",
       "    }\n",
       "\n",
       "    .dataframe thead th {\n",
       "        text-align: right;\n",
       "    }\n",
       "</style>\n",
       "<table border=\"1\" class=\"dataframe\">\n",
       "  <thead>\n",
       "    <tr style=\"text-align: right;\">\n",
       "      <th></th>\n",
       "      <th>a</th>\n",
       "      <th>b</th>\n",
       "      <th>c</th>\n",
       "    </tr>\n",
       "  </thead>\n",
       "  <tbody>\n",
       "    <tr>\n",
       "      <th>0</th>\n",
       "      <td>3</td>\n",
       "      <td>16</td>\n",
       "      <td>22</td>\n",
       "    </tr>\n",
       "    <tr>\n",
       "      <th>1</th>\n",
       "      <td>2</td>\n",
       "      <td>11</td>\n",
       "      <td>20</td>\n",
       "    </tr>\n",
       "    <tr>\n",
       "      <th>2</th>\n",
       "      <td>2</td>\n",
       "      <td>19</td>\n",
       "      <td>27</td>\n",
       "    </tr>\n",
       "    <tr>\n",
       "      <th>3</th>\n",
       "      <td>5</td>\n",
       "      <td>15</td>\n",
       "      <td>29</td>\n",
       "    </tr>\n",
       "    <tr>\n",
       "      <th>4</th>\n",
       "      <td>7</td>\n",
       "      <td>13</td>\n",
       "      <td>28</td>\n",
       "    </tr>\n",
       "  </tbody>\n",
       "</table>\n",
       "</div>"
      ],
      "text/plain": [
       "   a   b   c\n",
       "0  3  16  22\n",
       "1  2  11  20\n",
       "2  2  19  27\n",
       "3  5  15  29\n",
       "4  7  13  28"
      ]
     },
     "execution_count": 37,
     "metadata": {},
     "output_type": "execute_result"
    }
   ],
   "source": [
    "import pandas as pd\n",
    "import numpy as np\n",
    "\n",
    "d = []\n",
    "for i in range(5):\n",
    "    d.append({'a': np.random.randint(0,  10),\n",
    "              'b': np.random.randint(10, 20),\n",
    "              'c': np.random.randint(20, 30)})\n",
    "df = pd.DataFrame(d)\n",
    "df"
   ]
  },
  {
   "cell_type": "code",
   "execution_count": null,
   "id": "vQU3ptAsKPPL",
   "metadata": {
    "id": "vQU3ptAsKPPL",
    "outputId": "51f01471-9077-4307-f6d3-16705f60642c"
   },
   "outputs": [
    {
     "data": {
      "text/html": [
       "<div>\n",
       "<style scoped>\n",
       "    .dataframe tbody tr th:only-of-type {\n",
       "        vertical-align: middle;\n",
       "    }\n",
       "\n",
       "    .dataframe tbody tr th {\n",
       "        vertical-align: top;\n",
       "    }\n",
       "\n",
       "    .dataframe thead th {\n",
       "        text-align: right;\n",
       "    }\n",
       "</style>\n",
       "<table border=\"1\" class=\"dataframe\">\n",
       "  <thead>\n",
       "    <tr style=\"text-align: right;\">\n",
       "      <th></th>\n",
       "      <th>idx0</th>\n",
       "      <th>idx1</th>\n",
       "      <th>idx2</th>\n",
       "    </tr>\n",
       "  </thead>\n",
       "  <tbody>\n",
       "    <tr>\n",
       "      <th>a</th>\n",
       "      <td>1</td>\n",
       "      <td>4</td>\n",
       "      <td>7</td>\n",
       "    </tr>\n",
       "    <tr>\n",
       "      <th>b</th>\n",
       "      <td>2</td>\n",
       "      <td>5</td>\n",
       "      <td>8</td>\n",
       "    </tr>\n",
       "    <tr>\n",
       "      <th>c</th>\n",
       "      <td>3</td>\n",
       "      <td>6</td>\n",
       "      <td>9</td>\n",
       "    </tr>\n",
       "  </tbody>\n",
       "</table>\n",
       "</div>"
      ],
      "text/plain": [
       "   idx0  idx1  idx2\n",
       "a     1     4     7\n",
       "b     2     5     8\n",
       "c     3     6     9"
      ]
     },
     "execution_count": 2,
     "metadata": {},
     "output_type": "execute_result"
    }
   ],
   "source": [
    "import pandas as pd\n",
    "d = {'idx0':{'a':1, 'b':2, 'c':3}, \n",
    "     'idx1':{'a':4, 'b':5, 'c':6},\n",
    "     'idx2':{'a':7, 'b':8, 'c':9}}\n",
    "pd.DataFrame(d)"
   ]
  },
  {
   "cell_type": "markdown",
   "id": "49c42ac9",
   "metadata": {},
   "source": [
    "### Series to DataFrame"
   ]
  },
  {
   "cell_type": "code",
   "execution_count": 19,
   "id": "71438168",
   "metadata": {},
   "outputs": [
    {
     "data": {
      "text/html": [
       "<div>\n",
       "<style scoped>\n",
       "    .dataframe tbody tr th:only-of-type {\n",
       "        vertical-align: middle;\n",
       "    }\n",
       "\n",
       "    .dataframe tbody tr th {\n",
       "        vertical-align: top;\n",
       "    }\n",
       "\n",
       "    .dataframe thead th {\n",
       "        text-align: right;\n",
       "    }\n",
       "</style>\n",
       "<table border=\"1\" class=\"dataframe\">\n",
       "  <thead>\n",
       "    <tr style=\"text-align: right;\">\n",
       "      <th></th>\n",
       "      <th>編號</th>\n",
       "    </tr>\n",
       "  </thead>\n",
       "  <tbody>\n",
       "    <tr>\n",
       "      <th>0</th>\n",
       "      <td>0</td>\n",
       "    </tr>\n",
       "    <tr>\n",
       "      <th>1</th>\n",
       "      <td>1</td>\n",
       "    </tr>\n",
       "    <tr>\n",
       "      <th>2</th>\n",
       "      <td>2</td>\n",
       "    </tr>\n",
       "  </tbody>\n",
       "</table>\n",
       "</div>"
      ],
      "text/plain": [
       "   編號\n",
       "0   0\n",
       "1   1\n",
       "2   2"
      ]
     },
     "execution_count": 19,
     "metadata": {},
     "output_type": "execute_result"
    }
   ],
   "source": [
    "import pandas as pd\n",
    "s = pd.Series([0, 1, 2])\n",
    "s = s.to_frame(name='編號')\n",
    "s"
   ]
  },
  {
   "cell_type": "markdown",
   "id": "ae0c0515",
   "metadata": {},
   "source": [
    "### DataFrame to Series"
   ]
  },
  {
   "cell_type": "code",
   "execution_count": 20,
   "id": "34e53915",
   "metadata": {},
   "outputs": [
    {
     "data": {
      "text/plain": [
       "0    0\n",
       "1    1\n",
       "2    2\n",
       "Name: 編號, dtype: int64"
      ]
     },
     "execution_count": 20,
     "metadata": {},
     "output_type": "execute_result"
    }
   ],
   "source": [
    "s.squeeze()"
   ]
  },
  {
   "cell_type": "markdown",
   "id": "2hYAq0JUKPPM",
   "metadata": {
    "id": "2hYAq0JUKPPM"
   },
   "source": [
    "# 2. DataFrame 增加元素\n",
    "### 新增 Column\n",
    "\n",
    "![](image\\20210710-3.png)"
   ]
  },
  {
   "cell_type": "markdown",
   "id": "o7LudFazKPPM",
   "metadata": {
    "id": "o7LudFazKPPM"
   },
   "source": [
    "##### 方法1"
   ]
  },
  {
   "cell_type": "code",
   "execution_count": 63,
   "id": "scuric5HKPPM",
   "metadata": {
    "id": "scuric5HKPPM",
    "outputId": "56019955-a324-4758-89a3-8cd511befb92"
   },
   "outputs": [
    {
     "data": {
      "text/html": [
       "<div>\n",
       "<style scoped>\n",
       "    .dataframe tbody tr th:only-of-type {\n",
       "        vertical-align: middle;\n",
       "    }\n",
       "\n",
       "    .dataframe tbody tr th {\n",
       "        vertical-align: top;\n",
       "    }\n",
       "\n",
       "    .dataframe thead th {\n",
       "        text-align: right;\n",
       "    }\n",
       "</style>\n",
       "<table border=\"1\" class=\"dataframe\">\n",
       "  <thead>\n",
       "    <tr style=\"text-align: right;\">\n",
       "      <th></th>\n",
       "      <th>座號</th>\n",
       "      <th>姓名</th>\n",
       "      <th>國文</th>\n",
       "      <th>英文</th>\n",
       "      <th>數學</th>\n",
       "      <th>地理</th>\n",
       "    </tr>\n",
       "  </thead>\n",
       "  <tbody>\n",
       "    <tr>\n",
       "      <th>0</th>\n",
       "      <td>1</td>\n",
       "      <td>劉德華</td>\n",
       "      <td>50</td>\n",
       "      <td>56</td>\n",
       "      <td>65</td>\n",
       "      <td>90</td>\n",
       "    </tr>\n",
       "    <tr>\n",
       "      <th>1</th>\n",
       "      <td>2</td>\n",
       "      <td>黎明</td>\n",
       "      <td>56</td>\n",
       "      <td>78</td>\n",
       "      <td>78</td>\n",
       "      <td>33</td>\n",
       "    </tr>\n",
       "    <tr>\n",
       "      <th>2</th>\n",
       "      <td>3</td>\n",
       "      <td>郭富城</td>\n",
       "      <td>78</td>\n",
       "      <td>63</td>\n",
       "      <td>96</td>\n",
       "      <td>45</td>\n",
       "    </tr>\n",
       "    <tr>\n",
       "      <th>3</th>\n",
       "      <td>4</td>\n",
       "      <td>張學友</td>\n",
       "      <td>96</td>\n",
       "      <td>25</td>\n",
       "      <td>65</td>\n",
       "      <td>80</td>\n",
       "    </tr>\n",
       "    <tr>\n",
       "      <th>4</th>\n",
       "      <td>5</td>\n",
       "      <td>張惠妹</td>\n",
       "      <td>21</td>\n",
       "      <td>98</td>\n",
       "      <td>45</td>\n",
       "      <td>60</td>\n",
       "    </tr>\n",
       "    <tr>\n",
       "      <th>5</th>\n",
       "      <td>6</td>\n",
       "      <td>伍百</td>\n",
       "      <td>58</td>\n",
       "      <td>25</td>\n",
       "      <td>25</td>\n",
       "      <td>56</td>\n",
       "    </tr>\n",
       "    <tr>\n",
       "      <th>6</th>\n",
       "      <td>7</td>\n",
       "      <td>孫燕姿</td>\n",
       "      <td>63</td>\n",
       "      <td>87</td>\n",
       "      <td>81</td>\n",
       "      <td>69</td>\n",
       "    </tr>\n",
       "  </tbody>\n",
       "</table>\n",
       "</div>"
      ],
      "text/plain": [
       "   座號   姓名  國文  英文  數學  地理\n",
       "0   1  劉德華  50  56  65  90\n",
       "1   2   黎明  56  78  78  33\n",
       "2   3  郭富城  78  63  96  45\n",
       "3   4  張學友  96  25  65  80\n",
       "4   5  張惠妹  21  98  45  60\n",
       "5   6   伍百  58  25  25  56\n",
       "6   7  孫燕姿  63  87  81  69"
      ]
     },
     "execution_count": 63,
     "metadata": {},
     "output_type": "execute_result"
    }
   ],
   "source": [
    "import pandas as pd\n",
    "\n",
    "scores = {'座號':[1, 2, 3 ,4, 5, 6, 7],\n",
    "          '姓名':['劉德華', '黎明', '郭富城', '張學友', '張惠妹', '伍百', '孫燕姿'],\n",
    "          '國文':[50, 56, 78, 96, 21, 58, 63],\n",
    "          '英文':[56, 78, 63, 25, 98, 25, 87],\n",
    "          '數學':[65, 78, 96, 65, 45, 25, 81]\n",
    "}\n",
    "df = pd.DataFrame(scores)\n",
    "df['地理'] = [90, 33, 45, 80, 60, 56, 69] \n",
    "df"
   ]
  },
  {
   "cell_type": "markdown",
   "id": "OV_57Y4bKPPM",
   "metadata": {
    "id": "OV_57Y4bKPPM"
   },
   "source": [
    "##### 方法2"
   ]
  },
  {
   "cell_type": "code",
   "execution_count": 66,
   "id": "-5XmGaHkKPPM",
   "metadata": {
    "id": "-5XmGaHkKPPM",
    "outputId": "cb1e1084-956a-4b46-d8d5-7db910718286"
   },
   "outputs": [
    {
     "data": {
      "text/html": [
       "<div>\n",
       "<style scoped>\n",
       "    .dataframe tbody tr th:only-of-type {\n",
       "        vertical-align: middle;\n",
       "    }\n",
       "\n",
       "    .dataframe tbody tr th {\n",
       "        vertical-align: top;\n",
       "    }\n",
       "\n",
       "    .dataframe thead th {\n",
       "        text-align: right;\n",
       "    }\n",
       "</style>\n",
       "<table border=\"1\" class=\"dataframe\">\n",
       "  <thead>\n",
       "    <tr style=\"text-align: right;\">\n",
       "      <th></th>\n",
       "      <th>座號</th>\n",
       "      <th>姓名</th>\n",
       "      <th>國文</th>\n",
       "      <th>英文</th>\n",
       "      <th>數學</th>\n",
       "      <th>歷史</th>\n",
       "    </tr>\n",
       "  </thead>\n",
       "  <tbody>\n",
       "    <tr>\n",
       "      <th>0</th>\n",
       "      <td>1</td>\n",
       "      <td>劉德華</td>\n",
       "      <td>50</td>\n",
       "      <td>56</td>\n",
       "      <td>65</td>\n",
       "      <td>90</td>\n",
       "    </tr>\n",
       "    <tr>\n",
       "      <th>1</th>\n",
       "      <td>2</td>\n",
       "      <td>黎明</td>\n",
       "      <td>56</td>\n",
       "      <td>78</td>\n",
       "      <td>78</td>\n",
       "      <td>70</td>\n",
       "    </tr>\n",
       "    <tr>\n",
       "      <th>2</th>\n",
       "      <td>3</td>\n",
       "      <td>郭富城</td>\n",
       "      <td>78</td>\n",
       "      <td>63</td>\n",
       "      <td>96</td>\n",
       "      <td>45</td>\n",
       "    </tr>\n",
       "    <tr>\n",
       "      <th>3</th>\n",
       "      <td>4</td>\n",
       "      <td>張學友</td>\n",
       "      <td>96</td>\n",
       "      <td>25</td>\n",
       "      <td>65</td>\n",
       "      <td>80</td>\n",
       "    </tr>\n",
       "    <tr>\n",
       "      <th>4</th>\n",
       "      <td>5</td>\n",
       "      <td>張惠妹</td>\n",
       "      <td>21</td>\n",
       "      <td>98</td>\n",
       "      <td>45</td>\n",
       "      <td>60</td>\n",
       "    </tr>\n",
       "    <tr>\n",
       "      <th>5</th>\n",
       "      <td>6</td>\n",
       "      <td>伍百</td>\n",
       "      <td>58</td>\n",
       "      <td>25</td>\n",
       "      <td>25</td>\n",
       "      <td>33</td>\n",
       "    </tr>\n",
       "    <tr>\n",
       "      <th>6</th>\n",
       "      <td>7</td>\n",
       "      <td>孫燕姿</td>\n",
       "      <td>63</td>\n",
       "      <td>87</td>\n",
       "      <td>81</td>\n",
       "      <td>25</td>\n",
       "    </tr>\n",
       "  </tbody>\n",
       "</table>\n",
       "</div>"
      ],
      "text/plain": [
       "   座號   姓名  國文  英文  數學  歷史\n",
       "0   1  劉德華  50  56  65  90\n",
       "1   2   黎明  56  78  78  70\n",
       "2   3  郭富城  78  63  96  45\n",
       "3   4  張學友  96  25  65  80\n",
       "4   5  張惠妹  21  98  45  60\n",
       "5   6   伍百  58  25  25  33\n",
       "6   7  孫燕姿  63  87  81  25"
      ]
     },
     "metadata": {},
     "output_type": "display_data"
    }
   ],
   "source": [
    "import pandas as pd\n",
    "from IPython.display import display\n",
    "scores = {'座號':[1, 2, 3 ,4, 5, 6, 7],\n",
    "          '姓名':['劉德華', '黎明', '郭富城', '張學友', '張惠妹', '伍百', '孫燕姿'],\n",
    "          '國文':[50, 56, 78, 96, 21, 58, 63],\n",
    "          '英文':[56, 78, 63, 25, 98, 25, 87],\n",
    "          '數學':[65, 78, 96, 65, 45, 25, 81]\n",
    "}\n",
    "df = pd.DataFrame(scores)\n",
    "df.insert(5, \"歷史\", [90, 70, 45, 80, 60, 33, 25]) \n",
    "display(df)"
   ]
  },
  {
   "cell_type": "markdown",
   "id": "eBfGuu90KPPM",
   "metadata": {
    "id": "eBfGuu90KPPM"
   },
   "source": [
    "### 新增Row\n",
    "![](image\\20210710-4.png)"
   ]
  },
  {
   "cell_type": "markdown",
   "id": "LIAlCBpTKPPM",
   "metadata": {
    "id": "LIAlCBpTKPPM"
   },
   "source": [
    "##### 方法1"
   ]
  },
  {
   "cell_type": "code",
   "execution_count": 71,
   "id": "aBkZ8dieKPPM",
   "metadata": {
    "id": "aBkZ8dieKPPM",
    "outputId": "36236ba6-3eb5-4e7b-f146-2c72bcf25831"
   },
   "outputs": [
    {
     "name": "stderr",
     "output_type": "stream",
     "text": [
      "C:\\Users\\USER\\AppData\\Local\\Temp\\ipykernel_8576\\1331775665.py:16: FutureWarning: The frame.append method is deprecated and will be removed from pandas in a future version. Use pandas.concat instead.\n",
      "  df = df.append(newdata, ignore_index=True)\n"
     ]
    },
    {
     "data": {
      "text/html": [
       "<div>\n",
       "<style scoped>\n",
       "    .dataframe tbody tr th:only-of-type {\n",
       "        vertical-align: middle;\n",
       "    }\n",
       "\n",
       "    .dataframe tbody tr th {\n",
       "        vertical-align: top;\n",
       "    }\n",
       "\n",
       "    .dataframe thead th {\n",
       "        text-align: right;\n",
       "    }\n",
       "</style>\n",
       "<table border=\"1\" class=\"dataframe\">\n",
       "  <thead>\n",
       "    <tr style=\"text-align: right;\">\n",
       "      <th></th>\n",
       "      <th>座號</th>\n",
       "      <th>姓名</th>\n",
       "      <th>國文</th>\n",
       "      <th>英文</th>\n",
       "      <th>數學</th>\n",
       "    </tr>\n",
       "  </thead>\n",
       "  <tbody>\n",
       "    <tr>\n",
       "      <th>0</th>\n",
       "      <td>1</td>\n",
       "      <td>劉德華</td>\n",
       "      <td>50</td>\n",
       "      <td>56</td>\n",
       "      <td>65</td>\n",
       "    </tr>\n",
       "    <tr>\n",
       "      <th>1</th>\n",
       "      <td>2</td>\n",
       "      <td>黎明</td>\n",
       "      <td>56</td>\n",
       "      <td>78</td>\n",
       "      <td>78</td>\n",
       "    </tr>\n",
       "    <tr>\n",
       "      <th>2</th>\n",
       "      <td>3</td>\n",
       "      <td>郭富城</td>\n",
       "      <td>78</td>\n",
       "      <td>63</td>\n",
       "      <td>96</td>\n",
       "    </tr>\n",
       "    <tr>\n",
       "      <th>3</th>\n",
       "      <td>4</td>\n",
       "      <td>張學友</td>\n",
       "      <td>96</td>\n",
       "      <td>25</td>\n",
       "      <td>65</td>\n",
       "    </tr>\n",
       "    <tr>\n",
       "      <th>4</th>\n",
       "      <td>5</td>\n",
       "      <td>張惠妹</td>\n",
       "      <td>21</td>\n",
       "      <td>98</td>\n",
       "      <td>45</td>\n",
       "    </tr>\n",
       "    <tr>\n",
       "      <th>5</th>\n",
       "      <td>6</td>\n",
       "      <td>伍百</td>\n",
       "      <td>58</td>\n",
       "      <td>25</td>\n",
       "      <td>25</td>\n",
       "    </tr>\n",
       "    <tr>\n",
       "      <th>6</th>\n",
       "      <td>7</td>\n",
       "      <td>孫燕姿</td>\n",
       "      <td>63</td>\n",
       "      <td>87</td>\n",
       "      <td>81</td>\n",
       "    </tr>\n",
       "    <tr>\n",
       "      <th>7</th>\n",
       "      <td>8</td>\n",
       "      <td>蕭亞軒</td>\n",
       "      <td>70</td>\n",
       "      <td>90</td>\n",
       "      <td>59</td>\n",
       "    </tr>\n",
       "  </tbody>\n",
       "</table>\n",
       "</div>"
      ],
      "text/plain": [
       "   座號   姓名  國文  英文  數學\n",
       "0   1  劉德華  50  56  65\n",
       "1   2   黎明  56  78  78\n",
       "2   3  郭富城  78  63  96\n",
       "3   4  張學友  96  25  65\n",
       "4   5  張惠妹  21  98  45\n",
       "5   6   伍百  58  25  25\n",
       "6   7  孫燕姿  63  87  81\n",
       "7   8  蕭亞軒  70  90  59"
      ]
     },
     "metadata": {},
     "output_type": "display_data"
    }
   ],
   "source": [
    "import pandas as pd\n",
    "from IPython.display import display\n",
    "scores = {'座號':[1, 2, 3 ,4, 5, 6, 7],\n",
    "          '姓名':['劉德華', '黎明', '郭富城', '張學友', '張惠妹', '伍百', '孫燕姿'],\n",
    "          '國文':[50, 56, 78, 96, 21, 58, 63],\n",
    "          '英文':[56, 78, 63, 25, 98, 25, 87],\n",
    "          '數學':[65, 78, 96, 65, 45, 25, 81]\n",
    "}\n",
    "df = pd.DataFrame(scores)\n",
    "\n",
    "newdata = pd.DataFrame({'座號':[8],\n",
    "                        '姓名':['蕭亞軒'],\n",
    "                        '國文':[70],\n",
    "                        '英文':[90],\n",
    "                        '數學':[59]})\n",
    "df = df.append(newdata, ignore_index=True)\n",
    "display(df)"
   ]
  },
  {
   "cell_type": "markdown",
   "id": "tmYkqGn4KPPN",
   "metadata": {
    "id": "tmYkqGn4KPPN"
   },
   "source": [
    "##### 方法2"
   ]
  },
  {
   "cell_type": "code",
   "execution_count": 79,
   "id": "yXhmF9lBKPPN",
   "metadata": {
    "id": "yXhmF9lBKPPN",
    "outputId": "8a909592-59f8-40fa-cf2e-cd0b5d52b0bd"
   },
   "outputs": [
    {
     "data": {
      "text/html": [
       "<div>\n",
       "<style scoped>\n",
       "    .dataframe tbody tr th:only-of-type {\n",
       "        vertical-align: middle;\n",
       "    }\n",
       "\n",
       "    .dataframe tbody tr th {\n",
       "        vertical-align: top;\n",
       "    }\n",
       "\n",
       "    .dataframe thead th {\n",
       "        text-align: right;\n",
       "    }\n",
       "</style>\n",
       "<table border=\"1\" class=\"dataframe\">\n",
       "  <thead>\n",
       "    <tr style=\"text-align: right;\">\n",
       "      <th></th>\n",
       "      <th>座號</th>\n",
       "      <th>姓名</th>\n",
       "      <th>國文</th>\n",
       "      <th>英文</th>\n",
       "      <th>數學</th>\n",
       "    </tr>\n",
       "  </thead>\n",
       "  <tbody>\n",
       "    <tr>\n",
       "      <th>0</th>\n",
       "      <td>1</td>\n",
       "      <td>劉德華</td>\n",
       "      <td>50</td>\n",
       "      <td>56</td>\n",
       "      <td>65</td>\n",
       "    </tr>\n",
       "    <tr>\n",
       "      <th>1</th>\n",
       "      <td>2</td>\n",
       "      <td>黎明</td>\n",
       "      <td>56</td>\n",
       "      <td>78</td>\n",
       "      <td>78</td>\n",
       "    </tr>\n",
       "    <tr>\n",
       "      <th>2</th>\n",
       "      <td>3</td>\n",
       "      <td>郭富城</td>\n",
       "      <td>78</td>\n",
       "      <td>63</td>\n",
       "      <td>96</td>\n",
       "    </tr>\n",
       "    <tr>\n",
       "      <th>3</th>\n",
       "      <td>4</td>\n",
       "      <td>張學友</td>\n",
       "      <td>96</td>\n",
       "      <td>25</td>\n",
       "      <td>65</td>\n",
       "    </tr>\n",
       "    <tr>\n",
       "      <th>4</th>\n",
       "      <td>5</td>\n",
       "      <td>張惠妹</td>\n",
       "      <td>21</td>\n",
       "      <td>98</td>\n",
       "      <td>45</td>\n",
       "    </tr>\n",
       "    <tr>\n",
       "      <th>5</th>\n",
       "      <td>6</td>\n",
       "      <td>伍百</td>\n",
       "      <td>58</td>\n",
       "      <td>25</td>\n",
       "      <td>25</td>\n",
       "    </tr>\n",
       "    <tr>\n",
       "      <th>6</th>\n",
       "      <td>7</td>\n",
       "      <td>孫燕姿</td>\n",
       "      <td>63</td>\n",
       "      <td>87</td>\n",
       "      <td>81</td>\n",
       "    </tr>\n",
       "    <tr>\n",
       "      <th>7</th>\n",
       "      <td>8</td>\n",
       "      <td>蕭亞軒</td>\n",
       "      <td>70</td>\n",
       "      <td>90</td>\n",
       "      <td>59</td>\n",
       "    </tr>\n",
       "  </tbody>\n",
       "</table>\n",
       "</div>"
      ],
      "text/plain": [
       "   座號   姓名  國文  英文  數學\n",
       "0   1  劉德華  50  56  65\n",
       "1   2   黎明  56  78  78\n",
       "2   3  郭富城  78  63  96\n",
       "3   4  張學友  96  25  65\n",
       "4   5  張惠妹  21  98  45\n",
       "5   6   伍百  58  25  25\n",
       "6   7  孫燕姿  63  87  81\n",
       "7   8  蕭亞軒  70  90  59"
      ]
     },
     "execution_count": 79,
     "metadata": {},
     "output_type": "execute_result"
    }
   ],
   "source": [
    "import pandas as pd\n",
    "from IPython.display import display\n",
    "scores = {'座號':[1, 2, 3 ,4, 5, 6, 7],\n",
    "          '姓名':['劉德華', '黎明', '郭富城', '張學友', '張惠妹', '伍百', '孫燕姿'],\n",
    "          '國文':[50, 56, 78, 96, 21, 58, 63],\n",
    "          '英文':[56, 78, 63, 25, 98, 25, 87],\n",
    "          '數學':[65, 78, 96, 65, 45, 25, 81]\n",
    "}\n",
    "df = pd.DataFrame(scores)\n",
    "\n",
    "df.loc[7] = [8, '蕭亞軒', 70, 90, 59]\n",
    "df"
   ]
  },
  {
   "cell_type": "markdown",
   "id": "s90uWt7HKPPN",
   "metadata": {
    "id": "s90uWt7HKPPN"
   },
   "source": [
    "# 3. 修改DataFrame 的index、columns"
   ]
  },
  {
   "cell_type": "code",
   "execution_count": 104,
   "id": "huAiAob8KPPN",
   "metadata": {
    "id": "huAiAob8KPPN",
    "outputId": "bf9033ed-a349-4253-ac13-923f6bd74520"
   },
   "outputs": [
    {
     "data": {
      "text/html": [
       "<div>\n",
       "<style scoped>\n",
       "    .dataframe tbody tr th:only-of-type {\n",
       "        vertical-align: middle;\n",
       "    }\n",
       "\n",
       "    .dataframe tbody tr th {\n",
       "        vertical-align: top;\n",
       "    }\n",
       "\n",
       "    .dataframe thead th {\n",
       "        text-align: right;\n",
       "    }\n",
       "</style>\n",
       "<table border=\"1\" class=\"dataframe\">\n",
       "  <thead>\n",
       "    <tr style=\"text-align: right;\">\n",
       "      <th></th>\n",
       "      <th>座號</th>\n",
       "      <th>姓名</th>\n",
       "      <th>國文</th>\n",
       "      <th>英文</th>\n",
       "      <th>數學</th>\n",
       "    </tr>\n",
       "  </thead>\n",
       "  <tbody>\n",
       "    <tr>\n",
       "      <th>0</th>\n",
       "      <td>1</td>\n",
       "      <td>劉德華</td>\n",
       "      <td>50</td>\n",
       "      <td>56</td>\n",
       "      <td>65</td>\n",
       "    </tr>\n",
       "    <tr>\n",
       "      <th>1</th>\n",
       "      <td>2</td>\n",
       "      <td>黎明</td>\n",
       "      <td>56</td>\n",
       "      <td>78</td>\n",
       "      <td>78</td>\n",
       "    </tr>\n",
       "    <tr>\n",
       "      <th>2</th>\n",
       "      <td>3</td>\n",
       "      <td>郭富城</td>\n",
       "      <td>78</td>\n",
       "      <td>63</td>\n",
       "      <td>96</td>\n",
       "    </tr>\n",
       "    <tr>\n",
       "      <th>3</th>\n",
       "      <td>4</td>\n",
       "      <td>張學友</td>\n",
       "      <td>96</td>\n",
       "      <td>25</td>\n",
       "      <td>65</td>\n",
       "    </tr>\n",
       "    <tr>\n",
       "      <th>4</th>\n",
       "      <td>5</td>\n",
       "      <td>張惠妹</td>\n",
       "      <td>21</td>\n",
       "      <td>98</td>\n",
       "      <td>45</td>\n",
       "    </tr>\n",
       "    <tr>\n",
       "      <th>5</th>\n",
       "      <td>6</td>\n",
       "      <td>伍百</td>\n",
       "      <td>58</td>\n",
       "      <td>25</td>\n",
       "      <td>25</td>\n",
       "    </tr>\n",
       "    <tr>\n",
       "      <th>6</th>\n",
       "      <td>7</td>\n",
       "      <td>孫燕姿</td>\n",
       "      <td>63</td>\n",
       "      <td>87</td>\n",
       "      <td>81</td>\n",
       "    </tr>\n",
       "  </tbody>\n",
       "</table>\n",
       "</div>"
      ],
      "text/plain": [
       "   座號   姓名  國文  英文  數學\n",
       "0   1  劉德華  50  56  65\n",
       "1   2   黎明  56  78  78\n",
       "2   3  郭富城  78  63  96\n",
       "3   4  張學友  96  25  65\n",
       "4   5  張惠妹  21  98  45\n",
       "5   6   伍百  58  25  25\n",
       "6   7  孫燕姿  63  87  81"
      ]
     },
     "execution_count": 104,
     "metadata": {},
     "output_type": "execute_result"
    }
   ],
   "source": [
    "import pandas as pd\n",
    "\n",
    "scores = {'座號':[1, 2, 3 ,4, 5, 6, 7],\n",
    "          '姓名':['劉德華', '黎明', '郭富城', '張學友', '張惠妹', '伍百', '孫燕姿'],\n",
    "          '國文':[50, 56, 78, 96, 21, 58, 63],\n",
    "          '英文':[56, 78, 63, 25, 98, 25, 87],\n",
    "          '數學':[65, 78, 96, 65, 45, 25, 81]\n",
    "}\n",
    "df = pd.DataFrame(scores)\n",
    "df"
   ]
  },
  {
   "cell_type": "code",
   "execution_count": 82,
   "id": "vNefR-OhKPPN",
   "metadata": {
    "id": "vNefR-OhKPPN",
    "outputId": "74dc3a66-c32d-4fdd-f2ed-a4d19a4af68f"
   },
   "outputs": [
    {
     "data": {
      "text/html": [
       "<div>\n",
       "<style scoped>\n",
       "    .dataframe tbody tr th:only-of-type {\n",
       "        vertical-align: middle;\n",
       "    }\n",
       "\n",
       "    .dataframe tbody tr th {\n",
       "        vertical-align: top;\n",
       "    }\n",
       "\n",
       "    .dataframe thead th {\n",
       "        text-align: right;\n",
       "    }\n",
       "</style>\n",
       "<table border=\"1\" class=\"dataframe\">\n",
       "  <thead>\n",
       "    <tr style=\"text-align: right;\">\n",
       "      <th></th>\n",
       "      <th>座號</th>\n",
       "      <th>姓名</th>\n",
       "      <th>自然</th>\n",
       "      <th>英文</th>\n",
       "      <th>數學</th>\n",
       "    </tr>\n",
       "  </thead>\n",
       "  <tbody>\n",
       "    <tr>\n",
       "      <th>0</th>\n",
       "      <td>1</td>\n",
       "      <td>劉德華</td>\n",
       "      <td>50</td>\n",
       "      <td>56</td>\n",
       "      <td>65</td>\n",
       "    </tr>\n",
       "    <tr>\n",
       "      <th>1</th>\n",
       "      <td>2</td>\n",
       "      <td>黎明</td>\n",
       "      <td>56</td>\n",
       "      <td>78</td>\n",
       "      <td>78</td>\n",
       "    </tr>\n",
       "    <tr>\n",
       "      <th>2</th>\n",
       "      <td>3</td>\n",
       "      <td>郭富城</td>\n",
       "      <td>78</td>\n",
       "      <td>63</td>\n",
       "      <td>96</td>\n",
       "    </tr>\n",
       "    <tr>\n",
       "      <th>3</th>\n",
       "      <td>4</td>\n",
       "      <td>張學友</td>\n",
       "      <td>96</td>\n",
       "      <td>25</td>\n",
       "      <td>65</td>\n",
       "    </tr>\n",
       "    <tr>\n",
       "      <th>4</th>\n",
       "      <td>5</td>\n",
       "      <td>張惠妹</td>\n",
       "      <td>21</td>\n",
       "      <td>98</td>\n",
       "      <td>45</td>\n",
       "    </tr>\n",
       "    <tr>\n",
       "      <th>5</th>\n",
       "      <td>6</td>\n",
       "      <td>伍百</td>\n",
       "      <td>58</td>\n",
       "      <td>25</td>\n",
       "      <td>25</td>\n",
       "    </tr>\n",
       "    <tr>\n",
       "      <th>6</th>\n",
       "      <td>7</td>\n",
       "      <td>孫燕姿</td>\n",
       "      <td>63</td>\n",
       "      <td>87</td>\n",
       "      <td>81</td>\n",
       "    </tr>\n",
       "  </tbody>\n",
       "</table>\n",
       "</div>"
      ],
      "text/plain": [
       "   座號   姓名  自然  英文  數學\n",
       "0   1  劉德華  50  56  65\n",
       "1   2   黎明  56  78  78\n",
       "2   3  郭富城  78  63  96\n",
       "3   4  張學友  96  25  65\n",
       "4   5  張惠妹  21  98  45\n",
       "5   6   伍百  58  25  25\n",
       "6   7  孫燕姿  63  87  81"
      ]
     },
     "execution_count": 82,
     "metadata": {},
     "output_type": "execute_result"
    }
   ],
   "source": [
    "df.rename(columns={\"國文\": \"自然\",\"數學\":\"社會\",\"英文\":\"地理\"})"
   ]
  },
  {
   "cell_type": "code",
   "execution_count": 84,
   "id": "c89aeff4",
   "metadata": {},
   "outputs": [
    {
     "data": {
      "text/html": [
       "<div>\n",
       "<style scoped>\n",
       "    .dataframe tbody tr th:only-of-type {\n",
       "        vertical-align: middle;\n",
       "    }\n",
       "\n",
       "    .dataframe tbody tr th {\n",
       "        vertical-align: top;\n",
       "    }\n",
       "\n",
       "    .dataframe thead th {\n",
       "        text-align: right;\n",
       "    }\n",
       "</style>\n",
       "<table border=\"1\" class=\"dataframe\">\n",
       "  <thead>\n",
       "    <tr style=\"text-align: right;\">\n",
       "      <th></th>\n",
       "      <th>座號</th>\n",
       "      <th>姓名</th>\n",
       "      <th>自然</th>\n",
       "      <th>社會</th>\n",
       "      <th>地理</th>\n",
       "    </tr>\n",
       "  </thead>\n",
       "  <tbody>\n",
       "    <tr>\n",
       "      <th>0</th>\n",
       "      <td>1</td>\n",
       "      <td>劉德華</td>\n",
       "      <td>50</td>\n",
       "      <td>56</td>\n",
       "      <td>65</td>\n",
       "    </tr>\n",
       "    <tr>\n",
       "      <th>1</th>\n",
       "      <td>2</td>\n",
       "      <td>黎明</td>\n",
       "      <td>56</td>\n",
       "      <td>78</td>\n",
       "      <td>78</td>\n",
       "    </tr>\n",
       "    <tr>\n",
       "      <th>2</th>\n",
       "      <td>3</td>\n",
       "      <td>郭富城</td>\n",
       "      <td>78</td>\n",
       "      <td>63</td>\n",
       "      <td>96</td>\n",
       "    </tr>\n",
       "    <tr>\n",
       "      <th>3</th>\n",
       "      <td>4</td>\n",
       "      <td>張學友</td>\n",
       "      <td>96</td>\n",
       "      <td>25</td>\n",
       "      <td>65</td>\n",
       "    </tr>\n",
       "    <tr>\n",
       "      <th>4</th>\n",
       "      <td>5</td>\n",
       "      <td>張惠妹</td>\n",
       "      <td>21</td>\n",
       "      <td>98</td>\n",
       "      <td>45</td>\n",
       "    </tr>\n",
       "    <tr>\n",
       "      <th>5</th>\n",
       "      <td>6</td>\n",
       "      <td>伍百</td>\n",
       "      <td>58</td>\n",
       "      <td>25</td>\n",
       "      <td>25</td>\n",
       "    </tr>\n",
       "    <tr>\n",
       "      <th>6</th>\n",
       "      <td>7</td>\n",
       "      <td>孫燕姿</td>\n",
       "      <td>63</td>\n",
       "      <td>87</td>\n",
       "      <td>81</td>\n",
       "    </tr>\n",
       "  </tbody>\n",
       "</table>\n",
       "</div>"
      ],
      "text/plain": [
       "   座號   姓名  自然  社會  地理\n",
       "0   1  劉德華  50  56  65\n",
       "1   2   黎明  56  78  78\n",
       "2   3  郭富城  78  63  96\n",
       "3   4  張學友  96  25  65\n",
       "4   5  張惠妹  21  98  45\n",
       "5   6   伍百  58  25  25\n",
       "6   7  孫燕姿  63  87  81"
      ]
     },
     "execution_count": 84,
     "metadata": {},
     "output_type": "execute_result"
    }
   ],
   "source": [
    "df.columns = [\"座號\", \"姓名\", \"自然\",\"社會\",\"地理\"]\n",
    "df"
   ]
  },
  {
   "cell_type": "code",
   "execution_count": null,
   "id": "zAkqqaOnKPPN",
   "metadata": {
    "id": "zAkqqaOnKPPN",
    "outputId": "ed4013da-18c9-4385-ded6-ee0e38dd0149"
   },
   "outputs": [
    {
     "data": {
      "text/html": [
       "<div>\n",
       "<style scoped>\n",
       "    .dataframe tbody tr th:only-of-type {\n",
       "        vertical-align: middle;\n",
       "    }\n",
       "\n",
       "    .dataframe tbody tr th {\n",
       "        vertical-align: top;\n",
       "    }\n",
       "\n",
       "    .dataframe thead th {\n",
       "        text-align: right;\n",
       "    }\n",
       "</style>\n",
       "<table border=\"1\" class=\"dataframe\">\n",
       "  <thead>\n",
       "    <tr style=\"text-align: right;\">\n",
       "      <th></th>\n",
       "      <th>座號</th>\n",
       "      <th>姓名</th>\n",
       "      <th>自然</th>\n",
       "      <th>社會</th>\n",
       "      <th>地理</th>\n",
       "    </tr>\n",
       "  </thead>\n",
       "  <tbody>\n",
       "    <tr>\n",
       "      <th>零</th>\n",
       "      <td>1</td>\n",
       "      <td>劉德華</td>\n",
       "      <td>50</td>\n",
       "      <td>56</td>\n",
       "      <td>65</td>\n",
       "    </tr>\n",
       "    <tr>\n",
       "      <th>一</th>\n",
       "      <td>2</td>\n",
       "      <td>黎明</td>\n",
       "      <td>56</td>\n",
       "      <td>78</td>\n",
       "      <td>78</td>\n",
       "    </tr>\n",
       "    <tr>\n",
       "      <th>二</th>\n",
       "      <td>3</td>\n",
       "      <td>郭富城</td>\n",
       "      <td>78</td>\n",
       "      <td>63</td>\n",
       "      <td>96</td>\n",
       "    </tr>\n",
       "    <tr>\n",
       "      <th>三</th>\n",
       "      <td>4</td>\n",
       "      <td>張學友</td>\n",
       "      <td>96</td>\n",
       "      <td>25</td>\n",
       "      <td>65</td>\n",
       "    </tr>\n",
       "    <tr>\n",
       "      <th>四</th>\n",
       "      <td>5</td>\n",
       "      <td>張惠妹</td>\n",
       "      <td>21</td>\n",
       "      <td>98</td>\n",
       "      <td>45</td>\n",
       "    </tr>\n",
       "    <tr>\n",
       "      <th>五</th>\n",
       "      <td>6</td>\n",
       "      <td>伍百</td>\n",
       "      <td>58</td>\n",
       "      <td>25</td>\n",
       "      <td>25</td>\n",
       "    </tr>\n",
       "    <tr>\n",
       "      <th>六</th>\n",
       "      <td>7</td>\n",
       "      <td>孫燕姿</td>\n",
       "      <td>63</td>\n",
       "      <td>87</td>\n",
       "      <td>81</td>\n",
       "    </tr>\n",
       "  </tbody>\n",
       "</table>\n",
       "</div>"
      ],
      "text/plain": [
       "   座號   姓名  自然  社會  地理\n",
       "零   1  劉德華  50  56  65\n",
       "一   2   黎明  56  78  78\n",
       "二   3  郭富城  78  63  96\n",
       "三   4  張學友  96  25  65\n",
       "四   5  張惠妹  21  98  45\n",
       "五   6   伍百  58  25  25\n",
       "六   7  孫燕姿  63  87  81"
      ]
     },
     "execution_count": 18,
     "metadata": {},
     "output_type": "execute_result"
    }
   ],
   "source": [
    "df.rename(index={0: \"零\", 1:'一', 2:'二', 3:'三', 4:'四', 5:'五', 6:'六'})"
   ]
  },
  {
   "cell_type": "code",
   "execution_count": 85,
   "id": "87afcdb0",
   "metadata": {},
   "outputs": [
    {
     "data": {
      "text/html": [
       "<div>\n",
       "<style scoped>\n",
       "    .dataframe tbody tr th:only-of-type {\n",
       "        vertical-align: middle;\n",
       "    }\n",
       "\n",
       "    .dataframe tbody tr th {\n",
       "        vertical-align: top;\n",
       "    }\n",
       "\n",
       "    .dataframe thead th {\n",
       "        text-align: right;\n",
       "    }\n",
       "</style>\n",
       "<table border=\"1\" class=\"dataframe\">\n",
       "  <thead>\n",
       "    <tr style=\"text-align: right;\">\n",
       "      <th></th>\n",
       "      <th>座號</th>\n",
       "      <th>姓名</th>\n",
       "      <th>自然</th>\n",
       "      <th>社會</th>\n",
       "      <th>地理</th>\n",
       "    </tr>\n",
       "  </thead>\n",
       "  <tbody>\n",
       "    <tr>\n",
       "      <th>零</th>\n",
       "      <td>1</td>\n",
       "      <td>劉德華</td>\n",
       "      <td>50</td>\n",
       "      <td>56</td>\n",
       "      <td>65</td>\n",
       "    </tr>\n",
       "    <tr>\n",
       "      <th>一</th>\n",
       "      <td>2</td>\n",
       "      <td>黎明</td>\n",
       "      <td>56</td>\n",
       "      <td>78</td>\n",
       "      <td>78</td>\n",
       "    </tr>\n",
       "    <tr>\n",
       "      <th>二</th>\n",
       "      <td>3</td>\n",
       "      <td>郭富城</td>\n",
       "      <td>78</td>\n",
       "      <td>63</td>\n",
       "      <td>96</td>\n",
       "    </tr>\n",
       "    <tr>\n",
       "      <th>三</th>\n",
       "      <td>4</td>\n",
       "      <td>張學友</td>\n",
       "      <td>96</td>\n",
       "      <td>25</td>\n",
       "      <td>65</td>\n",
       "    </tr>\n",
       "    <tr>\n",
       "      <th>四</th>\n",
       "      <td>5</td>\n",
       "      <td>張惠妹</td>\n",
       "      <td>21</td>\n",
       "      <td>98</td>\n",
       "      <td>45</td>\n",
       "    </tr>\n",
       "    <tr>\n",
       "      <th>五</th>\n",
       "      <td>6</td>\n",
       "      <td>伍百</td>\n",
       "      <td>58</td>\n",
       "      <td>25</td>\n",
       "      <td>25</td>\n",
       "    </tr>\n",
       "    <tr>\n",
       "      <th>六</th>\n",
       "      <td>7</td>\n",
       "      <td>孫燕姿</td>\n",
       "      <td>63</td>\n",
       "      <td>87</td>\n",
       "      <td>81</td>\n",
       "    </tr>\n",
       "  </tbody>\n",
       "</table>\n",
       "</div>"
      ],
      "text/plain": [
       "   座號   姓名  自然  社會  地理\n",
       "零   1  劉德華  50  56  65\n",
       "一   2   黎明  56  78  78\n",
       "二   3  郭富城  78  63  96\n",
       "三   4  張學友  96  25  65\n",
       "四   5  張惠妹  21  98  45\n",
       "五   6   伍百  58  25  25\n",
       "六   7  孫燕姿  63  87  81"
      ]
     },
     "execution_count": 85,
     "metadata": {},
     "output_type": "execute_result"
    }
   ],
   "source": [
    "df.index = [\"零\", '一', '二', '三', '四', '五', '六']\n",
    "df"
   ]
  },
  {
   "cell_type": "code",
   "execution_count": 91,
   "id": "uKuREmwxKPPN",
   "metadata": {
    "id": "uKuREmwxKPPN",
    "outputId": "50b99039-21b4-4bff-96f1-6c0be80eead0"
   },
   "outputs": [
    {
     "data": {
      "text/html": [
       "<div>\n",
       "<style scoped>\n",
       "    .dataframe tbody tr th:only-of-type {\n",
       "        vertical-align: middle;\n",
       "    }\n",
       "\n",
       "    .dataframe tbody tr th {\n",
       "        vertical-align: top;\n",
       "    }\n",
       "\n",
       "    .dataframe thead th {\n",
       "        text-align: right;\n",
       "    }\n",
       "</style>\n",
       "<table border=\"1\" class=\"dataframe\">\n",
       "  <thead>\n",
       "    <tr style=\"text-align: right;\">\n",
       "      <th>座號姓名科目</th>\n",
       "      <th>座號</th>\n",
       "      <th>姓名</th>\n",
       "      <th>國文</th>\n",
       "      <th>英文</th>\n",
       "      <th>數學</th>\n",
       "    </tr>\n",
       "    <tr>\n",
       "      <th>順位</th>\n",
       "      <th></th>\n",
       "      <th></th>\n",
       "      <th></th>\n",
       "      <th></th>\n",
       "      <th></th>\n",
       "    </tr>\n",
       "  </thead>\n",
       "  <tbody>\n",
       "    <tr>\n",
       "      <th>0</th>\n",
       "      <td>1</td>\n",
       "      <td>劉德華</td>\n",
       "      <td>50</td>\n",
       "      <td>56</td>\n",
       "      <td>65</td>\n",
       "    </tr>\n",
       "    <tr>\n",
       "      <th>1</th>\n",
       "      <td>2</td>\n",
       "      <td>黎明</td>\n",
       "      <td>56</td>\n",
       "      <td>78</td>\n",
       "      <td>78</td>\n",
       "    </tr>\n",
       "    <tr>\n",
       "      <th>2</th>\n",
       "      <td>3</td>\n",
       "      <td>郭富城</td>\n",
       "      <td>78</td>\n",
       "      <td>63</td>\n",
       "      <td>96</td>\n",
       "    </tr>\n",
       "    <tr>\n",
       "      <th>3</th>\n",
       "      <td>4</td>\n",
       "      <td>張學友</td>\n",
       "      <td>96</td>\n",
       "      <td>25</td>\n",
       "      <td>65</td>\n",
       "    </tr>\n",
       "    <tr>\n",
       "      <th>4</th>\n",
       "      <td>5</td>\n",
       "      <td>張惠妹</td>\n",
       "      <td>21</td>\n",
       "      <td>98</td>\n",
       "      <td>45</td>\n",
       "    </tr>\n",
       "    <tr>\n",
       "      <th>5</th>\n",
       "      <td>6</td>\n",
       "      <td>伍百</td>\n",
       "      <td>58</td>\n",
       "      <td>25</td>\n",
       "      <td>25</td>\n",
       "    </tr>\n",
       "    <tr>\n",
       "      <th>6</th>\n",
       "      <td>7</td>\n",
       "      <td>孫燕姿</td>\n",
       "      <td>63</td>\n",
       "      <td>87</td>\n",
       "      <td>81</td>\n",
       "    </tr>\n",
       "  </tbody>\n",
       "</table>\n",
       "</div>"
      ],
      "text/plain": [
       "座號姓名科目  座號   姓名  國文  英文  數學\n",
       "順位                         \n",
       "0        1  劉德華  50  56  65\n",
       "1        2   黎明  56  78  78\n",
       "2        3  郭富城  78  63  96\n",
       "3        4  張學友  96  25  65\n",
       "4        5  張惠妹  21  98  45\n",
       "5        6   伍百  58  25  25\n",
       "6        7  孫燕姿  63  87  81"
      ]
     },
     "execution_count": 91,
     "metadata": {},
     "output_type": "execute_result"
    }
   ],
   "source": [
    "df.index.name = ''\n",
    "df"
   ]
  },
  {
   "cell_type": "code",
   "execution_count": 92,
   "id": "6eJDXx0jKPPN",
   "metadata": {
    "id": "6eJDXx0jKPPN",
    "outputId": "fd86d7c3-eb01-404d-d198-f2111e5e1056"
   },
   "outputs": [
    {
     "data": {
      "text/html": [
       "<div>\n",
       "<style scoped>\n",
       "    .dataframe tbody tr th:only-of-type {\n",
       "        vertical-align: middle;\n",
       "    }\n",
       "\n",
       "    .dataframe tbody tr th {\n",
       "        vertical-align: top;\n",
       "    }\n",
       "\n",
       "    .dataframe thead th {\n",
       "        text-align: right;\n",
       "    }\n",
       "</style>\n",
       "<table border=\"1\" class=\"dataframe\">\n",
       "  <thead>\n",
       "    <tr style=\"text-align: right;\">\n",
       "      <th>座號姓名科目</th>\n",
       "      <th>座號</th>\n",
       "      <th>姓名</th>\n",
       "      <th>國文</th>\n",
       "      <th>英文</th>\n",
       "      <th>數學</th>\n",
       "    </tr>\n",
       "    <tr>\n",
       "      <th>順位</th>\n",
       "      <th></th>\n",
       "      <th></th>\n",
       "      <th></th>\n",
       "      <th></th>\n",
       "      <th></th>\n",
       "    </tr>\n",
       "  </thead>\n",
       "  <tbody>\n",
       "    <tr>\n",
       "      <th>0</th>\n",
       "      <td>1</td>\n",
       "      <td>劉德華</td>\n",
       "      <td>50</td>\n",
       "      <td>56</td>\n",
       "      <td>65</td>\n",
       "    </tr>\n",
       "    <tr>\n",
       "      <th>1</th>\n",
       "      <td>2</td>\n",
       "      <td>黎明</td>\n",
       "      <td>56</td>\n",
       "      <td>78</td>\n",
       "      <td>78</td>\n",
       "    </tr>\n",
       "    <tr>\n",
       "      <th>2</th>\n",
       "      <td>3</td>\n",
       "      <td>郭富城</td>\n",
       "      <td>78</td>\n",
       "      <td>63</td>\n",
       "      <td>96</td>\n",
       "    </tr>\n",
       "    <tr>\n",
       "      <th>3</th>\n",
       "      <td>4</td>\n",
       "      <td>張學友</td>\n",
       "      <td>96</td>\n",
       "      <td>25</td>\n",
       "      <td>65</td>\n",
       "    </tr>\n",
       "    <tr>\n",
       "      <th>4</th>\n",
       "      <td>5</td>\n",
       "      <td>張惠妹</td>\n",
       "      <td>21</td>\n",
       "      <td>98</td>\n",
       "      <td>45</td>\n",
       "    </tr>\n",
       "    <tr>\n",
       "      <th>5</th>\n",
       "      <td>6</td>\n",
       "      <td>伍百</td>\n",
       "      <td>58</td>\n",
       "      <td>25</td>\n",
       "      <td>25</td>\n",
       "    </tr>\n",
       "    <tr>\n",
       "      <th>6</th>\n",
       "      <td>7</td>\n",
       "      <td>孫燕姿</td>\n",
       "      <td>63</td>\n",
       "      <td>87</td>\n",
       "      <td>81</td>\n",
       "    </tr>\n",
       "  </tbody>\n",
       "</table>\n",
       "</div>"
      ],
      "text/plain": [
       "座號姓名科目  座號   姓名  國文  英文  數學\n",
       "順位                         \n",
       "0        1  劉德華  50  56  65\n",
       "1        2   黎明  56  78  78\n",
       "2        3  郭富城  78  63  96\n",
       "3        4  張學友  96  25  65\n",
       "4        5  張惠妹  21  98  45\n",
       "5        6   伍百  58  25  25\n",
       "6        7  孫燕姿  63  87  81"
      ]
     },
     "execution_count": 92,
     "metadata": {},
     "output_type": "execute_result"
    }
   ],
   "source": [
    "df.columns.name = '座號姓名科目'\n",
    "df"
   ]
  },
  {
   "cell_type": "code",
   "execution_count": 105,
   "id": "28517723",
   "metadata": {
    "scrolled": true
   },
   "outputs": [
    {
     "data": {
      "text/html": [
       "<div>\n",
       "<style scoped>\n",
       "    .dataframe tbody tr th:only-of-type {\n",
       "        vertical-align: middle;\n",
       "    }\n",
       "\n",
       "    .dataframe tbody tr th {\n",
       "        vertical-align: top;\n",
       "    }\n",
       "\n",
       "    .dataframe thead th {\n",
       "        text-align: right;\n",
       "    }\n",
       "</style>\n",
       "<table border=\"1\" class=\"dataframe\">\n",
       "  <thead>\n",
       "    <tr style=\"text-align: right;\">\n",
       "      <th></th>\n",
       "      <th>座號</th>\n",
       "      <th>姓名</th>\n",
       "      <th>國文</th>\n",
       "      <th>英文</th>\n",
       "      <th>數學</th>\n",
       "    </tr>\n",
       "  </thead>\n",
       "  <tbody>\n",
       "    <tr>\n",
       "      <th>0</th>\n",
       "      <td>1</td>\n",
       "      <td>劉德華</td>\n",
       "      <td>50</td>\n",
       "      <td>56</td>\n",
       "      <td>65</td>\n",
       "    </tr>\n",
       "    <tr>\n",
       "      <th>1</th>\n",
       "      <td>2</td>\n",
       "      <td>黎明</td>\n",
       "      <td>56</td>\n",
       "      <td>78</td>\n",
       "      <td>78</td>\n",
       "    </tr>\n",
       "    <tr>\n",
       "      <th>2</th>\n",
       "      <td>3</td>\n",
       "      <td>郭富城</td>\n",
       "      <td>78</td>\n",
       "      <td>63</td>\n",
       "      <td>96</td>\n",
       "    </tr>\n",
       "    <tr>\n",
       "      <th>3</th>\n",
       "      <td>4</td>\n",
       "      <td>張學友</td>\n",
       "      <td>96</td>\n",
       "      <td>25</td>\n",
       "      <td>65</td>\n",
       "    </tr>\n",
       "    <tr>\n",
       "      <th>4</th>\n",
       "      <td>5</td>\n",
       "      <td>張惠妹</td>\n",
       "      <td>21</td>\n",
       "      <td>98</td>\n",
       "      <td>45</td>\n",
       "    </tr>\n",
       "    <tr>\n",
       "      <th>5</th>\n",
       "      <td>6</td>\n",
       "      <td>伍百</td>\n",
       "      <td>58</td>\n",
       "      <td>25</td>\n",
       "      <td>25</td>\n",
       "    </tr>\n",
       "    <tr>\n",
       "      <th>6</th>\n",
       "      <td>7</td>\n",
       "      <td>孫燕姿</td>\n",
       "      <td>63</td>\n",
       "      <td>87</td>\n",
       "      <td>81</td>\n",
       "    </tr>\n",
       "  </tbody>\n",
       "</table>\n",
       "</div>"
      ],
      "text/plain": [
       "   座號   姓名  國文  英文  數學\n",
       "0   1  劉德華  50  56  65\n",
       "1   2   黎明  56  78  78\n",
       "2   3  郭富城  78  63  96\n",
       "3   4  張學友  96  25  65\n",
       "4   5  張惠妹  21  98  45\n",
       "5   6   伍百  58  25  25\n",
       "6   7  孫燕姿  63  87  81"
      ]
     },
     "execution_count": 105,
     "metadata": {},
     "output_type": "execute_result"
    }
   ],
   "source": [
    "df"
   ]
  },
  {
   "cell_type": "code",
   "execution_count": 99,
   "id": "335ec81b",
   "metadata": {},
   "outputs": [],
   "source": [
    "df.to_csv('123.csv', encoding = \"u`tf_8_sig\", index = False)"
   ]
  },
  {
   "cell_type": "code",
   "execution_count": 100,
   "id": "41a708bf",
   "metadata": {},
   "outputs": [
    {
     "data": {
      "text/html": [
       "<div>\n",
       "<style scoped>\n",
       "    .dataframe tbody tr th:only-of-type {\n",
       "        vertical-align: middle;\n",
       "    }\n",
       "\n",
       "    .dataframe tbody tr th {\n",
       "        vertical-align: top;\n",
       "    }\n",
       "\n",
       "    .dataframe thead th {\n",
       "        text-align: right;\n",
       "    }\n",
       "</style>\n",
       "<table border=\"1\" class=\"dataframe\">\n",
       "  <thead>\n",
       "    <tr style=\"text-align: right;\">\n",
       "      <th></th>\n",
       "      <th>座號</th>\n",
       "      <th>姓名</th>\n",
       "      <th>國文</th>\n",
       "      <th>英文</th>\n",
       "      <th>數學</th>\n",
       "    </tr>\n",
       "  </thead>\n",
       "  <tbody>\n",
       "    <tr>\n",
       "      <th>0</th>\n",
       "      <td>1</td>\n",
       "      <td>劉德華</td>\n",
       "      <td>50</td>\n",
       "      <td>56</td>\n",
       "      <td>65</td>\n",
       "    </tr>\n",
       "    <tr>\n",
       "      <th>1</th>\n",
       "      <td>2</td>\n",
       "      <td>黎明</td>\n",
       "      <td>56</td>\n",
       "      <td>78</td>\n",
       "      <td>78</td>\n",
       "    </tr>\n",
       "    <tr>\n",
       "      <th>2</th>\n",
       "      <td>3</td>\n",
       "      <td>郭富城</td>\n",
       "      <td>78</td>\n",
       "      <td>63</td>\n",
       "      <td>96</td>\n",
       "    </tr>\n",
       "    <tr>\n",
       "      <th>3</th>\n",
       "      <td>4</td>\n",
       "      <td>張學友</td>\n",
       "      <td>96</td>\n",
       "      <td>25</td>\n",
       "      <td>65</td>\n",
       "    </tr>\n",
       "    <tr>\n",
       "      <th>4</th>\n",
       "      <td>5</td>\n",
       "      <td>張惠妹</td>\n",
       "      <td>21</td>\n",
       "      <td>98</td>\n",
       "      <td>45</td>\n",
       "    </tr>\n",
       "    <tr>\n",
       "      <th>5</th>\n",
       "      <td>6</td>\n",
       "      <td>伍百</td>\n",
       "      <td>58</td>\n",
       "      <td>25</td>\n",
       "      <td>25</td>\n",
       "    </tr>\n",
       "    <tr>\n",
       "      <th>6</th>\n",
       "      <td>7</td>\n",
       "      <td>孫燕姿</td>\n",
       "      <td>63</td>\n",
       "      <td>87</td>\n",
       "      <td>81</td>\n",
       "    </tr>\n",
       "  </tbody>\n",
       "</table>\n",
       "</div>"
      ],
      "text/plain": [
       "   座號   姓名  國文  英文  數學\n",
       "0   1  劉德華  50  56  65\n",
       "1   2   黎明  56  78  78\n",
       "2   3  郭富城  78  63  96\n",
       "3   4  張學友  96  25  65\n",
       "4   5  張惠妹  21  98  45\n",
       "5   6   伍百  58  25  25\n",
       "6   7  孫燕姿  63  87  81"
      ]
     },
     "execution_count": 100,
     "metadata": {},
     "output_type": "execute_result"
    }
   ],
   "source": [
    "df1 = pd.read_csv('123.csv', encoding = \"utf_8_sig\")\n",
    "df1"
   ]
  },
  {
   "cell_type": "code",
   "execution_count": 106,
   "id": "44f54da8",
   "metadata": {},
   "outputs": [],
   "source": [
    "df.to_csv('123.csv', encoding = \"utf_8_sig\")"
   ]
  },
  {
   "cell_type": "code",
   "execution_count": 108,
   "id": "f54dcad1",
   "metadata": {},
   "outputs": [
    {
     "data": {
      "text/html": [
       "<div>\n",
       "<style scoped>\n",
       "    .dataframe tbody tr th:only-of-type {\n",
       "        vertical-align: middle;\n",
       "    }\n",
       "\n",
       "    .dataframe tbody tr th {\n",
       "        vertical-align: top;\n",
       "    }\n",
       "\n",
       "    .dataframe thead th {\n",
       "        text-align: right;\n",
       "    }\n",
       "</style>\n",
       "<table border=\"1\" class=\"dataframe\">\n",
       "  <thead>\n",
       "    <tr style=\"text-align: right;\">\n",
       "      <th></th>\n",
       "      <th>Unnamed: 0</th>\n",
       "      <th>姓名</th>\n",
       "      <th>國文</th>\n",
       "      <th>英文</th>\n",
       "      <th>數學</th>\n",
       "    </tr>\n",
       "    <tr>\n",
       "      <th>座號</th>\n",
       "      <th></th>\n",
       "      <th></th>\n",
       "      <th></th>\n",
       "      <th></th>\n",
       "      <th></th>\n",
       "    </tr>\n",
       "  </thead>\n",
       "  <tbody>\n",
       "    <tr>\n",
       "      <th>1</th>\n",
       "      <td>0</td>\n",
       "      <td>劉德華</td>\n",
       "      <td>50</td>\n",
       "      <td>56</td>\n",
       "      <td>65</td>\n",
       "    </tr>\n",
       "    <tr>\n",
       "      <th>2</th>\n",
       "      <td>1</td>\n",
       "      <td>黎明</td>\n",
       "      <td>56</td>\n",
       "      <td>78</td>\n",
       "      <td>78</td>\n",
       "    </tr>\n",
       "    <tr>\n",
       "      <th>3</th>\n",
       "      <td>2</td>\n",
       "      <td>郭富城</td>\n",
       "      <td>78</td>\n",
       "      <td>63</td>\n",
       "      <td>96</td>\n",
       "    </tr>\n",
       "    <tr>\n",
       "      <th>4</th>\n",
       "      <td>3</td>\n",
       "      <td>張學友</td>\n",
       "      <td>96</td>\n",
       "      <td>25</td>\n",
       "      <td>65</td>\n",
       "    </tr>\n",
       "    <tr>\n",
       "      <th>5</th>\n",
       "      <td>4</td>\n",
       "      <td>張惠妹</td>\n",
       "      <td>21</td>\n",
       "      <td>98</td>\n",
       "      <td>45</td>\n",
       "    </tr>\n",
       "    <tr>\n",
       "      <th>6</th>\n",
       "      <td>5</td>\n",
       "      <td>伍百</td>\n",
       "      <td>58</td>\n",
       "      <td>25</td>\n",
       "      <td>25</td>\n",
       "    </tr>\n",
       "    <tr>\n",
       "      <th>7</th>\n",
       "      <td>6</td>\n",
       "      <td>孫燕姿</td>\n",
       "      <td>63</td>\n",
       "      <td>87</td>\n",
       "      <td>81</td>\n",
       "    </tr>\n",
       "  </tbody>\n",
       "</table>\n",
       "</div>"
      ],
      "text/plain": [
       "    Unnamed: 0   姓名  國文  英文  數學\n",
       "座號                             \n",
       "1            0  劉德華  50  56  65\n",
       "2            1   黎明  56  78  78\n",
       "3            2  郭富城  78  63  96\n",
       "4            3  張學友  96  25  65\n",
       "5            4  張惠妹  21  98  45\n",
       "6            5   伍百  58  25  25\n",
       "7            6  孫燕姿  63  87  81"
      ]
     },
     "execution_count": 108,
     "metadata": {},
     "output_type": "execute_result"
    }
   ],
   "source": [
    "df1 = pd.read_csv('123.csv', encoding = \"utf_8_sig\", index_col = ['座號'])\n",
    "df1"
   ]
  },
  {
   "cell_type": "code",
   "execution_count": 113,
   "id": "b7b10e61",
   "metadata": {},
   "outputs": [
    {
     "data": {
      "text/html": [
       "<div>\n",
       "<style scoped>\n",
       "    .dataframe tbody tr th:only-of-type {\n",
       "        vertical-align: middle;\n",
       "    }\n",
       "\n",
       "    .dataframe tbody tr th {\n",
       "        vertical-align: top;\n",
       "    }\n",
       "\n",
       "    .dataframe thead th {\n",
       "        text-align: right;\n",
       "    }\n",
       "</style>\n",
       "<table border=\"1\" class=\"dataframe\">\n",
       "  <thead>\n",
       "    <tr style=\"text-align: right;\">\n",
       "      <th></th>\n",
       "      <th>姓名</th>\n",
       "      <th>國文</th>\n",
       "      <th>英文</th>\n",
       "      <th>數學</th>\n",
       "    </tr>\n",
       "    <tr>\n",
       "      <th>座號</th>\n",
       "      <th></th>\n",
       "      <th></th>\n",
       "      <th></th>\n",
       "      <th></th>\n",
       "    </tr>\n",
       "  </thead>\n",
       "  <tbody>\n",
       "    <tr>\n",
       "      <th>1</th>\n",
       "      <td>劉德華</td>\n",
       "      <td>50</td>\n",
       "      <td>56</td>\n",
       "      <td>65</td>\n",
       "    </tr>\n",
       "    <tr>\n",
       "      <th>2</th>\n",
       "      <td>黎明</td>\n",
       "      <td>56</td>\n",
       "      <td>78</td>\n",
       "      <td>78</td>\n",
       "    </tr>\n",
       "    <tr>\n",
       "      <th>3</th>\n",
       "      <td>郭富城</td>\n",
       "      <td>78</td>\n",
       "      <td>63</td>\n",
       "      <td>96</td>\n",
       "    </tr>\n",
       "    <tr>\n",
       "      <th>4</th>\n",
       "      <td>張學友</td>\n",
       "      <td>96</td>\n",
       "      <td>25</td>\n",
       "      <td>65</td>\n",
       "    </tr>\n",
       "    <tr>\n",
       "      <th>5</th>\n",
       "      <td>張惠妹</td>\n",
       "      <td>21</td>\n",
       "      <td>98</td>\n",
       "      <td>45</td>\n",
       "    </tr>\n",
       "    <tr>\n",
       "      <th>6</th>\n",
       "      <td>伍百</td>\n",
       "      <td>58</td>\n",
       "      <td>25</td>\n",
       "      <td>25</td>\n",
       "    </tr>\n",
       "    <tr>\n",
       "      <th>7</th>\n",
       "      <td>孫燕姿</td>\n",
       "      <td>63</td>\n",
       "      <td>87</td>\n",
       "      <td>81</td>\n",
       "    </tr>\n",
       "  </tbody>\n",
       "</table>\n",
       "</div>"
      ],
      "text/plain": [
       "     姓名  國文  英文  數學\n",
       "座號                 \n",
       "1   劉德華  50  56  65\n",
       "2    黎明  56  78  78\n",
       "3   郭富城  78  63  96\n",
       "4   張學友  96  25  65\n",
       "5   張惠妹  21  98  45\n",
       "6    伍百  58  25  25\n",
       "7   孫燕姿  63  87  81"
      ]
     },
     "execution_count": 113,
     "metadata": {},
     "output_type": "execute_result"
    }
   ],
   "source": [
    "df1.drop(['Unnamed: 0'], axis = 1)"
   ]
  },
  {
   "cell_type": "markdown",
   "id": "qkAYNPLtKPPN",
   "metadata": {
    "id": "qkAYNPLtKPPN"
   },
   "source": [
    "# 4. DataFrame 屬性、描述統計與函數計算\n",
    "### DataFrame屬性：index、columns、shape、size。"
   ]
  },
  {
   "cell_type": "code",
   "execution_count": null,
   "id": "emssFPVgKPPN",
   "metadata": {
    "id": "emssFPVgKPPN",
    "outputId": "0773e648-bbe4-4ea1-d3d6-62c15ba6c734"
   },
   "outputs": [
    {
     "name": "stdout",
     "output_type": "stream",
     "text": [
      "df.index： RangeIndex(start=0, stop=7, step=1)\n",
      "\n",
      "df.columns： Index(['座號', '姓名', '國文', '英文', '數學'], dtype='object')\n",
      "\n",
      "df.shape： (7, 5)\n",
      "\n",
      "df.size： 35\n"
     ]
    }
   ],
   "source": [
    "import pandas as pd\n",
    "\n",
    "scores = {'座號':[1, 2, 3 ,4, 5, 6, 7],\n",
    "          '姓名':['劉德華', '黎明', '郭富城', '張學友', '張惠妹', '伍百', '孫燕姿'],\n",
    "          '國文':[50, 56, 78, 96, 21, 58, 63],\n",
    "          '英文':[56, 78, 63, 25, 98, 25, 87],\n",
    "          '數學':[65, 78, 96, 65, 45, 25, 81]\n",
    "}\n",
    "df = pd.DataFrame(scores)\n",
    "print('df.index：', df.index)\n",
    "print()\n",
    "print('df.columns：', df.columns)\n",
    "print()\n",
    "print('df.shape：', df.shape)\n",
    "print()\n",
    "print('df.size：', df.size)"
   ]
  },
  {
   "cell_type": "markdown",
   "id": "veh8aeYKKPPO",
   "metadata": {
    "id": "veh8aeYKKPPO"
   },
   "source": [
    "#### DataFrame.info()：資訊查詢。"
   ]
  },
  {
   "cell_type": "code",
   "execution_count": 3,
   "id": "SBwCSM24KPPO",
   "metadata": {
    "id": "SBwCSM24KPPO",
    "outputId": "98d6a7de-bd62-422b-affe-cb2787199e31"
   },
   "outputs": [
    {
     "name": "stdout",
     "output_type": "stream",
     "text": [
      "<class 'pandas.core.frame.DataFrame'>\n",
      "RangeIndex: 7 entries, 0 to 6\n",
      "Data columns (total 5 columns):\n",
      " #   Column  Non-Null Count  Dtype \n",
      "---  ------  --------------  ----- \n",
      " 0   座號      7 non-null      int64 \n",
      " 1   姓名      7 non-null      object\n",
      " 2   國文      7 non-null      int64 \n",
      " 3   英文      7 non-null      int64 \n",
      " 4   數學      7 non-null      int64 \n",
      "dtypes: int64(4), object(1)\n",
      "memory usage: 408.0+ bytes\n"
     ]
    }
   ],
   "source": [
    "import pandas as pd\n",
    "\n",
    "scores = {'座號':[1, 2, 3 ,4, 5, 6, 7],\n",
    "          '姓名':['劉德華', '黎明', '郭富城', '張學友', '張惠妹', '伍百', '孫燕姿'],\n",
    "          '國文':[50, 56, 78, 96, 21, 58, 63],\n",
    "          '英文':[56, 78, 63, 25, 98, 25, 87],\n",
    "          '數學':[65, 78, 96, 65, 45, 25, 81]\n",
    "}\n",
    "df = pd.DataFrame(scores)\n",
    "df.info()"
   ]
  },
  {
   "cell_type": "markdown",
   "id": "7aoCh4k-KPPO",
   "metadata": {
    "id": "7aoCh4k-KPPO"
   },
   "source": [
    "#### DataFrame.describe()：描述統計。"
   ]
  },
  {
   "cell_type": "code",
   "execution_count": 37,
   "id": "7ihZGvQjKPPO",
   "metadata": {
    "id": "7ihZGvQjKPPO",
    "outputId": "69a39541-3933-4795-aa63-faa64bcfe7c6"
   },
   "outputs": [
    {
     "data": {
      "text/html": [
       "<div>\n",
       "<style scoped>\n",
       "    .dataframe tbody tr th:only-of-type {\n",
       "        vertical-align: middle;\n",
       "    }\n",
       "\n",
       "    .dataframe tbody tr th {\n",
       "        vertical-align: top;\n",
       "    }\n",
       "\n",
       "    .dataframe thead th {\n",
       "        text-align: right;\n",
       "    }\n",
       "</style>\n",
       "<table border=\"1\" class=\"dataframe\">\n",
       "  <thead>\n",
       "    <tr style=\"text-align: right;\">\n",
       "      <th></th>\n",
       "      <th>國文</th>\n",
       "      <th>英文</th>\n",
       "      <th>數學</th>\n",
       "    </tr>\n",
       "  </thead>\n",
       "  <tbody>\n",
       "    <tr>\n",
       "      <th>count</th>\n",
       "      <td>7.000000</td>\n",
       "      <td>7.000000</td>\n",
       "      <td>7.000000</td>\n",
       "    </tr>\n",
       "    <tr>\n",
       "      <th>mean</th>\n",
       "      <td>60.285714</td>\n",
       "      <td>61.714286</td>\n",
       "      <td>65.000000</td>\n",
       "    </tr>\n",
       "    <tr>\n",
       "      <th>std</th>\n",
       "      <td>23.343195</td>\n",
       "      <td>28.726958</td>\n",
       "      <td>23.755701</td>\n",
       "    </tr>\n",
       "    <tr>\n",
       "      <th>min</th>\n",
       "      <td>21.000000</td>\n",
       "      <td>25.000000</td>\n",
       "      <td>25.000000</td>\n",
       "    </tr>\n",
       "    <tr>\n",
       "      <th>25%</th>\n",
       "      <td>53.000000</td>\n",
       "      <td>40.500000</td>\n",
       "      <td>55.000000</td>\n",
       "    </tr>\n",
       "    <tr>\n",
       "      <th>50%</th>\n",
       "      <td>58.000000</td>\n",
       "      <td>63.000000</td>\n",
       "      <td>65.000000</td>\n",
       "    </tr>\n",
       "    <tr>\n",
       "      <th>75%</th>\n",
       "      <td>70.500000</td>\n",
       "      <td>82.500000</td>\n",
       "      <td>79.500000</td>\n",
       "    </tr>\n",
       "    <tr>\n",
       "      <th>max</th>\n",
       "      <td>96.000000</td>\n",
       "      <td>98.000000</td>\n",
       "      <td>96.000000</td>\n",
       "    </tr>\n",
       "  </tbody>\n",
       "</table>\n",
       "</div>"
      ],
      "text/plain": [
       "              國文         英文         數學\n",
       "count   7.000000   7.000000   7.000000\n",
       "mean   60.285714  61.714286  65.000000\n",
       "std    23.343195  28.726958  23.755701\n",
       "min    21.000000  25.000000  25.000000\n",
       "25%    53.000000  40.500000  55.000000\n",
       "50%    58.000000  63.000000  65.000000\n",
       "75%    70.500000  82.500000  79.500000\n",
       "max    96.000000  98.000000  96.000000"
      ]
     },
     "execution_count": 37,
     "metadata": {},
     "output_type": "execute_result"
    }
   ],
   "source": [
    "import pandas as pd\n",
    "\n",
    "scores = {'座號':[1, 2, 3 ,4, 5, 6, 7],\n",
    "          '姓名':['劉德華', '黎明', '郭富城', '張學友', '張惠妹', '伍百', '孫燕姿'],\n",
    "          '國文':[50, 56, 78, 96, 21, 58, 63],\n",
    "          '英文':[56, 78, 63, 25, 98, 25, 87],\n",
    "          '數學':[65, 78, 96, 65, 45, 25, 81]\n",
    "}\n",
    "df = pd.DataFrame(scores)\n",
    "df.iloc[:, 2:].describe()"
   ]
  },
  {
   "cell_type": "markdown",
   "id": "woQMW6-gKPPO",
   "metadata": {
    "id": "woQMW6-gKPPO"
   },
   "source": [
    "#### DataFrame.mean()：計算平均。"
   ]
  },
  {
   "cell_type": "code",
   "execution_count": null,
   "id": "CicZ2BKwKPPO",
   "metadata": {
    "id": "CicZ2BKwKPPO",
    "outputId": "41525c3b-373b-4c70-fb3f-f53046802ae3"
   },
   "outputs": [
    {
     "data": {
      "text/plain": [
       "國文    60.285714\n",
       "英文    61.714286\n",
       "數學    65.000000\n",
       "dtype: float64"
      ]
     },
     "execution_count": 17,
     "metadata": {},
     "output_type": "execute_result"
    }
   ],
   "source": [
    "import pandas as pd\n",
    "\n",
    "scores = {'座號':[1, 2, 3 ,4, 5, 6, 7],\n",
    "          '姓名':['劉德華', '黎明', '郭富城', '張學友', '張惠妹', '伍百', '孫燕姿'],\n",
    "          '國文':[50, 56, 78, 96, 21, 58, 63],\n",
    "          '英文':[56, 78, 63, 25, 98, 25, 87],\n",
    "          '數學':[65, 78, 96, 65, 45, 25, 81]\n",
    "}\n",
    "df = pd.DataFrame(scores)\n",
    "df.iloc[:, 2:].mean()"
   ]
  },
  {
   "cell_type": "markdown",
   "id": "kYtpgCaAKPPO",
   "metadata": {
    "id": "kYtpgCaAKPPO"
   },
   "source": [
    "#### DataFrame.median()：中位數。"
   ]
  },
  {
   "cell_type": "code",
   "execution_count": 38,
   "id": "hNFSM4UZKPPO",
   "metadata": {
    "id": "hNFSM4UZKPPO",
    "outputId": "08bf5cc4-38a9-43d1-9460-1af83ed662a3"
   },
   "outputs": [
    {
     "data": {
      "text/plain": [
       "國文    58.0\n",
       "英文    63.0\n",
       "數學    65.0\n",
       "dtype: float64"
      ]
     },
     "execution_count": 38,
     "metadata": {},
     "output_type": "execute_result"
    }
   ],
   "source": [
    "import pandas as pd\n",
    "\n",
    "scores = {'座號':[1, 2, 3 ,4, 5, 6, 7],\n",
    "          '姓名':['劉德華', '黎明', '郭富城', '張學友', '張惠妹', '伍百', '孫燕姿'],\n",
    "          '國文':[50, 56, 78, 96, 21, 58, 63],\n",
    "          '英文':[56, 78, 63, 25, 98, 25, 87],\n",
    "          '數學':[65, 78, 96, 65, 45, 25, 81]\n",
    "}\n",
    "df = pd.DataFrame(scores)\n",
    "df.iloc[:, 2:].median()"
   ]
  },
  {
   "cell_type": "markdown",
   "id": "Qp3_ZKGGKPPO",
   "metadata": {
    "id": "Qp3_ZKGGKPPO"
   },
   "source": [
    "#### DataFrame.sum()：計算總和。"
   ]
  },
  {
   "cell_type": "code",
   "execution_count": null,
   "id": "-0LQG69QKPPO",
   "metadata": {
    "id": "-0LQG69QKPPO",
    "outputId": "df13bcc2-88e0-41a8-b960-d29608ade207"
   },
   "outputs": [
    {
     "data": {
      "text/plain": [
       "國文    422\n",
       "英文    432\n",
       "數學    455\n",
       "dtype: int64"
      ]
     },
     "execution_count": 19,
     "metadata": {},
     "output_type": "execute_result"
    }
   ],
   "source": [
    "import pandas as pd\n",
    "\n",
    "scores = {'座號':[1, 2, 3 ,4, 5, 6, 7],\n",
    "          '姓名':['劉德華', '黎明', '郭富城', '張學友', '張惠妹', '伍百', '孫燕姿'],\n",
    "          '國文':[50, 56, 78, 96, 21, 58, 63],\n",
    "          '英文':[56, 78, 63, 25, 98, 25, 87],\n",
    "          '數學':[65, 78, 96, 65, 45, 25, 81]\n",
    "}\n",
    "df = pd.DataFrame(scores)\n",
    "df.iloc[:, 2:].sum()"
   ]
  },
  {
   "cell_type": "markdown",
   "id": "oxPHXNX2KPPO",
   "metadata": {
    "id": "oxPHXNX2KPPO"
   },
   "source": [
    "#### DataFrame.std()：標準差。"
   ]
  },
  {
   "cell_type": "code",
   "execution_count": null,
   "id": "GQFBNwv_KPPO",
   "metadata": {
    "id": "GQFBNwv_KPPO",
    "outputId": "958ae267-7875-4f43-fdce-8f271e8dbf19"
   },
   "outputs": [
    {
     "data": {
      "text/plain": [
       "國文    23.343195\n",
       "英文    28.726958\n",
       "數學    23.755701\n",
       "dtype: float64"
      ]
     },
     "execution_count": 20,
     "metadata": {},
     "output_type": "execute_result"
    }
   ],
   "source": [
    "import pandas as pd\n",
    "\n",
    "scores = {'座號':[1, 2, 3 ,4, 5, 6, 7],\n",
    "          '姓名':['劉德華', '黎明', '郭富城', '張學友', '張惠妹', '伍百', '孫燕姿'],\n",
    "          '國文':[50, 56, 78, 96, 21, 58, 63],\n",
    "          '英文':[56, 78, 63, 25, 98, 25, 87],\n",
    "          '數學':[65, 78, 96, 65, 45, 25, 81]\n",
    "}\n",
    "df = pd.DataFrame(scores)\n",
    "df.iloc[:, 2:].std()"
   ]
  },
  {
   "cell_type": "markdown",
   "id": "FIr1EifkKPPO",
   "metadata": {
    "id": "FIr1EifkKPPO"
   },
   "source": [
    "##### DataFrame.max()：最大值。"
   ]
  },
  {
   "cell_type": "code",
   "execution_count": null,
   "id": "HboM5JTcKPPO",
   "metadata": {
    "id": "HboM5JTcKPPO",
    "outputId": "999ec840-f883-4289-f4f3-401cf4938ba5"
   },
   "outputs": [
    {
     "data": {
      "text/plain": [
       "國文    96\n",
       "英文    98\n",
       "數學    96\n",
       "dtype: int64"
      ]
     },
     "execution_count": 21,
     "metadata": {},
     "output_type": "execute_result"
    }
   ],
   "source": [
    "import pandas as pd\n",
    "\n",
    "scores = {'座號':[1, 2, 3 ,4, 5, 6, 7],\n",
    "          '姓名':['劉德華', '黎明', '郭富城', '張學友', '張惠妹', '伍百', '孫燕姿'],\n",
    "          '國文':[50, 56, 78, 96, 21, 58, 63],\n",
    "          '英文':[56, 78, 63, 25, 98, 25, 87],\n",
    "          '數學':[65, 78, 96, 65, 45, 25, 81]\n",
    "}\n",
    "df = pd.DataFrame(scores)\n",
    "df.iloc[:, 2:].max()"
   ]
  },
  {
   "cell_type": "markdown",
   "id": "KnSIYaXQKPPP",
   "metadata": {
    "id": "KnSIYaXQKPPP"
   },
   "source": [
    "#### DataFrame.min()：最小值。"
   ]
  },
  {
   "cell_type": "code",
   "execution_count": null,
   "id": "pC4pAHZ8KPPP",
   "metadata": {
    "id": "pC4pAHZ8KPPP",
    "outputId": "3e89bc13-962e-41dd-8438-10b3154cd271"
   },
   "outputs": [
    {
     "data": {
      "text/plain": [
       "國文    21\n",
       "英文    25\n",
       "數學    25\n",
       "dtype: int64"
      ]
     },
     "execution_count": 22,
     "metadata": {},
     "output_type": "execute_result"
    }
   ],
   "source": [
    "import pandas as pd\n",
    "\n",
    "scores = {'座號':[1, 2, 3 ,4, 5, 6, 7],\n",
    "          '姓名':['劉德華', '黎明', '郭富城', '張學友', '張惠妹', '伍百', '孫燕姿'],\n",
    "          '國文':[50, 56, 78, 96, 21, 58, 63],\n",
    "          '英文':[56, 78, 63, 25, 98, 25, 87],\n",
    "          '數學':[65, 78, 96, 65, 45, 25, 81]\n",
    "}\n",
    "df = pd.DataFrame(scores)\n",
    "df.iloc[:, 2:].min()"
   ]
  },
  {
   "cell_type": "markdown",
   "id": "-M76pk5JKPPP",
   "metadata": {
    "id": "-M76pk5JKPPP"
   },
   "source": [
    "#### DataFrame.agg()：聚合函數。"
   ]
  },
  {
   "cell_type": "code",
   "execution_count": 39,
   "id": "zqnE7_XeKPPP",
   "metadata": {
    "id": "zqnE7_XeKPPP",
    "outputId": "1c3ad7c2-f0e5-4d03-ea71-077f2d4dce8f"
   },
   "outputs": [
    {
     "data": {
      "text/html": [
       "<div>\n",
       "<style scoped>\n",
       "    .dataframe tbody tr th:only-of-type {\n",
       "        vertical-align: middle;\n",
       "    }\n",
       "\n",
       "    .dataframe tbody tr th {\n",
       "        vertical-align: top;\n",
       "    }\n",
       "\n",
       "    .dataframe thead th {\n",
       "        text-align: right;\n",
       "    }\n",
       "</style>\n",
       "<table border=\"1\" class=\"dataframe\">\n",
       "  <thead>\n",
       "    <tr style=\"text-align: right;\">\n",
       "      <th></th>\n",
       "      <th>國文</th>\n",
       "      <th>英文</th>\n",
       "      <th>數學</th>\n",
       "    </tr>\n",
       "  </thead>\n",
       "  <tbody>\n",
       "    <tr>\n",
       "      <th>sum</th>\n",
       "      <td>422.000000</td>\n",
       "      <td>432.000000</td>\n",
       "      <td>455.000000</td>\n",
       "    </tr>\n",
       "    <tr>\n",
       "      <th>max</th>\n",
       "      <td>96.000000</td>\n",
       "      <td>98.000000</td>\n",
       "      <td>96.000000</td>\n",
       "    </tr>\n",
       "    <tr>\n",
       "      <th>mean</th>\n",
       "      <td>60.285714</td>\n",
       "      <td>61.714286</td>\n",
       "      <td>65.000000</td>\n",
       "    </tr>\n",
       "    <tr>\n",
       "      <th>median</th>\n",
       "      <td>58.000000</td>\n",
       "      <td>63.000000</td>\n",
       "      <td>65.000000</td>\n",
       "    </tr>\n",
       "    <tr>\n",
       "      <th>std</th>\n",
       "      <td>23.343195</td>\n",
       "      <td>28.726958</td>\n",
       "      <td>23.755701</td>\n",
       "    </tr>\n",
       "    <tr>\n",
       "      <th>min</th>\n",
       "      <td>21.000000</td>\n",
       "      <td>25.000000</td>\n",
       "      <td>25.000000</td>\n",
       "    </tr>\n",
       "    <tr>\n",
       "      <th>count</th>\n",
       "      <td>7.000000</td>\n",
       "      <td>7.000000</td>\n",
       "      <td>7.000000</td>\n",
       "    </tr>\n",
       "  </tbody>\n",
       "</table>\n",
       "</div>"
      ],
      "text/plain": [
       "                國文          英文          數學\n",
       "sum     422.000000  432.000000  455.000000\n",
       "max      96.000000   98.000000   96.000000\n",
       "mean     60.285714   61.714286   65.000000\n",
       "median   58.000000   63.000000   65.000000\n",
       "std      23.343195   28.726958   23.755701\n",
       "min      21.000000   25.000000   25.000000\n",
       "count     7.000000    7.000000    7.000000"
      ]
     },
     "execution_count": 39,
     "metadata": {},
     "output_type": "execute_result"
    }
   ],
   "source": [
    "import pandas as pd\n",
    "\n",
    "scores = {'座號':[1, 2, 3 ,4, 5, 6, 7],\n",
    "          '姓名':['劉德華', '黎明', '郭富城', '張學友', '張惠妹', '伍百', '孫燕姿'],\n",
    "          '國文':[50, 56, 78, 96, 21, 58, 63],\n",
    "          '英文':[56, 78, 63, 25, 98, 25, 87],\n",
    "          '數學':[65, 78, 96, 65, 45, 25, 81]\n",
    "}\n",
    "df = pd.DataFrame(scores)\n",
    "df.iloc[:, 2:].agg(['sum', 'max', 'mean', 'median', 'std', 'min', 'count'])"
   ]
  },
  {
   "cell_type": "code",
   "execution_count": 40,
   "id": "UBN78CY7KPPP",
   "metadata": {
    "id": "UBN78CY7KPPP",
    "outputId": "dad93435-0397-46ff-9d4c-42df32cd3d2b"
   },
   "outputs": [
    {
     "data": {
      "text/plain": [
       "國文    422.0\n",
       "英文     98.0\n",
       "數學     65.0\n",
       "dtype: float64"
      ]
     },
     "execution_count": 40,
     "metadata": {},
     "output_type": "execute_result"
    }
   ],
   "source": [
    "import pandas as pd\n",
    "\n",
    "scores = {'座號':[1, 2, 3 ,4, 5, 6, 7],\n",
    "          '姓名':['劉德華', '黎明', '郭富城', '張學友', '張惠妹', '伍百', '孫燕姿'],\n",
    "          '國文':[50, 56, 78, 96, 21, 58, 63],\n",
    "          '英文':[56, 78, 63, 25, 98, 25, 87],\n",
    "          '數學':[65, 78, 96, 65, 45, 25, 81]\n",
    "}\n",
    "df = pd.DataFrame(scores)\n",
    "df.iloc[:, 2:].agg({'國文':'sum', '英文':'max', '數學':'mean'})"
   ]
  },
  {
   "cell_type": "code",
   "execution_count": 18,
   "id": "7176f7c4",
   "metadata": {},
   "outputs": [
    {
     "data": {
      "text/plain": [
       "V1     True\n",
       "V2    False\n",
       "V3     True\n",
       "dtype: bool"
      ]
     },
     "execution_count": 18,
     "metadata": {},
     "output_type": "execute_result"
    }
   ],
   "source": [
    "#快速判斷每一列是否有缺失值\n",
    "import pandas as pd\n",
    "df = pd.DataFrame({\n",
    "    'V1': [1, 2, None, 4],\n",
    "    'V2': [1, 2, 3, 4],\n",
    "    'V3': [None, 1, 2, 3]\n",
    "})\n",
    "\n",
    "df.apply(lambda s: s.hasnans)"
   ]
  },
  {
   "cell_type": "markdown",
   "id": "Nv-6efZmKPPP",
   "metadata": {
    "id": "Nv-6efZmKPPP"
   },
   "source": [
    "# 5. DataFrame 取值、切片\n",
    "![](image\\index.png)"
   ]
  },
  {
   "cell_type": "code",
   "execution_count": 46,
   "id": "BCvhgQVBKPPP",
   "metadata": {
    "id": "BCvhgQVBKPPP",
    "outputId": "29088ad6-4912-4d75-cccc-5b9bf2fa36ab"
   },
   "outputs": [
    {
     "data": {
      "text/html": [
       "<div>\n",
       "<style scoped>\n",
       "    .dataframe tbody tr th:only-of-type {\n",
       "        vertical-align: middle;\n",
       "    }\n",
       "\n",
       "    .dataframe tbody tr th {\n",
       "        vertical-align: top;\n",
       "    }\n",
       "\n",
       "    .dataframe thead th {\n",
       "        text-align: right;\n",
       "    }\n",
       "</style>\n",
       "<table border=\"1\" class=\"dataframe\">\n",
       "  <thead>\n",
       "    <tr style=\"text-align: right;\">\n",
       "      <th></th>\n",
       "      <th>座號</th>\n",
       "      <th>姓名</th>\n",
       "      <th>國文</th>\n",
       "      <th>英文</th>\n",
       "      <th>數學</th>\n",
       "    </tr>\n",
       "  </thead>\n",
       "  <tbody>\n",
       "    <tr>\n",
       "      <th>0</th>\n",
       "      <td>1</td>\n",
       "      <td>劉德華</td>\n",
       "      <td>50</td>\n",
       "      <td>56</td>\n",
       "      <td>65</td>\n",
       "    </tr>\n",
       "    <tr>\n",
       "      <th>1</th>\n",
       "      <td>2</td>\n",
       "      <td>黎明</td>\n",
       "      <td>56</td>\n",
       "      <td>78</td>\n",
       "      <td>78</td>\n",
       "    </tr>\n",
       "    <tr>\n",
       "      <th>2</th>\n",
       "      <td>3</td>\n",
       "      <td>郭富城</td>\n",
       "      <td>78</td>\n",
       "      <td>63</td>\n",
       "      <td>96</td>\n",
       "    </tr>\n",
       "    <tr>\n",
       "      <th>3</th>\n",
       "      <td>4</td>\n",
       "      <td>張學友</td>\n",
       "      <td>96</td>\n",
       "      <td>25</td>\n",
       "      <td>65</td>\n",
       "    </tr>\n",
       "    <tr>\n",
       "      <th>4</th>\n",
       "      <td>5</td>\n",
       "      <td>張惠妹</td>\n",
       "      <td>21</td>\n",
       "      <td>98</td>\n",
       "      <td>45</td>\n",
       "    </tr>\n",
       "    <tr>\n",
       "      <th>5</th>\n",
       "      <td>6</td>\n",
       "      <td>伍百</td>\n",
       "      <td>58</td>\n",
       "      <td>25</td>\n",
       "      <td>25</td>\n",
       "    </tr>\n",
       "    <tr>\n",
       "      <th>6</th>\n",
       "      <td>7</td>\n",
       "      <td>孫燕姿</td>\n",
       "      <td>63</td>\n",
       "      <td>87</td>\n",
       "      <td>81</td>\n",
       "    </tr>\n",
       "  </tbody>\n",
       "</table>\n",
       "</div>"
      ],
      "text/plain": [
       "   座號   姓名  國文  英文  數學\n",
       "0   1  劉德華  50  56  65\n",
       "1   2   黎明  56  78  78\n",
       "2   3  郭富城  78  63  96\n",
       "3   4  張學友  96  25  65\n",
       "4   5  張惠妹  21  98  45\n",
       "5   6   伍百  58  25  25\n",
       "6   7  孫燕姿  63  87  81"
      ]
     },
     "execution_count": 46,
     "metadata": {},
     "output_type": "execute_result"
    }
   ],
   "source": [
    "import pandas as pd\n",
    "\n",
    "scores = {'座號':[1, 2, 3 ,4, 5, 6, 7],\n",
    "          '姓名':['劉德華', '黎明', '郭富城', '張學友', '張惠妹', '伍百', '孫燕姿'],\n",
    "          '國文':[50, 56, 78, 96, 21, 58, 63],\n",
    "          '英文':[56, 78, 63, 25, 98, 25, 87],\n",
    "          '數學':[65, 78, 96, 65, 45, 25, 81]\n",
    "}\n",
    "df = pd.DataFrame(scores)\n",
    "df"
   ]
  },
  {
   "cell_type": "markdown",
   "id": "-_fFyFu9KPPP",
   "metadata": {
    "id": "-_fFyFu9KPPP"
   },
   "source": [
    "## 取值\n",
    "- Pandas 提供3種方式取值，分別為df.loc (名稱選值)、df.iloc (索引選值)、df.ix (名稱與索引混合選值)，df.ix 於 pandas v1.0.0以後停止使用，目前僅只有 df.loc、df.iloc。\n",
    "\n",
    "#### df.loc[row, column]：以名稱選值。"
   ]
  },
  {
   "cell_type": "code",
   "execution_count": 43,
   "id": "--n1UX9yKPPP",
   "metadata": {
    "id": "--n1UX9yKPPP",
    "outputId": "7d2deeca-717e-42c0-982f-12a8967e6926"
   },
   "outputs": [
    {
     "data": {
      "text/plain": [
       "'郭富城'"
      ]
     },
     "execution_count": 43,
     "metadata": {},
     "output_type": "execute_result"
    }
   ],
   "source": [
    "df.loc[2, '姓名']"
   ]
  },
  {
   "cell_type": "markdown",
   "id": "bYupEQagKPPP",
   "metadata": {
    "id": "bYupEQagKPPP"
   },
   "source": [
    "#### df.iloc[row, column]：以索引選值。"
   ]
  },
  {
   "cell_type": "code",
   "execution_count": 44,
   "id": "CYnbzbSoKPPP",
   "metadata": {
    "id": "CYnbzbSoKPPP",
    "outputId": "25c142bc-60a9-4c1e-8b38-58b38529f57f"
   },
   "outputs": [
    {
     "data": {
      "text/plain": [
       "63"
      ]
     },
     "execution_count": 44,
     "metadata": {},
     "output_type": "execute_result"
    }
   ],
   "source": [
    "df.iloc[2, 3]"
   ]
  },
  {
   "cell_type": "markdown",
   "id": "Ru19wfiFKPPP",
   "metadata": {
    "id": "Ru19wfiFKPPP"
   },
   "source": [
    "## 切片\n",
    "- 以Column為主，進行項目挑選。\n",
    "\n",
    "#### 單獨挑選所有 \"姓名\" 欄位。\n",
    "- 方法1"
   ]
  },
  {
   "cell_type": "code",
   "execution_count": null,
   "id": "5McKSZmHKPPP",
   "metadata": {
    "id": "5McKSZmHKPPP",
    "outputId": "710a7967-9f00-4b07-cb65-1c551e3aba79"
   },
   "outputs": [
    {
     "data": {
      "text/plain": [
       "0    劉德華\n",
       "1     黎明\n",
       "2    郭富城\n",
       "3    張學友\n",
       "4    張惠妹\n",
       "5     伍百\n",
       "6    孫燕姿\n",
       "Name: 姓名, dtype: object"
      ]
     },
     "execution_count": 27,
     "metadata": {},
     "output_type": "execute_result"
    }
   ],
   "source": [
    "df['姓名']"
   ]
  },
  {
   "cell_type": "markdown",
   "id": "9dA5wTkiKPPP",
   "metadata": {
    "id": "9dA5wTkiKPPP"
   },
   "source": [
    "- 方法2"
   ]
  },
  {
   "cell_type": "code",
   "execution_count": null,
   "id": "7957db2JKPPP",
   "metadata": {
    "id": "7957db2JKPPP",
    "outputId": "043807d3-a41c-49a7-b132-475fde9ef922"
   },
   "outputs": [
    {
     "data": {
      "text/plain": [
       "0    劉德華\n",
       "1     黎明\n",
       "2    郭富城\n",
       "3    張學友\n",
       "4    張惠妹\n",
       "5     伍百\n",
       "6    孫燕姿\n",
       "Name: 姓名, dtype: object"
      ]
     },
     "execution_count": 28,
     "metadata": {},
     "output_type": "execute_result"
    }
   ],
   "source": [
    "df.loc[:,'姓名']"
   ]
  },
  {
   "cell_type": "markdown",
   "id": "s-tThP94KPPQ",
   "metadata": {
    "id": "s-tThP94KPPQ"
   },
   "source": [
    "- 方法3"
   ]
  },
  {
   "cell_type": "code",
   "execution_count": null,
   "id": "emDxqgNbKPPQ",
   "metadata": {
    "id": "emDxqgNbKPPQ",
    "outputId": "5ad22756-b286-491d-d166-8f7e5105fbd1"
   },
   "outputs": [
    {
     "data": {
      "text/plain": [
       "0    劉德華\n",
       "1     黎明\n",
       "2    郭富城\n",
       "3    張學友\n",
       "4    張惠妹\n",
       "5     伍百\n",
       "6    孫燕姿\n",
       "Name: 姓名, dtype: object"
      ]
     },
     "execution_count": 29,
     "metadata": {},
     "output_type": "execute_result"
    }
   ],
   "source": [
    "df.iloc[:,1]"
   ]
  },
  {
   "cell_type": "markdown",
   "id": "nDGb2AV7KPPQ",
   "metadata": {
    "id": "nDGb2AV7KPPQ"
   },
   "source": [
    "##### 連續挑選 \"國文\"、\"英文\"、\"數學\" 欄位。\n",
    "- 方法1"
   ]
  },
  {
   "cell_type": "code",
   "execution_count": 45,
   "id": "Ktu0mqQmKPPQ",
   "metadata": {
    "id": "Ktu0mqQmKPPQ",
    "outputId": "6b03abb8-3605-41a7-bd48-7b8cc95adc1a"
   },
   "outputs": [
    {
     "data": {
      "text/html": [
       "<div>\n",
       "<style scoped>\n",
       "    .dataframe tbody tr th:only-of-type {\n",
       "        vertical-align: middle;\n",
       "    }\n",
       "\n",
       "    .dataframe tbody tr th {\n",
       "        vertical-align: top;\n",
       "    }\n",
       "\n",
       "    .dataframe thead th {\n",
       "        text-align: right;\n",
       "    }\n",
       "</style>\n",
       "<table border=\"1\" class=\"dataframe\">\n",
       "  <thead>\n",
       "    <tr style=\"text-align: right;\">\n",
       "      <th></th>\n",
       "      <th>國文</th>\n",
       "      <th>數學</th>\n",
       "    </tr>\n",
       "  </thead>\n",
       "  <tbody>\n",
       "    <tr>\n",
       "      <th>0</th>\n",
       "      <td>50</td>\n",
       "      <td>65</td>\n",
       "    </tr>\n",
       "    <tr>\n",
       "      <th>1</th>\n",
       "      <td>56</td>\n",
       "      <td>78</td>\n",
       "    </tr>\n",
       "    <tr>\n",
       "      <th>2</th>\n",
       "      <td>78</td>\n",
       "      <td>96</td>\n",
       "    </tr>\n",
       "    <tr>\n",
       "      <th>3</th>\n",
       "      <td>96</td>\n",
       "      <td>65</td>\n",
       "    </tr>\n",
       "    <tr>\n",
       "      <th>4</th>\n",
       "      <td>21</td>\n",
       "      <td>45</td>\n",
       "    </tr>\n",
       "    <tr>\n",
       "      <th>5</th>\n",
       "      <td>58</td>\n",
       "      <td>25</td>\n",
       "    </tr>\n",
       "    <tr>\n",
       "      <th>6</th>\n",
       "      <td>63</td>\n",
       "      <td>81</td>\n",
       "    </tr>\n",
       "  </tbody>\n",
       "</table>\n",
       "</div>"
      ],
      "text/plain": [
       "   國文  數學\n",
       "0  50  65\n",
       "1  56  78\n",
       "2  78  96\n",
       "3  96  65\n",
       "4  21  45\n",
       "5  58  25\n",
       "6  63  81"
      ]
     },
     "execution_count": 45,
     "metadata": {},
     "output_type": "execute_result"
    }
   ],
   "source": [
    "df[['國文', '英文', '數學']]"
   ]
  },
  {
   "cell_type": "markdown",
   "id": "hw6N1IiCKPPQ",
   "metadata": {
    "id": "hw6N1IiCKPPQ"
   },
   "source": [
    "- 方法2"
   ]
  },
  {
   "cell_type": "code",
   "execution_count": null,
   "id": "yVsQKFv2KPPQ",
   "metadata": {
    "id": "yVsQKFv2KPPQ",
    "outputId": "f84b6dfb-42e0-40b0-d564-fbba21c19b72"
   },
   "outputs": [
    {
     "data": {
      "text/html": [
       "<div>\n",
       "<style scoped>\n",
       "    .dataframe tbody tr th:only-of-type {\n",
       "        vertical-align: middle;\n",
       "    }\n",
       "\n",
       "    .dataframe tbody tr th {\n",
       "        vertical-align: top;\n",
       "    }\n",
       "\n",
       "    .dataframe thead th {\n",
       "        text-align: right;\n",
       "    }\n",
       "</style>\n",
       "<table border=\"1\" class=\"dataframe\">\n",
       "  <thead>\n",
       "    <tr style=\"text-align: right;\">\n",
       "      <th></th>\n",
       "      <th>國文</th>\n",
       "      <th>英文</th>\n",
       "      <th>數學</th>\n",
       "    </tr>\n",
       "  </thead>\n",
       "  <tbody>\n",
       "    <tr>\n",
       "      <th>0</th>\n",
       "      <td>50</td>\n",
       "      <td>56</td>\n",
       "      <td>65</td>\n",
       "    </tr>\n",
       "    <tr>\n",
       "      <th>1</th>\n",
       "      <td>56</td>\n",
       "      <td>78</td>\n",
       "      <td>78</td>\n",
       "    </tr>\n",
       "    <tr>\n",
       "      <th>2</th>\n",
       "      <td>78</td>\n",
       "      <td>63</td>\n",
       "      <td>96</td>\n",
       "    </tr>\n",
       "    <tr>\n",
       "      <th>3</th>\n",
       "      <td>96</td>\n",
       "      <td>25</td>\n",
       "      <td>65</td>\n",
       "    </tr>\n",
       "    <tr>\n",
       "      <th>4</th>\n",
       "      <td>21</td>\n",
       "      <td>98</td>\n",
       "      <td>45</td>\n",
       "    </tr>\n",
       "    <tr>\n",
       "      <th>5</th>\n",
       "      <td>58</td>\n",
       "      <td>25</td>\n",
       "      <td>25</td>\n",
       "    </tr>\n",
       "    <tr>\n",
       "      <th>6</th>\n",
       "      <td>63</td>\n",
       "      <td>87</td>\n",
       "      <td>81</td>\n",
       "    </tr>\n",
       "  </tbody>\n",
       "</table>\n",
       "</div>"
      ],
      "text/plain": [
       "   國文  英文  數學\n",
       "0  50  56  65\n",
       "1  56  78  78\n",
       "2  78  63  96\n",
       "3  96  25  65\n",
       "4  21  98  45\n",
       "5  58  25  25\n",
       "6  63  87  81"
      ]
     },
     "execution_count": 31,
     "metadata": {},
     "output_type": "execute_result"
    }
   ],
   "source": [
    "df.loc[:, ['國文', '英文', '數學']]"
   ]
  },
  {
   "cell_type": "markdown",
   "id": "HhYivhw3KPPQ",
   "metadata": {
    "id": "HhYivhw3KPPQ"
   },
   "source": [
    "- 方法3"
   ]
  },
  {
   "cell_type": "code",
   "execution_count": null,
   "id": "L1v-2KRaKPPQ",
   "metadata": {
    "id": "L1v-2KRaKPPQ",
    "outputId": "14fbdff5-d41e-43c0-edab-7a56b0883b9e"
   },
   "outputs": [
    {
     "data": {
      "text/html": [
       "<div>\n",
       "<style scoped>\n",
       "    .dataframe tbody tr th:only-of-type {\n",
       "        vertical-align: middle;\n",
       "    }\n",
       "\n",
       "    .dataframe tbody tr th {\n",
       "        vertical-align: top;\n",
       "    }\n",
       "\n",
       "    .dataframe thead th {\n",
       "        text-align: right;\n",
       "    }\n",
       "</style>\n",
       "<table border=\"1\" class=\"dataframe\">\n",
       "  <thead>\n",
       "    <tr style=\"text-align: right;\">\n",
       "      <th></th>\n",
       "      <th>國文</th>\n",
       "      <th>英文</th>\n",
       "      <th>數學</th>\n",
       "    </tr>\n",
       "  </thead>\n",
       "  <tbody>\n",
       "    <tr>\n",
       "      <th>0</th>\n",
       "      <td>50</td>\n",
       "      <td>56</td>\n",
       "      <td>65</td>\n",
       "    </tr>\n",
       "    <tr>\n",
       "      <th>1</th>\n",
       "      <td>56</td>\n",
       "      <td>78</td>\n",
       "      <td>78</td>\n",
       "    </tr>\n",
       "    <tr>\n",
       "      <th>2</th>\n",
       "      <td>78</td>\n",
       "      <td>63</td>\n",
       "      <td>96</td>\n",
       "    </tr>\n",
       "    <tr>\n",
       "      <th>3</th>\n",
       "      <td>96</td>\n",
       "      <td>25</td>\n",
       "      <td>65</td>\n",
       "    </tr>\n",
       "    <tr>\n",
       "      <th>4</th>\n",
       "      <td>21</td>\n",
       "      <td>98</td>\n",
       "      <td>45</td>\n",
       "    </tr>\n",
       "    <tr>\n",
       "      <th>5</th>\n",
       "      <td>58</td>\n",
       "      <td>25</td>\n",
       "      <td>25</td>\n",
       "    </tr>\n",
       "    <tr>\n",
       "      <th>6</th>\n",
       "      <td>63</td>\n",
       "      <td>87</td>\n",
       "      <td>81</td>\n",
       "    </tr>\n",
       "  </tbody>\n",
       "</table>\n",
       "</div>"
      ],
      "text/plain": [
       "   國文  英文  數學\n",
       "0  50  56  65\n",
       "1  56  78  78\n",
       "2  78  63  96\n",
       "3  96  25  65\n",
       "4  21  98  45\n",
       "5  58  25  25\n",
       "6  63  87  81"
      ]
     },
     "execution_count": 32,
     "metadata": {},
     "output_type": "execute_result"
    }
   ],
   "source": [
    "df.loc[:, '國文':'數學']"
   ]
  },
  {
   "cell_type": "markdown",
   "id": "XYH0wWFwKPPQ",
   "metadata": {
    "id": "XYH0wWFwKPPQ"
   },
   "source": [
    "- 方法4"
   ]
  },
  {
   "cell_type": "code",
   "execution_count": null,
   "id": "YHh2WJEVKPPQ",
   "metadata": {
    "id": "YHh2WJEVKPPQ",
    "outputId": "0ba06fc5-4faf-4905-8c21-0de994af89dd"
   },
   "outputs": [
    {
     "data": {
      "text/html": [
       "<div>\n",
       "<style scoped>\n",
       "    .dataframe tbody tr th:only-of-type {\n",
       "        vertical-align: middle;\n",
       "    }\n",
       "\n",
       "    .dataframe tbody tr th {\n",
       "        vertical-align: top;\n",
       "    }\n",
       "\n",
       "    .dataframe thead th {\n",
       "        text-align: right;\n",
       "    }\n",
       "</style>\n",
       "<table border=\"1\" class=\"dataframe\">\n",
       "  <thead>\n",
       "    <tr style=\"text-align: right;\">\n",
       "      <th></th>\n",
       "      <th>國文</th>\n",
       "      <th>英文</th>\n",
       "      <th>數學</th>\n",
       "    </tr>\n",
       "  </thead>\n",
       "  <tbody>\n",
       "    <tr>\n",
       "      <th>0</th>\n",
       "      <td>50</td>\n",
       "      <td>56</td>\n",
       "      <td>65</td>\n",
       "    </tr>\n",
       "    <tr>\n",
       "      <th>1</th>\n",
       "      <td>56</td>\n",
       "      <td>78</td>\n",
       "      <td>78</td>\n",
       "    </tr>\n",
       "    <tr>\n",
       "      <th>2</th>\n",
       "      <td>78</td>\n",
       "      <td>63</td>\n",
       "      <td>96</td>\n",
       "    </tr>\n",
       "    <tr>\n",
       "      <th>3</th>\n",
       "      <td>96</td>\n",
       "      <td>25</td>\n",
       "      <td>65</td>\n",
       "    </tr>\n",
       "    <tr>\n",
       "      <th>4</th>\n",
       "      <td>21</td>\n",
       "      <td>98</td>\n",
       "      <td>45</td>\n",
       "    </tr>\n",
       "    <tr>\n",
       "      <th>5</th>\n",
       "      <td>58</td>\n",
       "      <td>25</td>\n",
       "      <td>25</td>\n",
       "    </tr>\n",
       "    <tr>\n",
       "      <th>6</th>\n",
       "      <td>63</td>\n",
       "      <td>87</td>\n",
       "      <td>81</td>\n",
       "    </tr>\n",
       "  </tbody>\n",
       "</table>\n",
       "</div>"
      ],
      "text/plain": [
       "   國文  英文  數學\n",
       "0  50  56  65\n",
       "1  56  78  78\n",
       "2  78  63  96\n",
       "3  96  25  65\n",
       "4  21  98  45\n",
       "5  58  25  25\n",
       "6  63  87  81"
      ]
     },
     "execution_count": 33,
     "metadata": {},
     "output_type": "execute_result"
    }
   ],
   "source": [
    "df.loc[:, '國文':]"
   ]
  },
  {
   "cell_type": "markdown",
   "id": "rq8tXEX7KPPQ",
   "metadata": {
    "id": "rq8tXEX7KPPQ"
   },
   "source": [
    "- 方法5"
   ]
  },
  {
   "cell_type": "code",
   "execution_count": null,
   "id": "2N0KZQF7KPPQ",
   "metadata": {
    "id": "2N0KZQF7KPPQ",
    "outputId": "d43ba087-83b7-48b4-c0b0-cfe55fc39b61"
   },
   "outputs": [
    {
     "data": {
      "text/html": [
       "<div>\n",
       "<style scoped>\n",
       "    .dataframe tbody tr th:only-of-type {\n",
       "        vertical-align: middle;\n",
       "    }\n",
       "\n",
       "    .dataframe tbody tr th {\n",
       "        vertical-align: top;\n",
       "    }\n",
       "\n",
       "    .dataframe thead th {\n",
       "        text-align: right;\n",
       "    }\n",
       "</style>\n",
       "<table border=\"1\" class=\"dataframe\">\n",
       "  <thead>\n",
       "    <tr style=\"text-align: right;\">\n",
       "      <th></th>\n",
       "      <th>國文</th>\n",
       "      <th>英文</th>\n",
       "      <th>數學</th>\n",
       "    </tr>\n",
       "  </thead>\n",
       "  <tbody>\n",
       "    <tr>\n",
       "      <th>0</th>\n",
       "      <td>50</td>\n",
       "      <td>56</td>\n",
       "      <td>65</td>\n",
       "    </tr>\n",
       "    <tr>\n",
       "      <th>1</th>\n",
       "      <td>56</td>\n",
       "      <td>78</td>\n",
       "      <td>78</td>\n",
       "    </tr>\n",
       "    <tr>\n",
       "      <th>2</th>\n",
       "      <td>78</td>\n",
       "      <td>63</td>\n",
       "      <td>96</td>\n",
       "    </tr>\n",
       "    <tr>\n",
       "      <th>3</th>\n",
       "      <td>96</td>\n",
       "      <td>25</td>\n",
       "      <td>65</td>\n",
       "    </tr>\n",
       "    <tr>\n",
       "      <th>4</th>\n",
       "      <td>21</td>\n",
       "      <td>98</td>\n",
       "      <td>45</td>\n",
       "    </tr>\n",
       "    <tr>\n",
       "      <th>5</th>\n",
       "      <td>58</td>\n",
       "      <td>25</td>\n",
       "      <td>25</td>\n",
       "    </tr>\n",
       "    <tr>\n",
       "      <th>6</th>\n",
       "      <td>63</td>\n",
       "      <td>87</td>\n",
       "      <td>81</td>\n",
       "    </tr>\n",
       "  </tbody>\n",
       "</table>\n",
       "</div>"
      ],
      "text/plain": [
       "   國文  英文  數學\n",
       "0  50  56  65\n",
       "1  56  78  78\n",
       "2  78  63  96\n",
       "3  96  25  65\n",
       "4  21  98  45\n",
       "5  58  25  25\n",
       "6  63  87  81"
      ]
     },
     "execution_count": 10,
     "metadata": {},
     "output_type": "execute_result"
    }
   ],
   "source": [
    "df.iloc[:, 2:5]"
   ]
  },
  {
   "cell_type": "markdown",
   "id": "RwzLWp67KPPQ",
   "metadata": {
    "id": "RwzLWp67KPPQ"
   },
   "source": [
    "- 方法6"
   ]
  },
  {
   "cell_type": "code",
   "execution_count": null,
   "id": "y5lmEiCEKPPQ",
   "metadata": {
    "id": "y5lmEiCEKPPQ",
    "outputId": "e51d8469-e333-4ad1-b66a-2b506043f7b0"
   },
   "outputs": [
    {
     "data": {
      "text/html": [
       "<div>\n",
       "<style scoped>\n",
       "    .dataframe tbody tr th:only-of-type {\n",
       "        vertical-align: middle;\n",
       "    }\n",
       "\n",
       "    .dataframe tbody tr th {\n",
       "        vertical-align: top;\n",
       "    }\n",
       "\n",
       "    .dataframe thead th {\n",
       "        text-align: right;\n",
       "    }\n",
       "</style>\n",
       "<table border=\"1\" class=\"dataframe\">\n",
       "  <thead>\n",
       "    <tr style=\"text-align: right;\">\n",
       "      <th></th>\n",
       "      <th>國文</th>\n",
       "      <th>英文</th>\n",
       "      <th>數學</th>\n",
       "    </tr>\n",
       "  </thead>\n",
       "  <tbody>\n",
       "    <tr>\n",
       "      <th>0</th>\n",
       "      <td>50</td>\n",
       "      <td>56</td>\n",
       "      <td>65</td>\n",
       "    </tr>\n",
       "    <tr>\n",
       "      <th>1</th>\n",
       "      <td>56</td>\n",
       "      <td>78</td>\n",
       "      <td>78</td>\n",
       "    </tr>\n",
       "    <tr>\n",
       "      <th>2</th>\n",
       "      <td>78</td>\n",
       "      <td>63</td>\n",
       "      <td>96</td>\n",
       "    </tr>\n",
       "    <tr>\n",
       "      <th>3</th>\n",
       "      <td>96</td>\n",
       "      <td>25</td>\n",
       "      <td>65</td>\n",
       "    </tr>\n",
       "    <tr>\n",
       "      <th>4</th>\n",
       "      <td>21</td>\n",
       "      <td>98</td>\n",
       "      <td>45</td>\n",
       "    </tr>\n",
       "    <tr>\n",
       "      <th>5</th>\n",
       "      <td>58</td>\n",
       "      <td>25</td>\n",
       "      <td>25</td>\n",
       "    </tr>\n",
       "    <tr>\n",
       "      <th>6</th>\n",
       "      <td>63</td>\n",
       "      <td>87</td>\n",
       "      <td>81</td>\n",
       "    </tr>\n",
       "  </tbody>\n",
       "</table>\n",
       "</div>"
      ],
      "text/plain": [
       "   國文  英文  數學\n",
       "0  50  56  65\n",
       "1  56  78  78\n",
       "2  78  63  96\n",
       "3  96  25  65\n",
       "4  21  98  45\n",
       "5  58  25  25\n",
       "6  63  87  81"
      ]
     },
     "execution_count": 35,
     "metadata": {},
     "output_type": "execute_result"
    }
   ],
   "source": [
    "df.iloc[:, 2:]"
   ]
  },
  {
   "cell_type": "markdown",
   "id": "PVhVM3-JKPPQ",
   "metadata": {
    "id": "PVhVM3-JKPPQ"
   },
   "source": [
    "##### 分開挑選 \"姓名\"、\"數學\" 欄位。\n",
    "- 方法1"
   ]
  },
  {
   "cell_type": "code",
   "execution_count": null,
   "id": "iF2u6mclKPPQ",
   "metadata": {
    "id": "iF2u6mclKPPQ",
    "outputId": "c965dfa5-6729-44b7-8663-9ff054642714"
   },
   "outputs": [
    {
     "data": {
      "text/plain": [
       "0    劉德華\n",
       "1     黎明\n",
       "2    郭富城\n",
       "3    張學友\n",
       "4    張惠妹\n",
       "5     伍百\n",
       "6    孫燕姿\n",
       "Name: 姓名, dtype: object"
      ]
     },
     "execution_count": 3,
     "metadata": {},
     "output_type": "execute_result"
    }
   ],
   "source": [
    "df['姓名']"
   ]
  },
  {
   "cell_type": "code",
   "execution_count": null,
   "id": "aF1KpxJkKPPR",
   "metadata": {
    "id": "aF1KpxJkKPPR",
    "outputId": "ed2c9816-b8c5-4421-eac9-fd9f9b2121b0"
   },
   "outputs": [
    {
     "data": {
      "text/html": [
       "<div>\n",
       "<style scoped>\n",
       "    .dataframe tbody tr th:only-of-type {\n",
       "        vertical-align: middle;\n",
       "    }\n",
       "\n",
       "    .dataframe tbody tr th {\n",
       "        vertical-align: top;\n",
       "    }\n",
       "\n",
       "    .dataframe thead th {\n",
       "        text-align: right;\n",
       "    }\n",
       "</style>\n",
       "<table border=\"1\" class=\"dataframe\">\n",
       "  <thead>\n",
       "    <tr style=\"text-align: right;\">\n",
       "      <th></th>\n",
       "      <th>姓名</th>\n",
       "      <th>數學</th>\n",
       "    </tr>\n",
       "  </thead>\n",
       "  <tbody>\n",
       "    <tr>\n",
       "      <th>0</th>\n",
       "      <td>劉德華</td>\n",
       "      <td>65</td>\n",
       "    </tr>\n",
       "    <tr>\n",
       "      <th>1</th>\n",
       "      <td>黎明</td>\n",
       "      <td>78</td>\n",
       "    </tr>\n",
       "    <tr>\n",
       "      <th>2</th>\n",
       "      <td>郭富城</td>\n",
       "      <td>96</td>\n",
       "    </tr>\n",
       "    <tr>\n",
       "      <th>3</th>\n",
       "      <td>張學友</td>\n",
       "      <td>65</td>\n",
       "    </tr>\n",
       "    <tr>\n",
       "      <th>4</th>\n",
       "      <td>張惠妹</td>\n",
       "      <td>45</td>\n",
       "    </tr>\n",
       "    <tr>\n",
       "      <th>5</th>\n",
       "      <td>伍百</td>\n",
       "      <td>25</td>\n",
       "    </tr>\n",
       "    <tr>\n",
       "      <th>6</th>\n",
       "      <td>孫燕姿</td>\n",
       "      <td>81</td>\n",
       "    </tr>\n",
       "  </tbody>\n",
       "</table>\n",
       "</div>"
      ],
      "text/plain": [
       "    姓名  數學\n",
       "0  劉德華  65\n",
       "1   黎明  78\n",
       "2  郭富城  96\n",
       "3  張學友  65\n",
       "4  張惠妹  45\n",
       "5   伍百  25\n",
       "6  孫燕姿  81"
      ]
     },
     "execution_count": 4,
     "metadata": {},
     "output_type": "execute_result"
    }
   ],
   "source": [
    "df[['姓名', '數學']]"
   ]
  },
  {
   "cell_type": "markdown",
   "id": "kKjDd7YhKPPR",
   "metadata": {
    "id": "kKjDd7YhKPPR"
   },
   "source": [
    "- 方法2"
   ]
  },
  {
   "cell_type": "code",
   "execution_count": null,
   "id": "PWCbvS8FKPPR",
   "metadata": {
    "id": "PWCbvS8FKPPR",
    "outputId": "c8748b69-8549-4384-f687-d50cb9accd2b"
   },
   "outputs": [
    {
     "data": {
      "text/html": [
       "<div>\n",
       "<style scoped>\n",
       "    .dataframe tbody tr th:only-of-type {\n",
       "        vertical-align: middle;\n",
       "    }\n",
       "\n",
       "    .dataframe tbody tr th {\n",
       "        vertical-align: top;\n",
       "    }\n",
       "\n",
       "    .dataframe thead th {\n",
       "        text-align: right;\n",
       "    }\n",
       "</style>\n",
       "<table border=\"1\" class=\"dataframe\">\n",
       "  <thead>\n",
       "    <tr style=\"text-align: right;\">\n",
       "      <th></th>\n",
       "      <th>姓名</th>\n",
       "      <th>數學</th>\n",
       "    </tr>\n",
       "  </thead>\n",
       "  <tbody>\n",
       "    <tr>\n",
       "      <th>0</th>\n",
       "      <td>劉德華</td>\n",
       "      <td>65</td>\n",
       "    </tr>\n",
       "    <tr>\n",
       "      <th>1</th>\n",
       "      <td>黎明</td>\n",
       "      <td>78</td>\n",
       "    </tr>\n",
       "    <tr>\n",
       "      <th>2</th>\n",
       "      <td>郭富城</td>\n",
       "      <td>96</td>\n",
       "    </tr>\n",
       "    <tr>\n",
       "      <th>3</th>\n",
       "      <td>張學友</td>\n",
       "      <td>65</td>\n",
       "    </tr>\n",
       "    <tr>\n",
       "      <th>4</th>\n",
       "      <td>張惠妹</td>\n",
       "      <td>45</td>\n",
       "    </tr>\n",
       "    <tr>\n",
       "      <th>5</th>\n",
       "      <td>伍百</td>\n",
       "      <td>25</td>\n",
       "    </tr>\n",
       "    <tr>\n",
       "      <th>6</th>\n",
       "      <td>孫燕姿</td>\n",
       "      <td>81</td>\n",
       "    </tr>\n",
       "  </tbody>\n",
       "</table>\n",
       "</div>"
      ],
      "text/plain": [
       "    姓名  數學\n",
       "0  劉德華  65\n",
       "1   黎明  78\n",
       "2  郭富城  96\n",
       "3  張學友  65\n",
       "4  張惠妹  45\n",
       "5   伍百  25\n",
       "6  孫燕姿  81"
      ]
     },
     "execution_count": 5,
     "metadata": {},
     "output_type": "execute_result"
    }
   ],
   "source": [
    "df.loc[:, ['姓名', '數學']]"
   ]
  },
  {
   "cell_type": "markdown",
   "id": "dOhiMYN2KPPR",
   "metadata": {
    "id": "dOhiMYN2KPPR"
   },
   "source": [
    "- 方法3"
   ]
  },
  {
   "cell_type": "code",
   "execution_count": null,
   "id": "qPXmANp_KPPR",
   "metadata": {
    "id": "qPXmANp_KPPR",
    "outputId": "7e90392d-116b-4bc9-f19d-8f984944a707"
   },
   "outputs": [
    {
     "data": {
      "text/html": [
       "<div>\n",
       "<style scoped>\n",
       "    .dataframe tbody tr th:only-of-type {\n",
       "        vertical-align: middle;\n",
       "    }\n",
       "\n",
       "    .dataframe tbody tr th {\n",
       "        vertical-align: top;\n",
       "    }\n",
       "\n",
       "    .dataframe thead th {\n",
       "        text-align: right;\n",
       "    }\n",
       "</style>\n",
       "<table border=\"1\" class=\"dataframe\">\n",
       "  <thead>\n",
       "    <tr style=\"text-align: right;\">\n",
       "      <th></th>\n",
       "      <th>姓名</th>\n",
       "      <th>數學</th>\n",
       "    </tr>\n",
       "  </thead>\n",
       "  <tbody>\n",
       "    <tr>\n",
       "      <th>0</th>\n",
       "      <td>劉德華</td>\n",
       "      <td>65</td>\n",
       "    </tr>\n",
       "    <tr>\n",
       "      <th>1</th>\n",
       "      <td>黎明</td>\n",
       "      <td>78</td>\n",
       "    </tr>\n",
       "    <tr>\n",
       "      <th>2</th>\n",
       "      <td>郭富城</td>\n",
       "      <td>96</td>\n",
       "    </tr>\n",
       "    <tr>\n",
       "      <th>3</th>\n",
       "      <td>張學友</td>\n",
       "      <td>65</td>\n",
       "    </tr>\n",
       "    <tr>\n",
       "      <th>4</th>\n",
       "      <td>張惠妹</td>\n",
       "      <td>45</td>\n",
       "    </tr>\n",
       "    <tr>\n",
       "      <th>5</th>\n",
       "      <td>伍百</td>\n",
       "      <td>25</td>\n",
       "    </tr>\n",
       "    <tr>\n",
       "      <th>6</th>\n",
       "      <td>孫燕姿</td>\n",
       "      <td>81</td>\n",
       "    </tr>\n",
       "  </tbody>\n",
       "</table>\n",
       "</div>"
      ],
      "text/plain": [
       "    姓名  數學\n",
       "0  劉德華  65\n",
       "1   黎明  78\n",
       "2  郭富城  96\n",
       "3  張學友  65\n",
       "4  張惠妹  45\n",
       "5   伍百  25\n",
       "6  孫燕姿  81"
      ]
     },
     "execution_count": 6,
     "metadata": {},
     "output_type": "execute_result"
    }
   ],
   "source": [
    "df.iloc[:, [1, 4]]"
   ]
  },
  {
   "cell_type": "markdown",
   "id": "LiXSzpRlKPPR",
   "metadata": {
    "id": "LiXSzpRlKPPR"
   },
   "source": [
    "##### 以 index 為主，進行項目挑選。\n",
    "###### 連續取值。\n",
    "\n",
    "- 方法1"
   ]
  },
  {
   "cell_type": "code",
   "execution_count": 49,
   "id": "WKFawn9vKPPR",
   "metadata": {
    "id": "WKFawn9vKPPR",
    "outputId": "d6f306eb-73a8-47f2-989f-6d988fc263f6"
   },
   "outputs": [
    {
     "data": {
      "text/html": [
       "<div>\n",
       "<style scoped>\n",
       "    .dataframe tbody tr th:only-of-type {\n",
       "        vertical-align: middle;\n",
       "    }\n",
       "\n",
       "    .dataframe tbody tr th {\n",
       "        vertical-align: top;\n",
       "    }\n",
       "\n",
       "    .dataframe thead th {\n",
       "        text-align: right;\n",
       "    }\n",
       "</style>\n",
       "<table border=\"1\" class=\"dataframe\">\n",
       "  <thead>\n",
       "    <tr style=\"text-align: right;\">\n",
       "      <th></th>\n",
       "      <th>座號</th>\n",
       "      <th>姓名</th>\n",
       "      <th>國文</th>\n",
       "      <th>英文</th>\n",
       "      <th>數學</th>\n",
       "    </tr>\n",
       "  </thead>\n",
       "  <tbody>\n",
       "    <tr>\n",
       "      <th>2</th>\n",
       "      <td>3</td>\n",
       "      <td>郭富城</td>\n",
       "      <td>78</td>\n",
       "      <td>63</td>\n",
       "      <td>96</td>\n",
       "    </tr>\n",
       "    <tr>\n",
       "      <th>3</th>\n",
       "      <td>4</td>\n",
       "      <td>張學友</td>\n",
       "      <td>96</td>\n",
       "      <td>25</td>\n",
       "      <td>65</td>\n",
       "    </tr>\n",
       "    <tr>\n",
       "      <th>4</th>\n",
       "      <td>5</td>\n",
       "      <td>張惠妹</td>\n",
       "      <td>21</td>\n",
       "      <td>98</td>\n",
       "      <td>45</td>\n",
       "    </tr>\n",
       "    <tr>\n",
       "      <th>5</th>\n",
       "      <td>6</td>\n",
       "      <td>伍百</td>\n",
       "      <td>58</td>\n",
       "      <td>25</td>\n",
       "      <td>25</td>\n",
       "    </tr>\n",
       "  </tbody>\n",
       "</table>\n",
       "</div>"
      ],
      "text/plain": [
       "   座號   姓名  國文  英文  數學\n",
       "2   3  郭富城  78  63  96\n",
       "3   4  張學友  96  25  65\n",
       "4   5  張惠妹  21  98  45\n",
       "5   6   伍百  58  25  25"
      ]
     },
     "execution_count": 49,
     "metadata": {},
     "output_type": "execute_result"
    }
   ],
   "source": [
    "df[2:6]"
   ]
  },
  {
   "cell_type": "markdown",
   "id": "h7pzYR9oKPPR",
   "metadata": {
    "id": "h7pzYR9oKPPR"
   },
   "source": [
    "- 方法2：使用df.loc連續取值範圍與 df.iloc 不同。"
   ]
  },
  {
   "cell_type": "code",
   "execution_count": 50,
   "id": "YfZCa_gCKPPR",
   "metadata": {
    "id": "YfZCa_gCKPPR",
    "outputId": "6b268c04-8a6e-4aa8-a0cd-d01ca04d5019"
   },
   "outputs": [
    {
     "data": {
      "text/html": [
       "<div>\n",
       "<style scoped>\n",
       "    .dataframe tbody tr th:only-of-type {\n",
       "        vertical-align: middle;\n",
       "    }\n",
       "\n",
       "    .dataframe tbody tr th {\n",
       "        vertical-align: top;\n",
       "    }\n",
       "\n",
       "    .dataframe thead th {\n",
       "        text-align: right;\n",
       "    }\n",
       "</style>\n",
       "<table border=\"1\" class=\"dataframe\">\n",
       "  <thead>\n",
       "    <tr style=\"text-align: right;\">\n",
       "      <th></th>\n",
       "      <th>座號</th>\n",
       "      <th>姓名</th>\n",
       "      <th>國文</th>\n",
       "      <th>英文</th>\n",
       "      <th>數學</th>\n",
       "    </tr>\n",
       "  </thead>\n",
       "  <tbody>\n",
       "    <tr>\n",
       "      <th>2</th>\n",
       "      <td>3</td>\n",
       "      <td>郭富城</td>\n",
       "      <td>78</td>\n",
       "      <td>63</td>\n",
       "      <td>96</td>\n",
       "    </tr>\n",
       "    <tr>\n",
       "      <th>3</th>\n",
       "      <td>4</td>\n",
       "      <td>張學友</td>\n",
       "      <td>96</td>\n",
       "      <td>25</td>\n",
       "      <td>65</td>\n",
       "    </tr>\n",
       "    <tr>\n",
       "      <th>4</th>\n",
       "      <td>5</td>\n",
       "      <td>張惠妹</td>\n",
       "      <td>21</td>\n",
       "      <td>98</td>\n",
       "      <td>45</td>\n",
       "    </tr>\n",
       "    <tr>\n",
       "      <th>5</th>\n",
       "      <td>6</td>\n",
       "      <td>伍百</td>\n",
       "      <td>58</td>\n",
       "      <td>25</td>\n",
       "      <td>25</td>\n",
       "    </tr>\n",
       "  </tbody>\n",
       "</table>\n",
       "</div>"
      ],
      "text/plain": [
       "   座號   姓名  國文  英文  數學\n",
       "2   3  郭富城  78  63  96\n",
       "3   4  張學友  96  25  65\n",
       "4   5  張惠妹  21  98  45\n",
       "5   6   伍百  58  25  25"
      ]
     },
     "execution_count": 50,
     "metadata": {},
     "output_type": "execute_result"
    }
   ],
   "source": [
    "df.loc[2:5]"
   ]
  },
  {
   "cell_type": "markdown",
   "id": "y7eYNjbaKPPR",
   "metadata": {
    "id": "y7eYNjbaKPPR"
   },
   "source": [
    "- 方法3：使用df.iloc連續取值範圍與 df.loc 不同。"
   ]
  },
  {
   "cell_type": "code",
   "execution_count": 51,
   "id": "VEoD0LGjKPPR",
   "metadata": {
    "id": "VEoD0LGjKPPR",
    "outputId": "7f719293-cc03-4c04-9585-2fed8c07b838"
   },
   "outputs": [
    {
     "data": {
      "text/html": [
       "<div>\n",
       "<style scoped>\n",
       "    .dataframe tbody tr th:only-of-type {\n",
       "        vertical-align: middle;\n",
       "    }\n",
       "\n",
       "    .dataframe tbody tr th {\n",
       "        vertical-align: top;\n",
       "    }\n",
       "\n",
       "    .dataframe thead th {\n",
       "        text-align: right;\n",
       "    }\n",
       "</style>\n",
       "<table border=\"1\" class=\"dataframe\">\n",
       "  <thead>\n",
       "    <tr style=\"text-align: right;\">\n",
       "      <th></th>\n",
       "      <th>座號</th>\n",
       "      <th>姓名</th>\n",
       "      <th>國文</th>\n",
       "      <th>英文</th>\n",
       "      <th>數學</th>\n",
       "    </tr>\n",
       "  </thead>\n",
       "  <tbody>\n",
       "    <tr>\n",
       "      <th>2</th>\n",
       "      <td>3</td>\n",
       "      <td>郭富城</td>\n",
       "      <td>78</td>\n",
       "      <td>63</td>\n",
       "      <td>96</td>\n",
       "    </tr>\n",
       "    <tr>\n",
       "      <th>3</th>\n",
       "      <td>4</td>\n",
       "      <td>張學友</td>\n",
       "      <td>96</td>\n",
       "      <td>25</td>\n",
       "      <td>65</td>\n",
       "    </tr>\n",
       "    <tr>\n",
       "      <th>4</th>\n",
       "      <td>5</td>\n",
       "      <td>張惠妹</td>\n",
       "      <td>21</td>\n",
       "      <td>98</td>\n",
       "      <td>45</td>\n",
       "    </tr>\n",
       "    <tr>\n",
       "      <th>5</th>\n",
       "      <td>6</td>\n",
       "      <td>伍百</td>\n",
       "      <td>58</td>\n",
       "      <td>25</td>\n",
       "      <td>25</td>\n",
       "    </tr>\n",
       "  </tbody>\n",
       "</table>\n",
       "</div>"
      ],
      "text/plain": [
       "   座號   姓名  國文  英文  數學\n",
       "2   3  郭富城  78  63  96\n",
       "3   4  張學友  96  25  65\n",
       "4   5  張惠妹  21  98  45\n",
       "5   6   伍百  58  25  25"
      ]
     },
     "execution_count": 51,
     "metadata": {},
     "output_type": "execute_result"
    }
   ],
   "source": [
    "df.iloc[2:6]"
   ]
  },
  {
   "cell_type": "markdown",
   "id": "VB6ltcCRKPPR",
   "metadata": {
    "id": "VB6ltcCRKPPR"
   },
   "source": [
    "#### 不連續取值。\n",
    "\n",
    "- 方法1"
   ]
  },
  {
   "cell_type": "code",
   "execution_count": 52,
   "id": "2AQmtLZDKPPR",
   "metadata": {
    "id": "2AQmtLZDKPPR",
    "outputId": "a1584953-bf65-4eed-de30-35860a277e41"
   },
   "outputs": [
    {
     "data": {
      "text/html": [
       "<div>\n",
       "<style scoped>\n",
       "    .dataframe tbody tr th:only-of-type {\n",
       "        vertical-align: middle;\n",
       "    }\n",
       "\n",
       "    .dataframe tbody tr th {\n",
       "        vertical-align: top;\n",
       "    }\n",
       "\n",
       "    .dataframe thead th {\n",
       "        text-align: right;\n",
       "    }\n",
       "</style>\n",
       "<table border=\"1\" class=\"dataframe\">\n",
       "  <thead>\n",
       "    <tr style=\"text-align: right;\">\n",
       "      <th></th>\n",
       "      <th>座號</th>\n",
       "      <th>姓名</th>\n",
       "      <th>國文</th>\n",
       "      <th>英文</th>\n",
       "      <th>數學</th>\n",
       "    </tr>\n",
       "  </thead>\n",
       "  <tbody>\n",
       "    <tr>\n",
       "      <th>0</th>\n",
       "      <td>1</td>\n",
       "      <td>劉德華</td>\n",
       "      <td>50</td>\n",
       "      <td>56</td>\n",
       "      <td>65</td>\n",
       "    </tr>\n",
       "    <tr>\n",
       "      <th>2</th>\n",
       "      <td>3</td>\n",
       "      <td>郭富城</td>\n",
       "      <td>78</td>\n",
       "      <td>63</td>\n",
       "      <td>96</td>\n",
       "    </tr>\n",
       "    <tr>\n",
       "      <th>4</th>\n",
       "      <td>5</td>\n",
       "      <td>張惠妹</td>\n",
       "      <td>21</td>\n",
       "      <td>98</td>\n",
       "      <td>45</td>\n",
       "    </tr>\n",
       "    <tr>\n",
       "      <th>6</th>\n",
       "      <td>7</td>\n",
       "      <td>孫燕姿</td>\n",
       "      <td>63</td>\n",
       "      <td>87</td>\n",
       "      <td>81</td>\n",
       "    </tr>\n",
       "  </tbody>\n",
       "</table>\n",
       "</div>"
      ],
      "text/plain": [
       "   座號   姓名  國文  英文  數學\n",
       "0   1  劉德華  50  56  65\n",
       "2   3  郭富城  78  63  96\n",
       "4   5  張惠妹  21  98  45\n",
       "6   7  孫燕姿  63  87  81"
      ]
     },
     "execution_count": 52,
     "metadata": {},
     "output_type": "execute_result"
    }
   ],
   "source": [
    "df[0::2]"
   ]
  },
  {
   "cell_type": "markdown",
   "id": "XNui86XAKPPR",
   "metadata": {
    "id": "XNui86XAKPPR"
   },
   "source": [
    "- 方法2"
   ]
  },
  {
   "cell_type": "code",
   "execution_count": null,
   "id": "QuS1IywUKPPR",
   "metadata": {
    "id": "QuS1IywUKPPR",
    "outputId": "02199d2c-e71b-41d2-88e3-80c778b1aa32"
   },
   "outputs": [
    {
     "data": {
      "text/html": [
       "<div>\n",
       "<style scoped>\n",
       "    .dataframe tbody tr th:only-of-type {\n",
       "        vertical-align: middle;\n",
       "    }\n",
       "\n",
       "    .dataframe tbody tr th {\n",
       "        vertical-align: top;\n",
       "    }\n",
       "\n",
       "    .dataframe thead th {\n",
       "        text-align: right;\n",
       "    }\n",
       "</style>\n",
       "<table border=\"1\" class=\"dataframe\">\n",
       "  <thead>\n",
       "    <tr style=\"text-align: right;\">\n",
       "      <th></th>\n",
       "      <th>座號</th>\n",
       "      <th>姓名</th>\n",
       "      <th>國文</th>\n",
       "      <th>英文</th>\n",
       "      <th>數學</th>\n",
       "    </tr>\n",
       "  </thead>\n",
       "  <tbody>\n",
       "    <tr>\n",
       "      <th>0</th>\n",
       "      <td>1</td>\n",
       "      <td>劉德華</td>\n",
       "      <td>50</td>\n",
       "      <td>56</td>\n",
       "      <td>65</td>\n",
       "    </tr>\n",
       "    <tr>\n",
       "      <th>2</th>\n",
       "      <td>3</td>\n",
       "      <td>郭富城</td>\n",
       "      <td>78</td>\n",
       "      <td>63</td>\n",
       "      <td>96</td>\n",
       "    </tr>\n",
       "    <tr>\n",
       "      <th>4</th>\n",
       "      <td>5</td>\n",
       "      <td>張惠妹</td>\n",
       "      <td>21</td>\n",
       "      <td>98</td>\n",
       "      <td>45</td>\n",
       "    </tr>\n",
       "    <tr>\n",
       "      <th>6</th>\n",
       "      <td>7</td>\n",
       "      <td>孫燕姿</td>\n",
       "      <td>63</td>\n",
       "      <td>87</td>\n",
       "      <td>81</td>\n",
       "    </tr>\n",
       "  </tbody>\n",
       "</table>\n",
       "</div>"
      ],
      "text/plain": [
       "   座號   姓名  國文  英文  數學\n",
       "0   1  劉德華  50  56  65\n",
       "2   3  郭富城  78  63  96\n",
       "4   5  張惠妹  21  98  45\n",
       "6   7  孫燕姿  63  87  81"
      ]
     },
     "execution_count": 40,
     "metadata": {},
     "output_type": "execute_result"
    }
   ],
   "source": [
    "df.loc[0::2]"
   ]
  },
  {
   "cell_type": "markdown",
   "id": "UImjDLc9KPPR",
   "metadata": {
    "id": "UImjDLc9KPPR"
   },
   "source": [
    "- 方法3"
   ]
  },
  {
   "cell_type": "code",
   "execution_count": null,
   "id": "nfD84-AXKPPR",
   "metadata": {
    "id": "nfD84-AXKPPR",
    "outputId": "4ca2d80a-1d2c-4bee-fff1-b98a565bff1f"
   },
   "outputs": [
    {
     "data": {
      "text/html": [
       "<div>\n",
       "<style scoped>\n",
       "    .dataframe tbody tr th:only-of-type {\n",
       "        vertical-align: middle;\n",
       "    }\n",
       "\n",
       "    .dataframe tbody tr th {\n",
       "        vertical-align: top;\n",
       "    }\n",
       "\n",
       "    .dataframe thead th {\n",
       "        text-align: right;\n",
       "    }\n",
       "</style>\n",
       "<table border=\"1\" class=\"dataframe\">\n",
       "  <thead>\n",
       "    <tr style=\"text-align: right;\">\n",
       "      <th></th>\n",
       "      <th>座號</th>\n",
       "      <th>姓名</th>\n",
       "      <th>國文</th>\n",
       "      <th>英文</th>\n",
       "      <th>數學</th>\n",
       "    </tr>\n",
       "  </thead>\n",
       "  <tbody>\n",
       "    <tr>\n",
       "      <th>0</th>\n",
       "      <td>1</td>\n",
       "      <td>劉德華</td>\n",
       "      <td>50</td>\n",
       "      <td>56</td>\n",
       "      <td>65</td>\n",
       "    </tr>\n",
       "    <tr>\n",
       "      <th>2</th>\n",
       "      <td>3</td>\n",
       "      <td>郭富城</td>\n",
       "      <td>78</td>\n",
       "      <td>63</td>\n",
       "      <td>96</td>\n",
       "    </tr>\n",
       "    <tr>\n",
       "      <th>4</th>\n",
       "      <td>5</td>\n",
       "      <td>張惠妹</td>\n",
       "      <td>21</td>\n",
       "      <td>98</td>\n",
       "      <td>45</td>\n",
       "    </tr>\n",
       "    <tr>\n",
       "      <th>6</th>\n",
       "      <td>7</td>\n",
       "      <td>孫燕姿</td>\n",
       "      <td>63</td>\n",
       "      <td>87</td>\n",
       "      <td>81</td>\n",
       "    </tr>\n",
       "  </tbody>\n",
       "</table>\n",
       "</div>"
      ],
      "text/plain": [
       "   座號   姓名  國文  英文  數學\n",
       "0   1  劉德華  50  56  65\n",
       "2   3  郭富城  78  63  96\n",
       "4   5  張惠妹  21  98  45\n",
       "6   7  孫燕姿  63  87  81"
      ]
     },
     "execution_count": 41,
     "metadata": {},
     "output_type": "execute_result"
    }
   ],
   "source": [
    "df.iloc[0::2]"
   ]
  },
  {
   "cell_type": "markdown",
   "id": "xW1P7XteKPPR",
   "metadata": {
    "id": "xW1P7XteKPPR"
   },
   "source": [
    "#### index 與 column 綜合應用，進行項目挑選。\n",
    "\n",
    "- 方法1：使用df.loc連續取值範圍與 df.iloc 不同。"
   ]
  },
  {
   "cell_type": "code",
   "execution_count": null,
   "id": "X_rXZev0KPPR",
   "metadata": {
    "id": "X_rXZev0KPPR",
    "outputId": "035e5bb9-fd1b-407e-f758-d118971b27cd"
   },
   "outputs": [
    {
     "data": {
      "text/html": [
       "<div>\n",
       "<style scoped>\n",
       "    .dataframe tbody tr th:only-of-type {\n",
       "        vertical-align: middle;\n",
       "    }\n",
       "\n",
       "    .dataframe tbody tr th {\n",
       "        vertical-align: top;\n",
       "    }\n",
       "\n",
       "    .dataframe thead th {\n",
       "        text-align: right;\n",
       "    }\n",
       "</style>\n",
       "<table border=\"1\" class=\"dataframe\">\n",
       "  <thead>\n",
       "    <tr style=\"text-align: right;\">\n",
       "      <th></th>\n",
       "      <th>姓名</th>\n",
       "      <th>數學</th>\n",
       "    </tr>\n",
       "  </thead>\n",
       "  <tbody>\n",
       "    <tr>\n",
       "      <th>2</th>\n",
       "      <td>郭富城</td>\n",
       "      <td>96</td>\n",
       "    </tr>\n",
       "    <tr>\n",
       "      <th>3</th>\n",
       "      <td>張學友</td>\n",
       "      <td>65</td>\n",
       "    </tr>\n",
       "    <tr>\n",
       "      <th>4</th>\n",
       "      <td>張惠妹</td>\n",
       "      <td>45</td>\n",
       "    </tr>\n",
       "    <tr>\n",
       "      <th>5</th>\n",
       "      <td>伍百</td>\n",
       "      <td>25</td>\n",
       "    </tr>\n",
       "  </tbody>\n",
       "</table>\n",
       "</div>"
      ],
      "text/plain": [
       "    姓名  數學\n",
       "2  郭富城  96\n",
       "3  張學友  65\n",
       "4  張惠妹  45\n",
       "5   伍百  25"
      ]
     },
     "execution_count": 42,
     "metadata": {},
     "output_type": "execute_result"
    }
   ],
   "source": [
    "df[['姓名', '數學']].loc[2:5]"
   ]
  },
  {
   "cell_type": "markdown",
   "id": "VhHvD1xiKPPS",
   "metadata": {
    "id": "VhHvD1xiKPPS"
   },
   "source": [
    "- 方法2：使用df.iloc連續取值範圍與 df.loc 不同。"
   ]
  },
  {
   "cell_type": "code",
   "execution_count": null,
   "id": "d8lo92EyKPPS",
   "metadata": {
    "id": "d8lo92EyKPPS",
    "outputId": "4baac9ac-89c5-4d1c-bcea-787a848eaff8"
   },
   "outputs": [
    {
     "data": {
      "text/html": [
       "<div>\n",
       "<style scoped>\n",
       "    .dataframe tbody tr th:only-of-type {\n",
       "        vertical-align: middle;\n",
       "    }\n",
       "\n",
       "    .dataframe tbody tr th {\n",
       "        vertical-align: top;\n",
       "    }\n",
       "\n",
       "    .dataframe thead th {\n",
       "        text-align: right;\n",
       "    }\n",
       "</style>\n",
       "<table border=\"1\" class=\"dataframe\">\n",
       "  <thead>\n",
       "    <tr style=\"text-align: right;\">\n",
       "      <th></th>\n",
       "      <th>姓名</th>\n",
       "      <th>數學</th>\n",
       "    </tr>\n",
       "  </thead>\n",
       "  <tbody>\n",
       "    <tr>\n",
       "      <th>2</th>\n",
       "      <td>郭富城</td>\n",
       "      <td>96</td>\n",
       "    </tr>\n",
       "    <tr>\n",
       "      <th>3</th>\n",
       "      <td>張學友</td>\n",
       "      <td>65</td>\n",
       "    </tr>\n",
       "    <tr>\n",
       "      <th>4</th>\n",
       "      <td>張惠妹</td>\n",
       "      <td>45</td>\n",
       "    </tr>\n",
       "    <tr>\n",
       "      <th>5</th>\n",
       "      <td>伍百</td>\n",
       "      <td>25</td>\n",
       "    </tr>\n",
       "  </tbody>\n",
       "</table>\n",
       "</div>"
      ],
      "text/plain": [
       "    姓名  數學\n",
       "2  郭富城  96\n",
       "3  張學友  65\n",
       "4  張惠妹  45\n",
       "5   伍百  25"
      ]
     },
     "execution_count": 43,
     "metadata": {},
     "output_type": "execute_result"
    }
   ],
   "source": [
    "df[['姓名', '數學']].iloc[2:6]"
   ]
  },
  {
   "cell_type": "markdown",
   "id": "5UoO7PGaKPPS",
   "metadata": {
    "id": "5UoO7PGaKPPS"
   },
   "source": [
    "- 方法3：使用df.loc連續取值範圍與 df.iloc 不同。"
   ]
  },
  {
   "cell_type": "code",
   "execution_count": null,
   "id": "mnyEThFnKPPS",
   "metadata": {
    "id": "mnyEThFnKPPS",
    "outputId": "e5ee0e25-275e-4567-a4f2-36944cb2fb12"
   },
   "outputs": [
    {
     "data": {
      "text/html": [
       "<div>\n",
       "<style scoped>\n",
       "    .dataframe tbody tr th:only-of-type {\n",
       "        vertical-align: middle;\n",
       "    }\n",
       "\n",
       "    .dataframe tbody tr th {\n",
       "        vertical-align: top;\n",
       "    }\n",
       "\n",
       "    .dataframe thead th {\n",
       "        text-align: right;\n",
       "    }\n",
       "</style>\n",
       "<table border=\"1\" class=\"dataframe\">\n",
       "  <thead>\n",
       "    <tr style=\"text-align: right;\">\n",
       "      <th></th>\n",
       "      <th>姓名</th>\n",
       "      <th>數學</th>\n",
       "    </tr>\n",
       "  </thead>\n",
       "  <tbody>\n",
       "    <tr>\n",
       "      <th>2</th>\n",
       "      <td>郭富城</td>\n",
       "      <td>96</td>\n",
       "    </tr>\n",
       "    <tr>\n",
       "      <th>3</th>\n",
       "      <td>張學友</td>\n",
       "      <td>65</td>\n",
       "    </tr>\n",
       "    <tr>\n",
       "      <th>4</th>\n",
       "      <td>張惠妹</td>\n",
       "      <td>45</td>\n",
       "    </tr>\n",
       "    <tr>\n",
       "      <th>5</th>\n",
       "      <td>伍百</td>\n",
       "      <td>25</td>\n",
       "    </tr>\n",
       "  </tbody>\n",
       "</table>\n",
       "</div>"
      ],
      "text/plain": [
       "    姓名  數學\n",
       "2  郭富城  96\n",
       "3  張學友  65\n",
       "4  張惠妹  45\n",
       "5   伍百  25"
      ]
     },
     "execution_count": 44,
     "metadata": {},
     "output_type": "execute_result"
    }
   ],
   "source": [
    "df.loc[2:5, ['姓名', '數學']]"
   ]
  },
  {
   "cell_type": "markdown",
   "id": "VT1Vs9zjKPPS",
   "metadata": {
    "id": "VT1Vs9zjKPPS"
   },
   "source": [
    "- 方法4：使用df.iloc連續取值範圍與 df.loc 不同。"
   ]
  },
  {
   "cell_type": "code",
   "execution_count": null,
   "id": "CSDrN5JkKPPS",
   "metadata": {
    "id": "CSDrN5JkKPPS",
    "outputId": "37c7986d-40f3-4911-e430-03af78588e78"
   },
   "outputs": [
    {
     "data": {
      "text/html": [
       "<div>\n",
       "<style scoped>\n",
       "    .dataframe tbody tr th:only-of-type {\n",
       "        vertical-align: middle;\n",
       "    }\n",
       "\n",
       "    .dataframe tbody tr th {\n",
       "        vertical-align: top;\n",
       "    }\n",
       "\n",
       "    .dataframe thead th {\n",
       "        text-align: right;\n",
       "    }\n",
       "</style>\n",
       "<table border=\"1\" class=\"dataframe\">\n",
       "  <thead>\n",
       "    <tr style=\"text-align: right;\">\n",
       "      <th></th>\n",
       "      <th>姓名</th>\n",
       "      <th>數學</th>\n",
       "    </tr>\n",
       "  </thead>\n",
       "  <tbody>\n",
       "    <tr>\n",
       "      <th>2</th>\n",
       "      <td>郭富城</td>\n",
       "      <td>96</td>\n",
       "    </tr>\n",
       "    <tr>\n",
       "      <th>3</th>\n",
       "      <td>張學友</td>\n",
       "      <td>65</td>\n",
       "    </tr>\n",
       "    <tr>\n",
       "      <th>4</th>\n",
       "      <td>張惠妹</td>\n",
       "      <td>45</td>\n",
       "    </tr>\n",
       "    <tr>\n",
       "      <th>5</th>\n",
       "      <td>伍百</td>\n",
       "      <td>25</td>\n",
       "    </tr>\n",
       "  </tbody>\n",
       "</table>\n",
       "</div>"
      ],
      "text/plain": [
       "    姓名  數學\n",
       "2  郭富城  96\n",
       "3  張學友  65\n",
       "4  張惠妹  45\n",
       "5   伍百  25"
      ]
     },
     "execution_count": 45,
     "metadata": {},
     "output_type": "execute_result"
    }
   ],
   "source": [
    "df.iloc[2:6, [1, -1]]"
   ]
  },
  {
   "cell_type": "markdown",
   "id": "Q2GWZkgoKPPS",
   "metadata": {
    "id": "Q2GWZkgoKPPS"
   },
   "source": [
    "# 6. 篩選"
   ]
  },
  {
   "cell_type": "code",
   "execution_count": 53,
   "id": "P4xZzHCZKPPS",
   "metadata": {
    "id": "P4xZzHCZKPPS",
    "outputId": "05368d95-15dd-4469-b5f6-24ae8e78b610"
   },
   "outputs": [
    {
     "data": {
      "text/html": [
       "<div>\n",
       "<style scoped>\n",
       "    .dataframe tbody tr th:only-of-type {\n",
       "        vertical-align: middle;\n",
       "    }\n",
       "\n",
       "    .dataframe tbody tr th {\n",
       "        vertical-align: top;\n",
       "    }\n",
       "\n",
       "    .dataframe thead th {\n",
       "        text-align: right;\n",
       "    }\n",
       "</style>\n",
       "<table border=\"1\" class=\"dataframe\">\n",
       "  <thead>\n",
       "    <tr style=\"text-align: right;\">\n",
       "      <th></th>\n",
       "      <th>座號</th>\n",
       "      <th>姓名</th>\n",
       "      <th>國文</th>\n",
       "      <th>英文</th>\n",
       "      <th>數學</th>\n",
       "      <th>歷史</th>\n",
       "    </tr>\n",
       "  </thead>\n",
       "  <tbody>\n",
       "    <tr>\n",
       "      <th>0</th>\n",
       "      <td>1</td>\n",
       "      <td>劉德華</td>\n",
       "      <td>50</td>\n",
       "      <td>56</td>\n",
       "      <td>65</td>\n",
       "      <td>90</td>\n",
       "    </tr>\n",
       "    <tr>\n",
       "      <th>1</th>\n",
       "      <td>2</td>\n",
       "      <td>黎明</td>\n",
       "      <td>56</td>\n",
       "      <td>78</td>\n",
       "      <td>78</td>\n",
       "      <td>70</td>\n",
       "    </tr>\n",
       "    <tr>\n",
       "      <th>2</th>\n",
       "      <td>3</td>\n",
       "      <td>郭富城</td>\n",
       "      <td>78</td>\n",
       "      <td>63</td>\n",
       "      <td>96</td>\n",
       "      <td>45</td>\n",
       "    </tr>\n",
       "    <tr>\n",
       "      <th>3</th>\n",
       "      <td>4</td>\n",
       "      <td>張學友</td>\n",
       "      <td>96</td>\n",
       "      <td>25</td>\n",
       "      <td>65</td>\n",
       "      <td>80</td>\n",
       "    </tr>\n",
       "    <tr>\n",
       "      <th>4</th>\n",
       "      <td>5</td>\n",
       "      <td>張惠妹</td>\n",
       "      <td>21</td>\n",
       "      <td>98</td>\n",
       "      <td>45</td>\n",
       "      <td>60</td>\n",
       "    </tr>\n",
       "    <tr>\n",
       "      <th>5</th>\n",
       "      <td>6</td>\n",
       "      <td>伍百</td>\n",
       "      <td>58</td>\n",
       "      <td>25</td>\n",
       "      <td>25</td>\n",
       "      <td>33</td>\n",
       "    </tr>\n",
       "    <tr>\n",
       "      <th>6</th>\n",
       "      <td>7</td>\n",
       "      <td>孫燕姿</td>\n",
       "      <td>63</td>\n",
       "      <td>87</td>\n",
       "      <td>81</td>\n",
       "      <td>25</td>\n",
       "    </tr>\n",
       "  </tbody>\n",
       "</table>\n",
       "</div>"
      ],
      "text/plain": [
       "   座號   姓名  國文  英文  數學  歷史\n",
       "0   1  劉德華  50  56  65  90\n",
       "1   2   黎明  56  78  78  70\n",
       "2   3  郭富城  78  63  96  45\n",
       "3   4  張學友  96  25  65  80\n",
       "4   5  張惠妹  21  98  45  60\n",
       "5   6   伍百  58  25  25  33\n",
       "6   7  孫燕姿  63  87  81  25"
      ]
     },
     "metadata": {},
     "output_type": "display_data"
    }
   ],
   "source": [
    "import pandas as pd\n",
    "from IPython.display import display\n",
    "scores = {'座號':[1, 2, 3 ,4, 5, 6, 7],\n",
    "          '姓名':['劉德華', '黎明', '郭富城', '張學友', '張惠妹', '伍百', '孫燕姿'],\n",
    "          '國文':[50, 56, 78, 96, 21, 58, 63],\n",
    "          '英文':[56, 78, 63, 25, 98, 25, 87],\n",
    "          '數學':[65, 78, 96, 65, 45, 25, 81]\n",
    "}\n",
    "df = pd.DataFrame(scores)\n",
    "df.insert(5, \"歷史\", [90, 70, 45, 80, 60, 33, 25]) \n",
    "display(df)"
   ]
  },
  {
   "cell_type": "markdown",
   "id": "afAuEoHrKPPS",
   "metadata": {
    "id": "afAuEoHrKPPS"
   },
   "source": [
    "#### 選出 \"國文\" 大於60以上的同學。\n",
    "\n",
    "- 方法1"
   ]
  },
  {
   "cell_type": "code",
   "execution_count": null,
   "id": "XU_F4CUBKPPS",
   "metadata": {
    "id": "XU_F4CUBKPPS",
    "outputId": "044a81e2-5972-4b4d-b603-3195b1c8520a"
   },
   "outputs": [
    {
     "data": {
      "text/html": [
       "<div>\n",
       "<style scoped>\n",
       "    .dataframe tbody tr th:only-of-type {\n",
       "        vertical-align: middle;\n",
       "    }\n",
       "\n",
       "    .dataframe tbody tr th {\n",
       "        vertical-align: top;\n",
       "    }\n",
       "\n",
       "    .dataframe thead th {\n",
       "        text-align: right;\n",
       "    }\n",
       "</style>\n",
       "<table border=\"1\" class=\"dataframe\">\n",
       "  <thead>\n",
       "    <tr style=\"text-align: right;\">\n",
       "      <th></th>\n",
       "      <th>座號</th>\n",
       "      <th>姓名</th>\n",
       "      <th>國文</th>\n",
       "      <th>英文</th>\n",
       "      <th>數學</th>\n",
       "      <th>歷史</th>\n",
       "    </tr>\n",
       "  </thead>\n",
       "  <tbody>\n",
       "    <tr>\n",
       "      <th>2</th>\n",
       "      <td>3</td>\n",
       "      <td>郭富城</td>\n",
       "      <td>78</td>\n",
       "      <td>63</td>\n",
       "      <td>96</td>\n",
       "      <td>45</td>\n",
       "    </tr>\n",
       "    <tr>\n",
       "      <th>3</th>\n",
       "      <td>4</td>\n",
       "      <td>張學友</td>\n",
       "      <td>96</td>\n",
       "      <td>25</td>\n",
       "      <td>65</td>\n",
       "      <td>80</td>\n",
       "    </tr>\n",
       "    <tr>\n",
       "      <th>6</th>\n",
       "      <td>7</td>\n",
       "      <td>孫燕姿</td>\n",
       "      <td>63</td>\n",
       "      <td>87</td>\n",
       "      <td>81</td>\n",
       "      <td>25</td>\n",
       "    </tr>\n",
       "  </tbody>\n",
       "</table>\n",
       "</div>"
      ],
      "text/plain": [
       "   座號   姓名  國文  英文  數學  歷史\n",
       "2   3  郭富城  78  63  96  45\n",
       "3   4  張學友  96  25  65  80\n",
       "6   7  孫燕姿  63  87  81  25"
      ]
     },
     "execution_count": 14,
     "metadata": {},
     "output_type": "execute_result"
    }
   ],
   "source": [
    "df[df['國文'] > 60]"
   ]
  },
  {
   "cell_type": "markdown",
   "id": "P33wo11uKPPS",
   "metadata": {
    "id": "P33wo11uKPPS"
   },
   "source": [
    "- 方法2"
   ]
  },
  {
   "cell_type": "code",
   "execution_count": null,
   "id": "roRIel-uKPPS",
   "metadata": {
    "id": "roRIel-uKPPS",
    "outputId": "d95295cb-3d60-4f4f-a050-667483b3b0cd"
   },
   "outputs": [
    {
     "data": {
      "text/html": [
       "<div>\n",
       "<style scoped>\n",
       "    .dataframe tbody tr th:only-of-type {\n",
       "        vertical-align: middle;\n",
       "    }\n",
       "\n",
       "    .dataframe tbody tr th {\n",
       "        vertical-align: top;\n",
       "    }\n",
       "\n",
       "    .dataframe thead th {\n",
       "        text-align: right;\n",
       "    }\n",
       "</style>\n",
       "<table border=\"1\" class=\"dataframe\">\n",
       "  <thead>\n",
       "    <tr style=\"text-align: right;\">\n",
       "      <th></th>\n",
       "      <th>座號</th>\n",
       "      <th>姓名</th>\n",
       "      <th>國文</th>\n",
       "      <th>英文</th>\n",
       "      <th>數學</th>\n",
       "      <th>歷史</th>\n",
       "    </tr>\n",
       "  </thead>\n",
       "  <tbody>\n",
       "    <tr>\n",
       "      <th>2</th>\n",
       "      <td>3</td>\n",
       "      <td>郭富城</td>\n",
       "      <td>78</td>\n",
       "      <td>63</td>\n",
       "      <td>96</td>\n",
       "      <td>45</td>\n",
       "    </tr>\n",
       "    <tr>\n",
       "      <th>3</th>\n",
       "      <td>4</td>\n",
       "      <td>張學友</td>\n",
       "      <td>96</td>\n",
       "      <td>25</td>\n",
       "      <td>65</td>\n",
       "      <td>80</td>\n",
       "    </tr>\n",
       "    <tr>\n",
       "      <th>6</th>\n",
       "      <td>7</td>\n",
       "      <td>孫燕姿</td>\n",
       "      <td>63</td>\n",
       "      <td>87</td>\n",
       "      <td>81</td>\n",
       "      <td>25</td>\n",
       "    </tr>\n",
       "  </tbody>\n",
       "</table>\n",
       "</div>"
      ],
      "text/plain": [
       "   座號   姓名  國文  英文  數學  歷史\n",
       "2   3  郭富城  78  63  96  45\n",
       "3   4  張學友  96  25  65  80\n",
       "6   7  孫燕姿  63  87  81  25"
      ]
     },
     "execution_count": 48,
     "metadata": {},
     "output_type": "execute_result"
    }
   ],
   "source": [
    "df[(df.loc[:, '國文'] > 60)]"
   ]
  },
  {
   "cell_type": "markdown",
   "id": "a1ei9JO2KPPS",
   "metadata": {
    "id": "a1ei9JO2KPPS"
   },
   "source": [
    "- 方法3"
   ]
  },
  {
   "cell_type": "code",
   "execution_count": null,
   "id": "csYNudBlKPPS",
   "metadata": {
    "id": "csYNudBlKPPS",
    "outputId": "a1fd104d-dd43-49c6-f995-81fb94ae3395"
   },
   "outputs": [
    {
     "data": {
      "text/html": [
       "<div>\n",
       "<style scoped>\n",
       "    .dataframe tbody tr th:only-of-type {\n",
       "        vertical-align: middle;\n",
       "    }\n",
       "\n",
       "    .dataframe tbody tr th {\n",
       "        vertical-align: top;\n",
       "    }\n",
       "\n",
       "    .dataframe thead th {\n",
       "        text-align: right;\n",
       "    }\n",
       "</style>\n",
       "<table border=\"1\" class=\"dataframe\">\n",
       "  <thead>\n",
       "    <tr style=\"text-align: right;\">\n",
       "      <th></th>\n",
       "      <th>座號</th>\n",
       "      <th>姓名</th>\n",
       "      <th>國文</th>\n",
       "      <th>英文</th>\n",
       "      <th>數學</th>\n",
       "      <th>歷史</th>\n",
       "    </tr>\n",
       "  </thead>\n",
       "  <tbody>\n",
       "    <tr>\n",
       "      <th>2</th>\n",
       "      <td>3</td>\n",
       "      <td>郭富城</td>\n",
       "      <td>78</td>\n",
       "      <td>63</td>\n",
       "      <td>96</td>\n",
       "      <td>45</td>\n",
       "    </tr>\n",
       "    <tr>\n",
       "      <th>3</th>\n",
       "      <td>4</td>\n",
       "      <td>張學友</td>\n",
       "      <td>96</td>\n",
       "      <td>25</td>\n",
       "      <td>65</td>\n",
       "      <td>80</td>\n",
       "    </tr>\n",
       "    <tr>\n",
       "      <th>6</th>\n",
       "      <td>7</td>\n",
       "      <td>孫燕姿</td>\n",
       "      <td>63</td>\n",
       "      <td>87</td>\n",
       "      <td>81</td>\n",
       "      <td>25</td>\n",
       "    </tr>\n",
       "  </tbody>\n",
       "</table>\n",
       "</div>"
      ],
      "text/plain": [
       "   座號   姓名  國文  英文  數學  歷史\n",
       "2   3  郭富城  78  63  96  45\n",
       "3   4  張學友  96  25  65  80\n",
       "6   7  孫燕姿  63  87  81  25"
      ]
     },
     "execution_count": 49,
     "metadata": {},
     "output_type": "execute_result"
    }
   ],
   "source": [
    "df.loc[(df.loc[:, '國文'] > 60)]"
   ]
  },
  {
   "cell_type": "markdown",
   "id": "Vof0LQMCKPPS",
   "metadata": {
    "id": "Vof0LQMCKPPS"
   },
   "source": [
    "#### 選出 \"國文\" 與 \"英文\" 大於60以上的同學。\n",
    "\n",
    "- 方法1"
   ]
  },
  {
   "cell_type": "code",
   "execution_count": 59,
   "id": "LwzvRTBGKPPS",
   "metadata": {
    "id": "LwzvRTBGKPPS",
    "outputId": "6b982f3f-940e-425c-b6f4-4b445c32a606"
   },
   "outputs": [
    {
     "data": {
      "text/html": [
       "<div>\n",
       "<style scoped>\n",
       "    .dataframe tbody tr th:only-of-type {\n",
       "        vertical-align: middle;\n",
       "    }\n",
       "\n",
       "    .dataframe tbody tr th {\n",
       "        vertical-align: top;\n",
       "    }\n",
       "\n",
       "    .dataframe thead th {\n",
       "        text-align: right;\n",
       "    }\n",
       "</style>\n",
       "<table border=\"1\" class=\"dataframe\">\n",
       "  <thead>\n",
       "    <tr style=\"text-align: right;\">\n",
       "      <th></th>\n",
       "      <th>座號</th>\n",
       "      <th>姓名</th>\n",
       "      <th>國文</th>\n",
       "      <th>英文</th>\n",
       "      <th>數學</th>\n",
       "      <th>歷史</th>\n",
       "    </tr>\n",
       "  </thead>\n",
       "  <tbody>\n",
       "    <tr>\n",
       "      <th>2</th>\n",
       "      <td>3</td>\n",
       "      <td>郭富城</td>\n",
       "      <td>78</td>\n",
       "      <td>63</td>\n",
       "      <td>96</td>\n",
       "      <td>45</td>\n",
       "    </tr>\n",
       "    <tr>\n",
       "      <th>6</th>\n",
       "      <td>7</td>\n",
       "      <td>孫燕姿</td>\n",
       "      <td>63</td>\n",
       "      <td>87</td>\n",
       "      <td>81</td>\n",
       "      <td>25</td>\n",
       "    </tr>\n",
       "  </tbody>\n",
       "</table>\n",
       "</div>"
      ],
      "text/plain": [
       "   座號   姓名  國文  英文  數學  歷史\n",
       "2   3  郭富城  78  63  96  45\n",
       "6   7  孫燕姿  63  87  81  25"
      ]
     },
     "execution_count": 59,
     "metadata": {},
     "output_type": "execute_result"
    }
   ],
   "source": [
    "df[(df['國文'] > 60) & (df['英文'] > 60)]"
   ]
  },
  {
   "cell_type": "markdown",
   "id": "-iJhWnpxKPPS",
   "metadata": {
    "id": "-iJhWnpxKPPS"
   },
   "source": [
    "- 方法2"
   ]
  },
  {
   "cell_type": "code",
   "execution_count": null,
   "id": "RNNsBOboKPPS",
   "metadata": {
    "id": "RNNsBOboKPPS",
    "outputId": "f60fa800-f9ce-4b02-b936-10f71041221c"
   },
   "outputs": [
    {
     "data": {
      "text/html": [
       "<div>\n",
       "<style scoped>\n",
       "    .dataframe tbody tr th:only-of-type {\n",
       "        vertical-align: middle;\n",
       "    }\n",
       "\n",
       "    .dataframe tbody tr th {\n",
       "        vertical-align: top;\n",
       "    }\n",
       "\n",
       "    .dataframe thead th {\n",
       "        text-align: right;\n",
       "    }\n",
       "</style>\n",
       "<table border=\"1\" class=\"dataframe\">\n",
       "  <thead>\n",
       "    <tr style=\"text-align: right;\">\n",
       "      <th></th>\n",
       "      <th>座號</th>\n",
       "      <th>姓名</th>\n",
       "      <th>國文</th>\n",
       "      <th>英文</th>\n",
       "      <th>數學</th>\n",
       "      <th>歷史</th>\n",
       "    </tr>\n",
       "  </thead>\n",
       "  <tbody>\n",
       "    <tr>\n",
       "      <th>2</th>\n",
       "      <td>3</td>\n",
       "      <td>郭富城</td>\n",
       "      <td>78</td>\n",
       "      <td>63</td>\n",
       "      <td>96</td>\n",
       "      <td>45</td>\n",
       "    </tr>\n",
       "    <tr>\n",
       "      <th>6</th>\n",
       "      <td>7</td>\n",
       "      <td>孫燕姿</td>\n",
       "      <td>63</td>\n",
       "      <td>87</td>\n",
       "      <td>81</td>\n",
       "      <td>25</td>\n",
       "    </tr>\n",
       "  </tbody>\n",
       "</table>\n",
       "</div>"
      ],
      "text/plain": [
       "   座號   姓名  國文  英文  數學  歷史\n",
       "2   3  郭富城  78  63  96  45\n",
       "6   7  孫燕姿  63  87  81  25"
      ]
     },
     "execution_count": 15,
     "metadata": {},
     "output_type": "execute_result"
    }
   ],
   "source": [
    "df[(df.loc[:, '國文'] > 60) & (df.loc[:, '英文'] > 60)]"
   ]
  },
  {
   "cell_type": "markdown",
   "id": "d6Fr_rJpKPPS",
   "metadata": {
    "id": "d6Fr_rJpKPPS"
   },
   "source": [
    "- 方法3"
   ]
  },
  {
   "cell_type": "code",
   "execution_count": null,
   "id": "3IpOKi50KPPT",
   "metadata": {
    "id": "3IpOKi50KPPT",
    "outputId": "6c832daa-c743-4cad-8646-bcd06c4f88e2"
   },
   "outputs": [
    {
     "data": {
      "text/html": [
       "<div>\n",
       "<style scoped>\n",
       "    .dataframe tbody tr th:only-of-type {\n",
       "        vertical-align: middle;\n",
       "    }\n",
       "\n",
       "    .dataframe tbody tr th {\n",
       "        vertical-align: top;\n",
       "    }\n",
       "\n",
       "    .dataframe thead th {\n",
       "        text-align: right;\n",
       "    }\n",
       "</style>\n",
       "<table border=\"1\" class=\"dataframe\">\n",
       "  <thead>\n",
       "    <tr style=\"text-align: right;\">\n",
       "      <th></th>\n",
       "      <th>座號</th>\n",
       "      <th>姓名</th>\n",
       "      <th>國文</th>\n",
       "      <th>英文</th>\n",
       "      <th>數學</th>\n",
       "      <th>歷史</th>\n",
       "    </tr>\n",
       "  </thead>\n",
       "  <tbody>\n",
       "    <tr>\n",
       "      <th>2</th>\n",
       "      <td>3</td>\n",
       "      <td>郭富城</td>\n",
       "      <td>78</td>\n",
       "      <td>63</td>\n",
       "      <td>96</td>\n",
       "      <td>45</td>\n",
       "    </tr>\n",
       "    <tr>\n",
       "      <th>6</th>\n",
       "      <td>7</td>\n",
       "      <td>孫燕姿</td>\n",
       "      <td>63</td>\n",
       "      <td>87</td>\n",
       "      <td>81</td>\n",
       "      <td>25</td>\n",
       "    </tr>\n",
       "  </tbody>\n",
       "</table>\n",
       "</div>"
      ],
      "text/plain": [
       "   座號   姓名  國文  英文  數學  歷史\n",
       "2   3  郭富城  78  63  96  45\n",
       "6   7  孫燕姿  63  87  81  25"
      ]
     },
     "execution_count": 52,
     "metadata": {},
     "output_type": "execute_result"
    }
   ],
   "source": [
    "df.loc[(df.loc[:, '國文'] > 60) & (df.loc[:, '英文'] > 60)]"
   ]
  },
  {
   "cell_type": "markdown",
   "id": "l0IGYIW-KPPT",
   "metadata": {
    "id": "l0IGYIW-KPPT"
   },
   "source": [
    "- 方法4"
   ]
  },
  {
   "cell_type": "code",
   "execution_count": null,
   "id": "Gp-VRQFGKPPT",
   "metadata": {
    "id": "Gp-VRQFGKPPT",
    "outputId": "179636cf-7a6c-4ea3-f4ea-c4759746a481"
   },
   "outputs": [
    {
     "data": {
      "text/html": [
       "<div>\n",
       "<style scoped>\n",
       "    .dataframe tbody tr th:only-of-type {\n",
       "        vertical-align: middle;\n",
       "    }\n",
       "\n",
       "    .dataframe tbody tr th {\n",
       "        vertical-align: top;\n",
       "    }\n",
       "\n",
       "    .dataframe thead th {\n",
       "        text-align: right;\n",
       "    }\n",
       "</style>\n",
       "<table border=\"1\" class=\"dataframe\">\n",
       "  <thead>\n",
       "    <tr style=\"text-align: right;\">\n",
       "      <th></th>\n",
       "      <th>座號</th>\n",
       "      <th>姓名</th>\n",
       "      <th>國文</th>\n",
       "      <th>英文</th>\n",
       "      <th>數學</th>\n",
       "      <th>歷史</th>\n",
       "    </tr>\n",
       "  </thead>\n",
       "  <tbody>\n",
       "    <tr>\n",
       "      <th>2</th>\n",
       "      <td>3</td>\n",
       "      <td>郭富城</td>\n",
       "      <td>78</td>\n",
       "      <td>63</td>\n",
       "      <td>96</td>\n",
       "      <td>45</td>\n",
       "    </tr>\n",
       "    <tr>\n",
       "      <th>6</th>\n",
       "      <td>7</td>\n",
       "      <td>孫燕姿</td>\n",
       "      <td>63</td>\n",
       "      <td>87</td>\n",
       "      <td>81</td>\n",
       "      <td>25</td>\n",
       "    </tr>\n",
       "  </tbody>\n",
       "</table>\n",
       "</div>"
      ],
      "text/plain": [
       "   座號   姓名  國文  英文  數學  歷史\n",
       "2   3  郭富城  78  63  96  45\n",
       "6   7  孫燕姿  63  87  81  25"
      ]
     },
     "execution_count": 16,
     "metadata": {},
     "output_type": "execute_result"
    }
   ],
   "source": [
    "df[(df.iloc[:, 2] > 60) & (df.iloc[:, 3] > 60)]"
   ]
  },
  {
   "cell_type": "markdown",
   "id": "yiF3UcN6KPPT",
   "metadata": {
    "id": "yiF3UcN6KPPT"
   },
   "source": [
    "#### 選出 \"國文\" 大於 60 同學的\"歷史\" 成績。\n",
    "\n",
    "- 方法1"
   ]
  },
  {
   "cell_type": "code",
   "execution_count": null,
   "id": "o6zGjqHAKPPT",
   "metadata": {
    "id": "o6zGjqHAKPPT",
    "outputId": "c42641d8-b846-41ef-9a1d-00b7e12c903f"
   },
   "outputs": [
    {
     "data": {
      "text/html": [
       "<div>\n",
       "<style scoped>\n",
       "    .dataframe tbody tr th:only-of-type {\n",
       "        vertical-align: middle;\n",
       "    }\n",
       "\n",
       "    .dataframe tbody tr th {\n",
       "        vertical-align: top;\n",
       "    }\n",
       "\n",
       "    .dataframe thead th {\n",
       "        text-align: right;\n",
       "    }\n",
       "</style>\n",
       "<table border=\"1\" class=\"dataframe\">\n",
       "  <thead>\n",
       "    <tr style=\"text-align: right;\">\n",
       "      <th></th>\n",
       "      <th>姓名</th>\n",
       "      <th>歷史</th>\n",
       "    </tr>\n",
       "  </thead>\n",
       "  <tbody>\n",
       "    <tr>\n",
       "      <th>2</th>\n",
       "      <td>郭富城</td>\n",
       "      <td>45</td>\n",
       "    </tr>\n",
       "    <tr>\n",
       "      <th>3</th>\n",
       "      <td>張學友</td>\n",
       "      <td>80</td>\n",
       "    </tr>\n",
       "    <tr>\n",
       "      <th>6</th>\n",
       "      <td>孫燕姿</td>\n",
       "      <td>25</td>\n",
       "    </tr>\n",
       "  </tbody>\n",
       "</table>\n",
       "</div>"
      ],
      "text/plain": [
       "    姓名  歷史\n",
       "2  郭富城  45\n",
       "3  張學友  80\n",
       "6  孫燕姿  25"
      ]
     },
     "execution_count": 53,
     "metadata": {},
     "output_type": "execute_result"
    }
   ],
   "source": [
    "df.loc[df['國文'] > 60, [\"姓名\", \"歷史\"]]"
   ]
  },
  {
   "cell_type": "markdown",
   "id": "0wq-38VzKPPT",
   "metadata": {
    "id": "0wq-38VzKPPT"
   },
   "source": [
    "- 方法2"
   ]
  },
  {
   "cell_type": "code",
   "execution_count": 60,
   "id": "0vgZMlHZKPPT",
   "metadata": {
    "id": "0vgZMlHZKPPT",
    "outputId": "875e7926-e48b-4da0-eee2-87046da52d41"
   },
   "outputs": [
    {
     "data": {
      "text/html": [
       "<div>\n",
       "<style scoped>\n",
       "    .dataframe tbody tr th:only-of-type {\n",
       "        vertical-align: middle;\n",
       "    }\n",
       "\n",
       "    .dataframe tbody tr th {\n",
       "        vertical-align: top;\n",
       "    }\n",
       "\n",
       "    .dataframe thead th {\n",
       "        text-align: right;\n",
       "    }\n",
       "</style>\n",
       "<table border=\"1\" class=\"dataframe\">\n",
       "  <thead>\n",
       "    <tr style=\"text-align: right;\">\n",
       "      <th></th>\n",
       "      <th>姓名</th>\n",
       "      <th>歷史</th>\n",
       "    </tr>\n",
       "  </thead>\n",
       "  <tbody>\n",
       "    <tr>\n",
       "      <th>2</th>\n",
       "      <td>郭富城</td>\n",
       "      <td>45</td>\n",
       "    </tr>\n",
       "    <tr>\n",
       "      <th>3</th>\n",
       "      <td>張學友</td>\n",
       "      <td>80</td>\n",
       "    </tr>\n",
       "    <tr>\n",
       "      <th>6</th>\n",
       "      <td>孫燕姿</td>\n",
       "      <td>25</td>\n",
       "    </tr>\n",
       "  </tbody>\n",
       "</table>\n",
       "</div>"
      ],
      "text/plain": [
       "    姓名  歷史\n",
       "2  郭富城  45\n",
       "3  張學友  80\n",
       "6  孫燕姿  25"
      ]
     },
     "execution_count": 60,
     "metadata": {},
     "output_type": "execute_result"
    }
   ],
   "source": [
    "df.loc[df.iloc[:, 2] > 60, [\"姓名\", \"歷史\"]]"
   ]
  },
  {
   "cell_type": "markdown",
   "id": "gJAzykydKPPT",
   "metadata": {
    "id": "gJAzykydKPPT"
   },
   "source": [
    "#### 以 df.max、df.idxmax 取出 \"英文\" 成績最高的學生名。\n",
    "\n",
    "#### df.max"
   ]
  },
  {
   "cell_type": "code",
   "execution_count": null,
   "id": "r-fesruyKPPT",
   "metadata": {
    "id": "r-fesruyKPPT",
    "outputId": "5124f614-529e-409d-db27-7bc0ac26285c"
   },
   "outputs": [
    {
     "data": {
      "text/plain": [
       "98"
      ]
     },
     "execution_count": 55,
     "metadata": {},
     "output_type": "execute_result"
    }
   ],
   "source": [
    "df['英文'].max()"
   ]
  },
  {
   "cell_type": "markdown",
   "id": "MJ38pLSYKPPT",
   "metadata": {
    "id": "MJ38pLSYKPPT"
   },
   "source": [
    "#### df.idxmax \n",
    "- 方法1"
   ]
  },
  {
   "cell_type": "code",
   "execution_count": 63,
   "id": "C8aQF3nQKPPT",
   "metadata": {
    "id": "C8aQF3nQKPPT",
    "outputId": "385322e6-4489-49bd-86a7-885299ed7af0"
   },
   "outputs": [
    {
     "data": {
      "text/plain": [
       "'張惠妹'"
      ]
     },
     "execution_count": 63,
     "metadata": {},
     "output_type": "execute_result"
    }
   ],
   "source": [
    "df['姓名'][df['英文'].idxmax()]"
   ]
  },
  {
   "cell_type": "markdown",
   "id": "oTdBR3B8KPPT",
   "metadata": {
    "id": "oTdBR3B8KPPT"
   },
   "source": [
    "- 方法2"
   ]
  },
  {
   "cell_type": "code",
   "execution_count": null,
   "id": "zCtPZvgiKPPT",
   "metadata": {
    "id": "zCtPZvgiKPPT",
    "outputId": "8673a9cd-9bd0-4451-8ccb-166a0bce00fd"
   },
   "outputs": [
    {
     "data": {
      "text/plain": [
       "'張惠妹'"
      ]
     },
     "execution_count": 57,
     "metadata": {},
     "output_type": "execute_result"
    }
   ],
   "source": [
    "df.loc[df['英文'].idxmax(), '姓名']"
   ]
  },
  {
   "cell_type": "markdown",
   "id": "mbLvNj3fKPPT",
   "metadata": {
    "id": "mbLvNj3fKPPT"
   },
   "source": [
    "- 方法3"
   ]
  },
  {
   "cell_type": "code",
   "execution_count": null,
   "id": "vd62HL_FKPPT",
   "metadata": {
    "id": "vd62HL_FKPPT",
    "outputId": "c108ab13-dca1-492f-d626-ab6ab9027c52"
   },
   "outputs": [
    {
     "data": {
      "text/plain": [
       "'張惠妹'"
      ]
     },
     "execution_count": 58,
     "metadata": {},
     "output_type": "execute_result"
    }
   ],
   "source": [
    "df.loc[df['英文'].idxmax()]['姓名']"
   ]
  },
  {
   "cell_type": "markdown",
   "id": "7S8l1uTzKPPT",
   "metadata": {
    "id": "7S8l1uTzKPPT"
   },
   "source": [
    "- 方法4"
   ]
  },
  {
   "cell_type": "code",
   "execution_count": null,
   "id": "XtNnK3gYKPPT",
   "metadata": {
    "id": "XtNnK3gYKPPT",
    "outputId": "04ba2c4d-2092-4fa9-b439-61d573776c47"
   },
   "outputs": [
    {
     "data": {
      "text/plain": [
       "'張惠妹'"
      ]
     },
     "execution_count": 59,
     "metadata": {},
     "output_type": "execute_result"
    }
   ],
   "source": [
    "df.iloc[df['英文'].idxmax(), 1]"
   ]
  },
  {
   "cell_type": "markdown",
   "id": "ued2a3JmKPPT",
   "metadata": {
    "id": "ued2a3JmKPPT"
   },
   "source": [
    "- 方法5"
   ]
  },
  {
   "cell_type": "code",
   "execution_count": null,
   "id": "QYPemmfZKPPT",
   "metadata": {
    "id": "QYPemmfZKPPT",
    "outputId": "6badc25c-df6d-4ce1-bbec-993a16bf8b2d"
   },
   "outputs": [
    {
     "data": {
      "text/plain": [
       "'張惠妹'"
      ]
     },
     "execution_count": 61,
     "metadata": {},
     "output_type": "execute_result"
    }
   ],
   "source": [
    "df.iloc[df['英文'].idxmax()][1]"
   ]
  },
  {
   "cell_type": "markdown",
   "id": "VUwt9gjWKPPT",
   "metadata": {
    "id": "VUwt9gjWKPPT"
   },
   "source": [
    "#### 以 df.min、df.idxmin 取出 \"數學\" 成績最低的學生名。\n",
    "\n",
    "#### df.min"
   ]
  },
  {
   "cell_type": "code",
   "execution_count": null,
   "id": "DDjCQAZpKPPU",
   "metadata": {
    "id": "DDjCQAZpKPPU",
    "outputId": "f97c84cb-25da-423f-e51d-9fa406d64f69"
   },
   "outputs": [
    {
     "data": {
      "text/plain": [
       "25"
      ]
     },
     "execution_count": 17,
     "metadata": {},
     "output_type": "execute_result"
    }
   ],
   "source": [
    "df['數學'].min()"
   ]
  },
  {
   "cell_type": "markdown",
   "id": "_0As0cUdKPPV",
   "metadata": {
    "id": "_0As0cUdKPPV"
   },
   "source": [
    "#### df.idxmin\n",
    "- 方法1"
   ]
  },
  {
   "cell_type": "code",
   "execution_count": 66,
   "id": "jH_JKp2yKPPW",
   "metadata": {
    "id": "jH_JKp2yKPPW",
    "outputId": "2e7e3988-9f6b-4574-e9bb-2503586716de"
   },
   "outputs": [
    {
     "data": {
      "text/plain": [
       "'伍百'"
      ]
     },
     "execution_count": 66,
     "metadata": {},
     "output_type": "execute_result"
    }
   ],
   "source": [
    "df['姓名'][df['數學'].idxmin()]"
   ]
  },
  {
   "cell_type": "markdown",
   "id": "R3nL2gYmKPPW",
   "metadata": {
    "id": "R3nL2gYmKPPW"
   },
   "source": [
    "- 方法2"
   ]
  },
  {
   "cell_type": "code",
   "execution_count": null,
   "id": "358V4MYhKPPW",
   "metadata": {
    "id": "358V4MYhKPPW",
    "outputId": "862fd71c-c2ab-4e92-dc85-0a60b0451d9a"
   },
   "outputs": [
    {
     "data": {
      "text/plain": [
       "'伍百'"
      ]
     },
     "execution_count": 19,
     "metadata": {},
     "output_type": "execute_result"
    }
   ],
   "source": [
    "df.loc[df['數學'].idxmin(), '姓名']"
   ]
  },
  {
   "cell_type": "markdown",
   "id": "JYSjmP9WKPPW",
   "metadata": {
    "id": "JYSjmP9WKPPW"
   },
   "source": [
    "- 方法3"
   ]
  },
  {
   "cell_type": "code",
   "execution_count": null,
   "id": "jWT4dX6RKPPW",
   "metadata": {
    "id": "jWT4dX6RKPPW",
    "outputId": "0ad46d4d-8af4-46ca-fe89-5e3ee49fe702"
   },
   "outputs": [
    {
     "data": {
      "text/plain": [
       "'伍百'"
      ]
     },
     "execution_count": 20,
     "metadata": {},
     "output_type": "execute_result"
    }
   ],
   "source": [
    "df.loc[df['數學'].idxmin()]['姓名']"
   ]
  },
  {
   "cell_type": "markdown",
   "id": "KYQ6ApXvKPPW",
   "metadata": {
    "id": "KYQ6ApXvKPPW"
   },
   "source": [
    "- 方法4"
   ]
  },
  {
   "cell_type": "code",
   "execution_count": null,
   "id": "akKjU1Z0KPPW",
   "metadata": {
    "id": "akKjU1Z0KPPW",
    "outputId": "2a3959c7-afdb-4c23-cc7d-5f4e03404184"
   },
   "outputs": [
    {
     "data": {
      "text/plain": [
       "'伍百'"
      ]
     },
     "execution_count": 21,
     "metadata": {},
     "output_type": "execute_result"
    }
   ],
   "source": [
    "df.iloc[df['數學'].idxmin(), 1]"
   ]
  },
  {
   "cell_type": "markdown",
   "id": "vnPrb-LtKPPW",
   "metadata": {
    "id": "vnPrb-LtKPPW"
   },
   "source": [
    "- 方法5"
   ]
  },
  {
   "cell_type": "code",
   "execution_count": null,
   "id": "YYDbG72gKPPW",
   "metadata": {
    "id": "YYDbG72gKPPW",
    "outputId": "f2f7ef5b-c997-4ca4-f82b-0d68269c6587"
   },
   "outputs": [
    {
     "data": {
      "text/plain": [
       "'伍百'"
      ]
     },
     "execution_count": 22,
     "metadata": {},
     "output_type": "execute_result"
    }
   ],
   "source": [
    "df.iloc[df['數學'].idxmin()][1]"
   ]
  },
  {
   "cell_type": "markdown",
   "id": "6ukkAeIRKPPW",
   "metadata": {
    "id": "6ukkAeIRKPPW"
   },
   "source": [
    "#### 取出 \"國文\" 成績最高與 \"歷史\" 成績最低的學生。\n",
    "\n",
    "- 方法1"
   ]
  },
  {
   "cell_type": "code",
   "execution_count": null,
   "id": "uSphHLuWKPPW",
   "metadata": {
    "id": "uSphHLuWKPPW",
    "outputId": "b3454867-8590-43af-fe2b-99e16c311495"
   },
   "outputs": [
    {
     "data": {
      "text/html": [
       "<div>\n",
       "<style scoped>\n",
       "    .dataframe tbody tr th:only-of-type {\n",
       "        vertical-align: middle;\n",
       "    }\n",
       "\n",
       "    .dataframe tbody tr th {\n",
       "        vertical-align: top;\n",
       "    }\n",
       "\n",
       "    .dataframe thead th {\n",
       "        text-align: right;\n",
       "    }\n",
       "</style>\n",
       "<table border=\"1\" class=\"dataframe\">\n",
       "  <thead>\n",
       "    <tr style=\"text-align: right;\">\n",
       "      <th></th>\n",
       "      <th>座號</th>\n",
       "      <th>姓名</th>\n",
       "      <th>國文</th>\n",
       "      <th>英文</th>\n",
       "      <th>數學</th>\n",
       "      <th>歷史</th>\n",
       "    </tr>\n",
       "  </thead>\n",
       "  <tbody>\n",
       "    <tr>\n",
       "      <th>3</th>\n",
       "      <td>4</td>\n",
       "      <td>張學友</td>\n",
       "      <td>96</td>\n",
       "      <td>25</td>\n",
       "      <td>65</td>\n",
       "      <td>80</td>\n",
       "    </tr>\n",
       "    <tr>\n",
       "      <th>6</th>\n",
       "      <td>7</td>\n",
       "      <td>孫燕姿</td>\n",
       "      <td>63</td>\n",
       "      <td>87</td>\n",
       "      <td>81</td>\n",
       "      <td>25</td>\n",
       "    </tr>\n",
       "  </tbody>\n",
       "</table>\n",
       "</div>"
      ],
      "text/plain": [
       "   座號   姓名  國文  英文  數學  歷史\n",
       "3   4  張學友  96  25  65  80\n",
       "6   7  孫燕姿  63  87  81  25"
      ]
     },
     "execution_count": 24,
     "metadata": {},
     "output_type": "execute_result"
    }
   ],
   "source": [
    "df.loc[[df['國文'].idxmax()]+[df['歷史'].idxmin()]]"
   ]
  },
  {
   "cell_type": "markdown",
   "id": "-aIxzgo6KPPW",
   "metadata": {
    "id": "-aIxzgo6KPPW"
   },
   "source": [
    "- 方法2"
   ]
  },
  {
   "cell_type": "code",
   "execution_count": null,
   "id": "H3O_o-MNKPPW",
   "metadata": {
    "id": "H3O_o-MNKPPW",
    "outputId": "6f01dc7f-b4d5-4f31-f44e-05c24db47aca"
   },
   "outputs": [
    {
     "data": {
      "text/html": [
       "<div>\n",
       "<style scoped>\n",
       "    .dataframe tbody tr th:only-of-type {\n",
       "        vertical-align: middle;\n",
       "    }\n",
       "\n",
       "    .dataframe tbody tr th {\n",
       "        vertical-align: top;\n",
       "    }\n",
       "\n",
       "    .dataframe thead th {\n",
       "        text-align: right;\n",
       "    }\n",
       "</style>\n",
       "<table border=\"1\" class=\"dataframe\">\n",
       "  <thead>\n",
       "    <tr style=\"text-align: right;\">\n",
       "      <th></th>\n",
       "      <th>座號</th>\n",
       "      <th>姓名</th>\n",
       "      <th>國文</th>\n",
       "      <th>英文</th>\n",
       "      <th>數學</th>\n",
       "      <th>歷史</th>\n",
       "    </tr>\n",
       "  </thead>\n",
       "  <tbody>\n",
       "    <tr>\n",
       "      <th>3</th>\n",
       "      <td>4</td>\n",
       "      <td>張學友</td>\n",
       "      <td>96</td>\n",
       "      <td>25</td>\n",
       "      <td>65</td>\n",
       "      <td>80</td>\n",
       "    </tr>\n",
       "    <tr>\n",
       "      <th>6</th>\n",
       "      <td>7</td>\n",
       "      <td>孫燕姿</td>\n",
       "      <td>63</td>\n",
       "      <td>87</td>\n",
       "      <td>81</td>\n",
       "      <td>25</td>\n",
       "    </tr>\n",
       "  </tbody>\n",
       "</table>\n",
       "</div>"
      ],
      "text/plain": [
       "   座號   姓名  國文  英文  數學  歷史\n",
       "3   4  張學友  96  25  65  80\n",
       "6   7  孫燕姿  63  87  81  25"
      ]
     },
     "execution_count": 70,
     "metadata": {},
     "output_type": "execute_result"
    }
   ],
   "source": [
    "df.loc[[df['國文'].idxmax(), df['歷史'].idxmin()]]"
   ]
  },
  {
   "cell_type": "markdown",
   "id": "5kfyYbVWKPPW",
   "metadata": {
    "id": "5kfyYbVWKPPW"
   },
   "source": [
    "- 方法3"
   ]
  },
  {
   "cell_type": "code",
   "execution_count": null,
   "id": "P4-_3oKBKPPW",
   "metadata": {
    "id": "P4-_3oKBKPPW",
    "outputId": "1bdacfeb-3a06-42c8-973e-7ea4a48a122f"
   },
   "outputs": [
    {
     "data": {
      "text/html": [
       "<div>\n",
       "<style scoped>\n",
       "    .dataframe tbody tr th:only-of-type {\n",
       "        vertical-align: middle;\n",
       "    }\n",
       "\n",
       "    .dataframe tbody tr th {\n",
       "        vertical-align: top;\n",
       "    }\n",
       "\n",
       "    .dataframe thead th {\n",
       "        text-align: right;\n",
       "    }\n",
       "</style>\n",
       "<table border=\"1\" class=\"dataframe\">\n",
       "  <thead>\n",
       "    <tr style=\"text-align: right;\">\n",
       "      <th></th>\n",
       "      <th>座號</th>\n",
       "      <th>姓名</th>\n",
       "      <th>國文</th>\n",
       "      <th>英文</th>\n",
       "      <th>數學</th>\n",
       "      <th>歷史</th>\n",
       "    </tr>\n",
       "  </thead>\n",
       "  <tbody>\n",
       "    <tr>\n",
       "      <th>3</th>\n",
       "      <td>4</td>\n",
       "      <td>張學友</td>\n",
       "      <td>96</td>\n",
       "      <td>25</td>\n",
       "      <td>65</td>\n",
       "      <td>80</td>\n",
       "    </tr>\n",
       "    <tr>\n",
       "      <th>6</th>\n",
       "      <td>7</td>\n",
       "      <td>孫燕姿</td>\n",
       "      <td>63</td>\n",
       "      <td>87</td>\n",
       "      <td>81</td>\n",
       "      <td>25</td>\n",
       "    </tr>\n",
       "  </tbody>\n",
       "</table>\n",
       "</div>"
      ],
      "text/plain": [
       "   座號   姓名  國文  英文  數學  歷史\n",
       "3   4  張學友  96  25  65  80\n",
       "6   7  孫燕姿  63  87  81  25"
      ]
     },
     "execution_count": 71,
     "metadata": {},
     "output_type": "execute_result"
    }
   ],
   "source": [
    "df.iloc[[df['國文'].idxmax()]+[df['歷史'].idxmin()]]"
   ]
  },
  {
   "cell_type": "markdown",
   "id": "KeGjyI8qKPPX",
   "metadata": {
    "id": "KeGjyI8qKPPX"
   },
   "source": [
    "- 方法4"
   ]
  },
  {
   "cell_type": "code",
   "execution_count": null,
   "id": "S6G8qvtcKPPX",
   "metadata": {
    "id": "S6G8qvtcKPPX",
    "outputId": "306764a9-dc05-43b4-baeb-ccc80154073e"
   },
   "outputs": [
    {
     "data": {
      "text/html": [
       "<div>\n",
       "<style scoped>\n",
       "    .dataframe tbody tr th:only-of-type {\n",
       "        vertical-align: middle;\n",
       "    }\n",
       "\n",
       "    .dataframe tbody tr th {\n",
       "        vertical-align: top;\n",
       "    }\n",
       "\n",
       "    .dataframe thead th {\n",
       "        text-align: right;\n",
       "    }\n",
       "</style>\n",
       "<table border=\"1\" class=\"dataframe\">\n",
       "  <thead>\n",
       "    <tr style=\"text-align: right;\">\n",
       "      <th></th>\n",
       "      <th>座號</th>\n",
       "      <th>姓名</th>\n",
       "      <th>國文</th>\n",
       "      <th>英文</th>\n",
       "      <th>數學</th>\n",
       "      <th>歷史</th>\n",
       "    </tr>\n",
       "  </thead>\n",
       "  <tbody>\n",
       "    <tr>\n",
       "      <th>3</th>\n",
       "      <td>4</td>\n",
       "      <td>張學友</td>\n",
       "      <td>96</td>\n",
       "      <td>25</td>\n",
       "      <td>65</td>\n",
       "      <td>80</td>\n",
       "    </tr>\n",
       "    <tr>\n",
       "      <th>6</th>\n",
       "      <td>7</td>\n",
       "      <td>孫燕姿</td>\n",
       "      <td>63</td>\n",
       "      <td>87</td>\n",
       "      <td>81</td>\n",
       "      <td>25</td>\n",
       "    </tr>\n",
       "  </tbody>\n",
       "</table>\n",
       "</div>"
      ],
      "text/plain": [
       "   座號   姓名  國文  英文  數學  歷史\n",
       "3   4  張學友  96  25  65  80\n",
       "6   7  孫燕姿  63  87  81  25"
      ]
     },
     "execution_count": 11,
     "metadata": {},
     "output_type": "execute_result"
    }
   ],
   "source": [
    "df.iloc[[df['國文'].idxmax(), df['歷史'].idxmin()]]"
   ]
  },
  {
   "cell_type": "markdown",
   "id": "E5NBp3U9KPPX",
   "metadata": {
    "id": "E5NBp3U9KPPX"
   },
   "source": [
    "# 7. 排名"
   ]
  },
  {
   "cell_type": "code",
   "execution_count": 75,
   "id": "uFIUbMn7KPPX",
   "metadata": {
    "id": "uFIUbMn7KPPX",
    "outputId": "ea6e4cec-bade-4202-ef84-eb713c2b9c07"
   },
   "outputs": [
    {
     "data": {
      "text/html": [
       "<div>\n",
       "<style scoped>\n",
       "    .dataframe tbody tr th:only-of-type {\n",
       "        vertical-align: middle;\n",
       "    }\n",
       "\n",
       "    .dataframe tbody tr th {\n",
       "        vertical-align: top;\n",
       "    }\n",
       "\n",
       "    .dataframe thead th {\n",
       "        text-align: right;\n",
       "    }\n",
       "</style>\n",
       "<table border=\"1\" class=\"dataframe\">\n",
       "  <thead>\n",
       "    <tr style=\"text-align: right;\">\n",
       "      <th></th>\n",
       "      <th>座號</th>\n",
       "      <th>姓名</th>\n",
       "      <th>國文</th>\n",
       "      <th>英文</th>\n",
       "      <th>數學</th>\n",
       "      <th>歷史</th>\n",
       "      <th>總分</th>\n",
       "      <th>平均</th>\n",
       "      <th>總排名_average</th>\n",
       "      <th>總排名_min</th>\n",
       "      <th>總排名_max</th>\n",
       "      <th>總排名_first</th>\n",
       "      <th>總排名_dense</th>\n",
       "    </tr>\n",
       "  </thead>\n",
       "  <tbody>\n",
       "    <tr>\n",
       "      <th>0</th>\n",
       "      <td>1</td>\n",
       "      <td>劉德華</td>\n",
       "      <td>50</td>\n",
       "      <td>56</td>\n",
       "      <td>65</td>\n",
       "      <td>90</td>\n",
       "      <td>261.0</td>\n",
       "      <td>65.25</td>\n",
       "      <td>4.0</td>\n",
       "      <td>4.0</td>\n",
       "      <td>4.0</td>\n",
       "      <td>4.0</td>\n",
       "      <td>3.0</td>\n",
       "    </tr>\n",
       "    <tr>\n",
       "      <th>1</th>\n",
       "      <td>2</td>\n",
       "      <td>黎明</td>\n",
       "      <td>56</td>\n",
       "      <td>78</td>\n",
       "      <td>78</td>\n",
       "      <td>70</td>\n",
       "      <td>282.0</td>\n",
       "      <td>70.50</td>\n",
       "      <td>1.5</td>\n",
       "      <td>1.0</td>\n",
       "      <td>2.0</td>\n",
       "      <td>1.0</td>\n",
       "      <td>1.0</td>\n",
       "    </tr>\n",
       "    <tr>\n",
       "      <th>2</th>\n",
       "      <td>3</td>\n",
       "      <td>郭富城</td>\n",
       "      <td>78</td>\n",
       "      <td>63</td>\n",
       "      <td>96</td>\n",
       "      <td>45</td>\n",
       "      <td>282.0</td>\n",
       "      <td>70.50</td>\n",
       "      <td>1.5</td>\n",
       "      <td>1.0</td>\n",
       "      <td>2.0</td>\n",
       "      <td>2.0</td>\n",
       "      <td>1.0</td>\n",
       "    </tr>\n",
       "    <tr>\n",
       "      <th>3</th>\n",
       "      <td>4</td>\n",
       "      <td>張學友</td>\n",
       "      <td>96</td>\n",
       "      <td>25</td>\n",
       "      <td>65</td>\n",
       "      <td>80</td>\n",
       "      <td>266.0</td>\n",
       "      <td>66.50</td>\n",
       "      <td>3.0</td>\n",
       "      <td>3.0</td>\n",
       "      <td>3.0</td>\n",
       "      <td>3.0</td>\n",
       "      <td>2.0</td>\n",
       "    </tr>\n",
       "    <tr>\n",
       "      <th>4</th>\n",
       "      <td>5</td>\n",
       "      <td>張惠妹</td>\n",
       "      <td>21</td>\n",
       "      <td>98</td>\n",
       "      <td>45</td>\n",
       "      <td>60</td>\n",
       "      <td>224.0</td>\n",
       "      <td>56.00</td>\n",
       "      <td>6.0</td>\n",
       "      <td>6.0</td>\n",
       "      <td>6.0</td>\n",
       "      <td>6.0</td>\n",
       "      <td>5.0</td>\n",
       "    </tr>\n",
       "    <tr>\n",
       "      <th>5</th>\n",
       "      <td>6</td>\n",
       "      <td>伍百</td>\n",
       "      <td>58</td>\n",
       "      <td>25</td>\n",
       "      <td>25</td>\n",
       "      <td>33</td>\n",
       "      <td>141.0</td>\n",
       "      <td>35.25</td>\n",
       "      <td>7.0</td>\n",
       "      <td>7.0</td>\n",
       "      <td>7.0</td>\n",
       "      <td>7.0</td>\n",
       "      <td>6.0</td>\n",
       "    </tr>\n",
       "    <tr>\n",
       "      <th>6</th>\n",
       "      <td>7</td>\n",
       "      <td>孫燕姿</td>\n",
       "      <td>63</td>\n",
       "      <td>87</td>\n",
       "      <td>81</td>\n",
       "      <td>25</td>\n",
       "      <td>256.0</td>\n",
       "      <td>64.00</td>\n",
       "      <td>5.0</td>\n",
       "      <td>5.0</td>\n",
       "      <td>5.0</td>\n",
       "      <td>5.0</td>\n",
       "      <td>4.0</td>\n",
       "    </tr>\n",
       "  </tbody>\n",
       "</table>\n",
       "</div>"
      ],
      "text/plain": [
       "   座號   姓名  國文  英文  數學  歷史     總分     平均  總排名_average  總排名_min  總排名_max  \\\n",
       "0   1  劉德華  50  56  65  90  261.0  65.25          4.0      4.0      4.0   \n",
       "1   2   黎明  56  78  78  70  282.0  70.50          1.5      1.0      2.0   \n",
       "2   3  郭富城  78  63  96  45  282.0  70.50          1.5      1.0      2.0   \n",
       "3   4  張學友  96  25  65  80  266.0  66.50          3.0      3.0      3.0   \n",
       "4   5  張惠妹  21  98  45  60  224.0  56.00          6.0      6.0      6.0   \n",
       "5   6   伍百  58  25  25  33  141.0  35.25          7.0      7.0      7.0   \n",
       "6   7  孫燕姿  63  87  81  25  256.0  64.00          5.0      5.0      5.0   \n",
       "\n",
       "   總排名_first  總排名_dense  \n",
       "0        4.0        3.0  \n",
       "1        1.0        1.0  \n",
       "2        2.0        1.0  \n",
       "3        3.0        2.0  \n",
       "4        6.0        5.0  \n",
       "5        7.0        6.0  \n",
       "6        5.0        4.0  "
      ]
     },
     "execution_count": 75,
     "metadata": {},
     "output_type": "execute_result"
    }
   ],
   "source": [
    "import pandas as pd\n",
    "from IPython.display import display\n",
    "scores = {'座號':[1, 2, 3 ,4, 5, 6, 7],\n",
    "          '姓名':['劉德華', '黎明', '郭富城', '張學友', '張惠妹', '伍百', '孫燕姿'],\n",
    "          '國文':[50, 56, 78, 96, 21, 58, 63],\n",
    "          '英文':[56, 78, 63, 25, 98, 25, 87],\n",
    "          '數學':[65, 78, 96, 65, 45, 25, 81]\n",
    "}\n",
    "df = pd.DataFrame(scores)\n",
    "df.insert(5, \"歷史\", [90, 70, 45, 80, 60, 33, 25]) \n",
    "df[['總分', '平均']] = df.apply(lambda x:x[2:].agg(['sum', 'mean']), axis = 1)\n",
    "df['總排名_average'] = df['總分'].rank(method='average', ascending=False) #average策略下，相同數值的元素的排名是其內部排名的均值\n",
    "df['總排名_min'] = df['總分'].rank(method='min', ascending=False) #min策略下，相同元素的排名為其內部排名的最小值\n",
    "df['總排名_max'] = df['總分'].rank(method='max', ascending=False) #max策略與min正好相反，取的是相同元素內部排名的最大值\n",
    "df['總排名_first'] = df['總分'].rank(method='first', ascending=False) #在first策略下，當多個元素相同時，會根據這些相同元素在實際Series中的順序分配排名\n",
    "df['總排名_dense'] = df['總分'].rank(method='dense', ascending=False) #在dense策略下，相當於對序列去重後進行排名，再將每個元素的排名賦給相同的每個元素，這種方式也是比較貼合實際需求的\n",
    "#df.sort_values('總排名_average')\n",
    "df"
   ]
  },
  {
   "cell_type": "markdown",
   "id": "AUeZNjclKPPX",
   "metadata": {
    "id": "AUeZNjclKPPX"
   },
   "source": [
    "### 條件設定 [style](https://pandas.pydata.org/docs/reference/style.html)：highlight_max, highlight_min, highlight_null \n",
    "\n",
    "##### highlight_max(subset=None, color='yellow', axis=0)\n",
    "##### highlight_min(subset=None, color='yellow', axis=0)\n",
    "- subset：指定範圍\n",
    "- color：指定顏色\n",
    "- axis：指定行列，axis = 0 -> column, axis = 1 -> row\n",
    "\n",
    "##### highlight_null(null_color='red', subset=None)\n",
    "- subset：指定範圍\n",
    "- null_color：指定顏色"
   ]
  },
  {
   "cell_type": "code",
   "execution_count": 76,
   "id": "SaawGhCbKPPX",
   "metadata": {
    "id": "SaawGhCbKPPX",
    "outputId": "3327b7a8-9f86-41ac-9da5-698434cee4db"
   },
   "outputs": [
    {
     "data": {
      "text/html": [
       "<style type=\"text/css\">\n",
       "#T_7263c_row0_col5, #T_7263c_row2_col4, #T_7263c_row3_col2, #T_7263c_row4_col3 {\n",
       "  background-color: red;\n",
       "}\n",
       "#T_7263c_row3_col3, #T_7263c_row4_col2, #T_7263c_row5_col3, #T_7263c_row5_col4, #T_7263c_row6_col5 {\n",
       "  background-color: green;\n",
       "}\n",
       "</style>\n",
       "<table id=\"T_7263c\">\n",
       "  <thead>\n",
       "    <tr>\n",
       "      <th class=\"blank level0\" >&nbsp;</th>\n",
       "      <th id=\"T_7263c_level0_col0\" class=\"col_heading level0 col0\" >座號</th>\n",
       "      <th id=\"T_7263c_level0_col1\" class=\"col_heading level0 col1\" >姓名</th>\n",
       "      <th id=\"T_7263c_level0_col2\" class=\"col_heading level0 col2\" >國文</th>\n",
       "      <th id=\"T_7263c_level0_col3\" class=\"col_heading level0 col3\" >英文</th>\n",
       "      <th id=\"T_7263c_level0_col4\" class=\"col_heading level0 col4\" >數學</th>\n",
       "      <th id=\"T_7263c_level0_col5\" class=\"col_heading level0 col5\" >歷史</th>\n",
       "      <th id=\"T_7263c_level0_col6\" class=\"col_heading level0 col6\" >總分</th>\n",
       "      <th id=\"T_7263c_level0_col7\" class=\"col_heading level0 col7\" >平均</th>\n",
       "      <th id=\"T_7263c_level0_col8\" class=\"col_heading level0 col8\" >總排名_average</th>\n",
       "      <th id=\"T_7263c_level0_col9\" class=\"col_heading level0 col9\" >總排名_min</th>\n",
       "      <th id=\"T_7263c_level0_col10\" class=\"col_heading level0 col10\" >總排名_max</th>\n",
       "      <th id=\"T_7263c_level0_col11\" class=\"col_heading level0 col11\" >總排名_first</th>\n",
       "      <th id=\"T_7263c_level0_col12\" class=\"col_heading level0 col12\" >總排名_dense</th>\n",
       "    </tr>\n",
       "  </thead>\n",
       "  <tbody>\n",
       "    <tr>\n",
       "      <th id=\"T_7263c_level0_row0\" class=\"row_heading level0 row0\" >0</th>\n",
       "      <td id=\"T_7263c_row0_col0\" class=\"data row0 col0\" >1</td>\n",
       "      <td id=\"T_7263c_row0_col1\" class=\"data row0 col1\" >劉德華</td>\n",
       "      <td id=\"T_7263c_row0_col2\" class=\"data row0 col2\" >50</td>\n",
       "      <td id=\"T_7263c_row0_col3\" class=\"data row0 col3\" >56</td>\n",
       "      <td id=\"T_7263c_row0_col4\" class=\"data row0 col4\" >65</td>\n",
       "      <td id=\"T_7263c_row0_col5\" class=\"data row0 col5\" >90</td>\n",
       "      <td id=\"T_7263c_row0_col6\" class=\"data row0 col6\" >261.000000</td>\n",
       "      <td id=\"T_7263c_row0_col7\" class=\"data row0 col7\" >65.250000</td>\n",
       "      <td id=\"T_7263c_row0_col8\" class=\"data row0 col8\" >4.000000</td>\n",
       "      <td id=\"T_7263c_row0_col9\" class=\"data row0 col9\" >4.000000</td>\n",
       "      <td id=\"T_7263c_row0_col10\" class=\"data row0 col10\" >4.000000</td>\n",
       "      <td id=\"T_7263c_row0_col11\" class=\"data row0 col11\" >4.000000</td>\n",
       "      <td id=\"T_7263c_row0_col12\" class=\"data row0 col12\" >3.000000</td>\n",
       "    </tr>\n",
       "    <tr>\n",
       "      <th id=\"T_7263c_level0_row1\" class=\"row_heading level0 row1\" >1</th>\n",
       "      <td id=\"T_7263c_row1_col0\" class=\"data row1 col0\" >2</td>\n",
       "      <td id=\"T_7263c_row1_col1\" class=\"data row1 col1\" >黎明</td>\n",
       "      <td id=\"T_7263c_row1_col2\" class=\"data row1 col2\" >56</td>\n",
       "      <td id=\"T_7263c_row1_col3\" class=\"data row1 col3\" >78</td>\n",
       "      <td id=\"T_7263c_row1_col4\" class=\"data row1 col4\" >78</td>\n",
       "      <td id=\"T_7263c_row1_col5\" class=\"data row1 col5\" >70</td>\n",
       "      <td id=\"T_7263c_row1_col6\" class=\"data row1 col6\" >282.000000</td>\n",
       "      <td id=\"T_7263c_row1_col7\" class=\"data row1 col7\" >70.500000</td>\n",
       "      <td id=\"T_7263c_row1_col8\" class=\"data row1 col8\" >1.500000</td>\n",
       "      <td id=\"T_7263c_row1_col9\" class=\"data row1 col9\" >1.000000</td>\n",
       "      <td id=\"T_7263c_row1_col10\" class=\"data row1 col10\" >2.000000</td>\n",
       "      <td id=\"T_7263c_row1_col11\" class=\"data row1 col11\" >1.000000</td>\n",
       "      <td id=\"T_7263c_row1_col12\" class=\"data row1 col12\" >1.000000</td>\n",
       "    </tr>\n",
       "    <tr>\n",
       "      <th id=\"T_7263c_level0_row2\" class=\"row_heading level0 row2\" >2</th>\n",
       "      <td id=\"T_7263c_row2_col0\" class=\"data row2 col0\" >3</td>\n",
       "      <td id=\"T_7263c_row2_col1\" class=\"data row2 col1\" >郭富城</td>\n",
       "      <td id=\"T_7263c_row2_col2\" class=\"data row2 col2\" >78</td>\n",
       "      <td id=\"T_7263c_row2_col3\" class=\"data row2 col3\" >63</td>\n",
       "      <td id=\"T_7263c_row2_col4\" class=\"data row2 col4\" >96</td>\n",
       "      <td id=\"T_7263c_row2_col5\" class=\"data row2 col5\" >45</td>\n",
       "      <td id=\"T_7263c_row2_col6\" class=\"data row2 col6\" >282.000000</td>\n",
       "      <td id=\"T_7263c_row2_col7\" class=\"data row2 col7\" >70.500000</td>\n",
       "      <td id=\"T_7263c_row2_col8\" class=\"data row2 col8\" >1.500000</td>\n",
       "      <td id=\"T_7263c_row2_col9\" class=\"data row2 col9\" >1.000000</td>\n",
       "      <td id=\"T_7263c_row2_col10\" class=\"data row2 col10\" >2.000000</td>\n",
       "      <td id=\"T_7263c_row2_col11\" class=\"data row2 col11\" >2.000000</td>\n",
       "      <td id=\"T_7263c_row2_col12\" class=\"data row2 col12\" >1.000000</td>\n",
       "    </tr>\n",
       "    <tr>\n",
       "      <th id=\"T_7263c_level0_row3\" class=\"row_heading level0 row3\" >3</th>\n",
       "      <td id=\"T_7263c_row3_col0\" class=\"data row3 col0\" >4</td>\n",
       "      <td id=\"T_7263c_row3_col1\" class=\"data row3 col1\" >張學友</td>\n",
       "      <td id=\"T_7263c_row3_col2\" class=\"data row3 col2\" >96</td>\n",
       "      <td id=\"T_7263c_row3_col3\" class=\"data row3 col3\" >25</td>\n",
       "      <td id=\"T_7263c_row3_col4\" class=\"data row3 col4\" >65</td>\n",
       "      <td id=\"T_7263c_row3_col5\" class=\"data row3 col5\" >80</td>\n",
       "      <td id=\"T_7263c_row3_col6\" class=\"data row3 col6\" >266.000000</td>\n",
       "      <td id=\"T_7263c_row3_col7\" class=\"data row3 col7\" >66.500000</td>\n",
       "      <td id=\"T_7263c_row3_col8\" class=\"data row3 col8\" >3.000000</td>\n",
       "      <td id=\"T_7263c_row3_col9\" class=\"data row3 col9\" >3.000000</td>\n",
       "      <td id=\"T_7263c_row3_col10\" class=\"data row3 col10\" >3.000000</td>\n",
       "      <td id=\"T_7263c_row3_col11\" class=\"data row3 col11\" >3.000000</td>\n",
       "      <td id=\"T_7263c_row3_col12\" class=\"data row3 col12\" >2.000000</td>\n",
       "    </tr>\n",
       "    <tr>\n",
       "      <th id=\"T_7263c_level0_row4\" class=\"row_heading level0 row4\" >4</th>\n",
       "      <td id=\"T_7263c_row4_col0\" class=\"data row4 col0\" >5</td>\n",
       "      <td id=\"T_7263c_row4_col1\" class=\"data row4 col1\" >張惠妹</td>\n",
       "      <td id=\"T_7263c_row4_col2\" class=\"data row4 col2\" >21</td>\n",
       "      <td id=\"T_7263c_row4_col3\" class=\"data row4 col3\" >98</td>\n",
       "      <td id=\"T_7263c_row4_col4\" class=\"data row4 col4\" >45</td>\n",
       "      <td id=\"T_7263c_row4_col5\" class=\"data row4 col5\" >60</td>\n",
       "      <td id=\"T_7263c_row4_col6\" class=\"data row4 col6\" >224.000000</td>\n",
       "      <td id=\"T_7263c_row4_col7\" class=\"data row4 col7\" >56.000000</td>\n",
       "      <td id=\"T_7263c_row4_col8\" class=\"data row4 col8\" >6.000000</td>\n",
       "      <td id=\"T_7263c_row4_col9\" class=\"data row4 col9\" >6.000000</td>\n",
       "      <td id=\"T_7263c_row4_col10\" class=\"data row4 col10\" >6.000000</td>\n",
       "      <td id=\"T_7263c_row4_col11\" class=\"data row4 col11\" >6.000000</td>\n",
       "      <td id=\"T_7263c_row4_col12\" class=\"data row4 col12\" >5.000000</td>\n",
       "    </tr>\n",
       "    <tr>\n",
       "      <th id=\"T_7263c_level0_row5\" class=\"row_heading level0 row5\" >5</th>\n",
       "      <td id=\"T_7263c_row5_col0\" class=\"data row5 col0\" >6</td>\n",
       "      <td id=\"T_7263c_row5_col1\" class=\"data row5 col1\" >伍百</td>\n",
       "      <td id=\"T_7263c_row5_col2\" class=\"data row5 col2\" >58</td>\n",
       "      <td id=\"T_7263c_row5_col3\" class=\"data row5 col3\" >25</td>\n",
       "      <td id=\"T_7263c_row5_col4\" class=\"data row5 col4\" >25</td>\n",
       "      <td id=\"T_7263c_row5_col5\" class=\"data row5 col5\" >33</td>\n",
       "      <td id=\"T_7263c_row5_col6\" class=\"data row5 col6\" >141.000000</td>\n",
       "      <td id=\"T_7263c_row5_col7\" class=\"data row5 col7\" >35.250000</td>\n",
       "      <td id=\"T_7263c_row5_col8\" class=\"data row5 col8\" >7.000000</td>\n",
       "      <td id=\"T_7263c_row5_col9\" class=\"data row5 col9\" >7.000000</td>\n",
       "      <td id=\"T_7263c_row5_col10\" class=\"data row5 col10\" >7.000000</td>\n",
       "      <td id=\"T_7263c_row5_col11\" class=\"data row5 col11\" >7.000000</td>\n",
       "      <td id=\"T_7263c_row5_col12\" class=\"data row5 col12\" >6.000000</td>\n",
       "    </tr>\n",
       "    <tr>\n",
       "      <th id=\"T_7263c_level0_row6\" class=\"row_heading level0 row6\" >6</th>\n",
       "      <td id=\"T_7263c_row6_col0\" class=\"data row6 col0\" >7</td>\n",
       "      <td id=\"T_7263c_row6_col1\" class=\"data row6 col1\" >孫燕姿</td>\n",
       "      <td id=\"T_7263c_row6_col2\" class=\"data row6 col2\" >63</td>\n",
       "      <td id=\"T_7263c_row6_col3\" class=\"data row6 col3\" >87</td>\n",
       "      <td id=\"T_7263c_row6_col4\" class=\"data row6 col4\" >81</td>\n",
       "      <td id=\"T_7263c_row6_col5\" class=\"data row6 col5\" >25</td>\n",
       "      <td id=\"T_7263c_row6_col6\" class=\"data row6 col6\" >256.000000</td>\n",
       "      <td id=\"T_7263c_row6_col7\" class=\"data row6 col7\" >64.000000</td>\n",
       "      <td id=\"T_7263c_row6_col8\" class=\"data row6 col8\" >5.000000</td>\n",
       "      <td id=\"T_7263c_row6_col9\" class=\"data row6 col9\" >5.000000</td>\n",
       "      <td id=\"T_7263c_row6_col10\" class=\"data row6 col10\" >5.000000</td>\n",
       "      <td id=\"T_7263c_row6_col11\" class=\"data row6 col11\" >5.000000</td>\n",
       "      <td id=\"T_7263c_row6_col12\" class=\"data row6 col12\" >4.000000</td>\n",
       "    </tr>\n",
       "  </tbody>\n",
       "</table>\n"
      ],
      "text/plain": [
       "<pandas.io.formats.style.Styler at 0x23a9452ef50>"
      ]
     },
     "execution_count": 76,
     "metadata": {},
     "output_type": "execute_result"
    }
   ],
   "source": [
    "df.style.highlight_max(subset=['國文', '英文', '數學', '歷史'], color = 'red').highlight_min(subset=['國文', '英文', '數學', '歷史'], color = 'green')"
   ]
  },
  {
   "cell_type": "code",
   "execution_count": 81,
   "id": "xUoPXaSQKPPX",
   "metadata": {
    "id": "xUoPXaSQKPPX",
    "outputId": "505e1f65-8f7d-4553-e689-0c63ed176539"
   },
   "outputs": [
    {
     "data": {
      "text/html": [
       "<style type=\"text/css\">\n",
       "#T_30287_row0_col6, #T_30287_row0_col7 {\n",
       "  width: 10em;\n",
       "  background: linear-gradient(90deg, transparent 50.0%, #80c8ff 50.0%, #80c8ff 96.3%, transparent 96.3%);\n",
       "}\n",
       "#T_30287_row1_col6, #T_30287_row1_col7, #T_30287_row2_col6, #T_30287_row2_col7 {\n",
       "  width: 10em;\n",
       "  background: linear-gradient(90deg, transparent 50.0%, #80c8ff 50.0%, #80c8ff 100.0%, transparent 100.0%);\n",
       "}\n",
       "#T_30287_row3_col6, #T_30287_row3_col7 {\n",
       "  width: 10em;\n",
       "  background: linear-gradient(90deg, transparent 50.0%, #80c8ff 50.0%, #80c8ff 97.2%, transparent 97.2%);\n",
       "}\n",
       "#T_30287_row4_col6, #T_30287_row4_col7 {\n",
       "  width: 10em;\n",
       "  background: linear-gradient(90deg, transparent 50.0%, #80c8ff 50.0%, #80c8ff 89.7%, transparent 89.7%);\n",
       "}\n",
       "#T_30287_row5_col6, #T_30287_row5_col7 {\n",
       "  width: 10em;\n",
       "  background: linear-gradient(90deg, transparent 50.0%, #80c8ff 50.0%, #80c8ff 75.0%, transparent 75.0%);\n",
       "}\n",
       "#T_30287_row6_col6, #T_30287_row6_col7 {\n",
       "  width: 10em;\n",
       "  background: linear-gradient(90deg, transparent 50.0%, #80c8ff 50.0%, #80c8ff 95.4%, transparent 95.4%);\n",
       "}\n",
       "</style>\n",
       "<table id=\"T_30287\">\n",
       "  <thead>\n",
       "    <tr>\n",
       "      <th class=\"blank level0\" >&nbsp;</th>\n",
       "      <th id=\"T_30287_level0_col0\" class=\"col_heading level0 col0\" >座號</th>\n",
       "      <th id=\"T_30287_level0_col1\" class=\"col_heading level0 col1\" >姓名</th>\n",
       "      <th id=\"T_30287_level0_col2\" class=\"col_heading level0 col2\" >國文</th>\n",
       "      <th id=\"T_30287_level0_col3\" class=\"col_heading level0 col3\" >英文</th>\n",
       "      <th id=\"T_30287_level0_col4\" class=\"col_heading level0 col4\" >數學</th>\n",
       "      <th id=\"T_30287_level0_col5\" class=\"col_heading level0 col5\" >歷史</th>\n",
       "      <th id=\"T_30287_level0_col6\" class=\"col_heading level0 col6\" >總分</th>\n",
       "      <th id=\"T_30287_level0_col7\" class=\"col_heading level0 col7\" >平均</th>\n",
       "      <th id=\"T_30287_level0_col8\" class=\"col_heading level0 col8\" >總排名_average</th>\n",
       "      <th id=\"T_30287_level0_col9\" class=\"col_heading level0 col9\" >總排名_min</th>\n",
       "      <th id=\"T_30287_level0_col10\" class=\"col_heading level0 col10\" >總排名_max</th>\n",
       "      <th id=\"T_30287_level0_col11\" class=\"col_heading level0 col11\" >總排名_first</th>\n",
       "      <th id=\"T_30287_level0_col12\" class=\"col_heading level0 col12\" >總排名_dense</th>\n",
       "    </tr>\n",
       "  </thead>\n",
       "  <tbody>\n",
       "    <tr>\n",
       "      <th id=\"T_30287_level0_row0\" class=\"row_heading level0 row0\" >0</th>\n",
       "      <td id=\"T_30287_row0_col0\" class=\"data row0 col0\" >1</td>\n",
       "      <td id=\"T_30287_row0_col1\" class=\"data row0 col1\" >劉德華</td>\n",
       "      <td id=\"T_30287_row0_col2\" class=\"data row0 col2\" >50</td>\n",
       "      <td id=\"T_30287_row0_col3\" class=\"data row0 col3\" >56</td>\n",
       "      <td id=\"T_30287_row0_col4\" class=\"data row0 col4\" >65</td>\n",
       "      <td id=\"T_30287_row0_col5\" class=\"data row0 col5\" >90</td>\n",
       "      <td id=\"T_30287_row0_col6\" class=\"data row0 col6\" >261</td>\n",
       "      <td id=\"T_30287_row0_col7\" class=\"data row0 col7\" >65.25</td>\n",
       "      <td id=\"T_30287_row0_col8\" class=\"data row0 col8\" >4.000000</td>\n",
       "      <td id=\"T_30287_row0_col9\" class=\"data row0 col9\" >4.000000</td>\n",
       "      <td id=\"T_30287_row0_col10\" class=\"data row0 col10\" >4.000000</td>\n",
       "      <td id=\"T_30287_row0_col11\" class=\"data row0 col11\" >4.000000</td>\n",
       "      <td id=\"T_30287_row0_col12\" class=\"data row0 col12\" >3.000000</td>\n",
       "    </tr>\n",
       "    <tr>\n",
       "      <th id=\"T_30287_level0_row1\" class=\"row_heading level0 row1\" >1</th>\n",
       "      <td id=\"T_30287_row1_col0\" class=\"data row1 col0\" >2</td>\n",
       "      <td id=\"T_30287_row1_col1\" class=\"data row1 col1\" >黎明</td>\n",
       "      <td id=\"T_30287_row1_col2\" class=\"data row1 col2\" >56</td>\n",
       "      <td id=\"T_30287_row1_col3\" class=\"data row1 col3\" >78</td>\n",
       "      <td id=\"T_30287_row1_col4\" class=\"data row1 col4\" >78</td>\n",
       "      <td id=\"T_30287_row1_col5\" class=\"data row1 col5\" >70</td>\n",
       "      <td id=\"T_30287_row1_col6\" class=\"data row1 col6\" >282</td>\n",
       "      <td id=\"T_30287_row1_col7\" class=\"data row1 col7\" >70.50</td>\n",
       "      <td id=\"T_30287_row1_col8\" class=\"data row1 col8\" >1.500000</td>\n",
       "      <td id=\"T_30287_row1_col9\" class=\"data row1 col9\" >1.000000</td>\n",
       "      <td id=\"T_30287_row1_col10\" class=\"data row1 col10\" >2.000000</td>\n",
       "      <td id=\"T_30287_row1_col11\" class=\"data row1 col11\" >1.000000</td>\n",
       "      <td id=\"T_30287_row1_col12\" class=\"data row1 col12\" >1.000000</td>\n",
       "    </tr>\n",
       "    <tr>\n",
       "      <th id=\"T_30287_level0_row2\" class=\"row_heading level0 row2\" >2</th>\n",
       "      <td id=\"T_30287_row2_col0\" class=\"data row2 col0\" >3</td>\n",
       "      <td id=\"T_30287_row2_col1\" class=\"data row2 col1\" >郭富城</td>\n",
       "      <td id=\"T_30287_row2_col2\" class=\"data row2 col2\" >78</td>\n",
       "      <td id=\"T_30287_row2_col3\" class=\"data row2 col3\" >63</td>\n",
       "      <td id=\"T_30287_row2_col4\" class=\"data row2 col4\" >96</td>\n",
       "      <td id=\"T_30287_row2_col5\" class=\"data row2 col5\" >45</td>\n",
       "      <td id=\"T_30287_row2_col6\" class=\"data row2 col6\" >282</td>\n",
       "      <td id=\"T_30287_row2_col7\" class=\"data row2 col7\" >70.50</td>\n",
       "      <td id=\"T_30287_row2_col8\" class=\"data row2 col8\" >1.500000</td>\n",
       "      <td id=\"T_30287_row2_col9\" class=\"data row2 col9\" >1.000000</td>\n",
       "      <td id=\"T_30287_row2_col10\" class=\"data row2 col10\" >2.000000</td>\n",
       "      <td id=\"T_30287_row2_col11\" class=\"data row2 col11\" >2.000000</td>\n",
       "      <td id=\"T_30287_row2_col12\" class=\"data row2 col12\" >1.000000</td>\n",
       "    </tr>\n",
       "    <tr>\n",
       "      <th id=\"T_30287_level0_row3\" class=\"row_heading level0 row3\" >3</th>\n",
       "      <td id=\"T_30287_row3_col0\" class=\"data row3 col0\" >4</td>\n",
       "      <td id=\"T_30287_row3_col1\" class=\"data row3 col1\" >張學友</td>\n",
       "      <td id=\"T_30287_row3_col2\" class=\"data row3 col2\" >96</td>\n",
       "      <td id=\"T_30287_row3_col3\" class=\"data row3 col3\" >25</td>\n",
       "      <td id=\"T_30287_row3_col4\" class=\"data row3 col4\" >65</td>\n",
       "      <td id=\"T_30287_row3_col5\" class=\"data row3 col5\" >80</td>\n",
       "      <td id=\"T_30287_row3_col6\" class=\"data row3 col6\" >266</td>\n",
       "      <td id=\"T_30287_row3_col7\" class=\"data row3 col7\" >66.50</td>\n",
       "      <td id=\"T_30287_row3_col8\" class=\"data row3 col8\" >3.000000</td>\n",
       "      <td id=\"T_30287_row3_col9\" class=\"data row3 col9\" >3.000000</td>\n",
       "      <td id=\"T_30287_row3_col10\" class=\"data row3 col10\" >3.000000</td>\n",
       "      <td id=\"T_30287_row3_col11\" class=\"data row3 col11\" >3.000000</td>\n",
       "      <td id=\"T_30287_row3_col12\" class=\"data row3 col12\" >2.000000</td>\n",
       "    </tr>\n",
       "    <tr>\n",
       "      <th id=\"T_30287_level0_row4\" class=\"row_heading level0 row4\" >4</th>\n",
       "      <td id=\"T_30287_row4_col0\" class=\"data row4 col0\" >5</td>\n",
       "      <td id=\"T_30287_row4_col1\" class=\"data row4 col1\" >張惠妹</td>\n",
       "      <td id=\"T_30287_row4_col2\" class=\"data row4 col2\" >21</td>\n",
       "      <td id=\"T_30287_row4_col3\" class=\"data row4 col3\" >98</td>\n",
       "      <td id=\"T_30287_row4_col4\" class=\"data row4 col4\" >45</td>\n",
       "      <td id=\"T_30287_row4_col5\" class=\"data row4 col5\" >60</td>\n",
       "      <td id=\"T_30287_row4_col6\" class=\"data row4 col6\" >224</td>\n",
       "      <td id=\"T_30287_row4_col7\" class=\"data row4 col7\" >56.00</td>\n",
       "      <td id=\"T_30287_row4_col8\" class=\"data row4 col8\" >6.000000</td>\n",
       "      <td id=\"T_30287_row4_col9\" class=\"data row4 col9\" >6.000000</td>\n",
       "      <td id=\"T_30287_row4_col10\" class=\"data row4 col10\" >6.000000</td>\n",
       "      <td id=\"T_30287_row4_col11\" class=\"data row4 col11\" >6.000000</td>\n",
       "      <td id=\"T_30287_row4_col12\" class=\"data row4 col12\" >5.000000</td>\n",
       "    </tr>\n",
       "    <tr>\n",
       "      <th id=\"T_30287_level0_row5\" class=\"row_heading level0 row5\" >5</th>\n",
       "      <td id=\"T_30287_row5_col0\" class=\"data row5 col0\" >6</td>\n",
       "      <td id=\"T_30287_row5_col1\" class=\"data row5 col1\" >伍百</td>\n",
       "      <td id=\"T_30287_row5_col2\" class=\"data row5 col2\" >58</td>\n",
       "      <td id=\"T_30287_row5_col3\" class=\"data row5 col3\" >25</td>\n",
       "      <td id=\"T_30287_row5_col4\" class=\"data row5 col4\" >25</td>\n",
       "      <td id=\"T_30287_row5_col5\" class=\"data row5 col5\" >33</td>\n",
       "      <td id=\"T_30287_row5_col6\" class=\"data row5 col6\" >141</td>\n",
       "      <td id=\"T_30287_row5_col7\" class=\"data row5 col7\" >35.25</td>\n",
       "      <td id=\"T_30287_row5_col8\" class=\"data row5 col8\" >7.000000</td>\n",
       "      <td id=\"T_30287_row5_col9\" class=\"data row5 col9\" >7.000000</td>\n",
       "      <td id=\"T_30287_row5_col10\" class=\"data row5 col10\" >7.000000</td>\n",
       "      <td id=\"T_30287_row5_col11\" class=\"data row5 col11\" >7.000000</td>\n",
       "      <td id=\"T_30287_row5_col12\" class=\"data row5 col12\" >6.000000</td>\n",
       "    </tr>\n",
       "    <tr>\n",
       "      <th id=\"T_30287_level0_row6\" class=\"row_heading level0 row6\" >6</th>\n",
       "      <td id=\"T_30287_row6_col0\" class=\"data row6 col0\" >7</td>\n",
       "      <td id=\"T_30287_row6_col1\" class=\"data row6 col1\" >孫燕姿</td>\n",
       "      <td id=\"T_30287_row6_col2\" class=\"data row6 col2\" >63</td>\n",
       "      <td id=\"T_30287_row6_col3\" class=\"data row6 col3\" >87</td>\n",
       "      <td id=\"T_30287_row6_col4\" class=\"data row6 col4\" >81</td>\n",
       "      <td id=\"T_30287_row6_col5\" class=\"data row6 col5\" >25</td>\n",
       "      <td id=\"T_30287_row6_col6\" class=\"data row6 col6\" >256</td>\n",
       "      <td id=\"T_30287_row6_col7\" class=\"data row6 col7\" >64.00</td>\n",
       "      <td id=\"T_30287_row6_col8\" class=\"data row6 col8\" >5.000000</td>\n",
       "      <td id=\"T_30287_row6_col9\" class=\"data row6 col9\" >5.000000</td>\n",
       "      <td id=\"T_30287_row6_col10\" class=\"data row6 col10\" >5.000000</td>\n",
       "      <td id=\"T_30287_row6_col11\" class=\"data row6 col11\" >5.000000</td>\n",
       "      <td id=\"T_30287_row6_col12\" class=\"data row6 col12\" >4.000000</td>\n",
       "    </tr>\n",
       "  </tbody>\n",
       "</table>\n"
      ],
      "text/plain": [
       "<pandas.io.formats.style.Styler at 0x23a9452fc10>"
      ]
     },
     "execution_count": 81,
     "metadata": {},
     "output_type": "execute_result"
    }
   ],
   "source": [
    "format_dict = {'總分':'{:.0f}', '平均': '{:.2f}'}\n",
    "df.style.format(format_dict).bar(subset=['總分', '平均'], color='#80c8ff', align='zero')"
   ]
  },
  {
   "cell_type": "markdown",
   "id": "Stn7CjWPKPPX",
   "metadata": {
    "id": "Stn7CjWPKPPX"
   },
   "source": [
    "# 8. 各科成績分布\n",
    "#### pandas.cut(x, bins, right=True, labels=None)\n",
    "\n",
    "用途：回傳 x 中的每一個數據在bins 中對應的範圍\n",
    "\n",
    "參數：\n",
    "- x ：必須是一維資料來源。\n",
    "- bins：整數、序列或間隔索引。\n",
    "- labels：對應bins區間的文字列表。\n",
    "- 語法：https://pandas.pydata.org/docs/reference/api/pandas.cut.html?highlight=pandas%20cut#pandas.cut"
   ]
  },
  {
   "cell_type": "code",
   "execution_count": 1,
   "id": "TmXJEZEpKPPX",
   "metadata": {
    "id": "TmXJEZEpKPPX",
    "outputId": "b0cfecfc-79ea-4e81-ae54-a3754b0f4a2f"
   },
   "outputs": [
    {
     "data": {
      "text/html": [
       "<div>\n",
       "<style scoped>\n",
       "    .dataframe tbody tr th:only-of-type {\n",
       "        vertical-align: middle;\n",
       "    }\n",
       "\n",
       "    .dataframe tbody tr th {\n",
       "        vertical-align: top;\n",
       "    }\n",
       "\n",
       "    .dataframe thead th {\n",
       "        text-align: right;\n",
       "    }\n",
       "</style>\n",
       "<table border=\"1\" class=\"dataframe\">\n",
       "  <thead>\n",
       "    <tr style=\"text-align: right;\">\n",
       "      <th></th>\n",
       "      <th>座號</th>\n",
       "      <th>姓名</th>\n",
       "      <th>國文</th>\n",
       "      <th>英文</th>\n",
       "      <th>數學</th>\n",
       "      <th>歷史</th>\n",
       "      <th>總分</th>\n",
       "      <th>平均</th>\n",
       "    </tr>\n",
       "  </thead>\n",
       "  <tbody>\n",
       "    <tr>\n",
       "      <th>0</th>\n",
       "      <td>1</td>\n",
       "      <td>劉德華</td>\n",
       "      <td>50</td>\n",
       "      <td>56</td>\n",
       "      <td>65</td>\n",
       "      <td>90</td>\n",
       "      <td>261.0</td>\n",
       "      <td>65.25</td>\n",
       "    </tr>\n",
       "    <tr>\n",
       "      <th>1</th>\n",
       "      <td>2</td>\n",
       "      <td>黎明</td>\n",
       "      <td>56</td>\n",
       "      <td>78</td>\n",
       "      <td>78</td>\n",
       "      <td>70</td>\n",
       "      <td>282.0</td>\n",
       "      <td>70.50</td>\n",
       "    </tr>\n",
       "    <tr>\n",
       "      <th>2</th>\n",
       "      <td>3</td>\n",
       "      <td>郭富城</td>\n",
       "      <td>78</td>\n",
       "      <td>63</td>\n",
       "      <td>96</td>\n",
       "      <td>45</td>\n",
       "      <td>282.0</td>\n",
       "      <td>70.50</td>\n",
       "    </tr>\n",
       "    <tr>\n",
       "      <th>3</th>\n",
       "      <td>4</td>\n",
       "      <td>張學友</td>\n",
       "      <td>96</td>\n",
       "      <td>25</td>\n",
       "      <td>65</td>\n",
       "      <td>80</td>\n",
       "      <td>266.0</td>\n",
       "      <td>66.50</td>\n",
       "    </tr>\n",
       "    <tr>\n",
       "      <th>4</th>\n",
       "      <td>5</td>\n",
       "      <td>張惠妹</td>\n",
       "      <td>21</td>\n",
       "      <td>98</td>\n",
       "      <td>45</td>\n",
       "      <td>60</td>\n",
       "      <td>224.0</td>\n",
       "      <td>56.00</td>\n",
       "    </tr>\n",
       "    <tr>\n",
       "      <th>5</th>\n",
       "      <td>6</td>\n",
       "      <td>伍百</td>\n",
       "      <td>58</td>\n",
       "      <td>25</td>\n",
       "      <td>25</td>\n",
       "      <td>33</td>\n",
       "      <td>141.0</td>\n",
       "      <td>35.25</td>\n",
       "    </tr>\n",
       "    <tr>\n",
       "      <th>6</th>\n",
       "      <td>7</td>\n",
       "      <td>孫燕姿</td>\n",
       "      <td>63</td>\n",
       "      <td>87</td>\n",
       "      <td>81</td>\n",
       "      <td>25</td>\n",
       "      <td>256.0</td>\n",
       "      <td>64.00</td>\n",
       "    </tr>\n",
       "  </tbody>\n",
       "</table>\n",
       "</div>"
      ],
      "text/plain": [
       "   座號   姓名  國文  英文  數學  歷史     總分     平均\n",
       "0   1  劉德華  50  56  65  90  261.0  65.25\n",
       "1   2   黎明  56  78  78  70  282.0  70.50\n",
       "2   3  郭富城  78  63  96  45  282.0  70.50\n",
       "3   4  張學友  96  25  65  80  266.0  66.50\n",
       "4   5  張惠妹  21  98  45  60  224.0  56.00\n",
       "5   6   伍百  58  25  25  33  141.0  35.25\n",
       "6   7  孫燕姿  63  87  81  25  256.0  64.00"
      ]
     },
     "execution_count": 1,
     "metadata": {},
     "output_type": "execute_result"
    }
   ],
   "source": [
    "import pandas as pd\n",
    "from IPython.display import display\n",
    "scores = {'座號':[1, 2, 3 ,4, 5, 6, 7],\n",
    "          '姓名':['劉德華', '黎明', '郭富城', '張學友', '張惠妹', '伍百', '孫燕姿'],\n",
    "          '國文':[50, 56, 78, 96, 21, 58, 63],\n",
    "          '英文':[56, 78, 63, 25, 98, 25, 87],\n",
    "          '數學':[65, 78, 96, 65, 45, 25, 81]\n",
    "}\n",
    "df = pd.DataFrame(scores)\n",
    "df.insert(5, \"歷史\", [90, 70, 45, 80, 60, 33, 25]) \n",
    "df[['總分', '平均']] = df.apply(lambda x:x[2:].agg(['sum', 'mean']), axis = 1)\n",
    "df"
   ]
  },
  {
   "cell_type": "code",
   "execution_count": 2,
   "id": "RGWOqo_2KPPX",
   "metadata": {
    "id": "RGWOqo_2KPPX",
    "outputId": "96f82011-2aee-4cf2-c514-1cc4600544be"
   },
   "outputs": [
    {
     "data": {
      "text/html": [
       "<div>\n",
       "<style scoped>\n",
       "    .dataframe tbody tr th:only-of-type {\n",
       "        vertical-align: middle;\n",
       "    }\n",
       "\n",
       "    .dataframe tbody tr th {\n",
       "        vertical-align: top;\n",
       "    }\n",
       "\n",
       "    .dataframe thead th {\n",
       "        text-align: right;\n",
       "    }\n",
       "</style>\n",
       "<table border=\"1\" class=\"dataframe\">\n",
       "  <thead>\n",
       "    <tr style=\"text-align: right;\">\n",
       "      <th></th>\n",
       "      <th>座號</th>\n",
       "      <th>姓名</th>\n",
       "      <th>國文</th>\n",
       "      <th>國文成績評語</th>\n",
       "      <th>英文</th>\n",
       "      <th>英文成績評語</th>\n",
       "      <th>數學</th>\n",
       "      <th>數學成績評語</th>\n",
       "      <th>歷史</th>\n",
       "      <th>歷史成績評語</th>\n",
       "      <th>總分</th>\n",
       "      <th>平均</th>\n",
       "    </tr>\n",
       "  </thead>\n",
       "  <tbody>\n",
       "    <tr>\n",
       "      <th>0</th>\n",
       "      <td>1</td>\n",
       "      <td>劉德華</td>\n",
       "      <td>50</td>\n",
       "      <td>再努力</td>\n",
       "      <td>56</td>\n",
       "      <td>再努力</td>\n",
       "      <td>65</td>\n",
       "      <td>不錯</td>\n",
       "      <td>90</td>\n",
       "      <td>很棒</td>\n",
       "      <td>261.0</td>\n",
       "      <td>65.25</td>\n",
       "    </tr>\n",
       "    <tr>\n",
       "      <th>1</th>\n",
       "      <td>2</td>\n",
       "      <td>黎明</td>\n",
       "      <td>56</td>\n",
       "      <td>再努力</td>\n",
       "      <td>78</td>\n",
       "      <td>很好</td>\n",
       "      <td>78</td>\n",
       "      <td>很好</td>\n",
       "      <td>70</td>\n",
       "      <td>不錯</td>\n",
       "      <td>282.0</td>\n",
       "      <td>70.50</td>\n",
       "    </tr>\n",
       "    <tr>\n",
       "      <th>2</th>\n",
       "      <td>3</td>\n",
       "      <td>郭富城</td>\n",
       "      <td>78</td>\n",
       "      <td>很好</td>\n",
       "      <td>63</td>\n",
       "      <td>不錯</td>\n",
       "      <td>96</td>\n",
       "      <td>很棒棒</td>\n",
       "      <td>45</td>\n",
       "      <td>再努力</td>\n",
       "      <td>282.0</td>\n",
       "      <td>70.50</td>\n",
       "    </tr>\n",
       "    <tr>\n",
       "      <th>3</th>\n",
       "      <td>4</td>\n",
       "      <td>張學友</td>\n",
       "      <td>96</td>\n",
       "      <td>很棒棒</td>\n",
       "      <td>25</td>\n",
       "      <td>再努力</td>\n",
       "      <td>65</td>\n",
       "      <td>不錯</td>\n",
       "      <td>80</td>\n",
       "      <td>很好</td>\n",
       "      <td>266.0</td>\n",
       "      <td>66.50</td>\n",
       "    </tr>\n",
       "    <tr>\n",
       "      <th>4</th>\n",
       "      <td>5</td>\n",
       "      <td>張惠妹</td>\n",
       "      <td>21</td>\n",
       "      <td>再努力</td>\n",
       "      <td>98</td>\n",
       "      <td>很棒棒</td>\n",
       "      <td>45</td>\n",
       "      <td>再努力</td>\n",
       "      <td>60</td>\n",
       "      <td>不錯</td>\n",
       "      <td>224.0</td>\n",
       "      <td>56.00</td>\n",
       "    </tr>\n",
       "    <tr>\n",
       "      <th>5</th>\n",
       "      <td>6</td>\n",
       "      <td>伍百</td>\n",
       "      <td>58</td>\n",
       "      <td>再努力</td>\n",
       "      <td>25</td>\n",
       "      <td>再努力</td>\n",
       "      <td>25</td>\n",
       "      <td>再努力</td>\n",
       "      <td>33</td>\n",
       "      <td>再努力</td>\n",
       "      <td>141.0</td>\n",
       "      <td>35.25</td>\n",
       "    </tr>\n",
       "    <tr>\n",
       "      <th>6</th>\n",
       "      <td>7</td>\n",
       "      <td>孫燕姿</td>\n",
       "      <td>63</td>\n",
       "      <td>不錯</td>\n",
       "      <td>87</td>\n",
       "      <td>很棒</td>\n",
       "      <td>81</td>\n",
       "      <td>很棒</td>\n",
       "      <td>25</td>\n",
       "      <td>再努力</td>\n",
       "      <td>256.0</td>\n",
       "      <td>64.00</td>\n",
       "    </tr>\n",
       "  </tbody>\n",
       "</table>\n",
       "</div>"
      ],
      "text/plain": [
       "   座號   姓名  國文 國文成績評語  英文 英文成績評語  數學 數學成績評語  歷史 歷史成績評語     總分     平均\n",
       "0   1  劉德華  50    再努力  56    再努力  65     不錯  90     很棒  261.0  65.25\n",
       "1   2   黎明  56    再努力  78     很好  78     很好  70     不錯  282.0  70.50\n",
       "2   3  郭富城  78     很好  63     不錯  96    很棒棒  45    再努力  282.0  70.50\n",
       "3   4  張學友  96    很棒棒  25    再努力  65     不錯  80     很好  266.0  66.50\n",
       "4   5  張惠妹  21    再努力  98    很棒棒  45    再努力  60     不錯  224.0  56.00\n",
       "5   6   伍百  58    再努力  25    再努力  25    再努力  33    再努力  141.0  35.25\n",
       "6   7  孫燕姿  63     不錯  87     很棒  81     很棒  25    再努力  256.0  64.00"
      ]
     },
     "execution_count": 2,
     "metadata": {},
     "output_type": "execute_result"
    }
   ],
   "source": [
    "bins = [0, 59, 70, 80, 90, 100]\n",
    "stauts = [\"再努力\", \"不錯\", \"很好\", \"很棒\", \"很棒棒\"]\n",
    "df.insert(6, \"歷史成績評語\", pd.cut(df['歷史'].tolist(), bins, labels = stauts))\n",
    "df.insert(5, \"數學成績評語\", pd.cut(df['數學'].tolist(), bins, labels = stauts))\n",
    "df.insert(4, \"英文成績評語\", pd.cut(df['英文'].tolist(), bins, labels = stauts))\n",
    "df.insert(3, \"國文成績評語\", pd.cut(df['國文'].tolist(), bins, labels = stauts))\n",
    "df"
   ]
  },
  {
   "cell_type": "code",
   "execution_count": 3,
   "id": "f6rvORhDKPPX",
   "metadata": {
    "id": "f6rvORhDKPPX",
    "outputId": "28e0d74a-5a11-4f1f-eb34-45d34ef2c97f"
   },
   "outputs": [
    {
     "data": {
      "text/html": [
       "<div>\n",
       "<style scoped>\n",
       "    .dataframe tbody tr th:only-of-type {\n",
       "        vertical-align: middle;\n",
       "    }\n",
       "\n",
       "    .dataframe tbody tr th {\n",
       "        vertical-align: top;\n",
       "    }\n",
       "\n",
       "    .dataframe thead th {\n",
       "        text-align: right;\n",
       "    }\n",
       "</style>\n",
       "<table border=\"1\" class=\"dataframe\">\n",
       "  <thead>\n",
       "    <tr style=\"text-align: right;\">\n",
       "      <th></th>\n",
       "      <th>國文</th>\n",
       "      <th>英文</th>\n",
       "      <th>數學</th>\n",
       "      <th>歷史</th>\n",
       "    </tr>\n",
       "  </thead>\n",
       "  <tbody>\n",
       "    <tr>\n",
       "      <th>(0, 59]</th>\n",
       "      <td>4</td>\n",
       "      <td>3</td>\n",
       "      <td>2</td>\n",
       "      <td>3</td>\n",
       "    </tr>\n",
       "    <tr>\n",
       "      <th>(59, 70]</th>\n",
       "      <td>1</td>\n",
       "      <td>1</td>\n",
       "      <td>2</td>\n",
       "      <td>2</td>\n",
       "    </tr>\n",
       "    <tr>\n",
       "      <th>(70, 80]</th>\n",
       "      <td>1</td>\n",
       "      <td>1</td>\n",
       "      <td>1</td>\n",
       "      <td>1</td>\n",
       "    </tr>\n",
       "    <tr>\n",
       "      <th>(80, 90]</th>\n",
       "      <td>0</td>\n",
       "      <td>1</td>\n",
       "      <td>1</td>\n",
       "      <td>1</td>\n",
       "    </tr>\n",
       "    <tr>\n",
       "      <th>(90, 100]</th>\n",
       "      <td>1</td>\n",
       "      <td>1</td>\n",
       "      <td>1</td>\n",
       "      <td>0</td>\n",
       "    </tr>\n",
       "  </tbody>\n",
       "</table>\n",
       "</div>"
      ],
      "text/plain": [
       "           國文  英文  數學  歷史\n",
       "(0, 59]     4   3   2   3\n",
       "(59, 70]    1   1   2   2\n",
       "(70, 80]    1   1   1   1\n",
       "(80, 90]    0   1   1   1\n",
       "(90, 100]   1   1   1   0"
      ]
     },
     "execution_count": 3,
     "metadata": {},
     "output_type": "execute_result"
    }
   ],
   "source": [
    "國文 = pd.value_counts(pd.cut(df['國文'], bins), sort=False)\n",
    "英文 = pd.value_counts(pd.cut(df['英文'], bins), sort=False)\n",
    "數學 = pd.value_counts(pd.cut(df['數學'], bins), sort=False)\n",
    "歷史 = pd.value_counts(pd.cut(df['歷史'], bins), sort=False)\n",
    "\n",
    "各科分數分級統計 = pd.DataFrame({'國文':國文, '英文':英文, '數學':數學, '歷史':歷史}, index = 國文.index)\n",
    "各科分數分級統計"
   ]
  },
  {
   "cell_type": "markdown",
   "id": "mvqitJH-KPPX",
   "metadata": {
    "id": "mvqitJH-KPPX"
   },
   "source": [
    "# 9. 資料存取(CSV、Excel、SQLite)"
   ]
  },
  {
   "cell_type": "code",
   "execution_count": null,
   "id": "mPv7VEljKPPX",
   "metadata": {
    "id": "mPv7VEljKPPX",
    "outputId": "9f4760b7-0bd2-4af6-9cd0-27a60d35496c"
   },
   "outputs": [
    {
     "data": {
      "text/html": [
       "<div>\n",
       "<style scoped>\n",
       "    .dataframe tbody tr th:only-of-type {\n",
       "        vertical-align: middle;\n",
       "    }\n",
       "\n",
       "    .dataframe tbody tr th {\n",
       "        vertical-align: top;\n",
       "    }\n",
       "\n",
       "    .dataframe thead th {\n",
       "        text-align: right;\n",
       "    }\n",
       "</style>\n",
       "<table border=\"1\" class=\"dataframe\">\n",
       "  <thead>\n",
       "    <tr style=\"text-align: right;\">\n",
       "      <th></th>\n",
       "      <th>座號</th>\n",
       "      <th>姓名</th>\n",
       "      <th>國文</th>\n",
       "      <th>英文</th>\n",
       "      <th>數學</th>\n",
       "    </tr>\n",
       "  </thead>\n",
       "  <tbody>\n",
       "    <tr>\n",
       "      <th>0</th>\n",
       "      <td>1</td>\n",
       "      <td>劉德華</td>\n",
       "      <td>50</td>\n",
       "      <td>56</td>\n",
       "      <td>65</td>\n",
       "    </tr>\n",
       "    <tr>\n",
       "      <th>1</th>\n",
       "      <td>2</td>\n",
       "      <td>黎明</td>\n",
       "      <td>56</td>\n",
       "      <td>78</td>\n",
       "      <td>78</td>\n",
       "    </tr>\n",
       "    <tr>\n",
       "      <th>2</th>\n",
       "      <td>3</td>\n",
       "      <td>郭富城</td>\n",
       "      <td>78</td>\n",
       "      <td>63</td>\n",
       "      <td>96</td>\n",
       "    </tr>\n",
       "    <tr>\n",
       "      <th>3</th>\n",
       "      <td>4</td>\n",
       "      <td>張學友</td>\n",
       "      <td>96</td>\n",
       "      <td>25</td>\n",
       "      <td>65</td>\n",
       "    </tr>\n",
       "    <tr>\n",
       "      <th>4</th>\n",
       "      <td>5</td>\n",
       "      <td>張惠妹</td>\n",
       "      <td>21</td>\n",
       "      <td>98</td>\n",
       "      <td>45</td>\n",
       "    </tr>\n",
       "    <tr>\n",
       "      <th>5</th>\n",
       "      <td>6</td>\n",
       "      <td>伍百</td>\n",
       "      <td>58</td>\n",
       "      <td>25</td>\n",
       "      <td>25</td>\n",
       "    </tr>\n",
       "    <tr>\n",
       "      <th>6</th>\n",
       "      <td>7</td>\n",
       "      <td>孫燕姿</td>\n",
       "      <td>63</td>\n",
       "      <td>87</td>\n",
       "      <td>81</td>\n",
       "    </tr>\n",
       "  </tbody>\n",
       "</table>\n",
       "</div>"
      ],
      "text/plain": [
       "   座號   姓名  國文  英文  數學\n",
       "0   1  劉德華  50  56  65\n",
       "1   2   黎明  56  78  78\n",
       "2   3  郭富城  78  63  96\n",
       "3   4  張學友  96  25  65\n",
       "4   5  張惠妹  21  98  45\n",
       "5   6   伍百  58  25  25\n",
       "6   7  孫燕姿  63  87  81"
      ]
     },
     "execution_count": 37,
     "metadata": {},
     "output_type": "execute_result"
    }
   ],
   "source": [
    "import pandas as pd\n",
    "\n",
    "scores = {'座號':[1, 2, 3 ,4, 5, 6, 7],\n",
    "          '姓名':['劉德華', '黎明', '郭富城', '張學友', '張惠妹', '伍百', '孫燕姿'],\n",
    "          '國文':[50, 56, 78, 96, 21, 58, 63],\n",
    "          '英文':[56, 78, 63, 25, 98, 25, 87],\n",
    "          '數學':[65, 78, 96, 65, 45, 25, 81]          \n",
    "}\n",
    "df = pd.DataFrame(scores)\n",
    "df"
   ]
  },
  {
   "cell_type": "markdown",
   "id": "Z_9N7L-ZKPPX",
   "metadata": {
    "id": "Z_9N7L-ZKPPX"
   },
   "source": [
    "## 9-1 儲存與讀取 CSV"
   ]
  },
  {
   "cell_type": "code",
   "execution_count": null,
   "id": "UOr2lvYAKPPX",
   "metadata": {
    "id": "UOr2lvYAKPPX"
   },
   "outputs": [],
   "source": [
    "df.to_csv('scores.csv')"
   ]
  },
  {
   "cell_type": "markdown",
   "id": "4amB1CthKPPX",
   "metadata": {
    "id": "4amB1CthKPPX"
   },
   "source": [
    "![](image\\20210710-5.png)\n",
    "- 注意：直接存檔至 CSV，多出一個Column內容，這不是我們要的，那是 pandas 自動將 index 的部份一起存入 CSV，若不希望 index 一起被存入CSV檔案，可添加 index = 0 屬性。"
   ]
  },
  {
   "cell_type": "code",
   "execution_count": null,
   "id": "v-Yb_xVWKPPY",
   "metadata": {
    "id": "v-Yb_xVWKPPY"
   },
   "outputs": [],
   "source": [
    "df.to_csv('scores.csv', index = 0)"
   ]
  },
  {
   "cell_type": "markdown",
   "id": "C41YEFohKPPY",
   "metadata": {
    "id": "C41YEFohKPPY"
   },
   "source": [
    "![](image\\20210710-6.png)\n",
    "\n",
    "- Python3 預設編碼為 UTF-8，不指定編碼儲直接存成CSV檔，再以 Excel 開啟該 CSV 檔，將會遇到中文亂碼，這是由於 Windows 的 Excel 不支援 \"UTF-8\" 所導致。\n",
    "\n",
    "![](image\\20210710-7.png)\n",
    "\n",
    "- 要解決上述問題，改變輸出編碼為 BIG-5，添加 encoding = 'big5'。"
   ]
  },
  {
   "cell_type": "code",
   "execution_count": null,
   "id": "AQwFf1o5KPPY",
   "metadata": {
    "id": "AQwFf1o5KPPY"
   },
   "outputs": [],
   "source": [
    "df.to_csv('scores.csv', encoding = 'big5', index = 0)"
   ]
  },
  {
   "cell_type": "markdown",
   "id": "I1hI4YGjKPPY",
   "metadata": {
    "id": "I1hI4YGjKPPY"
   },
   "source": [
    "#### 讀取CSV"
   ]
  },
  {
   "cell_type": "code",
   "execution_count": null,
   "id": "zQXnCNDEKPPY",
   "metadata": {
    "id": "zQXnCNDEKPPY",
    "outputId": "fbb0fe7a-fd5f-4d84-fb3c-4863b978ea64"
   },
   "outputs": [
    {
     "data": {
      "text/html": [
       "<div>\n",
       "<style scoped>\n",
       "    .dataframe tbody tr th:only-of-type {\n",
       "        vertical-align: middle;\n",
       "    }\n",
       "\n",
       "    .dataframe tbody tr th {\n",
       "        vertical-align: top;\n",
       "    }\n",
       "\n",
       "    .dataframe thead th {\n",
       "        text-align: right;\n",
       "    }\n",
       "</style>\n",
       "<table border=\"1\" class=\"dataframe\">\n",
       "  <thead>\n",
       "    <tr style=\"text-align: right;\">\n",
       "      <th></th>\n",
       "      <th>座號</th>\n",
       "      <th>姓名</th>\n",
       "      <th>國文</th>\n",
       "      <th>英文</th>\n",
       "      <th>數學</th>\n",
       "    </tr>\n",
       "  </thead>\n",
       "  <tbody>\n",
       "    <tr>\n",
       "      <th>0</th>\n",
       "      <td>1</td>\n",
       "      <td>劉德華</td>\n",
       "      <td>50</td>\n",
       "      <td>56</td>\n",
       "      <td>65</td>\n",
       "    </tr>\n",
       "    <tr>\n",
       "      <th>1</th>\n",
       "      <td>2</td>\n",
       "      <td>黎明</td>\n",
       "      <td>56</td>\n",
       "      <td>78</td>\n",
       "      <td>78</td>\n",
       "    </tr>\n",
       "    <tr>\n",
       "      <th>2</th>\n",
       "      <td>3</td>\n",
       "      <td>郭富城</td>\n",
       "      <td>78</td>\n",
       "      <td>63</td>\n",
       "      <td>96</td>\n",
       "    </tr>\n",
       "    <tr>\n",
       "      <th>3</th>\n",
       "      <td>4</td>\n",
       "      <td>張學友</td>\n",
       "      <td>96</td>\n",
       "      <td>25</td>\n",
       "      <td>65</td>\n",
       "    </tr>\n",
       "    <tr>\n",
       "      <th>4</th>\n",
       "      <td>5</td>\n",
       "      <td>張惠妹</td>\n",
       "      <td>21</td>\n",
       "      <td>98</td>\n",
       "      <td>45</td>\n",
       "    </tr>\n",
       "    <tr>\n",
       "      <th>5</th>\n",
       "      <td>6</td>\n",
       "      <td>伍百</td>\n",
       "      <td>58</td>\n",
       "      <td>25</td>\n",
       "      <td>25</td>\n",
       "    </tr>\n",
       "    <tr>\n",
       "      <th>6</th>\n",
       "      <td>7</td>\n",
       "      <td>孫燕姿</td>\n",
       "      <td>63</td>\n",
       "      <td>87</td>\n",
       "      <td>81</td>\n",
       "    </tr>\n",
       "  </tbody>\n",
       "</table>\n",
       "</div>"
      ],
      "text/plain": [
       "   座號   姓名  國文  英文  數學\n",
       "0   1  劉德華  50  56  65\n",
       "1   2   黎明  56  78  78\n",
       "2   3  郭富城  78  63  96\n",
       "3   4  張學友  96  25  65\n",
       "4   5  張惠妹  21  98  45\n",
       "5   6   伍百  58  25  25\n",
       "6   7  孫燕姿  63  87  81"
      ]
     },
     "execution_count": 44,
     "metadata": {},
     "output_type": "execute_result"
    }
   ],
   "source": [
    "df = pd.read_csv('scores.csv', encoding = 'big5')\n",
    "df"
   ]
  },
  {
   "cell_type": "markdown",
   "id": "9EZ_UIvGKPPY",
   "metadata": {
    "id": "9EZ_UIvGKPPY"
   },
   "source": [
    "# 9-2 儲存與讀取 Excel\n",
    "### 以 df.to_excel() 無指定活頁簿名稱，資料儲存在預設 \"Sheet1\" 活頁簿中。"
   ]
  },
  {
   "cell_type": "code",
   "execution_count": null,
   "id": "hiGYAntFKPPY",
   "metadata": {
    "id": "hiGYAntFKPPY"
   },
   "outputs": [],
   "source": [
    "df.to_excel('scores.xlsx', index = 0)"
   ]
  },
  {
   "cell_type": "markdown",
   "id": "eNLkZVxVKPPY",
   "metadata": {
    "id": "eNLkZVxVKPPY"
   },
   "source": [
    "![](image\\20210710-8.png)\n",
    "\n",
    "- df.to_excel() 參數如下。\n",
    "\n",
    "![](image\\20210710-9.png)\n",
    "\n",
    "#### 若無指定活頁簿名稱存檔，則 pd.read_excel()  讀取Excel檔案，將無需指定活頁簿名稱。"
   ]
  },
  {
   "cell_type": "code",
   "execution_count": null,
   "id": "fF7sCZobKPPY",
   "metadata": {
    "id": "fF7sCZobKPPY",
    "outputId": "caa8fdee-e3a9-42d5-b39e-336daf11b694"
   },
   "outputs": [
    {
     "data": {
      "text/html": [
       "<div>\n",
       "<style scoped>\n",
       "    .dataframe tbody tr th:only-of-type {\n",
       "        vertical-align: middle;\n",
       "    }\n",
       "\n",
       "    .dataframe tbody tr th {\n",
       "        vertical-align: top;\n",
       "    }\n",
       "\n",
       "    .dataframe thead th {\n",
       "        text-align: right;\n",
       "    }\n",
       "</style>\n",
       "<table border=\"1\" class=\"dataframe\">\n",
       "  <thead>\n",
       "    <tr style=\"text-align: right;\">\n",
       "      <th></th>\n",
       "      <th>座號</th>\n",
       "      <th>姓名</th>\n",
       "      <th>國文</th>\n",
       "      <th>英文</th>\n",
       "      <th>數學</th>\n",
       "    </tr>\n",
       "  </thead>\n",
       "  <tbody>\n",
       "    <tr>\n",
       "      <th>0</th>\n",
       "      <td>1</td>\n",
       "      <td>劉德華</td>\n",
       "      <td>50</td>\n",
       "      <td>56</td>\n",
       "      <td>65</td>\n",
       "    </tr>\n",
       "    <tr>\n",
       "      <th>1</th>\n",
       "      <td>2</td>\n",
       "      <td>黎明</td>\n",
       "      <td>56</td>\n",
       "      <td>78</td>\n",
       "      <td>78</td>\n",
       "    </tr>\n",
       "    <tr>\n",
       "      <th>2</th>\n",
       "      <td>3</td>\n",
       "      <td>郭富城</td>\n",
       "      <td>78</td>\n",
       "      <td>63</td>\n",
       "      <td>96</td>\n",
       "    </tr>\n",
       "    <tr>\n",
       "      <th>3</th>\n",
       "      <td>4</td>\n",
       "      <td>張學友</td>\n",
       "      <td>96</td>\n",
       "      <td>25</td>\n",
       "      <td>65</td>\n",
       "    </tr>\n",
       "    <tr>\n",
       "      <th>4</th>\n",
       "      <td>5</td>\n",
       "      <td>張惠妹</td>\n",
       "      <td>21</td>\n",
       "      <td>98</td>\n",
       "      <td>45</td>\n",
       "    </tr>\n",
       "    <tr>\n",
       "      <th>5</th>\n",
       "      <td>6</td>\n",
       "      <td>伍百</td>\n",
       "      <td>58</td>\n",
       "      <td>25</td>\n",
       "      <td>25</td>\n",
       "    </tr>\n",
       "    <tr>\n",
       "      <th>6</th>\n",
       "      <td>7</td>\n",
       "      <td>孫燕姿</td>\n",
       "      <td>63</td>\n",
       "      <td>87</td>\n",
       "      <td>81</td>\n",
       "    </tr>\n",
       "  </tbody>\n",
       "</table>\n",
       "</div>"
      ],
      "text/plain": [
       "   座號   姓名  國文  英文  數學\n",
       "0   1  劉德華  50  56  65\n",
       "1   2   黎明  56  78  78\n",
       "2   3  郭富城  78  63  96\n",
       "3   4  張學友  96  25  65\n",
       "4   5  張惠妹  21  98  45\n",
       "5   6   伍百  58  25  25\n",
       "6   7  孫燕姿  63  87  81"
      ]
     },
     "execution_count": 47,
     "metadata": {},
     "output_type": "execute_result"
    }
   ],
   "source": [
    "df = pd.read_excel('scores.xlsx')\n",
    "df"
   ]
  },
  {
   "cell_type": "markdown",
   "id": "VMh8Tx2qKPPY",
   "metadata": {
    "id": "VMh8Tx2qKPPY"
   },
   "source": [
    "#### 以 df.to_excel() 指定活頁簿名稱，資料儲存在指定名稱的活頁簿中。"
   ]
  },
  {
   "cell_type": "code",
   "execution_count": null,
   "id": "8j32Ceb0KPPY",
   "metadata": {
    "id": "8j32Ceb0KPPY"
   },
   "outputs": [],
   "source": [
    "df.to_excel('scores.xlsx', sheet_name = \"學生成績\", index = 0)"
   ]
  },
  {
   "cell_type": "markdown",
   "id": "F_vkRHWwKPPY",
   "metadata": {
    "id": "F_vkRHWwKPPY"
   },
   "source": [
    "![](image\\20210710-10.png)"
   ]
  },
  {
   "cell_type": "markdown",
   "id": "viZ_Gn3YKPPY",
   "metadata": {
    "id": "viZ_Gn3YKPPY"
   },
   "source": [
    "#### 若指定活頁簿名稱 \"學生成績\" 存檔，則 pd.read_excel()  讀取Excel檔案，需指定活頁簿名稱 \"學生成績\"，才能讀取資料內容。"
   ]
  },
  {
   "cell_type": "code",
   "execution_count": null,
   "id": "2VBV6R2BKPPY",
   "metadata": {
    "id": "2VBV6R2BKPPY",
    "outputId": "6b77fe1b-c5ad-4178-ed79-a7370272469a"
   },
   "outputs": [
    {
     "data": {
      "text/html": [
       "<div>\n",
       "<style scoped>\n",
       "    .dataframe tbody tr th:only-of-type {\n",
       "        vertical-align: middle;\n",
       "    }\n",
       "\n",
       "    .dataframe tbody tr th {\n",
       "        vertical-align: top;\n",
       "    }\n",
       "\n",
       "    .dataframe thead th {\n",
       "        text-align: right;\n",
       "    }\n",
       "</style>\n",
       "<table border=\"1\" class=\"dataframe\">\n",
       "  <thead>\n",
       "    <tr style=\"text-align: right;\">\n",
       "      <th></th>\n",
       "      <th>座號</th>\n",
       "      <th>姓名</th>\n",
       "      <th>國文</th>\n",
       "      <th>英文</th>\n",
       "      <th>數學</th>\n",
       "    </tr>\n",
       "  </thead>\n",
       "  <tbody>\n",
       "    <tr>\n",
       "      <th>0</th>\n",
       "      <td>1</td>\n",
       "      <td>劉德華</td>\n",
       "      <td>50</td>\n",
       "      <td>56</td>\n",
       "      <td>65</td>\n",
       "    </tr>\n",
       "    <tr>\n",
       "      <th>1</th>\n",
       "      <td>2</td>\n",
       "      <td>黎明</td>\n",
       "      <td>56</td>\n",
       "      <td>78</td>\n",
       "      <td>78</td>\n",
       "    </tr>\n",
       "    <tr>\n",
       "      <th>2</th>\n",
       "      <td>3</td>\n",
       "      <td>郭富城</td>\n",
       "      <td>78</td>\n",
       "      <td>63</td>\n",
       "      <td>96</td>\n",
       "    </tr>\n",
       "    <tr>\n",
       "      <th>3</th>\n",
       "      <td>4</td>\n",
       "      <td>張學友</td>\n",
       "      <td>96</td>\n",
       "      <td>25</td>\n",
       "      <td>65</td>\n",
       "    </tr>\n",
       "    <tr>\n",
       "      <th>4</th>\n",
       "      <td>5</td>\n",
       "      <td>張惠妹</td>\n",
       "      <td>21</td>\n",
       "      <td>98</td>\n",
       "      <td>45</td>\n",
       "    </tr>\n",
       "    <tr>\n",
       "      <th>5</th>\n",
       "      <td>6</td>\n",
       "      <td>伍百</td>\n",
       "      <td>58</td>\n",
       "      <td>25</td>\n",
       "      <td>25</td>\n",
       "    </tr>\n",
       "    <tr>\n",
       "      <th>6</th>\n",
       "      <td>7</td>\n",
       "      <td>孫燕姿</td>\n",
       "      <td>63</td>\n",
       "      <td>87</td>\n",
       "      <td>81</td>\n",
       "    </tr>\n",
       "  </tbody>\n",
       "</table>\n",
       "</div>"
      ],
      "text/plain": [
       "   座號   姓名  國文  英文  數學\n",
       "0   1  劉德華  50  56  65\n",
       "1   2   黎明  56  78  78\n",
       "2   3  郭富城  78  63  96\n",
       "3   4  張學友  96  25  65\n",
       "4   5  張惠妹  21  98  45\n",
       "5   6   伍百  58  25  25\n",
       "6   7  孫燕姿  63  87  81"
      ]
     },
     "execution_count": 100,
     "metadata": {},
     "output_type": "execute_result"
    }
   ],
   "source": [
    "df = pd.read_excel('scores.xlsx', sheet_name = \"學生成績\")\n",
    "df"
   ]
  },
  {
   "cell_type": "markdown",
   "id": "7pZACnCuKPPY",
   "metadata": {
    "id": "7pZACnCuKPPY"
   },
   "source": [
    "# 9-3 儲存與讀取 SQLite\n",
    "#### 透過 sqlite3 套件，將學生成績寫入 \"student_scores.sqlite\"，透過[ DB Browser for SQLite](https://sqlitebrowser.org/) 進行查看1"
   ]
  },
  {
   "cell_type": "code",
   "execution_count": null,
   "id": "Csb7y9MPKPPY",
   "metadata": {
    "id": "Csb7y9MPKPPY"
   },
   "outputs": [],
   "source": [
    "import sqlite3 as lite\n",
    "\n",
    "with lite.connect(\"student_scores.sqlite\") as db:\n",
    "    df.to_sql(name ='student', con = db, if_exists='replace')"
   ]
  },
  {
   "cell_type": "markdown",
   "id": "2PdI7Pv0KPPY",
   "metadata": {
    "id": "2PdI7Pv0KPPY"
   },
   "source": [
    "#### 查看 \"student_scores.sqlite\" 內  \"student\" 資料表內容。\n",
    "![](image\\20210710-11.png)\n",
    "#### 讀取 \"student_scores.sqlite\" 內  \"student\" 資料表內容。"
   ]
  },
  {
   "cell_type": "code",
   "execution_count": null,
   "id": "h41w6wFcKPPY",
   "metadata": {
    "id": "h41w6wFcKPPY",
    "outputId": "ede45ec1-1728-4fb6-8386-f269af44aa4a"
   },
   "outputs": [
    {
     "data": {
      "text/html": [
       "<div>\n",
       "<style scoped>\n",
       "    .dataframe tbody tr th:only-of-type {\n",
       "        vertical-align: middle;\n",
       "    }\n",
       "\n",
       "    .dataframe tbody tr th {\n",
       "        vertical-align: top;\n",
       "    }\n",
       "\n",
       "    .dataframe thead th {\n",
       "        text-align: right;\n",
       "    }\n",
       "</style>\n",
       "<table border=\"1\" class=\"dataframe\">\n",
       "  <thead>\n",
       "    <tr style=\"text-align: right;\">\n",
       "      <th></th>\n",
       "      <th>座號</th>\n",
       "      <th>姓名</th>\n",
       "      <th>國文</th>\n",
       "      <th>英文</th>\n",
       "      <th>數學</th>\n",
       "    </tr>\n",
       "    <tr>\n",
       "      <th>index</th>\n",
       "      <th></th>\n",
       "      <th></th>\n",
       "      <th></th>\n",
       "      <th></th>\n",
       "      <th></th>\n",
       "    </tr>\n",
       "  </thead>\n",
       "  <tbody>\n",
       "    <tr>\n",
       "      <th>0</th>\n",
       "      <td>1</td>\n",
       "      <td>劉德華</td>\n",
       "      <td>50</td>\n",
       "      <td>56</td>\n",
       "      <td>65</td>\n",
       "    </tr>\n",
       "    <tr>\n",
       "      <th>1</th>\n",
       "      <td>2</td>\n",
       "      <td>黎明</td>\n",
       "      <td>56</td>\n",
       "      <td>78</td>\n",
       "      <td>78</td>\n",
       "    </tr>\n",
       "    <tr>\n",
       "      <th>2</th>\n",
       "      <td>3</td>\n",
       "      <td>郭富城</td>\n",
       "      <td>78</td>\n",
       "      <td>63</td>\n",
       "      <td>96</td>\n",
       "    </tr>\n",
       "    <tr>\n",
       "      <th>3</th>\n",
       "      <td>4</td>\n",
       "      <td>張學友</td>\n",
       "      <td>96</td>\n",
       "      <td>25</td>\n",
       "      <td>65</td>\n",
       "    </tr>\n",
       "    <tr>\n",
       "      <th>4</th>\n",
       "      <td>5</td>\n",
       "      <td>張惠妹</td>\n",
       "      <td>21</td>\n",
       "      <td>98</td>\n",
       "      <td>45</td>\n",
       "    </tr>\n",
       "  </tbody>\n",
       "</table>\n",
       "</div>"
      ],
      "text/plain": [
       "       座號   姓名  國文  英文  數學\n",
       "index                     \n",
       "0       1  劉德華  50  56  65\n",
       "1       2   黎明  56  78  78\n",
       "2       3  郭富城  78  63  96\n",
       "3       4  張學友  96  25  65\n",
       "4       5  張惠妹  21  98  45"
      ]
     },
     "execution_count": 52,
     "metadata": {},
     "output_type": "execute_result"
    }
   ],
   "source": [
    "import sqlite3 as lite\n",
    "with lite.connect('student_scores.sqlite') as db:\n",
    "    df = pd.read_sql_query('SELECT * FROM student;', db, index_col = ['index'])\n",
    "df.head()"
   ]
  },
  {
   "cell_type": "markdown",
   "id": "UAd87SAZKPPY",
   "metadata": {
    "id": "UAd87SAZKPPY"
   },
   "source": [
    "## 9-4 資料型別改變"
   ]
  },
  {
   "cell_type": "code",
   "execution_count": 1,
   "id": "g6_bX-BiKPPY",
   "metadata": {
    "id": "g6_bX-BiKPPY",
    "outputId": "13728b05-1315-48b7-e40f-7f1434ed8fe6"
   },
   "outputs": [
    {
     "name": "stdout",
     "output_type": "stream",
     "text": [
      "<class 'pandas.core.frame.DataFrame'>\n",
      "RangeIndex: 7 entries, 0 to 6\n",
      "Data columns (total 5 columns):\n",
      " #   Column  Non-Null Count  Dtype \n",
      "---  ------  --------------  ----- \n",
      " 0   座號      7 non-null      int64 \n",
      " 1   姓名      7 non-null      object\n",
      " 2   國文      7 non-null      int64 \n",
      " 3   英文      7 non-null      int64 \n",
      " 4   數學      7 non-null      int64 \n",
      "dtypes: int64(4), object(1)\n",
      "memory usage: 408.0+ bytes\n"
     ]
    }
   ],
   "source": [
    "import pandas as pd\n",
    "\n",
    "scores = {'座號':[1, 2, 3 ,4, 5, 6, 7],\n",
    "          '姓名':['劉德華', '黎明', '郭富城', '張學友', '張惠妹', '伍百', '孫燕姿'],\n",
    "          '國文':[50, 56, 78, 96, 21, 58, 63],\n",
    "          '英文':[56, 78, 63, 25, 98, 25, 87],\n",
    "          '數學':[65, 78, 96, 65, 45, 25, 81]          \n",
    "}\n",
    "df = pd.DataFrame(scores)\n",
    "df.info()"
   ]
  },
  {
   "cell_type": "code",
   "execution_count": 2,
   "id": "_s259p2cKPPY",
   "metadata": {
    "id": "_s259p2cKPPY",
    "outputId": "0d739587-8ef5-4343-deb7-36b797e4d123"
   },
   "outputs": [
    {
     "data": {
      "text/plain": [
       "(Index    128\n",
       " 座號        56\n",
       " 姓名        56\n",
       " 國文        56\n",
       " 英文        56\n",
       " 數學        56\n",
       " dtype: int64,\n",
       " Index    128\n",
       " 座號        56\n",
       " 姓名       612\n",
       " 國文        56\n",
       " 英文        56\n",
       " 數學        56\n",
       " dtype: int64)"
      ]
     },
     "execution_count": 2,
     "metadata": {},
     "output_type": "execute_result"
    }
   ],
   "source": [
    "df.memory_usage(), df.memory_usage(deep=True)"
   ]
  },
  {
   "cell_type": "code",
   "execution_count": 3,
   "id": "268cef5d",
   "metadata": {},
   "outputs": [
    {
     "data": {
      "text/plain": [
       "(408, 964)"
      ]
     },
     "execution_count": 3,
     "metadata": {},
     "output_type": "execute_result"
    }
   ],
   "source": [
    "df.memory_usage().sum() , df.memory_usage(deep=True).sum()"
   ]
  },
  {
   "cell_type": "markdown",
   "id": "7nnG6gjVKPPZ",
   "metadata": {
    "id": "7nnG6gjVKPPZ"
   },
   "source": [
    "### Python資料型別的範圍\n",
    "|資料型別|範圍|\n",
    "|-|-|\n",
    "|uint8|0 to 255|\n",
    "|uint16|0 to 65535|\n",
    "|uint32|0 to 232|\n",
    "|float|-1 to 1 or 0 to 1|\n",
    "|int8|-128 to 127|\n",
    "|int16|-32768 to 32767|\n",
    "|int32|-231 to 231 - 1|"
   ]
  },
  {
   "cell_type": "code",
   "execution_count": null,
   "id": "sqchBDsyKPPZ",
   "metadata": {
    "id": "sqchBDsyKPPZ",
    "outputId": "deb041b1-af93-491f-c3db-f98a4c5a5fe4"
   },
   "outputs": [
    {
     "name": "stdout",
     "output_type": "stream",
     "text": [
      "<class 'pandas.core.frame.DataFrame'>\n",
      "RangeIndex: 7 entries, 0 to 6\n",
      "Data columns (total 5 columns):\n",
      " #   Column  Non-Null Count  Dtype \n",
      "---  ------  --------------  ----- \n",
      " 0   座號      7 non-null      int8  \n",
      " 1   姓名      7 non-null      object\n",
      " 2   國文      7 non-null      int8  \n",
      " 3   英文      7 non-null      int64 \n",
      " 4   數學      7 non-null      int64 \n",
      "dtypes: int64(2), int8(2), object(1)\n",
      "memory usage: 310.0+ bytes\n"
     ]
    }
   ],
   "source": [
    "df['國文'] = df['國文'].astype('int8')\n",
    "df.info()"
   ]
  },
  {
   "cell_type": "code",
   "execution_count": 15,
   "id": "74a3a6c8",
   "metadata": {},
   "outputs": [
    {
     "data": {
      "text/plain": [
       "768"
      ]
     },
     "execution_count": 15,
     "metadata": {},
     "output_type": "execute_result"
    }
   ],
   "source": [
    "df.astype({'座號':'int8', \n",
    "           '國文':'int8',\n",
    "           '英文':'int8',\n",
    "           '數學':'int8'}).memory_usage(deep=True).sum()"
   ]
  },
  {
   "cell_type": "code",
   "execution_count": 16,
   "id": "ed2e8507",
   "metadata": {},
   "outputs": [
    {
     "data": {
      "text/plain": [
       "2291"
      ]
     },
     "execution_count": 16,
     "metadata": {},
     "output_type": "execute_result"
    }
   ],
   "source": [
    "df.astype('category').memory_usage(deep=True).sum()"
   ]
  },
  {
   "cell_type": "markdown",
   "id": "YvU0u4t3KPPZ",
   "metadata": {
    "id": "YvU0u4t3KPPZ"
   },
   "source": [
    "### Numpy資料型別的範圍\n",
    "|資料型別|類型代碼|範圍|\n",
    "|-|-|-|\n",
    "|bool_|?|一個位元組的布林值（真或假）|\n",
    "|string_|S|'S10'表示生成一個長度爲10個位元組串型別|\n",
    "|object|O|Python object型別|\n",
    "|unicode_或str|U|'U10'生成一個長度爲10的unicode字串型別|\n",
    "|inti|-|整數，大小由平臺決定|\n",
    "|int8|i1|整數，大小為一個位元組，範圍：-128 ~ 127 = -2^7 ~ 2^7-1|\n",
    "|int16|i2|整數，大小為二個位元組，範圍：-32768 ~ 32767 = -2^15 ~ 2^15-1 |\n",
    "|int32|i4|整數，大小為四個位元組，範圍：-2147483648 ~ 2147483647 = -2^31 ~ 2^31-1 |\n",
    "|int64|i8|整數，大小為八個位元組，範圍：-9,223,372,036,854,775,808 ~ 9,223,372,036,854,775,807 = -2^63 ~ 2^36-1 |\n",
    "|uint8|u1|不帶正負號的整數，大小為一個位元組，範圍：0 ~ 255|\n",
    "|uint16|u2|不帶正負號的整數，大小為二個位元組，範圍：0 ~ 2^16-1(65535)|\n",
    "|uint32|u4|不帶正負號的整數，大小為四個位元組，範圍：0 ~ 2^32-1|\n",
    "|uint64|u8|不帶正負號的整數，大小為八個位元組，範圍：0 ~ 2^64-1|\n",
    "|float16|f2|半精度浮點數：大小為二個位元組，16位bit，正負號1位，指數5位，精度10位|\n",
    "|float32|f4或f|單精確度浮點數：大小為四個位元組，32位bit，正負號1位，指數8位，精度32位|\n",
    "|float64 / float|f8或d|雙精度浮點數：大小為八個位元組，64位bit，正負號1位，指數11位，精度52位|\n",
    "|float128|f16或g|擴展精準度|\n",
    "|complex64|c8|複數，分別用於兩個32位bit浮點數表示實部和虛部|\n",
    "|complex128 / complex|c16|複數，分別用兩個64位bit浮點數表示實部和虛部|\n",
    "|complex256 / complex|c32|複數，分別用兩個128位bit浮點數表示實部和虛部|"
   ]
  },
  {
   "cell_type": "code",
   "execution_count": 4,
   "id": "yyzOSthHKPPZ",
   "metadata": {
    "id": "yyzOSthHKPPZ",
    "outputId": "f2b0a7db-e9b1-4382-c037-54ed7dd8ed31"
   },
   "outputs": [
    {
     "name": "stdout",
     "output_type": "stream",
     "text": [
      "<class 'pandas.core.frame.DataFrame'>\n",
      "RangeIndex: 7 entries, 0 to 6\n",
      "Data columns (total 6 columns):\n",
      " #   Column      Non-Null Count  Dtype \n",
      "---  ------      --------------  ----- \n",
      " 0   Unnamed: 0  7 non-null      int64 \n",
      " 1   座號          7 non-null      int8  \n",
      " 2   姓名          7 non-null      object\n",
      " 3   國文          7 non-null      int64 \n",
      " 4   英文          7 non-null      int64 \n",
      " 5   數學          7 non-null      int64 \n",
      "dtypes: int64(4), int8(1), object(1)\n",
      "memory usage: 415.0+ bytes\n"
     ]
    }
   ],
   "source": [
    "import numpy as np\n",
    "df = pd.read_csv('scores.csv', encoding = 'big5', dtype= {'座號':np.int8})\n",
    "df.info()"
   ]
  },
  {
   "cell_type": "markdown",
   "id": "NhZ5T7I1KPPZ",
   "metadata": {
    "id": "NhZ5T7I1KPPZ"
   },
   "source": [
    "# 9-5 字串轉數值"
   ]
  },
  {
   "cell_type": "code",
   "execution_count": null,
   "id": "nC7hhpIcKPPZ",
   "metadata": {
    "id": "nC7hhpIcKPPZ",
    "outputId": "dc5acd86-aaaf-4da0-ed81-0cf90885a7ac"
   },
   "outputs": [
    {
     "name": "stdout",
     "output_type": "stream",
     "text": [
      "<class 'pandas.core.frame.DataFrame'>\n",
      "RangeIndex: 7 entries, 0 to 6\n",
      "Data columns (total 5 columns):\n",
      " #   Column  Non-Null Count  Dtype \n",
      "---  ------  --------------  ----- \n",
      " 0   座號      7 non-null      object\n",
      " 1   姓名      7 non-null      object\n",
      " 2   國文      7 non-null      object\n",
      " 3   英文      7 non-null      object\n",
      " 4   數學      7 non-null      object\n",
      "dtypes: object(5)\n",
      "memory usage: 408.0+ bytes\n"
     ]
    }
   ],
   "source": [
    "import pandas as pd\n",
    "\n",
    "scores = {'座號':[1, 2, 3 ,4, 5, 6, 7],\n",
    "          '姓名':['劉德華', '黎明', '郭富城', '張學友', '張惠妹', '伍百', '孫燕姿'],\n",
    "          '國文':[50, 56, 78, 96, 21, 58, 63],\n",
    "          '英文':[56, 78, 63, 25, 98, 25, 87],\n",
    "          '數學':[65, 78, 96, 65, 45, 25, 81]          \n",
    "}\n",
    "df = pd.DataFrame(scores, dtype = object)\n",
    "df.info()"
   ]
  },
  {
   "cell_type": "code",
   "execution_count": null,
   "id": "hl-i0l-DKPPZ",
   "metadata": {
    "id": "hl-i0l-DKPPZ",
    "outputId": "2415e7f1-7044-4149-9824-57981333a424"
   },
   "outputs": [
    {
     "name": "stdout",
     "output_type": "stream",
     "text": [
      "<class 'pandas.core.frame.DataFrame'>\n",
      "RangeIndex: 7 entries, 0 to 6\n",
      "Data columns (total 5 columns):\n",
      " #   Column  Non-Null Count  Dtype \n",
      "---  ------  --------------  ----- \n",
      " 0   座號      7 non-null      int64 \n",
      " 1   姓名      7 non-null      object\n",
      " 2   國文      7 non-null      object\n",
      " 3   英文      7 non-null      object\n",
      " 4   數學      7 non-null      object\n",
      "dtypes: int64(1), object(4)\n",
      "memory usage: 408.0+ bytes\n"
     ]
    }
   ],
   "source": [
    "df['座號'] = df['座號'].apply(lambda x:int(x))\n",
    "df.info()"
   ]
  },
  {
   "cell_type": "code",
   "execution_count": null,
   "id": "a_kEfwhVKPPZ",
   "metadata": {
    "id": "a_kEfwhVKPPZ",
    "outputId": "8a077b21-ea0e-4f79-88a3-d039224165c1"
   },
   "outputs": [
    {
     "name": "stdout",
     "output_type": "stream",
     "text": [
      "<class 'pandas.core.frame.DataFrame'>\n",
      "RangeIndex: 7 entries, 0 to 6\n",
      "Data columns (total 5 columns):\n",
      " #   Column  Non-Null Count  Dtype \n",
      "---  ------  --------------  ----- \n",
      " 0   座號      7 non-null      int8  \n",
      " 1   姓名      7 non-null      object\n",
      " 2   國文      7 non-null      object\n",
      " 3   英文      7 non-null      object\n",
      " 4   數學      7 non-null      object\n",
      "dtypes: int8(1), object(4)\n",
      "memory usage: 359.0+ bytes\n"
     ]
    }
   ],
   "source": [
    "df['座號'] = df['座號'].astype('int8')\n",
    "df.info()"
   ]
  },
  {
   "cell_type": "markdown",
   "id": "DsNo0MvWKPPZ",
   "metadata": {
    "id": "DsNo0MvWKPPZ"
   },
   "source": [
    "####  pandas.to_numeric(arg, errors='raise', downcast=None)\n",
    "* **arg** ： scalar(標量)，list(列表)，\n",
    "    * (tuple)元組，一維陣列(1-d array)或Series\n",
    "\n",
    "* **errors**：三種取值，'ignore', 'raise', 'coerce'，預設為raise。\n",
    "    * 'raise'，則無效的解析將引發異常\n",
    "    * 'coerce'，那麼無效解析將被設置為NaT\n",
    "    * 'ignore'，那麼無效的解析將回傳輸入值\n",
    "* **downcast** ： {'integer'，'signed'，'unsigned'，'float'}，\n",
    "    * 預設為None，如果不是None（無），並且資料已成功轉換為數位dtype（或者資料是從數位開始的），則根據以下規則將結果資料轉換為可能的最小數位dtype：\n",
    "       * integer 或 signed：最小的有符號int dtype（最小值：np.int8）\n",
    "       * unsigned：最小的無符號int dtype（最小值：np.uint8）\n",
    "       * float：最小的float dtype（最小值：np.float32）"
   ]
  },
  {
   "cell_type": "code",
   "execution_count": null,
   "id": "ozpwKnNRKPPZ",
   "metadata": {
    "id": "ozpwKnNRKPPZ",
    "outputId": "daa74e62-b155-42f1-a643-b73feab0dd30"
   },
   "outputs": [
    {
     "name": "stdout",
     "output_type": "stream",
     "text": [
      "<class 'pandas.core.frame.DataFrame'>\n",
      "RangeIndex: 7 entries, 0 to 6\n",
      "Data columns (total 5 columns):\n",
      " #   Column  Non-Null Count  Dtype \n",
      "---  ------  --------------  ----- \n",
      " 0   座號      7 non-null      int64 \n",
      " 1   姓名      7 non-null      object\n",
      " 2   國文      7 non-null      object\n",
      " 3   英文      7 non-null      object\n",
      " 4   數學      7 non-null      object\n",
      "dtypes: int64(1), object(4)\n",
      "memory usage: 408.0+ bytes\n"
     ]
    }
   ],
   "source": [
    "df['座號'] = pd.to_numeric(df['座號'])\n",
    "df.info()"
   ]
  },
  {
   "cell_type": "code",
   "execution_count": null,
   "id": "ZlgYsoIkKPPZ",
   "metadata": {
    "id": "ZlgYsoIkKPPZ",
    "outputId": "76ed2cc6-f633-47e1-bd0c-488885fb5151"
   },
   "outputs": [
    {
     "data": {
      "text/html": [
       "<div>\n",
       "<style scoped>\n",
       "    .dataframe tbody tr th:only-of-type {\n",
       "        vertical-align: middle;\n",
       "    }\n",
       "\n",
       "    .dataframe tbody tr th {\n",
       "        vertical-align: top;\n",
       "    }\n",
       "\n",
       "    .dataframe thead th {\n",
       "        text-align: right;\n",
       "    }\n",
       "</style>\n",
       "<table border=\"1\" class=\"dataframe\">\n",
       "  <thead>\n",
       "    <tr style=\"text-align: right;\">\n",
       "      <th></th>\n",
       "      <th>座號</th>\n",
       "      <th>姓名</th>\n",
       "      <th>國文</th>\n",
       "      <th>英文</th>\n",
       "      <th>數學</th>\n",
       "    </tr>\n",
       "  </thead>\n",
       "  <tbody>\n",
       "    <tr>\n",
       "      <th>0</th>\n",
       "      <td>1</td>\n",
       "      <td>劉德華</td>\n",
       "      <td>50</td>\n",
       "      <td>56</td>\n",
       "      <td>65</td>\n",
       "    </tr>\n",
       "    <tr>\n",
       "      <th>1</th>\n",
       "      <td>2</td>\n",
       "      <td>黎明</td>\n",
       "      <td>56</td>\n",
       "      <td>78</td>\n",
       "      <td>78</td>\n",
       "    </tr>\n",
       "    <tr>\n",
       "      <th>2</th>\n",
       "      <td>3</td>\n",
       "      <td>郭富城</td>\n",
       "      <td>78</td>\n",
       "      <td>63</td>\n",
       "      <td>96</td>\n",
       "    </tr>\n",
       "    <tr>\n",
       "      <th>3</th>\n",
       "      <td>4</td>\n",
       "      <td>張學友</td>\n",
       "      <td>96</td>\n",
       "      <td>25</td>\n",
       "      <td>65</td>\n",
       "    </tr>\n",
       "    <tr>\n",
       "      <th>4</th>\n",
       "      <td>5</td>\n",
       "      <td>張惠妹</td>\n",
       "      <td>21</td>\n",
       "      <td>98</td>\n",
       "      <td>45</td>\n",
       "    </tr>\n",
       "    <tr>\n",
       "      <th>5</th>\n",
       "      <td>6</td>\n",
       "      <td>伍百</td>\n",
       "      <td>58</td>\n",
       "      <td>25</td>\n",
       "      <td>25</td>\n",
       "    </tr>\n",
       "    <tr>\n",
       "      <th>6</th>\n",
       "      <td>7</td>\n",
       "      <td>孫燕姿</td>\n",
       "      <td>63</td>\n",
       "      <td>87</td>\n",
       "      <td>81</td>\n",
       "    </tr>\n",
       "  </tbody>\n",
       "</table>\n",
       "</div>"
      ],
      "text/plain": [
       "   座號   姓名  國文  英文  數學\n",
       "0   1  劉德華  50  56  65\n",
       "1   2   黎明  56  78  78\n",
       "2   3  郭富城  78  63  96\n",
       "3   4  張學友  96  25  65\n",
       "4   5  張惠妹  21  98  45\n",
       "5   6   伍百  58  25  25\n",
       "6   7  孫燕姿  63  87  81"
      ]
     },
     "execution_count": 93,
     "metadata": {},
     "output_type": "execute_result"
    }
   ],
   "source": [
    "df = df.apply(pd.to_numeric, errors = 'ignore')\n",
    "df"
   ]
  },
  {
   "cell_type": "markdown",
   "id": "oRuT7_SYyFXg",
   "metadata": {
    "id": "oRuT7_SYyFXg"
   },
   "source": [
    "# 10. 合併 concat\n",
    "# 10-1 DataFrame垂直合併\n",
    "- 不同索引"
   ]
  },
  {
   "cell_type": "code",
   "execution_count": 10,
   "id": "5928b971",
   "metadata": {},
   "outputs": [
    {
     "data": {
      "text/html": [
       "<div>\n",
       "<style scoped>\n",
       "    .dataframe tbody tr th:only-of-type {\n",
       "        vertical-align: middle;\n",
       "    }\n",
       "\n",
       "    .dataframe tbody tr th {\n",
       "        vertical-align: top;\n",
       "    }\n",
       "\n",
       "    .dataframe thead th {\n",
       "        text-align: right;\n",
       "    }\n",
       "</style>\n",
       "<table border=\"1\" class=\"dataframe\">\n",
       "  <thead>\n",
       "    <tr style=\"text-align: right;\">\n",
       "      <th></th>\n",
       "      <th>0</th>\n",
       "      <th>1</th>\n",
       "      <th>2</th>\n",
       "      <th>3</th>\n",
       "      <th>4</th>\n",
       "      <th>5</th>\n",
       "    </tr>\n",
       "  </thead>\n",
       "  <tbody>\n",
       "    <tr>\n",
       "      <th>0</th>\n",
       "      <td>890</td>\n",
       "      <td>549</td>\n",
       "      <td>195</td>\n",
       "      <td>591</td>\n",
       "      <td>657</td>\n",
       "      <td>257</td>\n",
       "    </tr>\n",
       "    <tr>\n",
       "      <th>1</th>\n",
       "      <td>254</td>\n",
       "      <td>682</td>\n",
       "      <td>843</td>\n",
       "      <td>135</td>\n",
       "      <td>660</td>\n",
       "      <td>711</td>\n",
       "    </tr>\n",
       "    <tr>\n",
       "      <th>2</th>\n",
       "      <td>937</td>\n",
       "      <td>593</td>\n",
       "      <td>154</td>\n",
       "      <td>832</td>\n",
       "      <td>667</td>\n",
       "      <td>949</td>\n",
       "    </tr>\n",
       "    <tr>\n",
       "      <th>3</th>\n",
       "      <td>446</td>\n",
       "      <td>65</td>\n",
       "      <td>777</td>\n",
       "      <td>886</td>\n",
       "      <td>996</td>\n",
       "      <td>490</td>\n",
       "    </tr>\n",
       "    <tr>\n",
       "      <th>4</th>\n",
       "      <td>450</td>\n",
       "      <td>165</td>\n",
       "      <td>665</td>\n",
       "      <td>807</td>\n",
       "      <td>91</td>\n",
       "      <td>46</td>\n",
       "    </tr>\n",
       "    <tr>\n",
       "      <th>5</th>\n",
       "      <td>516</td>\n",
       "      <td>564</td>\n",
       "      <td>784</td>\n",
       "      <td>584</td>\n",
       "      <td>441</td>\n",
       "      <td>522</td>\n",
       "    </tr>\n",
       "    <tr>\n",
       "      <th>6</th>\n",
       "      <td>408</td>\n",
       "      <td>834</td>\n",
       "      <td>581</td>\n",
       "      <td>329</td>\n",
       "      <td>762</td>\n",
       "      <td>931</td>\n",
       "    </tr>\n",
       "    <tr>\n",
       "      <th>7</th>\n",
       "      <td>96</td>\n",
       "      <td>60</td>\n",
       "      <td>436</td>\n",
       "      <td>247</td>\n",
       "      <td>941</td>\n",
       "      <td>125</td>\n",
       "    </tr>\n",
       "    <tr>\n",
       "      <th>8</th>\n",
       "      <td>433</td>\n",
       "      <td>816</td>\n",
       "      <td>197</td>\n",
       "      <td>693</td>\n",
       "      <td>998</td>\n",
       "      <td>636</td>\n",
       "    </tr>\n",
       "    <tr>\n",
       "      <th>9</th>\n",
       "      <td>976</td>\n",
       "      <td>857</td>\n",
       "      <td>214</td>\n",
       "      <td>288</td>\n",
       "      <td>220</td>\n",
       "      <td>707</td>\n",
       "    </tr>\n",
       "    <tr>\n",
       "      <th>10</th>\n",
       "      <td>965</td>\n",
       "      <td>169</td>\n",
       "      <td>863</td>\n",
       "      <td>482</td>\n",
       "      <td>525</td>\n",
       "      <td>67</td>\n",
       "    </tr>\n",
       "    <tr>\n",
       "      <th>11</th>\n",
       "      <td>175</td>\n",
       "      <td>772</td>\n",
       "      <td>337</td>\n",
       "      <td>197</td>\n",
       "      <td>641</td>\n",
       "      <td>670</td>\n",
       "    </tr>\n",
       "    <tr>\n",
       "      <th>12</th>\n",
       "      <td>781</td>\n",
       "      <td>888</td>\n",
       "      <td>118</td>\n",
       "      <td>91</td>\n",
       "      <td>82</td>\n",
       "      <td>791</td>\n",
       "    </tr>\n",
       "    <tr>\n",
       "      <th>13</th>\n",
       "      <td>855</td>\n",
       "      <td>255</td>\n",
       "      <td>944</td>\n",
       "      <td>624</td>\n",
       "      <td>107</td>\n",
       "      <td>504</td>\n",
       "    </tr>\n",
       "    <tr>\n",
       "      <th>14</th>\n",
       "      <td>482</td>\n",
       "      <td>277</td>\n",
       "      <td>65</td>\n",
       "      <td>215</td>\n",
       "      <td>406</td>\n",
       "      <td>403</td>\n",
       "    </tr>\n",
       "    <tr>\n",
       "      <th>15</th>\n",
       "      <td>638</td>\n",
       "      <td>28</td>\n",
       "      <td>7</td>\n",
       "      <td>799</td>\n",
       "      <td>199</td>\n",
       "      <td>343</td>\n",
       "    </tr>\n",
       "    <tr>\n",
       "      <th>16</th>\n",
       "      <td>378</td>\n",
       "      <td>916</td>\n",
       "      <td>582</td>\n",
       "      <td>532</td>\n",
       "      <td>344</td>\n",
       "      <td>405</td>\n",
       "    </tr>\n",
       "    <tr>\n",
       "      <th>17</th>\n",
       "      <td>311</td>\n",
       "      <td>186</td>\n",
       "      <td>682</td>\n",
       "      <td>739</td>\n",
       "      <td>262</td>\n",
       "      <td>207</td>\n",
       "    </tr>\n",
       "    <tr>\n",
       "      <th>18</th>\n",
       "      <td>326</td>\n",
       "      <td>711</td>\n",
       "      <td>27</td>\n",
       "      <td>163</td>\n",
       "      <td>376</td>\n",
       "      <td>564</td>\n",
       "    </tr>\n",
       "    <tr>\n",
       "      <th>19</th>\n",
       "      <td>438</td>\n",
       "      <td>857</td>\n",
       "      <td>278</td>\n",
       "      <td>104</td>\n",
       "      <td>54</td>\n",
       "      <td>520</td>\n",
       "    </tr>\n",
       "    <tr>\n",
       "      <th>20</th>\n",
       "      <td>948</td>\n",
       "      <td>621</td>\n",
       "      <td>748</td>\n",
       "      <td>720</td>\n",
       "      <td>70</td>\n",
       "      <td>304</td>\n",
       "    </tr>\n",
       "    <tr>\n",
       "      <th>21</th>\n",
       "      <td>111</td>\n",
       "      <td>728</td>\n",
       "      <td>804</td>\n",
       "      <td>629</td>\n",
       "      <td>31</td>\n",
       "      <td>445</td>\n",
       "    </tr>\n",
       "    <tr>\n",
       "      <th>22</th>\n",
       "      <td>844</td>\n",
       "      <td>656</td>\n",
       "      <td>360</td>\n",
       "      <td>369</td>\n",
       "      <td>785</td>\n",
       "      <td>58</td>\n",
       "    </tr>\n",
       "    <tr>\n",
       "      <th>23</th>\n",
       "      <td>407</td>\n",
       "      <td>216</td>\n",
       "      <td>487</td>\n",
       "      <td>742</td>\n",
       "      <td>355</td>\n",
       "      <td>997</td>\n",
       "    </tr>\n",
       "    <tr>\n",
       "      <th>24</th>\n",
       "      <td>790</td>\n",
       "      <td>955</td>\n",
       "      <td>894</td>\n",
       "      <td>182</td>\n",
       "      <td>172</td>\n",
       "      <td>2</td>\n",
       "    </tr>\n",
       "    <tr>\n",
       "      <th>25</th>\n",
       "      <td>157</td>\n",
       "      <td>452</td>\n",
       "      <td>891</td>\n",
       "      <td>886</td>\n",
       "      <td>398</td>\n",
       "      <td>268</td>\n",
       "    </tr>\n",
       "    <tr>\n",
       "      <th>26</th>\n",
       "      <td>374</td>\n",
       "      <td>927</td>\n",
       "      <td>952</td>\n",
       "      <td>901</td>\n",
       "      <td>239</td>\n",
       "      <td>979</td>\n",
       "    </tr>\n",
       "    <tr>\n",
       "      <th>27</th>\n",
       "      <td>587</td>\n",
       "      <td>505</td>\n",
       "      <td>298</td>\n",
       "      <td>559</td>\n",
       "      <td>874</td>\n",
       "      <td>480</td>\n",
       "    </tr>\n",
       "    <tr>\n",
       "      <th>28</th>\n",
       "      <td>384</td>\n",
       "      <td>953</td>\n",
       "      <td>240</td>\n",
       "      <td>594</td>\n",
       "      <td>212</td>\n",
       "      <td>259</td>\n",
       "    </tr>\n",
       "    <tr>\n",
       "      <th>29</th>\n",
       "      <td>465</td>\n",
       "      <td>179</td>\n",
       "      <td>608</td>\n",
       "      <td>516</td>\n",
       "      <td>903</td>\n",
       "      <td>897</td>\n",
       "    </tr>\n",
       "    <tr>\n",
       "      <th>30</th>\n",
       "      <td>855</td>\n",
       "      <td>429</td>\n",
       "      <td>472</td>\n",
       "      <td>306</td>\n",
       "      <td>693</td>\n",
       "      <td>931</td>\n",
       "    </tr>\n",
       "    <tr>\n",
       "      <th>31</th>\n",
       "      <td>288</td>\n",
       "      <td>234</td>\n",
       "      <td>147</td>\n",
       "      <td>773</td>\n",
       "      <td>991</td>\n",
       "      <td>661</td>\n",
       "    </tr>\n",
       "    <tr>\n",
       "      <th>32</th>\n",
       "      <td>276</td>\n",
       "      <td>226</td>\n",
       "      <td>690</td>\n",
       "      <td>485</td>\n",
       "      <td>286</td>\n",
       "      <td>121</td>\n",
       "    </tr>\n",
       "    <tr>\n",
       "      <th>33</th>\n",
       "      <td>198</td>\n",
       "      <td>259</td>\n",
       "      <td>457</td>\n",
       "      <td>586</td>\n",
       "      <td>848</td>\n",
       "      <td>640</td>\n",
       "    </tr>\n",
       "    <tr>\n",
       "      <th>34</th>\n",
       "      <td>703</td>\n",
       "      <td>421</td>\n",
       "      <td>72</td>\n",
       "      <td>96</td>\n",
       "      <td>959</td>\n",
       "      <td>140</td>\n",
       "    </tr>\n",
       "    <tr>\n",
       "      <th>35</th>\n",
       "      <td>218</td>\n",
       "      <td>619</td>\n",
       "      <td>384</td>\n",
       "      <td>808</td>\n",
       "      <td>875</td>\n",
       "      <td>429</td>\n",
       "    </tr>\n",
       "    <tr>\n",
       "      <th>36</th>\n",
       "      <td>803</td>\n",
       "      <td>900</td>\n",
       "      <td>486</td>\n",
       "      <td>164</td>\n",
       "      <td>658</td>\n",
       "      <td>297</td>\n",
       "    </tr>\n",
       "    <tr>\n",
       "      <th>37</th>\n",
       "      <td>347</td>\n",
       "      <td>504</td>\n",
       "      <td>91</td>\n",
       "      <td>176</td>\n",
       "      <td>768</td>\n",
       "      <td>725</td>\n",
       "    </tr>\n",
       "    <tr>\n",
       "      <th>38</th>\n",
       "      <td>356</td>\n",
       "      <td>57</td>\n",
       "      <td>898</td>\n",
       "      <td>855</td>\n",
       "      <td>795</td>\n",
       "      <td>436</td>\n",
       "    </tr>\n",
       "    <tr>\n",
       "      <th>39</th>\n",
       "      <td>766</td>\n",
       "      <td>722</td>\n",
       "      <td>198</td>\n",
       "      <td>270</td>\n",
       "      <td>487</td>\n",
       "      <td>127</td>\n",
       "    </tr>\n",
       "    <tr>\n",
       "      <th>40</th>\n",
       "      <td>982</td>\n",
       "      <td>694</td>\n",
       "      <td>683</td>\n",
       "      <td>279</td>\n",
       "      <td>278</td>\n",
       "      <td>147</td>\n",
       "    </tr>\n",
       "    <tr>\n",
       "      <th>41</th>\n",
       "      <td>693</td>\n",
       "      <td>75</td>\n",
       "      <td>438</td>\n",
       "      <td>178</td>\n",
       "      <td>138</td>\n",
       "      <td>636</td>\n",
       "    </tr>\n",
       "    <tr>\n",
       "      <th>42</th>\n",
       "      <td>697</td>\n",
       "      <td>551</td>\n",
       "      <td>103</td>\n",
       "      <td>494</td>\n",
       "      <td>32</td>\n",
       "      <td>959</td>\n",
       "    </tr>\n",
       "    <tr>\n",
       "      <th>43</th>\n",
       "      <td>51</td>\n",
       "      <td>888</td>\n",
       "      <td>42</td>\n",
       "      <td>211</td>\n",
       "      <td>161</td>\n",
       "      <td>839</td>\n",
       "    </tr>\n",
       "    <tr>\n",
       "      <th>44</th>\n",
       "      <td>779</td>\n",
       "      <td>791</td>\n",
       "      <td>308</td>\n",
       "      <td>610</td>\n",
       "      <td>9</td>\n",
       "      <td>458</td>\n",
       "    </tr>\n",
       "    <tr>\n",
       "      <th>45</th>\n",
       "      <td>639</td>\n",
       "      <td>651</td>\n",
       "      <td>819</td>\n",
       "      <td>953</td>\n",
       "      <td>98</td>\n",
       "      <td>788</td>\n",
       "    </tr>\n",
       "    <tr>\n",
       "      <th>46</th>\n",
       "      <td>564</td>\n",
       "      <td>230</td>\n",
       "      <td>881</td>\n",
       "      <td>928</td>\n",
       "      <td>344</td>\n",
       "      <td>397</td>\n",
       "    </tr>\n",
       "    <tr>\n",
       "      <th>47</th>\n",
       "      <td>998</td>\n",
       "      <td>617</td>\n",
       "      <td>421</td>\n",
       "      <td>237</td>\n",
       "      <td>193</td>\n",
       "      <td>378</td>\n",
       "    </tr>\n",
       "    <tr>\n",
       "      <th>48</th>\n",
       "      <td>131</td>\n",
       "      <td>44</td>\n",
       "      <td>781</td>\n",
       "      <td>856</td>\n",
       "      <td>761</td>\n",
       "      <td>36</td>\n",
       "    </tr>\n",
       "    <tr>\n",
       "      <th>49</th>\n",
       "      <td>560</td>\n",
       "      <td>165</td>\n",
       "      <td>54</td>\n",
       "      <td>673</td>\n",
       "      <td>77</td>\n",
       "      <td>607</td>\n",
       "    </tr>\n",
       "  </tbody>\n",
       "</table>\n",
       "</div>"
      ],
      "text/plain": [
       "      0    1    2    3    4    5\n",
       "0   890  549  195  591  657  257\n",
       "1   254  682  843  135  660  711\n",
       "2   937  593  154  832  667  949\n",
       "3   446   65  777  886  996  490\n",
       "4   450  165  665  807   91   46\n",
       "5   516  564  784  584  441  522\n",
       "6   408  834  581  329  762  931\n",
       "7    96   60  436  247  941  125\n",
       "8   433  816  197  693  998  636\n",
       "9   976  857  214  288  220  707\n",
       "10  965  169  863  482  525   67\n",
       "11  175  772  337  197  641  670\n",
       "12  781  888  118   91   82  791\n",
       "13  855  255  944  624  107  504\n",
       "14  482  277   65  215  406  403\n",
       "15  638   28    7  799  199  343\n",
       "16  378  916  582  532  344  405\n",
       "17  311  186  682  739  262  207\n",
       "18  326  711   27  163  376  564\n",
       "19  438  857  278  104   54  520\n",
       "20  948  621  748  720   70  304\n",
       "21  111  728  804  629   31  445\n",
       "22  844  656  360  369  785   58\n",
       "23  407  216  487  742  355  997\n",
       "24  790  955  894  182  172    2\n",
       "25  157  452  891  886  398  268\n",
       "26  374  927  952  901  239  979\n",
       "27  587  505  298  559  874  480\n",
       "28  384  953  240  594  212  259\n",
       "29  465  179  608  516  903  897\n",
       "30  855  429  472  306  693  931\n",
       "31  288  234  147  773  991  661\n",
       "32  276  226  690  485  286  121\n",
       "33  198  259  457  586  848  640\n",
       "34  703  421   72   96  959  140\n",
       "35  218  619  384  808  875  429\n",
       "36  803  900  486  164  658  297\n",
       "37  347  504   91  176  768  725\n",
       "38  356   57  898  855  795  436\n",
       "39  766  722  198  270  487  127\n",
       "40  982  694  683  279  278  147\n",
       "41  693   75  438  178  138  636\n",
       "42  697  551  103  494   32  959\n",
       "43   51  888   42  211  161  839\n",
       "44  779  791  308  610    9  458\n",
       "45  639  651  819  953   98  788\n",
       "46  564  230  881  928  344  397\n",
       "47  998  617  421  237  193  378\n",
       "48  131   44  781  856  761   36\n",
       "49  560  165   54  673   77  607"
      ]
     },
     "execution_count": 10,
     "metadata": {},
     "output_type": "execute_result"
    }
   ],
   "source": [
    "import numpy as np\n",
    "import pandas as pd\n",
    "\n",
    "l = []\n",
    "for _ in range(10):\n",
    "    a = np.random.randint(1000,size = (5,6))\n",
    "    l.append(pd.DataFrame(a))\n",
    "df = pd.concat(l,ignore_index = True)\n",
    "df #concat可以水平、垂直合併，merge只能水平合併"
   ]
  },
  {
   "cell_type": "code",
   "execution_count": null,
   "id": "XebjaOZ3yFXh",
   "metadata": {
    "id": "XebjaOZ3yFXh",
    "outputId": "475a4b58-6562-46ce-c8be-84ce78fbd343"
   },
   "outputs": [
    {
     "data": {
      "text/html": [
       "<div>\n",
       "<style scoped>\n",
       "    .dataframe tbody tr th:only-of-type {\n",
       "        vertical-align: middle;\n",
       "    }\n",
       "\n",
       "    .dataframe tbody tr th {\n",
       "        vertical-align: top;\n",
       "    }\n",
       "\n",
       "    .dataframe thead th {\n",
       "        text-align: right;\n",
       "    }\n",
       "</style>\n",
       "<table border=\"1\" class=\"dataframe\">\n",
       "  <thead>\n",
       "    <tr style=\"text-align: right;\">\n",
       "      <th></th>\n",
       "      <th>0</th>\n",
       "      <th>1</th>\n",
       "      <th>2</th>\n",
       "      <th>3</th>\n",
       "      <th>4</th>\n",
       "    </tr>\n",
       "  </thead>\n",
       "  <tbody>\n",
       "    <tr>\n",
       "      <th>0</th>\n",
       "      <td>2</td>\n",
       "      <td>4</td>\n",
       "      <td>3</td>\n",
       "      <td>3</td>\n",
       "      <td>4</td>\n",
       "    </tr>\n",
       "    <tr>\n",
       "      <th>1</th>\n",
       "      <td>4</td>\n",
       "      <td>4</td>\n",
       "      <td>2</td>\n",
       "      <td>2</td>\n",
       "      <td>4</td>\n",
       "    </tr>\n",
       "    <tr>\n",
       "      <th>2</th>\n",
       "      <td>4</td>\n",
       "      <td>2</td>\n",
       "      <td>2</td>\n",
       "      <td>4</td>\n",
       "      <td>4</td>\n",
       "    </tr>\n",
       "    <tr>\n",
       "      <th>3</th>\n",
       "      <td>3</td>\n",
       "      <td>4</td>\n",
       "      <td>2</td>\n",
       "      <td>2</td>\n",
       "      <td>1</td>\n",
       "    </tr>\n",
       "    <tr>\n",
       "      <th>4</th>\n",
       "      <td>2</td>\n",
       "      <td>1</td>\n",
       "      <td>4</td>\n",
       "      <td>4</td>\n",
       "      <td>4</td>\n",
       "    </tr>\n",
       "    <tr>\n",
       "      <th>5</th>\n",
       "      <td>4</td>\n",
       "      <td>2</td>\n",
       "      <td>1</td>\n",
       "      <td>0</td>\n",
       "      <td>3</td>\n",
       "    </tr>\n",
       "    <tr>\n",
       "      <th>6</th>\n",
       "      <td>1</td>\n",
       "      <td>3</td>\n",
       "      <td>2</td>\n",
       "      <td>2</td>\n",
       "      <td>2</td>\n",
       "    </tr>\n",
       "    <tr>\n",
       "      <th>7</th>\n",
       "      <td>3</td>\n",
       "      <td>3</td>\n",
       "      <td>3</td>\n",
       "      <td>0</td>\n",
       "      <td>3</td>\n",
       "    </tr>\n",
       "    <tr>\n",
       "      <th>8</th>\n",
       "      <td>2</td>\n",
       "      <td>0</td>\n",
       "      <td>1</td>\n",
       "      <td>2</td>\n",
       "      <td>1</td>\n",
       "    </tr>\n",
       "    <tr>\n",
       "      <th>9</th>\n",
       "      <td>1</td>\n",
       "      <td>2</td>\n",
       "      <td>0</td>\n",
       "      <td>0</td>\n",
       "      <td>0</td>\n",
       "    </tr>\n",
       "  </tbody>\n",
       "</table>\n",
       "</div>"
      ],
      "text/plain": [
       "   0  1  2  3  4\n",
       "0  2  4  3  3  4\n",
       "1  4  4  2  2  4\n",
       "2  4  2  2  4  4\n",
       "3  3  4  2  2  1\n",
       "4  2  1  4  4  4\n",
       "5  4  2  1  0  3\n",
       "6  1  3  2  2  2\n",
       "7  3  3  3  0  3\n",
       "8  2  0  1  2  1\n",
       "9  1  2  0  0  0"
      ]
     },
     "execution_count": 5,
     "metadata": {},
     "output_type": "execute_result"
    }
   ],
   "source": [
    "#DataFrame\n",
    "import numpy as np\n",
    "import pandas as pd\n",
    "\n",
    "df1 = pd.DataFrame(np.random.randint(5, size = (5, 5)), index = range(0, 5))\n",
    "df2 = pd.DataFrame(np.random.randint(5, size = (5, 5)), index = range(5, 10))\n",
    "df = pd.concat([df1, df2]) #concat可以兩個以上合併\n",
    "df"
   ]
  },
  {
   "cell_type": "markdown",
   "id": "iAKQ_icgKPPa",
   "metadata": {
    "id": "iAKQ_icgKPPa"
   },
   "source": [
    "- 相同索引"
   ]
  },
  {
   "cell_type": "code",
   "execution_count": null,
   "id": "EDOESwdkKPPa",
   "metadata": {
    "id": "EDOESwdkKPPa",
    "outputId": "6d5011cf-47f5-45f4-8e43-0e2a6de6a002"
   },
   "outputs": [
    {
     "data": {
      "text/html": [
       "<div>\n",
       "<style scoped>\n",
       "    .dataframe tbody tr th:only-of-type {\n",
       "        vertical-align: middle;\n",
       "    }\n",
       "\n",
       "    .dataframe tbody tr th {\n",
       "        vertical-align: top;\n",
       "    }\n",
       "\n",
       "    .dataframe thead th {\n",
       "        text-align: right;\n",
       "    }\n",
       "</style>\n",
       "<table border=\"1\" class=\"dataframe\">\n",
       "  <thead>\n",
       "    <tr style=\"text-align: right;\">\n",
       "      <th></th>\n",
       "      <th>0</th>\n",
       "      <th>1</th>\n",
       "      <th>2</th>\n",
       "      <th>3</th>\n",
       "      <th>4</th>\n",
       "    </tr>\n",
       "  </thead>\n",
       "  <tbody>\n",
       "    <tr>\n",
       "      <th>0</th>\n",
       "      <td>0</td>\n",
       "      <td>2</td>\n",
       "      <td>3</td>\n",
       "      <td>3</td>\n",
       "      <td>2</td>\n",
       "    </tr>\n",
       "    <tr>\n",
       "      <th>1</th>\n",
       "      <td>0</td>\n",
       "      <td>4</td>\n",
       "      <td>0</td>\n",
       "      <td>4</td>\n",
       "      <td>2</td>\n",
       "    </tr>\n",
       "    <tr>\n",
       "      <th>2</th>\n",
       "      <td>1</td>\n",
       "      <td>4</td>\n",
       "      <td>1</td>\n",
       "      <td>2</td>\n",
       "      <td>3</td>\n",
       "    </tr>\n",
       "    <tr>\n",
       "      <th>3</th>\n",
       "      <td>0</td>\n",
       "      <td>1</td>\n",
       "      <td>0</td>\n",
       "      <td>0</td>\n",
       "      <td>0</td>\n",
       "    </tr>\n",
       "    <tr>\n",
       "      <th>4</th>\n",
       "      <td>1</td>\n",
       "      <td>4</td>\n",
       "      <td>1</td>\n",
       "      <td>1</td>\n",
       "      <td>4</td>\n",
       "    </tr>\n",
       "    <tr>\n",
       "      <th>5</th>\n",
       "      <td>1</td>\n",
       "      <td>1</td>\n",
       "      <td>3</td>\n",
       "      <td>4</td>\n",
       "      <td>2</td>\n",
       "    </tr>\n",
       "    <tr>\n",
       "      <th>6</th>\n",
       "      <td>4</td>\n",
       "      <td>1</td>\n",
       "      <td>1</td>\n",
       "      <td>4</td>\n",
       "      <td>0</td>\n",
       "    </tr>\n",
       "    <tr>\n",
       "      <th>7</th>\n",
       "      <td>2</td>\n",
       "      <td>2</td>\n",
       "      <td>1</td>\n",
       "      <td>3</td>\n",
       "      <td>0</td>\n",
       "    </tr>\n",
       "  </tbody>\n",
       "</table>\n",
       "</div>"
      ],
      "text/plain": [
       "   0  1  2  3  4\n",
       "0  0  2  3  3  2\n",
       "1  0  4  0  4  2\n",
       "2  1  4  1  2  3\n",
       "3  0  1  0  0  0\n",
       "4  1  4  1  1  4\n",
       "5  1  1  3  4  2\n",
       "6  4  1  1  4  0\n",
       "7  2  2  1  3  0"
      ]
     },
     "execution_count": 1,
     "metadata": {},
     "output_type": "execute_result"
    }
   ],
   "source": [
    "#DataFrame\n",
    "import numpy as np\n",
    "import pandas as pd\n",
    "\n",
    "df1 = pd.DataFrame(np.random.randint(5, size = (5, 5)), index = np.random.randint(5, size = 5))\n",
    "df2 = pd.DataFrame(np.random.randint(5, size = (5, 5)), index = np.random.randint(5, size = 5))\n",
    "df = pd.concat([df1, df2], ignore_index = True)\n",
    "df #concat預設是垂直合併axis = 0"
   ]
  },
  {
   "cell_type": "markdown",
   "id": "PhUa_BJ6yFXp",
   "metadata": {
    "id": "PhUa_BJ6yFXp"
   },
   "source": [
    "# 10-2 DataFrame水平合併\n",
    "- 不同索引"
   ]
  },
  {
   "cell_type": "code",
   "execution_count": null,
   "id": "GRhRyB-3KPPa",
   "metadata": {
    "id": "GRhRyB-3KPPa",
    "outputId": "9da05802-f9d4-4b3b-9c14-cc1b9a228dd3"
   },
   "outputs": [
    {
     "data": {
      "text/html": [
       "<div>\n",
       "<style scoped>\n",
       "    .dataframe tbody tr th:only-of-type {\n",
       "        vertical-align: middle;\n",
       "    }\n",
       "\n",
       "    .dataframe tbody tr th {\n",
       "        vertical-align: top;\n",
       "    }\n",
       "\n",
       "    .dataframe thead th {\n",
       "        text-align: right;\n",
       "    }\n",
       "</style>\n",
       "<table border=\"1\" class=\"dataframe\">\n",
       "  <thead>\n",
       "    <tr style=\"text-align: right;\">\n",
       "      <th></th>\n",
       "      <th>0</th>\n",
       "      <th>1</th>\n",
       "      <th>2</th>\n",
       "      <th>3</th>\n",
       "      <th>4</th>\n",
       "      <th>0</th>\n",
       "      <th>1</th>\n",
       "      <th>2</th>\n",
       "      <th>3</th>\n",
       "      <th>4</th>\n",
       "    </tr>\n",
       "  </thead>\n",
       "  <tbody>\n",
       "    <tr>\n",
       "      <th>0</th>\n",
       "      <td>2.0</td>\n",
       "      <td>5.0</td>\n",
       "      <td>5.0</td>\n",
       "      <td>4.0</td>\n",
       "      <td>6.0</td>\n",
       "      <td>NaN</td>\n",
       "      <td>NaN</td>\n",
       "      <td>NaN</td>\n",
       "      <td>NaN</td>\n",
       "      <td>NaN</td>\n",
       "    </tr>\n",
       "    <tr>\n",
       "      <th>1</th>\n",
       "      <td>4.0</td>\n",
       "      <td>1.0</td>\n",
       "      <td>5.0</td>\n",
       "      <td>2.0</td>\n",
       "      <td>5.0</td>\n",
       "      <td>NaN</td>\n",
       "      <td>NaN</td>\n",
       "      <td>NaN</td>\n",
       "      <td>NaN</td>\n",
       "      <td>NaN</td>\n",
       "    </tr>\n",
       "    <tr>\n",
       "      <th>2</th>\n",
       "      <td>9.0</td>\n",
       "      <td>9.0</td>\n",
       "      <td>3.0</td>\n",
       "      <td>4.0</td>\n",
       "      <td>5.0</td>\n",
       "      <td>NaN</td>\n",
       "      <td>NaN</td>\n",
       "      <td>NaN</td>\n",
       "      <td>NaN</td>\n",
       "      <td>NaN</td>\n",
       "    </tr>\n",
       "    <tr>\n",
       "      <th>3</th>\n",
       "      <td>1.0</td>\n",
       "      <td>8.0</td>\n",
       "      <td>9.0</td>\n",
       "      <td>9.0</td>\n",
       "      <td>8.0</td>\n",
       "      <td>NaN</td>\n",
       "      <td>NaN</td>\n",
       "      <td>NaN</td>\n",
       "      <td>NaN</td>\n",
       "      <td>NaN</td>\n",
       "    </tr>\n",
       "    <tr>\n",
       "      <th>4</th>\n",
       "      <td>4.0</td>\n",
       "      <td>2.0</td>\n",
       "      <td>5.0</td>\n",
       "      <td>3.0</td>\n",
       "      <td>4.0</td>\n",
       "      <td>NaN</td>\n",
       "      <td>NaN</td>\n",
       "      <td>NaN</td>\n",
       "      <td>NaN</td>\n",
       "      <td>NaN</td>\n",
       "    </tr>\n",
       "    <tr>\n",
       "      <th>5</th>\n",
       "      <td>NaN</td>\n",
       "      <td>NaN</td>\n",
       "      <td>NaN</td>\n",
       "      <td>NaN</td>\n",
       "      <td>NaN</td>\n",
       "      <td>1.0</td>\n",
       "      <td>9.0</td>\n",
       "      <td>7.0</td>\n",
       "      <td>9.0</td>\n",
       "      <td>6.0</td>\n",
       "    </tr>\n",
       "    <tr>\n",
       "      <th>6</th>\n",
       "      <td>NaN</td>\n",
       "      <td>NaN</td>\n",
       "      <td>NaN</td>\n",
       "      <td>NaN</td>\n",
       "      <td>NaN</td>\n",
       "      <td>5.0</td>\n",
       "      <td>6.0</td>\n",
       "      <td>9.0</td>\n",
       "      <td>6.0</td>\n",
       "      <td>2.0</td>\n",
       "    </tr>\n",
       "    <tr>\n",
       "      <th>7</th>\n",
       "      <td>NaN</td>\n",
       "      <td>NaN</td>\n",
       "      <td>NaN</td>\n",
       "      <td>NaN</td>\n",
       "      <td>NaN</td>\n",
       "      <td>1.0</td>\n",
       "      <td>2.0</td>\n",
       "      <td>6.0</td>\n",
       "      <td>2.0</td>\n",
       "      <td>9.0</td>\n",
       "    </tr>\n",
       "    <tr>\n",
       "      <th>8</th>\n",
       "      <td>NaN</td>\n",
       "      <td>NaN</td>\n",
       "      <td>NaN</td>\n",
       "      <td>NaN</td>\n",
       "      <td>NaN</td>\n",
       "      <td>5.0</td>\n",
       "      <td>1.0</td>\n",
       "      <td>3.0</td>\n",
       "      <td>7.0</td>\n",
       "      <td>8.0</td>\n",
       "    </tr>\n",
       "    <tr>\n",
       "      <th>9</th>\n",
       "      <td>NaN</td>\n",
       "      <td>NaN</td>\n",
       "      <td>NaN</td>\n",
       "      <td>NaN</td>\n",
       "      <td>NaN</td>\n",
       "      <td>5.0</td>\n",
       "      <td>4.0</td>\n",
       "      <td>6.0</td>\n",
       "      <td>1.0</td>\n",
       "      <td>6.0</td>\n",
       "    </tr>\n",
       "  </tbody>\n",
       "</table>\n",
       "</div>"
      ],
      "text/plain": [
       "     0    1    2    3    4    0    1    2    3    4\n",
       "0  2.0  5.0  5.0  4.0  6.0  NaN  NaN  NaN  NaN  NaN\n",
       "1  4.0  1.0  5.0  2.0  5.0  NaN  NaN  NaN  NaN  NaN\n",
       "2  9.0  9.0  3.0  4.0  5.0  NaN  NaN  NaN  NaN  NaN\n",
       "3  1.0  8.0  9.0  9.0  8.0  NaN  NaN  NaN  NaN  NaN\n",
       "4  4.0  2.0  5.0  3.0  4.0  NaN  NaN  NaN  NaN  NaN\n",
       "5  NaN  NaN  NaN  NaN  NaN  1.0  9.0  7.0  9.0  6.0\n",
       "6  NaN  NaN  NaN  NaN  NaN  5.0  6.0  9.0  6.0  2.0\n",
       "7  NaN  NaN  NaN  NaN  NaN  1.0  2.0  6.0  2.0  9.0\n",
       "8  NaN  NaN  NaN  NaN  NaN  5.0  1.0  3.0  7.0  8.0\n",
       "9  NaN  NaN  NaN  NaN  NaN  5.0  4.0  6.0  1.0  6.0"
      ]
     },
     "execution_count": 21,
     "metadata": {},
     "output_type": "execute_result"
    }
   ],
   "source": [
    "#DataFrame\n",
    "import numpy as np\n",
    "import pandas as pd\n",
    "\n",
    "df1 = pd.DataFrame(np.random.randint(1, 10, (5, 5)), index = range(0, 5))\n",
    "df2 = pd.DataFrame(np.random.randint(1, 10, (5, 5)), index = range(5, 10))\n",
    "df = pd.concat([df1, df2], axis = 1)\n",
    "df"
   ]
  },
  {
   "cell_type": "markdown",
   "id": "JVVrePdQKPPa",
   "metadata": {
    "id": "JVVrePdQKPPa"
   },
   "source": [
    "- 相同索引"
   ]
  },
  {
   "cell_type": "code",
   "execution_count": null,
   "id": "Nz518S-GyFXr",
   "metadata": {
    "id": "Nz518S-GyFXr",
    "outputId": "6ac27d3d-f909-418b-e6f3-91e50d3e1330"
   },
   "outputs": [
    {
     "data": {
      "text/html": [
       "<div>\n",
       "<style scoped>\n",
       "    .dataframe tbody tr th:only-of-type {\n",
       "        vertical-align: middle;\n",
       "    }\n",
       "\n",
       "    .dataframe tbody tr th {\n",
       "        vertical-align: top;\n",
       "    }\n",
       "\n",
       "    .dataframe thead th {\n",
       "        text-align: right;\n",
       "    }\n",
       "</style>\n",
       "<table border=\"1\" class=\"dataframe\">\n",
       "  <thead>\n",
       "    <tr style=\"text-align: right;\">\n",
       "      <th></th>\n",
       "      <th>0</th>\n",
       "      <th>1</th>\n",
       "      <th>2</th>\n",
       "      <th>3</th>\n",
       "      <th>4</th>\n",
       "      <th>5</th>\n",
       "      <th>6</th>\n",
       "      <th>7</th>\n",
       "      <th>8</th>\n",
       "      <th>9</th>\n",
       "    </tr>\n",
       "  </thead>\n",
       "  <tbody>\n",
       "    <tr>\n",
       "      <th>0</th>\n",
       "      <td>7</td>\n",
       "      <td>4</td>\n",
       "      <td>8</td>\n",
       "      <td>9</td>\n",
       "      <td>3</td>\n",
       "      <td>9</td>\n",
       "      <td>2</td>\n",
       "      <td>3</td>\n",
       "      <td>4</td>\n",
       "      <td>3</td>\n",
       "    </tr>\n",
       "    <tr>\n",
       "      <th>1</th>\n",
       "      <td>3</td>\n",
       "      <td>8</td>\n",
       "      <td>7</td>\n",
       "      <td>9</td>\n",
       "      <td>4</td>\n",
       "      <td>8</td>\n",
       "      <td>7</td>\n",
       "      <td>1</td>\n",
       "      <td>6</td>\n",
       "      <td>7</td>\n",
       "    </tr>\n",
       "    <tr>\n",
       "      <th>2</th>\n",
       "      <td>2</td>\n",
       "      <td>1</td>\n",
       "      <td>9</td>\n",
       "      <td>8</td>\n",
       "      <td>4</td>\n",
       "      <td>6</td>\n",
       "      <td>8</td>\n",
       "      <td>1</td>\n",
       "      <td>8</td>\n",
       "      <td>4</td>\n",
       "    </tr>\n",
       "    <tr>\n",
       "      <th>3</th>\n",
       "      <td>8</td>\n",
       "      <td>4</td>\n",
       "      <td>2</td>\n",
       "      <td>4</td>\n",
       "      <td>7</td>\n",
       "      <td>2</td>\n",
       "      <td>7</td>\n",
       "      <td>8</td>\n",
       "      <td>9</td>\n",
       "      <td>4</td>\n",
       "    </tr>\n",
       "    <tr>\n",
       "      <th>4</th>\n",
       "      <td>4</td>\n",
       "      <td>8</td>\n",
       "      <td>4</td>\n",
       "      <td>3</td>\n",
       "      <td>6</td>\n",
       "      <td>8</td>\n",
       "      <td>8</td>\n",
       "      <td>2</td>\n",
       "      <td>5</td>\n",
       "      <td>3</td>\n",
       "    </tr>\n",
       "  </tbody>\n",
       "</table>\n",
       "</div>"
      ],
      "text/plain": [
       "   0  1  2  3  4  5  6  7  8  9\n",
       "0  7  4  8  9  3  9  2  3  4  3\n",
       "1  3  8  7  9  4  8  7  1  6  7\n",
       "2  2  1  9  8  4  6  8  1  8  4\n",
       "3  8  4  2  4  7  2  7  8  9  4\n",
       "4  4  8  4  3  6  8  8  2  5  3"
      ]
     },
     "execution_count": 5,
     "metadata": {},
     "output_type": "execute_result"
    }
   ],
   "source": [
    "#DataFrame\n",
    "import numpy as np\n",
    "import pandas as pd\n",
    "\n",
    "df1 = pd.DataFrame(np.random.randint(1, 10, (5, 5)), index = range(0, 5))\n",
    "df2 = pd.DataFrame(np.random.randint(1, 10, (5, 5)), index = range(0, 5))\n",
    "\n",
    "df = pd.concat([df1, df2], axis = 1, ignore_index = True)\n",
    "df"
   ]
  },
  {
   "cell_type": "markdown",
   "id": "2xV6qY-ByFXx",
   "metadata": {
    "id": "2xV6qY-ByFXx"
   },
   "source": [
    "### 易忽略的錯誤 ValueError: Plan shapes are not aligned "
   ]
  },
  {
   "cell_type": "code",
   "execution_count": 13,
   "id": "13cc3c5d",
   "metadata": {},
   "outputs": [
    {
     "ename": "InvalidIndexError",
     "evalue": "Reindexing only valid with uniquely valued Index objects",
     "output_type": "error",
     "traceback": [
      "\u001b[1;31m---------------------------------------------------------------------------\u001b[0m",
      "\u001b[1;31mInvalidIndexError\u001b[0m                         Traceback (most recent call last)",
      "Cell \u001b[1;32mIn[13], line 9\u001b[0m\n\u001b[0;32m      6\u001b[0m df3 \u001b[38;5;241m=\u001b[39m pd\u001b[38;5;241m.\u001b[39mDataFrame(np\u001b[38;5;241m.\u001b[39mones((\u001b[38;5;241m4\u001b[39m, \u001b[38;5;241m4\u001b[39m))\u001b[38;5;241m*\u001b[39m\u001b[38;5;241m3\u001b[39m, columns\u001b[38;5;241m=\u001b[39m\u001b[38;5;28mlist\u001b[39m(\u001b[38;5;124m'\u001b[39m\u001b[38;5;124mFEBA\u001b[39m\u001b[38;5;124m'\u001b[39m), index\u001b[38;5;241m=\u001b[39m\u001b[38;5;28mlist\u001b[39m(\u001b[38;5;124m'\u001b[39m\u001b[38;5;124m6521\u001b[39m\u001b[38;5;124m'\u001b[39m))\n\u001b[0;32m      8\u001b[0m df2\u001b[38;5;241m.\u001b[39mindex \u001b[38;5;241m=\u001b[39m \u001b[38;5;28mlist\u001b[39m(\u001b[38;5;124m'\u001b[39m\u001b[38;5;124m4322\u001b[39m\u001b[38;5;124m'\u001b[39m)\n\u001b[1;32m----> 9\u001b[0m df \u001b[38;5;241m=\u001b[39m \u001b[43mpd\u001b[49m\u001b[38;5;241;43m.\u001b[39;49m\u001b[43mconcat\u001b[49m\u001b[43m(\u001b[49m\u001b[43m[\u001b[49m\u001b[43mdf1\u001b[49m\u001b[43m,\u001b[49m\u001b[43m \u001b[49m\u001b[43mdf2\u001b[49m\u001b[43m]\u001b[49m\u001b[43m,\u001b[49m\u001b[43maxis\u001b[49m\u001b[43m \u001b[49m\u001b[38;5;241;43m=\u001b[39;49m\u001b[43m \u001b[49m\u001b[38;5;241;43m1\u001b[39;49m\u001b[43m)\u001b[49m\n\u001b[0;32m     10\u001b[0m df\n",
      "File \u001b[1;32m~\\anaconda3\\lib\\site-packages\\pandas\\util\\_decorators.py:331\u001b[0m, in \u001b[0;36mdeprecate_nonkeyword_arguments.<locals>.decorate.<locals>.wrapper\u001b[1;34m(*args, **kwargs)\u001b[0m\n\u001b[0;32m    325\u001b[0m \u001b[38;5;28;01mif\u001b[39;00m \u001b[38;5;28mlen\u001b[39m(args) \u001b[38;5;241m>\u001b[39m num_allow_args:\n\u001b[0;32m    326\u001b[0m     warnings\u001b[38;5;241m.\u001b[39mwarn(\n\u001b[0;32m    327\u001b[0m         msg\u001b[38;5;241m.\u001b[39mformat(arguments\u001b[38;5;241m=\u001b[39m_format_argument_list(allow_args)),\n\u001b[0;32m    328\u001b[0m         \u001b[38;5;167;01mFutureWarning\u001b[39;00m,\n\u001b[0;32m    329\u001b[0m         stacklevel\u001b[38;5;241m=\u001b[39mfind_stack_level(),\n\u001b[0;32m    330\u001b[0m     )\n\u001b[1;32m--> 331\u001b[0m \u001b[38;5;28;01mreturn\u001b[39;00m func(\u001b[38;5;241m*\u001b[39margs, \u001b[38;5;241m*\u001b[39m\u001b[38;5;241m*\u001b[39mkwargs)\n",
      "File \u001b[1;32m~\\anaconda3\\lib\\site-packages\\pandas\\core\\reshape\\concat.py:381\u001b[0m, in \u001b[0;36mconcat\u001b[1;34m(objs, axis, join, ignore_index, keys, levels, names, verify_integrity, sort, copy)\u001b[0m\n\u001b[0;32m    159\u001b[0m \u001b[38;5;124;03m\"\"\"\u001b[39;00m\n\u001b[0;32m    160\u001b[0m \u001b[38;5;124;03mConcatenate pandas objects along a particular axis.\u001b[39;00m\n\u001b[0;32m    161\u001b[0m \n\u001b[1;32m   (...)\u001b[0m\n\u001b[0;32m    366\u001b[0m \u001b[38;5;124;03m1   3   4\u001b[39;00m\n\u001b[0;32m    367\u001b[0m \u001b[38;5;124;03m\"\"\"\u001b[39;00m\n\u001b[0;32m    368\u001b[0m op \u001b[38;5;241m=\u001b[39m _Concatenator(\n\u001b[0;32m    369\u001b[0m     objs,\n\u001b[0;32m    370\u001b[0m     axis\u001b[38;5;241m=\u001b[39maxis,\n\u001b[1;32m   (...)\u001b[0m\n\u001b[0;32m    378\u001b[0m     sort\u001b[38;5;241m=\u001b[39msort,\n\u001b[0;32m    379\u001b[0m )\n\u001b[1;32m--> 381\u001b[0m \u001b[38;5;28;01mreturn\u001b[39;00m \u001b[43mop\u001b[49m\u001b[38;5;241;43m.\u001b[39;49m\u001b[43mget_result\u001b[49m\u001b[43m(\u001b[49m\u001b[43m)\u001b[49m\n",
      "File \u001b[1;32m~\\anaconda3\\lib\\site-packages\\pandas\\core\\reshape\\concat.py:612\u001b[0m, in \u001b[0;36m_Concatenator.get_result\u001b[1;34m(self)\u001b[0m\n\u001b[0;32m    610\u001b[0m         obj_labels \u001b[38;5;241m=\u001b[39m obj\u001b[38;5;241m.\u001b[39maxes[\u001b[38;5;241m1\u001b[39m \u001b[38;5;241m-\u001b[39m ax]\n\u001b[0;32m    611\u001b[0m         \u001b[38;5;28;01mif\u001b[39;00m \u001b[38;5;129;01mnot\u001b[39;00m new_labels\u001b[38;5;241m.\u001b[39mequals(obj_labels):\n\u001b[1;32m--> 612\u001b[0m             indexers[ax] \u001b[38;5;241m=\u001b[39m \u001b[43mobj_labels\u001b[49m\u001b[38;5;241;43m.\u001b[39;49m\u001b[43mget_indexer\u001b[49m\u001b[43m(\u001b[49m\u001b[43mnew_labels\u001b[49m\u001b[43m)\u001b[49m\n\u001b[0;32m    614\u001b[0m     mgrs_indexers\u001b[38;5;241m.\u001b[39mappend((obj\u001b[38;5;241m.\u001b[39m_mgr, indexers))\n\u001b[0;32m    616\u001b[0m new_data \u001b[38;5;241m=\u001b[39m concatenate_managers(\n\u001b[0;32m    617\u001b[0m     mgrs_indexers, \u001b[38;5;28mself\u001b[39m\u001b[38;5;241m.\u001b[39mnew_axes, concat_axis\u001b[38;5;241m=\u001b[39m\u001b[38;5;28mself\u001b[39m\u001b[38;5;241m.\u001b[39mbm_axis, copy\u001b[38;5;241m=\u001b[39m\u001b[38;5;28mself\u001b[39m\u001b[38;5;241m.\u001b[39mcopy\n\u001b[0;32m    618\u001b[0m )\n",
      "File \u001b[1;32m~\\anaconda3\\lib\\site-packages\\pandas\\core\\indexes\\base.py:3904\u001b[0m, in \u001b[0;36mIndex.get_indexer\u001b[1;34m(self, target, method, limit, tolerance)\u001b[0m\n\u001b[0;32m   3901\u001b[0m \u001b[38;5;28mself\u001b[39m\u001b[38;5;241m.\u001b[39m_check_indexing_method(method, limit, tolerance)\n\u001b[0;32m   3903\u001b[0m \u001b[38;5;28;01mif\u001b[39;00m \u001b[38;5;129;01mnot\u001b[39;00m \u001b[38;5;28mself\u001b[39m\u001b[38;5;241m.\u001b[39m_index_as_unique:\n\u001b[1;32m-> 3904\u001b[0m     \u001b[38;5;28;01mraise\u001b[39;00m InvalidIndexError(\u001b[38;5;28mself\u001b[39m\u001b[38;5;241m.\u001b[39m_requires_unique_msg)\n\u001b[0;32m   3906\u001b[0m \u001b[38;5;28;01mif\u001b[39;00m \u001b[38;5;28mlen\u001b[39m(target) \u001b[38;5;241m==\u001b[39m \u001b[38;5;241m0\u001b[39m:\n\u001b[0;32m   3907\u001b[0m     \u001b[38;5;28;01mreturn\u001b[39;00m np\u001b[38;5;241m.\u001b[39marray([], dtype\u001b[38;5;241m=\u001b[39mnp\u001b[38;5;241m.\u001b[39mintp)\n",
      "\u001b[1;31mInvalidIndexError\u001b[0m: Reindexing only valid with uniquely valued Index objects"
     ]
    }
   ],
   "source": [
    "import pandas as pd\n",
    "import numpy as np\n",
    "\n",
    "df1 = pd.DataFrame(np.ones((4, 4))*1, columns=list('DCBA'), index=list('4321'))\n",
    "df2 = pd.DataFrame(np.ones((4, 4))*2, columns=list('FEDC'), index=list('6543'))\n",
    "df3 = pd.DataFrame(np.ones((4, 4))*3, columns=list('FEBA'), index=list('6521'))\n",
    "\n",
    "df2.index = list('4322')\n",
    "df = pd.concat([df1, df2],axis = 1)\n",
    "df                                           #水平合併"
   ]
  },
  {
   "cell_type": "code",
   "execution_count": 11,
   "id": "VYY0fwKcyFXy",
   "metadata": {
    "id": "VYY0fwKcyFXy",
    "outputId": "4cf262ca-6788-4dc4-e72f-2bfe0760567c"
   },
   "outputs": [
    {
     "ename": "InvalidIndexError",
     "evalue": "Reindexing only valid with uniquely valued Index objects",
     "output_type": "error",
     "traceback": [
      "\u001b[1;31m---------------------------------------------------------------------------\u001b[0m",
      "\u001b[1;31mInvalidIndexError\u001b[0m                         Traceback (most recent call last)",
      "Cell \u001b[1;32mIn[11], line 9\u001b[0m\n\u001b[0;32m      6\u001b[0m df3 \u001b[38;5;241m=\u001b[39m pd\u001b[38;5;241m.\u001b[39mDataFrame(np\u001b[38;5;241m.\u001b[39mones((\u001b[38;5;241m4\u001b[39m, \u001b[38;5;241m4\u001b[39m))\u001b[38;5;241m*\u001b[39m\u001b[38;5;241m3\u001b[39m, columns\u001b[38;5;241m=\u001b[39m\u001b[38;5;28mlist\u001b[39m(\u001b[38;5;124m'\u001b[39m\u001b[38;5;124mFEBA\u001b[39m\u001b[38;5;124m'\u001b[39m), index\u001b[38;5;241m=\u001b[39m\u001b[38;5;28mlist\u001b[39m(\u001b[38;5;124m'\u001b[39m\u001b[38;5;124m6521\u001b[39m\u001b[38;5;124m'\u001b[39m))\n\u001b[0;32m      8\u001b[0m df1\u001b[38;5;241m.\u001b[39mcolumns \u001b[38;5;241m=\u001b[39m \u001b[38;5;28mlist\u001b[39m(\u001b[38;5;124m'\u001b[39m\u001b[38;5;124mDDBA\u001b[39m\u001b[38;5;124m'\u001b[39m)\n\u001b[1;32m----> 9\u001b[0m df \u001b[38;5;241m=\u001b[39m \u001b[43mpd\u001b[49m\u001b[38;5;241;43m.\u001b[39;49m\u001b[43mconcat\u001b[49m\u001b[43m(\u001b[49m\u001b[43m[\u001b[49m\u001b[43mdf1\u001b[49m\u001b[43m,\u001b[49m\u001b[43m \u001b[49m\u001b[43mdf2\u001b[49m\u001b[43m]\u001b[49m\u001b[43m)\u001b[49m\n\u001b[0;32m     10\u001b[0m df\n",
      "File \u001b[1;32m~\\anaconda3\\lib\\site-packages\\pandas\\util\\_decorators.py:331\u001b[0m, in \u001b[0;36mdeprecate_nonkeyword_arguments.<locals>.decorate.<locals>.wrapper\u001b[1;34m(*args, **kwargs)\u001b[0m\n\u001b[0;32m    325\u001b[0m \u001b[38;5;28;01mif\u001b[39;00m \u001b[38;5;28mlen\u001b[39m(args) \u001b[38;5;241m>\u001b[39m num_allow_args:\n\u001b[0;32m    326\u001b[0m     warnings\u001b[38;5;241m.\u001b[39mwarn(\n\u001b[0;32m    327\u001b[0m         msg\u001b[38;5;241m.\u001b[39mformat(arguments\u001b[38;5;241m=\u001b[39m_format_argument_list(allow_args)),\n\u001b[0;32m    328\u001b[0m         \u001b[38;5;167;01mFutureWarning\u001b[39;00m,\n\u001b[0;32m    329\u001b[0m         stacklevel\u001b[38;5;241m=\u001b[39mfind_stack_level(),\n\u001b[0;32m    330\u001b[0m     )\n\u001b[1;32m--> 331\u001b[0m \u001b[38;5;28;01mreturn\u001b[39;00m func(\u001b[38;5;241m*\u001b[39margs, \u001b[38;5;241m*\u001b[39m\u001b[38;5;241m*\u001b[39mkwargs)\n",
      "File \u001b[1;32m~\\anaconda3\\lib\\site-packages\\pandas\\core\\reshape\\concat.py:381\u001b[0m, in \u001b[0;36mconcat\u001b[1;34m(objs, axis, join, ignore_index, keys, levels, names, verify_integrity, sort, copy)\u001b[0m\n\u001b[0;32m    159\u001b[0m \u001b[38;5;124;03m\"\"\"\u001b[39;00m\n\u001b[0;32m    160\u001b[0m \u001b[38;5;124;03mConcatenate pandas objects along a particular axis.\u001b[39;00m\n\u001b[0;32m    161\u001b[0m \n\u001b[1;32m   (...)\u001b[0m\n\u001b[0;32m    366\u001b[0m \u001b[38;5;124;03m1   3   4\u001b[39;00m\n\u001b[0;32m    367\u001b[0m \u001b[38;5;124;03m\"\"\"\u001b[39;00m\n\u001b[0;32m    368\u001b[0m op \u001b[38;5;241m=\u001b[39m _Concatenator(\n\u001b[0;32m    369\u001b[0m     objs,\n\u001b[0;32m    370\u001b[0m     axis\u001b[38;5;241m=\u001b[39maxis,\n\u001b[1;32m   (...)\u001b[0m\n\u001b[0;32m    378\u001b[0m     sort\u001b[38;5;241m=\u001b[39msort,\n\u001b[0;32m    379\u001b[0m )\n\u001b[1;32m--> 381\u001b[0m \u001b[38;5;28;01mreturn\u001b[39;00m \u001b[43mop\u001b[49m\u001b[38;5;241;43m.\u001b[39;49m\u001b[43mget_result\u001b[49m\u001b[43m(\u001b[49m\u001b[43m)\u001b[49m\n",
      "File \u001b[1;32m~\\anaconda3\\lib\\site-packages\\pandas\\core\\reshape\\concat.py:612\u001b[0m, in \u001b[0;36m_Concatenator.get_result\u001b[1;34m(self)\u001b[0m\n\u001b[0;32m    610\u001b[0m         obj_labels \u001b[38;5;241m=\u001b[39m obj\u001b[38;5;241m.\u001b[39maxes[\u001b[38;5;241m1\u001b[39m \u001b[38;5;241m-\u001b[39m ax]\n\u001b[0;32m    611\u001b[0m         \u001b[38;5;28;01mif\u001b[39;00m \u001b[38;5;129;01mnot\u001b[39;00m new_labels\u001b[38;5;241m.\u001b[39mequals(obj_labels):\n\u001b[1;32m--> 612\u001b[0m             indexers[ax] \u001b[38;5;241m=\u001b[39m \u001b[43mobj_labels\u001b[49m\u001b[38;5;241;43m.\u001b[39;49m\u001b[43mget_indexer\u001b[49m\u001b[43m(\u001b[49m\u001b[43mnew_labels\u001b[49m\u001b[43m)\u001b[49m\n\u001b[0;32m    614\u001b[0m     mgrs_indexers\u001b[38;5;241m.\u001b[39mappend((obj\u001b[38;5;241m.\u001b[39m_mgr, indexers))\n\u001b[0;32m    616\u001b[0m new_data \u001b[38;5;241m=\u001b[39m concatenate_managers(\n\u001b[0;32m    617\u001b[0m     mgrs_indexers, \u001b[38;5;28mself\u001b[39m\u001b[38;5;241m.\u001b[39mnew_axes, concat_axis\u001b[38;5;241m=\u001b[39m\u001b[38;5;28mself\u001b[39m\u001b[38;5;241m.\u001b[39mbm_axis, copy\u001b[38;5;241m=\u001b[39m\u001b[38;5;28mself\u001b[39m\u001b[38;5;241m.\u001b[39mcopy\n\u001b[0;32m    618\u001b[0m )\n",
      "File \u001b[1;32m~\\anaconda3\\lib\\site-packages\\pandas\\core\\indexes\\base.py:3904\u001b[0m, in \u001b[0;36mIndex.get_indexer\u001b[1;34m(self, target, method, limit, tolerance)\u001b[0m\n\u001b[0;32m   3901\u001b[0m \u001b[38;5;28mself\u001b[39m\u001b[38;5;241m.\u001b[39m_check_indexing_method(method, limit, tolerance)\n\u001b[0;32m   3903\u001b[0m \u001b[38;5;28;01mif\u001b[39;00m \u001b[38;5;129;01mnot\u001b[39;00m \u001b[38;5;28mself\u001b[39m\u001b[38;5;241m.\u001b[39m_index_as_unique:\n\u001b[1;32m-> 3904\u001b[0m     \u001b[38;5;28;01mraise\u001b[39;00m InvalidIndexError(\u001b[38;5;28mself\u001b[39m\u001b[38;5;241m.\u001b[39m_requires_unique_msg)\n\u001b[0;32m   3906\u001b[0m \u001b[38;5;28;01mif\u001b[39;00m \u001b[38;5;28mlen\u001b[39m(target) \u001b[38;5;241m==\u001b[39m \u001b[38;5;241m0\u001b[39m:\n\u001b[0;32m   3907\u001b[0m     \u001b[38;5;28;01mreturn\u001b[39;00m np\u001b[38;5;241m.\u001b[39marray([], dtype\u001b[38;5;241m=\u001b[39mnp\u001b[38;5;241m.\u001b[39mintp)\n",
      "\u001b[1;31mInvalidIndexError\u001b[0m: Reindexing only valid with uniquely valued Index objects"
     ]
    }
   ],
   "source": [
    "import pandas as pd\n",
    "import numpy as np\n",
    "\n",
    "df1 = pd.DataFrame(np.ones((4, 4))*1, columns=list('DCBA'), index=list('4321'))\n",
    "df2 = pd.DataFrame(np.ones((4, 4))*2, columns=list('FEDC'), index=list('6543'))\n",
    "df3 = pd.DataFrame(np.ones((4, 4))*3, columns=list('FEBA'), index=list('6521'))\n",
    "\n",
    "df1.columns = list('DDBA')\n",
    "df = pd.concat([df1, df2])\n",
    "df #conlumns & index重疊，會沒辦法合併                       #垂直合併"
   ]
  },
  {
   "cell_type": "markdown",
   "id": "E97-eqzRlTjF",
   "metadata": {
    "id": "E97-eqzRlTjF"
   },
   "source": [
    "### 解決方式：判別重覆columns"
   ]
  },
  {
   "cell_type": "code",
   "execution_count": null,
   "id": "ST_JlBA5yFX7",
   "metadata": {
    "id": "ST_JlBA5yFX7",
    "outputId": "88d0fa9a-ee8e-427c-f112-11cf4a160890"
   },
   "outputs": [
    {
     "data": {
      "text/plain": [
       "array([False,  True, False, False])"
      ]
     },
     "execution_count": 2,
     "metadata": {
      "tags": []
     },
     "output_type": "execute_result"
    }
   ],
   "source": [
    "df1.columns.duplicated()"
   ]
  },
  {
   "cell_type": "code",
   "execution_count": null,
   "id": "5a3844bd",
   "metadata": {},
   "outputs": [],
   "source": [
    "df1.columns.drop_duplicated()#刪除類別資料"
   ]
  },
  {
   "cell_type": "code",
   "execution_count": null,
   "id": "DZjZltStyFYB",
   "metadata": {
    "id": "DZjZltStyFYB",
    "outputId": "e22b574c-b604-4cd1-f88e-bf4af1050627",
    "scrolled": true
   },
   "outputs": [
    {
     "data": {
      "text/html": [
       "<div>\n",
       "<style scoped>\n",
       "    .dataframe tbody tr th:only-of-type {\n",
       "        vertical-align: middle;\n",
       "    }\n",
       "\n",
       "    .dataframe tbody tr th {\n",
       "        vertical-align: top;\n",
       "    }\n",
       "\n",
       "    .dataframe thead th {\n",
       "        text-align: right;\n",
       "    }\n",
       "</style>\n",
       "<table border=\"1\" class=\"dataframe\">\n",
       "  <thead>\n",
       "    <tr style=\"text-align: right;\">\n",
       "      <th></th>\n",
       "      <th>D</th>\n",
       "      <th>D</th>\n",
       "      <th>B</th>\n",
       "      <th>A</th>\n",
       "    </tr>\n",
       "  </thead>\n",
       "  <tbody>\n",
       "    <tr>\n",
       "      <th>4</th>\n",
       "      <td>1.0</td>\n",
       "      <td>1.0</td>\n",
       "      <td>1.0</td>\n",
       "      <td>1.0</td>\n",
       "    </tr>\n",
       "    <tr>\n",
       "      <th>3</th>\n",
       "      <td>1.0</td>\n",
       "      <td>1.0</td>\n",
       "      <td>1.0</td>\n",
       "      <td>1.0</td>\n",
       "    </tr>\n",
       "    <tr>\n",
       "      <th>2</th>\n",
       "      <td>1.0</td>\n",
       "      <td>1.0</td>\n",
       "      <td>1.0</td>\n",
       "      <td>1.0</td>\n",
       "    </tr>\n",
       "    <tr>\n",
       "      <th>1</th>\n",
       "      <td>1.0</td>\n",
       "      <td>1.0</td>\n",
       "      <td>1.0</td>\n",
       "      <td>1.0</td>\n",
       "    </tr>\n",
       "  </tbody>\n",
       "</table>\n",
       "</div>"
      ],
      "text/plain": [
       "     D    D    B    A\n",
       "4  1.0  1.0  1.0  1.0\n",
       "3  1.0  1.0  1.0  1.0\n",
       "2  1.0  1.0  1.0  1.0\n",
       "1  1.0  1.0  1.0  1.0"
      ]
     },
     "execution_count": 3,
     "metadata": {
      "tags": []
     },
     "output_type": "execute_result"
    }
   ],
   "source": [
    "df1"
   ]
  },
  {
   "cell_type": "markdown",
   "id": "v7VVmsCiyFYE",
   "metadata": {
    "id": "v7VVmsCiyFYE"
   },
   "source": [
    "# 11. 合併merge"
   ]
  },
  {
   "cell_type": "code",
   "execution_count": null,
   "id": "JGmyK6R3yFYF",
   "metadata": {
    "id": "JGmyK6R3yFYF",
    "outputId": "55797309-5f27-4cad-e62e-b851c8a1151b"
   },
   "outputs": [
    {
     "name": "stdout",
     "output_type": "stream",
     "text": [
      "left \n",
      "   key   A   B\n",
      "0  K0  A0  B0\n",
      "1  K1  A1  B1\n",
      "2  K2  A2  B2\n",
      "3  K3  A3  B3\n",
      "\n",
      "right \n",
      "   key   C   D\n",
      "0  K0  C0  D0\n",
      "1  K1  C1  D1\n",
      "2  K2  C2  D2\n",
      "3  K3  C3  D3\n"
     ]
    }
   ],
   "source": [
    "import numpy as np\n",
    "import pandas as pd\n",
    "\n",
    "left = pd.DataFrame({'key': ['K0', 'K1', 'K2', 'K3'],\n",
    "                     'A': ['A0', 'A1', 'A2', 'A3'],\n",
    "                     'B': ['B0', 'B1', 'B2', 'B3']})\n",
    "right = pd.DataFrame({'key': ['K0', 'K1', 'K2', 'K3'],\n",
    "                      'C': ['C0', 'C1', 'C2', 'C3'],\n",
    "                      'D': ['D0', 'D1', 'D2', 'D3']})\n",
    "\n",
    "print('left', '\\n', left)\n",
    "print()\n",
    "print('right', '\\n', right)"
   ]
  },
  {
   "cell_type": "markdown",
   "id": "Y9m3W3BAKPPa",
   "metadata": {
    "id": "Y9m3W3BAKPPa"
   },
   "source": [
    "# 11-1 merge 合併方法中，on的使用"
   ]
  },
  {
   "cell_type": "code",
   "execution_count": null,
   "id": "8nC_TeB_yFYN",
   "metadata": {
    "id": "8nC_TeB_yFYN",
    "outputId": "ec732a82-ef6b-411d-cade-47e770975196"
   },
   "outputs": [
    {
     "name": "stdout",
     "output_type": "stream",
     "text": [
      "    A   B key   C   D\n",
      "0  A0  B0  K0  C0  D0\n",
      "1  A1  B1  K1  C1  D1\n",
      "2  A2  B2  K2  C2  D2\n",
      "3  A3  B3  K3  C3  D3\n"
     ]
    }
   ],
   "source": [
    "res = pd.merge(left, right, on='key')\n",
    "print(res)"
   ]
  },
  {
   "cell_type": "code",
   "execution_count": 14,
   "id": "pLHbvPO5yFYS",
   "metadata": {
    "id": "pLHbvPO5yFYS",
    "outputId": "d957be59-9325-4b6a-dded-0aad8e40ef38"
   },
   "outputs": [
    {
     "name": "stdout",
     "output_type": "stream",
     "text": [
      "left \n",
      "   key1 key2   A   B\n",
      "0   K0   K0  A0  B0\n",
      "1   K0   K1  A1  B1\n",
      "2   K1   K0  A2  B2\n",
      "3   K2   K1  A3  B3\n",
      "\n",
      "right \n",
      "   key1 key2   C   D\n",
      "0   K0   K0  C0  D0\n",
      "1   K1   K0  C1  D1\n",
      "2   K1   K0  C2  D2\n",
      "3   K2   K0  C3  D3\n"
     ]
    }
   ],
   "source": [
    "left = pd.DataFrame({'key1': ['K0', 'K0', 'K1', 'K2'],\n",
    "                      'key2': ['K0', 'K1', 'K0', 'K1'],\n",
    "                      'A': ['A0', 'A1', 'A2', 'A3'],\n",
    "                      'B': ['B0', 'B1', 'B2', 'B3']})\n",
    "right = pd.DataFrame({'key1': ['K0', 'K1', 'K1', 'K2'],\n",
    "                       'key2': ['K0', 'K0', 'K0', 'K0'],\n",
    "                       'C': ['C0', 'C1', 'C2', 'C3'],\n",
    "                       'D': ['D0', 'D1', 'D2', 'D3']})\n",
    "\n",
    "print('left', '\\n', left)\n",
    "print()\n",
    "print('right', '\\n', right)"
   ]
  },
  {
   "cell_type": "markdown",
   "id": "M2L7q_gGyFYb",
   "metadata": {
    "id": "M2L7q_gGyFYb"
   },
   "source": [
    "# 11-2 merge 合併方法中，how的使用\n",
    "+ left:以左邊為主\n",
    "+ right：以右邊為主\n",
    "+ outer：不管key\n",
    "+ inner：以相同key為主，配合on"
   ]
  },
  {
   "cell_type": "code",
   "execution_count": null,
   "id": "ImlZIfQ8yFYc",
   "metadata": {
    "id": "ImlZIfQ8yFYc",
    "outputId": "2b83e108-2f2e-4e02-b918-33faa8518473"
   },
   "outputs": [
    {
     "name": "stdout",
     "output_type": "stream",
     "text": [
      "  key1 key2   A   B   C   D\n",
      "0   K0   K0  A0  B0  C0  D0\n",
      "1   K1   K0  A2  B2  C1  D1\n",
      "2   K1   K0  A2  B2  C2  D2\n"
     ]
    }
   ],
   "source": [
    "res = pd.merge(left, right, on=['key1', 'key2'], how='inner')\n",
    "print(res)"
   ]
  },
  {
   "cell_type": "code",
   "execution_count": null,
   "id": "A0GReTclyFYf",
   "metadata": {
    "id": "A0GReTclyFYf",
    "outputId": "aa8eef3a-4a98-46a9-c206-e33d039dced0"
   },
   "outputs": [
    {
     "name": "stdout",
     "output_type": "stream",
     "text": [
      "     A    B key1 key2    C    D\n",
      "0   A0   B0   K0   K0   C0   D0\n",
      "1   A1   B1   K0   K1  NaN  NaN\n",
      "2   A2   B2   K1   K0   C1   D1\n",
      "3   A2   B2   K1   K0   C2   D2\n",
      "4   A3   B3   K2   K1  NaN  NaN\n",
      "5  NaN  NaN   K2   K0   C3   D3\n"
     ]
    }
   ],
   "source": [
    "res = pd.merge(left, right, on=['key1', 'key2'], how='outer')\n",
    "print(res)"
   ]
  },
  {
   "cell_type": "code",
   "execution_count": null,
   "id": "XqTkWhqWyFYj",
   "metadata": {
    "id": "XqTkWhqWyFYj",
    "outputId": "18b8d137-fd56-45ad-8720-673e42a87df2"
   },
   "outputs": [
    {
     "name": "stdout",
     "output_type": "stream",
     "text": [
      "  key1 key2   A   B    C    D\n",
      "0   K0   K0  A0  B0   C0   D0\n",
      "1   K0   K1  A1  B1  NaN  NaN\n",
      "2   K1   K0  A2  B2   C1   D1\n",
      "3   K1   K0  A2  B2   C2   D2\n",
      "4   K2   K1  A3  B3  NaN  NaN\n"
     ]
    }
   ],
   "source": [
    "res = pd.merge(left, right, on=['key1', 'key2'], how='left')\n",
    "print(res)"
   ]
  },
  {
   "cell_type": "code",
   "execution_count": null,
   "id": "j23kAOisyFYq",
   "metadata": {
    "id": "j23kAOisyFYq",
    "outputId": "cee383c9-5125-43f3-9121-db95b4b39644"
   },
   "outputs": [
    {
     "name": "stdout",
     "output_type": "stream",
     "text": [
      "  key1 key2    A    B   C   D\n",
      "0   K0   K0   A0   B0  C0  D0\n",
      "1   K1   K0   A2   B2  C1  D1\n",
      "2   K1   K0   A2   B2  C2  D2\n",
      "3   K2   K0  NaN  NaN  C3  D3\n"
     ]
    }
   ],
   "source": [
    "res = pd.merge(left, right, on=['key1', 'key2'], how='right')\n",
    "print(res)"
   ]
  },
  {
   "cell_type": "code",
   "execution_count": 15,
   "id": "Gk3W77_RyFYt",
   "metadata": {
    "id": "Gk3W77_RyFYt",
    "outputId": "82dd38ca-6081-405e-c2ad-ff4bcbabe748"
   },
   "outputs": [
    {
     "name": "stdout",
     "output_type": "stream",
     "text": [
      "left \n",
      "      A   B\n",
      "K0  A0  B0\n",
      "K1  A1  B1\n",
      "K2  A2  B2\n",
      "\n",
      "right \n",
      "      C   D\n",
      "K0  C0  D0\n",
      "K2  C2  D2\n",
      "K3  C3  D3\n"
     ]
    }
   ],
   "source": [
    "left = pd.DataFrame({'A': ['A0', 'A1', 'A2'],\n",
    "                     'B': ['B0', 'B1', 'B2']},\n",
    "                     index=['K0', 'K1', 'K2'])\n",
    "right = pd.DataFrame({'C': ['C0', 'C2', 'C3'],\n",
    "                      'D': ['D0', 'D2', 'D3']},\n",
    "                     index=['K0', 'K2', 'K3'])\n",
    "\n",
    "print('left', '\\n', left)\n",
    "print()\n",
    "print('right', '\\n', right)"
   ]
  },
  {
   "cell_type": "code",
   "execution_count": null,
   "id": "Nxo_1ZfdyFY-",
   "metadata": {
    "id": "Nxo_1ZfdyFY-",
    "outputId": "fc035e3b-5b03-4d62-ae5d-0cf4505596ec"
   },
   "outputs": [
    {
     "name": "stdout",
     "output_type": "stream",
     "text": [
      "      A    B    C    D\n",
      "K0   A0   B0   C0   D0\n",
      "K1   A1   B1  NaN  NaN\n",
      "K2   A2   B2   C2   D2\n",
      "K3  NaN  NaN   C3   D3\n"
     ]
    }
   ],
   "source": [
    "res = pd.merge(left, right, left_index=True, right_index=True, how='outer')\n",
    "print(res)"
   ]
  },
  {
   "cell_type": "code",
   "execution_count": null,
   "id": "rRA3eiOXyFZC",
   "metadata": {
    "id": "rRA3eiOXyFZC",
    "outputId": "b916d5ef-5760-4ad3-dba2-3bab4fe6a2ba"
   },
   "outputs": [
    {
     "name": "stdout",
     "output_type": "stream",
     "text": [
      "     A   B   C   D\n",
      "K0  A0  B0  C0  D0\n",
      "K2  A2  B2  C2  D2\n"
     ]
    }
   ],
   "source": [
    "res = pd.merge(left, right, left_index=True, right_index=True, how='inner')\n",
    "print(res)"
   ]
  },
  {
   "cell_type": "code",
   "execution_count": 17,
   "id": "DzSFTLSvyFZE",
   "metadata": {
    "id": "DzSFTLSvyFZE",
    "outputId": "f210b041-dd11-481d-9594-9462cabd5b12"
   },
   "outputs": [
    {
     "name": "stdout",
     "output_type": "stream",
     "text": [
      "   col1 col_left\n",
      "0     0        a\n",
      "1     1        b\n"
     ]
    }
   ],
   "source": [
    "df1 = pd.DataFrame({'col1':[0,1], 'col_left':['a','b']})\n",
    "df2 = pd.DataFrame({'col1':[1,2,2],'col_right':[2,2,2]})\n",
    "\n",
    "print(df1)"
   ]
  },
  {
   "cell_type": "code",
   "execution_count": 18,
   "id": "M9iOJEAVyFZG",
   "metadata": {
    "id": "M9iOJEAVyFZG",
    "outputId": "e8e3b6c8-d38b-41b4-d2e5-976cfe72cbd2"
   },
   "outputs": [
    {
     "name": "stdout",
     "output_type": "stream",
     "text": [
      "   col1  col_right\n",
      "0     1          2\n",
      "1     2          2\n",
      "2     2          2\n"
     ]
    }
   ],
   "source": [
    "print(df2)"
   ]
  },
  {
   "cell_type": "code",
   "execution_count": 19,
   "id": "mRY8lossyFZJ",
   "metadata": {
    "id": "mRY8lossyFZJ",
    "outputId": "ed1818a1-02bc-432c-a8cd-425b47de400b"
   },
   "outputs": [
    {
     "name": "stdout",
     "output_type": "stream",
     "text": [
      "   col1 col_left  col_right      _merge\n",
      "0     0        a        NaN   left_only\n",
      "1     1        b        2.0        both\n",
      "2     2      NaN        2.0  right_only\n",
      "3     2      NaN        2.0  right_only\n"
     ]
    }
   ],
   "source": [
    "res = pd.merge(df1, df2, on='col1', how='outer', indicator=True)\n",
    "print(res)"
   ]
  },
  {
   "cell_type": "code",
   "execution_count": null,
   "id": "NLcaflGFyFZO",
   "metadata": {
    "id": "NLcaflGFyFZO",
    "outputId": "9082127a-822d-4394-8ccd-3017ce193b98",
    "scrolled": true
   },
   "outputs": [
    {
     "name": "stdout",
     "output_type": "stream",
     "text": [
      "   col1 col_left  col_right indicator_column\n",
      "0     0        a        NaN        left_only\n",
      "1     1        b        2.0             both\n",
      "2     2      NaN        2.0       right_only\n",
      "3     2      NaN        2.0       right_only\n"
     ]
    }
   ],
   "source": [
    "res = pd.merge(df1, df2, on='col1', how='outer', indicator='indicator_column')\n",
    "print(res)"
   ]
  },
  {
   "cell_type": "markdown",
   "id": "yl592zqcKPPb",
   "metadata": {
    "id": "yl592zqcKPPb"
   },
   "source": [
    "# 12.分組 groupby\n",
    "## 使用方法\n",
    "* groupby(欄位).agg([函數1, 函數2, 函數3, ...])\n",
    "* groupby(欄位).agg({欄位:函數})\n",
    "* groupby(欄位).agg(新欄位1=(欄位:函數), 新欄位2=(欄位:函數), ....)\n",
    "* groupby([欄位1, 欄位2, ...]).agg({欄位:函數})"
   ]
  },
  {
   "cell_type": "code",
   "execution_count": 20,
   "id": "ZPxCHr0cKPPb",
   "metadata": {
    "id": "ZPxCHr0cKPPb",
    "outputId": "d119a74f-1543-4677-a5af-9daa3517c634",
    "scrolled": true
   },
   "outputs": [
    {
     "data": {
      "text/html": [
       "<div>\n",
       "<style scoped>\n",
       "    .dataframe tbody tr th:only-of-type {\n",
       "        vertical-align: middle;\n",
       "    }\n",
       "\n",
       "    .dataframe tbody tr th {\n",
       "        vertical-align: top;\n",
       "    }\n",
       "\n",
       "    .dataframe thead th {\n",
       "        text-align: right;\n",
       "    }\n",
       "</style>\n",
       "<table border=\"1\" class=\"dataframe\">\n",
       "  <thead>\n",
       "    <tr style=\"text-align: right;\">\n",
       "      <th></th>\n",
       "      <th>產品</th>\n",
       "      <th>種類</th>\n",
       "      <th>保存方式</th>\n",
       "      <th>原產地</th>\n",
       "      <th>位址</th>\n",
       "      <th>原價</th>\n",
       "      <th>優惠價</th>\n",
       "      <th>貨存</th>\n",
       "    </tr>\n",
       "  </thead>\n",
       "  <tbody>\n",
       "    <tr>\n",
       "      <th>0</th>\n",
       "      <td>蘋果</td>\n",
       "      <td>水果</td>\n",
       "      <td>新鮮</td>\n",
       "      <td>本地</td>\n",
       "      <td>貨區 A1</td>\n",
       "      <td>3.6</td>\n",
       "      <td>3.4</td>\n",
       "      <td>67</td>\n",
       "    </tr>\n",
       "    <tr>\n",
       "      <th>1</th>\n",
       "      <td>奇異果</td>\n",
       "      <td>水果</td>\n",
       "      <td>新鮮</td>\n",
       "      <td>進口</td>\n",
       "      <td>貨區 A3</td>\n",
       "      <td>6.3</td>\n",
       "      <td>5.7</td>\n",
       "      <td>70</td>\n",
       "    </tr>\n",
       "    <tr>\n",
       "      <th>2</th>\n",
       "      <td>檸檬</td>\n",
       "      <td>水果</td>\n",
       "      <td>新鮮</td>\n",
       "      <td>本地</td>\n",
       "      <td>貨區 A1</td>\n",
       "      <td>2.4</td>\n",
       "      <td>1.9</td>\n",
       "      <td>80</td>\n",
       "    </tr>\n",
       "    <tr>\n",
       "      <th>3</th>\n",
       "      <td>牛排</td>\n",
       "      <td>肉類</td>\n",
       "      <td>新鮮</td>\n",
       "      <td>本地</td>\n",
       "      <td>貨區 A2</td>\n",
       "      <td>10.3</td>\n",
       "      <td>10.2</td>\n",
       "      <td>98</td>\n",
       "    </tr>\n",
       "    <tr>\n",
       "      <th>4</th>\n",
       "      <td>肥牛</td>\n",
       "      <td>肉類</td>\n",
       "      <td>冷藏</td>\n",
       "      <td>進口</td>\n",
       "      <td>貨區 B2</td>\n",
       "      <td>16.6</td>\n",
       "      <td>13.9</td>\n",
       "      <td>91</td>\n",
       "    </tr>\n",
       "    <tr>\n",
       "      <th>5</th>\n",
       "      <td>豬腩肉</td>\n",
       "      <td>肉類</td>\n",
       "      <td>冷藏</td>\n",
       "      <td>進口</td>\n",
       "      <td>貨區 B1</td>\n",
       "      <td>8.5</td>\n",
       "      <td>7.9</td>\n",
       "      <td>40</td>\n",
       "    </tr>\n",
       "    <tr>\n",
       "      <th>6</th>\n",
       "      <td>雞翅膀</td>\n",
       "      <td>肉類</td>\n",
       "      <td>新鮮</td>\n",
       "      <td>本地</td>\n",
       "      <td>貨區 A4</td>\n",
       "      <td>6.6</td>\n",
       "      <td>5.2</td>\n",
       "      <td>70</td>\n",
       "    </tr>\n",
       "    <tr>\n",
       "      <th>7</th>\n",
       "      <td>奶酪</td>\n",
       "      <td>奶製品</td>\n",
       "      <td>冷藏</td>\n",
       "      <td>本地</td>\n",
       "      <td>貨區 B2</td>\n",
       "      <td>5.3</td>\n",
       "      <td>5.1</td>\n",
       "      <td>86</td>\n",
       "    </tr>\n",
       "    <tr>\n",
       "      <th>8</th>\n",
       "      <td>牛奶</td>\n",
       "      <td>奶製品</td>\n",
       "      <td>新鮮</td>\n",
       "      <td>本地</td>\n",
       "      <td>貨區 A1</td>\n",
       "      <td>2.4</td>\n",
       "      <td>1.9</td>\n",
       "      <td>72</td>\n",
       "    </tr>\n",
       "  </tbody>\n",
       "</table>\n",
       "</div>"
      ],
      "text/plain": [
       "    產品   種類 保存方式 原產地     位址    原價   優惠價  貨存\n",
       "0   蘋果   水果   新鮮  本地  貨區 A1   3.6   3.4  67\n",
       "1  奇異果   水果   新鮮  進口  貨區 A3   6.3   5.7  70\n",
       "2   檸檬   水果   新鮮  本地  貨區 A1   2.4   1.9  80\n",
       "3   牛排   肉類   新鮮  本地  貨區 A2  10.3  10.2  98\n",
       "4   肥牛   肉類   冷藏  進口  貨區 B2  16.6  13.9  91\n",
       "5  豬腩肉   肉類   冷藏  進口  貨區 B1   8.5   7.9  40\n",
       "6  雞翅膀   肉類   新鮮  本地  貨區 A4   6.6   5.2  70\n",
       "7   奶酪  奶製品   冷藏  本地  貨區 B2   5.3   5.1  86\n",
       "8   牛奶  奶製品   新鮮  本地  貨區 A1   2.4   1.9  72"
      ]
     },
     "execution_count": 20,
     "metadata": {},
     "output_type": "execute_result"
    }
   ],
   "source": [
    "import pandas as pd\n",
    "import numpy as np\n",
    "df = pd.DataFrame(\n",
    "    {\n",
    "      '產品': ['蘋果','奇異果','檸檬','牛排','肥牛','豬腩肉','雞翅膀','奶酪','牛奶'],\n",
    "      '種類': ['水果','水果','水果','肉類','肉類','肉類','肉類','奶製品','奶製品'],\n",
    "      '保存方式': ['新鮮','新鮮','新鮮','新鮮','冷藏','冷藏','新鮮','冷藏','新鮮'],\n",
    "      '原產地': ['本地','進口','本地','本地','進口','進口','本地','本地','本地'],\n",
    "      '位址': ['貨區 A1','貨區 A3','貨區 A1','貨區 A2','貨區 B2','貨區 B1','貨區 A4','貨區 B2','貨區 A1'],\n",
    "      '原價': [3.6, 6.3, 2.4, 10.3, 16.6, 8.5, 6.6, 5.3, 2.4],\n",
    "      '優惠價': [3.4, 5.7, 1.9, 10.2, 13.9, 7.9, 5.2, 5.1, 1.9],\n",
    "      '貨存': [67, 70, 80, 98, 91, 40, 70, 86, 72],\n",
    "    }    \n",
    ")\n",
    "df"
   ]
  },
  {
   "cell_type": "code",
   "execution_count": 21,
   "id": "BN0uLPqOKPPb",
   "metadata": {
    "id": "BN0uLPqOKPPb",
    "outputId": "f2f4ac0f-7b37-4d49-9f5d-8d6098404481"
   },
   "outputs": [
    {
     "data": {
      "text/html": [
       "<style type=\"text/css\">\n",
       "#T_ab7cb_row0_col0, #T_ab7cb_row0_col1, #T_ab7cb_row0_col2, #T_ab7cb_row0_col3, #T_ab7cb_row0_col4, #T_ab7cb_row0_col5, #T_ab7cb_row0_col6, #T_ab7cb_row0_col7, #T_ab7cb_row1_col0, #T_ab7cb_row1_col1, #T_ab7cb_row1_col2, #T_ab7cb_row1_col3, #T_ab7cb_row1_col4, #T_ab7cb_row1_col5, #T_ab7cb_row1_col6, #T_ab7cb_row1_col7, #T_ab7cb_row2_col0, #T_ab7cb_row2_col1, #T_ab7cb_row2_col2, #T_ab7cb_row2_col3, #T_ab7cb_row2_col4, #T_ab7cb_row2_col5, #T_ab7cb_row2_col6, #T_ab7cb_row2_col7 {\n",
       "  background-color: #92D050;\n",
       "}\n",
       "#T_ab7cb_row3_col0, #T_ab7cb_row3_col1, #T_ab7cb_row3_col2, #T_ab7cb_row3_col3, #T_ab7cb_row3_col4, #T_ab7cb_row3_col5, #T_ab7cb_row3_col6, #T_ab7cb_row3_col7, #T_ab7cb_row4_col0, #T_ab7cb_row4_col1, #T_ab7cb_row4_col2, #T_ab7cb_row4_col3, #T_ab7cb_row4_col4, #T_ab7cb_row4_col5, #T_ab7cb_row4_col6, #T_ab7cb_row4_col7, #T_ab7cb_row5_col0, #T_ab7cb_row5_col1, #T_ab7cb_row5_col2, #T_ab7cb_row5_col3, #T_ab7cb_row5_col4, #T_ab7cb_row5_col5, #T_ab7cb_row5_col6, #T_ab7cb_row5_col7, #T_ab7cb_row6_col0, #T_ab7cb_row6_col1, #T_ab7cb_row6_col2, #T_ab7cb_row6_col3, #T_ab7cb_row6_col4, #T_ab7cb_row6_col5, #T_ab7cb_row6_col6, #T_ab7cb_row6_col7 {\n",
       "  background-color: #00B0F0;\n",
       "}\n",
       "#T_ab7cb_row7_col0, #T_ab7cb_row7_col1, #T_ab7cb_row7_col2, #T_ab7cb_row7_col3, #T_ab7cb_row7_col4, #T_ab7cb_row7_col5, #T_ab7cb_row7_col6, #T_ab7cb_row7_col7, #T_ab7cb_row8_col0, #T_ab7cb_row8_col1, #T_ab7cb_row8_col2, #T_ab7cb_row8_col3, #T_ab7cb_row8_col4, #T_ab7cb_row8_col5, #T_ab7cb_row8_col6, #T_ab7cb_row8_col7 {\n",
       "  background-color: #FF0000;\n",
       "}\n",
       "</style>\n",
       "<table id=\"T_ab7cb\">\n",
       "  <thead>\n",
       "    <tr>\n",
       "      <th class=\"blank level0\" >&nbsp;</th>\n",
       "      <th id=\"T_ab7cb_level0_col0\" class=\"col_heading level0 col0\" >產品</th>\n",
       "      <th id=\"T_ab7cb_level0_col1\" class=\"col_heading level0 col1\" >種類</th>\n",
       "      <th id=\"T_ab7cb_level0_col2\" class=\"col_heading level0 col2\" >保存方式</th>\n",
       "      <th id=\"T_ab7cb_level0_col3\" class=\"col_heading level0 col3\" >原產地</th>\n",
       "      <th id=\"T_ab7cb_level0_col4\" class=\"col_heading level0 col4\" >位址</th>\n",
       "      <th id=\"T_ab7cb_level0_col5\" class=\"col_heading level0 col5\" >原價</th>\n",
       "      <th id=\"T_ab7cb_level0_col6\" class=\"col_heading level0 col6\" >優惠價</th>\n",
       "      <th id=\"T_ab7cb_level0_col7\" class=\"col_heading level0 col7\" >貨存</th>\n",
       "    </tr>\n",
       "  </thead>\n",
       "  <tbody>\n",
       "    <tr>\n",
       "      <th id=\"T_ab7cb_level0_row0\" class=\"row_heading level0 row0\" >0</th>\n",
       "      <td id=\"T_ab7cb_row0_col0\" class=\"data row0 col0\" >蘋果</td>\n",
       "      <td id=\"T_ab7cb_row0_col1\" class=\"data row0 col1\" >水果</td>\n",
       "      <td id=\"T_ab7cb_row0_col2\" class=\"data row0 col2\" >新鮮</td>\n",
       "      <td id=\"T_ab7cb_row0_col3\" class=\"data row0 col3\" >本地</td>\n",
       "      <td id=\"T_ab7cb_row0_col4\" class=\"data row0 col4\" >貨區 A1</td>\n",
       "      <td id=\"T_ab7cb_row0_col5\" class=\"data row0 col5\" >3.600000</td>\n",
       "      <td id=\"T_ab7cb_row0_col6\" class=\"data row0 col6\" >3.400000</td>\n",
       "      <td id=\"T_ab7cb_row0_col7\" class=\"data row0 col7\" >67</td>\n",
       "    </tr>\n",
       "    <tr>\n",
       "      <th id=\"T_ab7cb_level0_row1\" class=\"row_heading level0 row1\" >1</th>\n",
       "      <td id=\"T_ab7cb_row1_col0\" class=\"data row1 col0\" >奇異果</td>\n",
       "      <td id=\"T_ab7cb_row1_col1\" class=\"data row1 col1\" >水果</td>\n",
       "      <td id=\"T_ab7cb_row1_col2\" class=\"data row1 col2\" >新鮮</td>\n",
       "      <td id=\"T_ab7cb_row1_col3\" class=\"data row1 col3\" >進口</td>\n",
       "      <td id=\"T_ab7cb_row1_col4\" class=\"data row1 col4\" >貨區 A3</td>\n",
       "      <td id=\"T_ab7cb_row1_col5\" class=\"data row1 col5\" >6.300000</td>\n",
       "      <td id=\"T_ab7cb_row1_col6\" class=\"data row1 col6\" >5.700000</td>\n",
       "      <td id=\"T_ab7cb_row1_col7\" class=\"data row1 col7\" >70</td>\n",
       "    </tr>\n",
       "    <tr>\n",
       "      <th id=\"T_ab7cb_level0_row2\" class=\"row_heading level0 row2\" >2</th>\n",
       "      <td id=\"T_ab7cb_row2_col0\" class=\"data row2 col0\" >檸檬</td>\n",
       "      <td id=\"T_ab7cb_row2_col1\" class=\"data row2 col1\" >水果</td>\n",
       "      <td id=\"T_ab7cb_row2_col2\" class=\"data row2 col2\" >新鮮</td>\n",
       "      <td id=\"T_ab7cb_row2_col3\" class=\"data row2 col3\" >本地</td>\n",
       "      <td id=\"T_ab7cb_row2_col4\" class=\"data row2 col4\" >貨區 A1</td>\n",
       "      <td id=\"T_ab7cb_row2_col5\" class=\"data row2 col5\" >2.400000</td>\n",
       "      <td id=\"T_ab7cb_row2_col6\" class=\"data row2 col6\" >1.900000</td>\n",
       "      <td id=\"T_ab7cb_row2_col7\" class=\"data row2 col7\" >80</td>\n",
       "    </tr>\n",
       "    <tr>\n",
       "      <th id=\"T_ab7cb_level0_row3\" class=\"row_heading level0 row3\" >3</th>\n",
       "      <td id=\"T_ab7cb_row3_col0\" class=\"data row3 col0\" >牛排</td>\n",
       "      <td id=\"T_ab7cb_row3_col1\" class=\"data row3 col1\" >肉類</td>\n",
       "      <td id=\"T_ab7cb_row3_col2\" class=\"data row3 col2\" >新鮮</td>\n",
       "      <td id=\"T_ab7cb_row3_col3\" class=\"data row3 col3\" >本地</td>\n",
       "      <td id=\"T_ab7cb_row3_col4\" class=\"data row3 col4\" >貨區 A2</td>\n",
       "      <td id=\"T_ab7cb_row3_col5\" class=\"data row3 col5\" >10.300000</td>\n",
       "      <td id=\"T_ab7cb_row3_col6\" class=\"data row3 col6\" >10.200000</td>\n",
       "      <td id=\"T_ab7cb_row3_col7\" class=\"data row3 col7\" >98</td>\n",
       "    </tr>\n",
       "    <tr>\n",
       "      <th id=\"T_ab7cb_level0_row4\" class=\"row_heading level0 row4\" >4</th>\n",
       "      <td id=\"T_ab7cb_row4_col0\" class=\"data row4 col0\" >肥牛</td>\n",
       "      <td id=\"T_ab7cb_row4_col1\" class=\"data row4 col1\" >肉類</td>\n",
       "      <td id=\"T_ab7cb_row4_col2\" class=\"data row4 col2\" >冷藏</td>\n",
       "      <td id=\"T_ab7cb_row4_col3\" class=\"data row4 col3\" >進口</td>\n",
       "      <td id=\"T_ab7cb_row4_col4\" class=\"data row4 col4\" >貨區 B2</td>\n",
       "      <td id=\"T_ab7cb_row4_col5\" class=\"data row4 col5\" >16.600000</td>\n",
       "      <td id=\"T_ab7cb_row4_col6\" class=\"data row4 col6\" >13.900000</td>\n",
       "      <td id=\"T_ab7cb_row4_col7\" class=\"data row4 col7\" >91</td>\n",
       "    </tr>\n",
       "    <tr>\n",
       "      <th id=\"T_ab7cb_level0_row5\" class=\"row_heading level0 row5\" >5</th>\n",
       "      <td id=\"T_ab7cb_row5_col0\" class=\"data row5 col0\" >豬腩肉</td>\n",
       "      <td id=\"T_ab7cb_row5_col1\" class=\"data row5 col1\" >肉類</td>\n",
       "      <td id=\"T_ab7cb_row5_col2\" class=\"data row5 col2\" >冷藏</td>\n",
       "      <td id=\"T_ab7cb_row5_col3\" class=\"data row5 col3\" >進口</td>\n",
       "      <td id=\"T_ab7cb_row5_col4\" class=\"data row5 col4\" >貨區 B1</td>\n",
       "      <td id=\"T_ab7cb_row5_col5\" class=\"data row5 col5\" >8.500000</td>\n",
       "      <td id=\"T_ab7cb_row5_col6\" class=\"data row5 col6\" >7.900000</td>\n",
       "      <td id=\"T_ab7cb_row5_col7\" class=\"data row5 col7\" >40</td>\n",
       "    </tr>\n",
       "    <tr>\n",
       "      <th id=\"T_ab7cb_level0_row6\" class=\"row_heading level0 row6\" >6</th>\n",
       "      <td id=\"T_ab7cb_row6_col0\" class=\"data row6 col0\" >雞翅膀</td>\n",
       "      <td id=\"T_ab7cb_row6_col1\" class=\"data row6 col1\" >肉類</td>\n",
       "      <td id=\"T_ab7cb_row6_col2\" class=\"data row6 col2\" >新鮮</td>\n",
       "      <td id=\"T_ab7cb_row6_col3\" class=\"data row6 col3\" >本地</td>\n",
       "      <td id=\"T_ab7cb_row6_col4\" class=\"data row6 col4\" >貨區 A4</td>\n",
       "      <td id=\"T_ab7cb_row6_col5\" class=\"data row6 col5\" >6.600000</td>\n",
       "      <td id=\"T_ab7cb_row6_col6\" class=\"data row6 col6\" >5.200000</td>\n",
       "      <td id=\"T_ab7cb_row6_col7\" class=\"data row6 col7\" >70</td>\n",
       "    </tr>\n",
       "    <tr>\n",
       "      <th id=\"T_ab7cb_level0_row7\" class=\"row_heading level0 row7\" >7</th>\n",
       "      <td id=\"T_ab7cb_row7_col0\" class=\"data row7 col0\" >奶酪</td>\n",
       "      <td id=\"T_ab7cb_row7_col1\" class=\"data row7 col1\" >奶製品</td>\n",
       "      <td id=\"T_ab7cb_row7_col2\" class=\"data row7 col2\" >冷藏</td>\n",
       "      <td id=\"T_ab7cb_row7_col3\" class=\"data row7 col3\" >本地</td>\n",
       "      <td id=\"T_ab7cb_row7_col4\" class=\"data row7 col4\" >貨區 B2</td>\n",
       "      <td id=\"T_ab7cb_row7_col5\" class=\"data row7 col5\" >5.300000</td>\n",
       "      <td id=\"T_ab7cb_row7_col6\" class=\"data row7 col6\" >5.100000</td>\n",
       "      <td id=\"T_ab7cb_row7_col7\" class=\"data row7 col7\" >86</td>\n",
       "    </tr>\n",
       "    <tr>\n",
       "      <th id=\"T_ab7cb_level0_row8\" class=\"row_heading level0 row8\" >8</th>\n",
       "      <td id=\"T_ab7cb_row8_col0\" class=\"data row8 col0\" >牛奶</td>\n",
       "      <td id=\"T_ab7cb_row8_col1\" class=\"data row8 col1\" >奶製品</td>\n",
       "      <td id=\"T_ab7cb_row8_col2\" class=\"data row8 col2\" >新鮮</td>\n",
       "      <td id=\"T_ab7cb_row8_col3\" class=\"data row8 col3\" >本地</td>\n",
       "      <td id=\"T_ab7cb_row8_col4\" class=\"data row8 col4\" >貨區 A1</td>\n",
       "      <td id=\"T_ab7cb_row8_col5\" class=\"data row8 col5\" >2.400000</td>\n",
       "      <td id=\"T_ab7cb_row8_col6\" class=\"data row8 col6\" >1.900000</td>\n",
       "      <td id=\"T_ab7cb_row8_col7\" class=\"data row8 col7\" >72</td>\n",
       "    </tr>\n",
       "  </tbody>\n",
       "</table>\n"
      ],
      "text/plain": [
       "<pandas.io.formats.style.Styler at 0x2387560b250>"
      ]
     },
     "execution_count": 21,
     "metadata": {},
     "output_type": "execute_result"
    }
   ],
   "source": [
    "def highlight(x):\n",
    "    c1 = 'background-color: #92D050'\n",
    "    c2 = 'background-color: #00B0F0'    \n",
    "    c3 = 'background-color: #FF0000'\n",
    "    \n",
    "    df1 = pd.DataFrame('', index=x.index, columns=x.columns)\n",
    "    df1.loc[[0, 1, 2], :] = c1\n",
    "    df1.loc[3:6] = c2\n",
    "    df1.loc[7:] = c3\n",
    "    return df1\n",
    "\n",
    "df.style.apply(highlight, axis=None)"
   ]
  },
  {
   "cell_type": "code",
   "execution_count": 23,
   "id": "e1XzPzRkKPPb",
   "metadata": {
    "id": "e1XzPzRkKPPb",
    "outputId": "f611ebc5-9287-4104-c283-ebe1e147f279"
   },
   "outputs": [
    {
     "data": {
      "text/plain": [
       "種類\n",
       "奶製品    2\n",
       "水果     3\n",
       "肉類     4\n",
       "dtype: int64"
      ]
     },
     "execution_count": 23,
     "metadata": {},
     "output_type": "execute_result"
    }
   ],
   "source": [
    "# 查看每個分組內有多少項目\n",
    "kind = df.groupby('種類')\n",
    "kind.size()"
   ]
  },
  {
   "cell_type": "code",
   "execution_count": 24,
   "id": "1HyBpfdzKPPb",
   "metadata": {
    "id": "1HyBpfdzKPPb",
    "outputId": "91e4e880-a545-47ad-be9c-663aa6b7253a"
   },
   "outputs": [
    {
     "data": {
      "text/html": [
       "<div>\n",
       "<style scoped>\n",
       "    .dataframe tbody tr th:only-of-type {\n",
       "        vertical-align: middle;\n",
       "    }\n",
       "\n",
       "    .dataframe tbody tr th {\n",
       "        vertical-align: top;\n",
       "    }\n",
       "\n",
       "    .dataframe thead th {\n",
       "        text-align: right;\n",
       "    }\n",
       "</style>\n",
       "<table border=\"1\" class=\"dataframe\">\n",
       "  <thead>\n",
       "    <tr style=\"text-align: right;\">\n",
       "      <th></th>\n",
       "      <th>產品</th>\n",
       "      <th>種類</th>\n",
       "      <th>保存方式</th>\n",
       "      <th>原產地</th>\n",
       "      <th>位址</th>\n",
       "      <th>原價</th>\n",
       "      <th>優惠價</th>\n",
       "      <th>貨存</th>\n",
       "    </tr>\n",
       "  </thead>\n",
       "  <tbody>\n",
       "    <tr>\n",
       "      <th>0</th>\n",
       "      <td>蘋果</td>\n",
       "      <td>水果</td>\n",
       "      <td>新鮮</td>\n",
       "      <td>本地</td>\n",
       "      <td>貨區 A1</td>\n",
       "      <td>3.6</td>\n",
       "      <td>3.4</td>\n",
       "      <td>67</td>\n",
       "    </tr>\n",
       "    <tr>\n",
       "      <th>1</th>\n",
       "      <td>奇異果</td>\n",
       "      <td>水果</td>\n",
       "      <td>新鮮</td>\n",
       "      <td>進口</td>\n",
       "      <td>貨區 A3</td>\n",
       "      <td>6.3</td>\n",
       "      <td>5.7</td>\n",
       "      <td>70</td>\n",
       "    </tr>\n",
       "    <tr>\n",
       "      <th>2</th>\n",
       "      <td>檸檬</td>\n",
       "      <td>水果</td>\n",
       "      <td>新鮮</td>\n",
       "      <td>本地</td>\n",
       "      <td>貨區 A1</td>\n",
       "      <td>2.4</td>\n",
       "      <td>1.9</td>\n",
       "      <td>80</td>\n",
       "    </tr>\n",
       "  </tbody>\n",
       "</table>\n",
       "</div>"
      ],
      "text/plain": [
       "    產品  種類 保存方式 原產地     位址   原價  優惠價  貨存\n",
       "0   蘋果  水果   新鮮  本地  貨區 A1  3.6  3.4  67\n",
       "1  奇異果  水果   新鮮  進口  貨區 A3  6.3  5.7  70\n",
       "2   檸檬  水果   新鮮  本地  貨區 A1  2.4  1.9  80"
      ]
     },
     "execution_count": 24,
     "metadata": {},
     "output_type": "execute_result"
    }
   ],
   "source": [
    "# 查看每個分組內的項目\n",
    "kind.get_group('水果')"
   ]
  },
  {
   "cell_type": "code",
   "execution_count": null,
   "id": "UN3ywo-LKPPb",
   "metadata": {
    "id": "UN3ywo-LKPPb",
    "outputId": "8f6268c4-e086-440e-dd3f-901edc99f070"
   },
   "outputs": [
    {
     "data": {
      "text/plain": [
       "{'奶製品': [7, 8], '水果': [0, 1, 2], '肉類': [3, 4, 5, 6]}"
      ]
     },
     "execution_count": 17,
     "metadata": {},
     "output_type": "execute_result"
    }
   ],
   "source": [
    "# 查看被分成那些組\n",
    "kind.groups"
   ]
  },
  {
   "cell_type": "code",
   "execution_count": 27,
   "id": "6c5bbbd7",
   "metadata": {},
   "outputs": [
    {
     "name": "stdout",
     "output_type": "stream",
     "text": [
      "1=2=3=4=5\n",
      "1=2=3=4=5\n",
      "4=5=3=2=1\n",
      "1=2=3=4=5\n",
      "1=2=3=4=5\n",
      "1=3=5\n",
      "2=4=6\n"
     ]
    }
   ],
   "source": [
    "#join裡面帶序列\n",
    "import pandas as pd\n",
    "import numpy as np\n",
    "print('='.join(['1','2','3','4','5']))\n",
    "print('='.join(tuple(['1','2','3','4','5'])))\n",
    "print('='.join(set(['1','2','3','4','5'])))\n",
    "print('='.join(np.array(['1','2','3','4','5'])))\n",
    "print('='.join(pd.Series(['1','2','3','4','5'])))\n",
    "print('='.join(dict({'1':'2','3':'4','5':'6'})))\n",
    "print('='.join(dict({'1':'2','3':'4','5':'6'}).values()))"
   ]
  },
  {
   "cell_type": "code",
   "execution_count": null,
   "id": "eKu7H0zPKPPc",
   "metadata": {
    "id": "eKu7H0zPKPPc",
    "outputId": "e70d9990-bf43-4e4c-c5d1-ae68006bf9e3"
   },
   "outputs": [
    {
     "data": {
      "text/html": [
       "<div>\n",
       "<style scoped>\n",
       "    .dataframe tbody tr th:only-of-type {\n",
       "        vertical-align: middle;\n",
       "    }\n",
       "\n",
       "    .dataframe tbody tr th {\n",
       "        vertical-align: top;\n",
       "    }\n",
       "\n",
       "    .dataframe thead th {\n",
       "        text-align: right;\n",
       "    }\n",
       "</style>\n",
       "<table border=\"1\" class=\"dataframe\">\n",
       "  <thead>\n",
       "    <tr style=\"text-align: right;\">\n",
       "      <th></th>\n",
       "      <th>產品</th>\n",
       "    </tr>\n",
       "    <tr>\n",
       "      <th>種類</th>\n",
       "      <th></th>\n",
       "    </tr>\n",
       "  </thead>\n",
       "  <tbody>\n",
       "    <tr>\n",
       "      <th>奶製品</th>\n",
       "      <td>奶酪,牛奶</td>\n",
       "    </tr>\n",
       "    <tr>\n",
       "      <th>水果</th>\n",
       "      <td>蘋果,奇異果,檸檬</td>\n",
       "    </tr>\n",
       "    <tr>\n",
       "      <th>肉類</th>\n",
       "      <td>牛排,肥牛,豬腩肉,雞翅膀</td>\n",
       "    </tr>\n",
       "  </tbody>\n",
       "</table>\n",
       "</div>"
      ],
      "text/plain": [
       "                產品\n",
       "種類                \n",
       "奶製品          奶酪,牛奶\n",
       "水果       蘋果,奇異果,檸檬\n",
       "肉類   牛排,肥牛,豬腩肉,雞翅膀"
      ]
     },
     "execution_count": 5,
     "metadata": {},
     "output_type": "execute_result"
    }
   ],
   "source": [
    "# 將文字組合成一行\n",
    "df.groupby('種類').agg({'產品': ','.join})"
   ]
  },
  {
   "cell_type": "code",
   "execution_count": null,
   "id": "Hd0mnyFwKPPc",
   "metadata": {
    "id": "Hd0mnyFwKPPc",
    "outputId": "cacb3aa6-1780-4917-bfb1-0b21549d44a7"
   },
   "outputs": [
    {
     "data": {
      "text/html": [
       "<div>\n",
       "<style scoped>\n",
       "    .dataframe tbody tr th:only-of-type {\n",
       "        vertical-align: middle;\n",
       "    }\n",
       "\n",
       "    .dataframe tbody tr th {\n",
       "        vertical-align: top;\n",
       "    }\n",
       "\n",
       "    .dataframe thead th {\n",
       "        text-align: right;\n",
       "    }\n",
       "</style>\n",
       "<table border=\"1\" class=\"dataframe\">\n",
       "  <thead>\n",
       "    <tr style=\"text-align: right;\">\n",
       "      <th></th>\n",
       "      <th>產品</th>\n",
       "    </tr>\n",
       "    <tr>\n",
       "      <th>種類</th>\n",
       "      <th></th>\n",
       "    </tr>\n",
       "  </thead>\n",
       "  <tbody>\n",
       "    <tr>\n",
       "      <th>奶製品</th>\n",
       "      <td>2</td>\n",
       "    </tr>\n",
       "    <tr>\n",
       "      <th>水果</th>\n",
       "      <td>3</td>\n",
       "    </tr>\n",
       "    <tr>\n",
       "      <th>肉類</th>\n",
       "      <td>4</td>\n",
       "    </tr>\n",
       "  </tbody>\n",
       "</table>\n",
       "</div>"
      ],
      "text/plain": [
       "     產品\n",
       "種類     \n",
       "奶製品   2\n",
       "水果    3\n",
       "肉類    4"
      ]
     },
     "execution_count": 6,
     "metadata": {},
     "output_type": "execute_result"
    }
   ],
   "source": [
    "# 尋找每個組別的數量\n",
    "df.groupby('種類').agg({'產品':len})"
   ]
  },
  {
   "cell_type": "code",
   "execution_count": null,
   "id": "5qcNyKM1KPPc",
   "metadata": {
    "id": "5qcNyKM1KPPc",
    "outputId": "2210c5b4-db01-4cff-e3c5-4e5505466a04"
   },
   "outputs": [
    {
     "data": {
      "text/html": [
       "<div>\n",
       "<style scoped>\n",
       "    .dataframe tbody tr th:only-of-type {\n",
       "        vertical-align: middle;\n",
       "    }\n",
       "\n",
       "    .dataframe tbody tr th {\n",
       "        vertical-align: top;\n",
       "    }\n",
       "\n",
       "    .dataframe thead th {\n",
       "        text-align: right;\n",
       "    }\n",
       "</style>\n",
       "<table border=\"1\" class=\"dataframe\">\n",
       "  <thead>\n",
       "    <tr style=\"text-align: right;\">\n",
       "      <th></th>\n",
       "      <th>貨存</th>\n",
       "    </tr>\n",
       "    <tr>\n",
       "      <th>種類</th>\n",
       "      <th></th>\n",
       "    </tr>\n",
       "  </thead>\n",
       "  <tbody>\n",
       "    <tr>\n",
       "      <th>奶製品</th>\n",
       "      <td>158</td>\n",
       "    </tr>\n",
       "    <tr>\n",
       "      <th>水果</th>\n",
       "      <td>217</td>\n",
       "    </tr>\n",
       "    <tr>\n",
       "      <th>肉類</th>\n",
       "      <td>299</td>\n",
       "    </tr>\n",
       "  </tbody>\n",
       "</table>\n",
       "</div>"
      ],
      "text/plain": [
       "      貨存\n",
       "種類      \n",
       "奶製品  158\n",
       "水果   217\n",
       "肉類   299"
      ]
     },
     "execution_count": 8,
     "metadata": {},
     "output_type": "execute_result"
    }
   ],
   "source": [
    "#將數字加起上來/尋找平均值\n",
    "df.groupby('種類').agg({'貨存':sum})"
   ]
  },
  {
   "cell_type": "code",
   "execution_count": null,
   "id": "Nk1r3hshKPPc",
   "metadata": {
    "id": "Nk1r3hshKPPc",
    "outputId": "1435a819-1ba0-4f75-fff8-361226b101cc"
   },
   "outputs": [
    {
     "data": {
      "text/html": [
       "<div>\n",
       "<style scoped>\n",
       "    .dataframe tbody tr th:only-of-type {\n",
       "        vertical-align: middle;\n",
       "    }\n",
       "\n",
       "    .dataframe tbody tr th {\n",
       "        vertical-align: top;\n",
       "    }\n",
       "\n",
       "    .dataframe thead th {\n",
       "        text-align: right;\n",
       "    }\n",
       "</style>\n",
       "<table border=\"1\" class=\"dataframe\">\n",
       "  <thead>\n",
       "    <tr style=\"text-align: right;\">\n",
       "      <th></th>\n",
       "      <th></th>\n",
       "      <th>貨存</th>\n",
       "    </tr>\n",
       "    <tr>\n",
       "      <th>種類</th>\n",
       "      <th>保存方式</th>\n",
       "      <th></th>\n",
       "    </tr>\n",
       "  </thead>\n",
       "  <tbody>\n",
       "    <tr>\n",
       "      <th rowspan=\"2\" valign=\"top\">奶製品</th>\n",
       "      <th>冷藏</th>\n",
       "      <td>86</td>\n",
       "    </tr>\n",
       "    <tr>\n",
       "      <th>新鮮</th>\n",
       "      <td>72</td>\n",
       "    </tr>\n",
       "    <tr>\n",
       "      <th>水果</th>\n",
       "      <th>新鮮</th>\n",
       "      <td>217</td>\n",
       "    </tr>\n",
       "    <tr>\n",
       "      <th rowspan=\"2\" valign=\"top\">肉類</th>\n",
       "      <th>冷藏</th>\n",
       "      <td>131</td>\n",
       "    </tr>\n",
       "    <tr>\n",
       "      <th>新鮮</th>\n",
       "      <td>168</td>\n",
       "    </tr>\n",
       "  </tbody>\n",
       "</table>\n",
       "</div>"
      ],
      "text/plain": [
       "           貨存\n",
       "種類  保存方式     \n",
       "奶製品 冷藏     86\n",
       "    新鮮     72\n",
       "水果  新鮮    217\n",
       "肉類  冷藏    131\n",
       "    新鮮    168"
      ]
     },
     "execution_count": 9,
     "metadata": {},
     "output_type": "execute_result"
    }
   ],
   "source": [
    "# 多層的分組（multi-level）\n",
    "df.groupby(['種類','保存方式']).agg({'貨存':sum}) \n",
    "             #多欄位用中括弧"
   ]
  },
  {
   "cell_type": "code",
   "execution_count": 28,
   "id": "n9sI7LnRKPPc",
   "metadata": {
    "id": "n9sI7LnRKPPc",
    "outputId": "480fff0b-d7b9-4020-ecb2-c9b7d8545267"
   },
   "outputs": [
    {
     "data": {
      "text/html": [
       "<div>\n",
       "<style scoped>\n",
       "    .dataframe tbody tr th:only-of-type {\n",
       "        vertical-align: middle;\n",
       "    }\n",
       "\n",
       "    .dataframe tbody tr th {\n",
       "        vertical-align: top;\n",
       "    }\n",
       "\n",
       "    .dataframe thead th {\n",
       "        text-align: right;\n",
       "    }\n",
       "</style>\n",
       "<table border=\"1\" class=\"dataframe\">\n",
       "  <thead>\n",
       "    <tr style=\"text-align: right;\">\n",
       "      <th></th>\n",
       "      <th>平均的原價</th>\n",
       "      <th>最高的原價</th>\n",
       "      <th>最低的原價</th>\n",
       "      <th>總貨存</th>\n",
       "    </tr>\n",
       "    <tr>\n",
       "      <th>種類</th>\n",
       "      <th></th>\n",
       "      <th></th>\n",
       "      <th></th>\n",
       "      <th></th>\n",
       "    </tr>\n",
       "  </thead>\n",
       "  <tbody>\n",
       "    <tr>\n",
       "      <th>奶製品</th>\n",
       "      <td>3.85</td>\n",
       "      <td>5.3</td>\n",
       "      <td>2.4</td>\n",
       "      <td>158</td>\n",
       "    </tr>\n",
       "    <tr>\n",
       "      <th>水果</th>\n",
       "      <td>4.10</td>\n",
       "      <td>6.3</td>\n",
       "      <td>2.4</td>\n",
       "      <td>217</td>\n",
       "    </tr>\n",
       "    <tr>\n",
       "      <th>肉類</th>\n",
       "      <td>10.50</td>\n",
       "      <td>16.6</td>\n",
       "      <td>6.6</td>\n",
       "      <td>299</td>\n",
       "    </tr>\n",
       "  </tbody>\n",
       "</table>\n",
       "</div>"
      ],
      "text/plain": [
       "     平均的原價  最高的原價  最低的原價  總貨存\n",
       "種類                           \n",
       "奶製品   3.85    5.3    2.4  158\n",
       "水果    4.10    6.3    2.4  217\n",
       "肉類   10.50   16.6    6.6  299"
      ]
     },
     "execution_count": 28,
     "metadata": {},
     "output_type": "execute_result"
    }
   ],
   "source": [
    "import numpy as np\n",
    "# 重複使用同一個列（column）\n",
    "df.groupby(['種類']).agg(\n",
    "    平均的原價=('原價', np.mean),\n",
    "    最高的原價=('原價', max),\n",
    "    最低的原價=('原價', min),\n",
    "    總貨存=('貨存', sum),\n",
    "    )"
   ]
  },
  {
   "cell_type": "markdown",
   "id": "rWj40-59KPPc",
   "metadata": {
    "id": "rWj40-59KPPc"
   },
   "source": [
    "# 13.樞紐分析表\n",
    "df.pivot_table(values=None, index=None, columns=None, aggfunc='mean', fill_value=None, margins=False, dropna=True, margins_name='All', observed=False)\n",
    "<br/>或<br/>\n",
    "pandas.pivot_table(data, values=None, index=None, columns=None, aggfunc='mean', fill_value=None, margins=False, dropna=True, margins_name='All', observed=False)\n",
    "\n",
    "#### 常用參數：\n",
    "* data : 讀取要使用的 DataFrame \n",
    "* index : 必要參數。此處輸入不想要變動的數據，作為想要比較的欄位基礎，該數據會成為第一欄的索引（index），此處能以 list、array 等方式輸入多個 index，則結果會以巢狀的方式呈現。\n",
    "* values : 可選。可以對需要計算的數據做篩選，如果以 list、array 等方式輸入多個 value，則能夠分別獲得該欄位的不同數值。\n",
    "* columns : 可選。用以分割數據，去選出想比較的特定欄位。\n",
    "* aggfunc : function 參數。Pivot Table 能夠引入 count、diff、mean、max、min 等內建參數，甚至能自訂 function 使用。\n",
    "* margins : 小計功能。\n",
    "* fill_value : 缺值填滿。\n",
    "![](image/20221102-1.png)"
   ]
  },
  {
   "cell_type": "code",
   "execution_count": 30,
   "id": "K91REvstKPPc",
   "metadata": {
    "id": "K91REvstKPPc",
    "outputId": "0388ef17-e69d-4558-da84-b71186995c1d"
   },
   "outputs": [
    {
     "data": {
      "text/html": [
       "<div>\n",
       "<style scoped>\n",
       "    .dataframe tbody tr th:only-of-type {\n",
       "        vertical-align: middle;\n",
       "    }\n",
       "\n",
       "    .dataframe tbody tr th {\n",
       "        vertical-align: top;\n",
       "    }\n",
       "\n",
       "    .dataframe thead th {\n",
       "        text-align: right;\n",
       "    }\n",
       "</style>\n",
       "<table border=\"1\" class=\"dataframe\">\n",
       "  <thead>\n",
       "    <tr style=\"text-align: right;\">\n",
       "      <th></th>\n",
       "      <th>部門名稱</th>\n",
       "      <th>主管姓名</th>\n",
       "      <th>姓名</th>\n",
       "      <th>年薪</th>\n",
       "      <th>業績</th>\n",
       "      <th>毛利</th>\n",
       "      <th>業績目標90</th>\n",
       "    </tr>\n",
       "  </thead>\n",
       "  <tbody>\n",
       "    <tr>\n",
       "      <th>0</th>\n",
       "      <td>業務四課</td>\n",
       "      <td>林鵬翔</td>\n",
       "      <td>毛渝南</td>\n",
       "      <td>939360.0</td>\n",
       "      <td>4180970.0</td>\n",
       "      <td>1798000.0</td>\n",
       "      <td>89100000.0</td>\n",
       "    </tr>\n",
       "    <tr>\n",
       "      <th>1</th>\n",
       "      <td>業務三課</td>\n",
       "      <td>朱金倉</td>\n",
       "      <td>張志輝</td>\n",
       "      <td>389340.0</td>\n",
       "      <td>1618440.0</td>\n",
       "      <td>696000.0</td>\n",
       "      <td>100000000.0</td>\n",
       "    </tr>\n",
       "    <tr>\n",
       "      <th>2</th>\n",
       "      <td>業務二課</td>\n",
       "      <td>陳雅賢</td>\n",
       "      <td>向大鵬</td>\n",
       "      <td>289224.0</td>\n",
       "      <td>6069150.0</td>\n",
       "      <td>2610000.0</td>\n",
       "      <td>74930000.0</td>\n",
       "    </tr>\n",
       "    <tr>\n",
       "      <th>3</th>\n",
       "      <td>業務四課</td>\n",
       "      <td>林鵬翔</td>\n",
       "      <td>李進祿</td>\n",
       "      <td>309000.0</td>\n",
       "      <td>1753310.0</td>\n",
       "      <td>754000.0</td>\n",
       "      <td>89100000.0</td>\n",
       "    </tr>\n",
       "    <tr>\n",
       "      <th>4</th>\n",
       "      <td>業務四課</td>\n",
       "      <td>林鵬翔</td>\n",
       "      <td>林鵬翔</td>\n",
       "      <td>444960.0</td>\n",
       "      <td>9710640.0</td>\n",
       "      <td>4176000.0</td>\n",
       "      <td>89100000.0</td>\n",
       "    </tr>\n",
       "    <tr>\n",
       "      <th>...</th>\n",
       "      <td>...</td>\n",
       "      <td>...</td>\n",
       "      <td>...</td>\n",
       "      <td>...</td>\n",
       "      <td>...</td>\n",
       "      <td>...</td>\n",
       "      <td>...</td>\n",
       "    </tr>\n",
       "    <tr>\n",
       "      <th>110</th>\n",
       "      <td>業務四課</td>\n",
       "      <td>林鵬翔</td>\n",
       "      <td>林鵬翔</td>\n",
       "      <td>444960.0</td>\n",
       "      <td>1246400.0</td>\n",
       "      <td>536800.0</td>\n",
       "      <td>89100000.0</td>\n",
       "    </tr>\n",
       "    <tr>\n",
       "      <th>111</th>\n",
       "      <td>業務四課</td>\n",
       "      <td>林鵬翔</td>\n",
       "      <td>林鵬翔</td>\n",
       "      <td>444960.0</td>\n",
       "      <td>2648600.0</td>\n",
       "      <td>1140700.0</td>\n",
       "      <td>89100000.0</td>\n",
       "    </tr>\n",
       "    <tr>\n",
       "      <th>112</th>\n",
       "      <td>業務四課</td>\n",
       "      <td>林鵬翔</td>\n",
       "      <td>李進祿</td>\n",
       "      <td>309000.0</td>\n",
       "      <td>1963080.0</td>\n",
       "      <td>845460.0</td>\n",
       "      <td>89100000.0</td>\n",
       "    </tr>\n",
       "    <tr>\n",
       "      <th>113</th>\n",
       "      <td>業務三課</td>\n",
       "      <td>朱金倉</td>\n",
       "      <td>朱金倉</td>\n",
       "      <td>480804.0</td>\n",
       "      <td>981540.0</td>\n",
       "      <td>422730.0</td>\n",
       "      <td>100000000.0</td>\n",
       "    </tr>\n",
       "    <tr>\n",
       "      <th>114</th>\n",
       "      <td>業務一課</td>\n",
       "      <td>陳曉蘭</td>\n",
       "      <td>陳曉蘭</td>\n",
       "      <td>364620.0</td>\n",
       "      <td>1651480.0</td>\n",
       "      <td>711260.0</td>\n",
       "      <td>86920000.0</td>\n",
       "    </tr>\n",
       "  </tbody>\n",
       "</table>\n",
       "<p>115 rows × 7 columns</p>\n",
       "</div>"
      ],
      "text/plain": [
       "     部門名稱 主管姓名   姓名        年薪         業績         毛利       業績目標90\n",
       "0    業務四課  林鵬翔  毛渝南  939360.0  4180970.0  1798000.0   89100000.0\n",
       "1    業務三課  朱金倉  張志輝  389340.0  1618440.0   696000.0  100000000.0\n",
       "2    業務二課  陳雅賢  向大鵬  289224.0  6069150.0  2610000.0   74930000.0\n",
       "3    業務四課  林鵬翔  李進祿  309000.0  1753310.0   754000.0   89100000.0\n",
       "4    業務四課  林鵬翔  林鵬翔  444960.0  9710640.0  4176000.0   89100000.0\n",
       "..    ...  ...  ...       ...        ...        ...          ...\n",
       "110  業務四課  林鵬翔  林鵬翔  444960.0  1246400.0   536800.0   89100000.0\n",
       "111  業務四課  林鵬翔  林鵬翔  444960.0  2648600.0  1140700.0   89100000.0\n",
       "112  業務四課  林鵬翔  李進祿  309000.0  1963080.0   845460.0   89100000.0\n",
       "113  業務三課  朱金倉  朱金倉  480804.0   981540.0   422730.0  100000000.0\n",
       "114  業務一課  陳曉蘭  陳曉蘭  364620.0  1651480.0   711260.0   86920000.0\n",
       "\n",
       "[115 rows x 7 columns]"
      ]
     },
     "execution_count": 30,
     "metadata": {},
     "output_type": "execute_result"
    }
   ],
   "source": [
    "import pandas as pd\n",
    "\n",
    "df = pd.read_csv('90年業務部門業績與毛利.csv', encoding = 'big5')\n",
    "df"
   ]
  },
  {
   "cell_type": "code",
   "execution_count": 31,
   "id": "HNslpmdgKPPc",
   "metadata": {
    "id": "HNslpmdgKPPc",
    "outputId": "3413790b-111e-4fae-99d4-9d92ba192a46"
   },
   "outputs": [
    {
     "data": {
      "text/html": [
       "<div>\n",
       "<style scoped>\n",
       "    .dataframe tbody tr th:only-of-type {\n",
       "        vertical-align: middle;\n",
       "    }\n",
       "\n",
       "    .dataframe tbody tr th {\n",
       "        vertical-align: top;\n",
       "    }\n",
       "\n",
       "    .dataframe thead th {\n",
       "        text-align: right;\n",
       "    }\n",
       "</style>\n",
       "<table border=\"1\" class=\"dataframe\">\n",
       "  <thead>\n",
       "    <tr style=\"text-align: right;\">\n",
       "      <th></th>\n",
       "      <th>業績目標90</th>\n",
       "    </tr>\n",
       "    <tr>\n",
       "      <th>部門名稱</th>\n",
       "      <th></th>\n",
       "    </tr>\n",
       "  </thead>\n",
       "  <tbody>\n",
       "    <tr>\n",
       "      <th>業務一課</th>\n",
       "      <td>86920000.0</td>\n",
       "    </tr>\n",
       "    <tr>\n",
       "      <th>業務三課</th>\n",
       "      <td>100000000.0</td>\n",
       "    </tr>\n",
       "    <tr>\n",
       "      <th>業務二課</th>\n",
       "      <td>74930000.0</td>\n",
       "    </tr>\n",
       "    <tr>\n",
       "      <th>業務四課</th>\n",
       "      <td>89100000.0</td>\n",
       "    </tr>\n",
       "  </tbody>\n",
       "</table>\n",
       "</div>"
      ],
      "text/plain": [
       "           業績目標90\n",
       "部門名稱             \n",
       "業務一課   86920000.0\n",
       "業務三課  100000000.0\n",
       "業務二課   74930000.0\n",
       "業務四課   89100000.0"
      ]
     },
     "execution_count": 31,
     "metadata": {},
     "output_type": "execute_result"
    }
   ],
   "source": [
    "#Pandas Pivot Table建立方式\n",
    "pvt = df.pivot_table(values='業績目標90', index='部門名稱')\n",
    "pvt"
   ]
  },
  {
   "cell_type": "code",
   "execution_count": 29,
   "id": "f1AaKOltKPPc",
   "metadata": {
    "id": "f1AaKOltKPPc",
    "outputId": "f1aeb3c1-d0e7-4a50-97e8-f5c28b2b23b6"
   },
   "outputs": [
    {
     "data": {
      "text/html": [
       "<div>\n",
       "<style scoped>\n",
       "    .dataframe tbody tr th:only-of-type {\n",
       "        vertical-align: middle;\n",
       "    }\n",
       "\n",
       "    .dataframe tbody tr th {\n",
       "        vertical-align: top;\n",
       "    }\n",
       "\n",
       "    .dataframe thead th {\n",
       "        text-align: right;\n",
       "    }\n",
       "</style>\n",
       "<table border=\"1\" class=\"dataframe\">\n",
       "  <thead>\n",
       "    <tr style=\"text-align: right;\">\n",
       "      <th></th>\n",
       "      <th>業績目標90</th>\n",
       "    </tr>\n",
       "    <tr>\n",
       "      <th>部門名稱</th>\n",
       "      <th></th>\n",
       "    </tr>\n",
       "  </thead>\n",
       "  <tbody>\n",
       "    <tr>\n",
       "      <th>業務一課</th>\n",
       "      <td>86920000.0</td>\n",
       "    </tr>\n",
       "    <tr>\n",
       "      <th>業務三課</th>\n",
       "      <td>100000000.0</td>\n",
       "    </tr>\n",
       "    <tr>\n",
       "      <th>業務二課</th>\n",
       "      <td>74930000.0</td>\n",
       "    </tr>\n",
       "    <tr>\n",
       "      <th>業務四課</th>\n",
       "      <td>89100000.0</td>\n",
       "    </tr>\n",
       "  </tbody>\n",
       "</table>\n",
       "</div>"
      ],
      "text/plain": [
       "           業績目標90\n",
       "部門名稱             \n",
       "業務一課   86920000.0\n",
       "業務三課  100000000.0\n",
       "業務二課   74930000.0\n",
       "業務四課   89100000.0"
      ]
     },
     "execution_count": 29,
     "metadata": {},
     "output_type": "execute_result"
    }
   ],
   "source": [
    "#Pandas Pivot Table自訂統計方法\n",
    "import pandas as pd\n",
    "import numpy as np\n",
    "pvt = df.pivot_table(values='業績目標90', index='部門名稱', aggfunc=np.median)\n",
    "pvt"
   ]
  },
  {
   "cell_type": "code",
   "execution_count": 40,
   "id": "sLwlEHHuKPPc",
   "metadata": {
    "id": "sLwlEHHuKPPc",
    "outputId": "8bb636ac-5e01-4d10-beca-3251bc7b5916"
   },
   "outputs": [
    {
     "data": {
      "text/html": [
       "<div>\n",
       "<style scoped>\n",
       "    .dataframe tbody tr th:only-of-type {\n",
       "        vertical-align: middle;\n",
       "    }\n",
       "\n",
       "    .dataframe tbody tr th {\n",
       "        vertical-align: top;\n",
       "    }\n",
       "\n",
       "    .dataframe thead th {\n",
       "        text-align: right;\n",
       "    }\n",
       "</style>\n",
       "<table border=\"1\" class=\"dataframe\">\n",
       "  <thead>\n",
       "    <tr style=\"text-align: right;\">\n",
       "      <th>主管姓名</th>\n",
       "      <th>朱金倉</th>\n",
       "      <th>林鵬翔</th>\n",
       "      <th>陳曉蘭</th>\n",
       "      <th>陳雅賢</th>\n",
       "    </tr>\n",
       "    <tr>\n",
       "      <th>部門名稱</th>\n",
       "      <th></th>\n",
       "      <th></th>\n",
       "      <th></th>\n",
       "      <th></th>\n",
       "    </tr>\n",
       "  </thead>\n",
       "  <tbody>\n",
       "    <tr>\n",
       "      <th>業務一課</th>\n",
       "      <td>0</td>\n",
       "      <td>0</td>\n",
       "      <td>2173000000</td>\n",
       "      <td>0</td>\n",
       "    </tr>\n",
       "    <tr>\n",
       "      <th>業務三課</th>\n",
       "      <td>3100000000</td>\n",
       "      <td>0</td>\n",
       "      <td>0</td>\n",
       "      <td>0</td>\n",
       "    </tr>\n",
       "    <tr>\n",
       "      <th>業務二課</th>\n",
       "      <td>0</td>\n",
       "      <td>0</td>\n",
       "      <td>0</td>\n",
       "      <td>1423670000</td>\n",
       "    </tr>\n",
       "    <tr>\n",
       "      <th>業務四課</th>\n",
       "      <td>0</td>\n",
       "      <td>3207600000</td>\n",
       "      <td>0</td>\n",
       "      <td>0</td>\n",
       "    </tr>\n",
       "  </tbody>\n",
       "</table>\n",
       "</div>"
      ],
      "text/plain": [
       "主管姓名         朱金倉         林鵬翔         陳曉蘭         陳雅賢\n",
       "部門名稱                                                \n",
       "業務一課           0           0  2173000000           0\n",
       "業務三課  3100000000           0           0           0\n",
       "業務二課           0           0           0  1423670000\n",
       "業務四課           0  3207600000           0           0"
      ]
     },
     "execution_count": 40,
     "metadata": {},
     "output_type": "execute_result"
    }
   ],
   "source": [
    "#Pandas Pivot Table填補遺漏值\n",
    "pvt = df.pivot_table(values='業績目標90', index='部門名稱', columns='主管姓名',aggfunc = sum, fill_value=0)\n",
    "pvt"
   ]
  },
  {
   "cell_type": "code",
   "execution_count": 39,
   "id": "FDvxD9E5KPPc",
   "metadata": {
    "id": "FDvxD9E5KPPc",
    "outputId": "4857a6ec-2b60-41d3-d871-f56f38d3f451"
   },
   "outputs": [
    {
     "data": {
      "text/html": [
       "<div>\n",
       "<style scoped>\n",
       "    .dataframe tbody tr th:only-of-type {\n",
       "        vertical-align: middle;\n",
       "    }\n",
       "\n",
       "    .dataframe tbody tr th {\n",
       "        vertical-align: top;\n",
       "    }\n",
       "\n",
       "    .dataframe thead th {\n",
       "        text-align: right;\n",
       "    }\n",
       "</style>\n",
       "<table border=\"1\" class=\"dataframe\">\n",
       "  <thead>\n",
       "    <tr style=\"text-align: right;\">\n",
       "      <th>主管姓名</th>\n",
       "      <th>朱金倉</th>\n",
       "      <th>林鵬翔</th>\n",
       "      <th>陳曉蘭</th>\n",
       "      <th>陳雅賢</th>\n",
       "      <th>All</th>\n",
       "    </tr>\n",
       "    <tr>\n",
       "      <th>部門名稱</th>\n",
       "      <th></th>\n",
       "      <th></th>\n",
       "      <th></th>\n",
       "      <th></th>\n",
       "      <th></th>\n",
       "    </tr>\n",
       "  </thead>\n",
       "  <tbody>\n",
       "    <tr>\n",
       "      <th>業務一課</th>\n",
       "      <td>0</td>\n",
       "      <td>0</td>\n",
       "      <td>2173000000</td>\n",
       "      <td>0</td>\n",
       "      <td>2.173000e+09</td>\n",
       "    </tr>\n",
       "    <tr>\n",
       "      <th>業務三課</th>\n",
       "      <td>3100000000</td>\n",
       "      <td>0</td>\n",
       "      <td>0</td>\n",
       "      <td>0</td>\n",
       "      <td>3.100000e+09</td>\n",
       "    </tr>\n",
       "    <tr>\n",
       "      <th>業務二課</th>\n",
       "      <td>0</td>\n",
       "      <td>0</td>\n",
       "      <td>0</td>\n",
       "      <td>1423670000</td>\n",
       "      <td>1.423670e+09</td>\n",
       "    </tr>\n",
       "    <tr>\n",
       "      <th>業務四課</th>\n",
       "      <td>0</td>\n",
       "      <td>3207600000</td>\n",
       "      <td>0</td>\n",
       "      <td>0</td>\n",
       "      <td>3.207600e+09</td>\n",
       "    </tr>\n",
       "    <tr>\n",
       "      <th>All</th>\n",
       "      <td>3100000000</td>\n",
       "      <td>3207600000</td>\n",
       "      <td>2173000000</td>\n",
       "      <td>1423670000</td>\n",
       "      <td>9.904270e+09</td>\n",
       "    </tr>\n",
       "  </tbody>\n",
       "</table>\n",
       "</div>"
      ],
      "text/plain": [
       "主管姓名         朱金倉         林鵬翔         陳曉蘭         陳雅賢           All\n",
       "部門名稱                                                              \n",
       "業務一課           0           0  2173000000           0  2.173000e+09\n",
       "業務三課  3100000000           0           0           0  3.100000e+09\n",
       "業務二課           0           0           0  1423670000  1.423670e+09\n",
       "業務四課           0  3207600000           0           0  3.207600e+09\n",
       "All   3100000000  3207600000  2173000000  1423670000  9.904270e+09"
      ]
     },
     "execution_count": 39,
     "metadata": {},
     "output_type": "execute_result"
    }
   ],
   "source": [
    "#Pandas Pivot Table小計及總計\n",
    "pvt = df.pivot_table(values='業績目標90', index='部門名稱', columns='主管姓名', aggfunc = sum,fill_value=0, margins=True)\n",
    "pvt"
   ]
  },
  {
   "cell_type": "code",
   "execution_count": 21,
   "id": "HkY32xv7KPPc",
   "metadata": {
    "id": "HkY32xv7KPPc",
    "outputId": "e8326452-2209-4870-c40a-119c7f02930b"
   },
   "outputs": [
    {
     "data": {
      "text/html": [
       "<div>\n",
       "<style scoped>\n",
       "    .dataframe tbody tr th:only-of-type {\n",
       "        vertical-align: middle;\n",
       "    }\n",
       "\n",
       "    .dataframe tbody tr th {\n",
       "        vertical-align: top;\n",
       "    }\n",
       "\n",
       "    .dataframe thead th {\n",
       "        text-align: right;\n",
       "    }\n",
       "</style>\n",
       "<table border=\"1\" class=\"dataframe\">\n",
       "  <thead>\n",
       "    <tr style=\"text-align: right;\">\n",
       "      <th></th>\n",
       "      <th>姓名</th>\n",
       "      <th>向大鵬</th>\n",
       "      <th>吳國信</th>\n",
       "      <th>吳美成</th>\n",
       "      <th>張志輝</th>\n",
       "      <th>朱金倉</th>\n",
       "      <th>李進祿</th>\n",
       "      <th>林玉堂</th>\n",
       "      <th>林鳳春</th>\n",
       "      <th>林鵬翔</th>\n",
       "      <th>毛渝南</th>\n",
       "      <th>王玉治</th>\n",
       "      <th>莊國雄</th>\n",
       "      <th>謝穎青</th>\n",
       "      <th>郭曜明</th>\n",
       "      <th>陳曉蘭</th>\n",
       "      <th>陳雅賢</th>\n",
       "      <th>All</th>\n",
       "    </tr>\n",
       "    <tr>\n",
       "      <th>部門名稱</th>\n",
       "      <th>主管姓名</th>\n",
       "      <th></th>\n",
       "      <th></th>\n",
       "      <th></th>\n",
       "      <th></th>\n",
       "      <th></th>\n",
       "      <th></th>\n",
       "      <th></th>\n",
       "      <th></th>\n",
       "      <th></th>\n",
       "      <th></th>\n",
       "      <th></th>\n",
       "      <th></th>\n",
       "      <th></th>\n",
       "      <th></th>\n",
       "      <th></th>\n",
       "      <th></th>\n",
       "      <th></th>\n",
       "    </tr>\n",
       "  </thead>\n",
       "  <tbody>\n",
       "    <tr>\n",
       "      <th>業務一課</th>\n",
       "      <th>陳曉蘭</th>\n",
       "      <td>0</td>\n",
       "      <td>0</td>\n",
       "      <td>86920000</td>\n",
       "      <td>0</td>\n",
       "      <td>0</td>\n",
       "      <td>0</td>\n",
       "      <td>0</td>\n",
       "      <td>86920000</td>\n",
       "      <td>0</td>\n",
       "      <td>0</td>\n",
       "      <td>86920000</td>\n",
       "      <td>0</td>\n",
       "      <td>0</td>\n",
       "      <td>0</td>\n",
       "      <td>86920000</td>\n",
       "      <td>0</td>\n",
       "      <td>8.692000e+07</td>\n",
       "    </tr>\n",
       "    <tr>\n",
       "      <th>業務三課</th>\n",
       "      <th>朱金倉</th>\n",
       "      <td>0</td>\n",
       "      <td>0</td>\n",
       "      <td>0</td>\n",
       "      <td>100000000</td>\n",
       "      <td>100000000</td>\n",
       "      <td>0</td>\n",
       "      <td>100000000</td>\n",
       "      <td>0</td>\n",
       "      <td>0</td>\n",
       "      <td>0</td>\n",
       "      <td>0</td>\n",
       "      <td>0</td>\n",
       "      <td>100000000</td>\n",
       "      <td>0</td>\n",
       "      <td>0</td>\n",
       "      <td>0</td>\n",
       "      <td>1.000000e+08</td>\n",
       "    </tr>\n",
       "    <tr>\n",
       "      <th>業務二課</th>\n",
       "      <th>陳雅賢</th>\n",
       "      <td>74930000</td>\n",
       "      <td>74930000</td>\n",
       "      <td>0</td>\n",
       "      <td>0</td>\n",
       "      <td>0</td>\n",
       "      <td>0</td>\n",
       "      <td>0</td>\n",
       "      <td>0</td>\n",
       "      <td>0</td>\n",
       "      <td>0</td>\n",
       "      <td>0</td>\n",
       "      <td>74930000</td>\n",
       "      <td>0</td>\n",
       "      <td>0</td>\n",
       "      <td>0</td>\n",
       "      <td>74930000</td>\n",
       "      <td>7.493000e+07</td>\n",
       "    </tr>\n",
       "    <tr>\n",
       "      <th>業務四課</th>\n",
       "      <th>林鵬翔</th>\n",
       "      <td>0</td>\n",
       "      <td>0</td>\n",
       "      <td>0</td>\n",
       "      <td>0</td>\n",
       "      <td>0</td>\n",
       "      <td>89100000</td>\n",
       "      <td>0</td>\n",
       "      <td>0</td>\n",
       "      <td>89100000</td>\n",
       "      <td>89100000</td>\n",
       "      <td>0</td>\n",
       "      <td>0</td>\n",
       "      <td>0</td>\n",
       "      <td>89100000</td>\n",
       "      <td>0</td>\n",
       "      <td>0</td>\n",
       "      <td>8.910000e+07</td>\n",
       "    </tr>\n",
       "    <tr>\n",
       "      <th>All</th>\n",
       "      <th></th>\n",
       "      <td>74930000</td>\n",
       "      <td>74930000</td>\n",
       "      <td>86920000</td>\n",
       "      <td>100000000</td>\n",
       "      <td>100000000</td>\n",
       "      <td>89100000</td>\n",
       "      <td>100000000</td>\n",
       "      <td>86920000</td>\n",
       "      <td>89100000</td>\n",
       "      <td>89100000</td>\n",
       "      <td>86920000</td>\n",
       "      <td>74930000</td>\n",
       "      <td>100000000</td>\n",
       "      <td>89100000</td>\n",
       "      <td>86920000</td>\n",
       "      <td>74930000</td>\n",
       "      <td>8.922766e+07</td>\n",
       "    </tr>\n",
       "  </tbody>\n",
       "</table>\n",
       "</div>"
      ],
      "text/plain": [
       "姓名              向大鵬       吳國信       吳美成        張志輝        朱金倉       李進祿  \\\n",
       "部門名稱 主管姓名                                                                 \n",
       "業務一課 陳曉蘭          0         0  86920000          0          0         0   \n",
       "業務三課 朱金倉          0         0         0  100000000  100000000         0   \n",
       "業務二課 陳雅賢   74930000  74930000         0          0          0         0   \n",
       "業務四課 林鵬翔          0         0         0          0          0  89100000   \n",
       "All        74930000  74930000  86920000  100000000  100000000  89100000   \n",
       "\n",
       "姓名               林玉堂       林鳳春       林鵬翔       毛渝南       王玉治       莊國雄  \\\n",
       "部門名稱 主管姓名                                                                \n",
       "業務一課 陳曉蘭           0  86920000         0         0  86920000         0   \n",
       "業務三課 朱金倉   100000000         0         0         0         0         0   \n",
       "業務二課 陳雅賢           0         0         0         0         0  74930000   \n",
       "業務四課 林鵬翔           0         0  89100000  89100000         0         0   \n",
       "All        100000000  86920000  89100000  89100000  86920000  74930000   \n",
       "\n",
       "姓名               謝穎青       郭曜明       陳曉蘭       陳雅賢           All  \n",
       "部門名稱 主管姓名                                                         \n",
       "業務一課 陳曉蘭           0         0  86920000         0  8.692000e+07  \n",
       "業務三課 朱金倉   100000000         0         0         0  1.000000e+08  \n",
       "業務二課 陳雅賢           0         0         0  74930000  7.493000e+07  \n",
       "業務四課 林鵬翔           0  89100000         0         0  8.910000e+07  \n",
       "All        100000000  89100000  86920000  74930000  8.922766e+07  "
      ]
     },
     "execution_count": 21,
     "metadata": {},
     "output_type": "execute_result"
    }
   ],
   "source": [
    "pvt = df.pivot_table(values='業績目標90', index=['部門名稱', '主管姓名'], columns='姓名', fill_value=0, margins=True)\n",
    "pvt"
   ]
  },
  {
   "cell_type": "code",
   "execution_count": 41,
   "id": "CRacVQ8oKPPc",
   "metadata": {
    "id": "CRacVQ8oKPPc",
    "outputId": "5c149ae2-106d-4ff2-c835-8e87fd7c64f2"
   },
   "outputs": [
    {
     "data": {
      "text/html": [
       "<div>\n",
       "<style scoped>\n",
       "    .dataframe tbody tr th:only-of-type {\n",
       "        vertical-align: middle;\n",
       "    }\n",
       "\n",
       "    .dataframe tbody tr th {\n",
       "        vertical-align: top;\n",
       "    }\n",
       "\n",
       "    .dataframe thead th {\n",
       "        text-align: right;\n",
       "    }\n",
       "</style>\n",
       "<table border=\"1\" class=\"dataframe\">\n",
       "  <thead>\n",
       "    <tr style=\"text-align: right;\">\n",
       "      <th></th>\n",
       "      <th></th>\n",
       "      <th></th>\n",
       "      <th>業績</th>\n",
       "      <th>業績目標90</th>\n",
       "    </tr>\n",
       "    <tr>\n",
       "      <th>部門名稱</th>\n",
       "      <th>主管姓名</th>\n",
       "      <th>姓名</th>\n",
       "      <th></th>\n",
       "      <th></th>\n",
       "    </tr>\n",
       "  </thead>\n",
       "  <tbody>\n",
       "    <tr>\n",
       "      <th rowspan=\"4\" valign=\"top\">業務一課</th>\n",
       "      <th rowspan=\"4\" valign=\"top\">陳曉蘭</th>\n",
       "      <th>吳美成</th>\n",
       "      <td>77134650</td>\n",
       "      <td>608440000</td>\n",
       "    </tr>\n",
       "    <tr>\n",
       "      <th>林鳳春</th>\n",
       "      <td>70161300</td>\n",
       "      <td>521520000</td>\n",
       "    </tr>\n",
       "    <tr>\n",
       "      <th>王玉治</th>\n",
       "      <td>24225690</td>\n",
       "      <td>521520000</td>\n",
       "    </tr>\n",
       "    <tr>\n",
       "      <th>陳曉蘭</th>\n",
       "      <td>41242150</td>\n",
       "      <td>521520000</td>\n",
       "    </tr>\n",
       "    <tr>\n",
       "      <th rowspan=\"4\" valign=\"top\">業務三課</th>\n",
       "      <th rowspan=\"4\" valign=\"top\">朱金倉</th>\n",
       "      <th>張志輝</th>\n",
       "      <td>49453610</td>\n",
       "      <td>500000000</td>\n",
       "    </tr>\n",
       "    <tr>\n",
       "      <th>朱金倉</th>\n",
       "      <td>101364940</td>\n",
       "      <td>1200000000</td>\n",
       "    </tr>\n",
       "    <tr>\n",
       "      <th>林玉堂</th>\n",
       "      <td>55465540</td>\n",
       "      <td>600000000</td>\n",
       "    </tr>\n",
       "    <tr>\n",
       "      <th>謝穎青</th>\n",
       "      <td>103868250</td>\n",
       "      <td>800000000</td>\n",
       "    </tr>\n",
       "    <tr>\n",
       "      <th rowspan=\"4\" valign=\"top\">業務二課</th>\n",
       "      <th rowspan=\"4\" valign=\"top\">陳雅賢</th>\n",
       "      <th>向大鵬</th>\n",
       "      <td>27513690</td>\n",
       "      <td>299720000</td>\n",
       "    </tr>\n",
       "    <tr>\n",
       "      <th>吳國信</th>\n",
       "      <td>64682552</td>\n",
       "      <td>299720000</td>\n",
       "    </tr>\n",
       "    <tr>\n",
       "      <th>莊國雄</th>\n",
       "      <td>66217360</td>\n",
       "      <td>524510000</td>\n",
       "    </tr>\n",
       "    <tr>\n",
       "      <th>陳雅賢</th>\n",
       "      <td>61356130</td>\n",
       "      <td>299720000</td>\n",
       "    </tr>\n",
       "    <tr>\n",
       "      <th rowspan=\"4\" valign=\"top\">業務四課</th>\n",
       "      <th rowspan=\"4\" valign=\"top\">林鵬翔</th>\n",
       "      <th>李進祿</th>\n",
       "      <td>63893210</td>\n",
       "      <td>1158300000</td>\n",
       "    </tr>\n",
       "    <tr>\n",
       "      <th>林鵬翔</th>\n",
       "      <td>82954970</td>\n",
       "      <td>623700000</td>\n",
       "    </tr>\n",
       "    <tr>\n",
       "      <th>毛渝南</th>\n",
       "      <td>69012160</td>\n",
       "      <td>801900000</td>\n",
       "    </tr>\n",
       "    <tr>\n",
       "      <th>郭曜明</th>\n",
       "      <td>38406930</td>\n",
       "      <td>623700000</td>\n",
       "    </tr>\n",
       "    <tr>\n",
       "      <th>All</th>\n",
       "      <th></th>\n",
       "      <th></th>\n",
       "      <td>929356260</td>\n",
       "      <td>9552230000</td>\n",
       "    </tr>\n",
       "  </tbody>\n",
       "</table>\n",
       "</div>"
      ],
      "text/plain": [
       "                      業績      業績目標90\n",
       "部門名稱 主管姓名 姓名                        \n",
       "業務一課 陳曉蘭  吳美成   77134650   608440000\n",
       "          林鳳春   70161300   521520000\n",
       "          王玉治   24225690   521520000\n",
       "          陳曉蘭   41242150   521520000\n",
       "業務三課 朱金倉  張志輝   49453610   500000000\n",
       "          朱金倉  101364940  1200000000\n",
       "          林玉堂   55465540   600000000\n",
       "          謝穎青  103868250   800000000\n",
       "業務二課 陳雅賢  向大鵬   27513690   299720000\n",
       "          吳國信   64682552   299720000\n",
       "          莊國雄   66217360   524510000\n",
       "          陳雅賢   61356130   299720000\n",
       "業務四課 林鵬翔  李進祿   63893210  1158300000\n",
       "          林鵬翔   82954970   623700000\n",
       "          毛渝南   69012160   801900000\n",
       "          郭曜明   38406930   623700000\n",
       "All            929356260  9552230000"
      ]
     },
     "execution_count": 41,
     "metadata": {},
     "output_type": "execute_result"
    }
   ],
   "source": [
    "import numpy as np\n",
    "pvt = df.pivot_table(values=['業績', '業績目標90'], \n",
    "                     index=['部門名稱', '主管姓名', '姓名'], \n",
    "                     fill_value=0, \n",
    "                     margins=True, \n",
    "                     aggfunc = \"sum\")\n",
    "pvt"
   ]
  },
  {
   "cell_type": "code",
   "execution_count": 42,
   "id": "BXb0AZbpKPPc",
   "metadata": {
    "id": "BXb0AZbpKPPc",
    "outputId": "c4ddbc9d-9e5e-4fcd-dd6b-050222915f1d"
   },
   "outputs": [
    {
     "data": {
      "text/html": [
       "<div>\n",
       "<style scoped>\n",
       "    .dataframe tbody tr th:only-of-type {\n",
       "        vertical-align: middle;\n",
       "    }\n",
       "\n",
       "    .dataframe tbody tr th {\n",
       "        vertical-align: top;\n",
       "    }\n",
       "\n",
       "    .dataframe thead th {\n",
       "        text-align: right;\n",
       "    }\n",
       "</style>\n",
       "<table border=\"1\" class=\"dataframe\">\n",
       "  <thead>\n",
       "    <tr style=\"text-align: right;\">\n",
       "      <th></th>\n",
       "      <th></th>\n",
       "      <th></th>\n",
       "      <th>業績</th>\n",
       "      <th>業績目標90</th>\n",
       "    </tr>\n",
       "    <tr>\n",
       "      <th>部門名稱</th>\n",
       "      <th>主管姓名</th>\n",
       "      <th>姓名</th>\n",
       "      <th></th>\n",
       "      <th></th>\n",
       "    </tr>\n",
       "  </thead>\n",
       "  <tbody>\n",
       "    <tr>\n",
       "      <th rowspan=\"4\" valign=\"top\">業務四課</th>\n",
       "      <th rowspan=\"4\" valign=\"top\">林鵬翔</th>\n",
       "      <th>李進祿</th>\n",
       "      <td>63893210</td>\n",
       "      <td>1158300000</td>\n",
       "    </tr>\n",
       "    <tr>\n",
       "      <th>林鵬翔</th>\n",
       "      <td>82954970</td>\n",
       "      <td>623700000</td>\n",
       "    </tr>\n",
       "    <tr>\n",
       "      <th>毛渝南</th>\n",
       "      <td>69012160</td>\n",
       "      <td>801900000</td>\n",
       "    </tr>\n",
       "    <tr>\n",
       "      <th>郭曜明</th>\n",
       "      <td>38406930</td>\n",
       "      <td>623700000</td>\n",
       "    </tr>\n",
       "  </tbody>\n",
       "</table>\n",
       "</div>"
      ],
      "text/plain": [
       "                     業績      業績目標90\n",
       "部門名稱 主管姓名 姓名                       \n",
       "業務四課 林鵬翔  李進祿  63893210  1158300000\n",
       "          林鵬翔  82954970   623700000\n",
       "          毛渝南  69012160   801900000\n",
       "          郭曜明  38406930   623700000"
      ]
     },
     "execution_count": 42,
     "metadata": {},
     "output_type": "execute_result"
    }
   ],
   "source": [
    "pvt.query('部門名稱 == [\"業務四課\"]')\n",
    "#前面是欄位，後面是條件"
   ]
  },
  {
   "cell_type": "markdown",
   "id": "sLN8lFtIKPPc",
   "metadata": {
    "id": "sLN8lFtIKPPc"
   },
   "source": [
    "### MultiIndex取值"
   ]
  },
  {
   "cell_type": "code",
   "execution_count": 43,
   "id": "N-eNaKc6KPPc",
   "metadata": {
    "id": "N-eNaKc6KPPc",
    "outputId": "da06400f-6fb3-4625-9a29-bc5fe2fe60d1"
   },
   "outputs": [
    {
     "data": {
      "text/plain": [
       "(Index(['業務一課', '業務一課', '業務一課', '業務一課', '業務三課', '業務三課', '業務三課', '業務三課', '業務二課',\n",
       "        '業務二課', '業務二課', '業務二課', '業務四課', '業務四課', '業務四課', '業務四課', 'All'],\n",
       "       dtype='object', name='部門名稱'),\n",
       " Index(['陳曉蘭', '陳曉蘭', '陳曉蘭', '陳曉蘭', '朱金倉', '朱金倉', '朱金倉', '朱金倉', '陳雅賢', '陳雅賢',\n",
       "        '陳雅賢', '陳雅賢', '林鵬翔', '林鵬翔', '林鵬翔', '林鵬翔', ''],\n",
       "       dtype='object', name='主管姓名'),\n",
       " Index(['吳美成', '林鳳春', '王玉治', '陳曉蘭', '張志輝', '朱金倉', '林玉堂', '謝穎青', '向大鵬', '吳國信',\n",
       "        '莊國雄', '陳雅賢', '李進祿', '林鵬翔', '毛渝南', '郭曜明', ''],\n",
       "       dtype='object', name='姓名'))"
      ]
     },
     "execution_count": 43,
     "metadata": {},
     "output_type": "execute_result"
    }
   ],
   "source": [
    "pvt.index.get_level_values(0), pvt.index.get_level_values(1), pvt.index.get_level_values(2)\n",
    "#v0部門名稱 v1主管姓名 v2業務員姓名"
   ]
  },
  {
   "cell_type": "code",
   "execution_count": null,
   "id": "2QJj27IRKPPc",
   "metadata": {
    "id": "2QJj27IRKPPc",
    "outputId": "f707f42f-80b8-49e1-b5c9-ec0f15db3d55"
   },
   "outputs": [
    {
     "data": {
      "text/plain": [
       "Index(['業績', '業績目標90'], dtype='object')"
      ]
     },
     "execution_count": 36,
     "metadata": {},
     "output_type": "execute_result"
    }
   ],
   "source": [
    "pvt.columns"
   ]
  },
  {
   "cell_type": "code",
   "execution_count": 44,
   "id": "NUZKN86eKPPc",
   "metadata": {
    "id": "NUZKN86eKPPc",
    "outputId": "d2417bca-b34d-4204-beff-4c69cc960e0a"
   },
   "outputs": [
    {
     "data": {
      "text/plain": [
       "業績          63893210\n",
       "業績目標90    1158300000\n",
       "Name: (業務四課, 林鵬翔, 李進祿), dtype: int64"
      ]
     },
     "execution_count": 44,
     "metadata": {},
     "output_type": "execute_result"
    }
   ],
   "source": [
    "pvt.loc['業務四課', '林鵬翔', '李進祿']"
   ]
  },
  {
   "cell_type": "markdown",
   "id": "a367fa7d",
   "metadata": {},
   "source": [
    "# 14.Sparkline 迷你走勢圖"
   ]
  },
  {
   "cell_type": "code",
   "execution_count": 1,
   "id": "2e688f56",
   "metadata": {
    "scrolled": true
   },
   "outputs": [
    {
     "name": "stdout",
     "output_type": "stream",
     "text": [
      "Note: you may need to restart the kernel to use updated packages.\n"
     ]
    },
    {
     "name": "stderr",
     "output_type": "stream",
     "text": [
      "WARNING: Retrying (Retry(total=4, connect=None, read=None, redirect=None, status=None)) after connection broken by 'NewConnectionError('<pip._vendor.urllib3.connection.HTTPSConnection object at 0x00000287D8435E40>: Failed to establish a new connection: [Errno 11001] getaddrinfo failed')': /simple/sparklines/\n",
      "WARNING: Retrying (Retry(total=3, connect=None, read=None, redirect=None, status=None)) after connection broken by 'NewConnectionError('<pip._vendor.urllib3.connection.HTTPSConnection object at 0x00000287D8436140>: Failed to establish a new connection: [Errno 11001] getaddrinfo failed')': /simple/sparklines/\n",
      "WARNING: Retrying (Retry(total=2, connect=None, read=None, redirect=None, status=None)) after connection broken by 'NewConnectionError('<pip._vendor.urllib3.connection.HTTPSConnection object at 0x00000287D8436470>: Failed to establish a new connection: [Errno 11001] getaddrinfo failed')': /simple/sparklines/\n",
      "WARNING: Retrying (Retry(total=1, connect=None, read=None, redirect=None, status=None)) after connection broken by 'NewConnectionError('<pip._vendor.urllib3.connection.HTTPSConnection object at 0x00000287D8436620>: Failed to establish a new connection: [Errno 11001] getaddrinfo failed')': /simple/sparklines/\n",
      "WARNING: Retrying (Retry(total=0, connect=None, read=None, redirect=None, status=None)) after connection broken by 'NewConnectionError('<pip._vendor.urllib3.connection.HTTPSConnection object at 0x00000287D84367D0>: Failed to establish a new connection: [Errno 11001] getaddrinfo failed')': /simple/sparklines/\n",
      "ERROR: Could not find a version that satisfies the requirement sparklines (from versions: none)\n",
      "ERROR: No matching distribution found for sparklines\n",
      "WARNING: There was an error checking the latest version of pip.\n"
     ]
    }
   ],
   "source": [
    "pip install sparklines"
   ]
  },
  {
   "cell_type": "code",
   "execution_count": 49,
   "id": "72ace04c",
   "metadata": {},
   "outputs": [
    {
     "ename": "ModuleNotFoundError",
     "evalue": "No module named 'sparklines'",
     "output_type": "error",
     "traceback": [
      "\u001b[1;31m---------------------------------------------------------------------------\u001b[0m",
      "\u001b[1;31mModuleNotFoundError\u001b[0m                       Traceback (most recent call last)",
      "Cell \u001b[1;32mIn[49], line 1\u001b[0m\n\u001b[1;32m----> 1\u001b[0m \u001b[38;5;28;01mfrom\u001b[39;00m \u001b[38;5;21;01msparklines\u001b[39;00m \u001b[38;5;28;01mimport\u001b[39;00m sparklines\n\u001b[0;32m      2\u001b[0m \u001b[38;5;28;01mfor\u001b[39;00m line \u001b[38;5;129;01min\u001b[39;00m sparklines([\u001b[38;5;241m1\u001b[39m, \u001b[38;5;241m2\u001b[39m, \u001b[38;5;241m3\u001b[39m, \u001b[38;5;241m4\u001b[39m, \u001b[38;5;241m5\u001b[39m, \u001b[38;5;28;01mNone\u001b[39;00m, \u001b[38;5;241m3\u001b[39m, \u001b[38;5;241m5\u001b[39m, \u001b[38;5;241m2\u001b[39m]):\n\u001b[0;32m      3\u001b[0m     \u001b[38;5;28mprint\u001b[39m(line)\n",
      "\u001b[1;31mModuleNotFoundError\u001b[0m: No module named 'sparklines'"
     ]
    }
   ],
   "source": [
    "from sparklines import sparklines\n",
    "for line in sparklines([1, 2, 3, 4, 5, None, 3, 5, 2]):\n",
    "    print(line)\n"
   ]
  },
  {
   "cell_type": "code",
   "execution_count": 51,
   "id": "f57845af",
   "metadata": {},
   "outputs": [
    {
     "ename": "ModuleNotFoundError",
     "evalue": "No module named 'sparklines'",
     "output_type": "error",
     "traceback": [
      "\u001b[1;31m---------------------------------------------------------------------------\u001b[0m",
      "\u001b[1;31mModuleNotFoundError\u001b[0m                       Traceback (most recent call last)",
      "Cell \u001b[1;32mIn[51], line 1\u001b[0m\n\u001b[1;32m----> 1\u001b[0m \u001b[38;5;28;01mfrom\u001b[39;00m \u001b[38;5;21;01msparklines\u001b[39;00m \u001b[38;5;28;01mimport\u001b[39;00m sparklines\n\u001b[0;32m      2\u001b[0m \u001b[38;5;28;01mimport\u001b[39;00m \u001b[38;5;21;01mpandas\u001b[39;00m \u001b[38;5;28;01mas\u001b[39;00m \u001b[38;5;21;01mpd\u001b[39;00m\n\u001b[0;32m      4\u001b[0m \u001b[38;5;28;01mdef\u001b[39;00m \u001b[38;5;21msparkliness\u001b[39m(l):\n",
      "\u001b[1;31mModuleNotFoundError\u001b[0m: No module named 'sparklines'"
     ]
    }
   ],
   "source": [
    "from sparklines import sparklines\n",
    "import pandas as pd\n",
    "\n",
    "def sparkliness(l):\n",
    "    return sparklines(l)[0]\n",
    "\n",
    "data = [\n",
    "    [10,'Direct Sales','01-01-2019'],\n",
    "    [12,'Direct Sales','02-01-2019'],\n",
    "    [11,'Direct Sales','03-01-2019'],\n",
    "    [15,'Direct Sales','04-01-2019'],\n",
    "    [12,'Direct Sales','05-01-2019'],\n",
    "    [20,'Online Sales','01-01-2019'],\n",
    "    [25,'Online Sales','02-01-2019'],\n",
    "    [22,'Online Sales','03-01-2019'],\n",
    "    [30,'Online Sales','04-01-2019'],\n",
    "    [23,'Online Sales','05-01-2019'],\n",
    "]\n",
    "df = pd.DataFrame(data, columns=['Revenue','Department','Date'])\n",
    "pvt = df.pivot(index='Department', columns='Date', values='Revenue')\n",
    "pvt['Trend'] = pvt.apply(sparkliness, axis=1)\n",
    "pvt"
   ]
  },
  {
   "cell_type": "markdown",
   "id": "909a7000",
   "metadata": {},
   "source": [
    "# Data URI\n",
    "- data:\\[\\<mime type\\>\\]\\[;charset=\\<charset\\>\\]\\[;\\<encoding\\>\\],\\<encoded data\\>\n",
    "\n",
    "- \\[;charset=\\<charset\\>\\]\\[;\\<encoding\\>\\]\n",
    "    - data:,\n",
    "    - data:text/plain,\n",
    "    - data:text/html,\n",
    "    - data:text/html;base64,\n",
    "    - data:text/css,\n",
    "    - data:text/css;base64,\n",
    "    - data:text/javascript,\n",
    "    - data:text/javascript;base64,\n",
    "    - data:image/gif;base64,\n",
    "    - data:image/png;base64,\n",
    "    - data:image/jpeg;base64,\n",
    "    - data:image/x-icon;base64\n",
    "    \n",
    "# Data URI 實際使用\n",
    "    - 特別注意:在使用的時候記得要把 \"data:\" 放進去\n",
    "    - <img src=\"data:image/png;base64,xxxxxxxxxxxx\" alt=\"\"/>\n",
    "    -                                  轉換成二進制"
   ]
  },
  {
   "cell_type": "code",
   "execution_count": 2,
   "id": "SxjP2F1xKPPX",
   "metadata": {
    "id": "SxjP2F1xKPPX"
   },
   "outputs": [
    {
     "data": {
      "text/html": [
       "<table border=\"1\" class=\"dataframe\">\n",
       "  <thead>\n",
       "    <tr style=\"text-align: right;\">\n",
       "      <th>Date</th>\n",
       "      <th>01-01-2019</th>\n",
       "      <th>02-01-2019</th>\n",
       "      <th>03-01-2019</th>\n",
       "      <th>04-01-2019</th>\n",
       "      <th>05-01-2019</th>\n",
       "      <th>Trend</th>\n",
       "    </tr>\n",
       "    <tr>\n",
       "      <th>Department</th>\n",
       "      <th></th>\n",
       "      <th></th>\n",
       "      <th></th>\n",
       "      <th></th>\n",
       "      <th></th>\n",
       "      <th></th>\n",
       "    </tr>\n",
       "  </thead>\n",
       "  <tbody>\n",
       "    <tr>\n",
       "      <th>Direct Sales</th>\n",
       "      <td>10</td>\n",
       "      <td>12</td>\n",
       "      <td>11</td>\n",
       "      <td>15</td>\n",
       "      <td>12</td>\n",
       "      <td><img src=\"data:image/png;base64, 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\" /></td>\n",
       "    </tr>\n",
       "    <tr>\n",
       "      <th>Online Sales</th>\n",
       "      <td>20</td>\n",
       "      <td>25</td>\n",
       "      <td>22</td>\n",
       "      <td>30</td>\n",
       "      <td>23</td>\n",
       "      <td><img src=\"data:image/png;base64, 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\" /></td>\n",
       "    </tr>\n",
       "  </tbody>\n",
       "</table>"
      ],
      "text/plain": [
       "Date          01-01-2019  02-01-2019  03-01-2019  04-01-2019  05-01-2019  \\\n",
       "Department                                                                 \n",
       "Direct Sales          10          12          11          15          12   \n",
       "Online Sales          20          25          22          30          23   \n",
       "\n",
       "Date                                                      Trend  \n",
       "Department                                                       \n",
       "Direct Sales  <img src=\"data:image/png;base64, iVBORw0KGgoAA...  \n",
       "Online Sales  <img src=\"data:image/png;base64, iVBORw0KGgoAA...  "
      ]
     },
     "execution_count": 2,
     "metadata": {},
     "output_type": "execute_result"
    }
   ],
   "source": [
    "import pandas as pd\n",
    "\n",
    "# 關閉最大列寬，這樣圖像就不會被截斷\n",
    "#pd.set_option('display.max_colwidth', -1)\n",
    " \n",
    "# 關閉max列會顯示所有數據\n",
    "#pd.set_option('display.max_seq_items', 3)\n",
    " \n",
    "# 修補數據框以便顯示迷你圖功能\n",
    "#_repr_html_方法是在Jupyter Notebook環境下，當用戶請求以HTML格式顯示一個對象時，會被自動調用。Pandas使用這個方法將DataFrame或Series對象轉換為HTML表格，並將其呈現在Jupyter Notebook中。\n",
    "#通常情況下，Pandas會默認調用_repr_html_方法來呈現DataFrame或Series對象。但是，有時候用戶需要自定義呈現方式，可以通過重載_repr_html_方法來實現。用戶可以在自定義的_repr_html_方法中生成自己想要的HTML代碼，並將其返回給Pandas，Pandas會將其呈現在Jupyter Notebook中。\n",
    "#需要注意的是，_repr_html_方法只對Jupyter Notebook有效，如果在其他環境下使用，會報錯或者沒有效果。\n",
    "pd.DataFrame._repr_html_ = lambda self: self.to_html(escape=False)\n",
    "\n",
    "def sparkline(data, figsize=(4, 0.25), **kwargs):\n",
    "    \"\"\"\n",
    "    creates a sparkline\n",
    "    \"\"\"\n",
    "    from matplotlib import pyplot as plt\n",
    "    import base64\n",
    "    from io import BytesIO\n",
    "\n",
    "    data = list(data)\n",
    "\n",
    "    *_, ax = plt.subplots(1, 1, figsize=figsize, **kwargs)\n",
    "    ax.plot(data)\n",
    "    ax.fill_between(range(len(data)), data, len(data)*[min(data)], alpha=0.1)\n",
    "    ax.set_axis_off()\n",
    "\n",
    "    img = BytesIO()\n",
    "    plt.savefig(img)\n",
    "    plt.close()\n",
    "    return '<img src=\"data:image/png;base64, {}\" />'.format(base64.b64encode(img.getvalue()).decode())\n",
    "\n",
    "data = [\n",
    "    [10,'Direct Sales','01-01-2019'],\n",
    "    [12,'Direct Sales','02-01-2019'],\n",
    "    [11,'Direct Sales','03-01-2019'],\n",
    "    [15,'Direct Sales','04-01-2019'],\n",
    "    [12,'Direct Sales','05-01-2019'],\n",
    "    [20,'Online Sales','01-01-2019'],\n",
    "    [25,'Online Sales','02-01-2019'],\n",
    "    [22,'Online Sales','03-01-2019'],\n",
    "    [30,'Online Sales','04-01-2019'],\n",
    "    [23,'Online Sales','05-01-2019'],\n",
    "]\n",
    "df = pd.DataFrame(data, columns=['Revenue','Department','Date'])\n",
    "pvt = df.pivot(index='Department', columns='Date', values='Revenue')\n",
    "pvt['Trend'] = pvt.apply(sparkline, axis=1)\n",
    "pvt"
   ]
  },
  {
   "cell_type": "code",
   "execution_count": null,
   "id": "fb3c50fa",
   "metadata": {},
   "outputs": [],
   "source": [
    "!pip install pypng\n",
    "!pip install pyqrcode"
   ]
  },
  {
   "cell_type": "code",
   "execution_count": 13,
   "id": "df2f3765",
   "metadata": {
    "scrolled": true
   },
   "outputs": [
    {
     "data": {
      "text/html": [
       "<img src=\"data:image/png;base64,iVBORw0KGgoAAAANSUhEUgAAAMYAAADGAQAAAACh4MLwAAABCUlEQVR4nO2XQQ7DIAwELfEAnsTXeRIPQHJtbxLaND1W3gOcgoeDtWZtIvpjTdlkk78Q8dWk9mKb4ZtCQyLgZEoroyHCQoZYwMKKI8bJiMNKSlxRKzgbOastQZ7uQRqBSyBqefBPJlkdpd66CwPpegpp32gzJMS8a/lKjbD5eAgPWXWu3WDRzkTk0jJ07UpDjlkRNZ8iurLOJ4eKo2HMUpHoKA1ywjE8BDMWXTksclU7n1jOeJu4j0UwNEgI1lXnshTNJ5hmpqVGm3nryvkEr4Cwr+cb6dOQ49XpdxBPADbiKoaWsDIVMYtE4lq+/iQyyVltOzI/FU0np0vMHwpF7/7JI49rk03+QF4XaKYal+QCZAAAAABJRU5ErkJggg==\">"
      ],
      "text/plain": [
       "<IPython.core.display.HTML object>"
      ]
     },
     "metadata": {},
     "output_type": "display_data"
    }
   ],
   "source": [
    "import pyqrcode\n",
    "import io\n",
    "import base64\n",
    "\n",
    "from IPython.display import display, HTML\n",
    "\n",
    "c = pyqrcode.create(\"hello python\")\n",
    "s = io.BytesIO()\n",
    "c.png(s,scale=6)\n",
    "encoded = base64.b64encode(s.getvalue()).decode(\"ascii\")\n",
    "\n",
    "display(HTML('''<img src=\"data:image/png;base64,''' + encoded + '''\">'''))"
   ]
  },
  {
   "cell_type": "markdown",
   "id": "v14NvjVMKPPd",
   "metadata": {
    "id": "v14NvjVMKPPd"
   },
   "source": [
    "# 15.DataFrame 加減乘除\n",
    "- [pandas.DataFrame.add](https://pandas.pydata.org/docs/reference/api/pandas.DataFrame.add.html)、[pandas.DataFrame.sub](https://pandas.pydata.org/docs/reference/api/pandas.DataFrame.sub.html)、[pandas.DataFrame.mul](https://pandas.pydata.org/docs/reference/api/pandas.DataFrame.mul.html)、[pandas.DataFrame.div](https://pandas.pydata.org/docs/reference/api/pandas.DataFrame.div.html)\n",
    "- 若index不同，則無法正常加減乘除，需將索引設定相同，多層索引 MultiIndex.from_tuples、MultiIndex.from_arrays、MultiIndex.from_product、MultiIndex.from_frame\n",
    "- 應用如財報第四季計算是以年到減去前三季"
   ]
  },
  {
   "cell_type": "code",
   "execution_count": 3,
   "id": "eSirtG4EKPPd",
   "metadata": {
    "id": "eSirtG4EKPPd",
    "outputId": "d13542c3-2b01-4fc8-f97c-a21a78cf1272"
   },
   "outputs": [
    {
     "data": {
      "text/html": [
       "<table border=\"1\" class=\"dataframe\">\n",
       "  <thead>\n",
       "    <tr style=\"text-align: right;\">\n",
       "      <th></th>\n",
       "      <th>a</th>\n",
       "      <th>b</th>\n",
       "      <th>c</th>\n",
       "      <th>d</th>\n",
       "      <th>e</th>\n",
       "    </tr>\n",
       "  </thead>\n",
       "  <tbody>\n",
       "    <tr>\n",
       "      <th>0</th>\n",
       "      <td>30</td>\n",
       "      <td>47</td>\n",
       "      <td>25</td>\n",
       "      <td>20</td>\n",
       "      <td>48</td>\n",
       "    </tr>\n",
       "    <tr>\n",
       "      <th>1</th>\n",
       "      <td>6</td>\n",
       "      <td>26</td>\n",
       "      <td>37</td>\n",
       "      <td>22</td>\n",
       "      <td>23</td>\n",
       "    </tr>\n",
       "    <tr>\n",
       "      <th>2</th>\n",
       "      <td>22</td>\n",
       "      <td>17</td>\n",
       "      <td>16</td>\n",
       "      <td>22</td>\n",
       "      <td>37</td>\n",
       "    </tr>\n",
       "    <tr>\n",
       "      <th>3</th>\n",
       "      <td>4</td>\n",
       "      <td>27</td>\n",
       "      <td>48</td>\n",
       "      <td>20</td>\n",
       "      <td>16</td>\n",
       "    </tr>\n",
       "    <tr>\n",
       "      <th>4</th>\n",
       "      <td>16</td>\n",
       "      <td>42</td>\n",
       "      <td>15</td>\n",
       "      <td>36</td>\n",
       "      <td>48</td>\n",
       "    </tr>\n",
       "  </tbody>\n",
       "</table>"
      ],
      "text/plain": [
       "    a   b   c   d   e\n",
       "0  30  47  25  20  48\n",
       "1   6  26  37  22  23\n",
       "2  22  17  16  22  37\n",
       "3   4  27  48  20  16\n",
       "4  16  42  15  36  48"
      ]
     },
     "execution_count": 3,
     "metadata": {},
     "output_type": "execute_result"
    }
   ],
   "source": [
    "import pandas as pd\n",
    "import numpy as np\n",
    "\n",
    "n = 5\n",
    "val = np.random.randint(n * 10, size = (n, n))\n",
    "df1 = pd.DataFrame(val, columns = [chr(97 + _) for _ in range(n)])\n",
    "df1"
   ]
  },
  {
   "cell_type": "code",
   "execution_count": 4,
   "id": "43q_fhKfKPPd",
   "metadata": {
    "id": "43q_fhKfKPPd",
    "outputId": "1c114b8f-c5f1-4d7a-d74c-d4b970b9339e"
   },
   "outputs": [
    {
     "data": {
      "text/html": [
       "<table border=\"1\" class=\"dataframe\">\n",
       "  <thead>\n",
       "    <tr style=\"text-align: right;\">\n",
       "      <th></th>\n",
       "      <th>a</th>\n",
       "      <th>b</th>\n",
       "      <th>c</th>\n",
       "      <th>d</th>\n",
       "      <th>e</th>\n",
       "    </tr>\n",
       "  </thead>\n",
       "  <tbody>\n",
       "    <tr>\n",
       "      <th>0</th>\n",
       "      <td>28</td>\n",
       "      <td>14</td>\n",
       "      <td>47</td>\n",
       "      <td>35</td>\n",
       "      <td>48</td>\n",
       "    </tr>\n",
       "    <tr>\n",
       "      <th>1</th>\n",
       "      <td>32</td>\n",
       "      <td>13</td>\n",
       "      <td>32</td>\n",
       "      <td>9</td>\n",
       "      <td>23</td>\n",
       "    </tr>\n",
       "    <tr>\n",
       "      <th>2</th>\n",
       "      <td>3</td>\n",
       "      <td>2</td>\n",
       "      <td>5</td>\n",
       "      <td>28</td>\n",
       "      <td>47</td>\n",
       "    </tr>\n",
       "    <tr>\n",
       "      <th>3</th>\n",
       "      <td>26</td>\n",
       "      <td>15</td>\n",
       "      <td>11</td>\n",
       "      <td>35</td>\n",
       "      <td>21</td>\n",
       "    </tr>\n",
       "    <tr>\n",
       "      <th>4</th>\n",
       "      <td>38</td>\n",
       "      <td>33</td>\n",
       "      <td>21</td>\n",
       "      <td>5</td>\n",
       "      <td>41</td>\n",
       "    </tr>\n",
       "  </tbody>\n",
       "</table>"
      ],
      "text/plain": [
       "    a   b   c   d   e\n",
       "0  28  14  47  35  48\n",
       "1  32  13  32   9  23\n",
       "2   3   2   5  28  47\n",
       "3  26  15  11  35  21\n",
       "4  38  33  21   5  41"
      ]
     },
     "execution_count": 4,
     "metadata": {},
     "output_type": "execute_result"
    }
   ],
   "source": [
    "val = np.random.randint(n * 10, size = (n, n))\n",
    "df2 = pd.DataFrame(val, columns = [chr(97 + _) for _ in range(n)])\n",
    "df2"
   ]
  },
  {
   "cell_type": "code",
   "execution_count": 5,
   "id": "bLIXWjGhKPPd",
   "metadata": {
    "id": "bLIXWjGhKPPd",
    "outputId": "290b6710-e794-4616-ca82-ca6d68e00198"
   },
   "outputs": [
    {
     "data": {
      "text/html": [
       "<table border=\"1\" class=\"dataframe\">\n",
       "  <thead>\n",
       "    <tr style=\"text-align: right;\">\n",
       "      <th></th>\n",
       "      <th>a</th>\n",
       "      <th>b</th>\n",
       "      <th>c</th>\n",
       "      <th>d</th>\n",
       "      <th>e</th>\n",
       "    </tr>\n",
       "  </thead>\n",
       "  <tbody>\n",
       "    <tr>\n",
       "      <th>0</th>\n",
       "      <td>58</td>\n",
       "      <td>61</td>\n",
       "      <td>72</td>\n",
       "      <td>55</td>\n",
       "      <td>96</td>\n",
       "    </tr>\n",
       "    <tr>\n",
       "      <th>1</th>\n",
       "      <td>38</td>\n",
       "      <td>39</td>\n",
       "      <td>69</td>\n",
       "      <td>31</td>\n",
       "      <td>46</td>\n",
       "    </tr>\n",
       "    <tr>\n",
       "      <th>2</th>\n",
       "      <td>25</td>\n",
       "      <td>19</td>\n",
       "      <td>21</td>\n",
       "      <td>50</td>\n",
       "      <td>84</td>\n",
       "    </tr>\n",
       "    <tr>\n",
       "      <th>3</th>\n",
       "      <td>30</td>\n",
       "      <td>42</td>\n",
       "      <td>59</td>\n",
       "      <td>55</td>\n",
       "      <td>37</td>\n",
       "    </tr>\n",
       "    <tr>\n",
       "      <th>4</th>\n",
       "      <td>54</td>\n",
       "      <td>75</td>\n",
       "      <td>36</td>\n",
       "      <td>41</td>\n",
       "      <td>89</td>\n",
       "    </tr>\n",
       "  </tbody>\n",
       "</table>"
      ],
      "text/plain": [
       "    a   b   c   d   e\n",
       "0  58  61  72  55  96\n",
       "1  38  39  69  31  46\n",
       "2  25  19  21  50  84\n",
       "3  30  42  59  55  37\n",
       "4  54  75  36  41  89"
      ]
     },
     "execution_count": 5,
     "metadata": {},
     "output_type": "execute_result"
    }
   ],
   "source": [
    "df1 + df2"
   ]
  },
  {
   "cell_type": "code",
   "execution_count": 6,
   "id": "pj7x5VSZKPPd",
   "metadata": {
    "id": "pj7x5VSZKPPd",
    "outputId": "2c6908e0-177a-418e-d17b-4eb509587c9c"
   },
   "outputs": [
    {
     "data": {
      "text/html": [
       "<table border=\"1\" class=\"dataframe\">\n",
       "  <thead>\n",
       "    <tr style=\"text-align: right;\">\n",
       "      <th></th>\n",
       "      <th>a</th>\n",
       "      <th>b</th>\n",
       "      <th>c</th>\n",
       "      <th>d</th>\n",
       "      <th>e</th>\n",
       "    </tr>\n",
       "  </thead>\n",
       "  <tbody>\n",
       "    <tr>\n",
       "      <th>0</th>\n",
       "      <td>58</td>\n",
       "      <td>61</td>\n",
       "      <td>72</td>\n",
       "      <td>55</td>\n",
       "      <td>96</td>\n",
       "    </tr>\n",
       "    <tr>\n",
       "      <th>1</th>\n",
       "      <td>38</td>\n",
       "      <td>39</td>\n",
       "      <td>69</td>\n",
       "      <td>31</td>\n",
       "      <td>46</td>\n",
       "    </tr>\n",
       "    <tr>\n",
       "      <th>2</th>\n",
       "      <td>25</td>\n",
       "      <td>19</td>\n",
       "      <td>21</td>\n",
       "      <td>50</td>\n",
       "      <td>84</td>\n",
       "    </tr>\n",
       "    <tr>\n",
       "      <th>3</th>\n",
       "      <td>30</td>\n",
       "      <td>42</td>\n",
       "      <td>59</td>\n",
       "      <td>55</td>\n",
       "      <td>37</td>\n",
       "    </tr>\n",
       "    <tr>\n",
       "      <th>4</th>\n",
       "      <td>54</td>\n",
       "      <td>75</td>\n",
       "      <td>36</td>\n",
       "      <td>41</td>\n",
       "      <td>89</td>\n",
       "    </tr>\n",
       "  </tbody>\n",
       "</table>"
      ],
      "text/plain": [
       "    a   b   c   d   e\n",
       "0  58  61  72  55  96\n",
       "1  38  39  69  31  46\n",
       "2  25  19  21  50  84\n",
       "3  30  42  59  55  37\n",
       "4  54  75  36  41  89"
      ]
     },
     "execution_count": 6,
     "metadata": {},
     "output_type": "execute_result"
    }
   ],
   "source": [
    "df1.add(df2)"
   ]
  },
  {
   "cell_type": "markdown",
   "id": "b6976028",
   "metadata": {},
   "source": [
    "### 實際例子"
   ]
  },
  {
   "cell_type": "code",
   "execution_count": 21,
   "id": "808a84f7",
   "metadata": {},
   "outputs": [
    {
     "name": "stderr",
     "output_type": "stream",
     "text": [
      "C:\\Users\\User\\AppData\\Local\\Temp\\ipykernel_8316\\2980034947.py:31: SettingWithCopyWarning: \n",
      "A value is trying to be set on a copy of a slice from a DataFrame.\n",
      "Try using .loc[row_indexer,col_indexer] = value instead\n",
      "\n",
      "See the caveats in the documentation: https://pandas.pydata.org/pandas-docs/stable/user_guide/indexing.html#returning-a-view-versus-a-copy\n",
      "  q['股票代號'] = q['股票代號'].apply(lambda x:str(x).replace('.0', ''))\n",
      "C:\\Users\\User\\AppData\\Local\\Temp\\ipykernel_8316\\2980034947.py:36: DeprecationWarning: In a future version, `df.iloc[:, i] = newvals` will attempt to set the values inplace instead of always setting a new array. To retain the old behavior, use either `df[df.columns[i]] = newvals` or, if columns are non-unique, `df.isetitem(i, newvals)`\n",
      "  q4.iloc[:, 1:] = q4.iloc[:, 1:].sub(q.iloc[:, 1:], fill_value = 0)\n",
      "C:\\Users\\User\\AppData\\Local\\Temp\\ipykernel_8316\\2980034947.py:31: SettingWithCopyWarning: \n",
      "A value is trying to be set on a copy of a slice from a DataFrame.\n",
      "Try using .loc[row_indexer,col_indexer] = value instead\n",
      "\n",
      "See the caveats in the documentation: https://pandas.pydata.org/pandas-docs/stable/user_guide/indexing.html#returning-a-view-versus-a-copy\n",
      "  q['股票代號'] = q['股票代號'].apply(lambda x:str(x).replace('.0', ''))\n",
      "C:\\Users\\User\\AppData\\Local\\Temp\\ipykernel_8316\\2980034947.py:31: SettingWithCopyWarning: \n",
      "A value is trying to be set on a copy of a slice from a DataFrame.\n",
      "Try using .loc[row_indexer,col_indexer] = value instead\n",
      "\n",
      "See the caveats in the documentation: https://pandas.pydata.org/pandas-docs/stable/user_guide/indexing.html#returning-a-view-versus-a-copy\n",
      "  q['股票代號'] = q['股票代號'].apply(lambda x:str(x).replace('.0', ''))\n",
      "C:\\Users\\User\\AppData\\Local\\Temp\\ipykernel_8316\\2980034947.py:52: DeprecationWarning: In a future version, `df.iloc[:, i] = newvals` will attempt to set the values inplace instead of always setting a new array. To retain the old behavior, use either `df[df.columns[i]] = newvals` or, if columns are non-unique, `df.isetitem(i, newvals)`\n",
      "  df.iloc[:, idx+1:] = df.iloc[:, idx+1:].applymap(lambda x: pd.to_numeric(x, errors='coerce'))\n"
     ]
    },
    {
     "data": {
      "text/html": [
       "<div>\n",
       "<style scoped>\n",
       "    .dataframe tbody tr th:only-of-type {\n",
       "        vertical-align: middle;\n",
       "    }\n",
       "\n",
       "    .dataframe tbody tr th {\n",
       "        vertical-align: top;\n",
       "    }\n",
       "\n",
       "    .dataframe thead th {\n",
       "        text-align: right;\n",
       "    }\n",
       "</style>\n",
       "<table border=\"1\" class=\"dataframe\">\n",
       "  <thead>\n",
       "    <tr style=\"text-align: right;\">\n",
       "      <th></th>\n",
       "      <th>年季</th>\n",
       "      <th>股票代號</th>\n",
       "      <th>財報別</th>\n",
       "      <th>報告別</th>\n",
       "      <th>41000</th>\n",
       "      <th>49020</th>\n",
       "      <th>51000</th>\n",
       "      <th>58200</th>\n",
       "      <th>58400</th>\n",
       "      <th>61001</th>\n",
       "      <th>...</th>\n",
       "      <th>66000</th>\n",
       "      <th>67101</th>\n",
       "      <th>67105</th>\n",
       "      <th>67111</th>\n",
       "      <th>67301</th>\n",
       "      <th>67305</th>\n",
       "      <th>67311</th>\n",
       "      <th>67500</th>\n",
       "      <th>67700</th>\n",
       "      <th>4XXXX</th>\n",
       "    </tr>\n",
       "  </thead>\n",
       "  <tbody>\n",
       "    <tr>\n",
       "      <th>0</th>\n",
       "      <td>2022Q1</td>\n",
       "      <td>2801</td>\n",
       "      <td>fr1</td>\n",
       "      <td>cr</td>\n",
       "      <td>7304860.00</td>\n",
       "      <td>1978438.00</td>\n",
       "      <td>1853608.00</td>\n",
       "      <td>557306.00</td>\n",
       "      <td>4053988.00</td>\n",
       "      <td>2818396.00</td>\n",
       "      <td>...</td>\n",
       "      <td>1612824.00</td>\n",
       "      <td>2377142.00</td>\n",
       "      <td></td>\n",
       "      <td></td>\n",
       "      <td>1612824.00</td>\n",
       "      <td></td>\n",
       "      <td></td>\n",
       "      <td>0.23</td>\n",
       "      <td>0.23</td>\n",
       "      <td>7429690.00</td>\n",
       "    </tr>\n",
       "    <tr>\n",
       "      <th>1</th>\n",
       "      <td>2022Q1</td>\n",
       "      <td>2809</td>\n",
       "      <td>fr1</td>\n",
       "      <td>cr</td>\n",
       "      <td>1693820.00</td>\n",
       "      <td>-861601.00</td>\n",
       "      <td>231671.00</td>\n",
       "      <td>-80904.00</td>\n",
       "      <td>484973.00</td>\n",
       "      <td>196479.00</td>\n",
       "      <td>...</td>\n",
       "      <td>-2041721.00</td>\n",
       "      <td>36641.00</td>\n",
       "      <td></td>\n",
       "      <td></td>\n",
       "      <td>-2041721.00</td>\n",
       "      <td></td>\n",
       "      <td></td>\n",
       "      <td>0.03</td>\n",
       "      <td>0.03</td>\n",
       "      <td>600548.00</td>\n",
       "    </tr>\n",
       "    <tr>\n",
       "      <th>2</th>\n",
       "      <td>2022Q1</td>\n",
       "      <td>2812</td>\n",
       "      <td>fr1</td>\n",
       "      <td>cr</td>\n",
       "      <td>3162409.00</td>\n",
       "      <td>1019878.00</td>\n",
       "      <td>744793.00</td>\n",
       "      <td>217869.00</td>\n",
       "      <td>1657132.00</td>\n",
       "      <td>1562493.00</td>\n",
       "      <td>...</td>\n",
       "      <td>1107765.00</td>\n",
       "      <td>1276014.00</td>\n",
       "      <td></td>\n",
       "      <td></td>\n",
       "      <td>1107765.00</td>\n",
       "      <td></td>\n",
       "      <td></td>\n",
       "      <td>0.28</td>\n",
       "      <td>0.28</td>\n",
       "      <td>3437494.00</td>\n",
       "    </tr>\n",
       "    <tr>\n",
       "      <th>3</th>\n",
       "      <td>2022Q1</td>\n",
       "      <td>2834</td>\n",
       "      <td>fr1</td>\n",
       "      <td>cr</td>\n",
       "      <td>6367825.00</td>\n",
       "      <td>1521781.00</td>\n",
       "      <td>1676793.00</td>\n",
       "      <td>255260.00</td>\n",
       "      <td>3368433.00</td>\n",
       "      <td>2589120.00</td>\n",
       "      <td>...</td>\n",
       "      <td>857719.00</td>\n",
       "      <td>2124261.00</td>\n",
       "      <td>0.00</td>\n",
       "      <td>0.00</td>\n",
       "      <td>857719.00</td>\n",
       "      <td>0.00</td>\n",
       "      <td>0.00</td>\n",
       "      <td>0.27</td>\n",
       "      <td>0.27</td>\n",
       "      <td>6212813.00</td>\n",
       "    </tr>\n",
       "    <tr>\n",
       "      <th>4</th>\n",
       "      <td>2022Q1</td>\n",
       "      <td>2837</td>\n",
       "      <td>fr1</td>\n",
       "      <td>cr</td>\n",
       "      <td>3003202.00</td>\n",
       "      <td>784005.00</td>\n",
       "      <td>621713.00</td>\n",
       "      <td>-106482.00</td>\n",
       "      <td>1664572.00</td>\n",
       "      <td>1607404.00</td>\n",
       "      <td>...</td>\n",
       "      <td>-1001398.00</td>\n",
       "      <td>1358755.00</td>\n",
       "      <td></td>\n",
       "      <td>4339.00</td>\n",
       "      <td>-1007694.00</td>\n",
       "      <td></td>\n",
       "      <td>6296.00</td>\n",
       "      <td>0.29</td>\n",
       "      <td></td>\n",
       "      <td>3165494.00</td>\n",
       "    </tr>\n",
       "    <tr>\n",
       "      <th>...</th>\n",
       "      <td>...</td>\n",
       "      <td>...</td>\n",
       "      <td>...</td>\n",
       "      <td>...</td>\n",
       "      <td>...</td>\n",
       "      <td>...</td>\n",
       "      <td>...</td>\n",
       "      <td>...</td>\n",
       "      <td>...</td>\n",
       "      <td>...</td>\n",
       "      <td>...</td>\n",
       "      <td>...</td>\n",
       "      <td>...</td>\n",
       "      <td>...</td>\n",
       "      <td>...</td>\n",
       "      <td>...</td>\n",
       "      <td>...</td>\n",
       "      <td>...</td>\n",
       "      <td>...</td>\n",
       "      <td>...</td>\n",
       "      <td>...</td>\n",
       "    </tr>\n",
       "    <tr>\n",
       "      <th>169</th>\n",
       "      <td>2022Q4</td>\n",
       "      <td>5870</td>\n",
       "      <td>fr1</td>\n",
       "      <td>ir</td>\n",
       "      <td>-700317.00</td>\n",
       "      <td>27511.00</td>\n",
       "      <td>139991.00</td>\n",
       "      <td>-405814.00</td>\n",
       "      <td>-4533160.00</td>\n",
       "      <td>4126177.00</td>\n",
       "      <td>...</td>\n",
       "      <td>2813230.00</td>\n",
       "      <td></td>\n",
       "      <td></td>\n",
       "      <td></td>\n",
       "      <td></td>\n",
       "      <td></td>\n",
       "      <td></td>\n",
       "      <td>0.45</td>\n",
       "      <td>0.45</td>\n",
       "      <td>-812797.00</td>\n",
       "    </tr>\n",
       "    <tr>\n",
       "      <th>170</th>\n",
       "      <td>2022Q4</td>\n",
       "      <td>5872</td>\n",
       "      <td>fr1</td>\n",
       "      <td>ir</td>\n",
       "      <td>5136187.00</td>\n",
       "      <td>4988625.00</td>\n",
       "      <td>2310821.00</td>\n",
       "      <td>-195614.00</td>\n",
       "      <td>4642173.00</td>\n",
       "      <td>3367432.00</td>\n",
       "      <td>...</td>\n",
       "      <td>3620320.00</td>\n",
       "      <td></td>\n",
       "      <td></td>\n",
       "      <td></td>\n",
       "      <td></td>\n",
       "      <td></td>\n",
       "      <td></td>\n",
       "      <td>0.80</td>\n",
       "      <td></td>\n",
       "      <td>7813991.00</td>\n",
       "    </tr>\n",
       "    <tr>\n",
       "      <th>171</th>\n",
       "      <td>2022Q4</td>\n",
       "      <td>5875</td>\n",
       "      <td>fr1</td>\n",
       "      <td>ir</td>\n",
       "      <td>5169825.00</td>\n",
       "      <td>1908240.00</td>\n",
       "      <td>2395146.00</td>\n",
       "      <td>179753.00</td>\n",
       "      <td>4439253.00</td>\n",
       "      <td>63913.00</td>\n",
       "      <td>...</td>\n",
       "      <td>43622.00</td>\n",
       "      <td></td>\n",
       "      <td></td>\n",
       "      <td></td>\n",
       "      <td></td>\n",
       "      <td></td>\n",
       "      <td></td>\n",
       "      <td>0.03</td>\n",
       "      <td>0.03</td>\n",
       "      <td>4682919.00</td>\n",
       "    </tr>\n",
       "    <tr>\n",
       "      <th>172</th>\n",
       "      <td>2022Q4</td>\n",
       "      <td>6031</td>\n",
       "      <td>fr1</td>\n",
       "      <td>ir</td>\n",
       "      <td>320031.00</td>\n",
       "      <td>-99872.00</td>\n",
       "      <td>249103.00</td>\n",
       "      <td>103400.00</td>\n",
       "      <td>964027.00</td>\n",
       "      <td>-1096371.00</td>\n",
       "      <td>...</td>\n",
       "      <td>-871689.00</td>\n",
       "      <td></td>\n",
       "      <td></td>\n",
       "      <td></td>\n",
       "      <td></td>\n",
       "      <td></td>\n",
       "      <td></td>\n",
       "      <td>-0.28</td>\n",
       "      <td>-0.28</td>\n",
       "      <td>-28944.00</td>\n",
       "    </tr>\n",
       "    <tr>\n",
       "      <th>173</th>\n",
       "      <td>2022Q4</td>\n",
       "      <td>5850</td>\n",
       "      <td>fr2</td>\n",
       "      <td>cr</td>\n",
       "      <td>1338703.00</td>\n",
       "      <td>394500.00</td>\n",
       "      <td>407329.00</td>\n",
       "      <td>-62264.00</td>\n",
       "      <td>781618.00</td>\n",
       "      <td>606520.00</td>\n",
       "      <td>...</td>\n",
       "      <td>584316.00</td>\n",
       "      <td>536420.00</td>\n",
       "      <td></td>\n",
       "      <td>2.00</td>\n",
       "      <td>584314.00</td>\n",
       "      <td></td>\n",
       "      <td>2.00</td>\n",
       "      <td>0.29</td>\n",
       "      <td></td>\n",
       "      <td>1325874.00</td>\n",
       "    </tr>\n",
       "  </tbody>\n",
       "</table>\n",
       "<p>174 rows × 24 columns</p>\n",
       "</div>"
      ],
      "text/plain": [
       "         年季  股票代號  財報別 報告別       41000       49020       51000       58200  \\\n",
       "0    2022Q1  2801  fr1  cr  7304860.00  1978438.00  1853608.00   557306.00   \n",
       "1    2022Q1  2809  fr1  cr  1693820.00  -861601.00   231671.00   -80904.00   \n",
       "2    2022Q1  2812  fr1  cr  3162409.00  1019878.00   744793.00   217869.00   \n",
       "3    2022Q1  2834  fr1  cr  6367825.00  1521781.00  1676793.00   255260.00   \n",
       "4    2022Q1  2837  fr1  cr  3003202.00   784005.00   621713.00  -106482.00   \n",
       "..      ...   ...  ...  ..         ...         ...         ...         ...   \n",
       "169  2022Q4  5870  fr1  ir  -700317.00    27511.00   139991.00  -405814.00   \n",
       "170  2022Q4  5872  fr1  ir  5136187.00  4988625.00  2310821.00  -195614.00   \n",
       "171  2022Q4  5875  fr1  ir  5169825.00  1908240.00  2395146.00   179753.00   \n",
       "172  2022Q4  6031  fr1  ir   320031.00   -99872.00   249103.00   103400.00   \n",
       "173  2022Q4  5850  fr2  cr  1338703.00   394500.00   407329.00   -62264.00   \n",
       "\n",
       "           58400        61001  ...        66000       67101 67105    67111  \\\n",
       "0     4053988.00   2818396.00  ...   1612824.00  2377142.00                  \n",
       "1      484973.00    196479.00  ...  -2041721.00    36641.00                  \n",
       "2     1657132.00   1562493.00  ...   1107765.00  1276014.00                  \n",
       "3     3368433.00   2589120.00  ...    857719.00  2124261.00  0.00     0.00   \n",
       "4     1664572.00   1607404.00  ...  -1001398.00  1358755.00        4339.00   \n",
       "..           ...          ...  ...          ...         ...   ...      ...   \n",
       "169  -4533160.00   4126177.00  ...   2813230.00                              \n",
       "170   4642173.00   3367432.00  ...   3620320.00                              \n",
       "171   4439253.00     63913.00  ...     43622.00                              \n",
       "172    964027.00  -1096371.00  ...   -871689.00                              \n",
       "173    781618.00    606520.00  ...    584316.00   536420.00           2.00   \n",
       "\n",
       "           67301 67305    67311  67500  67700       4XXXX  \n",
       "0     1612824.00                  0.23   0.23  7429690.00  \n",
       "1    -2041721.00                  0.03   0.03   600548.00  \n",
       "2     1107765.00                  0.28   0.28  3437494.00  \n",
       "3      857719.00  0.00     0.00   0.27   0.27  6212813.00  \n",
       "4    -1007694.00        6296.00   0.29         3165494.00  \n",
       "..           ...   ...      ...    ...    ...         ...  \n",
       "169                               0.45   0.45  -812797.00  \n",
       "170                               0.80         7813991.00  \n",
       "171                               0.03   0.03  4682919.00  \n",
       "172                              -0.28  -0.28   -28944.00  \n",
       "173    584314.00           2.00   0.29         1325874.00  \n",
       "\n",
       "[174 rows x 24 columns]"
      ]
     },
     "execution_count": 21,
     "metadata": {},
     "output_type": "execute_result"
    }
   ],
   "source": [
    "def remove0(x):\n",
    "    if len(str(x)) == 3 and x == 0.0:\n",
    "        x = \"\"\n",
    "    return x\n",
    "\n",
    "year = 2022\n",
    "file = r'財報\\basi_incomestatement.csv'\n",
    "df = pd.read_csv(file, na_filter = False, dtype = {'股票代號':object})\n",
    "\n",
    "#限制在Q4資料出現再計算\n",
    "idx = df.columns.tolist().index('報告別')\n",
    "l = df.groupby('年季')['年季'].nunique().index.tolist()\n",
    "\n",
    "for _ in list(filter(lambda x:x.find('Q4') > -1, l)):\n",
    "    allq = list(filter(lambda x:x.find(_[:5]) > -1, l))\n",
    "    for yy in set(list(map(lambda x:x[:4], allq))):\n",
    "        #print(yy, \"{}Q{}\".format(yy, 4))\n",
    "        q4 = df[df['年季'] == \"{}Q{}\".format(yy, 4)]                             \n",
    "        q4 = q4.applymap(lambda x: pd.to_numeric(x, errors='ignore', downcast = 'float'))\n",
    "        q4['股票代號'] = q4['股票代號'].apply(lambda x:str(x).replace('.0', ''))\n",
    "        \n",
    "        if len(q4) > 0:                    \n",
    "            source_index, source_columns = q4.index, q4.columns                    \n",
    "            q4 = q4.set_index(['股票代號', '財報別', '報告別'])                    \n",
    "            q4 = q4.applymap(lambda x: pd.to_numeric(x, errors='ignore'))#coerce                    \n",
    "            q4 = q4.replace(\"nan\", 0).replace(np.nan, 0) #為了型別轉換補0\n",
    "\n",
    "            #將前3季的資料去減第4季                    \n",
    "            for i in range(1, 4):\n",
    "                q = df[df['年季'] == \"{}Q{}\".format(year, i)]\n",
    "                q['股票代號'] = q['股票代號'].apply(lambda x:str(x).replace('.0', ''))\n",
    "                q = q.set_index(['股票代號', '財報別', '報告別'])                                                \n",
    "                q = q.applymap(lambda x: pd.to_numeric(x, errors='ignore'))\n",
    "                q = q.replace(\"nan\", 0).replace(np.nan, 0) #為了型別轉換補0\n",
    "\n",
    "                q4.iloc[:, 1:] = q4.iloc[:, 1:].sub(q.iloc[:, 1:], fill_value = 0)\n",
    "                q4.iloc[:, 1:] = q4.iloc[:, 1:].replace(\"nan\", 0).replace(np.nan, 0) #為了型別轉換補0\n",
    "\n",
    "            q4.reset_index(inplace = True)\n",
    "            q4 = q4[source_columns]\n",
    "            q4.index = source_index\n",
    "\n",
    "            #刪除Q4資料\n",
    "            df = df.drop(index = df[df['年季'] == \"{}Q{}\".format(year, 4)].index.tolist())\n",
    "            #將新的Q4資料合併至表格中\n",
    "            df = pd.concat([df, q4], ignore_index = True)\n",
    "            #格式化小數位數\n",
    "            idx = df.columns.tolist().index('報告別')\n",
    "            #取代0.0為空白\n",
    "            df = df.applymap(remove0)\n",
    "\n",
    "            df.iloc[:, idx+1:] = df.iloc[:, idx+1:].applymap(lambda x: pd.to_numeric(x, errors='coerce'))\n",
    "            #print(df.info())\n",
    "            df.iloc[:, idx+1:] = df.iloc[:, idx+1:].applymap(lambda x:'{:.2f}'.format(x))\n",
    "df = df.replace(np.nan, \"\").replace(\"nan\", \"\")\n",
    "df"
   ]
  },
  {
   "cell_type": "code",
   "execution_count": 19,
   "id": "b90ebbcd",
   "metadata": {},
   "outputs": [
    {
     "data": {
      "text/html": [
       "<div>\n",
       "<style scoped>\n",
       "    .dataframe tbody tr th:only-of-type {\n",
       "        vertical-align: middle;\n",
       "    }\n",
       "\n",
       "    .dataframe tbody tr th {\n",
       "        vertical-align: top;\n",
       "    }\n",
       "\n",
       "    .dataframe thead th {\n",
       "        text-align: right;\n",
       "    }\n",
       "</style>\n",
       "<table border=\"1\" class=\"dataframe\">\n",
       "  <thead>\n",
       "    <tr style=\"text-align: right;\">\n",
       "      <th></th>\n",
       "      <th>年季</th>\n",
       "      <th>股票代號</th>\n",
       "      <th>財報別</th>\n",
       "      <th>報告別</th>\n",
       "      <th>41000</th>\n",
       "      <th>49020</th>\n",
       "      <th>51000</th>\n",
       "      <th>58200</th>\n",
       "      <th>58400</th>\n",
       "      <th>61001</th>\n",
       "      <th>...</th>\n",
       "      <th>66000</th>\n",
       "      <th>67101</th>\n",
       "      <th>67105</th>\n",
       "      <th>67111</th>\n",
       "      <th>67301</th>\n",
       "      <th>67305</th>\n",
       "      <th>67311</th>\n",
       "      <th>67500</th>\n",
       "      <th>67700</th>\n",
       "      <th>4XXXX</th>\n",
       "    </tr>\n",
       "  </thead>\n",
       "  <tbody>\n",
       "    <tr>\n",
       "      <th>4</th>\n",
       "      <td>2022Q1</td>\n",
       "      <td>2837</td>\n",
       "      <td>fr1</td>\n",
       "      <td>cr</td>\n",
       "      <td>3003202.00</td>\n",
       "      <td>784005.00</td>\n",
       "      <td>621713.00</td>\n",
       "      <td>-106482.00</td>\n",
       "      <td>1664572.00</td>\n",
       "      <td>1607404.00</td>\n",
       "      <td>...</td>\n",
       "      <td>-1001398.00</td>\n",
       "      <td>1358755.00</td>\n",
       "      <td>nan</td>\n",
       "      <td>4339.00</td>\n",
       "      <td>-1007694.00</td>\n",
       "      <td>nan</td>\n",
       "      <td>6296.00</td>\n",
       "      <td>0.29</td>\n",
       "      <td>nan</td>\n",
       "      <td>3165494.00</td>\n",
       "    </tr>\n",
       "    <tr>\n",
       "      <th>32</th>\n",
       "      <td>2022Q2</td>\n",
       "      <td>2837</td>\n",
       "      <td>fr1</td>\n",
       "      <td>cr</td>\n",
       "      <td>3458076.00</td>\n",
       "      <td>949983.00</td>\n",
       "      <td>977519.00</td>\n",
       "      <td>-48035.00</td>\n",
       "      <td>1706272.00</td>\n",
       "      <td>1772303.00</td>\n",
       "      <td>...</td>\n",
       "      <td>-1930188.00</td>\n",
       "      <td>1515861.00</td>\n",
       "      <td>nan</td>\n",
       "      <td>4344.00</td>\n",
       "      <td>-1934231.00</td>\n",
       "      <td>nan</td>\n",
       "      <td>4043.00</td>\n",
       "      <td>0.33</td>\n",
       "      <td>nan</td>\n",
       "      <td>3430540.00</td>\n",
       "    </tr>\n",
       "    <tr>\n",
       "      <th>77</th>\n",
       "      <td>2022Q3</td>\n",
       "      <td>2837</td>\n",
       "      <td>fr1</td>\n",
       "      <td>cr</td>\n",
       "      <td>4284200.00</td>\n",
       "      <td>1240754.00</td>\n",
       "      <td>1797624.00</td>\n",
       "      <td>-13950.00</td>\n",
       "      <td>1739929.00</td>\n",
       "      <td>2001351.00</td>\n",
       "      <td>...</td>\n",
       "      <td>-764493.00</td>\n",
       "      <td>1853012.00</td>\n",
       "      <td>nan</td>\n",
       "      <td>5365.00</td>\n",
       "      <td>-769702.00</td>\n",
       "      <td>nan</td>\n",
       "      <td>5209.00</td>\n",
       "      <td>0.40</td>\n",
       "      <td>nan</td>\n",
       "      <td>3727330.00</td>\n",
       "    </tr>\n",
       "    <tr>\n",
       "      <th>105</th>\n",
       "      <td>2023Q1</td>\n",
       "      <td>2837</td>\n",
       "      <td>fr1</td>\n",
       "      <td>cr</td>\n",
       "      <td>5272215.00</td>\n",
       "      <td>1423880.00</td>\n",
       "      <td>3287279.00</td>\n",
       "      <td>-93271.00</td>\n",
       "      <td>1733093.00</td>\n",
       "      <td>1768994.00</td>\n",
       "      <td>...</td>\n",
       "      <td>2400925.00</td>\n",
       "      <td>1534630.00</td>\n",
       "      <td>nan</td>\n",
       "      <td>0.00</td>\n",
       "      <td>2400925.00</td>\n",
       "      <td>nan</td>\n",
       "      <td>0.00</td>\n",
       "      <td>0.33</td>\n",
       "      <td>nan</td>\n",
       "      <td>3408816.00</td>\n",
       "    </tr>\n",
       "    <tr>\n",
       "      <th>132</th>\n",
       "      <td>2022Q4</td>\n",
       "      <td>2837</td>\n",
       "      <td>fr1</td>\n",
       "      <td>cr</td>\n",
       "      <td>5111344.00</td>\n",
       "      <td>743143.00</td>\n",
       "      <td>2919247.00</td>\n",
       "      <td>-40719.00</td>\n",
       "      <td>1705314.00</td>\n",
       "      <td>1270645.00</td>\n",
       "      <td>...</td>\n",
       "      <td>2699549.00</td>\n",
       "      <td>1272382.00</td>\n",
       "      <td>nan</td>\n",
       "      <td>953.00</td>\n",
       "      <td>2698596.00</td>\n",
       "      <td>nan</td>\n",
       "      <td>953.00</td>\n",
       "      <td>0.28</td>\n",
       "      <td>nan</td>\n",
       "      <td>2935240.00</td>\n",
       "    </tr>\n",
       "  </tbody>\n",
       "</table>\n",
       "<p>5 rows × 24 columns</p>\n",
       "</div>"
      ],
      "text/plain": [
       "         年季  股票代號  財報別 報告別       41000       49020       51000       58200  \\\n",
       "4    2022Q1  2837  fr1  cr  3003202.00   784005.00   621713.00  -106482.00   \n",
       "32   2022Q2  2837  fr1  cr  3458076.00   949983.00   977519.00   -48035.00   \n",
       "77   2022Q3  2837  fr1  cr  4284200.00  1240754.00  1797624.00   -13950.00   \n",
       "105  2023Q1  2837  fr1  cr  5272215.00  1423880.00  3287279.00   -93271.00   \n",
       "132  2022Q4  2837  fr1  cr  5111344.00   743143.00  2919247.00   -40719.00   \n",
       "\n",
       "          58400       61001  ...        66000       67101 67105    67111  \\\n",
       "4    1664572.00  1607404.00  ...  -1001398.00  1358755.00   nan  4339.00   \n",
       "32   1706272.00  1772303.00  ...  -1930188.00  1515861.00   nan  4344.00   \n",
       "77   1739929.00  2001351.00  ...   -764493.00  1853012.00   nan  5365.00   \n",
       "105  1733093.00  1768994.00  ...   2400925.00  1534630.00   nan     0.00   \n",
       "132  1705314.00  1270645.00  ...   2699549.00  1272382.00   nan   953.00   \n",
       "\n",
       "           67301 67305    67311 67500 67700       4XXXX  \n",
       "4    -1007694.00   nan  6296.00  0.29   nan  3165494.00  \n",
       "32   -1934231.00   nan  4043.00  0.33   nan  3430540.00  \n",
       "77    -769702.00   nan  5209.00  0.40   nan  3727330.00  \n",
       "105   2400925.00   nan     0.00  0.33   nan  3408816.00  \n",
       "132   2698596.00   nan   953.00  0.28   nan  2935240.00  \n",
       "\n",
       "[5 rows x 24 columns]"
      ]
     },
     "execution_count": 19,
     "metadata": {},
     "output_type": "execute_result"
    }
   ],
   "source": [
    "df[df['股票代號'] == '2837']"
   ]
  },
  {
   "cell_type": "markdown",
   "id": "dEBM4fntKPPd",
   "metadata": {
    "id": "dEBM4fntKPPd"
   },
   "source": [
    "# 16.時間序列處理\n",
    "### 16-1 Pandas支援4種日期時間\n",
    "\n",
    "|時間概念|說明|類別|索引類別|Pandas資料類型|建立方法|\n",
    "|-|-|-|-|-|-|\n",
    "|日期時間(時間戳)|帶時區的日期時間，類似於標準庫的datetime.datetime|Timestamp|DatetimeIndex|datetime64[ns]、datetime64[ns,tz]|pd.to_datetime、pd.date_range、pd.bdate_range、pd.Timestamp、pd.DatetimeIndex|\n",
    "|時間增量(時間差Timedelta)|絕對時間週期，類似於標準庫的datetime.timedelta|Timedelta|TimedeltaIndex|timedelta64[ns]|pd.to_timedelta、pd.timedelta_range|\n",
    "|時間跨度(時間段Timespan)|在某一時點以指定頻率定義的時間跨度|Period|PeriodIndex|period[freq]|pd.period、pd.period_range、pd.PeriodIndex|\n",
    "|日期偏移(Dateoffset)|與日曆運算對應的時間段，類似於 dateutil 的dateutil.relativedelta.relativedelta|DateOffset|None|None|pd.DateOffset|\n",
    "\n",
    "- [pd.to_datetime](https://pandas.pydata.org/pandas-docs/stable/reference/api/pandas.to_datetime.html)\n",
    "    - 轉換時間序列\n",
    "    - pd.to_datetime(arg,errors ='raise', utc = None, format = None, unit = None )\n",
    "        - **format**：格式化顯示時間的格式。如\"%Y-%m-%d\",.....\n",
    "        - **units**：預設值為'ns'，精確到微妙，'s'為秒。\n",
    "        - **errors**：三種取值，'ignore', 'raise', 'coerce'，預設為raise。\n",
    "            * raise，則無效的解析將引發異常\n",
    "            * coerce，那麼無效解析將被設置為NaT\n",
    "            * ignore，那麼無效的解析將返回輸入值\n",
    "- [pd.to_timedelta](https://pandas.pydata.org/pandas-docs/stable/reference/api/pandas.to_timedelta.html)\n",
    "    - 轉換成時間差\n",
    "- [pd.date_range](https://pandas.pydata.org/pandas-docs/stable/reference/api/pandas.date_range.html)\n",
    "    - 產生等差時間序列，有時間範圍限制，超出的時間要用 pd.period_range 進行序列建立\n",
    "    - pd.date_range(start=None, end=None, periods=None, freq=None, tz=None, normalize=False, name=None, closed=None, **kwargs)\n",
    "        - start：開始時間 \n",
    "        - end：結束時間 \n",
    "        - periods：總數量長度 \n",
    "        - freq：時間間隔、日期偏移量，預設'D' \n",
    "        - tz：時區 \n",
    "        - normalize：是否標準化到 \n",
    "        - midnight：午夜時間戳記 \n",
    "        - name：列名稱 \n",
    "        - closed：首尾是否在內 'left'、'right'\n",
    "- [pd.bdate_range](https://pandas.pydata.org/pandas-docs/stable/reference/api/pandas.bdate_range.html)\n",
    "    - 產生工作日的時間序列\n",
    "    - pd.bdate_range：(start=None, end=None, periods=None, freq='B', tz=None, normalize=True, name=None, weekmask=None, holidays=None, closed=_NoDefault.no_default, inclusive=None, **kwargs)\n",
    "- [pd.period_range](https://pandas.pydata.org/pandas-docs/stable/reference/api/pandas.period_range.html)\n",
    "    - 產生週期序列\n",
    "    - pd.period_range(start=None, end=None, periods=None, freq=None, name=None)    \n",
    "        - start：開始時間 \n",
    "        - end：結束時間 \n",
    "        - periods：總數量長度 \n",
    "        - freq：時間間隔、日期偏移量，預設'D' \n",
    "        - name：列名稱\n",
    "- [pd.timedelta_range](https://pandas.pydata.org/pandas-docs/stable/reference/api/pandas.timedelta_range.html)\n",
    "    - 產生時間差序列\n",
    "    - pd.timedelta_range(start=None, end=None, periods=None, freq=None, name=None, closed=None)\n",
    "- [pd.interval_range](https://pandas.pydata.org/pandas-docs/stable/reference/api/pandas.interval_range.html)\n",
    "    - 產生時間區間、數值區間\n",
    "    - pd.interval_range(start=None, end=None, periods=None, freq=None, name=None, closed='right')"
   ]
  },
  {
   "cell_type": "markdown",
   "id": "2aa15ff2",
   "metadata": {},
   "source": [
    "![](image\\pandas_date_range.png)"
   ]
  },
  {
   "cell_type": "code",
   "execution_count": null,
   "id": "QfUGRpavKPPd",
   "metadata": {
    "id": "QfUGRpavKPPd",
    "outputId": "cb4fcc5c-027d-41ba-aac5-a07e94ba4a71"
   },
   "outputs": [
    {
     "data": {
      "text/plain": [
       "(Timestamp('1677-09-21 00:12:43.145224193'),\n",
       " Timestamp('2262-04-11 23:47:16.854775807'))"
      ]
     },
     "execution_count": 20,
     "metadata": {},
     "output_type": "execute_result"
    }
   ],
   "source": [
    "#時間範圍\n",
    "pd.Timestamp.min, pd.Timestamp.max"
   ]
  },
  {
   "cell_type": "code",
   "execution_count": null,
   "id": "6SCRZoZXKPPd",
   "metadata": {
    "id": "6SCRZoZXKPPd",
    "outputId": "4a304e91-a385-4984-ffb5-25f764c481e5"
   },
   "outputs": [
    {
     "ename": "OutOfBoundsDatetime",
     "evalue": "Out of bounds nanosecond timestamp: 1510-10-01 00:00:00",
     "output_type": "error",
     "traceback": [
      "\u001b[1;31m---------------------------------------------------------------------------\u001b[0m",
      "\u001b[1;31mOutOfBoundsDatetime\u001b[0m                       Traceback (most recent call last)",
      "Input \u001b[1;32mIn [18]\u001b[0m, in \u001b[0;36m<cell line: 1>\u001b[1;34m()\u001b[0m\n\u001b[1;32m----> 1\u001b[0m \u001b[43mpd\u001b[49m\u001b[38;5;241;43m.\u001b[39;49m\u001b[43mdate_range\u001b[49m\u001b[43m(\u001b[49m\u001b[38;5;124;43m'\u001b[39;49m\u001b[38;5;124;43m1510-10-01\u001b[39;49m\u001b[38;5;124;43m'\u001b[39;49m\u001b[43m,\u001b[49m\u001b[43m \u001b[49m\u001b[43mperiods\u001b[49m\u001b[38;5;241;43m=\u001b[39;49m\u001b[38;5;241;43m10\u001b[39;49m\u001b[43m,\u001b[49m\u001b[43m \u001b[49m\u001b[43mfreq\u001b[49m\u001b[38;5;241;43m=\u001b[39;49m\u001b[38;5;124;43m'\u001b[39;49m\u001b[38;5;124;43mD\u001b[39;49m\u001b[38;5;124;43m'\u001b[39;49m\u001b[43m)\u001b[49m\n",
      "File \u001b[1;32m~\\AppData\\Roaming\\Python\\Python39\\site-packages\\pandas\\core\\indexes\\datetimes.py:1087\u001b[0m, in \u001b[0;36mdate_range\u001b[1;34m(start, end, periods, freq, tz, normalize, name, closed, inclusive, **kwargs)\u001b[0m\n\u001b[0;32m   1084\u001b[0m \u001b[38;5;28;01mif\u001b[39;00m freq \u001b[38;5;129;01mis\u001b[39;00m \u001b[38;5;28;01mNone\u001b[39;00m \u001b[38;5;129;01mand\u001b[39;00m com\u001b[38;5;241m.\u001b[39many_none(periods, start, end):\n\u001b[0;32m   1085\u001b[0m     freq \u001b[38;5;241m=\u001b[39m \u001b[38;5;124m\"\u001b[39m\u001b[38;5;124mD\u001b[39m\u001b[38;5;124m\"\u001b[39m\n\u001b[1;32m-> 1087\u001b[0m dtarr \u001b[38;5;241m=\u001b[39m DatetimeArray\u001b[38;5;241m.\u001b[39m_generate_range(\n\u001b[0;32m   1088\u001b[0m     start\u001b[38;5;241m=\u001b[39mstart,\n\u001b[0;32m   1089\u001b[0m     end\u001b[38;5;241m=\u001b[39mend,\n\u001b[0;32m   1090\u001b[0m     periods\u001b[38;5;241m=\u001b[39mperiods,\n\u001b[0;32m   1091\u001b[0m     freq\u001b[38;5;241m=\u001b[39mfreq,\n\u001b[0;32m   1092\u001b[0m     tz\u001b[38;5;241m=\u001b[39mtz,\n\u001b[0;32m   1093\u001b[0m     normalize\u001b[38;5;241m=\u001b[39mnormalize,\n\u001b[0;32m   1094\u001b[0m     inclusive\u001b[38;5;241m=\u001b[39minclusive,\n\u001b[0;32m   1095\u001b[0m     \u001b[38;5;241m*\u001b[39m\u001b[38;5;241m*\u001b[39mkwargs,\n\u001b[0;32m   1096\u001b[0m )\n\u001b[0;32m   1097\u001b[0m \u001b[38;5;28;01mreturn\u001b[39;00m DatetimeIndex\u001b[38;5;241m.\u001b[39m_simple_new(dtarr, name\u001b[38;5;241m=\u001b[39mname)\n",
      "File \u001b[1;32m~\\AppData\\Roaming\\Python\\Python39\\site-packages\\pandas\\core\\arrays\\datetimes.py:412\u001b[0m, in \u001b[0;36mDatetimeArray._generate_range\u001b[1;34m(cls, start, end, periods, freq, tz, normalize, ambiguous, nonexistent, inclusive)\u001b[0m\n\u001b[0;32m    409\u001b[0m freq \u001b[38;5;241m=\u001b[39m to_offset(freq)\n\u001b[0;32m    411\u001b[0m \u001b[38;5;28;01mif\u001b[39;00m start \u001b[38;5;129;01mis\u001b[39;00m \u001b[38;5;129;01mnot\u001b[39;00m \u001b[38;5;28;01mNone\u001b[39;00m:\n\u001b[1;32m--> 412\u001b[0m     start \u001b[38;5;241m=\u001b[39m \u001b[43mTimestamp\u001b[49m\u001b[43m(\u001b[49m\u001b[43mstart\u001b[49m\u001b[43m)\u001b[49m\n\u001b[0;32m    414\u001b[0m \u001b[38;5;28;01mif\u001b[39;00m end \u001b[38;5;129;01mis\u001b[39;00m \u001b[38;5;129;01mnot\u001b[39;00m \u001b[38;5;28;01mNone\u001b[39;00m:\n\u001b[0;32m    415\u001b[0m     end \u001b[38;5;241m=\u001b[39m Timestamp(end)\n",
      "File \u001b[1;32m~\\AppData\\Roaming\\Python\\Python39\\site-packages\\pandas\\_libs\\tslibs\\timestamps.pyx:1399\u001b[0m, in \u001b[0;36mpandas._libs.tslibs.timestamps.Timestamp.__new__\u001b[1;34m()\u001b[0m\n",
      "File \u001b[1;32m~\\AppData\\Roaming\\Python\\Python39\\site-packages\\pandas\\_libs\\tslibs\\conversion.pyx:408\u001b[0m, in \u001b[0;36mpandas._libs.tslibs.conversion.convert_to_tsobject\u001b[1;34m()\u001b[0m\n",
      "File \u001b[1;32m~\\AppData\\Roaming\\Python\\Python39\\site-packages\\pandas\\_libs\\tslibs\\conversion.pyx:642\u001b[0m, in \u001b[0;36mpandas._libs.tslibs.conversion._convert_str_to_tsobject\u001b[1;34m()\u001b[0m\n",
      "File \u001b[1;32m~\\AppData\\Roaming\\Python\\Python39\\site-packages\\pandas\\_libs\\tslibs\\conversion.pyx:627\u001b[0m, in \u001b[0;36mpandas._libs.tslibs.conversion._convert_str_to_tsobject\u001b[1;34m()\u001b[0m\n",
      "File \u001b[1;32m~\\AppData\\Roaming\\Python\\Python39\\site-packages\\pandas\\_libs\\tslibs\\np_datetime.pyx:120\u001b[0m, in \u001b[0;36mpandas._libs.tslibs.np_datetime.check_dts_bounds\u001b[1;34m()\u001b[0m\n",
      "\u001b[1;31mOutOfBoundsDatetime\u001b[0m: Out of bounds nanosecond timestamp: 1510-10-01 00:00:00"
     ]
    }
   ],
   "source": [
    "pd.date_range('1510-10-01', periods=10, freq='D')"
   ]
  },
  {
   "cell_type": "code",
   "execution_count": null,
   "id": "P7lWNlBnKPPd",
   "metadata": {
    "id": "P7lWNlBnKPPd",
    "outputId": "3106d536-5905-48db-f496-5da88813faff"
   },
   "outputs": [
    {
     "data": {
      "text/plain": [
       "PeriodIndex(['1510-10-01', '1510-10-02', '1510-10-03', '1510-10-04',\n",
       "             '1510-10-05', '1510-10-06', '1510-10-07', '1510-10-08',\n",
       "             '1510-10-09', '1510-10-10'],\n",
       "            dtype='period[D]')"
      ]
     },
     "execution_count": 19,
     "metadata": {},
     "output_type": "execute_result"
    }
   ],
   "source": [
    "pd.period_range('1510-10-01', periods=10, freq='D')"
   ]
  },
  {
   "cell_type": "markdown",
   "id": "sXPAqFK6KPPd",
   "metadata": {
    "id": "sXPAqFK6KPPd"
   },
   "source": [
    "- pd.timedelta_range(start=None, end=None, periods=None, freq=None, name=None, closed=None)"
   ]
  },
  {
   "cell_type": "code",
   "execution_count": null,
   "id": "YaYKpyQhKPPd",
   "metadata": {
    "id": "YaYKpyQhKPPd",
    "outputId": "828f5f75-3b43-43e5-851c-22654f0c452a"
   },
   "outputs": [
    {
     "data": {
      "text/plain": [
       "TimedeltaIndex(['1 days 00:00:00', '1 days 05:00:00', '1 days 10:00:00'], dtype='timedelta64[ns]', freq='5H')"
      ]
     },
     "execution_count": 23,
     "metadata": {},
     "output_type": "execute_result"
    }
   ],
   "source": [
    "pd.timedelta_range(start = '1 day', periods = 3, freq = '5h')"
   ]
  },
  {
   "cell_type": "markdown",
   "id": "V7hq2D6wKPPd",
   "metadata": {
    "id": "V7hq2D6wKPPd"
   },
   "source": [
    "- pd.interval_range(start=None, end=None, periods=None, freq=None, name=None, closed='right')"
   ]
  },
  {
   "cell_type": "code",
   "execution_count": null,
   "id": "xfevFpP-KPPd",
   "metadata": {
    "id": "xfevFpP-KPPd",
    "outputId": "775f680d-6144-4ee6-cb1b-ed9d17eb1a70"
   },
   "outputs": [
    {
     "data": {
      "text/plain": [
       "IntervalIndex([(2020-01-15, 2020-01-16], (2020-01-16, 2020-01-17], (2020-01-17, 2020-01-18], (2020-01-18, 2020-01-19], (2020-01-19, 2020-01-20] ... (2020-03-10, 2020-03-11], (2020-03-11, 2020-03-12], (2020-03-12, 2020-03-13], (2020-03-13, 2020-03-14], (2020-03-14, 2020-03-15]], dtype='interval[datetime64[ns], right]')"
      ]
     },
     "execution_count": 21,
     "metadata": {},
     "output_type": "execute_result"
    }
   ],
   "source": [
    "#時間區間\n",
    "pd.interval_range(pd.Timestamp(\"2020-1-15\"), pd.Timestamp(\"2020-3-15\"))"
   ]
  },
  {
   "cell_type": "code",
   "execution_count": null,
   "id": "nAiEP2TgKPPd",
   "metadata": {
    "id": "nAiEP2TgKPPd",
    "outputId": "5d5636ec-728f-4dce-b08c-978b6c40ebbf"
   },
   "outputs": [
    {
     "data": {
      "text/plain": [
       "IntervalIndex([(0, 1], (1, 2], (2, 3], (3, 4], (4, 5], (5, 6], (6, 7], (7, 8], (8, 9], (9, 10]], dtype='interval[int64, right]')"
      ]
     },
     "execution_count": 22,
     "metadata": {},
     "output_type": "execute_result"
    }
   ],
   "source": [
    "#數值區間\n",
    "pd.interval_range(0, 10)"
   ]
  },
  {
   "cell_type": "markdown",
   "id": "gGOwBWVKKPPd",
   "metadata": {
    "id": "gGOwBWVKKPPd"
   },
   "source": [
    "### 16-2 範例"
   ]
  },
  {
   "cell_type": "code",
   "execution_count": 1,
   "id": "pLAP3g3bKPPd",
   "metadata": {
    "id": "pLAP3g3bKPPd",
    "outputId": "7d1a2e97-cb3e-43f5-a3e2-91ac2f9d4877"
   },
   "outputs": [
    {
     "name": "stdout",
     "output_type": "stream",
     "text": [
      "<class 'pandas.core.frame.DataFrame'>\n",
      "RangeIndex: 337 entries, 0 to 336\n",
      "Data columns (total 6 columns):\n",
      " #   Column       Non-Null Count  Dtype  \n",
      "---  ------       --------------  -----  \n",
      " 0   Date         337 non-null    object \n",
      " 1   Close Price  337 non-null    float64\n",
      " 2   High Price   337 non-null    float64\n",
      " 3   Low Price    337 non-null    float64\n",
      " 4   Open Price   337 non-null    float64\n",
      " 5   Volume       337 non-null    float64\n",
      "dtypes: float64(5), object(1)\n",
      "memory usage: 15.9+ KB\n"
     ]
    }
   ],
   "source": [
    "import pandas as pd\n",
    "df = pd.read_csv('https://raw.githubusercontent.com/datagy/data/main/time_data.csv', parse_dates=['Date'])\n",
    "df.info()"
   ]
  },
  {
   "cell_type": "code",
   "execution_count": 2,
   "id": "O4bfv_lEKPPd",
   "metadata": {
    "id": "O4bfv_lEKPPd",
    "outputId": "6fa098b7-1ff9-449e-9eb5-51a8d0722cef"
   },
   "outputs": [
    {
     "name": "stdout",
     "output_type": "stream",
     "text": [
      "<class 'pandas.core.frame.DataFrame'>\n",
      "RangeIndex: 337 entries, 0 to 336\n",
      "Data columns (total 6 columns):\n",
      " #   Column       Non-Null Count  Dtype  \n",
      "---  ------       --------------  -----  \n",
      " 0   Date         337 non-null    object \n",
      " 1   Close Price  337 non-null    float64\n",
      " 2   High Price   337 non-null    float64\n",
      " 3   Low Price    337 non-null    float64\n",
      " 4   Open Price   337 non-null    float64\n",
      " 5   Volume       337 non-null    float64\n",
      "dtypes: float64(5), object(1)\n",
      "memory usage: 15.9+ KB\n"
     ]
    }
   ],
   "source": [
    "import pandas as pd\n",
    "df = pd.read_csv('https://raw.githubusercontent.com/datagy/data/main/time_data.csv', parse_dates=[0])\n",
    "df.info()"
   ]
  },
  {
   "cell_type": "markdown",
   "id": "DC1WbfRfKPPe",
   "metadata": {
    "id": "DC1WbfRfKPPe"
   },
   "source": [
    "### 方法1"
   ]
  },
  {
   "cell_type": "code",
   "execution_count": 3,
   "id": "_We0KPqYKPPe",
   "metadata": {
    "id": "_We0KPqYKPPe",
    "outputId": "92061c25-5277-4fdb-d247-703ede798167"
   },
   "outputs": [
    {
     "data": {
      "text/html": [
       "<div>\n",
       "<style scoped>\n",
       "    .dataframe tbody tr th:only-of-type {\n",
       "        vertical-align: middle;\n",
       "    }\n",
       "\n",
       "    .dataframe tbody tr th {\n",
       "        vertical-align: top;\n",
       "    }\n",
       "\n",
       "    .dataframe thead th {\n",
       "        text-align: right;\n",
       "    }\n",
       "</style>\n",
       "<table border=\"1\" class=\"dataframe\">\n",
       "  <thead>\n",
       "    <tr style=\"text-align: right;\">\n",
       "      <th></th>\n",
       "      <th>Date</th>\n",
       "      <th>Close Price</th>\n",
       "      <th>High Price</th>\n",
       "      <th>Low Price</th>\n",
       "      <th>Open Price</th>\n",
       "      <th>Volume</th>\n",
       "    </tr>\n",
       "  </thead>\n",
       "  <tbody>\n",
       "    <tr>\n",
       "      <th>0</th>\n",
       "      <td>2021-12-10 05:00:00</td>\n",
       "      <td>48246.57</td>\n",
       "      <td>48359.35</td>\n",
       "      <td>48051.08</td>\n",
       "      <td>48170.66</td>\n",
       "      <td>827.39761</td>\n",
       "    </tr>\n",
       "    <tr>\n",
       "      <th>1</th>\n",
       "      <td>2021-12-10 06:00:00</td>\n",
       "      <td>47847.59</td>\n",
       "      <td>48430.00</td>\n",
       "      <td>47810.81</td>\n",
       "      <td>48249.78</td>\n",
       "      <td>1296.18883</td>\n",
       "    </tr>\n",
       "    <tr>\n",
       "      <th>2</th>\n",
       "      <td>2021-12-10 07:00:00</td>\n",
       "      <td>47694.62</td>\n",
       "      <td>48037.48</td>\n",
       "      <td>47550.00</td>\n",
       "      <td>47847.59</td>\n",
       "      <td>2299.85298</td>\n",
       "    </tr>\n",
       "    <tr>\n",
       "      <th>3</th>\n",
       "      <td>2021-12-10 08:00:00</td>\n",
       "      <td>48090.35</td>\n",
       "      <td>48169.06</td>\n",
       "      <td>47587.39</td>\n",
       "      <td>47694.62</td>\n",
       "      <td>1371.25447</td>\n",
       "    </tr>\n",
       "    <tr>\n",
       "      <th>4</th>\n",
       "      <td>2021-12-10 09:00:00</td>\n",
       "      <td>48366.37</td>\n",
       "      <td>48495.00</td>\n",
       "      <td>47869.80</td>\n",
       "      <td>48090.35</td>\n",
       "      <td>1232.30238</td>\n",
       "    </tr>\n",
       "  </tbody>\n",
       "</table>\n",
       "</div>"
      ],
      "text/plain": [
       "                 Date  Close Price  High Price  Low Price  Open Price  \\\n",
       "0 2021-12-10 05:00:00     48246.57    48359.35   48051.08    48170.66   \n",
       "1 2021-12-10 06:00:00     47847.59    48430.00   47810.81    48249.78   \n",
       "2 2021-12-10 07:00:00     47694.62    48037.48   47550.00    47847.59   \n",
       "3 2021-12-10 08:00:00     48090.35    48169.06   47587.39    47694.62   \n",
       "4 2021-12-10 09:00:00     48366.37    48495.00   47869.80    48090.35   \n",
       "\n",
       "       Volume  \n",
       "0   827.39761  \n",
       "1  1296.18883  \n",
       "2  2299.85298  \n",
       "3  1371.25447  \n",
       "4  1232.30238  "
      ]
     },
     "execution_count": 3,
     "metadata": {},
     "output_type": "execute_result"
    }
   ],
   "source": [
    "import datetime as dt\n",
    "df['Date'] = df['Date'].apply(lambda x:dt.datetime.strptime(x, '%Y-%m-%d %H%p'))\n",
    "df.head()"
   ]
  },
  {
   "cell_type": "markdown",
   "id": "NnrZKazEKPPe",
   "metadata": {
    "id": "NnrZKazEKPPe"
   },
   "source": [
    "### 方法2"
   ]
  },
  {
   "cell_type": "code",
   "execution_count": 4,
   "id": "lEpRBcryKPPe",
   "metadata": {
    "id": "lEpRBcryKPPe",
    "outputId": "ee9b00a5-6af5-438f-cfe8-58e28a5f9863"
   },
   "outputs": [
    {
     "data": {
      "text/html": [
       "<div>\n",
       "<style scoped>\n",
       "    .dataframe tbody tr th:only-of-type {\n",
       "        vertical-align: middle;\n",
       "    }\n",
       "\n",
       "    .dataframe tbody tr th {\n",
       "        vertical-align: top;\n",
       "    }\n",
       "\n",
       "    .dataframe thead th {\n",
       "        text-align: right;\n",
       "    }\n",
       "</style>\n",
       "<table border=\"1\" class=\"dataframe\">\n",
       "  <thead>\n",
       "    <tr style=\"text-align: right;\">\n",
       "      <th></th>\n",
       "      <th>Date</th>\n",
       "      <th>Close Price</th>\n",
       "      <th>High Price</th>\n",
       "      <th>Low Price</th>\n",
       "      <th>Open Price</th>\n",
       "      <th>Volume</th>\n",
       "    </tr>\n",
       "  </thead>\n",
       "  <tbody>\n",
       "    <tr>\n",
       "      <th>0</th>\n",
       "      <td>2021-12-10 05:00:00</td>\n",
       "      <td>48246.57</td>\n",
       "      <td>48359.35</td>\n",
       "      <td>48051.08</td>\n",
       "      <td>48170.66</td>\n",
       "      <td>827.39761</td>\n",
       "    </tr>\n",
       "    <tr>\n",
       "      <th>1</th>\n",
       "      <td>2021-12-10 06:00:00</td>\n",
       "      <td>47847.59</td>\n",
       "      <td>48430.00</td>\n",
       "      <td>47810.81</td>\n",
       "      <td>48249.78</td>\n",
       "      <td>1296.18883</td>\n",
       "    </tr>\n",
       "    <tr>\n",
       "      <th>2</th>\n",
       "      <td>2021-12-10 07:00:00</td>\n",
       "      <td>47694.62</td>\n",
       "      <td>48037.48</td>\n",
       "      <td>47550.00</td>\n",
       "      <td>47847.59</td>\n",
       "      <td>2299.85298</td>\n",
       "    </tr>\n",
       "    <tr>\n",
       "      <th>3</th>\n",
       "      <td>2021-12-10 08:00:00</td>\n",
       "      <td>48090.35</td>\n",
       "      <td>48169.06</td>\n",
       "      <td>47587.39</td>\n",
       "      <td>47694.62</td>\n",
       "      <td>1371.25447</td>\n",
       "    </tr>\n",
       "    <tr>\n",
       "      <th>4</th>\n",
       "      <td>2021-12-10 09:00:00</td>\n",
       "      <td>48366.37</td>\n",
       "      <td>48495.00</td>\n",
       "      <td>47869.80</td>\n",
       "      <td>48090.35</td>\n",
       "      <td>1232.30238</td>\n",
       "    </tr>\n",
       "  </tbody>\n",
       "</table>\n",
       "</div>"
      ],
      "text/plain": [
       "                 Date  Close Price  High Price  Low Price  Open Price  \\\n",
       "0 2021-12-10 05:00:00     48246.57    48359.35   48051.08    48170.66   \n",
       "1 2021-12-10 06:00:00     47847.59    48430.00   47810.81    48249.78   \n",
       "2 2021-12-10 07:00:00     47694.62    48037.48   47550.00    47847.59   \n",
       "3 2021-12-10 08:00:00     48090.35    48169.06   47587.39    47694.62   \n",
       "4 2021-12-10 09:00:00     48366.37    48495.00   47869.80    48090.35   \n",
       "\n",
       "       Volume  \n",
       "0   827.39761  \n",
       "1  1296.18883  \n",
       "2  2299.85298  \n",
       "3  1371.25447  \n",
       "4  1232.30238  "
      ]
     },
     "execution_count": 4,
     "metadata": {},
     "output_type": "execute_result"
    }
   ],
   "source": [
    "df['Date'] = pd.to_datetime(df['Date'], format='%Y-%m-%d %H%p')\n",
    "df.head()"
   ]
  },
  {
   "cell_type": "markdown",
   "id": "MdJGma6NKPPe",
   "metadata": {
    "id": "MdJGma6NKPPe"
   },
   "source": [
    "### 方法3\n",
    "##### [時間轉字串strftime() 與 字串轉時間strptime()](https://docs.python.org/3/library/datetime.html#strftime-and-strptime-behavior)"
   ]
  },
  {
   "cell_type": "code",
   "execution_count": 5,
   "id": "C1Te59nJKPPe",
   "metadata": {
    "id": "C1Te59nJKPPe",
    "outputId": "17d2768c-cafc-439e-d7e6-8d83bed12dd2"
   },
   "outputs": [
    {
     "data": {
      "text/html": [
       "<div>\n",
       "<style scoped>\n",
       "    .dataframe tbody tr th:only-of-type {\n",
       "        vertical-align: middle;\n",
       "    }\n",
       "\n",
       "    .dataframe tbody tr th {\n",
       "        vertical-align: top;\n",
       "    }\n",
       "\n",
       "    .dataframe thead th {\n",
       "        text-align: right;\n",
       "    }\n",
       "</style>\n",
       "<table border=\"1\" class=\"dataframe\">\n",
       "  <thead>\n",
       "    <tr style=\"text-align: right;\">\n",
       "      <th></th>\n",
       "      <th>Date</th>\n",
       "      <th>Close Price</th>\n",
       "      <th>High Price</th>\n",
       "      <th>Low Price</th>\n",
       "      <th>Open Price</th>\n",
       "      <th>Volume</th>\n",
       "    </tr>\n",
       "  </thead>\n",
       "  <tbody>\n",
       "    <tr>\n",
       "      <th>0</th>\n",
       "      <td>2021-12-10 05:00:00</td>\n",
       "      <td>48246.57</td>\n",
       "      <td>48359.35</td>\n",
       "      <td>48051.08</td>\n",
       "      <td>48170.66</td>\n",
       "      <td>827.39761</td>\n",
       "    </tr>\n",
       "    <tr>\n",
       "      <th>1</th>\n",
       "      <td>2021-12-10 06:00:00</td>\n",
       "      <td>47847.59</td>\n",
       "      <td>48430.00</td>\n",
       "      <td>47810.81</td>\n",
       "      <td>48249.78</td>\n",
       "      <td>1296.18883</td>\n",
       "    </tr>\n",
       "    <tr>\n",
       "      <th>2</th>\n",
       "      <td>2021-12-10 07:00:00</td>\n",
       "      <td>47694.62</td>\n",
       "      <td>48037.48</td>\n",
       "      <td>47550.00</td>\n",
       "      <td>47847.59</td>\n",
       "      <td>2299.85298</td>\n",
       "    </tr>\n",
       "    <tr>\n",
       "      <th>3</th>\n",
       "      <td>2021-12-10 08:00:00</td>\n",
       "      <td>48090.35</td>\n",
       "      <td>48169.06</td>\n",
       "      <td>47587.39</td>\n",
       "      <td>47694.62</td>\n",
       "      <td>1371.25447</td>\n",
       "    </tr>\n",
       "    <tr>\n",
       "      <th>4</th>\n",
       "      <td>2021-12-10 09:00:00</td>\n",
       "      <td>48366.37</td>\n",
       "      <td>48495.00</td>\n",
       "      <td>47869.80</td>\n",
       "      <td>48090.35</td>\n",
       "      <td>1232.30238</td>\n",
       "    </tr>\n",
       "  </tbody>\n",
       "</table>\n",
       "</div>"
      ],
      "text/plain": [
       "                 Date  Close Price  High Price  Low Price  Open Price  \\\n",
       "0 2021-12-10 05:00:00     48246.57    48359.35   48051.08    48170.66   \n",
       "1 2021-12-10 06:00:00     47847.59    48430.00   47810.81    48249.78   \n",
       "2 2021-12-10 07:00:00     47694.62    48037.48   47550.00    47847.59   \n",
       "3 2021-12-10 08:00:00     48090.35    48169.06   47587.39    47694.62   \n",
       "4 2021-12-10 09:00:00     48366.37    48495.00   47869.80    48090.35   \n",
       "\n",
       "       Volume  \n",
       "0   827.39761  \n",
       "1  1296.18883  \n",
       "2  2299.85298  \n",
       "3  1371.25447  \n",
       "4  1232.30238  "
      ]
     },
     "execution_count": 5,
     "metadata": {},
     "output_type": "execute_result"
    }
   ],
   "source": [
    "import pandas as pd\n",
    "from datetime import datetime\n",
    "parser = lambda x: datetime.strptime(x, '%Y-%m-%d %H%p')\n",
    "df = pd.read_csv('https://raw.githubusercontent.com/datagy/data/main/time_data.csv', parse_dates=['Date'], date_parser=parser)\n",
    "df.head()"
   ]
  },
  {
   "cell_type": "code",
   "execution_count": 6,
   "id": "lmnc4h3xKPPe",
   "metadata": {
    "id": "lmnc4h3xKPPe",
    "outputId": "ccf34ad2-1fb1-4a2e-c33b-1cae63b9039d"
   },
   "outputs": [
    {
     "data": {
      "text/plain": [
       "0      Friday\n",
       "1      Friday\n",
       "2      Friday\n",
       "3      Friday\n",
       "4      Friday\n",
       "        ...  \n",
       "332    Friday\n",
       "333    Friday\n",
       "334    Friday\n",
       "335    Friday\n",
       "336    Friday\n",
       "Name: Date, Length: 337, dtype: object"
      ]
     },
     "execution_count": 6,
     "metadata": {},
     "output_type": "execute_result"
    }
   ],
   "source": [
    "#判別星期幾\n",
    "df['Date'].dt.day_name()"
   ]
  },
  {
   "cell_type": "code",
   "execution_count": 7,
   "id": "-DYw-d_nKPPe",
   "metadata": {
    "id": "-DYw-d_nKPPe",
    "outputId": "8ec4028c-9c72-460d-e529-837692fbc436"
   },
   "outputs": [
    {
     "data": {
      "text/plain": [
       "(Timestamp('2021-12-24 05:00:00'), Timestamp('2021-12-10 05:00:00'))"
      ]
     },
     "execution_count": 7,
     "metadata": {},
     "output_type": "execute_result"
    }
   ],
   "source": [
    "df['Date'].max(), df['Date'].min()"
   ]
  },
  {
   "cell_type": "code",
   "execution_count": 8,
   "id": "bmQOb1u3KPPe",
   "metadata": {
    "id": "bmQOb1u3KPPe",
    "outputId": "94e3a63f-248b-4463-b27e-ae4ce3221c65"
   },
   "outputs": [
    {
     "data": {
      "text/plain": [
       "Timedelta('14 days 00:00:00')"
      ]
     },
     "execution_count": 8,
     "metadata": {},
     "output_type": "execute_result"
    }
   ],
   "source": [
    "df['Date'].max() - df['Date'].min()"
   ]
  },
  {
   "cell_type": "code",
   "execution_count": 9,
   "id": "vE18EGJCKPPe",
   "metadata": {
    "id": "vE18EGJCKPPe",
    "outputId": "ea99aa1d-a4c1-4dca-9456-10e391971e12"
   },
   "outputs": [
    {
     "data": {
      "text/html": [
       "<div>\n",
       "<style scoped>\n",
       "    .dataframe tbody tr th:only-of-type {\n",
       "        vertical-align: middle;\n",
       "    }\n",
       "\n",
       "    .dataframe tbody tr th {\n",
       "        vertical-align: top;\n",
       "    }\n",
       "\n",
       "    .dataframe thead th {\n",
       "        text-align: right;\n",
       "    }\n",
       "</style>\n",
       "<table border=\"1\" class=\"dataframe\">\n",
       "  <thead>\n",
       "    <tr style=\"text-align: right;\">\n",
       "      <th></th>\n",
       "      <th>Close Price</th>\n",
       "      <th>High Price</th>\n",
       "      <th>Low Price</th>\n",
       "      <th>Open Price</th>\n",
       "      <th>Volume</th>\n",
       "    </tr>\n",
       "    <tr>\n",
       "      <th>Date</th>\n",
       "      <th></th>\n",
       "      <th></th>\n",
       "      <th></th>\n",
       "      <th></th>\n",
       "      <th></th>\n",
       "    </tr>\n",
       "  </thead>\n",
       "  <tbody>\n",
       "    <tr>\n",
       "      <th>2021-12-10 05:00:00</th>\n",
       "      <td>48246.57</td>\n",
       "      <td>48359.35</td>\n",
       "      <td>48051.08</td>\n",
       "      <td>48170.66</td>\n",
       "      <td>827.39761</td>\n",
       "    </tr>\n",
       "    <tr>\n",
       "      <th>2021-12-10 06:00:00</th>\n",
       "      <td>47847.59</td>\n",
       "      <td>48430.00</td>\n",
       "      <td>47810.81</td>\n",
       "      <td>48249.78</td>\n",
       "      <td>1296.18883</td>\n",
       "    </tr>\n",
       "    <tr>\n",
       "      <th>2021-12-10 07:00:00</th>\n",
       "      <td>47694.62</td>\n",
       "      <td>48037.48</td>\n",
       "      <td>47550.00</td>\n",
       "      <td>47847.59</td>\n",
       "      <td>2299.85298</td>\n",
       "    </tr>\n",
       "    <tr>\n",
       "      <th>2021-12-10 08:00:00</th>\n",
       "      <td>48090.35</td>\n",
       "      <td>48169.06</td>\n",
       "      <td>47587.39</td>\n",
       "      <td>47694.62</td>\n",
       "      <td>1371.25447</td>\n",
       "    </tr>\n",
       "    <tr>\n",
       "      <th>2021-12-10 09:00:00</th>\n",
       "      <td>48366.37</td>\n",
       "      <td>48495.00</td>\n",
       "      <td>47869.80</td>\n",
       "      <td>48090.35</td>\n",
       "      <td>1232.30238</td>\n",
       "    </tr>\n",
       "  </tbody>\n",
       "</table>\n",
       "</div>"
      ],
      "text/plain": [
       "                     Close Price  High Price  Low Price  Open Price  \\\n",
       "Date                                                                  \n",
       "2021-12-10 05:00:00     48246.57    48359.35   48051.08    48170.66   \n",
       "2021-12-10 06:00:00     47847.59    48430.00   47810.81    48249.78   \n",
       "2021-12-10 07:00:00     47694.62    48037.48   47550.00    47847.59   \n",
       "2021-12-10 08:00:00     48090.35    48169.06   47587.39    47694.62   \n",
       "2021-12-10 09:00:00     48366.37    48495.00   47869.80    48090.35   \n",
       "\n",
       "                         Volume  \n",
       "Date                             \n",
       "2021-12-10 05:00:00   827.39761  \n",
       "2021-12-10 06:00:00  1296.18883  \n",
       "2021-12-10 07:00:00  2299.85298  \n",
       "2021-12-10 08:00:00  1371.25447  \n",
       "2021-12-10 09:00:00  1232.30238  "
      ]
     },
     "execution_count": 9,
     "metadata": {},
     "output_type": "execute_result"
    }
   ],
   "source": [
    "df = df.set_index('Date')\n",
    "df.head()"
   ]
  },
  {
   "cell_type": "code",
   "execution_count": 10,
   "id": "KW7AVrjvKPPe",
   "metadata": {
    "id": "KW7AVrjvKPPe",
    "outputId": "1ef8c902-7ce6-469d-c578-8b5f988da583"
   },
   "outputs": [
    {
     "data": {
      "text/html": [
       "<div>\n",
       "<style scoped>\n",
       "    .dataframe tbody tr th:only-of-type {\n",
       "        vertical-align: middle;\n",
       "    }\n",
       "\n",
       "    .dataframe tbody tr th {\n",
       "        vertical-align: top;\n",
       "    }\n",
       "\n",
       "    .dataframe thead th {\n",
       "        text-align: right;\n",
       "    }\n",
       "</style>\n",
       "<table border=\"1\" class=\"dataframe\">\n",
       "  <thead>\n",
       "    <tr style=\"text-align: right;\">\n",
       "      <th></th>\n",
       "      <th>Close Price</th>\n",
       "      <th>High Price</th>\n",
       "      <th>Low Price</th>\n",
       "      <th>Open Price</th>\n",
       "      <th>Volume</th>\n",
       "    </tr>\n",
       "    <tr>\n",
       "      <th>Date</th>\n",
       "      <th></th>\n",
       "      <th></th>\n",
       "      <th></th>\n",
       "      <th></th>\n",
       "      <th></th>\n",
       "    </tr>\n",
       "  </thead>\n",
       "  <tbody>\n",
       "    <tr>\n",
       "      <th>2021-12-10 05:00:00</th>\n",
       "      <td>48246.57</td>\n",
       "      <td>48359.35</td>\n",
       "      <td>48051.08</td>\n",
       "      <td>48170.66</td>\n",
       "      <td>827.39761</td>\n",
       "    </tr>\n",
       "    <tr>\n",
       "      <th>2021-12-10 06:00:00</th>\n",
       "      <td>47847.59</td>\n",
       "      <td>48430.00</td>\n",
       "      <td>47810.81</td>\n",
       "      <td>48249.78</td>\n",
       "      <td>1296.18883</td>\n",
       "    </tr>\n",
       "    <tr>\n",
       "      <th>2021-12-10 07:00:00</th>\n",
       "      <td>47694.62</td>\n",
       "      <td>48037.48</td>\n",
       "      <td>47550.00</td>\n",
       "      <td>47847.59</td>\n",
       "      <td>2299.85298</td>\n",
       "    </tr>\n",
       "    <tr>\n",
       "      <th>2021-12-10 08:00:00</th>\n",
       "      <td>48090.35</td>\n",
       "      <td>48169.06</td>\n",
       "      <td>47587.39</td>\n",
       "      <td>47694.62</td>\n",
       "      <td>1371.25447</td>\n",
       "    </tr>\n",
       "    <tr>\n",
       "      <th>2021-12-10 09:00:00</th>\n",
       "      <td>48366.37</td>\n",
       "      <td>48495.00</td>\n",
       "      <td>47869.80</td>\n",
       "      <td>48090.35</td>\n",
       "      <td>1232.30238</td>\n",
       "    </tr>\n",
       "  </tbody>\n",
       "</table>\n",
       "</div>"
      ],
      "text/plain": [
       "                     Close Price  High Price  Low Price  Open Price  \\\n",
       "Date                                                                  \n",
       "2021-12-10 05:00:00     48246.57    48359.35   48051.08    48170.66   \n",
       "2021-12-10 06:00:00     47847.59    48430.00   47810.81    48249.78   \n",
       "2021-12-10 07:00:00     47694.62    48037.48   47550.00    47847.59   \n",
       "2021-12-10 08:00:00     48090.35    48169.06   47587.39    47694.62   \n",
       "2021-12-10 09:00:00     48366.37    48495.00   47869.80    48090.35   \n",
       "\n",
       "                         Volume  \n",
       "Date                             \n",
       "2021-12-10 05:00:00   827.39761  \n",
       "2021-12-10 06:00:00  1296.18883  \n",
       "2021-12-10 07:00:00  2299.85298  \n",
       "2021-12-10 08:00:00  1371.25447  \n",
       "2021-12-10 09:00:00  1232.30238  "
      ]
     },
     "execution_count": 10,
     "metadata": {},
     "output_type": "execute_result"
    }
   ],
   "source": [
    "df.loc['2021-12-10'].head()"
   ]
  },
  {
   "cell_type": "code",
   "execution_count": 11,
   "id": "5VD0q1vGKPPe",
   "metadata": {
    "id": "5VD0q1vGKPPe",
    "outputId": "beb4b5ba-8c04-492e-c19f-a62e82132a03"
   },
   "outputs": [
    {
     "data": {
      "text/plain": [
       "Date\n",
       "2021-12-10 05:00:00    48246.57\n",
       "2021-12-10 06:00:00    47847.59\n",
       "2021-12-10 07:00:00    47694.62\n",
       "2021-12-10 08:00:00    48090.35\n",
       "2021-12-10 09:00:00    48366.37\n",
       "Name: Close Price, dtype: float64"
      ]
     },
     "execution_count": 11,
     "metadata": {},
     "output_type": "execute_result"
    }
   ],
   "source": [
    "df.loc['2021-12', 'Close Price'].head()"
   ]
  },
  {
   "cell_type": "code",
   "execution_count": 12,
   "id": "geWNjyY9KPPe",
   "metadata": {
    "id": "geWNjyY9KPPe",
    "outputId": "8f2eeb85-3f15-453f-d4e8-b202a6135c02"
   },
   "outputs": [
    {
     "data": {
      "text/html": [
       "<div>\n",
       "<style scoped>\n",
       "    .dataframe tbody tr th:only-of-type {\n",
       "        vertical-align: middle;\n",
       "    }\n",
       "\n",
       "    .dataframe tbody tr th {\n",
       "        vertical-align: top;\n",
       "    }\n",
       "\n",
       "    .dataframe thead th {\n",
       "        text-align: right;\n",
       "    }\n",
       "</style>\n",
       "<table border=\"1\" class=\"dataframe\">\n",
       "  <thead>\n",
       "    <tr style=\"text-align: right;\">\n",
       "      <th></th>\n",
       "      <th>Close Price</th>\n",
       "      <th>High Price</th>\n",
       "      <th>Low Price</th>\n",
       "      <th>Open Price</th>\n",
       "      <th>Volume</th>\n",
       "    </tr>\n",
       "    <tr>\n",
       "      <th>Date</th>\n",
       "      <th></th>\n",
       "      <th></th>\n",
       "      <th></th>\n",
       "      <th></th>\n",
       "      <th></th>\n",
       "    </tr>\n",
       "  </thead>\n",
       "  <tbody>\n",
       "    <tr>\n",
       "      <th>2021-12-10 05:00:00</th>\n",
       "      <td>48246.57</td>\n",
       "      <td>48359.35</td>\n",
       "      <td>48051.08</td>\n",
       "      <td>48170.66</td>\n",
       "      <td>827.39761</td>\n",
       "    </tr>\n",
       "    <tr>\n",
       "      <th>2021-12-10 06:00:00</th>\n",
       "      <td>47847.59</td>\n",
       "      <td>48430.00</td>\n",
       "      <td>47810.81</td>\n",
       "      <td>48249.78</td>\n",
       "      <td>1296.18883</td>\n",
       "    </tr>\n",
       "    <tr>\n",
       "      <th>2021-12-10 07:00:00</th>\n",
       "      <td>47694.62</td>\n",
       "      <td>48037.48</td>\n",
       "      <td>47550.00</td>\n",
       "      <td>47847.59</td>\n",
       "      <td>2299.85298</td>\n",
       "    </tr>\n",
       "    <tr>\n",
       "      <th>2021-12-10 08:00:00</th>\n",
       "      <td>48090.35</td>\n",
       "      <td>48169.06</td>\n",
       "      <td>47587.39</td>\n",
       "      <td>47694.62</td>\n",
       "      <td>1371.25447</td>\n",
       "    </tr>\n",
       "    <tr>\n",
       "      <th>2021-12-10 09:00:00</th>\n",
       "      <td>48366.37</td>\n",
       "      <td>48495.00</td>\n",
       "      <td>47869.80</td>\n",
       "      <td>48090.35</td>\n",
       "      <td>1232.30238</td>\n",
       "    </tr>\n",
       "    <tr>\n",
       "      <th>...</th>\n",
       "      <td>...</td>\n",
       "      <td>...</td>\n",
       "      <td>...</td>\n",
       "      <td>...</td>\n",
       "      <td>...</td>\n",
       "    </tr>\n",
       "    <tr>\n",
       "      <th>2021-12-12 19:00:00</th>\n",
       "      <td>50221.05</td>\n",
       "      <td>50600.00</td>\n",
       "      <td>50014.48</td>\n",
       "      <td>50468.71</td>\n",
       "      <td>1283.56200</td>\n",
       "    </tr>\n",
       "    <tr>\n",
       "      <th>2021-12-12 20:00:00</th>\n",
       "      <td>50270.58</td>\n",
       "      <td>50547.07</td>\n",
       "      <td>50147.80</td>\n",
       "      <td>50221.05</td>\n",
       "      <td>762.99289</td>\n",
       "    </tr>\n",
       "    <tr>\n",
       "      <th>2021-12-12 21:00:00</th>\n",
       "      <td>49950.05</td>\n",
       "      <td>50317.77</td>\n",
       "      <td>49862.75</td>\n",
       "      <td>50266.13</td>\n",
       "      <td>917.78949</td>\n",
       "    </tr>\n",
       "    <tr>\n",
       "      <th>2021-12-12 22:00:00</th>\n",
       "      <td>50272.02</td>\n",
       "      <td>50298.99</td>\n",
       "      <td>49920.03</td>\n",
       "      <td>49950.05</td>\n",
       "      <td>749.98746</td>\n",
       "    </tr>\n",
       "    <tr>\n",
       "      <th>2021-12-12 23:00:00</th>\n",
       "      <td>50053.90</td>\n",
       "      <td>50358.24</td>\n",
       "      <td>49950.00</td>\n",
       "      <td>50272.02</td>\n",
       "      <td>674.86106</td>\n",
       "    </tr>\n",
       "  </tbody>\n",
       "</table>\n",
       "<p>67 rows × 5 columns</p>\n",
       "</div>"
      ],
      "text/plain": [
       "                     Close Price  High Price  Low Price  Open Price  \\\n",
       "Date                                                                  \n",
       "2021-12-10 05:00:00     48246.57    48359.35   48051.08    48170.66   \n",
       "2021-12-10 06:00:00     47847.59    48430.00   47810.81    48249.78   \n",
       "2021-12-10 07:00:00     47694.62    48037.48   47550.00    47847.59   \n",
       "2021-12-10 08:00:00     48090.35    48169.06   47587.39    47694.62   \n",
       "2021-12-10 09:00:00     48366.37    48495.00   47869.80    48090.35   \n",
       "...                          ...         ...        ...         ...   \n",
       "2021-12-12 19:00:00     50221.05    50600.00   50014.48    50468.71   \n",
       "2021-12-12 20:00:00     50270.58    50547.07   50147.80    50221.05   \n",
       "2021-12-12 21:00:00     49950.05    50317.77   49862.75    50266.13   \n",
       "2021-12-12 22:00:00     50272.02    50298.99   49920.03    49950.05   \n",
       "2021-12-12 23:00:00     50053.90    50358.24   49950.00    50272.02   \n",
       "\n",
       "                         Volume  \n",
       "Date                             \n",
       "2021-12-10 05:00:00   827.39761  \n",
       "2021-12-10 06:00:00  1296.18883  \n",
       "2021-12-10 07:00:00  2299.85298  \n",
       "2021-12-10 08:00:00  1371.25447  \n",
       "2021-12-10 09:00:00  1232.30238  \n",
       "...                         ...  \n",
       "2021-12-12 19:00:00  1283.56200  \n",
       "2021-12-12 20:00:00   762.99289  \n",
       "2021-12-12 21:00:00   917.78949  \n",
       "2021-12-12 22:00:00   749.98746  \n",
       "2021-12-12 23:00:00   674.86106  \n",
       "\n",
       "[67 rows x 5 columns]"
      ]
     },
     "execution_count": 12,
     "metadata": {},
     "output_type": "execute_result"
    }
   ],
   "source": [
    "df.loc['2021-12-10':'2021-12-12']"
   ]
  },
  {
   "cell_type": "markdown",
   "id": "JIMF__TpKPPe",
   "metadata": {
    "id": "JIMF__TpKPPe"
   },
   "source": [
    "### 16-3 重採樣 resample\n",
    "#### [DateOffsets](https://pandas.pydata.org/pandas-docs/stable/user_guide/timeseries.html#dateoffset-objects)"
   ]
  },
  {
   "cell_type": "code",
   "execution_count": 14,
   "id": "1KDvQTovKPPe",
   "metadata": {
    "id": "1KDvQTovKPPe",
    "outputId": "c4503886-10eb-4268-b0ba-8706c844d2d0"
   },
   "outputs": [
    {
     "data": {
      "text/html": [
       "<div>\n",
       "<style scoped>\n",
       "    .dataframe tbody tr th:only-of-type {\n",
       "        vertical-align: middle;\n",
       "    }\n",
       "\n",
       "    .dataframe tbody tr th {\n",
       "        vertical-align: top;\n",
       "    }\n",
       "\n",
       "    .dataframe thead th {\n",
       "        text-align: right;\n",
       "    }\n",
       "</style>\n",
       "<table border=\"1\" class=\"dataframe\">\n",
       "  <thead>\n",
       "    <tr style=\"text-align: right;\">\n",
       "      <th></th>\n",
       "      <th>Close Price</th>\n",
       "      <th>High Price</th>\n",
       "      <th>Low Price</th>\n",
       "      <th>Open Price</th>\n",
       "      <th>Volume</th>\n",
       "    </tr>\n",
       "    <tr>\n",
       "      <th>Date</th>\n",
       "      <th></th>\n",
       "      <th></th>\n",
       "      <th></th>\n",
       "      <th></th>\n",
       "      <th></th>\n",
       "    </tr>\n",
       "  </thead>\n",
       "  <tbody>\n",
       "    <tr>\n",
       "      <th>2021-12-10</th>\n",
       "      <td>48121.444737</td>\n",
       "      <td>48509.807895</td>\n",
       "      <td>47808.685789</td>\n",
       "      <td>48175.862632</td>\n",
       "      <td>1948.973259</td>\n",
       "    </tr>\n",
       "    <tr>\n",
       "      <th>2021-12-11</th>\n",
       "      <td>48461.897083</td>\n",
       "      <td>48727.740000</td>\n",
       "      <td>48187.683333</td>\n",
       "      <td>48367.873750</td>\n",
       "      <td>1203.716399</td>\n",
       "    </tr>\n",
       "    <tr>\n",
       "      <th>2021-12-12</th>\n",
       "      <td>49547.267083</td>\n",
       "      <td>49765.524583</td>\n",
       "      <td>49340.160000</td>\n",
       "      <td>49519.259167</td>\n",
       "      <td>1084.080592</td>\n",
       "    </tr>\n",
       "    <tr>\n",
       "      <th>2021-12-13</th>\n",
       "      <td>48138.488333</td>\n",
       "      <td>48478.125417</td>\n",
       "      <td>47835.047917</td>\n",
       "      <td>48278.071667</td>\n",
       "      <td>2119.563372</td>\n",
       "    </tr>\n",
       "    <tr>\n",
       "      <th>2021-12-14</th>\n",
       "      <td>47201.301250</td>\n",
       "      <td>47468.922500</td>\n",
       "      <td>46882.182083</td>\n",
       "      <td>47132.922083</td>\n",
       "      <td>1664.832685</td>\n",
       "    </tr>\n",
       "  </tbody>\n",
       "</table>\n",
       "</div>"
      ],
      "text/plain": [
       "             Close Price    High Price     Low Price    Open Price  \\\n",
       "Date                                                                 \n",
       "2021-12-10  48121.444737  48509.807895  47808.685789  48175.862632   \n",
       "2021-12-11  48461.897083  48727.740000  48187.683333  48367.873750   \n",
       "2021-12-12  49547.267083  49765.524583  49340.160000  49519.259167   \n",
       "2021-12-13  48138.488333  48478.125417  47835.047917  48278.071667   \n",
       "2021-12-14  47201.301250  47468.922500  46882.182083  47132.922083   \n",
       "\n",
       "                 Volume  \n",
       "Date                     \n",
       "2021-12-10  1948.973259  \n",
       "2021-12-11  1203.716399  \n",
       "2021-12-12  1084.080592  \n",
       "2021-12-13  2119.563372  \n",
       "2021-12-14  1664.832685  "
      ]
     },
     "execution_count": 14,
     "metadata": {},
     "output_type": "execute_result"
    }
   ],
   "source": [
    "df = df.resample('D').mean()\n",
    "df.head()"
   ]
  },
  {
   "cell_type": "code",
   "execution_count": 15,
   "id": "YArzoBH8KPPe",
   "metadata": {
    "id": "YArzoBH8KPPe",
    "outputId": "215ee159-8786-4f64-98f7-988a85a44b5d",
    "scrolled": true
   },
   "outputs": [
    {
     "data": {
      "text/html": [
       "<div>\n",
       "<style scoped>\n",
       "    .dataframe tbody tr th:only-of-type {\n",
       "        vertical-align: middle;\n",
       "    }\n",
       "\n",
       "    .dataframe tbody tr th {\n",
       "        vertical-align: top;\n",
       "    }\n",
       "\n",
       "    .dataframe thead th {\n",
       "        text-align: right;\n",
       "    }\n",
       "</style>\n",
       "<table border=\"1\" class=\"dataframe\">\n",
       "  <thead>\n",
       "    <tr style=\"text-align: right;\">\n",
       "      <th></th>\n",
       "      <th>Close Price</th>\n",
       "      <th>High Price</th>\n",
       "      <th>Low Price</th>\n",
       "      <th>Open Price</th>\n",
       "      <th>Volume</th>\n",
       "    </tr>\n",
       "    <tr>\n",
       "      <th>Date</th>\n",
       "      <th></th>\n",
       "      <th></th>\n",
       "      <th></th>\n",
       "      <th></th>\n",
       "      <th></th>\n",
       "    </tr>\n",
       "  </thead>\n",
       "  <tbody>\n",
       "    <tr>\n",
       "      <th>2021-12-10</th>\n",
       "      <td>48121.444737</td>\n",
       "      <td>48509.807895</td>\n",
       "      <td>47808.685789</td>\n",
       "      <td>48175.862632</td>\n",
       "      <td>1948.973259</td>\n",
       "    </tr>\n",
       "    <tr>\n",
       "      <th>2021-12-11</th>\n",
       "      <td>48461.897083</td>\n",
       "      <td>48727.740000</td>\n",
       "      <td>48187.683333</td>\n",
       "      <td>48367.873750</td>\n",
       "      <td>1203.716399</td>\n",
       "    </tr>\n",
       "    <tr>\n",
       "      <th>2021-12-12</th>\n",
       "      <td>49547.267083</td>\n",
       "      <td>49765.524583</td>\n",
       "      <td>49340.160000</td>\n",
       "      <td>49519.259167</td>\n",
       "      <td>1084.080592</td>\n",
       "    </tr>\n",
       "    <tr>\n",
       "      <th>2021-12-13</th>\n",
       "      <td>48138.488333</td>\n",
       "      <td>48478.125417</td>\n",
       "      <td>47835.047917</td>\n",
       "      <td>48278.071667</td>\n",
       "      <td>2119.563372</td>\n",
       "    </tr>\n",
       "    <tr>\n",
       "      <th>2021-12-14</th>\n",
       "      <td>47201.301250</td>\n",
       "      <td>47468.922500</td>\n",
       "      <td>46882.182083</td>\n",
       "      <td>47132.922083</td>\n",
       "      <td>1664.832685</td>\n",
       "    </tr>\n",
       "  </tbody>\n",
       "</table>\n",
       "</div>"
      ],
      "text/plain": [
       "             Close Price    High Price     Low Price    Open Price  \\\n",
       "Date                                                                 \n",
       "2021-12-10  48121.444737  48509.807895  47808.685789  48175.862632   \n",
       "2021-12-11  48461.897083  48727.740000  48187.683333  48367.873750   \n",
       "2021-12-12  49547.267083  49765.524583  49340.160000  49519.259167   \n",
       "2021-12-13  48138.488333  48478.125417  47835.047917  48278.071667   \n",
       "2021-12-14  47201.301250  47468.922500  46882.182083  47132.922083   \n",
       "\n",
       "                 Volume  \n",
       "Date                     \n",
       "2021-12-10  1948.973259  \n",
       "2021-12-11  1203.716399  \n",
       "2021-12-12  1084.080592  \n",
       "2021-12-13  2119.563372  \n",
       "2021-12-14  1664.832685  "
      ]
     },
     "execution_count": 15,
     "metadata": {},
     "output_type": "execute_result"
    }
   ],
   "source": [
    "df = df.resample('D').agg({'Close Price': 'last', 'High Price': 'max', 'Low Price': 'min','Open Price': 'first','Volume': 'sum'})\n",
    "df.head()"
   ]
  },
  {
   "cell_type": "code",
   "execution_count": null,
   "id": "UHxfEaKUKPPe",
   "metadata": {
    "id": "UHxfEaKUKPPe"
   },
   "outputs": [],
   "source": []
  }
 ],
 "metadata": {
  "colab": {
   "provenance": []
  },
  "kernelspec": {
   "display_name": "Python 3 (ipykernel)",
   "language": "python",
   "name": "python3"
  },
  "language_info": {
   "codemirror_mode": {
    "name": "ipython",
    "version": 3
   },
   "file_extension": ".py",
   "mimetype": "text/x-python",
   "name": "python",
   "nbconvert_exporter": "python",
   "pygments_lexer": "ipython3",
   "version": "3.10.9"
  }
 },
 "nbformat": 4,
 "nbformat_minor": 5
}
